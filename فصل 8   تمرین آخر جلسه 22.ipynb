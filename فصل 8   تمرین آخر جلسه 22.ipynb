{
 "cells": [
  {
   "cell_type": "code",
   "execution_count": 1,
   "id": "19d74b7a",
   "metadata": {},
   "outputs": [
    {
     "name": "stdout",
     "output_type": "stream",
     "text": [
      "X\n",
      "L\n",
      "XL\n"
     ]
    }
   ],
   "source": [
    "nested_list = [['Skirt', ['S','M','L'], 100], \n",
    "               ['Jeans',['S','L','XL'], 80]]\n",
    "#What would be the output?\n",
    "print(nested_list[1][1][2][0])\n",
    "print(nested_list[1][1][2][1])\n",
    "print(nested_list[1][1][2][:])"
   ]
  }
 ],
 "metadata": {
  "kernelspec": {
   "display_name": "Python 3 (ipykernel)",
   "language": "python",
   "name": "python3"
  },
  "language_info": {
   "codemirror_mode": {
    "name": "ipython",
    "version": 3
   },
   "file_extension": ".py",
   "mimetype": "text/x-python",
   "name": "python",
   "nbconvert_exporter": "python",
   "pygments_lexer": "ipython3",
   "version": "3.9.5"
  }
 },
 "nbformat": 4,
 "nbformat_minor": 5
}
