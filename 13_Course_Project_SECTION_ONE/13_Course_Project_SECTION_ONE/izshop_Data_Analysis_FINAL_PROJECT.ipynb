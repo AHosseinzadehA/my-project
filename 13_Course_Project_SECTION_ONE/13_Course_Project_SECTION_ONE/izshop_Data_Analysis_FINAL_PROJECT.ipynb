{
 "cells": [
  {
   "cell_type": "markdown",
   "id": "41c9e3dc",
   "metadata": {},
   "source": [
    "## 🔸 Final Project: Black Friday Sales Analysis\n",
    "\n",
    "😎: Welcome to the Final Project of this part of the course.\n",
    "\n",
    "😎: I have a BIG final ask for you! we now need to analyze our **Black Friday Sales** data. In the Excel workbook attached to the last email, you'll see the we're missing data for **taxes** and **totals**. Can you fill in those rows of data using Python?\n",
    "\n",
    "\n",
    "😌✌🏼: Great work on fixing data. Thank you!\n",
    "\n",
    "😌✌🏼: **Now the fun part! - It's time for analysis.** \n",
    "\n",
    "😌✌🏼: We need to calculate some important metrics by aggregating our data, which will be supper helpful for determining how well we performed during **Black Friday**. "
   ]
  },
  {
   "cell_type": "markdown",
   "id": "ab774c9d",
   "metadata": {},
   "source": [
    "---\n",
    "\n",
    "### 🔹 Part 1 (Data Preparation)\n",
    "\n",
    "1. First read in **`izshop_data.xlsx`** file.\n",
    "\n",
    "2. Then assign the **`Orders`** sheet to a proper variable."
   ]
  },
  {
   "cell_type": "markdown",
   "id": "f2d60149",
   "metadata": {},
   "source": [
    "### 1. Importing Main Libraries"
   ]
  },
  {
   "cell_type": "code",
   "execution_count": null,
   "id": "26197778",
   "metadata": {},
   "outputs": [],
   "source": [
    "import openpyxl as xl\n",
    "import matplotlib.pyplot as plt\n",
    "\n",
    "# pprint or prettyprint displays complex dictionary in a nice format :) \n",
    "from pprint import pprint"
   ]
  },
  {
   "cell_type": "code",
   "execution_count": null,
   "id": "cd10fce3",
   "metadata": {},
   "outputs": [],
   "source": [
    "# Write your code here:\n",
    "wb = # ? \n",
    "\n",
    "orders = # ?"
   ]
  },
  {
   "cell_type": "markdown",
   "id": "6ed3054b",
   "metadata": {},
   "source": [
    "### 2. Column Printer Function\n",
    "\n",
    "🔸 Because we're working with Excel file repeatedly. Let's define a **helper function** to print all the rows in a specified column. \n",
    "\n",
    "🔸 This function will help us to **view imported data without needing to open up the Excel file**. \n",
    "\n",
    "🔸 **Your function should have these arguments:**\n",
    "\n",
    "1. Worksheet where data is located.\n",
    "2. Column letter of data to print\n",
    "\n",
    "🔸 **Your function should do the followings:**\n",
    "1. Print cell coordinate (A1, C3, ...)\n",
    "2. Print the content of the cell\n",
    "\n",
    "🔸 Then call your function **two times**:\n",
    "1. Once to print **Order_ID**\n",
    "2. Once to print **Location**"
   ]
  },
  {
   "cell_type": "code",
   "execution_count": null,
   "id": "8381d78f",
   "metadata": {},
   "outputs": [],
   "source": [
    "def column_printer(worksheet, column_name):\n",
    "    pass"
   ]
  },
  {
   "cell_type": "code",
   "execution_count": null,
   "id": "7031619d",
   "metadata": {},
   "outputs": [],
   "source": [
    "# Column letter --> 'A'\n"
   ]
  },
  {
   "cell_type": "code",
   "execution_count": null,
   "id": "54dd0944",
   "metadata": {},
   "outputs": [],
   "source": [
    "# Column letter --> 'G'\n"
   ]
  },
  {
   "cell_type": "markdown",
   "id": "3c88e511",
   "metadata": {},
   "source": [
    "## 3. Order Data Dictionary\n",
    "\n",
    "🔸 Create a **`dictionary`** with **all of the information** contained in **Orders** worksheet. \n",
    "\n",
    "* The dictionary keys should be **Order_ID** (Column A)\n",
    "* The value should be a **list** storing the remaining data of other columns\n",
    "* The columns in the list should store data from columns **B**, **C**, **D**, **G**, and **H**\n",
    "\n",
    "💡 **A few tips to consider:**\n",
    "\n",
    "1. Convert the **Ordered_Items** into a list (There is a helpful method for it)\n",
    "2. You can use *dictionary comprehension* to solve this part.\n",
    "3. Don't include Excel column headers."
   ]
  },
  {
   "cell_type": "code",
   "execution_count": null,
   "id": "064f3172",
   "metadata": {},
   "outputs": [],
   "source": [
    "# Write your code here:\n"
   ]
  },
  {
   "cell_type": "code",
   "execution_count": null,
   "id": "5afb5d65",
   "metadata": {},
   "outputs": [],
   "source": [
    "pprint(orders_dict)"
   ]
  },
  {
   "cell_type": "markdown",
   "id": "93922c90",
   "metadata": {},
   "source": [
    "## 4. Sales Tax Calculation\n",
    "\n",
    "🔸 At this step, It's required to fill in the missing columns-**Tax** and **Total**. The tax rate differs for different locations as follows. (Consider them in your calculation)\n",
    "\n",
    "* If location is **Belgium**, apply a tax rate of **6%**\n",
    "* If location is **Denmark**, apply a tax rate of **25%**\n",
    "* If location is **Germany**, apply a tax rate of **7%**\n",
    "* If location is **Italy**, apply a tax rate of **10%**\n",
    "* If location is **Spain**, apply a tax rate of **9%**\n",
    "\n",
    "🔸 Use **tax_calculator** function to apply sales tax to each subtotal.\n",
    "\n",
    "🔸 Insert the calculated sales tax and total amounts into the `orders_dict` immediately after `subtotal`.\n"
   ]
  },
  {
   "cell_type": "code",
   "execution_count": null,
   "id": "0eb858bd",
   "metadata": {},
   "outputs": [],
   "source": [
    "from tax_calculator import tax_calculator"
   ]
  },
  {
   "cell_type": "code",
   "execution_count": null,
   "id": "494dbb17",
   "metadata": {},
   "outputs": [],
   "source": [
    "# Write your code here:\n"
   ]
  },
  {
   "cell_type": "code",
   "execution_count": null,
   "id": "99ea4a3d",
   "metadata": {
    "scrolled": false
   },
   "outputs": [],
   "source": [
    "pprint(orders_dict)"
   ]
  },
  {
   "cell_type": "markdown",
   "id": "e52df87e",
   "metadata": {},
   "source": [
    "### 5. Write Sales Tax and Total Into The Excel Sheet\n",
    "\n",
    "🔸 Well Done! Now we need to write these information into a **new** Excel file. \n",
    "\n",
    "* Write the sale tax and total you just calculated into the workbook, then save it!\n",
    "* Save the Excel file as **izshop_data_fixed.xlsx** "
   ]
  },
  {
   "cell_type": "code",
   "execution_count": null,
   "id": "ac1cc700",
   "metadata": {},
   "outputs": [],
   "source": []
  },
  {
   "cell_type": "code",
   "execution_count": null,
   "id": "4b04a9f6",
   "metadata": {},
   "outputs": [],
   "source": [
    "# Save your work\n"
   ]
  },
  {
   "cell_type": "markdown",
   "id": "0d484101",
   "metadata": {},
   "source": [
    "---\n",
    "\n",
    "### 🔹 Part 2 (Analysis Time)\n",
    "\n",
    "🔸 Now that we have preprocessed our data and filled in our missing columns. It's time to perform some analysis of our data. \n",
    "\n",
    "🔸 Our starting point is the **orders_dict** with two recently added columns. \n",
    "\n",
    "* Our first mission will be to write a function that calculates the **sum** of a **column field** of data in our dictionary.\n",
    "\n",
    "* A **column** for example, can be **subtotal**, which is at index `2` in the list stored as value in the **orders_dict**. \n",
    "\n",
    "\n",
    "* **You function should take in the following arguments:**\n",
    "    1. Column Index\n",
    "    2. Dictionay Name\n",
    "    \n",
    "* **The Function output should be:**\n",
    "    1. The sum of values in the column (rounded to **two decimal places**)\n",
    "    \n",
    "**Assume you use this function for columns with numeric values**\n",
    "\n",
    "💡**Tip**: Use a list comprehension to retrieve the values of interest."
   ]
  },
  {
   "cell_type": "code",
   "execution_count": null,
   "id": "44141559",
   "metadata": {},
   "outputs": [],
   "source": [
    "def column_sum(dict_name, col_index):\n",
    "    pass"
   ]
  },
  {
   "cell_type": "markdown",
   "id": "d20520db",
   "metadata": {},
   "source": [
    "### 6. Sum The Subtotal, Tax, and Total Columns\n",
    "\n",
    "🔸 Now that we have our function, you can apply it on:\n",
    "\n",
    "* `Subtotal` (index **2** in orders_dict)\n",
    "* `Tax` (index **3** in orders_dict)\n",
    "* `Total` (index **4** in orders_dict)"
   ]
  },
  {
   "cell_type": "code",
   "execution_count": null,
   "id": "3d4ecd36",
   "metadata": {},
   "outputs": [],
   "source": [
    "# Use \"column_sum()\" function on --> subtotal, tax, total column\n"
   ]
  },
  {
   "cell_type": "markdown",
   "id": "d550caf5",
   "metadata": {},
   "source": [
    "### 7. What Is The Average of Our Subtotal?\n",
    "\n",
    "🔸 Calculate the average of our subtotals."
   ]
  },
  {
   "cell_type": "code",
   "execution_count": null,
   "id": "2778d61f",
   "metadata": {},
   "outputs": [],
   "source": [
    "# Write your code here:\n"
   ]
  },
  {
   "cell_type": "code",
   "execution_count": null,
   "id": "de5bfb93",
   "metadata": {},
   "outputs": [],
   "source": [
    "print(f'The average of subtotal --> {average}')"
   ]
  },
  {
   "cell_type": "markdown",
   "id": "0470578e",
   "metadata": {},
   "source": [
    "### 8. How Many Unique Customers Did We Have? \n",
    "\n",
    "🔸 Calculate the total number of **unique customers** in our sales data.\n",
    "\n",
    "🔸 Then calculate the number of orders per customer. (total orders / unique customers)"
   ]
  },
  {
   "cell_type": "code",
   "execution_count": null,
   "id": "7b1039fc",
   "metadata": {},
   "outputs": [],
   "source": [
    "# Write your code here:\n"
   ]
  },
  {
   "cell_type": "code",
   "execution_count": null,
   "id": "f9e22d68",
   "metadata": {},
   "outputs": [],
   "source": [
    "print(f'There are {len(customers)} customers in our sales data')"
   ]
  },
  {
   "cell_type": "code",
   "execution_count": null,
   "id": "8d9352de",
   "metadata": {},
   "outputs": [],
   "source": [
    "# Orders per customer\n"
   ]
  },
  {
   "cell_type": "code",
   "execution_count": null,
   "id": "b0e5efe9",
   "metadata": {},
   "outputs": [],
   "source": [
    "print(f'Order Per Customer --> {order_per_customer}')"
   ]
  },
  {
   "cell_type": "markdown",
   "id": "6372e826",
   "metadata": {},
   "source": [
    "### 9. Find The Best Selling Item In Our Data\n",
    "\n",
    "🔸 Calculate the number of times a product appeared in a customer's cart then find the **best selling** item."
   ]
  },
  {
   "cell_type": "code",
   "execution_count": null,
   "id": "93a81cf0",
   "metadata": {},
   "outputs": [],
   "source": [
    "# Let's review our data --> orders_dict['O2000']\n",
    "orders_dict['O2000']"
   ]
  },
  {
   "cell_type": "code",
   "execution_count": null,
   "id": "8508b3d9",
   "metadata": {},
   "outputs": [],
   "source": []
  },
  {
   "cell_type": "code",
   "execution_count": null,
   "id": "88cfdf04",
   "metadata": {},
   "outputs": [],
   "source": [
    "sold_items_list"
   ]
  },
  {
   "cell_type": "code",
   "execution_count": null,
   "id": "411b770b",
   "metadata": {},
   "outputs": [],
   "source": [
    "# Method (1) --> Using Membership Operator & if Statement\n"
   ]
  },
  {
   "cell_type": "code",
   "execution_count": null,
   "id": "17865f37",
   "metadata": {},
   "outputs": [],
   "source": [
    "sold_items_dict"
   ]
  },
  {
   "cell_type": "code",
   "execution_count": null,
   "id": "53096da3",
   "metadata": {},
   "outputs": [],
   "source": [
    "# Method (2) --> Using .get() Method\n"
   ]
  },
  {
   "cell_type": "code",
   "execution_count": null,
   "id": "4e011741",
   "metadata": {},
   "outputs": [],
   "source": [
    "sold_items_dict"
   ]
  },
  {
   "cell_type": "markdown",
   "id": "e08a3458",
   "metadata": {},
   "source": [
    "### 10. How Many Unique Items in Total Did We Sell? \n",
    "\n",
    "🔸 Calculate the total number of items we sold across all orders."
   ]
  },
  {
   "cell_type": "code",
   "execution_count": null,
   "id": "109ce8d2",
   "metadata": {},
   "outputs": [],
   "source": []
  },
  {
   "cell_type": "markdown",
   "id": "df8c5b5d",
   "metadata": {},
   "source": [
    "### 11. How Many Sales By Location?\n",
    "\n",
    "🔸 Calculate the sum of subtotals by **location**.\n",
    "\n",
    "🔸 Create a dictionary to store them, where **location** is **key**, and **amount of purchase** for that location is the **value**.\n",
    "\n",
    "💡 **A few steps to consider:**\n",
    "\n",
    "* Loop through your dictionary \n",
    "* Build a dictionary with location as key\n",
    "* Increase the amount of purchase every time a transaction matches the location\n",
    "\n",
    "👀 `Your output should be like this:`\n",
    "\n",
    "\n",
    "```terminal\n",
    "{'location1': sum of subtotals for location1}\n",
    "```\n"
   ]
  },
  {
   "cell_type": "code",
   "execution_count": null,
   "id": "99f15e4c",
   "metadata": {},
   "outputs": [],
   "source": [
    "# Method (1) --> Using Membership Operator & if Statement\n",
    "location_sums = {}\n"
   ]
  },
  {
   "cell_type": "code",
   "execution_count": null,
   "id": "f07c8052",
   "metadata": {},
   "outputs": [],
   "source": [
    "location_sums"
   ]
  },
  {
   "cell_type": "code",
   "execution_count": null,
   "id": "27e48f3b",
   "metadata": {},
   "outputs": [],
   "source": [
    "# Method (2) --> Using \".get()\" Method \n",
    "location_sums = {}\n"
   ]
  },
  {
   "cell_type": "code",
   "execution_count": null,
   "id": "4d8a4400",
   "metadata": {},
   "outputs": [],
   "source": [
    "location_sums"
   ]
  },
  {
   "cell_type": "markdown",
   "id": "1f3701b2",
   "metadata": {},
   "source": [
    "😎 The following code snippet is used to visualize the previous result.\n",
    "\n",
    "😎 In the future course, we will learn how to create amazing plots using [**matplotlib**](https://matplotlib.org/stable/plot_types/index.html) and [**seaborn**](https://seaborn.pydata.org/) in depth. "
   ]
  },
  {
   "cell_type": "code",
   "execution_count": null,
   "id": "9077f254",
   "metadata": {},
   "outputs": [],
   "source": [
    "# Creating the figure and axes\n",
    "fig, ax = plt.subplots(figsize=(7, 4), dpi=100)\n",
    "\n",
    "# Creating the bar plot\n",
    "ax.bar(location_sums.keys(), location_sums.values(), color='#7F7FD5')\n",
    "\n",
    "# Customizing the plot\n",
    "ax.set_title('Sales By Location', fontsize=12)\n",
    "ax.set_xlabel('Location', fontsize=10)\n",
    "ax.set_ylabel('Sales', fontsize=10)\n",
    "\n",
    "# Showing the plot\n",
    "plt.show()"
   ]
  },
  {
   "cell_type": "markdown",
   "id": "dae0678b",
   "metadata": {},
   "source": [
    "### 🔥 Challenge: Aggregator Function\n",
    "\n",
    "🔸 Now that you have summed revenue by the products and location, In this part I want to ask you to define a **general function** to perform this logic for the column of interest. (for example, sum of totals by date or cusomter_id, or location ...) \n",
    "\n",
    "🔸 **Your function should take the following arguments:**\n",
    "\n",
    "* Index of the **column** (index position from orders_dict) to group by\n",
    "* Index of the **column** (index position in orders_dict) to sum by category\n",
    "* The dictionary where the data is stored. \n",
    "\n",
    "🔸 **It should return:**\n",
    "\n",
    "* A dictionary with the **categories** as **keys** and the **sum by category** as **value**.\n",
    "\n",
    "🔸 Once you've completed your function, to sum up all totals by **date** and **customer**"
   ]
  },
  {
   "cell_type": "code",
   "execution_count": null,
   "id": "f8d90de4",
   "metadata": {},
   "outputs": [],
   "source": [
    "def aggregator(groupby_index, sum_index, data_dict):\n",
    "    pass"
   ]
  },
  {
   "cell_type": "code",
   "execution_count": null,
   "id": "af5c42d6",
   "metadata": {},
   "outputs": [],
   "source": [
    "# date column --> index 1 & total column --> index 4\n",
    "aggregator(1, 4, orders_dict)"
   ]
  },
  {
   "cell_type": "code",
   "execution_count": null,
   "id": "f2e021b9",
   "metadata": {},
   "outputs": [],
   "source": [
    "# customer id --> index 0 & total column --> index 4\n",
    "aggregator(0, 4, orders_dict)"
   ]
  },
  {
   "cell_type": "markdown",
   "id": "99d9b887",
   "metadata": {},
   "source": [
    "---\n",
    "<a name=\"end\"></a>\n",
    "### The End\n",
    "\n",
    "😎✌🏼 Yeah! We finally reached the end of the this course. It was my pleasure being with you and experiencing programming alongside with each other. **How was the course?** 😎👀 **Was it useful?** <mark>If so I appreciate you if you introduce the course to your friends, colleagues</mark>❤ (I don't know why my heart is displayed black. Now it's a pure red one 😃)\n",
    "\n",
    "📝 This Jupyter notebook has been created by [Ahmad Ahmadi](https://www.linkedin.com/in/ahmad-ahmadi95/). Please follow me and [izlearn](https://www.linkedin.com/company/izlearn) on LinkedIn social media.  \n",
    "\n",
    "🌐 Visit your website for more courses [izlearn.ir](https://izlearn.ir)"
   ]
  }
 ],
 "metadata": {
  "kernelspec": {
   "display_name": "Python 3 (ipykernel)",
   "language": "python",
   "name": "python3"
  },
  "language_info": {
   "codemirror_mode": {
    "name": "ipython",
    "version": 3
   },
   "file_extension": ".py",
   "mimetype": "text/x-python",
   "name": "python",
   "nbconvert_exporter": "python",
   "pygments_lexer": "ipython3",
   "version": "3.9.5"
  }
 },
 "nbformat": 4,
 "nbformat_minor": 5
}
