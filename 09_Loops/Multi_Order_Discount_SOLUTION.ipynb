{
 "cells": [
  {
   "cell_type": "markdown",
   "id": "8366cdb6",
   "metadata": {},
   "source": [
    "## • Apply Discount For Multi-Order Customers\n",
    "\n",
    "🔸 We need to apply a **20%** discount to **every transaction** in the list below. \n",
    "\n",
    "🔸 Assign the discounted transactions to a new list: `discounted_prices`. \n",
    "\n",
    "🔸 **Expected output:** \n",
    "```\n",
    "[[4.79, 23.98, 79.99],\n",
    " [172.18, 112.4, 6.38, 19.99],\n",
    " [92.79, 54.67],\n",
    " [116.64, 40.79]]\n",
    "```"
   ]
  },
  {
   "cell_type": "code",
   "execution_count": 1,
   "id": "170d1eb5",
   "metadata": {},
   "outputs": [],
   "source": [
    "orders_c00001 = [5.99, 29.98, 99.99]\n",
    "orders_c00002 = [215.23, 140.5, 7.97, 24.99]\n",
    "orders_c00005 = [115.99, 68.34]\n",
    "orders_c00018 = [145.8, 50.99]"
   ]
  },
  {
   "cell_type": "code",
   "execution_count": 2,
   "id": "7a04c574",
   "metadata": {},
   "outputs": [],
   "source": [
    "multi_order_customers = [orders_c00001, orders_c00002,\n",
    "                          orders_c00005, orders_c00018]"
   ]
  },
  {
   "cell_type": "code",
   "execution_count": 3,
   "id": "fcbed170",
   "metadata": {},
   "outputs": [
    {
     "data": {
      "text/plain": [
       "[[5.99, 29.98, 99.99],\n",
       " [215.23, 140.5, 7.97, 24.99],\n",
       " [115.99, 68.34],\n",
       " [145.8, 50.99]]"
      ]
     },
     "execution_count": 3,
     "metadata": {},
     "output_type": "execute_result"
    }
   ],
   "source": [
    "multi_order_customers"
   ]
  },
  {
   "cell_type": "markdown",
   "id": "0241a4d9",
   "metadata": {},
   "source": [
    "---\n",
    "\n",
    "💡 You need to use **nested for** to complete this assignment.\n",
    "\n",
    "💡 You need to <span style='color:darkgreen;font-family:consolas;font-weight:bold;'>round</span>( ) your **discounted price** to two decimal places."
   ]
  },
  {
   "cell_type": "code",
   "execution_count": 8,
   "id": "b1a8d61a",
   "metadata": {},
   "outputs": [
    {
     "name": "stdout",
     "output_type": "stream",
     "text": [
      "Done!\n"
     ]
    }
   ],
   "source": [
    "discounted_prices = []\n",
    "for customer_orders in multi_order_customers:\n",
    "    temp_list = []\n",
    "    for order in customer_orders:\n",
    "        discounted_transaction = round(order * 0.8, 2)\n",
    "        temp_list.append(discounted_transaction)\n",
    "    discounted_prices.append(temp_list)\n",
    "    \n",
    "print('Done!')"
   ]
  },
  {
   "cell_type": "code",
   "execution_count": 9,
   "id": "4064b029",
   "metadata": {},
   "outputs": [
    {
     "data": {
      "text/plain": [
       "[[4.79, 23.98, 79.99],\n",
       " [172.18, 112.4, 6.38, 19.99],\n",
       " [92.79, 54.67],\n",
       " [116.64, 40.79]]"
      ]
     },
     "execution_count": 9,
     "metadata": {},
     "output_type": "execute_result"
    }
   ],
   "source": [
    "discounted_prices"
   ]
  },
  {
   "cell_type": "markdown",
   "id": "d4846735",
   "metadata": {},
   "source": [
    "---\n",
    "<a name=\"end\"></a>\n",
    "### Congrats! \n",
    "\n",
    "🔥 Let's go to the next session.\n",
    "\n",
    "📝 This Jupyter notebook has been created by [Ahmad Ahmadi](https://www.linkedin.com/in/ahmad-ahmadi95/). Please follow me and [izlearn](https://www.linkedin.com/company/izlearn) on LinkedIn social media.  \n",
    "\n",
    "🌐 Visit your website for more courses [izlearn.ir](https://izlearn.ir)"
   ]
  }
 ],
 "metadata": {
  "kernelspec": {
   "display_name": "Python 3 (ipykernel)",
   "language": "python",
   "name": "python3"
  },
  "language_info": {
   "codemirror_mode": {
    "name": "ipython",
    "version": 3
   },
   "file_extension": ".py",
   "mimetype": "text/x-python",
   "name": "python",
   "nbconvert_exporter": "python",
   "pygments_lexer": "ipython3",
   "version": "3.9.5"
  }
 },
 "nbformat": 4,
 "nbformat_minor": 5
}
