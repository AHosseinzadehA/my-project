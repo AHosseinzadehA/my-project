{
 "cells": [
  {
   "cell_type": "markdown",
   "id": "7b58b84f",
   "metadata": {},
   "source": [
    "## • Tracking Stock Level \n",
    "\n",
    "**Hi dear!**\n",
    "\n",
    "🔸 This is [Ahmad](https://www.linkedin.com/in/ahmad-ahmadi95/) speaking to you. I hope you enjoy your internship as a `Python developer`. I want you to calculate `how many months of stock` we have left at the current monthly sales volume. because we're considering to apply for a loan to buy more `Black Boots`. \n",
    "\n",
    "🔸 We currently have **432** pairs of **Black Boots** in our inventory, and sell **74** each month. \n",
    "\n",
    "🔸 Write a program that keeps track of `monthly inventory`, by subracting **74** pairs of Black Boots from the invnetory each month. \n",
    "\n",
    "🔸 Your program should print `'At the end of month x, we have y pairs of Black Boots.'` where **x** is the number of month that has gone by and **y** is the remaining inventory at that month. \n",
    "\n",
    "📌 If inventory goes *negative*, your program should *stop* running. "
   ]
  },
  {
   "cell_type": "code",
   "execution_count": 1,
   "id": "cb39422e",
   "metadata": {},
   "outputs": [],
   "source": [
    "current_inventory = 432\n",
    "monthly_sales = 74\n",
    "month = 0"
   ]
  },
  {
   "cell_type": "code",
   "execution_count": 2,
   "id": "a6102e9a",
   "metadata": {},
   "outputs": [
    {
     "name": "stdout",
     "output_type": "stream",
     "text": [
      "At the end of month 1 we have 358 pair of Black Boots.\n",
      "At the end of month 2 we have 284 pair of Black Boots.\n",
      "At the end of month 3 we have 210 pair of Black Boots.\n",
      "At the end of month 4 we have 136 pair of Black Boots.\n",
      "At the end of month 5 we have 62 pair of Black Boots.\n",
      "At the end of month 6 we have -12 pair of Black Boots.\n"
     ]
    }
   ],
   "source": [
    "while current_inventory > -12 :\n",
    "    current_inventory -= monthly_sales\n",
    "    month += 1\n",
    "    print(f'At the end of month {month} we have {current_inventory} pair of Black Boots.')"
   ]
  },
  {
   "cell_type": "markdown",
   "id": "affde359",
   "metadata": {},
   "source": [
    "---\n",
    "<a name=\"end\"></a>\n",
    "### Congrats! \n",
    "\n",
    "🔥 Let's go to the next session.\n",
    "\n",
    "📝 This Jupyter notebook has been created by [Ahmad Ahmadi](https://www.linkedin.com/in/ahmad-ahmadi95/). Please follow me and [izlearn](https://www.linkedin.com/company/izlearn) on LinkedIn social media.  \n",
    "\n",
    "🌐 Visit your website for more courses [izlearn.ir](https://izlearn.ir)\n"
   ]
  }
 ],
 "metadata": {
  "kernelspec": {
   "display_name": "Python 3 (ipykernel)",
   "language": "python",
   "name": "python3"
  },
  "language_info": {
   "codemirror_mode": {
    "name": "ipython",
    "version": 3
   },
   "file_extension": ".py",
   "mimetype": "text/x-python",
   "name": "python",
   "nbconvert_exporter": "python",
   "pygments_lexer": "ipython3",
   "version": "3.9.5"
  }
 },
 "nbformat": 4,
 "nbformat_minor": 5
}
