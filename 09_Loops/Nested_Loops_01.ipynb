{
 "cells": [
  {
   "cell_type": "markdown",
   "id": "1bd04898",
   "metadata": {},
   "source": [
    "#### • Table of the content\n",
    "\n",
    "1. [Nested Loops](#1)\n",
    "2. [A Simple Start](#1-1)\n",
    "3. [Navigate Deeper](#1-2)\n",
    "4. [Simple Analysis](#1-3)\n",
    "5. [Final Nested Rates List](#1-4)\n",
    "6. [Average Rating For Each Product](#1-5)\n",
    "7. [More Info (Follow Me on LinkedIn)](#end)\n",
    "---"
   ]
  },
  {
   "cell_type": "markdown",
   "id": "01be1e8f",
   "metadata": {},
   "source": [
    "<a name='1'></a>\n",
    "\n",
    "## • Nested Loops\n",
    "\n",
    "🔰 Loops can be **nested** within another loop! ([nested loops](https://www.w3schools.com/python/gloss_python_for_nested.asp))\n",
    "\n",
    "🔰 The nested loop is alson known as **inner loop** and the other is **outer loop**. \n",
    "\n",
    "🔰 We often use **nested loops** to navigate **nested lists** and other similar data structures.\n",
    "\n",
    "\n",
    "### Syntax : \n",
    "\n",
    "```python\n",
    "\n",
    "for item1 in iterable1:\n",
    "    for item2 in iterable2:\n",
    "        print(item1, item2)\n",
    "```\n",
    "\n",
    "---"
   ]
  },
  {
   "cell_type": "code",
   "execution_count": 1,
   "id": "507146e1",
   "metadata": {},
   "outputs": [],
   "source": [
    "items = ['Shirt', 'Boots', 'Dress', 'Belt']"
   ]
  },
  {
   "cell_type": "code",
   "execution_count": 2,
   "id": "32326f50",
   "metadata": {},
   "outputs": [],
   "source": [
    "items_ratings = [\n",
    "    \n",
    "    ['5 stars', '4 stars', '4 stars'],\n",
    "    ['5 stars', '3 stars', '5 stars'],\n",
    "    ['1 star', '3 stars', '1 stars', '2 stars'],\n",
    "    ['1 star']\n",
    "]"
   ]
  },
  {
   "cell_type": "markdown",
   "id": "ecbe8c77",
   "metadata": {},
   "source": [
    "<a name='1-1'></a>\n",
    "\n",
    "### • A Simple Start\n",
    "\n",
    "🔸 print each nested list of `items_ratings` in the output."
   ]
  },
  {
   "cell_type": "code",
   "execution_count": 3,
   "id": "f5191995",
   "metadata": {},
   "outputs": [
    {
     "name": "stdout",
     "output_type": "stream",
     "text": [
      "['5 stars', '4 stars', '4 stars']\n",
      "['5 stars', '3 stars', '5 stars']\n",
      "['1 star', '3 stars', '1 stars', '2 stars']\n",
      "['1 star']\n"
     ]
    }
   ],
   "source": [
    "for rates_list in items_ratings:\n",
    "    print(rates_list)"
   ]
  },
  {
   "cell_type": "markdown",
   "id": "928ac39f",
   "metadata": {},
   "source": [
    "<a name='1-2'></a>\n",
    "\n",
    "### • Navigate Deeper\n",
    "\n",
    "🔸 Well done! now use **nested** <span style='font:consolas;color:darkgreen;font-weight:bold;font-size:2.5rem;'>for</span> and print **each rating** from the `items_ratings`. "
   ]
  },
  {
   "cell_type": "code",
   "execution_count": 4,
   "id": "a25feb29",
   "metadata": {},
   "outputs": [
    {
     "name": "stdout",
     "output_type": "stream",
     "text": [
      "rate: 5 stars\n",
      "rate: 4 stars\n",
      "rate: 4 stars\n",
      "rate: 5 stars\n",
      "rate: 3 stars\n",
      "rate: 5 stars\n",
      "rate: 1 star\n",
      "rate: 3 stars\n",
      "rate: 1 stars\n",
      "rate: 2 stars\n",
      "rate: 1 star\n"
     ]
    }
   ],
   "source": [
    "for rates_list in items_ratings:\n",
    "    for rate in rates_list:\n",
    "        print('rate:', rate)"
   ]
  },
  {
   "cell_type": "markdown",
   "id": "34f8b4a0",
   "metadata": {},
   "source": [
    "<a name='1-3'></a>\n",
    "\n",
    "### • Simple Analysis\n",
    "\n",
    "🔸 You're doing great! if you take a look at `items_ratings` nested members, you can see the `ratings` are saved as **string** datatype. We need to <u>extract the numeric parts</u> and convert them into **integers**. \n",
    "\n",
    "🔸 Then finally store them as a **list** items."
   ]
  },
  {
   "cell_type": "code",
   "execution_count": 5,
   "id": "62cf9bcb",
   "metadata": {},
   "outputs": [
    {
     "data": {
      "text/plain": [
       "[['5 stars', '4 stars', '4 stars'],\n",
       " ['5 stars', '3 stars', '5 stars'],\n",
       " ['1 star', '3 stars', '1 stars', '2 stars'],\n",
       " ['1 star']]"
      ]
     },
     "execution_count": 5,
     "metadata": {},
     "output_type": "execute_result"
    }
   ],
   "source": [
    "items_ratings"
   ]
  },
  {
   "cell_type": "code",
   "execution_count": 6,
   "id": "1820b66d",
   "metadata": {},
   "outputs": [],
   "source": [
    "all_rates = []"
   ]
  },
  {
   "cell_type": "code",
   "execution_count": 7,
   "id": "1ce94075",
   "metadata": {},
   "outputs": [
    {
     "name": "stdout",
     "output_type": "stream",
     "text": [
      "Done!\n"
     ]
    }
   ],
   "source": [
    "for rates_list in items_ratings:\n",
    "    for rate in rates_list:\n",
    "        int_rate = int(rate[0])\n",
    "        all_rates.append(int_rate)\n",
    "        \n",
    "print('Done!')"
   ]
  },
  {
   "cell_type": "code",
   "execution_count": 8,
   "id": "9315bce3",
   "metadata": {},
   "outputs": [
    {
     "data": {
      "text/plain": [
       "[5, 4, 4, 5, 3, 5, 1, 3, 1, 2, 1]"
      ]
     },
     "execution_count": 8,
     "metadata": {},
     "output_type": "execute_result"
    }
   ],
   "source": [
    "all_rates"
   ]
  },
  {
   "cell_type": "markdown",
   "id": "b8c6a4e0",
   "metadata": {},
   "source": [
    "<div class='alert alert-info'>\n",
    "    🔸 When working with <b>nested for</b> be careful about the <b>indentations</b> because <mark style='box-shadow: 0px 0px 3px 3px rgba(0, 0, 0, 0.1);padding:3px;'>they can change the expected output!</mark><br>\n",
    "    🔸 Use <b style='font-family:consolas;font-weight:bold;'>print( )</b> to see what is happening inside of inner or outer loop!\n",
    "</div>"
   ]
  },
  {
   "cell_type": "markdown",
   "id": "de738000",
   "metadata": {},
   "source": [
    "<a name='1-4'></a>\n",
    "\n",
    "### • Final Nested Rates List\n",
    "\n",
    "🔸 And finally puts all rates corresponds to each items in a separate list then store each list as an element in a final list called `rates_nested_list`\n",
    "\n",
    "👨‍🏫 The **expected output** should be like this:\n",
    "\n",
    "```terminal\n",
    "[[5, 4, 4], [5, 3, 5], [1, 3, 1, 2], [1]]\n",
    "```"
   ]
  },
  {
   "cell_type": "code",
   "execution_count": 9,
   "id": "ea97ac64",
   "metadata": {},
   "outputs": [
    {
     "data": {
      "text/plain": [
       "[['5 stars', '4 stars', '4 stars'],\n",
       " ['5 stars', '3 stars', '5 stars'],\n",
       " ['1 star', '3 stars', '1 stars', '2 stars'],\n",
       " ['1 star']]"
      ]
     },
     "execution_count": 9,
     "metadata": {},
     "output_type": "execute_result"
    }
   ],
   "source": [
    "items_ratings"
   ]
  },
  {
   "cell_type": "code",
   "execution_count": 10,
   "id": "6200d418",
   "metadata": {},
   "outputs": [],
   "source": [
    "rates_nested_list = []"
   ]
  },
  {
   "cell_type": "code",
   "execution_count": 11,
   "id": "a83c66f3",
   "metadata": {},
   "outputs": [
    {
     "name": "stdout",
     "output_type": "stream",
     "text": [
      "Done!\n"
     ]
    }
   ],
   "source": [
    "for rates_list in items_ratings:\n",
    "    temp_list = []\n",
    "    for rate in rates_list:\n",
    "        int_rate = int(rate[0])\n",
    "        temp_list.append(int_rate)\n",
    "        \n",
    "    rates_nested_list.append(temp_list)\n",
    "    \n",
    "print('Done!')"
   ]
  },
  {
   "cell_type": "code",
   "execution_count": 12,
   "id": "1071a655",
   "metadata": {},
   "outputs": [
    {
     "data": {
      "text/plain": [
       "[[5, 4, 4], [5, 3, 5], [1, 3, 1, 2], [1]]"
      ]
     },
     "execution_count": 12,
     "metadata": {},
     "output_type": "execute_result"
    }
   ],
   "source": [
    "rates_nested_list"
   ]
  },
  {
   "cell_type": "markdown",
   "id": "63449c3b",
   "metadata": {},
   "source": [
    "<a name='1-5'></a>\n",
    "\n",
    "### • Average Rating For Each Product\n",
    "\n",
    "🔸 Wow! you're wonderful!(🏆)\n",
    "\n",
    "🔸 Finally calculate the **average raring** for each product (use `rates_nested_list`) and try to report like below!\n",
    "\n",
    "\n",
    "👨‍🏫 The **expected output** should be like this:\n",
    "```terminal\n",
    "Shirt : 4.3\n",
    "Boots : 4.3\n",
    "Dress : 1.8\n",
    "Belt : 1.0\n",
    "```"
   ]
  },
  {
   "cell_type": "code",
   "execution_count": 13,
   "id": "71d28e73",
   "metadata": {},
   "outputs": [
    {
     "data": {
      "text/plain": [
       "['Shirt', 'Boots', 'Dress', 'Belt']"
      ]
     },
     "execution_count": 13,
     "metadata": {},
     "output_type": "execute_result"
    }
   ],
   "source": [
    "items"
   ]
  },
  {
   "cell_type": "code",
   "execution_count": 14,
   "id": "fe31435f",
   "metadata": {},
   "outputs": [
    {
     "name": "stdout",
     "output_type": "stream",
     "text": [
      "Shirt : 4.3\n",
      "Boots : 4.3\n",
      "Dress : 1.8\n",
      "Belt : 1.0\n"
     ]
    }
   ],
   "source": [
    "for index, rates_list in enumerate(rates_nested_list):\n",
    "    print(f'{items[index]} : {round(sum(rates_list)/len(rates_list), 1)}')"
   ]
  },
  {
   "cell_type": "markdown",
   "id": "719a28a2",
   "metadata": {},
   "source": [
    "---\n",
    "<a name=\"end\"></a>\n",
    "### Congrats! \n",
    "\n",
    "🔥 Let's go to the next session.\n",
    "\n",
    "📝 This Jupyter notebook has been created by [Ahmad Ahmadi](https://www.linkedin.com/in/ahmad-ahmadi95/). Please follow me and [izlearn](https://www.linkedin.com/company/izlearn) on LinkedIn social media.  \n",
    "\n",
    "🌐 Visit your website for more courses [izlearn.ir](https://izlearn.ir)\n"
   ]
  }
 ],
 "metadata": {
  "kernelspec": {
   "display_name": "Python 3 (ipykernel)",
   "language": "python",
   "name": "python3"
  },
  "language_info": {
   "codemirror_mode": {
    "name": "ipython",
    "version": 3
   },
   "file_extension": ".py",
   "mimetype": "text/x-python",
   "name": "python",
   "nbconvert_exporter": "python",
   "pygments_lexer": "ipython3",
   "version": "3.9.5"
  }
 },
 "nbformat": 4,
 "nbformat_minor": 5
}
