{
 "cells": [
  {
   "cell_type": "markdown",
   "id": "946b2f7e",
   "metadata": {},
   "source": [
    "#### • Table of the content\n",
    "\n",
    "1. [For Loop & Looping Over Indices](#1)\n",
    "2. [Another Example](#2)\n",
    "3. [Let's Continue](#2-1)\n",
    "4. [More Info (Follow Me on LinkedIn)](#end)\n",
    "---"
   ]
  },
  {
   "cell_type": "markdown",
   "id": "3af36edd",
   "metadata": {},
   "source": [
    "<a name='1'></a>\n",
    "## • For Loop and Looping Over Indices\n",
    "\n",
    "🔸 Looping over indices will run through a **range of integers**\n",
    "\n",
    "- We need to use <span style=\"color:darkgreen;font-family:consolas;font-weight:bold;\">range</span>(usually length of an iterable)\n",
    "- This range can be used to <u>navigate through the indices</u> of iterable objects"
   ]
  },
  {
   "cell_type": "code",
   "execution_count": 1,
   "id": "ca0ea258",
   "metadata": {},
   "outputs": [],
   "source": [
    "prices = [5.99, 7.99, 10.99, 20.99, 9.99]\n",
    "items = ['Belt', 'Shirt', 'Pants', 'Dress', 'Bracelet']"
   ]
  },
  {
   "cell_type": "code",
   "execution_count": 7,
   "id": "9afd8711",
   "metadata": {},
   "outputs": [
    {
     "name": "stdout",
     "output_type": "stream",
     "text": [
      "0 -> Belt\n",
      "1 -> Shirt\n",
      "2 -> Pants\n",
      "3 -> Dress\n",
      "4 -> Bracelet\n"
     ]
    }
   ],
   "source": [
    "# 1. Loop over indices of 'items' and print i, item[i]\n",
    "\n",
    "for index in range(len(items)):\n",
    "    print(index, '->', items[index])"
   ]
  },
  {
   "cell_type": "markdown",
   "id": "866ca365",
   "metadata": {},
   "source": [
    "<div class='alert alert-info'>\n",
    "    💡 <b>DevTip:</b> If you only need to access the elements of a single iterable, the <b>best practice is to loop over items</b> instead of indices! 🤔\n",
    "</div>"
   ]
  },
  {
   "cell_type": "code",
   "execution_count": 9,
   "id": "e527d163",
   "metadata": {},
   "outputs": [
    {
     "name": "stdout",
     "output_type": "stream",
     "text": [
      "BELT\n",
      "SHIRT\n",
      "PANTS\n",
      "DRESS\n",
      "BRACELET\n"
     ]
    }
   ],
   "source": [
    "# 2. Loop over items and print each element in 'items':\n",
    "\n",
    "for cloths in items:\n",
    "    print(cloths.upper())"
   ]
  },
  {
   "cell_type": "markdown",
   "id": "b186ce1e",
   "metadata": {},
   "source": [
    "<div class='alert alert-success'>\n",
    "    💡 <b>DevTip:</b> If you want to loop over <b>multiple iterables</b> then it is better to use <b>iterating over indices</b> ! 😍\n",
    "</div>"
   ]
  },
  {
   "cell_type": "code",
   "execution_count": 17,
   "id": "ade0420a",
   "metadata": {},
   "outputs": [],
   "source": [
    "prices = [5.99, 7.99, 10.99, 20.99, 9.99]\n",
    "items = ['Belt', 'Shirt', 'Pants', 'Dress', 'Bracelet']\n",
    "inventory = [10, 14, 10, 15, 8]"
   ]
  },
  {
   "cell_type": "code",
   "execution_count": 18,
   "id": "42583ff3",
   "metadata": {},
   "outputs": [
    {
     "name": "stdout",
     "output_type": "stream",
     "text": [
      "Belt -> (5.99 €, 10)\n",
      "Shirt -> (7.99 €, 14)\n",
      "Pants -> (10.99 €, 10)\n",
      "Dress -> (20.99 €, 15)\n",
      "Bracelet -> (9.99 €, 8)\n"
     ]
    }
   ],
   "source": [
    "# 3. Show this message : item name -> (price, inventory level)\n",
    "\n",
    "for i in range(len(items)):\n",
    "    print(f'{items[i]} -> ({prices[i]} €, {inventory[i]})')"
   ]
  },
  {
   "cell_type": "markdown",
   "id": "3d98a303",
   "metadata": {},
   "source": [
    "---\n",
    "<a name='2'></a>\n",
    "## • Another Example ..."
   ]
  },
  {
   "cell_type": "markdown",
   "id": "49f2b31d",
   "metadata": {},
   "source": [
    "🔸 In the follwoing cell you have **two** lists containing prices and its corresponding inventory level stored in a separate list.\n",
    "\n",
    "- print total values for each inventory level"
   ]
  },
  {
   "cell_type": "code",
   "execution_count": 19,
   "id": "6321be6e",
   "metadata": {},
   "outputs": [],
   "source": [
    "inventory = [10, 14, 10, 15, 8, 27]\n",
    "prices = [5.99, 7.99, 10.99, 20.99, 9.99, 99.99]"
   ]
  },
  {
   "cell_type": "code",
   "execution_count": 21,
   "id": "e54d8535",
   "metadata": {},
   "outputs": [
    {
     "name": "stdout",
     "output_type": "stream",
     "text": [
      "59.900000000000006\n",
      "111.86\n",
      "109.9\n",
      "314.84999999999997\n",
      "79.92\n",
      "2699.73\n"
     ]
    }
   ],
   "source": [
    "# 4. Loop over indices → inventory level × price\n",
    "\n",
    "for i in range(len(inventory)):\n",
    "    print(inventory[i] * prices[i])"
   ]
  },
  {
   "cell_type": "markdown",
   "id": "cb908cf3",
   "metadata": {},
   "source": [
    "---\n",
    "<a name='2-1'></a>\n",
    "## • Let's Continue ...\n",
    "\n",
    "🔸 Now we decide to store the above printed numbers in a list (`product_values`) then finally calculate the <span style='color:darkgreen;font-family:consolas;font-weight:bold;'>sum</span> of the resulted list."
   ]
  },
  {
   "cell_type": "code",
   "execution_count": 22,
   "id": "31e04c98",
   "metadata": {},
   "outputs": [],
   "source": [
    "inventory = [10, 14, 10, 15, 8, 27]\n",
    "prices = [5.99, 7.99, 10.99, 20.99, 9.99, 99.99]"
   ]
  },
  {
   "cell_type": "code",
   "execution_count": 23,
   "id": "4489b34c",
   "metadata": {},
   "outputs": [
    {
     "name": "stdout",
     "output_type": "stream",
     "text": [
      "Done!\n"
     ]
    }
   ],
   "source": [
    "# 5. Store the above items in a list\n",
    "product_values = []\n",
    "\n",
    "for i in range(len(prices)):\n",
    "    product_values.append(round(inventory[i] * prices[i], 2))\n",
    "    \n",
    "print('Done!')"
   ]
  },
  {
   "cell_type": "code",
   "execution_count": 24,
   "id": "c6eba49c",
   "metadata": {},
   "outputs": [
    {
     "data": {
      "text/plain": [
       "[59.9, 111.86, 109.9, 314.85, 79.92, 2699.73]"
      ]
     },
     "execution_count": 24,
     "metadata": {},
     "output_type": "execute_result"
    }
   ],
   "source": [
    "product_values"
   ]
  },
  {
   "cell_type": "code",
   "execution_count": 25,
   "id": "f4ead72f",
   "metadata": {},
   "outputs": [
    {
     "data": {
      "text/plain": [
       "3376.16"
      ]
     },
     "execution_count": 25,
     "metadata": {},
     "output_type": "execute_result"
    }
   ],
   "source": [
    "# 6. Total value:\n",
    "sum(product_values)"
   ]
  },
  {
   "cell_type": "markdown",
   "id": "29e39a17",
   "metadata": {},
   "source": [
    "---\n",
    "<a name=\"end\"></a>\n",
    "### Congrats! \n",
    "\n",
    "🔥 Let's go to the next session.\n",
    "\n",
    "📝 This Jupyter notebook has been created by [Ahmad Ahmadi](https://www.linkedin.com/in/ahmad-ahmadi95/). Please follow me and [izlearn](https://www.linkedin.com/company/izlearn) on LinkedIn social media.  \n",
    "\n",
    "🌐 Visit your website for more courses [izlearn.ir](https://izlearn.ir)\n"
   ]
  }
 ],
 "metadata": {
  "kernelspec": {
   "display_name": "Python 3 (ipykernel)",
   "language": "python",
   "name": "python3"
  },
  "language_info": {
   "codemirror_mode": {
    "name": "ipython",
    "version": 3
   },
   "file_extension": ".py",
   "mimetype": "text/x-python",
   "name": "python",
   "nbconvert_exporter": "python",
   "pygments_lexer": "ipython3",
   "version": "3.9.5"
  }
 },
 "nbformat": 4,
 "nbformat_minor": 5
}
