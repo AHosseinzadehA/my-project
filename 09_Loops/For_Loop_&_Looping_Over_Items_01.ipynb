{
 "cells": [
  {
   "cell_type": "markdown",
   "id": "1b8b9385",
   "metadata": {},
   "source": [
    "#### • Table of the content\n",
    "\n",
    "1. [Loop Basics & Looping Over Items](#1)\n",
    "2. [Euro to USD Conversion](#2)\n",
    "3. [Rate Average Calculation](#3)\n",
    "4. [More Info (Follow Me on LinkedIn)](#end)\n",
    "---"
   ]
  },
  {
   "cell_type": "markdown",
   "id": "a98f9d74",
   "metadata": {},
   "source": [
    "<a name=\"1\"></a>\n",
    "## • Loop Basics & Looping Over Items"
   ]
  },
  {
   "cell_type": "markdown",
   "id": "9d509601",
   "metadata": {},
   "source": [
    "🔸 **Loops** are just a *block of code* repeated until a given condtion is met. **Loops help us preventing to repeat ourselves**. "
   ]
  },
  {
   "cell_type": "code",
   "execution_count": 1,
   "id": "60fe6acd",
   "metadata": {},
   "outputs": [],
   "source": [
    "exchange_rate = 1.08 # 1 Euro ≈ 1.08 U.S. dollar (May 2024)\n",
    "\n",
    "euro_prices = [5.99, 7.99, 10.99, 20.99, 9.99]\n",
    "\n",
    "# Without 'for' loop:\n",
    "usd_prices = [round(euro_prices[0]*exchange_rate, 2),\n",
    "              round(euro_prices[1]*exchange_rate, 2),\n",
    "              round(euro_prices[2]*exchange_rate, 2),\n",
    "              round(euro_prices[3]*exchange_rate, 2),\n",
    "              round(euro_prices[4]*exchange_rate, 2)]"
   ]
  },
  {
   "cell_type": "code",
   "execution_count": 2,
   "id": "503830ca",
   "metadata": {},
   "outputs": [
    {
     "data": {
      "text/plain": [
       "[6.47, 8.63, 11.87, 22.67, 10.79]"
      ]
     },
     "execution_count": 2,
     "metadata": {},
     "output_type": "execute_result"
    }
   ],
   "source": [
    "usd_prices"
   ]
  },
  {
   "cell_type": "markdown",
   "id": "cd1eb7c3",
   "metadata": {},
   "source": [
    "---\n",
    "<a name=\"2\"></a>\n",
    "### • Euro To USD Conversion"
   ]
  },
  {
   "cell_type": "markdown",
   "id": "8577f239",
   "metadata": {},
   "source": [
    "🔸 Use **for** loop to iterate through the prices in `euro_prices` then convert it to U.S. dollar."
   ]
  },
  {
   "cell_type": "code",
   "execution_count": 10,
   "id": "a213e3f7",
   "metadata": {},
   "outputs": [],
   "source": [
    "exchange_rate = 1.08 # 1 Euro ≈ 1.08 U.S. dollar (May 2024)\n",
    "\n",
    "euro_prices = [5.99, 7.99, 10.99, 20.99, 9.99]\n",
    "usd_prices = []\n",
    "\n",
    "# Use 'for' loop here:\n",
    "for price in euro_prices:\n",
    "    usd_prices.append(round(price * exchange_rate, 2))"
   ]
  },
  {
   "cell_type": "code",
   "execution_count": 11,
   "id": "02c31824",
   "metadata": {},
   "outputs": [
    {
     "data": {
      "text/plain": [
       "[6.47, 8.63, 11.87, 22.67, 10.79]"
      ]
     },
     "execution_count": 11,
     "metadata": {},
     "output_type": "execute_result"
    }
   ],
   "source": [
    "usd_prices"
   ]
  },
  {
   "cell_type": "markdown",
   "id": "14ecabb8",
   "metadata": {},
   "source": [
    "---\n",
    "<a name=\"3\"></a>\n",
    "### • Rate Average Calculation"
   ]
  },
  {
   "cell_type": "markdown",
   "id": "3eff4778",
   "metadata": {},
   "source": [
    "🔰 In the following cell, we have a list (`customer_rates`) including a **customer rates** for different products of our website. \n",
    "\n",
    "👉🏼 **Situation** : \n",
    "\n",
    "🔸 We need to grab the **numeric part** of each item in the list, then store them into a **new variable** and finally calculate the **average** of all rates existing in the new list.\n",
    "\n",
    "📋 **Instructions**:\n",
    "\n",
    "1. Grab the numeric part of one elment of `customer_rates`\n",
    "\n",
    "2. Convert it to an integer number\n",
    "\n",
    "3. Repeat this process for all element in `customer_rates`\n",
    "\n",
    "4. Store the result into a separate variable\n",
    "\n",
    "5. Calculate the average of all rates!"
   ]
  },
  {
   "cell_type": "code",
   "execution_count": 12,
   "id": "1e851b76",
   "metadata": {},
   "outputs": [],
   "source": [
    "customer_rates = ['5 ⭐', '3 ⭐',\n",
    "                  '5 ⭐', '2 ⭐',\n",
    "                  '4 ⭐', '4 ⭐',\n",
    "                  '3 ⭐', '4 ⭐',\n",
    "                  '4 ⭐', '2 ⭐',\n",
    "                  '5 ⭐', '5 ⭐',\n",
    "                  '4 ⭐', '3 ⭐']"
   ]
  },
  {
   "cell_type": "code",
   "execution_count": 13,
   "id": "4e947b51",
   "metadata": {},
   "outputs": [
    {
     "data": {
      "text/plain": [
       "['5 ⭐',\n",
       " '3 ⭐',\n",
       " '5 ⭐',\n",
       " '2 ⭐',\n",
       " '4 ⭐',\n",
       " '4 ⭐',\n",
       " '3 ⭐',\n",
       " '4 ⭐',\n",
       " '4 ⭐',\n",
       " '2 ⭐',\n",
       " '5 ⭐',\n",
       " '5 ⭐',\n",
       " '4 ⭐',\n",
       " '3 ⭐']"
      ]
     },
     "execution_count": 13,
     "metadata": {},
     "output_type": "execute_result"
    }
   ],
   "source": [
    "customer_rates"
   ]
  },
  {
   "cell_type": "markdown",
   "id": "70a83db0",
   "metadata": {},
   "source": [
    "### • Let's Start Small\n",
    "\n",
    "🔸 Grab one element from the list and extract its number and turn it to an integer type"
   ]
  },
  {
   "cell_type": "code",
   "execution_count": 25,
   "id": "cd57cb5f",
   "metadata": {},
   "outputs": [],
   "source": [
    "rate = int(customer_rates[3][0])"
   ]
  },
  {
   "cell_type": "code",
   "execution_count": 26,
   "id": "78371291",
   "metadata": {},
   "outputs": [
    {
     "data": {
      "text/plain": [
       "2"
      ]
     },
     "execution_count": 26,
     "metadata": {},
     "output_type": "execute_result"
    }
   ],
   "source": [
    "rate"
   ]
  },
  {
   "cell_type": "code",
   "execution_count": 35,
   "id": "5ae7337f",
   "metadata": {},
   "outputs": [],
   "source": [
    "# 1. Loop through all rates in 'customer_rates'\n",
    "# 2. Grab the integer portion of the string\n",
    "# 3. Store each of them in a list called 'all_rates'\n",
    "\n",
    "all_rates = []\n",
    "\n",
    "for rate in customer_rates:\n",
    "    all_rates.append(int(rate[0]))"
   ]
  },
  {
   "cell_type": "code",
   "execution_count": 36,
   "id": "0fefbd3a",
   "metadata": {},
   "outputs": [
    {
     "data": {
      "text/plain": [
       "[5, 3, 5, 2, 4, 4, 3, 4, 4, 2, 5, 5, 4, 3]"
      ]
     },
     "execution_count": 36,
     "metadata": {},
     "output_type": "execute_result"
    }
   ],
   "source": [
    "all_rates"
   ]
  },
  {
   "cell_type": "code",
   "execution_count": 39,
   "id": "3346d340",
   "metadata": {},
   "outputs": [],
   "source": [
    "# 1. Calculate the average of 'all_rates'\n",
    "rate_average = sum(all_rates) / len(all_rates)"
   ]
  },
  {
   "cell_type": "code",
   "execution_count": 41,
   "id": "f6d358e8",
   "metadata": {},
   "outputs": [
    {
     "data": {
      "text/plain": [
       "3.79"
      ]
     },
     "execution_count": 41,
     "metadata": {},
     "output_type": "execute_result"
    }
   ],
   "source": [
    "round(rate_average, 2)"
   ]
  },
  {
   "cell_type": "markdown",
   "id": "10879e4e",
   "metadata": {},
   "source": [
    "---\n",
    "<a name=\"end\"></a>\n",
    "### Congrats! \n",
    "\n",
    "🔥 Let's go to the next session.\n",
    "\n",
    "📝 This Jupyter notebook has been created by [Ahmad Ahmadi](https://www.linkedin.com/in/ahmad-ahmadi95/). Please follow me and [izlearn](https://www.linkedin.com/company/izlearn) on LinkedIn social media.  \n",
    "\n",
    "🌐 Visit your website for more courses [izlearn.ir](https://izlearn.ir)\n"
   ]
  }
 ],
 "metadata": {
  "kernelspec": {
   "display_name": "Python 3 (ipykernel)",
   "language": "python",
   "name": "python3"
  },
  "language_info": {
   "codemirror_mode": {
    "name": "ipython",
    "version": 3
   },
   "file_extension": ".py",
   "mimetype": "text/x-python",
   "name": "python",
   "nbconvert_exporter": "python",
   "pygments_lexer": "ipython3",
   "version": "3.9.5"
  }
 },
 "nbformat": 4,
 "nbformat_minor": 5
}
