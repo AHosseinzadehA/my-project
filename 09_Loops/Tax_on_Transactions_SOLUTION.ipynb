{
 "cells": [
  {
   "cell_type": "markdown",
   "id": "4554c15b",
   "metadata": {},
   "source": [
    "## • Tax on Transactions\n",
    "\n",
    "🔸 Last weekend we forgot to apply tax on our transactions list, so we told the customers we would charge them for tax later."
   ]
  },
  {
   "cell_type": "code",
   "execution_count": 1,
   "id": "4f526a4d",
   "metadata": {},
   "outputs": [],
   "source": [
    "subtotals = [400.99, 115.6, 250.71, 430.33, 250.5, 370.9, 252.2]"
   ]
  },
  {
   "cell_type": "markdown",
   "id": "4b15fba5",
   "metadata": {},
   "source": [
    "🔸 **Can you apply sales tax to all of the transactions?**\n",
    "\n",
    "🔸 The tax rate is **7%**\n",
    "\n",
    "🔸 Once we've calculated the taxes, we'll need to <u>add them to their subtotals and calculate the total invoice</u> value.\n",
    "\n",
    "\n",
    "🔸 Your code should produce **two** lists:\n",
    "\n",
    "```python\n",
    "\n",
    "taxes = [28.07, 8.09, 17.55, 30.12, 17.54, 25.96, 17.65]\n",
    "\n",
    "totals = [429.06, 123.69, 268.26, 460.45, 268.04, 396.86, 269.85]\n",
    "```"
   ]
  },
  {
   "cell_type": "code",
   "execution_count": 14,
   "id": "4d924834",
   "metadata": {},
   "outputs": [
    {
     "name": "stdout",
     "output_type": "stream",
     "text": [
      "Done!\n"
     ]
    }
   ],
   "source": [
    "# 1. Start here (method one)\n",
    "taxes = []\n",
    "totals = []\n",
    "\n",
    "for subtotal in subtotals:\n",
    "    tax = round(subtotal * 0.07, 2)\n",
    "    total = round(subtotal + tax, 2)\n",
    "    taxes.append(tax)\n",
    "    totals.append(total)\n",
    "    \n",
    "print('Done!')"
   ]
  },
  {
   "cell_type": "code",
   "execution_count": 15,
   "id": "2da4eb2f",
   "metadata": {},
   "outputs": [
    {
     "data": {
      "text/plain": [
       "[28.07, 8.09, 17.55, 30.12, 17.54, 25.96, 17.65]"
      ]
     },
     "execution_count": 15,
     "metadata": {},
     "output_type": "execute_result"
    }
   ],
   "source": [
    "taxes"
   ]
  },
  {
   "cell_type": "code",
   "execution_count": 16,
   "id": "30ef4db1",
   "metadata": {},
   "outputs": [
    {
     "data": {
      "text/plain": [
       "[429.06, 123.69, 268.26, 460.45, 268.04, 396.86, 269.85]"
      ]
     },
     "execution_count": 16,
     "metadata": {},
     "output_type": "execute_result"
    }
   ],
   "source": [
    "totals"
   ]
  },
  {
   "cell_type": "markdown",
   "id": "6518dcf8",
   "metadata": {},
   "source": [
    "## • Another Approach\n",
    "\n",
    "🔸 We can use **Looping Over Indices** using <span style='color:darkgreen;font-family:consolas;font-weight:bold;'>range</span> and <span style='color:darkgreen;font-family:consolas;font-weight:bold;'>len</span> function on **subtotals**."
   ]
  },
  {
   "cell_type": "code",
   "execution_count": 19,
   "id": "99e0f790",
   "metadata": {},
   "outputs": [
    {
     "name": "stdout",
     "output_type": "stream",
     "text": [
      "Done!\n"
     ]
    }
   ],
   "source": [
    "# 2. Start here (approach two)(optional)\n",
    "taxes = list()\n",
    "totals = list()\n",
    "\n",
    "for index in range(len(subtotals)):\n",
    "    tax = round(subtotals[index] * 0.07, 2)\n",
    "    total = round(subtotals[index] + tax, 2)\n",
    "    taxes.append(tax)\n",
    "    totals.append(total)\n",
    "    \n",
    "print('Done!')"
   ]
  },
  {
   "cell_type": "code",
   "execution_count": 20,
   "id": "cfd01bfe",
   "metadata": {},
   "outputs": [
    {
     "data": {
      "text/plain": [
       "[28.07, 8.09, 17.55, 30.12, 17.54, 25.96, 17.65]"
      ]
     },
     "execution_count": 20,
     "metadata": {},
     "output_type": "execute_result"
    }
   ],
   "source": [
    "taxes"
   ]
  },
  {
   "cell_type": "code",
   "execution_count": 21,
   "id": "b061457f",
   "metadata": {},
   "outputs": [
    {
     "data": {
      "text/plain": [
       "[429.06, 123.69, 268.26, 460.45, 268.04, 396.86, 269.85]"
      ]
     },
     "execution_count": 21,
     "metadata": {},
     "output_type": "execute_result"
    }
   ],
   "source": [
    "totals"
   ]
  },
  {
   "cell_type": "markdown",
   "id": "653e20ec",
   "metadata": {},
   "source": [
    "---\n",
    "<a name=\"end\"></a>\n",
    "### Congrats! \n",
    "\n",
    "🔥 Let's go to the next session.\n",
    "\n",
    "📝 This Jupyter notebook has been created by [Ahmad Ahmadi](https://www.linkedin.com/in/ahmad-ahmadi95/). Please follow me and [izlearn](https://www.linkedin.com/company/izlearn) on LinkedIn social media.  \n",
    "\n",
    "🌐 Visit your website for more courses [izlearn.ir](https://izlearn.ir)\n"
   ]
  }
 ],
 "metadata": {
  "kernelspec": {
   "display_name": "Python 3 (ipykernel)",
   "language": "python",
   "name": "python3"
  },
  "language_info": {
   "codemirror_mode": {
    "name": "ipython",
    "version": 3
   },
   "file_extension": ".py",
   "mimetype": "text/x-python",
   "name": "python",
   "nbconvert_exporter": "python",
   "pygments_lexer": "ipython3",
   "version": "3.9.5"
  }
 },
 "nbformat": 4,
 "nbformat_minor": 5
}
