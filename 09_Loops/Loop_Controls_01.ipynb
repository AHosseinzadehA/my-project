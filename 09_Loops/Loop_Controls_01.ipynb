{
 "cells": [
  {
   "cell_type": "markdown",
   "id": "786edbd3",
   "metadata": {},
   "source": [
    "#### • Table of the content\n",
    "\n",
    "1. [Loop Controls](#1)\n",
    "2. [Continue](#2)\n",
    "3. [Break](#3)\n",
    "4. [Pass](#4)\n",
    "5. [Try and Except](#5)\n",
    "    \n",
    "2. [More Info (Follow Me on LinkedIn)](#end)\n",
    "---"
   ]
  },
  {
   "cell_type": "markdown",
   "id": "3f1685c7",
   "metadata": {},
   "source": [
    "<a name=\"1\"></a>\n",
    "## • Loop Controls\n",
    "\n",
    "🔸 There are **four** types of *loop controls* in Python programming.\n",
    "\n",
    "- **break**: Stop the loop execution before its finished completely.\n",
    "- **continue**: Skip the current iteration and go to the next iteration. \n",
    "- **pass**: Used as placeholder for future code. \n",
    "- **try & except**: Help with errors/exceptions handling"
   ]
  },
  {
   "cell_type": "code",
   "execution_count": 1,
   "id": "f7d2ce9f",
   "metadata": {},
   "outputs": [],
   "source": [
    "word = 'Ahmad'"
   ]
  },
  {
   "cell_type": "markdown",
   "id": "1e056c31",
   "metadata": {},
   "source": [
    "<a name=\"2\"></a>\n",
    "### • Continue\n",
    "\n",
    "🔸 We need to remove all **vowels** from the <span style=\"font-family:consolas;color:darkred;font-weight:bold;font-size:2rem;\">\"Ahmad\"</span> and create a whole new word. "
   ]
  },
  {
   "cell_type": "code",
   "execution_count": 2,
   "id": "b0105fb0",
   "metadata": {},
   "outputs": [],
   "source": [
    "vowels = ['a', 'e', 'i', 'o', 'u']"
   ]
  },
  {
   "cell_type": "code",
   "execution_count": 3,
   "id": "440e02b4",
   "metadata": {},
   "outputs": [
    {
     "name": "stdout",
     "output_type": "stream",
     "text": [
      "Done!\n"
     ]
    }
   ],
   "source": [
    "# Write your code here\n",
    "new_word = ''\n",
    "for char in word:\n",
    "    if char.lower() in vowels:\n",
    "        continue\n",
    "    new_word += char\n",
    "    \n",
    "print('Done!')"
   ]
  },
  {
   "cell_type": "code",
   "execution_count": 4,
   "id": "b2dc6732",
   "metadata": {},
   "outputs": [
    {
     "data": {
      "text/plain": [
       "'hmd'"
      ]
     },
     "execution_count": 4,
     "metadata": {},
     "output_type": "execute_result"
    }
   ],
   "source": [
    "new_word"
   ]
  },
  {
   "cell_type": "markdown",
   "id": "f79904fa",
   "metadata": {},
   "source": [
    "<a name=\"3\"></a>\n",
    "### • Break\n",
    "\n",
    "🔸 Loop through each character in the <span style=\"font-family:consolas;color:darkred;font-weight:bold;font-size:2rem;\">\"Ahmad\"</span> and if the character is equal to <span style=\"font-family:consolas;color:darkred;font-weight:bold;font-size:2rem;\">\"m\"</span>, break out of the loop. "
   ]
  },
  {
   "cell_type": "code",
   "execution_count": 5,
   "id": "782083cd",
   "metadata": {},
   "outputs": [
    {
     "data": {
      "text/plain": [
       "'Ahmad'"
      ]
     },
     "execution_count": 5,
     "metadata": {},
     "output_type": "execute_result"
    }
   ],
   "source": [
    "word"
   ]
  },
  {
   "cell_type": "code",
   "execution_count": 6,
   "id": "49803d22",
   "metadata": {},
   "outputs": [
    {
     "name": "stdout",
     "output_type": "stream",
     "text": [
      "Done!\n"
     ]
    }
   ],
   "source": [
    "# Write your code here\n",
    "new_word = ''\n",
    "for char in word:\n",
    "    if char == \"m\":\n",
    "        break\n",
    "    new_word += char\n",
    "print('Done!')"
   ]
  },
  {
   "cell_type": "code",
   "execution_count": 7,
   "id": "8f436775",
   "metadata": {},
   "outputs": [
    {
     "data": {
      "text/plain": [
       "'Ah'"
      ]
     },
     "execution_count": 7,
     "metadata": {},
     "output_type": "execute_result"
    }
   ],
   "source": [
    "new_word"
   ]
  },
  {
   "cell_type": "markdown",
   "id": "8fb2ab2b",
   "metadata": {},
   "source": [
    "<a name=\"4\"></a>\n",
    "### • Pass\n",
    "\n",
    "🔸 **Nothing** happens and the loop continues <u>to the next line</u>"
   ]
  },
  {
   "cell_type": "code",
   "execution_count": 8,
   "id": "dc7b7a35",
   "metadata": {},
   "outputs": [
    {
     "data": {
      "text/plain": [
       "'Ahmad'"
      ]
     },
     "execution_count": 8,
     "metadata": {},
     "output_type": "execute_result"
    }
   ],
   "source": [
    "word"
   ]
  },
  {
   "cell_type": "code",
   "execution_count": 9,
   "id": "d7cb5c54",
   "metadata": {},
   "outputs": [],
   "source": [
    "vowels = ['a', 'e', 'i', 'o', 'u']"
   ]
  },
  {
   "cell_type": "code",
   "execution_count": 10,
   "id": "27400c6c",
   "metadata": {},
   "outputs": [
    {
     "name": "stdout",
     "output_type": "stream",
     "text": [
      "Done!\n"
     ]
    }
   ],
   "source": [
    "# Write your code here\n",
    "new_word = ''\n",
    "for char in word:\n",
    "    if char in vowels:\n",
    "        pass # I need to think about the logic\n",
    "    new_word += char\n",
    "    \n",
    "print('Done!')"
   ]
  },
  {
   "cell_type": "code",
   "execution_count": 11,
   "id": "88804a11",
   "metadata": {},
   "outputs": [
    {
     "data": {
      "text/plain": [
       "'Ahmad'"
      ]
     },
     "execution_count": 11,
     "metadata": {},
     "output_type": "execute_result"
    }
   ],
   "source": [
    "new_word"
   ]
  },
  {
   "cell_type": "markdown",
   "id": "b61dcc20",
   "metadata": {},
   "source": [
    "<a name=\"5\"></a>\n",
    "### • Try & Except\n",
    "\n",
    "🔸 We need to extract the **numeric** part of each rating in the `ratings` list and store the integer version into a new variable called `ratings_list`. But some of the ratings have the <u>issue</u> that lead to errors in runtime. **How can we handle the errors?** 🙄"
   ]
  },
  {
   "cell_type": "code",
   "execution_count": 12,
   "id": "a4a14d1e",
   "metadata": {},
   "outputs": [],
   "source": [
    "ratings = [\n",
    "    '1 star', '5 stars', '3 stars', 'stars 2',\n",
    "    '5 stars', '5 stars', 'star 1', '4 stars',\n",
    "    'stars 4', '1 star', '5 stars', '5 stars'\n",
    "]"
   ]
  },
  {
   "cell_type": "code",
   "execution_count": 15,
   "id": "4a1209b7",
   "metadata": {},
   "outputs": [
    {
     "name": "stdout",
     "output_type": "stream",
     "text": [
      "1 star -> 1\n",
      "5 stars -> 5\n",
      "3 stars -> 3\n",
      "stars 2 -> s\n"
     ]
    },
    {
     "ename": "ValueError",
     "evalue": "invalid literal for int() with base 10: 's'",
     "output_type": "error",
     "traceback": [
      "\u001b[1;31m---------------------------------------------------------------------------\u001b[0m",
      "\u001b[1;31mValueError\u001b[0m                                Traceback (most recent call last)",
      "Cell \u001b[1;32mIn[15], line 5\u001b[0m\n\u001b[0;32m      3\u001b[0m \u001b[38;5;28;01mfor\u001b[39;00m rating \u001b[38;5;129;01min\u001b[39;00m ratings:\n\u001b[0;32m      4\u001b[0m     \u001b[38;5;28mprint\u001b[39m(rating, \u001b[38;5;124m'\u001b[39m\u001b[38;5;124m->\u001b[39m\u001b[38;5;124m'\u001b[39m, rating[\u001b[38;5;241m0\u001b[39m])\n\u001b[1;32m----> 5\u001b[0m     int_rate \u001b[38;5;241m=\u001b[39m \u001b[38;5;28;43mint\u001b[39;49m\u001b[43m(\u001b[49m\u001b[43mrating\u001b[49m\u001b[43m[\u001b[49m\u001b[38;5;241;43m0\u001b[39;49m\u001b[43m]\u001b[49m\u001b[43m)\u001b[49m\n\u001b[0;32m      6\u001b[0m     ratings_list\u001b[38;5;241m.\u001b[39mappend(int_rate)\n\u001b[0;32m      8\u001b[0m \u001b[38;5;28mprint\u001b[39m(\u001b[38;5;124m'\u001b[39m\u001b[38;5;124mDone!\u001b[39m\u001b[38;5;124m'\u001b[39m)\n",
      "\u001b[1;31mValueError\u001b[0m: invalid literal for int() with base 10: 's'"
     ]
    }
   ],
   "source": [
    "ratings_list = []\n",
    "\n",
    "for rating in ratings:\n",
    "    print(rating, '->', rating[0])\n",
    "    int_rate = int(rating[0])\n",
    "    ratings_list.append(int_rate)\n",
    "    \n",
    "print('Done!')"
   ]
  },
  {
   "cell_type": "markdown",
   "id": "f4de2ab6",
   "metadata": {},
   "source": [
    "🔸 <span style=\"font-size:2rem;font-weight:bold;\">Let's</span> use <span style=\"font-family:consolas;color:darkgreen;font-weight:bold;\">try</span> and <span style=\"font-family:consolas;color:darkgreen;font-weight:bold;\">except</span> statements to handle the error!"
   ]
  },
  {
   "cell_type": "code",
   "execution_count": 14,
   "id": "64ab96bc",
   "metadata": {},
   "outputs": [
    {
     "name": "stdout",
     "output_type": "stream",
     "text": [
      "There is a problem with stars 2\n",
      "There is a problem with star 1\n",
      "There is a problem with stars 4\n",
      "Done!\n"
     ]
    }
   ],
   "source": [
    "# Use a simple try-except block to\n",
    "# handle the exception\n",
    "ratings_list = []\n",
    "\n",
    "for rating in ratings:\n",
    "    try:\n",
    "        int_rate = int(rating[0])\n",
    "        ratings_list.append(int_rate)\n",
    "    except:\n",
    "        print(f\"There is a problem with {rating}\")\n",
    "    \n",
    "print('Done!')"
   ]
  },
  {
   "cell_type": "code",
   "execution_count": 16,
   "id": "29a7ccaa",
   "metadata": {},
   "outputs": [
    {
     "data": {
      "text/plain": [
       "[1, 5, 3]"
      ]
     },
     "execution_count": 16,
     "metadata": {},
     "output_type": "execute_result"
    }
   ],
   "source": [
    "ratings_list"
   ]
  },
  {
   "cell_type": "code",
   "execution_count": 17,
   "id": "f047f477",
   "metadata": {},
   "outputs": [
    {
     "data": {
      "text/plain": [
       "(12, 3)"
      ]
     },
     "execution_count": 17,
     "metadata": {},
     "output_type": "execute_result"
    }
   ],
   "source": [
    "# Compare the length of 'ratings', 'ratings_list'\n",
    "len(ratings), len(ratings_list)"
   ]
  },
  {
   "cell_type": "markdown",
   "id": "5c77b21c",
   "metadata": {},
   "source": [
    "🔸 <span style=\"font-size:2rem;font-weight:bold;\">Change</span> your code so that it adds the item that gives an error to the `ratings_list`. "
   ]
  },
  {
   "cell_type": "code",
   "execution_count": 18,
   "id": "9be65920",
   "metadata": {},
   "outputs": [
    {
     "data": {
      "text/plain": [
       "['1 star',\n",
       " '5 stars',\n",
       " '3 stars',\n",
       " 'stars 2',\n",
       " '5 stars',\n",
       " '5 stars',\n",
       " 'star 1',\n",
       " '4 stars',\n",
       " 'stars 4',\n",
       " '1 star',\n",
       " '5 stars',\n",
       " '5 stars']"
      ]
     },
     "execution_count": 18,
     "metadata": {},
     "output_type": "execute_result"
    }
   ],
   "source": [
    "ratings"
   ]
  },
  {
   "cell_type": "code",
   "execution_count": 19,
   "id": "98c5a8d7",
   "metadata": {},
   "outputs": [
    {
     "name": "stdout",
     "output_type": "stream",
     "text": [
      "There is a problem with stars 2\n",
      "There is a problem with star 1\n",
      "There is a problem with stars 4\n",
      "Done!\n"
     ]
    }
   ],
   "source": [
    "# Write your code here\n",
    "ratings_list = []\n",
    "\n",
    "for rating in ratings:\n",
    "    try:\n",
    "        int_rate = int(rating[0])\n",
    "        ratings_list.append(int_rate)\n",
    "    except:\n",
    "        print(f\"There is a problem with {rating}\")\n",
    "        int_rate = int(rating[-1])\n",
    "        ratings_list.append(int_rate)\n",
    "    \n",
    "print('Done!')"
   ]
  },
  {
   "cell_type": "code",
   "execution_count": 20,
   "id": "a7105cdb",
   "metadata": {},
   "outputs": [
    {
     "data": {
      "text/plain": [
       "[1, 5, 3, 2, 5, 5, 1, 4, 4, 1, 5, 5]"
      ]
     },
     "execution_count": 20,
     "metadata": {},
     "output_type": "execute_result"
    }
   ],
   "source": [
    "ratings_list"
   ]
  },
  {
   "cell_type": "code",
   "execution_count": 21,
   "id": "5d68b523",
   "metadata": {},
   "outputs": [
    {
     "data": {
      "text/plain": [
       "(12, 12)"
      ]
     },
     "execution_count": 21,
     "metadata": {},
     "output_type": "execute_result"
    }
   ],
   "source": [
    "len(ratings), len(ratings_list)"
   ]
  },
  {
   "cell_type": "markdown",
   "id": "aca71cd9",
   "metadata": {},
   "source": [
    "<div class='alert alert-info'>\n",
    "💡 Practically speaking, analysts don't tend to work with try\n",
    "and except logic too much. Libraries like <a href='https://pandas.pydata.org/' target='_blank'>Pandas</a> have very good\n",
    "data cleaning functions that are more efficient than building for-while loops or try-except block.\n",
    "</div>"
   ]
  },
  {
   "cell_type": "markdown",
   "id": "066707a7",
   "metadata": {},
   "source": [
    "---\n",
    "<a name=\"end\"></a>\n",
    "### Congrats! \n",
    "\n",
    "🔥 Let's go to the next session.\n",
    "\n",
    "📝 This Jupyter notebook has been created by [Ahmad Ahmadi](https://www.linkedin.com/in/ahmad-ahmadi95/).Please follow me and [izlearn](https://www.linkedin.com/company/izlearn) on LinkedIn social media.  \n",
    "\n",
    "🌐 Visit your website for more courses [izlearn.ir](https://izlearn.ir)\n"
   ]
  }
 ],
 "metadata": {
  "kernelspec": {
   "display_name": "Python 3 (ipykernel)",
   "language": "python",
   "name": "python3"
  },
  "language_info": {
   "codemirror_mode": {
    "name": "ipython",
    "version": 3
   },
   "file_extension": ".py",
   "mimetype": "text/x-python",
   "name": "python",
   "nbconvert_exporter": "python",
   "pygments_lexer": "ipython3",
   "version": "3.9.5"
  }
 },
 "nbformat": 4,
 "nbformat_minor": 5
}
