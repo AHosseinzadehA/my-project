{
 "cells": [
  {
   "cell_type": "markdown",
   "id": "4554c15b",
   "metadata": {},
   "source": [
    "## • Tax on Transactions\n",
    "\n",
    "🔸 Last weekend we forgot to apply tax on our transactions list, so we told the customers we would charge them for tax later."
   ]
  },
  {
   "cell_type": "code",
   "execution_count": null,
   "id": "4f526a4d",
   "metadata": {},
   "outputs": [],
   "source": [
    "subtotals = [400.99, 115.6, 250.71, 430.33, 250.5, 370.9, 252.2]"
   ]
  },
  {
   "attachments": {},
   "cell_type": "markdown",
   "id": "4b15fba5",
   "metadata": {},
   "source": [
    "🔸 **Can you apply sales tax to all of the transactions?**\n",
    "\n",
    "🔸 The tax rate is **7%**\n",
    "\n",
    "🔸 Once we've calculated the taxes, we'll need to <u>add them to their subtotals and calculate the total invoice</u> value.\n",
    "\n",
    "\n",
    "🔸 Your code should produce **two** lists:\n",
    "\n",
    "```python\n",
    "\n",
    "taxes = [28.07, 8.09, 17.55, 30.12, 17.54, 25.96, 17.65]\n",
    "\n",
    "totals = [429.06, 123.69, 268.26, 460.45, 268.04, 396.86, 269.85]\n",
    "```"
   ]
  },
  {
   "cell_type": "code",
   "execution_count": null,
   "id": "4d924834",
   "metadata": {},
   "outputs": [],
   "source": [
    "# 1. Start here (method one)\n"
   ]
  },
  {
   "cell_type": "code",
   "execution_count": null,
   "id": "2da4eb2f",
   "metadata": {},
   "outputs": [],
   "source": [
    "taxes"
   ]
  },
  {
   "cell_type": "code",
   "execution_count": null,
   "id": "30ef4db1",
   "metadata": {},
   "outputs": [],
   "source": [
    "totals"
   ]
  },
  {
   "cell_type": "markdown",
   "id": "6518dcf8",
   "metadata": {},
   "source": [
    "## • Another Approach\n",
    "\n",
    "🔸 We can use **Looping Over Indices** using <span style='color:darkgreen;font-family:consolas;font-weight:bold;'>range</span> and <span style='color:darkgreen;font-family:consolas;font-weight:bold;'>len</span> function on **subtotals**."
   ]
  },
  {
   "cell_type": "code",
   "execution_count": null,
   "id": "99e0f790",
   "metadata": {},
   "outputs": [],
   "source": [
    "# 2. Start here (approach two)(optional)\n"
   ]
  },
  {
   "cell_type": "code",
   "execution_count": null,
   "id": "cfd01bfe",
   "metadata": {},
   "outputs": [],
   "source": [
    "taxes"
   ]
  },
  {
   "cell_type": "code",
   "execution_count": null,
   "id": "b061457f",
   "metadata": {},
   "outputs": [],
   "source": [
    "totals"
   ]
  },
  {
   "cell_type": "markdown",
   "id": "653e20ec",
   "metadata": {},
   "source": [
    "---\n",
    "<a name=\"end\"></a>\n",
    "### Congrats! \n",
    "\n",
    "🔥 Let's go to the next session.\n",
    "\n",
    "📝 This Jupyter notebook has been created by [Ahmad Ahmadi](https://www.linkedin.com/in/ahmad-ahmadi95/). Please follow me and [izlearn](https://www.linkedin.com/company/izlearn) on LinkedIn social media.  \n",
    "\n",
    "🌐 Visit your website for more courses [izlearn.ir](https://izlearn.ir)\n"
   ]
  }
 ],
 "metadata": {
  "kernelspec": {
   "display_name": "Python 3 (ipykernel)",
   "language": "python",
   "name": "python3"
  },
  "language_info": {
   "codemirror_mode": {
    "name": "ipython",
    "version": 3
   },
   "file_extension": ".py",
   "mimetype": "text/x-python",
   "name": "python",
   "nbconvert_exporter": "python",
   "pygments_lexer": "ipython3",
   "version": "3.9.5"
  }
 },
 "nbformat": 4,
 "nbformat_minor": 5
}
