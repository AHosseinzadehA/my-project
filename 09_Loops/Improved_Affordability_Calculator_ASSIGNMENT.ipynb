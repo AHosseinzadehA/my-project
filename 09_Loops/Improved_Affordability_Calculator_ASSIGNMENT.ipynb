{
 "cells": [
  {
   "cell_type": "markdown",
   "id": "23791484",
   "metadata": {},
   "source": [
    "## • Improved Affordability Calculator\n",
    "\n",
    "🔸 We need to make sure our **affordability calculator** can handle many data types without stopping. Our data is **very messy**. We need to make the following changes to the code below: \n",
    "\n",
    "* Make sure it converts the **string** in the list below into a **float**. <font color=\"blue\">Then process as usuall.</font>\n",
    "* Also, have the loop **skip** any instances of **None** data type. \n",
    "* Then, **Remove the generic except statements** to avoid processing errors.\n",
    "* Finally, **change the hard coded value**, **100**, into a variable so we can change this value based on each customer's budget.\n",
    "---"
   ]
  },
  {
   "cell_type": "markdown",
   "id": "420c2af0",
   "metadata": {},
   "source": [
    "### • Code Preview to Change\n",
    "\n",
    "🔸 You need to apply the above instructions to the code below 👇🏼"
   ]
  },
  {
   "cell_type": "code",
   "execution_count": 8,
   "id": "8ae0b29c",
   "metadata": {},
   "outputs": [
    {
     "name": "stdout",
     "output_type": "stream",
     "text": [
      "I can buy 33.0 of these.\n",
      "I can buy 9.0 of these.\n",
      "I can buy 12.0 of these.\n",
      "This product is free. The price is €0.\n",
      "I can buy 4.0 of these.\n",
      "I can buy 1.0 of these.\n"
     ]
    }
   ],
   "source": [
    "prices = [2.99, None, 10.99, 7.99, 0, \"20.99\", 50.99]\n",
    "\n",
    "# how many of each item can I buy? \n",
    "for price in prices:\n",
    "    if price == None:\n",
    "        continue\n",
    "        \n",
    "    try:\n",
    "        #affordability_quantity = 100 // price # my budget is €100\n",
    "        affordability_quantity = round((float(100 // price)),1)\n",
    "        \n",
    "        print(f'I can buy {affordability_quantity} of these.')\n",
    "    \n",
    "    except ZeroDivisionError:\n",
    "        print(f'This product is free. The price is €{price}.')\n",
    "        \n",
    "    except TypeError: # I need to get rid of general except statment\n",
    "       \n",
    "        price_float = round(100 //(float(\"20.99\")), 1)\n",
    "        print(f'I can buy {price_float} of these.') "
   ]
  },
  {
   "cell_type": "markdown",
   "id": "0236453a",
   "metadata": {},
   "source": [
    "---\n",
    "<a name=\"end\"></a>\n",
    "### Congrats! \n",
    "\n",
    "🔥 Let's go to the next session.\n",
    "\n",
    "📝 This Jupyter notebook has been created by [Ahmad Ahmadi](https://www.linkedin.com/in/ahmad-ahmadi95/). Please follow me and [izlearn](https://www.linkedin.com/company/izlearn) on LinkedIn social media.  \n",
    "\n",
    "🌐 Visit your website for more courses [izlearn.ir](https://izlearn.ir)\n"
   ]
  }
 ],
 "metadata": {
  "kernelspec": {
   "display_name": "Python 3 (ipykernel)",
   "language": "python",
   "name": "python3"
  },
  "language_info": {
   "codemirror_mode": {
    "name": "ipython",
    "version": 3
   },
   "file_extension": ".py",
   "mimetype": "text/x-python",
   "name": "python",
   "nbconvert_exporter": "python",
   "pygments_lexer": "ipython3",
   "version": "3.9.5"
  }
 },
 "nbformat": 4,
 "nbformat_minor": 5
}
