{
 "cells": [
  {
   "cell_type": "markdown",
   "id": "4d07ca1d",
   "metadata": {},
   "source": [
    "#### • Table of the content\n",
    "\n",
    "1. [Enumerate Function](#1)\n",
    "2. [Previous Session](#1-2)\n",
    "3. [Using enumerate( ) Function](#1-3)\n",
    "4. [A Little Bit Imporvement](#1-4)\n",
    "5. [Looping Over Iterables of Different Sizes](#1-5)\n",
    "6. [Start Argument in enumerate( )](#1-6)\n",
    "7. [More Info (Follow Me on LinkedIn)](#end)\n",
    "---"
   ]
  },
  {
   "cell_type": "markdown",
   "id": "3cffbe0a",
   "metadata": {},
   "source": [
    "<a name='1'></a>\n",
    "## • Enumerate Function\n",
    "\n",
    "🔸 The <span style=\"font-family:Consolas;color:green;font-weight:bold;\">enumerate</span>( ) function returns both the ***index*** and ***item*** of each in an iterable as it loop through."
   ]
  },
  {
   "cell_type": "code",
   "execution_count": 1,
   "id": "24c751a9",
   "metadata": {},
   "outputs": [],
   "source": [
    "items = ['Belt', 'Shirt', 'Pants','Dress', 'Bracelet']"
   ]
  },
  {
   "cell_type": "code",
   "execution_count": 2,
   "id": "cf6e4971",
   "metadata": {},
   "outputs": [],
   "source": [
    "prices = [5.99, 7.99, 10.99, 20.99, 9.99, 99.99]"
   ]
  },
  {
   "cell_type": "code",
   "execution_count": 3,
   "id": "0de67582",
   "metadata": {},
   "outputs": [],
   "source": [
    "inventory = [10, 14, 10, 15, 8, 27]"
   ]
  },
  {
   "cell_type": "markdown",
   "id": "2a748642",
   "metadata": {},
   "source": [
    "<a name='1-2'></a>\n",
    "### • Previous Session ...\n",
    "\n",
    "🔸 From the previous session we learned we could **loop over indices** and use them to grab out the item within an iterable or other iterables of the same length!"
   ]
  },
  {
   "cell_type": "code",
   "execution_count": 6,
   "id": "e1d493ad",
   "metadata": {},
   "outputs": [
    {
     "name": "stdout",
     "output_type": "stream",
     "text": [
      "Done!\n"
     ]
    }
   ],
   "source": [
    "product_values = []\n",
    "\n",
    "for i in range(len(inventory)):\n",
    "    product_values.append(round(inventory[i] * prices[i], 2))\n",
    "    \n",
    "print('Done!')"
   ]
  },
  {
   "cell_type": "code",
   "execution_count": 7,
   "id": "5bf88a21",
   "metadata": {},
   "outputs": [
    {
     "data": {
      "text/plain": [
       "[59.9, 111.86, 109.9, 314.85, 79.92, 2699.73]"
      ]
     },
     "execution_count": 7,
     "metadata": {},
     "output_type": "execute_result"
    }
   ],
   "source": [
    "product_values"
   ]
  },
  {
   "cell_type": "code",
   "execution_count": 8,
   "id": "be0bbad5",
   "metadata": {},
   "outputs": [
    {
     "data": {
      "text/plain": [
       "3376.16"
      ]
     },
     "execution_count": 8,
     "metadata": {},
     "output_type": "execute_result"
    }
   ],
   "source": [
    "sum(product_values)"
   ]
  },
  {
   "cell_type": "markdown",
   "id": "ee070fbc",
   "metadata": {},
   "source": [
    "<a name='1-3'></a>\n",
    "### • Using enumerate(iterable) Function\n",
    "\n",
    "🔸 But now that we know about <span style='color:darkgreen;font-family:consolas;font-weight:bold;'>enumerate</span>( ) function, we can use it to create the **indices** and its **corresponding items** within an iterable as we loop through."
   ]
  },
  {
   "cell_type": "code",
   "execution_count": 9,
   "id": "3db30496",
   "metadata": {},
   "outputs": [
    {
     "data": {
      "text/plain": [
       "[10, 14, 10, 15, 8, 27]"
      ]
     },
     "execution_count": 9,
     "metadata": {},
     "output_type": "execute_result"
    }
   ],
   "source": [
    "inventory"
   ]
  },
  {
   "cell_type": "code",
   "execution_count": 10,
   "id": "ab6a91b0",
   "metadata": {},
   "outputs": [
    {
     "data": {
      "text/plain": [
       "<enumerate at 0x23e1513af00>"
      ]
     },
     "execution_count": 10,
     "metadata": {},
     "output_type": "execute_result"
    }
   ],
   "source": [
    "# 1. Use 'inventory' as an input for enumerate()\n",
    "enumerate(inventory)"
   ]
  },
  {
   "cell_type": "code",
   "execution_count": 11,
   "id": "eee2c8bd",
   "metadata": {},
   "outputs": [
    {
     "data": {
      "text/plain": [
       "[(0, 10), (1, 14), (2, 10), (3, 15), (4, 8), (5, 27)]"
      ]
     },
     "execution_count": 11,
     "metadata": {},
     "output_type": "execute_result"
    }
   ],
   "source": [
    "# 2. Convert it to a list\n",
    "list(enumerate(inventory))"
   ]
  },
  {
   "cell_type": "code",
   "execution_count": 15,
   "id": "83fd403b",
   "metadata": {},
   "outputs": [
    {
     "name": "stdout",
     "output_type": "stream",
     "text": [
      "Done!\n"
     ]
    }
   ],
   "source": [
    "# 3. Use enumerate( ) function with previous problem!\n",
    "product_values = []\n",
    "\n",
    "for index, value in enumerate(inventory):\n",
    "    product_values.append(round(prices[index] * value, 2))\n",
    "    \n",
    "print('Done!')"
   ]
  },
  {
   "cell_type": "code",
   "execution_count": 16,
   "id": "95301e22",
   "metadata": {},
   "outputs": [
    {
     "data": {
      "text/plain": [
       "[59.9, 111.86, 109.9, 314.85, 79.92, 2699.73]"
      ]
     },
     "execution_count": 16,
     "metadata": {},
     "output_type": "execute_result"
    }
   ],
   "source": [
    "product_values"
   ]
  },
  {
   "cell_type": "code",
   "execution_count": 17,
   "id": "a5454d99",
   "metadata": {},
   "outputs": [
    {
     "data": {
      "text/plain": [
       "3376.16"
      ]
     },
     "execution_count": 17,
     "metadata": {},
     "output_type": "execute_result"
    }
   ],
   "source": [
    "sum(product_values)"
   ]
  },
  {
   "cell_type": "markdown",
   "id": "d4033331",
   "metadata": {},
   "source": [
    "<a name='1-4'></a>\n",
    "### • A Little Bit Improvement ...\n",
    "\n",
    "🔸 For readability purposes, it's recommended to save your calculations into a separate variable!"
   ]
  },
  {
   "cell_type": "code",
   "execution_count": 19,
   "id": "611c7b8f",
   "metadata": {},
   "outputs": [
    {
     "name": "stdout",
     "output_type": "stream",
     "text": [
      "Done!\n"
     ]
    }
   ],
   "source": [
    "product_values = []\n",
    "\n",
    "for index, price in enumerate(prices):\n",
    "    product_value = round(inventory[index] * price, 2)\n",
    "    product_values.append(product_value)\n",
    "\n",
    "print('Done!')"
   ]
  },
  {
   "cell_type": "code",
   "execution_count": 20,
   "id": "19fd1639",
   "metadata": {},
   "outputs": [
    {
     "data": {
      "text/plain": [
       "[59.9, 111.86, 109.9, 314.85, 79.92, 2699.73]"
      ]
     },
     "execution_count": 20,
     "metadata": {},
     "output_type": "execute_result"
    }
   ],
   "source": [
    "product_values"
   ]
  },
  {
   "cell_type": "markdown",
   "id": "ef5f947c",
   "metadata": {},
   "source": [
    "<a name='1-5'></a>\n",
    "### • Looping Over Iterables of Different Sizes\n",
    "\n",
    "🔸 What happens if one of the lists was **shorter** than the other?"
   ]
  },
  {
   "cell_type": "code",
   "execution_count": 23,
   "id": "d0de0f94",
   "metadata": {},
   "outputs": [],
   "source": [
    "inventory = [10, 14, 10, 15, 8, 27] # 6 members → last index = 5"
   ]
  },
  {
   "cell_type": "code",
   "execution_count": 24,
   "id": "8f6d904d",
   "metadata": {},
   "outputs": [],
   "source": [
    "prices = [5.99, 7.99, 10.99, 20.99, 9.99] # 5 members → last index = 4"
   ]
  },
  {
   "cell_type": "markdown",
   "id": "38d5cbb0",
   "metadata": {},
   "source": [
    "🔸 Complete the *for loop body* and run the cell to see the result!"
   ]
  },
  {
   "cell_type": "code",
   "execution_count": 26,
   "id": "96964926",
   "metadata": {},
   "outputs": [
    {
     "name": "stdout",
     "output_type": "stream",
     "text": [
      "index: 0 5.99 10\n",
      "index: 1 7.99 14\n",
      "index: 2 10.99 10\n",
      "index: 3 20.99 15\n",
      "index: 4 9.99 8\n"
     ]
    },
    {
     "ename": "IndexError",
     "evalue": "list index out of range",
     "output_type": "error",
     "traceback": [
      "\u001b[1;31m---------------------------------------------------------------------------\u001b[0m",
      "\u001b[1;31mIndexError\u001b[0m                                Traceback (most recent call last)",
      "Cell \u001b[1;32mIn[26], line 2\u001b[0m\n\u001b[0;32m      1\u001b[0m \u001b[38;5;28;01mfor\u001b[39;00m index, value \u001b[38;5;129;01min\u001b[39;00m \u001b[38;5;28menumerate\u001b[39m(inventory):\n\u001b[1;32m----> 2\u001b[0m     \u001b[38;5;28mprint\u001b[39m(\u001b[38;5;124m'\u001b[39m\u001b[38;5;124mindex:\u001b[39m\u001b[38;5;124m'\u001b[39m, index, \u001b[43mprices\u001b[49m\u001b[43m[\u001b[49m\u001b[43mindex\u001b[49m\u001b[43m]\u001b[49m, value)\n",
      "\u001b[1;31mIndexError\u001b[0m: list index out of range"
     ]
    }
   ],
   "source": [
    "for index, value in enumerate(inventory):\n",
    "    print('index:', index, prices[index], value)"
   ]
  },
  {
   "cell_type": "markdown",
   "id": "c67ff763",
   "metadata": {},
   "source": [
    "<div class=\"alert alert-danger\">\n",
    "    <strong></strong>\n",
    "    👨🏻‍🏫 Did you see that?<br><span style=\"font-family:Consolas;font-weight:bold;\">IndexError: List index out of range</span>\n",
    "<br>\n",
    "    👨🏻‍🏫 It's a common error that beginners will face during working with loops and multi-iterables.\n",
    "</div>"
   ]
  },
  {
   "cell_type": "markdown",
   "id": "f465d4ee",
   "metadata": {},
   "source": [
    "<a name='1-6'></a>\n",
    "### • Start Argument in enmuerate(iterable, start=0 )\n",
    "\n",
    "🔸 <span style='font-family:consolas;'>enumerate(iterable, start=0)</span> accepts another optional argment, which is called **start**. Normally the first index of everything is considered **ZERO** by Python. In some cases you need to change this default behaviour. In that situation you can pass <span style='color:blue;font-family:consolas;'>start = a number you want</span> as the first index to count!"
   ]
  },
  {
   "cell_type": "code",
   "execution_count": 27,
   "id": "20c3a9ad",
   "metadata": {},
   "outputs": [],
   "source": [
    "numbers = ['one', 'two', 'three', 'four', 'five']"
   ]
  },
  {
   "cell_type": "code",
   "execution_count": 28,
   "id": "45207104",
   "metadata": {},
   "outputs": [
    {
     "data": {
      "text/plain": [
       "[(0, 'one'), (1, 'two'), (2, 'three'), (3, 'four'), (4, 'five')]"
      ]
     },
     "execution_count": 28,
     "metadata": {},
     "output_type": "execute_result"
    }
   ],
   "source": [
    "list(enumerate(numbers))"
   ]
  },
  {
   "cell_type": "code",
   "execution_count": 31,
   "id": "a39078b9",
   "metadata": {},
   "outputs": [
    {
     "data": {
      "text/plain": [
       "[(1, 'one'), (2, 'two'), (3, 'three'), (4, 'four'), (5, 'five')]"
      ]
     },
     "execution_count": 31,
     "metadata": {},
     "output_type": "execute_result"
    }
   ],
   "source": [
    "list(enumerate(numbers, start=1))"
   ]
  },
  {
   "cell_type": "markdown",
   "id": "dec0b0a2",
   "metadata": {},
   "source": [
    "---\n",
    "<a name=\"end\"></a>\n",
    "### Congrats! \n",
    "\n",
    "🔥 Let's go to the next session.\n",
    "\n",
    "📝 This Jupyter notebook has been created by [Ahmad Ahmadi](https://www.linkedin.com/in/ahmad-ahmadi95/). Please follow me and [izlearn](https://www.linkedin.com/company/izlearn) on LinkedIn social media.  \n",
    "\n",
    "🌐 Visit your website for more courses [izlearn.ir](https://izlearn.ir)\n"
   ]
  }
 ],
 "metadata": {
  "kernelspec": {
   "display_name": "Python 3 (ipykernel)",
   "language": "python",
   "name": "python3"
  },
  "language_info": {
   "codemirror_mode": {
    "name": "ipython",
    "version": 3
   },
   "file_extension": ".py",
   "mimetype": "text/x-python",
   "name": "python",
   "nbconvert_exporter": "python",
   "pygments_lexer": "ipython3",
   "version": "3.9.5"
  }
 },
 "nbformat": 4,
 "nbformat_minor": 5
}
