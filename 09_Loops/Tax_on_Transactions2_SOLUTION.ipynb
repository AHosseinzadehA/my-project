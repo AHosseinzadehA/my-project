{
 "cells": [
  {
   "cell_type": "markdown",
   "id": "414bd1d7",
   "metadata": {},
   "source": [
    "## • Different Cities, Different Taxes\n",
    "\n",
    "🔸 We forgot to account for the fact that **different cities** have **different tax rates**, so we need to modify our loop previously built.\n",
    "\n",
    "🔸 We have a list containing location of each transaction. For the index **`i=n`** The transaction **`subtotals[i]`** took place at **`locations[i]`**"
   ]
  },
  {
   "cell_type": "code",
   "execution_count": 1,
   "id": "ca309609",
   "metadata": {},
   "outputs": [],
   "source": [
    "subtotals = [400.99, 115.6, 250.71, 430.33, 250.5, 370.9, 252.2]"
   ]
  },
  {
   "cell_type": "code",
   "execution_count": 2,
   "id": "a075dea1",
   "metadata": {},
   "outputs": [],
   "source": [
    "locations = ['Brussels', 'Madrid', 'Bremen',\n",
    "             'Basel', 'Turin', 'Espoo', 'Paris']"
   ]
  },
  {
   "cell_type": "markdown",
   "id": "de11b8b8",
   "metadata": {},
   "source": [
    "🎯 The following **tax rate** should be applied for each location:\n",
    "\n",
    "* [Madrid](https://en.wikipedia.org/wiki/Madrid) : **12.5%**\n",
    "* [Basel](https://en.wikipedia.org/wiki/Basel) : **8.1%**\n",
    "* [Turin](https://en.wikipedia.org/wiki/Turin) : **22%**\n",
    "* Other cities : **7%**"
   ]
  },
  {
   "cell_type": "code",
   "execution_count": 6,
   "id": "23440694",
   "metadata": {},
   "outputs": [
    {
     "name": "stdout",
     "output_type": "stream",
     "text": [
      "Done!\n"
     ]
    }
   ],
   "source": [
    "# Start your code here:\n",
    "\n",
    "taxes = []\n",
    "totals = []\n",
    "\n",
    "for i, subtotal in enumerate(subtotals):\n",
    "    city = locations[i]\n",
    "    if city == 'Madrid':\n",
    "        tax = round(subtotal * 0.125, 2)\n",
    "        \n",
    "    elif city == 'Basel':\n",
    "        tax = round(subtotal * 0.081, 2)\n",
    "        \n",
    "    elif city == 'Turin':\n",
    "        tax = round(subtotal * 0.22, 2)\n",
    "        \n",
    "    else:\n",
    "        tax = round(subtotal * 0.07, 2)\n",
    "          \n",
    "    total = round(subtotal + tax, 2)\n",
    "    \n",
    "    taxes.append(tax)\n",
    "    totals.append(total)\n",
    "    \n",
    "print('Done!')"
   ]
  },
  {
   "cell_type": "code",
   "execution_count": 7,
   "id": "530c1140",
   "metadata": {},
   "outputs": [
    {
     "data": {
      "text/plain": [
       "[28.07, 14.45, 17.55, 34.86, 55.11, 25.96, 17.65]"
      ]
     },
     "execution_count": 7,
     "metadata": {},
     "output_type": "execute_result"
    }
   ],
   "source": [
    "taxes"
   ]
  },
  {
   "cell_type": "code",
   "execution_count": 8,
   "id": "ecb5fb67",
   "metadata": {},
   "outputs": [
    {
     "data": {
      "text/plain": [
       "[429.06, 130.05, 268.26, 465.19, 305.61, 396.86, 269.85]"
      ]
     },
     "execution_count": 8,
     "metadata": {},
     "output_type": "execute_result"
    }
   ],
   "source": [
    "totals"
   ]
  },
  {
   "cell_type": "markdown",
   "id": "daf05a22",
   "metadata": {},
   "source": [
    "---\n",
    "<a name=\"end\"></a>\n",
    "### Congrats! \n",
    "\n",
    "🔥 Let's go to the next session.\n",
    "\n",
    "📝 This Jupyter notebook has been created by [Ahmad Ahmadi](https://www.linkedin.com/in/ahmad-ahmadi95/). Please follow me and [izlearn](https://www.linkedin.com/company/izlearn) on LinkedIn social media.  \n",
    "\n",
    "🌐 Visit your website for more courses [izlearn.ir](https://izlearn.ir)\n"
   ]
  }
 ],
 "metadata": {
  "kernelspec": {
   "display_name": "Python 3 (ipykernel)",
   "language": "python",
   "name": "python3"
  },
  "language_info": {
   "codemirror_mode": {
    "name": "ipython",
    "version": 3
   },
   "file_extension": ".py",
   "mimetype": "text/x-python",
   "name": "python",
   "nbconvert_exporter": "python",
   "pygments_lexer": "ipython3",
   "version": "3.9.5"
  }
 },
 "nbformat": 4,
 "nbformat_minor": 5
}
