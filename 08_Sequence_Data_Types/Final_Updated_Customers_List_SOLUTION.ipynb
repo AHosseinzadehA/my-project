{
 "cells": [
  {
   "cell_type": "markdown",
   "id": "d22a7653",
   "metadata": {},
   "source": [
    "## • Updated Customer Lists (Final Update)\n",
    "\n",
    "🔸Sorry to say that but;\n",
    "\n",
    "• We now need to remove the Saturday customers from the list.\n",
    "\n",
    "• I've included the final version of (from previous assingment) `customer_ids` below.\n",
    "\n",
    "📍 The *Saturday customers* are **final six** customers in `customer_ids`."
   ]
  },
  {
   "cell_type": "code",
   "execution_count": 5,
   "id": "bc42b731",
   "metadata": {},
   "outputs": [],
   "source": [
    "customer_ids = ['c00001','c00003','c00004','c00005',\n",
    "                 'c00006','c00007','c00018','c00009',\n",
    "                 'c00010','c00013','c00014','c00015',\n",
    "                 'c00016','c00019','c00017','c00020',\n",
    "                 'c00002','c00008','c00021','c00022']"
   ]
  },
  {
   "cell_type": "code",
   "execution_count": 6,
   "id": "95595f6d",
   "metadata": {},
   "outputs": [
    {
     "data": {
      "text/plain": [
       "['c00001',\n",
       " 'c00003',\n",
       " 'c00004',\n",
       " 'c00005',\n",
       " 'c00006',\n",
       " 'c00007',\n",
       " 'c00018',\n",
       " 'c00009',\n",
       " 'c00010',\n",
       " 'c00013',\n",
       " 'c00014',\n",
       " 'c00015',\n",
       " 'c00016',\n",
       " 'c00019',\n",
       " 'c00017',\n",
       " 'c00020',\n",
       " 'c00002',\n",
       " 'c00008',\n",
       " 'c00021',\n",
       " 'c00022']"
      ]
     },
     "execution_count": 6,
     "metadata": {},
     "output_type": "execute_result"
    }
   ],
   "source": [
    "customer_ids"
   ]
  },
  {
   "cell_type": "markdown",
   "id": "98157d15",
   "metadata": {},
   "source": [
    "### • Method one (using \"del\" keyword)"
   ]
  },
  {
   "cell_type": "code",
   "execution_count": 3,
   "id": "fc43d95e",
   "metadata": {},
   "outputs": [],
   "source": [
    "del customer_ids[-6:]"
   ]
  },
  {
   "cell_type": "code",
   "execution_count": 4,
   "id": "5ddb2893",
   "metadata": {},
   "outputs": [
    {
     "data": {
      "text/plain": [
       "['c00001',\n",
       " 'c00003',\n",
       " 'c00004',\n",
       " 'c00005',\n",
       " 'c00006',\n",
       " 'c00007',\n",
       " 'c00018',\n",
       " 'c00009',\n",
       " 'c00010',\n",
       " 'c00013',\n",
       " 'c00014',\n",
       " 'c00015',\n",
       " 'c00016',\n",
       " 'c00019']"
      ]
     },
     "execution_count": 4,
     "metadata": {},
     "output_type": "execute_result"
    }
   ],
   "source": [
    "customer_ids"
   ]
  },
  {
   "cell_type": "markdown",
   "id": "9abc7b24",
   "metadata": {},
   "source": [
    "### • Method two (using list slicing and overwriting) "
   ]
  },
  {
   "cell_type": "code",
   "execution_count": 9,
   "id": "75b7bead",
   "metadata": {},
   "outputs": [],
   "source": [
    "customer_ids = customer_ids[:-6]"
   ]
  },
  {
   "cell_type": "code",
   "execution_count": 10,
   "id": "5eb65159",
   "metadata": {},
   "outputs": [
    {
     "data": {
      "text/plain": [
       "['c00001',\n",
       " 'c00003',\n",
       " 'c00004',\n",
       " 'c00005',\n",
       " 'c00006',\n",
       " 'c00007',\n",
       " 'c00018',\n",
       " 'c00009',\n",
       " 'c00010',\n",
       " 'c00013',\n",
       " 'c00014',\n",
       " 'c00015',\n",
       " 'c00016',\n",
       " 'c00019']"
      ]
     },
     "execution_count": 10,
     "metadata": {},
     "output_type": "execute_result"
    }
   ],
   "source": [
    "customer_ids"
   ]
  },
  {
   "cell_type": "markdown",
   "id": "31b677d1",
   "metadata": {},
   "source": [
    "### • Delete a friend\n",
    "\n",
    "🔸 Please Remove the customer with the id of **c00009** 🙄 Because he/she is a friend of the owner and shouldn't be recoreded as a sale."
   ]
  },
  {
   "cell_type": "code",
   "execution_count": 11,
   "id": "734986ff",
   "metadata": {},
   "outputs": [],
   "source": [
    "customer_ids.remove('c00009')"
   ]
  },
  {
   "cell_type": "code",
   "execution_count": 12,
   "id": "75c559c3",
   "metadata": {},
   "outputs": [
    {
     "data": {
      "text/plain": [
       "['c00001',\n",
       " 'c00003',\n",
       " 'c00004',\n",
       " 'c00005',\n",
       " 'c00006',\n",
       " 'c00007',\n",
       " 'c00018',\n",
       " 'c00010',\n",
       " 'c00013',\n",
       " 'c00014',\n",
       " 'c00015',\n",
       " 'c00016',\n",
       " 'c00019']"
      ]
     },
     "execution_count": 12,
     "metadata": {},
     "output_type": "execute_result"
    }
   ],
   "source": [
    "customer_ids"
   ]
  },
  {
   "cell_type": "markdown",
   "id": "9bcfcc68",
   "metadata": {},
   "source": [
    "🔸 Let's check if **c00009** is in the `customer_ids` or not!"
   ]
  },
  {
   "cell_type": "code",
   "execution_count": 13,
   "id": "58e28ce6",
   "metadata": {},
   "outputs": [
    {
     "data": {
      "text/plain": [
       "False"
      ]
     },
     "execution_count": 13,
     "metadata": {},
     "output_type": "execute_result"
    }
   ],
   "source": [
    "'c00009' in customer_ids"
   ]
  },
  {
   "cell_type": "markdown",
   "id": "34bea576",
   "metadata": {},
   "source": [
    "---\n",
    "<a name=\"end\"></a>\n",
    "### Congrats! \n",
    "\n",
    "🔥 Let's go to the next session.\n",
    "\n",
    "📝 This Jupyter notebook has been created by [Ahmad Ahmadi](https://www.linkedin.com/in/ahmad-ahmadi95/).Please follow me and [izlearn](https://www.linkedin.com/company/izlearn) on the LinkedIn social media.  \n",
    "\n",
    "🌐 Visit your website for more courses [izlearn.ir](https://izlearn.ir)\n"
   ]
  }
 ],
 "metadata": {
  "kernelspec": {
   "display_name": "Python 3 (ipykernel)",
   "language": "python",
   "name": "python3"
  },
  "language_info": {
   "codemirror_mode": {
    "name": "ipython",
    "version": 3
   },
   "file_extension": ".py",
   "mimetype": "text/x-python",
   "name": "python",
   "nbconvert_exporter": "python",
   "pygments_lexer": "ipython3",
   "version": "3.9.5"
  }
 },
 "nbformat": 4,
 "nbformat_minor": 5
}
