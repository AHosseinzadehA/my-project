{
 "cells": [
  {
   "cell_type": "markdown",
   "id": "20cf5b15",
   "metadata": {},
   "source": [
    "#### • Table of the content\n",
    "\n",
    "1. [Why Use Tuples](#1)\n",
    "2. [More Info (Follow Me on LinkedIn)](#end)\n",
    "---"
   ]
  },
  {
   "cell_type": "markdown",
   "id": "a2d76c24",
   "metadata": {},
   "source": [
    "<a name='1'></a>\n",
    "## • Why Use Tuples"
   ]
  },
  {
   "cell_type": "markdown",
   "id": "789c43a2",
   "metadata": {},
   "source": [
    "<a name='1'></a>\n",
    "### 1. Tuples Requires Less Memory"
   ]
  },
  {
   "cell_type": "code",
   "execution_count": 1,
   "id": "c5254192",
   "metadata": {},
   "outputs": [],
   "source": [
    "# import 'sys' and 'timeit' libraries\n",
    "import sys\n",
    "import timeit"
   ]
  },
  {
   "cell_type": "code",
   "execution_count": 2,
   "id": "3868f1ff",
   "metadata": {},
   "outputs": [],
   "source": [
    "my_list = [1, 2, 3, 4, 5]\n",
    "my_tuple = (1, 2, 3, 4, 5)"
   ]
  },
  {
   "cell_type": "code",
   "execution_count": 3,
   "id": "7270822c",
   "metadata": {},
   "outputs": [
    {
     "name": "stdout",
     "output_type": "stream",
     "text": [
      "The List is 120 Bytes.\n",
      "The Tuple is 80 Bytes.\n"
     ]
    }
   ],
   "source": [
    "print(f'The List is {sys.getsizeof(my_list)} Bytes.')\n",
    "print(f'The Tuple is {sys.getsizeof(my_tuple)} Bytes.')"
   ]
  },
  {
   "cell_type": "markdown",
   "id": "c3b352a3",
   "metadata": {},
   "source": [
    "### 2. Operations Execute Quicker On Tuples"
   ]
  },
  {
   "cell_type": "code",
   "execution_count": 4,
   "id": "137aef0f",
   "metadata": {},
   "outputs": [
    {
     "name": "stdout",
     "output_type": "stream",
     "text": [
      "0.012517599999682716\n"
     ]
    }
   ],
   "source": [
    "code = 'sum([1, 2, 3, 4, 5])'\n",
    "\n",
    "print(timeit.timeit(code, number=100000))"
   ]
  },
  {
   "cell_type": "code",
   "execution_count": 5,
   "id": "1912a9af",
   "metadata": {},
   "outputs": [
    {
     "name": "stdout",
     "output_type": "stream",
     "text": [
      "0.009499300000243238\n"
     ]
    }
   ],
   "source": [
    "code = 'sum((1, 2, 3, 4, 5))'\n",
    "\n",
    "print(timeit.timeit(code, number=100000))"
   ]
  },
  {
   "cell_type": "markdown",
   "id": "9cee151d",
   "metadata": {},
   "source": [
    "---\n",
    "<a name=\"end\"></a>\n",
    "### Congrats! \n",
    "\n",
    "🔥 Let's go to the next session.\n",
    "\n",
    "📝 This Jupyter notebook has been created by [Ahmad Ahmadi](https://www.linkedin.com/in/ahmad-ahmadi95/). Please follow me and [izlearn](https://www.linkedin.com/company/izlearn) on LinkedIn social media.  \n",
    "\n",
    "🌐 Visit your website for more courses [izlearn.ir](https://izlearn.ir)"
   ]
  }
 ],
 "metadata": {
  "kernelspec": {
   "display_name": "Python 3 (ipykernel)",
   "language": "python",
   "name": "python3"
  },
  "language_info": {
   "codemirror_mode": {
    "name": "ipython",
    "version": 3
   },
   "file_extension": ".py",
   "mimetype": "text/x-python",
   "name": "python",
   "nbconvert_exporter": "python",
   "pygments_lexer": "ipython3",
   "version": "3.9.5"
  }
 },
 "nbformat": 4,
 "nbformat_minor": 5
}
