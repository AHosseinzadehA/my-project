{
 "cells": [
  {
   "cell_type": "markdown",
   "id": "7c47958a",
   "metadata": {},
   "source": [
    "#### • Table of the content\n",
    "\n",
    "1. [Nested Lists](#1)\n",
    "2. [Accessing Nested Lists](#1-1)\n",
    "3. [Modifying Nested Lists](#1-2)\n",
    "\n",
    "    \n",
    "2. [More Info (Follow Me on LinkedIn)](#end)\n",
    "---"
   ]
  },
  {
   "cell_type": "markdown",
   "id": "ec407f1c",
   "metadata": {},
   "source": [
    "<a name=\"1\"></a>\n",
    "##  • Nested Lists\n",
    "\n",
    "🔸 Lists can accept *other lists* as element. This is called **nested list** meaning that we have lists inside of another list!"
   ]
  },
  {
   "cell_type": "code",
   "execution_count": 1,
   "id": "6877402c",
   "metadata": {},
   "outputs": [],
   "source": [
    "# 0. What is a magic list? \n",
    "magic_list = [[4, 9, 2],\n",
    "              [3, 5, 7],\n",
    "              [8, 1, 6]]"
   ]
  },
  {
   "cell_type": "code",
   "execution_count": 2,
   "id": "12903388",
   "metadata": {},
   "outputs": [
    {
     "data": {
      "text/plain": [
       "[[4, 9, 2], [3, 5, 7], [8, 1, 6]]"
      ]
     },
     "execution_count": 2,
     "metadata": {},
     "output_type": "execute_result"
    }
   ],
   "source": [
    "magic_list"
   ]
  },
  {
   "cell_type": "markdown",
   "id": "589561f3",
   "metadata": {},
   "source": [
    "<a name='1-1'></a>\n",
    "#### • Accessing Nested Lists\n",
    "\n",
    "🔸 We can use *multiple chaing indexing* to access elements within nested lists."
   ]
  },
  {
   "cell_type": "code",
   "execution_count": 3,
   "id": "23117cde",
   "metadata": {},
   "outputs": [
    {
     "data": {
      "text/plain": [
       "[3, 5, 7]"
      ]
     },
     "execution_count": 3,
     "metadata": {},
     "output_type": "execute_result"
    }
   ],
   "source": [
    "# 1. Grab the second element of the 'magic_list'\n",
    "# Expected output : [3, 5, 7]\n",
    "\n",
    "magic_list[1]"
   ]
  },
  {
   "cell_type": "code",
   "execution_count": 5,
   "id": "a9a7a247",
   "metadata": {},
   "outputs": [
    {
     "data": {
      "text/plain": [
       "[[3, 5, 7], [8, 1, 6]]"
      ]
     },
     "execution_count": 5,
     "metadata": {},
     "output_type": "execute_result"
    }
   ],
   "source": [
    "# 2. Grab the last two elements of the 'magic_list'\n",
    "# Expected output : [[3, 5, 7], [8, 1, 6]]\n",
    "\n",
    "magic_list[1:]"
   ]
  },
  {
   "cell_type": "code",
   "execution_count": 8,
   "id": "7ac0e97e",
   "metadata": {},
   "outputs": [
    {
     "data": {
      "text/plain": [
       "6"
      ]
     },
     "execution_count": 8,
     "metadata": {},
     "output_type": "execute_result"
    }
   ],
   "source": [
    "# 3. Grab the last element of the last nested list in the 'magic_list'\n",
    "# Expected output : 6\n",
    "\n",
    "magic_list[-1][-1]"
   ]
  },
  {
   "cell_type": "markdown",
   "id": "11857de8",
   "metadata": {},
   "source": [
    "🔸 We have a nested list defined as bleow, the first elements of `nested_items` are *clothes name* in string. the second elements are *available sizes* and the thirds are *prices*. "
   ]
  },
  {
   "cell_type": "code",
   "execution_count": 9,
   "id": "f8ac772e",
   "metadata": {},
   "outputs": [],
   "source": [
    "nested_items = [\n",
    "    ['Shirt', ['S', 'M', 'L'], 19.99],\n",
    "    ['Skirt', [], 9.99],\n",
    "    ['Leggings', ['L', 'XL', 'XXL'], 5.99]\n",
    "]"
   ]
  },
  {
   "cell_type": "code",
   "execution_count": 10,
   "id": "e68e6494",
   "metadata": {},
   "outputs": [
    {
     "data": {
      "text/plain": [
       "[['Shirt', ['S', 'M', 'L'], 19.99],\n",
       " ['Skirt', [], 9.99],\n",
       " ['Leggings', ['L', 'XL', 'XXL'], 5.99]]"
      ]
     },
     "execution_count": 10,
     "metadata": {},
     "output_type": "execute_result"
    }
   ],
   "source": [
    "nested_items"
   ]
  },
  {
   "cell_type": "code",
   "execution_count": 14,
   "id": "d72f6adc",
   "metadata": {},
   "outputs": [
    {
     "name": "stdout",
     "output_type": "stream",
     "text": [
      "Leggings costs 5.99 euros and available sizes are ['L', 'XL', 'XXL']\n"
     ]
    }
   ],
   "source": [
    "# 4. Show this message for 'Leggings'\n",
    "# MESSAGE : {product_name} costs {product_price} euros and available sizes are {list_of_sizes}.\n",
    "\n",
    "print(f'{nested_items[-1][0]} costs {nested_items[-1][2]} euros and available sizes are {nested_items[-1][1]}')"
   ]
  },
  {
   "cell_type": "markdown",
   "id": "feb3ca04",
   "metadata": {},
   "source": [
    "<a name='1-2'></a>\n",
    "#### • Modifying Nested Lists \n",
    "\n",
    "🔸 List **methods** and **functions** still work with nested lists"
   ]
  },
  {
   "cell_type": "code",
   "execution_count": 17,
   "id": "9a1ed3a5",
   "metadata": {},
   "outputs": [
    {
     "data": {
      "text/plain": [
       "False"
      ]
     },
     "execution_count": 17,
     "metadata": {},
     "output_type": "execute_result"
    }
   ],
   "source": [
    "# 5. Check if 'XXL' is avaialbe for 'Skirt' sizes\n",
    "\n",
    "'XXL' in nested_items[1][1]"
   ]
  },
  {
   "cell_type": "code",
   "execution_count": 20,
   "id": "177753af",
   "metadata": {},
   "outputs": [],
   "source": [
    "# 6. Add 'XXL' to the 'Skirt' sizes list\n",
    "# Use .append( ) method!\n",
    "\n",
    "nested_items[1][1].append('XXL')"
   ]
  },
  {
   "cell_type": "code",
   "execution_count": 21,
   "id": "41faab80",
   "metadata": {},
   "outputs": [
    {
     "data": {
      "text/plain": [
       "[['Shirt', ['S', 'M', 'L'], 19.99],\n",
       " ['Skirt', ['XXL'], 9.99],\n",
       " ['Leggings', ['L', 'XL', 'XXL'], 5.99]]"
      ]
     },
     "execution_count": 21,
     "metadata": {},
     "output_type": "execute_result"
    }
   ],
   "source": [
    "nested_items"
   ]
  },
  {
   "cell_type": "code",
   "execution_count": 26,
   "id": "5777ac55",
   "metadata": {},
   "outputs": [
    {
     "data": {
      "text/plain": [
       "18"
      ]
     },
     "execution_count": 26,
     "metadata": {},
     "output_type": "execute_result"
    }
   ],
   "source": [
    "# 7. Apply 10% discount to 'Shirt' price and round it! \n",
    "\n",
    "round(nested_items[0][-1] * .9)"
   ]
  },
  {
   "cell_type": "code",
   "execution_count": 29,
   "id": "900e2946",
   "metadata": {},
   "outputs": [],
   "source": [
    "# 8. Update this new price for to the original list\n",
    "\n",
    "nested_items[0][-1] = round(nested_items[0][-1] * .9)"
   ]
  },
  {
   "cell_type": "code",
   "execution_count": 30,
   "id": "c0169702",
   "metadata": {},
   "outputs": [
    {
     "data": {
      "text/plain": [
       "[['Shirt', ['S', 'M', 'L'], 18],\n",
       " ['Skirt', ['XXL'], 9.99],\n",
       " ['Leggings', ['L', 'XL', 'XXL'], 5.99]]"
      ]
     },
     "execution_count": 30,
     "metadata": {},
     "output_type": "execute_result"
    }
   ],
   "source": [
    "nested_items"
   ]
  },
  {
   "cell_type": "code",
   "execution_count": 41,
   "id": "16b02f82",
   "metadata": {},
   "outputs": [],
   "source": [
    "# Define a list of nested lists and fill them with \n",
    "# Arbitrary numbers of 0 & 1\n",
    "\n",
    "my_list = [\n",
    "    [0, 0, 0, 0],\n",
    "    [1, 1, 0, 0],\n",
    "    [1, 1, 1, 1]\n",
    "]"
   ]
  },
  {
   "cell_type": "code",
   "execution_count": 42,
   "id": "801f7955",
   "metadata": {},
   "outputs": [
    {
     "data": {
      "text/plain": [
       "[[0, 0, 0, 0], [1, 1, 0, 0], [1, 1, 1, 1]]"
      ]
     },
     "execution_count": 42,
     "metadata": {},
     "output_type": "execute_result"
    }
   ],
   "source": [
    "my_list"
   ]
  },
  {
   "cell_type": "code",
   "execution_count": 43,
   "id": "59cad750",
   "metadata": {},
   "outputs": [
    {
     "data": {
      "text/plain": [
       "3"
      ]
     },
     "execution_count": 43,
     "metadata": {},
     "output_type": "execute_result"
    }
   ],
   "source": [
    "# 9. How many elements are there in 'my_list'?\n",
    "\n",
    "len(my_list)"
   ]
  },
  {
   "cell_type": "code",
   "execution_count": 44,
   "id": "3897fc34",
   "metadata": {},
   "outputs": [
    {
     "data": {
      "text/plain": [
       "0"
      ]
     },
     "execution_count": 44,
     "metadata": {},
     "output_type": "execute_result"
    }
   ],
   "source": [
    "# 10. How many ZEROs are there in 'my_list'?\n",
    "\n",
    "my_list.count(0)"
   ]
  },
  {
   "cell_type": "code",
   "execution_count": 48,
   "id": "00b28843",
   "metadata": {},
   "outputs": [
    {
     "name": "stdout",
     "output_type": "stream",
     "text": [
      "4\n",
      "2\n",
      "0\n"
     ]
    }
   ],
   "source": [
    "# 11. How many ZEROs are there in each nested list?\n",
    "\n",
    "print(my_list[0].count(0))\n",
    "print(my_list[1].count(0))\n",
    "print(my_list[2].count(0))"
   ]
  },
  {
   "cell_type": "markdown",
   "id": "68487798",
   "metadata": {},
   "source": [
    "---\n",
    "<a name=\"end\"></a>\n",
    "### Congrats! \n",
    "\n",
    "🔥 Let's go to the next session.\n",
    "\n",
    "📝 This Jupyter notebook has been created by [Ahmad Ahmadi](https://www.linkedin.com/in/ahmad-ahmadi95/).Please follow me and [izlearn](https://www.linkedin.com/company/izlearn) on the LinkedIn social media.  \n",
    "\n",
    "🌐 Visit your website for more courses [izlearn.ir](https://izlearn.ir)\n"
   ]
  }
 ],
 "metadata": {
  "kernelspec": {
   "display_name": "Python 3 (ipykernel)",
   "language": "python",
   "name": "python3"
  },
  "language_info": {
   "codemirror_mode": {
    "name": "ipython",
    "version": 3
   },
   "file_extension": ".py",
   "mimetype": "text/x-python",
   "name": "python",
   "nbconvert_exporter": "python",
   "pygments_lexer": "ipython3",
   "version": "3.9.5"
  }
 },
 "nbformat": 4,
 "nbformat_minor": 5
}
