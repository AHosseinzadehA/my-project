{
 "cells": [
  {
   "cell_type": "markdown",
   "id": "cc5a0f0b",
   "metadata": {},
   "source": [
    "#### • Table of the content\n",
    "\n",
    "1. [Modifying Lists](#1)\n",
    "2. [append( ) & insert( ) Method](#1-1)\n",
    "3. [Lists Concatenation & Repeating](#1-2)\n",
    "4. [del keyword & remove( ) Method](#1-3)\n",
    "5. [More Info (Follow Me on LinkedIn)](#end)"
   ]
  },
  {
   "cell_type": "markdown",
   "id": "15a2754d",
   "metadata": {},
   "source": [
    "<a name=\"1\"></a>\n",
    "## • Modifying Lists\n",
    "\n",
    "As lists are *mutable*, we can **add** item, **remove** item, or **change** their existing items."
   ]
  },
  {
   "cell_type": "code",
   "execution_count": 1,
   "id": "d4ef5b91",
   "metadata": {},
   "outputs": [
    {
     "data": {
      "text/plain": [
       "['c00001', 'c00002', 'c00003', 'c00007']"
      ]
     },
     "execution_count": 1,
     "metadata": {},
     "output_type": "execute_result"
    }
   ],
   "source": [
    "customer_ids = [\"c00001\",\n",
    "                \"c00002\",\n",
    "                \"c00003\",\n",
    "                \"c00007\"]\n",
    "customer_ids"
   ]
  },
  {
   "cell_type": "markdown",
   "id": "242806f7",
   "metadata": {},
   "source": [
    "🔸 Suppose for any reason we need to change the **third element** to a new value of `'c00005'`. Apply this change to **customer_ids**."
   ]
  },
  {
   "cell_type": "code",
   "execution_count": 2,
   "id": "d4a1a88a",
   "metadata": {},
   "outputs": [],
   "source": [
    "# 1. Change 'c00003' → 'c00005'\n",
    "customer_ids[2] = 'c00005'"
   ]
  },
  {
   "cell_type": "code",
   "execution_count": 3,
   "id": "e0928a46",
   "metadata": {},
   "outputs": [
    {
     "data": {
      "text/plain": [
       "['c00001', 'c00002', 'c00005', 'c00007']"
      ]
     },
     "execution_count": 3,
     "metadata": {},
     "output_type": "execute_result"
    }
   ],
   "source": [
    "customer_ids"
   ]
  },
  {
   "cell_type": "markdown",
   "id": "e03cc570",
   "metadata": {},
   "source": [
    "🔸 While we were talking about the previous question, a new customer completed his purchase and we need to update the **customer_ids**! So; add the customer `'c00012'` to the end of the list.  "
   ]
  },
  {
   "cell_type": "markdown",
   "id": "57f37522",
   "metadata": {},
   "source": [
    "<a name=\"1-1\"></a>\n",
    "### • append( ) & insert ( ) Method\n",
    "\n",
    "- your_list.append(value) → adds 'value' to the end of your_list\n",
    "\n",
    "- your_list.insert(index, value) → adds 'value' to the specified index"
   ]
  },
  {
   "cell_type": "code",
   "execution_count": 4,
   "id": "9850be4e",
   "metadata": {},
   "outputs": [],
   "source": [
    "# 2. Add 'c00012' to the end of 'customer_ids'\n",
    "customer_ids.append('c00012')"
   ]
  },
  {
   "cell_type": "code",
   "execution_count": 5,
   "id": "7dec0355",
   "metadata": {},
   "outputs": [
    {
     "data": {
      "text/plain": [
       "['c00001', 'c00002', 'c00005', 'c00007', 'c00012']"
      ]
     },
     "execution_count": 5,
     "metadata": {},
     "output_type": "execute_result"
    }
   ],
   "source": [
    "customer_ids"
   ]
  },
  {
   "cell_type": "markdown",
   "id": "9ec0770f",
   "metadata": {},
   "source": [
    "🔸 We found a reciept; including `'c00027'` that had bought some items from our shop **2 weeks** ago! to keep the order of purchases correctly, we need to locate this customer at the **index of 3**. Apply this change to the list."
   ]
  },
  {
   "cell_type": "code",
   "execution_count": 6,
   "id": "64a7c26f",
   "metadata": {},
   "outputs": [],
   "source": [
    "# 3. Add 'c00027' to the index of '3' of 'customer_ids'\n",
    "customer_ids.insert(3, 'c00027')"
   ]
  },
  {
   "cell_type": "code",
   "execution_count": 7,
   "id": "7693a5d4",
   "metadata": {},
   "outputs": [
    {
     "data": {
      "text/plain": [
       "['c00001', 'c00002', 'c00005', 'c00027', 'c00007', 'c00012']"
      ]
     },
     "execution_count": 7,
     "metadata": {},
     "output_type": "execute_result"
    }
   ],
   "source": [
    "customer_ids"
   ]
  },
  {
   "cell_type": "markdown",
   "id": "fc0aa926",
   "metadata": {},
   "source": [
    "<div class=\"alert alert-info\">\n",
    "    💡 <b>Note:</b> because lists are mutable, most of lists method (append, insert, remove, sort, ...)  will change the original list. \n",
    "</div>"
   ]
  },
  {
   "cell_type": "code",
   "execution_count": 11,
   "id": "b07b6c59",
   "metadata": {},
   "outputs": [],
   "source": [
    "# Quick example!\n",
    "zeros = [0, 0, 0]\n",
    "# zeros_new = zeros.insert(1, 100)\n",
    "zeros_count = zeros.count(0)"
   ]
  },
  {
   "cell_type": "code",
   "execution_count": 12,
   "id": "5a2aa6e2",
   "metadata": {},
   "outputs": [
    {
     "name": "stdout",
     "output_type": "stream",
     "text": [
      "None\n",
      "[0, 0, 0]\n",
      "3\n"
     ]
    }
   ],
   "source": [
    "print(zeros_new)\n",
    "print(zeros)\n",
    "print(zeros_count)"
   ]
  },
  {
   "cell_type": "markdown",
   "id": "807cbeb5",
   "metadata": {},
   "source": [
    "<a name=\"1-2\"></a>\n",
    "### • List Concatenation & Repeating\n",
    "\n",
    "🔸 Using **(+)**, we're able to combine (concatenate) lists together\n",
    "\n",
    "🔸 Using **(*)**, we're able to repeat lists element for the number of times we want"
   ]
  },
  {
   "cell_type": "code",
   "execution_count": 14,
   "id": "4fa09ce5",
   "metadata": {},
   "outputs": [
    {
     "data": {
      "text/plain": [
       "['c00001', 'c00002', 'c00005', 'c00027', 'c00007', 'c00012']"
      ]
     },
     "execution_count": 14,
     "metadata": {},
     "output_type": "execute_result"
    }
   ],
   "source": [
    "# customer_ids: \n",
    "customer_ids"
   ]
  },
  {
   "cell_type": "markdown",
   "id": "39c2f07d",
   "metadata": {},
   "source": [
    "🔸 Now we need to concatenate `customer_ids` with `new_customers` to generate a new version of `customer_ids`. "
   ]
  },
  {
   "cell_type": "code",
   "execution_count": 23,
   "id": "f9fea2ca",
   "metadata": {},
   "outputs": [
    {
     "data": {
      "text/plain": [
       "['c00015', 'c00020']"
      ]
     },
     "execution_count": 23,
     "metadata": {},
     "output_type": "execute_result"
    }
   ],
   "source": [
    "# new_customers:\n",
    "new_customers = [\"c00015\", \"c00020\"]\n",
    "new_customers"
   ]
  },
  {
   "cell_type": "code",
   "execution_count": 24,
   "id": "ca6950ee",
   "metadata": {},
   "outputs": [],
   "source": [
    "# 4. Add 'new_customers' to the end of the 'customer_ids'\n",
    "# 4.1. Assign the result to 'customer_ids' again!\n",
    "customer_ids += new_customers"
   ]
  },
  {
   "cell_type": "code",
   "execution_count": 25,
   "id": "92c3e39e",
   "metadata": {},
   "outputs": [
    {
     "data": {
      "text/plain": [
       "['c00001',\n",
       " 'c00002',\n",
       " 'c00005',\n",
       " 'c00027',\n",
       " 'c00007',\n",
       " 'c00012',\n",
       " 'c00015',\n",
       " 'c00015',\n",
       " 'c00020']"
      ]
     },
     "execution_count": 25,
     "metadata": {},
     "output_type": "execute_result"
    }
   ],
   "source": [
    "customer_ids"
   ]
  },
  {
   "cell_type": "code",
   "execution_count": 18,
   "id": "42b796f2",
   "metadata": {},
   "outputs": [
    {
     "data": {
      "text/plain": [
       "['c00001',\n",
       " 'c00002',\n",
       " 'c00005',\n",
       " 'c00027',\n",
       " 'c00007',\n",
       " 'c00012',\n",
       " 'c00015',\n",
       " 'c00020',\n",
       " 'c00001',\n",
       " 'c00002',\n",
       " 'c00005',\n",
       " 'c00027',\n",
       " 'c00007',\n",
       " 'c00012',\n",
       " 'c00015',\n",
       " 'c00020']"
      ]
     },
     "execution_count": 18,
     "metadata": {},
     "output_type": "execute_result"
    }
   ],
   "source": [
    "# 5. Repeat 'customer_ids' 2 times\n",
    "customer_ids * 2"
   ]
  },
  {
   "cell_type": "markdown",
   "id": "48ae9abe",
   "metadata": {},
   "source": [
    "<a name=\"1-3\"></a>\n",
    "### • del Keywrod & remove( ) Method\n",
    "\n",
    "- **del** → del your_list[index or slice]\n",
    "\n",
    "- **remove(value)** → removes a value from a list"
   ]
  },
  {
   "cell_type": "code",
   "execution_count": 19,
   "id": "b665408f",
   "metadata": {},
   "outputs": [
    {
     "data": {
      "text/plain": [
       "['c00001',\n",
       " 'c00002',\n",
       " 'c00005',\n",
       " 'c00027',\n",
       " 'c00007',\n",
       " 'c00012',\n",
       " 'c00015',\n",
       " 'c00020']"
      ]
     },
     "execution_count": 19,
     "metadata": {},
     "output_type": "execute_result"
    }
   ],
   "source": [
    "customer_ids"
   ]
  },
  {
   "cell_type": "markdown",
   "id": "678b4a5f",
   "metadata": {},
   "source": [
    "🔸 Apparently, Adding `c00020'` to *customer_ids* <u>was a mistake</u> and we need to delete it!"
   ]
  },
  {
   "cell_type": "code",
   "execution_count": 20,
   "id": "8220c9b9",
   "metadata": {},
   "outputs": [],
   "source": [
    "# 6. Method one → using del keyword\n",
    "del customer_ids[-1]"
   ]
  },
  {
   "cell_type": "code",
   "execution_count": 21,
   "id": "2bdabda5",
   "metadata": {},
   "outputs": [
    {
     "data": {
      "text/plain": [
       "['c00001', 'c00002', 'c00005', 'c00027', 'c00007', 'c00012', 'c00015']"
      ]
     },
     "execution_count": 21,
     "metadata": {},
     "output_type": "execute_result"
    }
   ],
   "source": [
    "customer_ids"
   ]
  },
  {
   "cell_type": "code",
   "execution_count": 26,
   "id": "44f23943",
   "metadata": {},
   "outputs": [],
   "source": [
    "# 7. Method two → using remove() method\n",
    "customer_ids.remove('c00020')"
   ]
  },
  {
   "cell_type": "code",
   "execution_count": 27,
   "id": "a8a413b7",
   "metadata": {},
   "outputs": [
    {
     "data": {
      "text/plain": [
       "['c00001',\n",
       " 'c00002',\n",
       " 'c00005',\n",
       " 'c00027',\n",
       " 'c00007',\n",
       " 'c00012',\n",
       " 'c00015',\n",
       " 'c00015']"
      ]
     },
     "execution_count": 27,
     "metadata": {},
     "output_type": "execute_result"
    }
   ],
   "source": [
    "customer_ids"
   ]
  },
  {
   "cell_type": "markdown",
   "id": "cebf1ba1",
   "metadata": {},
   "source": [
    "---\n",
    "<a name=\"end\"></a>\n",
    "### Congrats! \n",
    "\n",
    "🔥 Let's go to the next session.\n",
    "\n",
    "📝 This Jupyter notebook has been created by [Ahmad Ahmadi](https://www.linkedin.com/in/ahmad-ahmadi95/). Please follow me and [izlearn](https://www.linkedin.com/company/izlearn) on LinkedIn social media.  \n",
    "\n",
    "🌐 Visit your website for more courses [izlearn.ir](https://izlearn.ir)\n"
   ]
  }
 ],
 "metadata": {
  "kernelspec": {
   "display_name": "Python 3 (ipykernel)",
   "language": "python",
   "name": "python3"
  },
  "language_info": {
   "codemirror_mode": {
    "name": "ipython",
    "version": 3
   },
   "file_extension": ".py",
   "mimetype": "text/x-python",
   "name": "python",
   "nbconvert_exporter": "python",
   "pygments_lexer": "ipython3",
   "version": "3.9.5"
  }
 },
 "nbformat": 4,
 "nbformat_minor": 5
}
