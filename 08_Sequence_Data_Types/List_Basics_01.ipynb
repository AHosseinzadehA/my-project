{
 "cells": [
  {
   "cell_type": "markdown",
   "id": "31e0d6ba",
   "metadata": {},
   "source": [
    "#### • Table of the content\n",
    "\n",
    "1. [List Basics](#1)\n",
    "2. [list() Function](#1-1)\n",
    "3. [Membership Operators](#1-2)\n",
    "4. [Indexing in List Element](#1-3)\n",
    "5. [IndexError](#1-4)\n",
    "6. [Manipulation on a List Element](#1-5)\n",
    "7. [List Slicing](#1-6)\n",
    "8. [List Unpacking](#1-7)\n",
    "9. [More Info (Follow Me on LinkedIn)](#end)"
   ]
  },
  {
   "cell_type": "markdown",
   "id": "fbbe1347",
   "metadata": {},
   "source": [
    "<a name=\"1\"></a>\n",
    "## 1. List Basics\n",
    "\n",
    "🔸 [Lists](https://www.w3schools.com/python/python_lists.asp) are iterable data types that can handle storing multiple values within themselves. "
   ]
  },
  {
   "cell_type": "code",
   "execution_count": 1,
   "id": "86e078f9",
   "metadata": {},
   "outputs": [
    {
     "data": {
      "text/plain": [
       "[]"
      ]
     },
     "execution_count": 1,
     "metadata": {},
     "output_type": "execute_result"
    }
   ],
   "source": [
    "# 1. Use [] to define an empty 'list' in Python\n",
    "customer_ids = []\n",
    "\n",
    "customer_ids"
   ]
  },
  {
   "cell_type": "code",
   "execution_count": 2,
   "id": "abd3c6ef",
   "metadata": {},
   "outputs": [
    {
     "data": {
      "text/plain": [
       "[]"
      ]
     },
     "execution_count": 2,
     "metadata": {},
     "output_type": "execute_result"
    }
   ],
   "source": [
    "# 2. Use list() to define an empty 'list' in Python\n",
    "empty_list = list()\n",
    "\n",
    "empty_list"
   ]
  },
  {
   "cell_type": "markdown",
   "id": "88019ce6",
   "metadata": {},
   "source": [
    "<a name=\"1-1\"></a>\n",
    "### 1.1. list( ) Function\n",
    "\n",
    "🔸 We can use **list( )** function to create *list* from other data types like string, tuple and ... (if possible!)"
   ]
  },
  {
   "cell_type": "code",
   "execution_count": 4,
   "id": "58cc6fe1",
   "metadata": {},
   "outputs": [
    {
     "data": {
      "text/plain": [
       "(['i', 'z', 'l', 'e', 'a', 'r', 'n'], list)"
      ]
     },
     "execution_count": 4,
     "metadata": {},
     "output_type": "execute_result"
    }
   ],
   "source": [
    "# 3. Use list() to create a list from the string of 'izlearn'\n",
    "my_str = 'izlearn'\n",
    "list(my_str), type(list(my_str))"
   ]
  },
  {
   "cell_type": "code",
   "execution_count": 5,
   "id": "5534cf98",
   "metadata": {},
   "outputs": [
    {
     "data": {
      "text/plain": [
       "([7, 77, 777], list)"
      ]
     },
     "execution_count": 5,
     "metadata": {},
     "output_type": "execute_result"
    }
   ],
   "source": [
    "# 4. Use list() to create a list from the tuple 0f (7, 77, 777)\n",
    "my_tup = (7, 77, 777)\n",
    "list(my_tup), type(list(my_tup))"
   ]
  },
  {
   "cell_type": "markdown",
   "id": "a23867ee",
   "metadata": {},
   "source": [
    "🔸 You can store *different data types* in a list but **most of the time** we store data of a specific type in a list. For example; in the list below we populated `customer_ids` with different *strings*. (all elements are strings)"
   ]
  },
  {
   "cell_type": "code",
   "execution_count": 6,
   "id": "8bd2a31b",
   "metadata": {},
   "outputs": [
    {
     "data": {
      "text/plain": [
       "['c00001', 'c00002', 'c00003', 'c00004', 'c00005']"
      ]
     },
     "execution_count": 6,
     "metadata": {},
     "output_type": "execute_result"
    }
   ],
   "source": [
    "# 5. Lists can store many values!\n",
    "customer_ids = ['c00001', 'c00002', 'c00003', 'c00004', 'c00005']\n",
    "customer_ids"
   ]
  },
  {
   "cell_type": "markdown",
   "id": "34cb0e06",
   "metadata": {},
   "source": [
    "<a name=\"1-2\"></a>\n",
    "### 1.2. Membership Operators with Lists\n",
    "\n",
    "To check if there is an `item` in a list, we can use **in** and **not in** as membership operators."
   ]
  },
  {
   "cell_type": "code",
   "execution_count": 7,
   "id": "1d2be63e",
   "metadata": {},
   "outputs": [
    {
     "data": {
      "text/plain": [
       "True"
      ]
     },
     "execution_count": 7,
     "metadata": {},
     "output_type": "execute_result"
    }
   ],
   "source": [
    "# 6. Check if 'c00004' (a customer id) is in 'customer_ids'\n",
    "'c00004' in customer_ids"
   ]
  },
  {
   "cell_type": "code",
   "execution_count": 8,
   "id": "9e21ddc1",
   "metadata": {},
   "outputs": [
    {
     "data": {
      "text/plain": [
       "False"
      ]
     },
     "execution_count": 8,
     "metadata": {},
     "output_type": "execute_result"
    }
   ],
   "source": [
    "# 7. Check if 'c00010' (a customer id) is in 'customer_ids'\n",
    "'c00010' in customer_ids"
   ]
  },
  {
   "cell_type": "markdown",
   "id": "f91a7a19",
   "metadata": {},
   "source": [
    "<a name=\"1-3\"></a>\n",
    "### 1.3. Indexing in List's Element\n",
    "\n",
    "🔸 To access items stored in a list, we can use their index.\n",
    "\n",
    "🔸 **Remember** the first element in Python has the index of **ZERO**."
   ]
  },
  {
   "cell_type": "code",
   "execution_count": 10,
   "id": "e1bb0950",
   "metadata": {},
   "outputs": [
    {
     "data": {
      "text/plain": [
       "'c00001'"
      ]
     },
     "execution_count": 10,
     "metadata": {},
     "output_type": "execute_result"
    }
   ],
   "source": [
    "# 8. Grab the 'first' element from the 'customer_ids'\n",
    "customer_ids[0]"
   ]
  },
  {
   "cell_type": "code",
   "execution_count": 14,
   "id": "22cb6d44",
   "metadata": {},
   "outputs": [
    {
     "data": {
      "text/plain": [
       "'c00005'"
      ]
     },
     "execution_count": 14,
     "metadata": {},
     "output_type": "execute_result"
    }
   ],
   "source": [
    "# 9. Grab the 'last' element from the 'customer_ids'\n",
    "customer_ids[-1]"
   ]
  },
  {
   "cell_type": "markdown",
   "id": "5605c4ad",
   "metadata": {},
   "source": [
    "<a name=\"1-4\"></a>\n",
    "### 1.4. IndexError (list index out of range)\n",
    "\n",
    "🔸 If you provide an index exceeding the range of a list, you'll get an [**IndexError**](https://rollbar.com/blog/python-indexerror/#:~:text=The%20IndexError%3A%20list%20index%20out,of%20elements%20in%20the%20list.). For example; in the above list (customer_ids) the index of the last element is **four** and if you provide the index of **five** to extract the **sixth** element, which does not exists, <u>you'll get an IndexError</u>."
   ]
  },
  {
   "cell_type": "code",
   "execution_count": 17,
   "id": "3006649f",
   "metadata": {},
   "outputs": [
    {
     "ename": "IndexError",
     "evalue": "list index out of range",
     "output_type": "error",
     "traceback": [
      "\u001b[1;31m---------------------------------------------------------------------------\u001b[0m",
      "\u001b[1;31mIndexError\u001b[0m                                Traceback (most recent call last)",
      "Cell \u001b[1;32mIn[17], line 2\u001b[0m\n\u001b[0;32m      1\u001b[0m \u001b[38;5;66;03m# 10. Grab the 'sixth' element from 'customer_ids'\u001b[39;00m\n\u001b[1;32m----> 2\u001b[0m \u001b[43mcustomer_ids\u001b[49m\u001b[43m[\u001b[49m\u001b[38;5;241;43m5\u001b[39;49m\u001b[43m]\u001b[49m\n",
      "\u001b[1;31mIndexError\u001b[0m: list index out of range"
     ]
    }
   ],
   "source": [
    "# 10. Grab the 'sixth' element from 'customer_ids'\n",
    "customer_ids[5]"
   ]
  },
  {
   "cell_type": "markdown",
   "id": "1bce463b",
   "metadata": {},
   "source": [
    "<a name=\"1-5\"></a>\n",
    "### 1.5. Manipulation on a List Element\n",
    "\n",
    "🔸 We can grab one or more elements from a list and perform some manipulation on it."
   ]
  },
  {
   "cell_type": "code",
   "execution_count": 22,
   "id": "8c4522d4",
   "metadata": {},
   "outputs": [
    {
     "data": {
      "text/plain": [
       "1"
      ]
     },
     "execution_count": 22,
     "metadata": {},
     "output_type": "execute_result"
    }
   ],
   "source": [
    "# 11. Use slicing & grab the first element and change it to → integer number\n",
    "number = int(customer_ids[0][1:])\n",
    "\n",
    "number"
   ]
  },
  {
   "cell_type": "code",
   "execution_count": 27,
   "id": "8ac0e3fe",
   "metadata": {},
   "outputs": [
    {
     "data": {
      "text/plain": [
       "5"
      ]
     },
     "execution_count": 27,
     "metadata": {},
     "output_type": "execute_result"
    }
   ],
   "source": [
    "# 12. Use strip() method & grab the last element and change it to → integer number\n",
    "number = int(customer_ids[-1].strip('c'))\n",
    "\n",
    "number"
   ]
  },
  {
   "cell_type": "markdown",
   "id": "8f638e4b",
   "metadata": {},
   "source": [
    "<a name=\"1-6\"></a>\n",
    "### 1.6. List Slicing\n",
    "\n",
    "🔸 Using slicing we're able to grab multiple elements out of a list!\n",
    "\n",
    "🔸 **Slicing** and **indexing** are two critical concept to master for *data analysis*.\n",
    "\n",
    "```python\n",
    "your_list[start_index : stop_index : step_size]\n",
    "```"
   ]
  },
  {
   "cell_type": "code",
   "execution_count": 29,
   "id": "981b7c6c",
   "metadata": {},
   "outputs": [
    {
     "data": {
      "text/plain": [
       "['c00001', 'c00002', 'c00003']"
      ]
     },
     "execution_count": 29,
     "metadata": {},
     "output_type": "execute_result"
    }
   ],
   "source": [
    "# 13. Grab 'c00001', 'c00002', 'c00003' from 'customer_ids'\n",
    "customer_ids[0:3]"
   ]
  },
  {
   "cell_type": "code",
   "execution_count": 32,
   "id": "d2330233",
   "metadata": {},
   "outputs": [
    {
     "data": {
      "text/plain": [
       "['c00001', 'c00003', 'c00005']"
      ]
     },
     "execution_count": 32,
     "metadata": {},
     "output_type": "execute_result"
    }
   ],
   "source": [
    "# 14. Grab 'c00001', 'c00003', 'c0005' from 'customer_ids'\n",
    "customer_ids[::2]"
   ]
  },
  {
   "cell_type": "code",
   "execution_count": 34,
   "id": "33c77d97",
   "metadata": {},
   "outputs": [
    {
     "data": {
      "text/plain": [
       "['c00005', 'c00004', 'c00003', 'c00002', 'c00001']"
      ]
     },
     "execution_count": 34,
     "metadata": {},
     "output_type": "execute_result"
    }
   ],
   "source": [
    "# 15. Inverse the 'customer_ids' using 'negative step'\n",
    "customer_ids[::-1]"
   ]
  },
  {
   "cell_type": "markdown",
   "id": "13a60974",
   "metadata": {},
   "source": [
    "<a name=\"1-7\"></a>\n",
    "### 1.7. List Unpacking\n",
    "\n",
    "🔸 List elements can be **unpacked** into one **individual variables**. In the following cell you can see some examples of unpacking in Python!"
   ]
  },
  {
   "cell_type": "code",
   "execution_count": 35,
   "id": "03bf323a",
   "metadata": {},
   "outputs": [
    {
     "data": {
      "text/plain": [
       "['c00001', 'c00002', 'c00003', 'c00004', 'c00005']"
      ]
     },
     "execution_count": 35,
     "metadata": {},
     "output_type": "execute_result"
    }
   ],
   "source": [
    "# 16. List unpacking\n",
    "customer_ids"
   ]
  },
  {
   "cell_type": "code",
   "execution_count": 37,
   "id": "ee9bad88",
   "metadata": {},
   "outputs": [
    {
     "name": "stdout",
     "output_type": "stream",
     "text": [
      "c00001 c00002 c00003 c00004 c00005\n"
     ]
    }
   ],
   "source": [
    "# 17. Unpack customer_ids into five different variables!\n",
    "a, b, c, d, e = customer_ids\n",
    "\n",
    "print(a, b, c, d, e)"
   ]
  },
  {
   "cell_type": "code",
   "execution_count": 39,
   "id": "6a6814c5",
   "metadata": {},
   "outputs": [
    {
     "name": "stdout",
     "output_type": "stream",
     "text": [
      "c00001 ['c00002', 'c00003', 'c00004', 'c00005']\n",
      "<class 'str'> <class 'list'>\n"
     ]
    }
   ],
   "source": [
    "# 18. Unpack customer_ids into two variables\n",
    "a, *b = customer_ids\n",
    "\n",
    "print(a, b)\n",
    "print(type(a), type(b))"
   ]
  },
  {
   "cell_type": "markdown",
   "id": "3e8ef563",
   "metadata": {},
   "source": [
    "---\n",
    "<a name=\"end\"></a>\n",
    "### Congrats! \n",
    "\n",
    "🔥 Let's go to the next session.\n",
    "\n",
    "📝 This Jupyter notebook has been created by [Ahmad Ahmadi](https://www.linkedin.com/in/ahmad-ahmadi95/). Please follow me and [izlearn](https://www.linkedin.com/company/izlearn) on LinkedIn social media.  \n",
    "\n",
    "🌐 Visit your website for more courses [izlearn.ir](https://izlearn.ir)\n"
   ]
  }
 ],
 "metadata": {
  "kernelspec": {
   "display_name": "Python 3 (ipykernel)",
   "language": "python",
   "name": "python3"
  },
  "language_info": {
   "codemirror_mode": {
    "name": "ipython",
    "version": 3
   },
   "file_extension": ".py",
   "mimetype": "text/x-python",
   "name": "python",
   "nbconvert_exporter": "python",
   "pygments_lexer": "ipython3",
   "version": "3.9.5"
  }
 },
 "nbformat": 4,
 "nbformat_minor": 5
}
