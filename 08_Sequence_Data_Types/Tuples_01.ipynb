{
 "cells": [
  {
   "cell_type": "markdown",
   "id": "20cf5b15",
   "metadata": {},
   "source": [
    "#### • Table of the content\n",
    "\n",
    "1. [Defining Tuples in Python](#1)\n",
    "2. [Operations on Tuple](#2)\n",
    "3. [Tuple Indexing](#2-1)\n",
    "4. [Tuple Slicing](#2-2)\n",
    "5. [Membership Check in Tuples](#2-3)\n",
    "6. [Tuples Are Immutable](#2-4)\n",
    "7. [Tuple Unpacking](#3)\n",
    "8. [A Bit of Practice](#4)\n",
    "9. [More Info (Follow Me on LinkedIn)](#end)\n",
    "---"
   ]
  },
  {
   "cell_type": "markdown",
   "id": "812f6f8d",
   "metadata": {},
   "source": [
    "## • Tuples in Python"
   ]
  },
  {
   "cell_type": "markdown",
   "id": "c2d38cec",
   "metadata": {},
   "source": [
    "<a name='1'></a>\n",
    "### • Defining Tuples in Python\n",
    "\n",
    "🔸 Using parenthesis **( )**, we're able to create **tuples** in Python!\n",
    "\n",
    "• You need to separate items by **commas** or else you'll get <span style='color:darkred;font-weight:bold;font-family:consolas;'>SyntaxError</span>."
   ]
  },
  {
   "cell_type": "code",
   "execution_count": 3,
   "id": "b81cbed4",
   "metadata": {},
   "outputs": [],
   "source": [
    "# 1. Create a tuple containing 7, 14, 21, 28 \n",
    "# 1.1 Assing it to 'my_tuple'\n",
    "\n",
    "my_tuple = (7, 14, 21, 28)"
   ]
  },
  {
   "cell_type": "code",
   "execution_count": 4,
   "id": "28c1e032",
   "metadata": {},
   "outputs": [
    {
     "data": {
      "text/plain": [
       "(7, 14, 21, 28)"
      ]
     },
     "execution_count": 4,
     "metadata": {},
     "output_type": "execute_result"
    }
   ],
   "source": [
    "# 2. Return 'my_tuple'\n",
    "my_tuple"
   ]
  },
  {
   "cell_type": "code",
   "execution_count": 5,
   "id": "4b540126",
   "metadata": {},
   "outputs": [
    {
     "data": {
      "text/plain": [
       "tuple"
      ]
     },
     "execution_count": 5,
     "metadata": {},
     "output_type": "execute_result"
    }
   ],
   "source": [
    "# 3. Return its type\n",
    "type(my_tuple)"
   ]
  },
  {
   "cell_type": "markdown",
   "id": "9db510b6",
   "metadata": {},
   "source": [
    "🔸 You can even **omit the parenthesis** and just separate the items by **commas** "
   ]
  },
  {
   "cell_type": "code",
   "execution_count": 6,
   "id": "4a824ce9",
   "metadata": {},
   "outputs": [],
   "source": [
    "# 4. Create a tuple containing 7, 14, 21, 28 (without parenthesis)\n",
    "my_tuple = 7, 14, 21, 28"
   ]
  },
  {
   "cell_type": "code",
   "execution_count": 7,
   "id": "9397820b",
   "metadata": {},
   "outputs": [
    {
     "data": {
      "text/plain": [
       "(7, 14, 21, 28)"
      ]
     },
     "execution_count": 7,
     "metadata": {},
     "output_type": "execute_result"
    }
   ],
   "source": [
    "my_tuple"
   ]
  },
  {
   "cell_type": "code",
   "execution_count": 8,
   "id": "700a7131",
   "metadata": {},
   "outputs": [
    {
     "data": {
      "text/plain": [
       "tuple"
      ]
     },
     "execution_count": 8,
     "metadata": {},
     "output_type": "execute_result"
    }
   ],
   "source": [
    "type(my_tuple)"
   ]
  },
  {
   "cell_type": "markdown",
   "id": "b74cf1a1",
   "metadata": {},
   "source": [
    "🧠 **Question** : If you want to create a **one-member tuple**, how would you do that in Python?\n",
    "\n",
    "• Because we use parenthesis in math operations, we need to use an **extra comma** to turn it to a tuple."
   ]
  },
  {
   "cell_type": "code",
   "execution_count": 15,
   "id": "898574e1",
   "metadata": {},
   "outputs": [],
   "source": [
    "# 5. Create a one-member tuple\n",
    "\n",
    "one_member_tuple = (1,)"
   ]
  },
  {
   "cell_type": "code",
   "execution_count": 16,
   "id": "084ee4ff",
   "metadata": {},
   "outputs": [
    {
     "data": {
      "text/plain": [
       "(1,)"
      ]
     },
     "execution_count": 16,
     "metadata": {},
     "output_type": "execute_result"
    }
   ],
   "source": [
    "one_member_tuple"
   ]
  },
  {
   "cell_type": "code",
   "execution_count": 17,
   "id": "936490d7",
   "metadata": {},
   "outputs": [
    {
     "data": {
      "text/plain": [
       "tuple"
      ]
     },
     "execution_count": 17,
     "metadata": {},
     "output_type": "execute_result"
    }
   ],
   "source": [
    "type(one_member_tuple)"
   ]
  },
  {
   "cell_type": "markdown",
   "id": "9479de18",
   "metadata": {},
   "source": [
    "<a name='2'></a>\n",
    "### • Operations on Tuples\n",
    "\n",
    "🔸 Many operations that work on list, is applicable on tuples. These operations are : **indexing**, **slicing**, **len( )**, **sum( )**, **min( )** and **max( )**. "
   ]
  },
  {
   "cell_type": "code",
   "execution_count": 18,
   "id": "9a04d180",
   "metadata": {},
   "outputs": [],
   "source": [
    "price_tuple = ('$3.99', '$5.99', '$30.99', '$7.99')"
   ]
  },
  {
   "cell_type": "code",
   "execution_count": 19,
   "id": "769bfa90",
   "metadata": {},
   "outputs": [
    {
     "data": {
      "text/plain": [
       "('$3.99', '$5.99', '$30.99', '$7.99')"
      ]
     },
     "execution_count": 19,
     "metadata": {},
     "output_type": "execute_result"
    }
   ],
   "source": [
    "price_tuple"
   ]
  },
  {
   "cell_type": "markdown",
   "id": "1e2eeaaf",
   "metadata": {},
   "source": [
    "<a name='2-1'></a>\n",
    "### • Tuple Indexing\n",
    "\n",
    "🔸 To grab an element from a tuple, just like lists, we can use `index` operator.\n",
    "\n",
    "```python\n",
    "tuple_name[desired_index]\n",
    "```"
   ]
  },
  {
   "cell_type": "code",
   "execution_count": 20,
   "id": "80006004",
   "metadata": {},
   "outputs": [
    {
     "data": {
      "text/plain": [
       "'$5.99'"
      ]
     },
     "execution_count": 20,
     "metadata": {},
     "output_type": "execute_result"
    }
   ],
   "source": [
    "# 6. Grab the second item from 'price_tuple'\n",
    "price_tuple[1]"
   ]
  },
  {
   "cell_type": "markdown",
   "id": "efa5488d",
   "metadata": {},
   "source": [
    "<a name='2-2'></a>\n",
    "### • Tuple Slicing\n",
    "\n",
    "🔸 If you need to grab multiple items out of a tuple, you can use **slicing** just as goes with lists."
   ]
  },
  {
   "cell_type": "code",
   "execution_count": 23,
   "id": "43348e18",
   "metadata": {},
   "outputs": [
    {
     "data": {
      "text/plain": [
       "('$5.99', '$30.99', '$7.99')"
      ]
     },
     "execution_count": 23,
     "metadata": {},
     "output_type": "execute_result"
    }
   ],
   "source": [
    "# 7. Slice the tuple from the second element all the way to the end\n",
    "price_tuple[1:]"
   ]
  },
  {
   "cell_type": "markdown",
   "id": "0a05944d",
   "metadata": {},
   "source": [
    "<a name='2-3'></a>\n",
    "### •  Membership Check in Tuples\n",
    "\n",
    "🔸 If you need to check if an item exists in a tuple, you can use membership operators like <span style='color:green;font-family: consolas;font-weight:bold;'>in</span> and <span style='color:green;font-family: consolas;font-weight:bold;'>not in</span> operators."
   ]
  },
  {
   "cell_type": "code",
   "execution_count": 24,
   "id": "74cbd7b0",
   "metadata": {},
   "outputs": [
    {
     "data": {
      "text/plain": [
       "True"
      ]
     },
     "execution_count": 24,
     "metadata": {},
     "output_type": "execute_result"
    }
   ],
   "source": [
    "# 8. Check if '$5.99' exists in 'price_tuple'\n",
    "'$5.99' in price_tuple"
   ]
  },
  {
   "cell_type": "markdown",
   "id": "03698e84",
   "metadata": {},
   "source": [
    "<a name='2-4'></a>\n",
    "### • Tuples Are Immutable \n",
    "\n",
    "🔸 Once you attempt to change (add, remove) a tuple, a <span style=\"font-family:Consolas;color:rgb(186,33,33);font-weight:bold;\">TypeError</span> raises saying that:<br><span style=\"font-family:Consolas;\">'tuple' object does not support item assignment</span>. "
   ]
  },
  {
   "cell_type": "code",
   "execution_count": 27,
   "id": "7c5257aa",
   "metadata": {},
   "outputs": [
    {
     "ename": "TypeError",
     "evalue": "'tuple' object does not support item assignment",
     "output_type": "error",
     "traceback": [
      "\u001b[1;31m---------------------------------------------------------------------------\u001b[0m",
      "\u001b[1;31mTypeError\u001b[0m                                 Traceback (most recent call last)",
      "Cell \u001b[1;32mIn[27], line 3\u001b[0m\n\u001b[0;32m      1\u001b[0m \u001b[38;5;66;03m# 9. Change the price '$5.99' to '$10.55'\u001b[39;00m\n\u001b[0;32m      2\u001b[0m \u001b[38;5;66;03m# index → 1\u001b[39;00m\n\u001b[1;32m----> 3\u001b[0m \u001b[43mprice_tuple\u001b[49m\u001b[43m[\u001b[49m\u001b[38;5;241;43m1\u001b[39;49m\u001b[43m]\u001b[49m \u001b[38;5;241m=\u001b[39m \u001b[38;5;124m'\u001b[39m\u001b[38;5;124m$10.55\u001b[39m\u001b[38;5;124m'\u001b[39m\n",
      "\u001b[1;31mTypeError\u001b[0m: 'tuple' object does not support item assignment"
     ]
    }
   ],
   "source": [
    "# 9. Change the price '$5.99' to '$10.55'\n",
    "# index → 1\n",
    "price_tuple[1] = '$10.55'"
   ]
  },
  {
   "cell_type": "markdown",
   "id": "6bd8c6ff",
   "metadata": {},
   "source": [
    "### .append( ) Method\n",
    "\n",
    "🔸 And again if you use list methods that changing the original list with tuples, you'll get <span style=\"font-family:Consolas;color:rgb(186,33,33);font-weight:bold;\">AttributeError</span> raises saying that: <br><span style=\"font-family:Consolas;\">'tuple' object has no attribute 'append'</span> "
   ]
  },
  {
   "cell_type": "code",
   "execution_count": 28,
   "id": "99cd11f2",
   "metadata": {},
   "outputs": [
    {
     "ename": "AttributeError",
     "evalue": "'tuple' object has no attribute 'append'",
     "output_type": "error",
     "traceback": [
      "\u001b[1;31m---------------------------------------------------------------------------\u001b[0m",
      "\u001b[1;31mAttributeError\u001b[0m                            Traceback (most recent call last)",
      "Cell \u001b[1;32mIn[28], line 3\u001b[0m\n\u001b[0;32m      1\u001b[0m \u001b[38;5;66;03m# 10. add '$9.99' to 'price_tuple'\u001b[39;00m\n\u001b[0;32m      2\u001b[0m \u001b[38;5;66;03m# Use .append( ) list method\u001b[39;00m\n\u001b[1;32m----> 3\u001b[0m \u001b[43mprice_tuple\u001b[49m\u001b[38;5;241;43m.\u001b[39;49m\u001b[43mappend\u001b[49m(\u001b[38;5;124m'\u001b[39m\u001b[38;5;124m$9.99\u001b[39m\u001b[38;5;124m'\u001b[39m)\n",
      "\u001b[1;31mAttributeError\u001b[0m: 'tuple' object has no attribute 'append'"
     ]
    }
   ],
   "source": [
    "# 10. add '$9.99' to 'price_tuple'\n",
    "# Use .append( ) list method\n",
    "price_tuple.append('$9.99')"
   ]
  },
  {
   "cell_type": "markdown",
   "id": "59296fde",
   "metadata": {},
   "source": [
    "🔸 In order to **handle this**, we can change our **tuple** to a **list** using <span style=\"font-family:Consolas;color:rgb(0,136,0);font-weight:bold;\">list</span>( ) function. \n",
    "\n",
    "(type conversion! Do you remember?)"
   ]
  },
  {
   "cell_type": "code",
   "execution_count": 31,
   "id": "f727e42f",
   "metadata": {},
   "outputs": [],
   "source": [
    "# 11. Use list() to convert list to tuple\n",
    "# 11.1 Create new variable → 'price_list'\n",
    "price_list = list(price_tuple)"
   ]
  },
  {
   "cell_type": "code",
   "execution_count": 32,
   "id": "b5fa3278",
   "metadata": {},
   "outputs": [
    {
     "data": {
      "text/plain": [
       "['$3.99', '$5.99', '$30.99', '$7.99']"
      ]
     },
     "execution_count": 32,
     "metadata": {},
     "output_type": "execute_result"
    }
   ],
   "source": [
    "price_list"
   ]
  },
  {
   "cell_type": "code",
   "execution_count": 33,
   "id": "15b32924",
   "metadata": {},
   "outputs": [],
   "source": [
    "# 12. Use .append() to add '$9.99' into the list\n",
    "price_list.append('$9.99')"
   ]
  },
  {
   "cell_type": "code",
   "execution_count": 34,
   "id": "f1d37c96",
   "metadata": {},
   "outputs": [
    {
     "data": {
      "text/plain": [
       "['$3.99', '$5.99', '$30.99', '$7.99', '$9.99']"
      ]
     },
     "execution_count": 34,
     "metadata": {},
     "output_type": "execute_result"
    }
   ],
   "source": [
    "price_list"
   ]
  },
  {
   "cell_type": "code",
   "execution_count": 36,
   "id": "7704ca32",
   "metadata": {},
   "outputs": [],
   "source": [
    "# 13. Use tuple() to convert list to tuple\n",
    "price_tuple = tuple(price_list)"
   ]
  },
  {
   "cell_type": "code",
   "execution_count": 37,
   "id": "76b21523",
   "metadata": {},
   "outputs": [
    {
     "data": {
      "text/plain": [
       "5"
      ]
     },
     "execution_count": 37,
     "metadata": {},
     "output_type": "execute_result"
    }
   ],
   "source": [
    "# 14. You can use len() and ... on tuples\n",
    "len(price_tuple)"
   ]
  },
  {
   "cell_type": "markdown",
   "id": "bb75f093",
   "metadata": {},
   "source": [
    "<a name='3'></a>\n",
    "### • Tuple Unpacking\n",
    "\n",
    "🔸 To unpack a tuple we need to assign the tuple to the same number of variables as there are items in the tuple."
   ]
  },
  {
   "cell_type": "code",
   "execution_count": 39,
   "id": "21c8fd07",
   "metadata": {},
   "outputs": [],
   "source": [
    "price_tuple = ('$3.55', '$99.99', '$149.99')"
   ]
  },
  {
   "cell_type": "code",
   "execution_count": 40,
   "id": "639c83f6",
   "metadata": {},
   "outputs": [],
   "source": [
    "# 15. Unpack 'price_tuple' into separate variables\n",
    "price1, price2, price3 = price_tuple"
   ]
  },
  {
   "cell_type": "code",
   "execution_count": 41,
   "id": "611f0dbc",
   "metadata": {},
   "outputs": [
    {
     "name": "stdout",
     "output_type": "stream",
     "text": [
      "$3.55 $99.99 $149.99\n"
     ]
    }
   ],
   "source": [
    "print(price1, price2, price3)"
   ]
  },
  {
   "cell_type": "markdown",
   "id": "1c81c377",
   "metadata": {},
   "source": [
    "<a name='4'></a>\n",
    "### • A Bit of Practice"
   ]
  },
  {
   "cell_type": "code",
   "execution_count": 50,
   "id": "f5be172a",
   "metadata": {},
   "outputs": [
    {
     "data": {
      "text/plain": [
       "75.0"
      ]
     },
     "execution_count": 50,
     "metadata": {},
     "output_type": "execute_result"
    }
   ],
   "source": [
    "# 16. Some operatoins on price_tuple[1]\n",
    "price = float(price_tuple[1].strip('$'))\n",
    "\n",
    "round(price - round(float(price_tuple[1].strip('$')) * .25, 2), 1)"
   ]
  },
  {
   "cell_type": "markdown",
   "id": "9cee151d",
   "metadata": {},
   "source": [
    "---\n",
    "<a name=\"end\"></a>\n",
    "### Congrats! \n",
    "\n",
    "🔥 Let's go to the next session.\n",
    "\n",
    "📝 This Jupyter notebook has been created by [Ahmad Ahmadi](https://www.linkedin.com/in/ahmad-ahmadi95/). Please follow me and [izlearn](https://www.linkedin.com/company/izlearn) on LinkedIn social media.  \n",
    "\n",
    "🌐 Visit your website for more courses [izlearn.ir](https://izlearn.ir)"
   ]
  }
 ],
 "metadata": {
  "kernelspec": {
   "display_name": "Python 3 (ipykernel)",
   "language": "python",
   "name": "python3"
  },
  "language_info": {
   "codemirror_mode": {
    "name": "ipython",
    "version": 3
   },
   "file_extension": ".py",
   "mimetype": "text/x-python",
   "name": "python",
   "nbconvert_exporter": "python",
   "pygments_lexer": "ipython3",
   "version": "3.9.5"
  }
 },
 "nbformat": 4,
 "nbformat_minor": 5
}
