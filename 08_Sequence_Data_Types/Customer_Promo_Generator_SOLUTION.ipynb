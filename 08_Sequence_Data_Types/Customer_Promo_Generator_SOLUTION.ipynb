{
 "cells": [
  {
   "cell_type": "markdown",
   "id": "ad34d444",
   "metadata": {},
   "source": [
    "## • Customer Promos\n",
    "\n",
    "🔸 We're working on some fun promotional for our next big sale.\n",
    "\n",
    "🔸 We want to generate a few different **sequences of lucky numbers** to choose our lucky customers. \n",
    "\n",
    "🔸 They will receive a `coffee mug`, `keychain` and `beanie`!\n",
    "\n",
    "---"
   ]
  },
  {
   "cell_type": "markdown",
   "id": "28cfa85e",
   "metadata": {},
   "source": [
    "🔰 please generate a sequence of **even integers** between `1` and `10`. They'll receive `coffee mugs`. \n",
    "\n",
    "🔰 Start with the **SECOND** customer."
   ]
  },
  {
   "cell_type": "code",
   "execution_count": 3,
   "id": "4cd5ab14",
   "metadata": {},
   "outputs": [
    {
     "data": {
      "text/plain": [
       "[2, 4, 6, 8, 10]"
      ]
     },
     "execution_count": 3,
     "metadata": {},
     "output_type": "execute_result"
    }
   ],
   "source": [
    "# Even-numbered customers\n",
    "list(range(2, 12, 2))"
   ]
  },
  {
   "cell_type": "markdown",
   "id": "b002c346",
   "metadata": {},
   "source": [
    "🔰 Now generate a sequence of **odd integers** from `1` and `10`. They will get `keychains`.\n",
    "\n",
    "🔰 Start with the **FIRST** customer."
   ]
  },
  {
   "cell_type": "code",
   "execution_count": 6,
   "id": "1a806d70",
   "metadata": {},
   "outputs": [
    {
     "data": {
      "text/plain": [
       "[1, 3, 5, 7, 9]"
      ]
     },
     "execution_count": 6,
     "metadata": {},
     "output_type": "execute_result"
    }
   ],
   "source": [
    "# Odd-numbered customers\n",
    "list(range(1, 11, 2))"
   ]
  },
  {
   "cell_type": "markdown",
   "id": "7d06efa2",
   "metadata": {},
   "source": [
    "🔰 Finally, **every 7th customer** in our first `100` visitors will receive `beanies`. \n",
    "\n",
    "🔰 Generate a sequence of integers containing `multiple of 7` from `1` to `100`. \n",
    "\n",
    "🔰 Start with the **SEVENTH** customer."
   ]
  },
  {
   "cell_type": "code",
   "execution_count": 7,
   "id": "7137c290",
   "metadata": {},
   "outputs": [
    {
     "data": {
      "text/plain": [
       "[7, 14, 21, 28, 35, 42, 49, 56, 63, 70, 77, 84, 91, 98]"
      ]
     },
     "execution_count": 7,
     "metadata": {},
     "output_type": "execute_result"
    }
   ],
   "source": [
    "# Every 7th customer\n",
    "list(range(7, 100, 7))"
   ]
  },
  {
   "cell_type": "markdown",
   "id": "04d9c8bf",
   "metadata": {},
   "source": [
    "✌🏼 **EXTRA Work**\n",
    "\n",
    "🔸 In the following cells I just want to show you we can use the above *generated* numbers as **indices** to extract the customers' id from the `customer_list`. \n",
    "\n",
    "🔸 I used [for](https://www.w3schools.com/python/python_for_loops.asp) loop to iterate over generated numbers within **every_7th_customer** list. \n",
    "\n",
    "🔸 Don't worry about the syntax of the **for loop**, we will learn about it in the upcoming chapter."
   ]
  },
  {
   "cell_type": "code",
   "execution_count": 8,
   "id": "98a668e4",
   "metadata": {},
   "outputs": [],
   "source": [
    "customers_list = [\n",
    "    \n",
    "    'c00005', 'c00007', 'c00009', 'c00010', 'c00014',\n",
    "    'c00013', 'c00006', 'c00044', 'c00034', 'c00053',\n",
    "    'c00022', 'c00030', 'c00021', 'c00041', 'c00039',\n",
    "    'c00023', 'c00017', 'c00019', 'c00077', 'c00078',\n",
    "    'c00029', 'c00031', 'c00042', 'c00041', 'c00045',\n",
    "    'c00065', 'c00100', 'c00099', 'c00074', 'c00076',\n",
    "    'c00049', 'c00048', 'c00051', 'c00052', 'c00053',\n",
    "    'c00070', 'c00065', 'c00066', 'c00033', 'c00034',\n",
    "    'c00085', 'c00086', 'c00058', 'c00050', 'c00051',\n",
    "    'c00020', 'c00077', 'c00020', 'c00013', 'c00012',\n",
    "    'c00011', 'c00001', 'c00006', 'c00090', 'c00080',\n",
    "    'c00035', 'c00072', 'c00060', 'c00091', 'c00069',\n",
    "    'c00123', 'c00200', 'c00068', 'c00059', 'c00111',\n",
    "    'c00110', 'c00008', 'c00109', 'c00108', 'c00201',\n",
    "    'c00205', 'c00202', 'c00405', 'c00039', 'c00067',\n",
    "    'c00119', 'c00117', 'c00404', 'c00403', 'c00270',\n",
    "    'c00289', 'c00253', 'c00222', 'c00230', 'c00300',\n",
    "    'c00313', 'c00314', 'c00123', 'c00124', 'c00414',\n",
    "    'c00291', 'c00292', 'c00440', 'c00441', 'c00444',\n",
    "    'c00555', 'c00321', 'c00333', 'c00125', 'c00225'    \n",
    "]"
   ]
  },
  {
   "cell_type": "code",
   "execution_count": 9,
   "id": "2b1e59cb",
   "metadata": {},
   "outputs": [],
   "source": [
    "every_7th_customer = range(7, 100, 7)"
   ]
  },
  {
   "cell_type": "code",
   "execution_count": 12,
   "id": "dbbd4932",
   "metadata": {},
   "outputs": [
    {
     "name": "stdout",
     "output_type": "stream",
     "text": [
      "Congrats! c00044 you won a prize.\n",
      "Congrats! c00039 you won a prize.\n",
      "Congrats! c00031 you won a prize.\n",
      "Congrats! c00074 you won a prize.\n",
      "Congrats! c00070 you won a prize.\n",
      "Congrats! c00058 you won a prize.\n",
      "Congrats! c00012 you won a prize.\n",
      "Congrats! c00072 you won a prize.\n",
      "Congrats! c00059 you won a prize.\n",
      "Congrats! c00205 you won a prize.\n",
      "Congrats! c00404 you won a prize.\n",
      "Congrats! c00300 you won a prize.\n",
      "Congrats! c00292 you won a prize.\n",
      "Congrats! c00125 you won a prize.\n"
     ]
    }
   ],
   "source": [
    "for number in every_7th_customer:\n",
    "    print(f'Congrats! {customers_list[number]} you won a prize.')"
   ]
  },
  {
   "cell_type": "markdown",
   "id": "cb2647bc",
   "metadata": {},
   "source": [
    "---\n",
    "<a name=\"end\"></a>\n",
    "### Congrats! \n",
    "\n",
    "🔥 Let's go to the next session.\n",
    "\n",
    "📝 This Jupyter notebook has been created by [Ahmad Ahmadi](https://www.linkedin.com/in/ahmad-ahmadi95/).Please follow me and [izlearn](https://www.linkedin.com/company/izlearn) on the LinkedIn social media.  \n",
    "\n",
    "🌐 Visit your website for more courses [izlearn.ir](https://izlearn.ir)\n"
   ]
  }
 ],
 "metadata": {
  "kernelspec": {
   "display_name": "Python 3 (ipykernel)",
   "language": "python",
   "name": "python3"
  },
  "language_info": {
   "codemirror_mode": {
    "name": "ipython",
    "version": 3
   },
   "file_extension": ".py",
   "mimetype": "text/x-python",
   "name": "python",
   "nbconvert_exporter": "python",
   "pygments_lexer": "ipython3",
   "version": "3.9.5"
  }
 },
 "nbformat": 4,
 "nbformat_minor": 5
}
