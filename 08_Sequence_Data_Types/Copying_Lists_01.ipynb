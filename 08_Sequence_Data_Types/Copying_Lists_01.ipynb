{
 "cells": [
  {
   "cell_type": "markdown",
   "id": "dac4d4e6",
   "metadata": {},
   "source": [
    "#### • Table of the content\n",
    "\n",
    "1. [Copying Lists](#1)\n",
    "2. [List Copy : Variable Assignment](#1-1)\n",
    "3. [List Copy : copy() Method](#1-2)\n",
    "4. [List Copy : deepcopy() Function](#1-3)\n",
    "5. [More Info (Follow Me on LinkedIn)](#end)\n",
    "\n",
    "---"
   ]
  },
  {
   "cell_type": "markdown",
   "id": "9e7aff3d",
   "metadata": {},
   "source": [
    "<a name=\"1\"></a>\n",
    "## • Copying Lists \n",
    "\n",
    "🔸 There are **three ways** to copy lists:\n",
    "\n",
    "1. **Variable Assignment** : assigning a list to a new variable creates something called **list aliasing**.\n",
    "\n",
    "2. **.copy( )** : applying this method to a list creates something called **shallow copy**.\n",
    "\n",
    "3. **deepcopy()** : using this function on a list, creates an entirely *independent* list. "
   ]
  },
  {
   "cell_type": "markdown",
   "id": "59c98025",
   "metadata": {},
   "source": [
    "---\n",
    "<a name=\"1-1\"></a>\n",
    "### • List Copy : Variable Assignment\n",
    "\n",
    "🔸 **Any changes** made to one of the lists will *be applied* to another!"
   ]
  },
  {
   "cell_type": "code",
   "execution_count": 1,
   "id": "09479a76",
   "metadata": {},
   "outputs": [],
   "source": [
    "my_nums = [0, 1, 2]"
   ]
  },
  {
   "cell_type": "code",
   "execution_count": 2,
   "id": "6370033d",
   "metadata": {},
   "outputs": [],
   "source": [
    "# 1. Copy 'my_nums' using 'variable assignment' \n",
    "\n",
    "my_nums_copy = my_nums # list aliasing!"
   ]
  },
  {
   "cell_type": "code",
   "execution_count": 5,
   "id": "e345bcf1",
   "metadata": {},
   "outputs": [
    {
     "name": "stdout",
     "output_type": "stream",
     "text": [
      "['zero', 1, 2] ['zero', 1, 2]\n"
     ]
    }
   ],
   "source": [
    "# 2. Change the first element of 'my_nums_copy'\n",
    "# 0 → 'zero'\n",
    "my_nums_copy[0] = 'zero'\n",
    "\n",
    "# Show both variables\n",
    "print(my_nums, my_nums_copy)"
   ]
  },
  {
   "cell_type": "markdown",
   "id": "95fb8b62",
   "metadata": {},
   "source": [
    "---\n",
    "<a name=\"1-2\"></a>\n",
    "### • List Copy: .copy( ) Method"
   ]
  },
  {
   "cell_type": "code",
   "execution_count": 7,
   "id": "47d339c4",
   "metadata": {},
   "outputs": [],
   "source": [
    "my_nums = [0, 1, 2]"
   ]
  },
  {
   "cell_type": "code",
   "execution_count": 9,
   "id": "02e764e0",
   "metadata": {},
   "outputs": [],
   "source": [
    "# 3. Copy 'my_nums' using .copy() method\n",
    "\n",
    "my_nums_copy = my_nums.copy()"
   ]
  },
  {
   "cell_type": "code",
   "execution_count": 12,
   "id": "6730ffc2",
   "metadata": {},
   "outputs": [
    {
     "name": "stdout",
     "output_type": "stream",
     "text": [
      "[0, 1, 2] [0, 'one', 2]\n"
     ]
    }
   ],
   "source": [
    "# 4. Change the second element of 'my_nums_copy'\n",
    "# 1 → 'one'\n",
    "my_nums_copy[1] = 'one'\n",
    "\n",
    "# Show both variables\n",
    "print(my_nums, my_nums_copy)"
   ]
  },
  {
   "cell_type": "code",
   "execution_count": 13,
   "id": "2048bd99",
   "metadata": {},
   "outputs": [
    {
     "data": {
      "text/plain": [
       "[[0, 1, 2], [3, 4, 5]]"
      ]
     },
     "execution_count": 13,
     "metadata": {},
     "output_type": "execute_result"
    }
   ],
   "source": [
    "my_nested_nums = [\n",
    "    [0, 1, 2],\n",
    "    [3, 4, 5]\n",
    "]\n",
    "\n",
    "my_nested_nums"
   ]
  },
  {
   "cell_type": "code",
   "execution_count": 14,
   "id": "a3c84bc7",
   "metadata": {},
   "outputs": [],
   "source": [
    "# 5. Copy 'my_nested_nums' using .copy() method\n",
    "\n",
    "my_nested_nums_copy = my_nested_nums.copy()"
   ]
  },
  {
   "cell_type": "markdown",
   "id": "4585bbc3",
   "metadata": {},
   "source": [
    "🔸 Changes to *entire elements* (nested lists) will **NOT** be applied to the other one."
   ]
  },
  {
   "cell_type": "code",
   "execution_count": 18,
   "id": "62677f75",
   "metadata": {},
   "outputs": [
    {
     "name": "stdout",
     "output_type": "stream",
     "text": [
      "[[0, 1, 2], [3, 4, 5]] \n",
      " [['zero', 'one', 'two'], [3, 4, 5]]\n"
     ]
    }
   ],
   "source": [
    "# 6. Change the entire nested list at index of '0'\n",
    "# [0, 1, 2] → ['zero', 'one', 'two']\n",
    "my_nested_nums_copy[0] = ['zero', 'one', 'two']\n",
    "\n",
    "# Show both variables\n",
    "print(my_nested_nums, '\\n', my_nested_nums_copy)"
   ]
  },
  {
   "cell_type": "code",
   "execution_count": 19,
   "id": "598bc36d",
   "metadata": {},
   "outputs": [
    {
     "data": {
      "text/plain": [
       "[[0, 1, 2], [3, 4, 5]]"
      ]
     },
     "execution_count": 19,
     "metadata": {},
     "output_type": "execute_result"
    }
   ],
   "source": [
    "my_nested_nums = [\n",
    "    [0, 1, 2],\n",
    "    [3, 4, 5]\n",
    "]\n",
    "\n",
    "my_nested_nums"
   ]
  },
  {
   "cell_type": "code",
   "execution_count": 20,
   "id": "73685a3b",
   "metadata": {},
   "outputs": [],
   "source": [
    "# 7. Copy 'my_nested_nums' using .copy() method\n",
    "\n",
    "my_nested_nums_copy = my_nested_nums.copy()"
   ]
  },
  {
   "cell_type": "markdown",
   "id": "4b22644a",
   "metadata": {},
   "source": [
    "🔸 Changes to *individual elements*  within nested **will be applied** to **both**."
   ]
  },
  {
   "cell_type": "code",
   "execution_count": 24,
   "id": "53c2a5c4",
   "metadata": {},
   "outputs": [],
   "source": [
    "# 8. Change the first element of the first nested list in 'my_nested_nums_copy'\n",
    "# [0, 1, 2] → ['zero', 1, 2]\n",
    "\n",
    "my_nested_nums_copy[0][0] = 'zero'"
   ]
  },
  {
   "cell_type": "code",
   "execution_count": 26,
   "id": "664b06de",
   "metadata": {},
   "outputs": [
    {
     "name": "stdout",
     "output_type": "stream",
     "text": [
      "[['zero', 1, 2], [3, 4, 5]] \n",
      " [['zero', 1, 2], [3, 4, 5]]\n"
     ]
    }
   ],
   "source": [
    "# Show both variables\n",
    "print(my_nested_nums, '\\n', my_nested_nums_copy)"
   ]
  },
  {
   "cell_type": "markdown",
   "id": "030588a8",
   "metadata": {},
   "source": [
    "<div class='alert alert-info'>\n",
    "    💡 you can use <strong>your_list_name [ : ]</strong> to create a shallow copy similar to using <strong>.copy() method</strong> in Python.\n",
    "    \n",
    "</div>"
   ]
  },
  {
   "cell_type": "code",
   "execution_count": 27,
   "id": "8394616b",
   "metadata": {},
   "outputs": [],
   "source": [
    "zeros = [0, 0, 0]"
   ]
  },
  {
   "cell_type": "code",
   "execution_count": 29,
   "id": "cb99ef97",
   "metadata": {},
   "outputs": [],
   "source": [
    "# 9. Create a copy using 'my_nums[:]'\n",
    "zeros_copy = zeros[:] # is similar to zeros.copy()"
   ]
  },
  {
   "cell_type": "code",
   "execution_count": 31,
   "id": "1efdb2e0",
   "metadata": {},
   "outputs": [],
   "source": [
    "# 10. Change the second '0' to 'changed!'\n",
    "zeros_copy[1] = 'changed!'"
   ]
  },
  {
   "cell_type": "code",
   "execution_count": 32,
   "id": "476bce94",
   "metadata": {},
   "outputs": [
    {
     "name": "stdout",
     "output_type": "stream",
     "text": [
      "[0, 0, 0] [0, 'changed!', 0]\n"
     ]
    }
   ],
   "source": [
    "# 11. Show both variables\n",
    "print(zeros, zeros_copy)"
   ]
  },
  {
   "cell_type": "markdown",
   "id": "5b95d29f",
   "metadata": {},
   "source": [
    "---\n",
    "<a name=\"1-3\"></a>\n",
    "### • List Copy : deepcopy() Function\n",
    "\n",
    "🔸 **Any changes** to one of the lists will **NOT** impact the other!\n",
    "\n",
    "🔸 Before you're able to use `deepcopy( )` function, you need to **import** it from **copy** standard library in Python."
   ]
  },
  {
   "cell_type": "code",
   "execution_count": 33,
   "id": "dd9742df",
   "metadata": {},
   "outputs": [],
   "source": [
    "# 12. import 'deepcopy' from 'copy' library\n",
    "from copy import deepcopy"
   ]
  },
  {
   "cell_type": "code",
   "execution_count": 34,
   "id": "edec5421",
   "metadata": {},
   "outputs": [
    {
     "data": {
      "text/plain": [
       "[[0, 1, 2], [3, 4, 5]]"
      ]
     },
     "execution_count": 34,
     "metadata": {},
     "output_type": "execute_result"
    }
   ],
   "source": [
    "my_nested_nums = [\n",
    "    [0, 1, 2],\n",
    "    [3, 4, 5]\n",
    "]\n",
    "\n",
    "my_nested_nums"
   ]
  },
  {
   "cell_type": "code",
   "execution_count": 35,
   "id": "e95ece7f",
   "metadata": {},
   "outputs": [],
   "source": [
    "# 13. Copy my_nested_nums using deepcopy() function\n",
    "\n",
    "my_nested_nums_copy = deepcopy(my_nested_nums)"
   ]
  },
  {
   "cell_type": "code",
   "execution_count": 38,
   "id": "276e520d",
   "metadata": {},
   "outputs": [],
   "source": [
    "# 14. Change the last element of the first nested list in 'my_nested_nums_copy'\n",
    "# [0, 1, 2] → [0, 1, 'two']\n",
    "\n",
    "my_nested_nums_copy[0][-1] = 'two'"
   ]
  },
  {
   "cell_type": "code",
   "execution_count": 39,
   "id": "f8a90387",
   "metadata": {},
   "outputs": [
    {
     "name": "stdout",
     "output_type": "stream",
     "text": [
      "[[0, 1, 2], [3, 4, 5]] \n",
      " [[0, 1, 'two'], [3, 4, 5]]\n"
     ]
    }
   ],
   "source": [
    "# Show both variables\n",
    "print(my_nested_nums, '\\n', my_nested_nums_copy)"
   ]
  },
  {
   "cell_type": "markdown",
   "id": "8ae09850",
   "metadata": {},
   "source": [
    "---\n",
    "<a name=\"end\"></a>\n",
    "### Congrats! \n",
    "\n",
    "🔥 Let's go to the next session.\n",
    "\n",
    "📝 This Jupyter notebook has been created by [Ahmad Ahmadi](https://www.linkedin.com/in/ahmad-ahmadi95/). Please follow me and [izlearn](https://www.linkedin.com/company/izlearn) on LinkedIn social media.  \n",
    "\n",
    "🌐 Visit your website for more courses [izlearn.ir](https://izlearn.ir)\n"
   ]
  }
 ],
 "metadata": {
  "kernelspec": {
   "display_name": "Python 3 (ipykernel)",
   "language": "python",
   "name": "python3"
  },
  "language_info": {
   "codemirror_mode": {
    "name": "ipython",
    "version": 3
   },
   "file_extension": ".py",
   "mimetype": "text/x-python",
   "name": "python",
   "nbconvert_exporter": "python",
   "pygments_lexer": "ipython3",
   "version": "3.9.5"
  }
 },
 "nbformat": 4,
 "nbformat_minor": 5
}
