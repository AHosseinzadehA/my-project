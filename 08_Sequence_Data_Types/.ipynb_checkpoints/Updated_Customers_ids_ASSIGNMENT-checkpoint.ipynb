{
 "cells": [
  {
   "cell_type": "markdown",
   "id": "5b3d1618",
   "metadata": {},
   "source": [
    "## • Updated Customers \n",
    "\n",
    "🔸 Hi there, This is Salar again!\n",
    "\n",
    "🔸 We need to <u>add</u> customer `\"c00009\"` to **customer_ids**. I just found the receipt on my desk! 🙄\n",
    "\n",
    "🔸 For your convinient; I've included the original list below."
   ]
  },
  {
   "cell_type": "code",
   "execution_count": 1,
   "id": "7f5f9497",
   "metadata": {},
   "outputs": [],
   "source": [
    "customer_ids = [\"c00001\", \"c00003\", \"c00004\", \"c00005\",\n",
    "                \"c00006\", \"c00007\", \"c00018\", \"c00010\",\n",
    "                \"c00013\", \"c00014\", \"c00015\", \"c00016\",\n",
    "                \"c00019\"]"
   ]
  },
  {
   "cell_type": "markdown",
   "id": "a6442207",
   "metadata": {},
   "source": [
    "### • Using append( ) Method"
   ]
  },
  {
   "cell_type": "code",
   "execution_count": 2,
   "id": "66772476",
   "metadata": {},
   "outputs": [
    {
     "data": {
      "text/plain": [
       "['c00001',\n",
       " 'c00003',\n",
       " 'c00004',\n",
       " 'c00005',\n",
       " 'c00006',\n",
       " 'c00007',\n",
       " 'c00018',\n",
       " 'c00010',\n",
       " 'c00013',\n",
       " 'c00014',\n",
       " 'c00015',\n",
       " 'c00016',\n",
       " 'c00019',\n",
       " 'c00009']"
      ]
     },
     "execution_count": 2,
     "metadata": {},
     "output_type": "execute_result"
    }
   ],
   "source": [
    "#Add 'c00009' using append()\n",
    "customer_ids.append('c00009')\n",
    "customer_ids"
   ]
  },
  {
   "cell_type": "markdown",
   "id": "234e6e39",
   "metadata": {},
   "source": [
    "### • Using insert(  ) Method\n",
    "\n",
    "🔸 Insert `'c00009'` at the index of **7** (before 'c00010')"
   ]
  },
  {
   "cell_type": "code",
   "execution_count": 5,
   "id": "3199d273",
   "metadata": {},
   "outputs": [
    {
     "ename": "SyntaxError",
     "evalue": "invalid syntax (311055154.py, line 2)",
     "output_type": "error",
     "traceback": [
      "\u001b[1;36m  Cell \u001b[1;32mIn[5], line 2\u001b[1;36m\u001b[0m\n\u001b[1;33m    customer_ids.remove('c00009')customer_ids.insert(7,'c00009')\u001b[0m\n\u001b[1;37m                                 ^\u001b[0m\n\u001b[1;31mSyntaxError\u001b[0m\u001b[1;31m:\u001b[0m invalid syntax\n"
     ]
    }
   ],
   "source": [
    "#Add 'c00009' using insert()\n",
    "customer_ids.remove('c00009')\n",
    "customer_ids.insert(7,'c00009')\n",
    "customer_ids"
   ]
  },
  {
   "cell_type": "markdown",
   "id": "87c98969",
   "metadata": {},
   "source": [
    "### • Adding Saturday Customers \n",
    "\n",
    "Combine **customer_ids** and **saturday_list** together and update customer_ids."
   ]
  },
  {
   "cell_type": "code",
   "execution_count": null,
   "id": "bcbd773f",
   "metadata": {},
   "outputs": [],
   "source": [
    "saturday_list = [\"c00017\", \"c00020\",\"c00002\",\n",
    "                 \"c00008\", \"c00021\",\"c00022\"]"
   ]
  },
  {
   "cell_type": "code",
   "execution_count": null,
   "id": "6c2f37a0",
   "metadata": {},
   "outputs": [],
   "source": [
    "#Adding saturday_list\n",
    "customer_ids = customer_ids + saturday_list\n",
    "customer_ids"
   ]
  },
  {
   "cell_type": "markdown",
   "id": "983b3879",
   "metadata": {},
   "source": [
    "---\n",
    "<a name=\"end\"></a>\n",
    "### Congrats! \n",
    "\n",
    "🔥 Let's go to the next session.\n",
    "\n",
    "📝 This Jupyter notebook has been created by [Ahmad Ahmadi](https://www.linkedin.com/in/ahmad-ahmadi95/).Please follow me and [izlearn](https://www.linkedin.com/company/izlearn) on the LinkedIn social media.  \n",
    "\n",
    "🌐 Visit your website for more courses [izlearn.ir](https://izlearn.ir)\n"
   ]
  }
 ],
 "metadata": {
  "kernelspec": {
   "display_name": "Python 3 (ipykernel)",
   "language": "python",
   "name": "python3"
  },
  "language_info": {
   "codemirror_mode": {
    "name": "ipython",
    "version": 3
   },
   "file_extension": ".py",
   "mimetype": "text/x-python",
   "name": "python",
   "nbconvert_exporter": "python",
   "pygments_lexer": "ipython3",
   "version": "3.9.5"
  }
 },
 "nbformat": 4,
 "nbformat_minor": 5
}
