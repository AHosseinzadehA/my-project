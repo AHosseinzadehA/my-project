{
 "cells": [
  {
   "cell_type": "markdown",
   "id": "6beb8bc1",
   "metadata": {},
   "source": [
    "## • Black Friday Data\n",
    "\n",
    "🔸 We've made ready lists of the Black Friday `customer_id` and `subtotals`, the amount before tax below:"
   ]
  },
  {
   "cell_type": "code",
   "execution_count": 1,
   "id": "ec135721",
   "metadata": {},
   "outputs": [],
   "source": [
    "customer_ids = ['c00010', 'c00002', 'c00007', 'c00027', 'c00001',\n",
    "                'c00002', 'c00003', 'c00005', 'c00033', 'c00005',\n",
    "                'c00001', 'c00011', 'c00002', 'c00006', 'c00013',\n",
    "                'c00004', 'c00006', 'c00019', 'c00002', 'c00006',\n",
    "                'c00021', 'c00022', 'c00006', 'c00018', 'c00018',\n",
    "                'c00009', 'c00023']\n",
    "\n",
    "subtotals = [10.5, 215.23, 13.18, 25.49, 5.99,\n",
    "            140.5, 24.99, 115.99, 72.95, 68.34,\n",
    "            30.33, 99.99, 7.97, 150.99, 14.99,\n",
    "            119.95, 250.5, 67.8, 24.99, 99.99,\n",
    "            44.99, 5.99, 40.35, 145.8, 50.99,\n",
    "            35.2, 42.99]"
   ]
  },
  {
   "cell_type": "markdown",
   "id": "d28c4607",
   "metadata": {},
   "source": [
    "### • The Average of Transactions\n",
    "\n",
    "🔸 Calculate the average value of the transactions in the list `subtotals`.\n",
    "\n",
    "🔸 We don't have an average function, Can your remember from the lectures *Ahmad* gave, How were we able to calculate it?"
   ]
  },
  {
   "cell_type": "code",
   "execution_count": 2,
   "id": "efb3764b",
   "metadata": {},
   "outputs": [],
   "source": [
    "average = sum(subtotals) / len(subtotals)"
   ]
  },
  {
   "cell_type": "code",
   "execution_count": 3,
   "id": "37da4567",
   "metadata": {},
   "outputs": [
    {
     "data": {
      "text/plain": [
       "71.37"
      ]
     },
     "execution_count": 3,
     "metadata": {},
     "output_type": "execute_result"
    }
   ],
   "source": [
    "# Use round( ) function to cut the decimals up to two decimals\n",
    "\n",
    "round(average, 2)"
   ]
  },
  {
   "cell_type": "markdown",
   "id": "5793430c",
   "metadata": {},
   "source": [
    "### • Details of a Customer's Purchase\n",
    "\n",
    "🔸 How many transactions did customer **c00006** make?"
   ]
  },
  {
   "cell_type": "code",
   "execution_count": 9,
   "id": "227d9e79",
   "metadata": {},
   "outputs": [
    {
     "data": {
      "text/plain": [
       "4"
      ]
     },
     "execution_count": 9,
     "metadata": {},
     "output_type": "execute_result"
    }
   ],
   "source": [
    "customer_ids.count('c00006')"
   ]
  },
  {
   "cell_type": "markdown",
   "id": "b4156037",
   "metadata": {},
   "source": [
    "🔸 What is the index of customer **c00006**'s first transactions"
   ]
  },
  {
   "cell_type": "code",
   "execution_count": 10,
   "id": "8df12b12",
   "metadata": {},
   "outputs": [
    {
     "data": {
      "text/plain": [
       "13"
      ]
     },
     "execution_count": 10,
     "metadata": {},
     "output_type": "execute_result"
    }
   ],
   "source": [
    "customer_ids.index('c00006')"
   ]
  },
  {
   "cell_type": "markdown",
   "id": "c768dedd",
   "metadata": {},
   "source": [
    "🔸 How much did customer **c00006** spend on her *first purchase*?\n",
    "\n",
    "💡 **Guidance** : Use the *index* returned in the previous question!"
   ]
  },
  {
   "cell_type": "code",
   "execution_count": 13,
   "id": "712af3a3",
   "metadata": {},
   "outputs": [
    {
     "data": {
      "text/plain": [
       "150.99"
      ]
     },
     "execution_count": 13,
     "metadata": {},
     "output_type": "execute_result"
    }
   ],
   "source": [
    "subtotals[13]"
   ]
  },
  {
   "cell_type": "markdown",
   "id": "aabcea87",
   "metadata": {},
   "source": [
    "### • Return Sorted Version of Customer IDs\n",
    "\n",
    "🔸 We're looking for a special customer, and sorted list we help us with it.\n",
    "\n",
    "❌ **Don't change** the original list (customer_ids)"
   ]
  },
  {
   "cell_type": "code",
   "execution_count": null,
   "id": "cf9bd220",
   "metadata": {},
   "outputs": [],
   "source": [
    "sorted(customer_ids)"
   ]
  },
  {
   "cell_type": "markdown",
   "id": "80ab4996",
   "metadata": {},
   "source": [
    "---\n",
    "<a name=\"end\"></a>\n",
    "### Congrats! \n",
    "\n",
    "🔥 Let's go to the next session.\n",
    "\n",
    "📝 This Jupyter notebook has been created by [Ahmad Ahmadi](https://www.linkedin.com/in/ahmad-ahmadi95/). Please follow me and [izlearn](https://www.linkedin.com/company/izlearn) on LinkedIn social media.  \n",
    "\n",
    "🌐 Visit your website for more courses [izlearn.ir](https://izlearn.ir)\n"
   ]
  }
 ],
 "metadata": {
  "kernelspec": {
   "display_name": "Python 3 (ipykernel)",
   "language": "python",
   "name": "python3"
  },
  "language_info": {
   "codemirror_mode": {
    "name": "ipython",
    "version": 3
   },
   "file_extension": ".py",
   "mimetype": "text/x-python",
   "name": "python",
   "nbconvert_exporter": "python",
   "pygments_lexer": "ipython3",
   "version": "3.9.5"
  }
 },
 "nbformat": 4,
 "nbformat_minor": 5
}
