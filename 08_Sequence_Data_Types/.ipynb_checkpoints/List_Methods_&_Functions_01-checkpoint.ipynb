{
 "cells": [
  {
   "cell_type": "markdown",
   "id": "b7bc81f6",
   "metadata": {},
   "source": [
    "#### Table of the content\n",
    "\n",
    "1. [List Methods](#1)\n",
    "2. [List Built-in Functions](#2)\n",
    "3. [More Info (Follow Me on LinkedIn)](#end)\n",
    "---"
   ]
  },
  {
   "cell_type": "markdown",
   "id": "dd900a8a",
   "metadata": {},
   "source": [
    "<a name=\"1\"></a>\n",
    "## • List Methods\n",
    "\n",
    "🔸 Lists like strings have some *built-in functions* called **methods**. Previously we got familiar with three lists methods i.e. `append`, `insert` and `remove`.\n",
    "\n",
    "\n",
    "🔸 In this Jupyter file we're going to work with `index`, `count`, `sort` and `reverse`."
   ]
  },
  {
   "cell_type": "code",
   "execution_count": 2,
   "id": "6b3e9c02",
   "metadata": {},
   "outputs": [],
   "source": [
    "customer_ids = [\n",
    "    \n",
    "    'c00001', 'c00002',\n",
    "    'c00007', 'c00007',\n",
    "    'c00008', 'c00007',\n",
    "    'c00008', 'c00009'\n",
    "]"
   ]
  },
  {
   "cell_type": "code",
   "execution_count": 3,
   "id": "cb50fbc4",
   "metadata": {},
   "outputs": [
    {
     "data": {
      "text/plain": [
       "['c00001',\n",
       " 'c00002',\n",
       " 'c00007',\n",
       " 'c00007',\n",
       " 'c00008',\n",
       " 'c00007',\n",
       " 'c00008',\n",
       " 'c00009']"
      ]
     },
     "execution_count": 3,
     "metadata": {},
     "output_type": "execute_result"
    }
   ],
   "source": [
    "customer_ids"
   ]
  },
  {
   "cell_type": "code",
   "execution_count": 4,
   "id": "743f8c1b",
   "metadata": {},
   "outputs": [
    {
     "data": {
      "text/plain": [
       "3"
      ]
     },
     "execution_count": 4,
     "metadata": {},
     "output_type": "execute_result"
    }
   ],
   "source": [
    "# 1. How many times 'c00007' appeares in the 'customer_ids'?\n",
    "\n",
    "customer_ids.count('c00007')"
   ]
  },
  {
   "cell_type": "code",
   "execution_count": 7,
   "id": "fb986706",
   "metadata": {},
   "outputs": [
    {
     "data": {
      "text/plain": [
       "4"
      ]
     },
     "execution_count": 7,
     "metadata": {},
     "output_type": "execute_result"
    }
   ],
   "source": [
    "# 2. What is the index of 'c00008' in the 'customer_ids'?\n",
    "\n",
    "customer_ids.index('c00008')"
   ]
  },
  {
   "cell_type": "code",
   "execution_count": 14,
   "id": "28ab74da",
   "metadata": {},
   "outputs": [
    {
     "name": "stdout",
     "output_type": "stream",
     "text": [
      "done!\n"
     ]
    }
   ],
   "source": [
    "# 3. VIP customer!\n",
    "'''\n",
    "Instructions:\n",
    "1. create an empty list (vip_customers)\n",
    "2. check if 'customer_id' happens more than 2 times!\n",
    "3. then; add to the empty list\n",
    "4. return the result\n",
    "'''\n",
    "customer_id = 'c00007'\n",
    "vip_customers = []\n",
    "if customer_ids.count(customer_id) > 2:\n",
    "    vip_customers.append(customer_id)\n",
    "    \n",
    "print('done!')"
   ]
  },
  {
   "cell_type": "code",
   "execution_count": 15,
   "id": "49f0820b",
   "metadata": {},
   "outputs": [
    {
     "data": {
      "text/plain": [
       "['c00007']"
      ]
     },
     "execution_count": 15,
     "metadata": {},
     "output_type": "execute_result"
    }
   ],
   "source": [
    "vip_customers"
   ]
  },
  {
   "cell_type": "code",
   "execution_count": 18,
   "id": "8179a0f5",
   "metadata": {},
   "outputs": [
    {
     "data": {
      "text/plain": [
       "['c00009',\n",
       " 'c00008',\n",
       " 'c00008',\n",
       " 'c00007',\n",
       " 'c00007',\n",
       " 'c00007',\n",
       " 'c00002',\n",
       " 'c00001']"
      ]
     },
     "execution_count": 18,
     "metadata": {},
     "output_type": "execute_result"
    }
   ],
   "source": [
    "# 5. Sort the 'customer_ids' → NOT in place\n",
    "# 5.1. Then sort the list in descending order\n",
    "\n",
    "sorted(customer_ids, reverse=True)"
   ]
  },
  {
   "cell_type": "code",
   "execution_count": 19,
   "id": "0a349480",
   "metadata": {},
   "outputs": [],
   "source": [
    "# 4. Sort the 'customer_ids' → in place\n",
    "# 4.1. Then sort the list in descending order\n",
    "\n",
    "customer_ids.sort()"
   ]
  },
  {
   "cell_type": "code",
   "execution_count": 20,
   "id": "9f44fe7d",
   "metadata": {},
   "outputs": [
    {
     "data": {
      "text/plain": [
       "['c00001',\n",
       " 'c00002',\n",
       " 'c00007',\n",
       " 'c00007',\n",
       " 'c00007',\n",
       " 'c00008',\n",
       " 'c00008',\n",
       " 'c00009']"
      ]
     },
     "execution_count": 20,
     "metadata": {},
     "output_type": "execute_result"
    }
   ],
   "source": [
    "customer_ids"
   ]
  },
  {
   "cell_type": "code",
   "execution_count": 21,
   "id": "d2ac4cdd",
   "metadata": {},
   "outputs": [
    {
     "data": {
      "text/plain": [
       "['c00009',\n",
       " 'c00008',\n",
       " 'c00008',\n",
       " 'c00007',\n",
       " 'c00007',\n",
       " 'c00007',\n",
       " 'c00002',\n",
       " 'c00001']"
      ]
     },
     "execution_count": 21,
     "metadata": {},
     "output_type": "execute_result"
    }
   ],
   "source": [
    "# 6. Reverse the list → NOT in place\n",
    "\n",
    "customer_ids[::-1]"
   ]
  },
  {
   "cell_type": "code",
   "execution_count": 25,
   "id": "af4e5190",
   "metadata": {},
   "outputs": [],
   "source": [
    "# 7. Reverse the list → in place\n",
    "\n",
    "customer_ids.reverse()"
   ]
  },
  {
   "cell_type": "code",
   "execution_count": 26,
   "id": "0c1d645c",
   "metadata": {},
   "outputs": [
    {
     "data": {
      "text/plain": [
       "['c00009',\n",
       " 'c00008',\n",
       " 'c00008',\n",
       " 'c00007',\n",
       " 'c00007',\n",
       " 'c00007',\n",
       " 'c00002',\n",
       " 'c00001']"
      ]
     },
     "execution_count": 26,
     "metadata": {},
     "output_type": "execute_result"
    }
   ],
   "source": [
    "customer_ids"
   ]
  },
  {
   "cell_type": "code",
   "execution_count": 31,
   "id": "63e9b34c",
   "metadata": {},
   "outputs": [
    {
     "name": "stdout",
     "output_type": "stream",
     "text": [
      "Welcome and enjoy your first shopping!\n"
     ]
    }
   ],
   "source": [
    "# 8. Proper message for new customers\n",
    "# Logic → if customer_id's index less than 2 → message: Welcome and enjoy your first shopping!\n",
    "customer_id = 'c00009'\n",
    "threshold = customer_ids.index(customer_id)\n",
    "if threshold < 2:\n",
    "    print('Welcome and enjoy your first shopping!')\n",
    "else:\n",
    "    print('You have had purchase before!')"
   ]
  },
  {
   "cell_type": "markdown",
   "id": "bac0b92f",
   "metadata": {},
   "source": [
    "---\n",
    "<a name=\"2\"></a>\n",
    "## • Lists Built-in Functions\n",
    "\n",
    "🔸 Similar to other data types; Lists have some *built-in* functions that make our life easier! 😀\n",
    "\n",
    "🔸 These functions are; `len`, `sum`, `min`, `max` and `sorted`. \n",
    "\n",
    "💡 To calculate the average in a list we can use its definition and our built-in functions.\n",
    "\n",
    "```python\n",
    "average = sum(your_list) / len(your_list)\n",
    "```"
   ]
  },
  {
   "cell_type": "code",
   "execution_count": 34,
   "id": "4588cb1e",
   "metadata": {},
   "outputs": [],
   "source": [
    "transactions = [\n",
    "    3.34, 23.22, 55.23,\n",
    "    14.5, 48.95, 33.4,\n",
    "    48.2, 16.45, 9.33,\n",
    "    34.5, 92.4, 48.0,\n",
    "    111.8, 87.2, 9.5\n",
    "]"
   ]
  },
  {
   "cell_type": "code",
   "execution_count": 35,
   "id": "5519b6b9",
   "metadata": {},
   "outputs": [],
   "source": [
    "# 9. Some basic statistical information\n",
    "# 9.1. min, max, sum, total count, total, average\n",
    "\n",
    "min_val = min(transactions)\n",
    "max_val = max(transactions)\n",
    "total = sum(transactions)\n",
    "count = len(transactions)\n",
    "average = total / count"
   ]
  },
  {
   "cell_type": "code",
   "execution_count": 37,
   "id": "4b3c6c67",
   "metadata": {},
   "outputs": [
    {
     "name": "stdout",
     "output_type": "stream",
     "text": [
      "The min value of the transactions list → 3.34.\n",
      "The max value of the transactions list → 111.8.\n",
      "The sum of all the values → 636.02.\n",
      "The number of items in the transactions list → 15.\n",
      "The average value of the transactions list → 42.401.\n"
     ]
    }
   ],
   "source": [
    "print(f'The min value of the transactions list → {min_val}.')\n",
    "print(f'The max value of the transactions list → {max_val}.')\n",
    "print(f'The sum of all the values → {total}.')\n",
    "print(f'The number of items in the transactions list → {count}.')\n",
    "print(f'The average value of the transactions list → {round(average, 3)}.')"
   ]
  },
  {
   "cell_type": "markdown",
   "id": "5fbfce35",
   "metadata": {},
   "source": [
    "---\n",
    "<a name=\"end\"></a>\n",
    "### Congrats! \n",
    "\n",
    "🔥 Let's go to the next session.\n",
    "\n",
    "📝 This Jupyter notebook has been created by [Ahmad Ahmadi](https://www.linkedin.com/in/ahmad-ahmadi95/). Please follow me and [izlearn](https://www.linkedin.com/company/izlearn) on LinkedIn social media.  \n",
    "\n",
    "🌐 Visit your website for more courses [izlearn.ir](https://izlearn.ir)\n"
   ]
  }
 ],
 "metadata": {
  "kernelspec": {
   "display_name": "Python 3 (ipykernel)",
   "language": "python",
   "name": "python3"
  },
  "language_info": {
   "codemirror_mode": {
    "name": "ipython",
    "version": 3
   },
   "file_extension": ".py",
   "mimetype": "text/x-python",
   "name": "python",
   "nbconvert_exporter": "python",
   "pygments_lexer": "ipython3",
   "version": "3.9.5"
  }
 },
 "nbformat": 4,
 "nbformat_minor": 5
}
