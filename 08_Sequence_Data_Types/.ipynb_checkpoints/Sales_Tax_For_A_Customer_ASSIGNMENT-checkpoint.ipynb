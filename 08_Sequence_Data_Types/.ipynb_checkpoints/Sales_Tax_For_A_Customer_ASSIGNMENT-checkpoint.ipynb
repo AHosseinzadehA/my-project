{
 "cells": [
  {
   "cell_type": "markdown",
   "id": "2030fa90",
   "metadata": {},
   "source": [
    "## • Sales Tax For Customer c00001\n",
    "\n",
    "🔸 We need to calculate the *sales taxes* for our customer that made **three transactions** in `vip_list` below.\n",
    "\n",
    "(The customer that made **three** transactions was `customer c00001`)"
   ]
  },
  {
   "cell_type": "code",
   "execution_count": 1,
   "id": "f58be17a",
   "metadata": {},
   "outputs": [],
   "source": [
    "# From Previous Assignment\n",
    "orders_c00001 = [5.99, 29.98, 99.99]\n",
    "orders_c00002 = [215.23, 140.5, 7.97, 24.99]\n",
    "orders_c00005 = [115.99, 68.34]\n",
    "orders_c00018 = [145.8, 50.99]"
   ]
  },
  {
   "cell_type": "code",
   "execution_count": 2,
   "id": "62ab5f70",
   "metadata": {},
   "outputs": [],
   "source": [
    "# Then we created vip_list from above variables!\n",
    "# Do you remember?\n",
    "vip_list = [\n",
    "    orders_c00001,\n",
    "    orders_c00002,\n",
    "    orders_c00005,\n",
    "    orders_c00018\n",
    "]"
   ]
  },
  {
   "cell_type": "code",
   "execution_count": 3,
   "id": "6f06fafc",
   "metadata": {},
   "outputs": [
    {
     "data": {
      "text/plain": [
       "[[5.99, 29.98, 99.99],\n",
       " [215.23, 140.5, 7.97, 24.99],\n",
       " [115.99, 68.34],\n",
       " [145.8, 50.99]]"
      ]
     },
     "execution_count": 3,
     "metadata": {},
     "output_type": "execute_result"
    }
   ],
   "source": [
    "vip_list"
   ]
  },
  {
   "cell_type": "markdown",
   "id": "b6c16256",
   "metadata": {},
   "source": [
    "---\n",
    "📋 **Instructions** : \n",
    "\n",
    "1. Create a tuple from the **first element** in the `vip_list`. \n",
    "\n",
    "2. Unpack this tuple into the variables `transaction1`, `transaction2`, `transaction3`.\n",
    "\n",
    "3. Once you've have separated the transactions, calculate the tax of **0.1** rounded to **2 decimals** and print it. "
   ]
  },
  {
   "cell_type": "code",
   "execution_count": 4,
   "id": "ebabbda4",
   "metadata": {},
   "outputs": [],
   "source": [
    "# 1. Grab the c00001's transactions from 'vip_list'\n",
    "# 1.1 Turn it to a tuple\n",
    "vip_list_tuple = vip_list[0]\n",
    "transaction1, transaction2, transaction3 = vip_list_tuple"
   ]
  },
  {
   "cell_type": "code",
   "execution_count": 5,
   "id": "b2a144c5",
   "metadata": {},
   "outputs": [
    {
     "name": "stdout",
     "output_type": "stream",
     "text": [
      "The first transaction : 5.99\n",
      "The Second transaction : 29.98\n",
      "The Third transaction : 99.99\n"
     ]
    }
   ],
   "source": [
    "print(f'The first transaction : {transaction1}')\n",
    "print(f'The Second transaction : {transaction2}')\n",
    "print(f'The Third transaction : {transaction3}')"
   ]
  },
  {
   "cell_type": "code",
   "execution_count": 7,
   "id": "8aea36d2",
   "metadata": {},
   "outputs": [
    {
     "name": "stdout",
     "output_type": "stream",
     "text": [
      "0.6\n",
      "3.0\n",
      "10.0\n"
     ]
    }
   ],
   "source": [
    "# 2. Calculate the sales tax for each transaction\n",
    "# 2.1 Round it to the nearest euro\n",
    "print(round(transaction1 * 0.1, 2))\n",
    "print(round(transaction2 * 0.1, 2))\n",
    "print(round(transaction3 * 0.1, 2))"
   ]
  },
  {
   "cell_type": "markdown",
   "id": "5c58294f",
   "metadata": {},
   "source": [
    "---\n",
    "<a name=\"end\"></a>\n",
    "### Congrats! \n",
    "\n",
    "🔥 Let's go to the next session.\n",
    "\n",
    "📝 This Jupyter notebook has been created by [Ahmad Ahmadi](https://www.linkedin.com/in/ahmad-ahmadi95/). Please follow me and [izlearn](https://www.linkedin.com/company/izlearn) on LinkedIn social media.  \n",
    "\n",
    "🌐 Visit your website for more courses [izlearn.ir](https://izlearn.ir)\n"
   ]
  }
 ],
 "metadata": {
  "kernelspec": {
   "display_name": "Python 3 (ipykernel)",
   "language": "python",
   "name": "python3"
  },
  "language_info": {
   "codemirror_mode": {
    "name": "ipython",
    "version": 3
   },
   "file_extension": ".py",
   "mimetype": "text/x-python",
   "name": "python",
   "nbconvert_exporter": "python",
   "pygments_lexer": "ipython3",
   "version": "3.9.5"
  }
 },
 "nbformat": 4,
 "nbformat_minor": 5
}
