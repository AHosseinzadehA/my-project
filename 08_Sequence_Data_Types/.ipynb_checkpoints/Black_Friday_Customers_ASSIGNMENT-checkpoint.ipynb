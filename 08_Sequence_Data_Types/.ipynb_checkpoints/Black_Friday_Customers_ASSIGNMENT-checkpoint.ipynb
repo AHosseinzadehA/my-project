{
 "cells": [
  {
   "cell_type": "markdown",
   "id": "f157c27d",
   "metadata": {},
   "source": [
    "## • Black Friday Customers List "
   ]
  },
  {
   "cell_type": "markdown",
   "id": "06038cad",
   "metadata": {},
   "source": [
    "🔸 Create a list of the *customers' id* that made purchases on **Balck Friday**. These customers are as follows\n",
    "\n",
    "`c00001, c00003, c00004, c00005, c00006, c00007, c00018, c00010, c00013, c00014, c00015, c00016 and c00019`.\n",
    "\n",
    "🔸 Name your list → `customer_ids`. "
   ]
  },
  {
   "cell_type": "code",
   "execution_count": 1,
   "id": "97219ee0",
   "metadata": {},
   "outputs": [],
   "source": [
    "customer_ids = [\"c00001\",\"c00003\",\"c00004\",\"c00005\",\"c00006\",\n",
    "                \"c00007\",\"c00018\",\"c00010\",\"c00013\",\"c00014\",\n",
    "                \"c00015\",\"c00016\",\"c00019\"]"
   ]
  },
  {
   "cell_type": "code",
   "execution_count": 2,
   "id": "1f82e069",
   "metadata": {},
   "outputs": [
    {
     "name": "stdout",
     "output_type": "stream",
     "text": [
      "['c00001', 'c00003', 'c00004', 'c00005', 'c00006', 'c00007', 'c00018', 'c00010', 'c00013', 'c00014', 'c00015', 'c00016', 'c00019']"
     ]
    }
   ],
   "source": [
    "print(customer_ids, end = \"\")"
   ]
  },
  {
   "cell_type": "markdown",
   "id": "194dd7ac",
   "metadata": {},
   "source": [
    "### ✔ Did \"c00009\" make a purchase? \n",
    "\n",
    "🔸 This customer ('c00009') messaged us that he made a purchase successfully but he didn't recieve its purchase score until now! we need to check it if his id exists in the **customer_ids**  or not!\n",
    "\n",
    "• Return **200** scores, if he made a purchase otherwise return **0**"
   ]
  },
  {
   "cell_type": "code",
   "execution_count": 21,
   "id": "e1d12254",
   "metadata": {},
   "outputs": [
    {
     "name": "stdout",
     "output_type": "stream",
     "text": [
      "0\n"
     ]
    }
   ],
   "source": [
    "if 'c00009' in customer_ids:\n",
    "    print(\"200\")\n",
    "else:\n",
    "    print(\"0\")"
   ]
  },
  {
   "cell_type": "markdown",
   "id": "9bc7869a",
   "metadata": {},
   "source": [
    "### ✔ Marketing Research Samples\n",
    "\n",
    "🔸 Using *slicing* create a list containing the `seventh` and `eighth` customer from *customer_ids* and assign them to a new variable named; `seventh_eighth`. "
   ]
  },
  {
   "cell_type": "code",
   "execution_count": 22,
   "id": "3a185cfd",
   "metadata": {},
   "outputs": [],
   "source": [
    "seventh_eighth = [customer_ids[6], customer_ids[7]]"
   ]
  },
  {
   "cell_type": "code",
   "execution_count": 23,
   "id": "56d8c71d",
   "metadata": {},
   "outputs": [
    {
     "data": {
      "text/plain": [
       "['c00018', 'c00010']"
      ]
     },
     "execution_count": 23,
     "metadata": {},
     "output_type": "execute_result"
    }
   ],
   "source": [
    "seventh_eighth"
   ]
  },
  {
   "cell_type": "markdown",
   "id": "7bf87cd1",
   "metadata": {},
   "source": [
    "🔸 Create a list called `every_third` that contains **every third customer** in the list. (1st, 4th, 7th, and so on ...)"
   ]
  },
  {
   "cell_type": "code",
   "execution_count": 24,
   "id": "00715206",
   "metadata": {},
   "outputs": [],
   "source": [
    "every_third = [customer_ids[0], customer_ids[3], customer_ids[6]]"
   ]
  },
  {
   "cell_type": "code",
   "execution_count": 25,
   "id": "82550fb1",
   "metadata": {},
   "outputs": [
    {
     "data": {
      "text/plain": [
       "['c00001', 'c00005', 'c00018']"
      ]
     },
     "execution_count": 25,
     "metadata": {},
     "output_type": "execute_result"
    }
   ],
   "source": [
    "every_third"
   ]
  },
  {
   "cell_type": "markdown",
   "id": "62f3de0d",
   "metadata": {},
   "source": [
    "🔸 Finally using *slicing*, create a list with the **last two customers** in our dataset, and save your result in a variable with name of `last_two`."
   ]
  },
  {
   "cell_type": "code",
   "execution_count": 26,
   "id": "d163a744",
   "metadata": {},
   "outputs": [],
   "source": [
    "last_two = [customer_ids[-1], customer_ids[-2]]"
   ]
  },
  {
   "cell_type": "code",
   "execution_count": null,
   "id": "6e990f89",
   "metadata": {},
   "outputs": [],
   "source": [
    "last_two"
   ]
  },
  {
   "cell_type": "markdown",
   "id": "d417fe10",
   "metadata": {},
   "source": [
    "---\n",
    "<a name=\"end\"></a>\n",
    "### Congrats! \n",
    "\n",
    "🔥 Let's go to the next session.\n",
    "\n",
    "📝 This Jupyter notebook has been created by [Ahmad Ahmadi](https://www.linkedin.com/in/ahmad-ahmadi95/).Please follow me and [izlearn](https://www.linkedin.com/company/izlearn) on the LinkedIn social media.  \n",
    "\n",
    "🌐 Visit your website for more courses [izlearn.ir](https://izlearn.ir)\n"
   ]
  }
 ],
 "metadata": {
  "kernelspec": {
   "display_name": "Python 3 (ipykernel)",
   "language": "python",
   "name": "python3"
  },
  "language_info": {
   "codemirror_mode": {
    "name": "ipython",
    "version": 3
   },
   "file_extension": ".py",
   "mimetype": "text/x-python",
   "name": "python",
   "nbconvert_exporter": "python",
   "pygments_lexer": "ipython3",
   "version": "3.9.5"
  }
 },
 "nbformat": 4,
 "nbformat_minor": 5
}
