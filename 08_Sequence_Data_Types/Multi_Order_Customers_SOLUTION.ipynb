{
 "cells": [
  {
   "cell_type": "markdown",
   "id": "dfea6df0",
   "metadata": {},
   "source": [
    "## • Multi-Order Customers\n",
    "\n",
    "🔸 We want to understand our multi-order customers.\n",
    "\n",
    "🔸 Below are the lists of our customers that made multiple orders this weekened."
   ]
  },
  {
   "cell_type": "code",
   "execution_count": 1,
   "id": "d6c5b213",
   "metadata": {},
   "outputs": [],
   "source": [
    "orders_c00001 = [5.99, 29.98, 99.99]\n",
    "orders_c00002 = [215.23, 140.5, 7.97, 24.99]\n",
    "orders_c00005 = [115.99, 68.34]\n",
    "orders_c00018 = [145.8, 50.99]"
   ]
  },
  {
   "cell_type": "markdown",
   "id": "42ac49d5",
   "metadata": {},
   "source": [
    "### • VIP Customers List\n",
    "\n",
    "🔸 Create a **nested list** where each element is one of the customer transactions lists above, called `vip_list`. "
   ]
  },
  {
   "cell_type": "code",
   "execution_count": 3,
   "id": "c2dec3b9",
   "metadata": {},
   "outputs": [],
   "source": [
    "vip_list = [\n",
    "    orders_c00001,\n",
    "    orders_c00002,\n",
    "    orders_c00005,\n",
    "    orders_c00018\n",
    "]"
   ]
  },
  {
   "cell_type": "code",
   "execution_count": 4,
   "id": "bc60d527",
   "metadata": {},
   "outputs": [
    {
     "data": {
      "text/plain": [
       "[[5.99, 29.98, 99.99],\n",
       " [215.23, 140.5, 7.97, 24.99],\n",
       " [115.99, 68.34],\n",
       " [145.8, 50.99]]"
      ]
     },
     "execution_count": 4,
     "metadata": {},
     "output_type": "execute_result"
    }
   ],
   "source": [
    "vip_list"
   ]
  },
  {
   "cell_type": "markdown",
   "id": "b3fa2d7d",
   "metadata": {},
   "source": [
    "🔸 Our marketing team is curious about **c00002**, given that they made **four** transactions.\n",
    "\n",
    "🔸 Report the **second** and **third** transactions they made and assign them to the 👉🏼list **`c00002_follow_ups`**. "
   ]
  },
  {
   "cell_type": "code",
   "execution_count": 7,
   "id": "e75c0e0b",
   "metadata": {},
   "outputs": [],
   "source": [
    "c00002_follow_ups = vip_list[1][1:3]"
   ]
  },
  {
   "cell_type": "code",
   "execution_count": 8,
   "id": "4e11789a",
   "metadata": {},
   "outputs": [
    {
     "data": {
      "text/plain": [
       "[140.5, 7.97]"
      ]
     },
     "execution_count": 8,
     "metadata": {},
     "output_type": "execute_result"
    }
   ],
   "source": [
    "c00002_follow_ups"
   ]
  },
  {
   "cell_type": "markdown",
   "id": "6f2c46f4",
   "metadata": {},
   "source": [
    "### Revenue Adjusted List\n",
    "\n",
    "🔸 We need to make a copy of our `vip_list`. We need to change an **entire list inside** and also we **DON'T want** our changes be reflected in `vip_list`.\n",
    "\n",
    "🔸 Call the copy `revenue_adjusted_list`. "
   ]
  },
  {
   "cell_type": "code",
   "execution_count": 10,
   "id": "cffb803c",
   "metadata": {},
   "outputs": [],
   "source": [
    "revenue_adjusted_list = vip_list.copy()"
   ]
  },
  {
   "cell_type": "code",
   "execution_count": 11,
   "id": "a2d704c4",
   "metadata": {},
   "outputs": [
    {
     "data": {
      "text/plain": [
       "[[5.99, 29.98, 99.99],\n",
       " [215.23, 140.5, 7.97, 24.99],\n",
       " [115.99, 68.34],\n",
       " [145.8, 50.99]]"
      ]
     },
     "execution_count": 11,
     "metadata": {},
     "output_type": "execute_result"
    }
   ],
   "source": [
    "revenue_adjusted_list"
   ]
  },
  {
   "cell_type": "markdown",
   "id": "2e87807c",
   "metadata": {},
   "source": [
    "🔸 Once you have your copy, change both of customer **c00018**'s transactions values to **0.0**.\n",
    "\n",
    "🔸 Why? because these were **gifts** and shouldn't be recorded as revenue. Make sure to confirm `vip_list` not changed."
   ]
  },
  {
   "cell_type": "code",
   "execution_count": 14,
   "id": "4bcdf99a",
   "metadata": {},
   "outputs": [],
   "source": [
    "revenue_adjusted_list[-1] = [0.0, 0.0]"
   ]
  },
  {
   "cell_type": "code",
   "execution_count": 15,
   "id": "ff9181a7",
   "metadata": {},
   "outputs": [
    {
     "data": {
      "text/plain": [
       "[[5.99, 29.98, 99.99],\n",
       " [215.23, 140.5, 7.97, 24.99],\n",
       " [115.99, 68.34],\n",
       " [0.0, 0.0]]"
      ]
     },
     "execution_count": 15,
     "metadata": {},
     "output_type": "execute_result"
    }
   ],
   "source": [
    "revenue_adjusted_list"
   ]
  },
  {
   "cell_type": "code",
   "execution_count": 16,
   "id": "13dd7bf5",
   "metadata": {},
   "outputs": [
    {
     "data": {
      "text/plain": [
       "[[5.99, 29.98, 99.99],\n",
       " [215.23, 140.5, 7.97, 24.99],\n",
       " [115.99, 68.34],\n",
       " [145.8, 50.99]]"
      ]
     },
     "execution_count": 16,
     "metadata": {},
     "output_type": "execute_result"
    }
   ],
   "source": [
    "# Our 'vip_list' should be unchanged!\n",
    "vip_list"
   ]
  },
  {
   "cell_type": "markdown",
   "id": "d9dfafa3",
   "metadata": {},
   "source": [
    "---\n",
    "<a name=\"end\"></a>\n",
    "### Congrats! \n",
    "\n",
    "🔥 Let's go to the next session.\n",
    "\n",
    "📝 This Jupyter notebook has been created by [Ahmad Ahmadi](https://www.linkedin.com/in/ahmad-ahmadi95/). Please follow me and [izlearn](https://www.linkedin.com/company/izlearn) on LinkedIn social media.  \n",
    "\n",
    "🌐 Visit your website for more courses [izlearn.ir](https://izlearn.ir)\n"
   ]
  }
 ],
 "metadata": {
  "kernelspec": {
   "display_name": "Python 3 (ipykernel)",
   "language": "python",
   "name": "python3"
  },
  "language_info": {
   "codemirror_mode": {
    "name": "ipython",
    "version": 3
   },
   "file_extension": ".py",
   "mimetype": "text/x-python",
   "name": "python",
   "nbconvert_exporter": "python",
   "pygments_lexer": "ipython3",
   "version": "3.9.5"
  }
 },
 "nbformat": 4,
 "nbformat_minor": 5
}
