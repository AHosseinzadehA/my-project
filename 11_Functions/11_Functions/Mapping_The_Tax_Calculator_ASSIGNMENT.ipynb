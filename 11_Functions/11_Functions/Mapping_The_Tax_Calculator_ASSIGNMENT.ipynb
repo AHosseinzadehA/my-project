{
 "cells": [
  {
   "cell_type": "markdown",
   "id": "3c868e16",
   "metadata": {},
   "source": [
    "## Mapping the Tax Calculator \n",
    "\n",
    "🔸 Now that we've successfully got our tax calculator working, can you apply it to the subtotals below?\n",
    "\n",
    "😬 **Should be quick! Thanks!**\n",
    "\n",
    "👀 **P.S. Don't use loops**"
   ]
  },
  {
   "cell_type": "code",
   "execution_count": 1,
   "id": "18654cdc",
   "metadata": {},
   "outputs": [],
   "source": [
    "import tax_calculator as tc"
   ]
  },
  {
   "cell_type": "code",
   "execution_count": 2,
   "id": "ab64337d",
   "metadata": {},
   "outputs": [],
   "source": [
    "subtotals = [39.99, 112.46, 224.42, 23.23, 5.99]\n",
    "full_transactions = [tc.tax_calculator(item) for item in subtotals]"
   ]
  },
  {
   "cell_type": "code",
   "execution_count": 3,
   "id": "e9a127c6",
   "metadata": {},
   "outputs": [
    {
     "data": {
      "text/plain": [
       "[[39.99, 5.0, 44.99],\n",
       " [112.46, 14.06, 126.52],\n",
       " [224.42, 28.05, 252.47],\n",
       " [23.23, 2.9, 26.13],\n",
       " [5.99, 0.75, 6.74]]"
      ]
     },
     "execution_count": 3,
     "metadata": {},
     "output_type": "execute_result"
    }
   ],
   "source": [
    "full_transactions"
   ]
  },
  {
   "cell_type": "markdown",
   "id": "31a41c08",
   "metadata": {},
   "source": [
    "---\n",
    "<a name=\"end\"></a>\n",
    "### Congrats! \n",
    "\n",
    "🔥 Let's go to the next session.\n",
    "\n",
    "📝 This Jupyter notebook has been created by [Ahmad Ahmadi](https://www.linkedin.com/in/ahmad-ahmadi95/). Please follow me and [izlearn](https://www.linkedin.com/company/izlearn) on LinkedIn social media.  \n",
    "\n",
    "🌐 Visit your website for more courses [izlearn.ir](https://izlearn.ir)"
   ]
  },
  {
   "cell_type": "code",
   "execution_count": null,
   "id": "3d4cbabd",
   "metadata": {},
   "outputs": [],
   "source": []
  }
 ],
 "metadata": {
  "kernelspec": {
   "display_name": "Python 3 (ipykernel)",
   "language": "python",
   "name": "python3"
  },
  "language_info": {
   "codemirror_mode": {
    "name": "ipython",
    "version": 3
   },
   "file_extension": ".py",
   "mimetype": "text/x-python",
   "name": "python",
   "nbconvert_exporter": "python",
   "pygments_lexer": "ipython3",
   "version": "3.9.5"
  }
 },
 "nbformat": 4,
 "nbformat_minor": 5
}
