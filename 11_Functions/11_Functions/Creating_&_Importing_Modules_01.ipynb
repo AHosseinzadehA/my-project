{
 "cells": [
  {
   "cell_type": "markdown",
   "id": "6d313a48",
   "metadata": {},
   "source": [
    "#### • Table of the content\n",
    "\n",
    "1. [Modules in Python](#1)\n",
    "2. [Creating a Module ](#1-1)\n",
    "3. [Importing a Module](#1-2)\n",
    "4. [Naming Conflicts](#1-3)\n",
    "5. [More Info (Follow Me on LinkedIn)](#end)\n",
    "\n",
    "---"
   ]
  },
  {
   "cell_type": "markdown",
   "id": "6278fed5",
   "metadata": {},
   "source": [
    "<a name=\"1\"></a>\n",
    "## • Modules in Python\n",
    "\n",
    "🔸 Modules are just **python code** written in a **.py** file.\n",
    "\n",
    "🔸 This helps us **to separate our functions from the main project**.\n",
    "\n",
    "🔸 We can **import** functions **inside that module** and use them in our code."
   ]
  },
  {
   "cell_type": "markdown",
   "id": "84ee0efa",
   "metadata": {},
   "source": [
    "<a name=\"1-1\"></a>\n",
    "### • Creating a Module \n",
    "\n",
    "🔸 In jupyter notebook if you want to create a **python file**, you can use `%%writefile` magic command. "
   ]
  },
  {
   "cell_type": "code",
   "execution_count": 1,
   "id": "8ea118df",
   "metadata": {},
   "outputs": [],
   "source": [
    "# %%writefile saved_functions.py\n",
    "# def rating_cleaner(rating):\n",
    "#     '''\n",
    "#     Gets numeric portion of rating\n",
    "    \n",
    "#     Args:\n",
    "#       rating(str): text rating\n",
    "     \n",
    "#      Returns:\n",
    "#       int: integer portion of rating\n",
    "#     '''\n",
    "#     numeric_rating = int(rating[0])\n",
    "#     return numeric_rating\n",
    "\n",
    "\n",
    "# def rating_list_cleaner(rating_list):\n",
    "#     '''\n",
    "#     Cleans list of ratings and returns numeric\n",
    "#     rating lists\n",
    "    \n",
    "#     Args:\n",
    "#       rating_list(list): list of text ratings\n",
    "      \n",
    "#     Returns:\n",
    "#       list: list of integer ratings\n",
    "#     '''\n",
    "#     numeric_list = []\n",
    "#     for rating in rating_list:\n",
    "#         numeric_rating = rating_cleaner(rating)\n",
    "#         numeric_list.append(numeric_rating)\n",
    "#     return numeric_list"
   ]
  },
  {
   "cell_type": "code",
   "execution_count": 2,
   "id": "35fb7932",
   "metadata": {},
   "outputs": [],
   "source": [
    "ratings = ['5 stars', '4 stars', '3 stars']"
   ]
  },
  {
   "cell_type": "code",
   "execution_count": 3,
   "id": "ad5bbd77",
   "metadata": {},
   "outputs": [
    {
     "ename": "NameError",
     "evalue": "name 'rating_cleaner' is not defined",
     "output_type": "error",
     "traceback": [
      "\u001b[1;31m---------------------------------------------------------------------------\u001b[0m",
      "\u001b[1;31mNameError\u001b[0m                                 Traceback (most recent call last)",
      "Cell \u001b[1;32mIn[3], line 1\u001b[0m\n\u001b[1;32m----> 1\u001b[0m \u001b[43mrating_cleaner\u001b[49m(\u001b[38;5;124m'\u001b[39m\u001b[38;5;124m5 stars\u001b[39m\u001b[38;5;124m'\u001b[39m)\n",
      "\u001b[1;31mNameError\u001b[0m: name 'rating_cleaner' is not defined"
     ]
    }
   ],
   "source": [
    "rating_cleaner('5 stars')"
   ]
  },
  {
   "cell_type": "code",
   "execution_count": 4,
   "id": "24c65739",
   "metadata": {},
   "outputs": [
    {
     "ename": "NameError",
     "evalue": "name 'rating_list_cleaner' is not defined",
     "output_type": "error",
     "traceback": [
      "\u001b[1;31m---------------------------------------------------------------------------\u001b[0m",
      "\u001b[1;31mNameError\u001b[0m                                 Traceback (most recent call last)",
      "Cell \u001b[1;32mIn[4], line 1\u001b[0m\n\u001b[1;32m----> 1\u001b[0m \u001b[43mrating_list_cleaner\u001b[49m(ratings)\n",
      "\u001b[1;31mNameError\u001b[0m: name 'rating_list_cleaner' is not defined"
     ]
    }
   ],
   "source": [
    "rating_list_cleaner(ratings)"
   ]
  },
  {
   "cell_type": "markdown",
   "id": "99ec844c",
   "metadata": {},
   "source": [
    "<a name=\"1-2\"></a>\n",
    "### • Importing Modules\n",
    "\n",
    "🔸 There are **3 ways** to import a module in our code!\n",
    "\n",
    "- import `module_name`\n",
    "\n",
    "- import `module_name` as `an_alias`\n",
    "\n",
    "- from `module_name` import `function_name1`, `function_name2`, ... (can cuase **naming conflicts**)"
   ]
  },
  {
   "cell_type": "markdown",
   "id": "cb8a0ecb",
   "metadata": {},
   "source": [
    "#### 🔹 Importing Entire Module"
   ]
  },
  {
   "cell_type": "code",
   "execution_count": 5,
   "id": "cb5d52d8",
   "metadata": {},
   "outputs": [],
   "source": [
    "import saved_functions"
   ]
  },
  {
   "cell_type": "code",
   "execution_count": 6,
   "id": "62a9aade",
   "metadata": {},
   "outputs": [
    {
     "data": {
      "text/plain": [
       "3"
      ]
     },
     "execution_count": 6,
     "metadata": {},
     "output_type": "execute_result"
    }
   ],
   "source": [
    "# Use rating_cleaner() inside the module\n",
    "saved_functions.rating_cleaner(\"3 stars\")"
   ]
  },
  {
   "cell_type": "code",
   "execution_count": 7,
   "id": "8628f348",
   "metadata": {},
   "outputs": [
    {
     "data": {
      "text/plain": [
       "['5 stars', '4 stars', '3 stars']"
      ]
     },
     "execution_count": 7,
     "metadata": {},
     "output_type": "execute_result"
    }
   ],
   "source": [
    "ratings"
   ]
  },
  {
   "cell_type": "code",
   "execution_count": 8,
   "id": "3ddb0b59",
   "metadata": {},
   "outputs": [
    {
     "data": {
      "text/plain": [
       "[5, 4, 3]"
      ]
     },
     "execution_count": 8,
     "metadata": {},
     "output_type": "execute_result"
    }
   ],
   "source": [
    "# Use rating_list_cleaner() inside the module\n",
    "saved_functions.rating_list_cleaner(ratings)"
   ]
  },
  {
   "cell_type": "markdown",
   "id": "95c108ce",
   "metadata": {},
   "source": [
    "#### 🔹 Importing Entire Module as a Name"
   ]
  },
  {
   "cell_type": "code",
   "execution_count": 9,
   "id": "088cd41b",
   "metadata": {},
   "outputs": [],
   "source": [
    "import saved_functions as sf"
   ]
  },
  {
   "cell_type": "code",
   "execution_count": 10,
   "id": "9405f7db",
   "metadata": {},
   "outputs": [
    {
     "data": {
      "text/plain": [
       "2"
      ]
     },
     "execution_count": 10,
     "metadata": {},
     "output_type": "execute_result"
    }
   ],
   "source": [
    "# Use rating_cleaner() inside the module\n",
    "sf.rating_cleaner(\"2 stars\")"
   ]
  },
  {
   "cell_type": "code",
   "execution_count": 11,
   "id": "6332dc3f",
   "metadata": {},
   "outputs": [
    {
     "data": {
      "text/plain": [
       "['5 stars', '4 stars', '3 stars']"
      ]
     },
     "execution_count": 11,
     "metadata": {},
     "output_type": "execute_result"
    }
   ],
   "source": [
    "ratings"
   ]
  },
  {
   "cell_type": "code",
   "execution_count": 12,
   "id": "b6359580",
   "metadata": {},
   "outputs": [
    {
     "data": {
      "text/plain": [
       "[5, 4, 3]"
      ]
     },
     "execution_count": 12,
     "metadata": {},
     "output_type": "execute_result"
    }
   ],
   "source": [
    "# Use rating_list_cleaner() inside the module\n",
    "sf.rating_list_cleaner(ratings)"
   ]
  },
  {
   "cell_type": "markdown",
   "id": "8b03f8de",
   "metadata": {},
   "source": [
    "#### 🔹 Importing Specific Functions Using `from` Keyword"
   ]
  },
  {
   "cell_type": "code",
   "execution_count": 13,
   "id": "4a92450f",
   "metadata": {},
   "outputs": [],
   "source": [
    "from saved_functions import rating_cleaner, rating_list_cleaner"
   ]
  },
  {
   "cell_type": "code",
   "execution_count": 14,
   "id": "7ad42f7f",
   "metadata": {},
   "outputs": [
    {
     "data": {
      "text/plain": [
       "5"
      ]
     },
     "execution_count": 14,
     "metadata": {},
     "output_type": "execute_result"
    }
   ],
   "source": [
    "# Use rating_cleaner() inside the module\n",
    "rating_cleaner(\"5 stars\")"
   ]
  },
  {
   "cell_type": "code",
   "execution_count": 15,
   "id": "cad0642f",
   "metadata": {},
   "outputs": [
    {
     "data": {
      "text/plain": [
       "['5 stars', '4 stars', '3 stars']"
      ]
     },
     "execution_count": 15,
     "metadata": {},
     "output_type": "execute_result"
    }
   ],
   "source": [
    "ratings"
   ]
  },
  {
   "cell_type": "code",
   "execution_count": 16,
   "id": "67ce52c7",
   "metadata": {},
   "outputs": [
    {
     "data": {
      "text/plain": [
       "[5, 4, 3]"
      ]
     },
     "execution_count": 16,
     "metadata": {},
     "output_type": "execute_result"
    }
   ],
   "source": [
    "# Use rating_list_cleaner() inside the module\n",
    "rating_list_cleaner(ratings)"
   ]
  },
  {
   "cell_type": "markdown",
   "id": "a76c0421",
   "metadata": {},
   "source": [
    "<div class=\"alert alert-info\">\n",
    "    💡 In general, it's going to be <b>a little bit safer</b> to reference the module name, at least with an alias. \n",
    "    \n",
    "</div>"
   ]
  },
  {
   "cell_type": "markdown",
   "id": "f0e84bc2",
   "metadata": {},
   "source": [
    "<a name=\"1-3\"></a>\n",
    "### • Naming Conflicts\n",
    "\n",
    "🔸 If you import a function directly from a module, package or library that has the **same name as another object in your code**, naming conflicts will happen.\n",
    "\n",
    "🔸 To avoid this situation, use **module name** as the reference before using that function.\n"
   ]
  },
  {
   "cell_type": "code",
   "execution_count": 17,
   "id": "bb4818f6",
   "metadata": {},
   "outputs": [],
   "source": [
    "rating_cleaner = \"I'm a string\""
   ]
  },
  {
   "cell_type": "code",
   "execution_count": 18,
   "id": "088a39fa",
   "metadata": {},
   "outputs": [
    {
     "ename": "TypeError",
     "evalue": "'str' object is not callable",
     "output_type": "error",
     "traceback": [
      "\u001b[1;31m---------------------------------------------------------------------------\u001b[0m",
      "\u001b[1;31mTypeError\u001b[0m                                 Traceback (most recent call last)",
      "Cell \u001b[1;32mIn[18], line 1\u001b[0m\n\u001b[1;32m----> 1\u001b[0m \u001b[43mrating_cleaner\u001b[49m\u001b[43m(\u001b[49m\u001b[38;5;124;43m\"\u001b[39;49m\u001b[38;5;124;43m5 stars\u001b[39;49m\u001b[38;5;124;43m\"\u001b[39;49m\u001b[43m)\u001b[49m\n",
      "\u001b[1;31mTypeError\u001b[0m: 'str' object is not callable"
     ]
    }
   ],
   "source": [
    "rating_cleaner(\"5 stars\")"
   ]
  },
  {
   "cell_type": "code",
   "execution_count": 19,
   "id": "fe31180d",
   "metadata": {},
   "outputs": [
    {
     "data": {
      "text/plain": [
       "5"
      ]
     },
     "execution_count": 19,
     "metadata": {},
     "output_type": "execute_result"
    }
   ],
   "source": [
    "sf.rating_cleaner(\"5 stars\")"
   ]
  },
  {
   "cell_type": "markdown",
   "id": "536a6428",
   "metadata": {},
   "source": [
    "---\n",
    "<a name=\"end\"></a>\n",
    "### Congrats! \n",
    "\n",
    "🔥 Let's go to the next session.\n",
    "\n",
    "📝 This Jupyter notebook has been created by [Ahmad Ahmadi](https://www.linkedin.com/in/ahmad-ahmadi95/). Please follow me and [izlearn](https://www.linkedin.com/company/izlearn) on LinkedIn social media.  \n",
    "\n",
    "🌐 Visit your website for more courses [izlearn.ir](https://izlearn.ir)"
   ]
  }
 ],
 "metadata": {
  "kernelspec": {
   "display_name": "Python 3 (ipykernel)",
   "language": "python",
   "name": "python3"
  },
  "language_info": {
   "codemirror_mode": {
    "name": "ipython",
    "version": 3
   },
   "file_extension": ".py",
   "mimetype": "text/x-python",
   "name": "python",
   "nbconvert_exporter": "python",
   "pygments_lexer": "ipython3",
   "version": "3.9.5"
  }
 },
 "nbformat": 4,
 "nbformat_minor": 5
}
