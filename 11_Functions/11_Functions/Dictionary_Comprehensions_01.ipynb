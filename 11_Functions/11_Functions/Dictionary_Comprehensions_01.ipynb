{
 "cells": [
  {
   "cell_type": "markdown",
   "id": "13420557",
   "metadata": {},
   "source": [
    "#### • Table of the content\n",
    "\n",
    "1. [Dictionary Comprehension](#1)\n",
    "\n",
    "1. [Dictionary Comprehension (without if-else)](#1-1)\n",
    "\n",
    "2. [Dictionary Comprehension (with if)](#1-2)\n",
    "\n",
    "3. [Dictionary Comprehension (with if-else)](#1-3)\n",
    "\n",
    "2. [More Info (Follow Me on LinkedIn)](#end)\n",
    "\n",
    "---"
   ]
  },
  {
   "cell_type": "markdown",
   "id": "121496ab",
   "metadata": {},
   "source": [
    "<a name=\"1\"></a>\n",
    "## Dictionary Comprehension\n",
    "\n",
    "🔸 Comprehensions can also created **dictionaries** from **other iterables**.\n",
    "\n",
    "🔹 **syntax**\n",
    "\n",
    "**1. without if-else**\n",
    "\n",
    "```python\n",
    "new_dict = {key: value for key, value in iterable}\n",
    "```\n",
    "\n",
    "**2. with if**\n",
    "```python\n",
    "new_dict = {key: value for key, value in iterable if condition_ture}\n",
    "```\n",
    "\n",
    "**3. with if-else** 💡\n",
    "```python\n",
    "new_dict = {key: value1 if condition_true else value2 for key, value in iterable}\n",
    "\n",
    "new_dict = {key: (value1 if condition_true else value2) for key, value in iterable}\n",
    "```"
   ]
  },
  {
   "cell_type": "code",
   "execution_count": 1,
   "id": "8ab6471d",
   "metadata": {},
   "outputs": [],
   "source": [
    "import numpy as np"
   ]
  },
  {
   "cell_type": "markdown",
   "id": "566077cb",
   "metadata": {},
   "source": [
    "🔸 We have two lists: **item names** and **item ratings**."
   ]
  },
  {
   "cell_type": "code",
   "execution_count": 2,
   "id": "1bed4df1",
   "metadata": {},
   "outputs": [],
   "source": [
    "items = ['shirt', 'dress', 'leggings', 'boots']\n",
    "ratings = [[4, 5, 3], [3, 5, 3], [2, 2, 2], [5, 5, 4]]"
   ]
  },
  {
   "cell_type": "markdown",
   "id": "0e2a36c9",
   "metadata": {},
   "source": [
    "🔸 **A simple start**\n",
    "\n",
    "- Create a **dictionary** with `items name` as `keys` and `list of ratings` as `values`."
   ]
  },
  {
   "cell_type": "code",
   "execution_count": 3,
   "id": "2dfe0110",
   "metadata": {},
   "outputs": [
    {
     "data": {
      "text/plain": [
       "{'shirt': [4, 5, 3],\n",
       " 'dress': [3, 5, 3],\n",
       " 'leggings': [2, 2, 2],\n",
       " 'boots': [5, 5, 4]}"
      ]
     },
     "execution_count": 3,
     "metadata": {},
     "output_type": "execute_result"
    }
   ],
   "source": [
    "{item: rates for item, rates in zip(items, ratings)}"
   ]
  },
  {
   "cell_type": "markdown",
   "id": "42ebfd3c",
   "metadata": {},
   "source": [
    "🔸 If you don't provide `key-value pairs`, you'll get **set** as an output."
   ]
  },
  {
   "cell_type": "code",
   "execution_count": 8,
   "id": "a81ddc67",
   "metadata": {},
   "outputs": [
    {
     "data": {
      "text/plain": [
       "set"
      ]
     },
     "execution_count": 8,
     "metadata": {},
     "output_type": "execute_result"
    }
   ],
   "source": [
    "type({item for item, rate in zip(items, ratings)})"
   ]
  },
  {
   "cell_type": "markdown",
   "id": "c794ff92",
   "metadata": {},
   "source": [
    "<a name=\"1-1\"></a>\n",
    "### Without if-else\n",
    "\n",
    "🔸 We want to create **a dictionary** with my **item names** as the **keys** and the **average of the ratings** as the **values**."
   ]
  },
  {
   "cell_type": "code",
   "execution_count": 13,
   "id": "5c7a3470",
   "metadata": {},
   "outputs": [],
   "source": [
    "items_rating = {item: round(np.mean(rates), 2) for item, rates in zip(items, ratings)}"
   ]
  },
  {
   "cell_type": "code",
   "execution_count": 14,
   "id": "53bcf492",
   "metadata": {},
   "outputs": [
    {
     "data": {
      "text/plain": [
       "{'shirt': np.float64(4.0),\n",
       " 'dress': np.float64(3.67),\n",
       " 'leggings': np.float64(2.0),\n",
       " 'boots': np.float64(4.67)}"
      ]
     },
     "execution_count": 14,
     "metadata": {},
     "output_type": "execute_result"
    }
   ],
   "source": [
    "items_rating"
   ]
  },
  {
   "cell_type": "markdown",
   "id": "016bbb99",
   "metadata": {},
   "source": [
    "<a name=\"1-2\"></a>\n",
    "### With If\n",
    "\n",
    "🔸 Maybe our system want to <u>recommend</u> **products with the average score of 4 or higher**!"
   ]
  },
  {
   "cell_type": "code",
   "execution_count": 17,
   "id": "e9db4e27",
   "metadata": {},
   "outputs": [],
   "source": [
    "items_rating = {item: round(np.mean(rates), 2) for item, rates in zip(items, ratings) if np.mean(rates) >= 4}"
   ]
  },
  {
   "cell_type": "code",
   "execution_count": 18,
   "id": "b04775a3",
   "metadata": {},
   "outputs": [
    {
     "data": {
      "text/plain": [
       "{'shirt': np.float64(4.0), 'boots': np.float64(4.67)}"
      ]
     },
     "execution_count": 18,
     "metadata": {},
     "output_type": "execute_result"
    }
   ],
   "source": [
    "items_rating"
   ]
  },
  {
   "cell_type": "markdown",
   "id": "9e33f143",
   "metadata": {},
   "source": [
    "🔸 We can make our code **more readable** by **breaking them into separate lines**"
   ]
  },
  {
   "cell_type": "code",
   "execution_count": 19,
   "id": "ad2f1801",
   "metadata": {},
   "outputs": [],
   "source": [
    "items_rating = {\n",
    "    item: round(np.mean(rates), 2) for item, rates in zip(items, ratings)\n",
    "    if np.mean(rates) >= 4\n",
    "}"
   ]
  },
  {
   "cell_type": "code",
   "execution_count": 20,
   "id": "4b4160b7",
   "metadata": {},
   "outputs": [
    {
     "data": {
      "text/plain": [
       "{'shirt': np.float64(4.0), 'boots': np.float64(4.67)}"
      ]
     },
     "execution_count": 20,
     "metadata": {},
     "output_type": "execute_result"
    }
   ],
   "source": [
    "items_rating"
   ]
  },
  {
   "cell_type": "markdown",
   "id": "ec84a18d",
   "metadata": {},
   "source": [
    "<a name=\"1-3\"></a>\n",
    "### With if-else\n",
    "\n",
    "🔸 We want to see **which items have the mean ratings under 4**. \n",
    "\n",
    "🔸 For those items put **underrated** as corresponding values.\n",
    "\n",
    "🔸 For others put the **mean ratings** as values.\n",
    "\n",
    "👀 [Dictionary comprehension python with if-else](https://stackoverflow.com/questions/9442724/how-can-i-use-if-else-in-a-dictionary-comprehension)"
   ]
  },
  {
   "cell_type": "code",
   "execution_count": 22,
   "id": "dec7be49",
   "metadata": {},
   "outputs": [],
   "source": [
    "items_rating = {item: round(np.mean(rates), 2) if np.mean(rates) >= 4 else \"underrated\" for item, rates in zip(items, ratings)}"
   ]
  },
  {
   "cell_type": "code",
   "execution_count": 23,
   "id": "c9ad594c",
   "metadata": {},
   "outputs": [
    {
     "data": {
      "text/plain": [
       "{'shirt': np.float64(4.0),\n",
       " 'dress': 'underrated',\n",
       " 'leggings': 'underrated',\n",
       " 'boots': np.float64(4.67)}"
      ]
     },
     "execution_count": 23,
     "metadata": {},
     "output_type": "execute_result"
    }
   ],
   "source": [
    "{item: (round(np.mean(rates), 2) if np.mean(rates) >= 4 else \"underrated\") for item, rates in zip(items, ratings)}"
   ]
  },
  {
   "cell_type": "code",
   "execution_count": 24,
   "id": "85c20e78",
   "metadata": {},
   "outputs": [
    {
     "data": {
      "text/plain": [
       "{'shirt': np.float64(4.0),\n",
       " 'dress': 'underrated',\n",
       " 'leggings': 'underrated',\n",
       " 'boots': np.float64(4.67)}"
      ]
     },
     "execution_count": 24,
     "metadata": {},
     "output_type": "execute_result"
    }
   ],
   "source": [
    "items_rating"
   ]
  },
  {
   "cell_type": "markdown",
   "id": "d825b40f",
   "metadata": {},
   "source": [
    "---\n",
    "<a name=\"end\"></a>\n",
    "### Congrats! \n",
    "\n",
    "🔥 Let's go to the next session.\n",
    "\n",
    "📝 This Jupyter notebook has been created by [Ahmad Ahmadi](https://www.linkedin.com/in/ahmad-ahmadi95/). Please follow me and [izlearn](https://www.linkedin.com/company/izlearn) on LinkedIn social media.  \n",
    "\n",
    "🌐 Visit your website for more courses [izlearn.ir](https://izlearn.ir)"
   ]
  }
 ],
 "metadata": {
  "kernelspec": {
   "display_name": "Python 3 (ipykernel)",
   "language": "python",
   "name": "python3"
  },
  "language_info": {
   "codemirror_mode": {
    "name": "ipython",
    "version": 3
   },
   "file_extension": ".py",
   "mimetype": "text/x-python",
   "name": "python",
   "nbconvert_exporter": "python",
   "pygments_lexer": "ipython3",
   "version": "3.9.5"
  }
 },
 "nbformat": 4,
 "nbformat_minor": 5
}
