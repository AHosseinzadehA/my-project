{
 "cells": [
  {
   "cell_type": "markdown",
   "id": "7a9012fd",
   "metadata": {},
   "source": [
    "## Total Cost of European Items\n",
    "\n",
    "🙋🏽‍♂️ **Hi there!**\n",
    "\n",
    "🔸 This is [Mohsen](https://linkedin.com/in/mohsen-abbasi) talking.\n",
    "\n",
    "🔸 Can you just help me to calculate the **total cost of the European items**? \n",
    "\n",
    "💡 It would be nice if we could calculate it in **one single line**."
   ]
  },
  {
   "cell_type": "code",
   "execution_count": 1,
   "id": "6707327d",
   "metadata": {},
   "outputs": [],
   "source": [
    "item_ids = [10001, 10002, 10003, 10004,\n",
    "            10005, 10006, 10007, 10008,\n",
    "            10009]\n",
    "\n",
    "item_names = [\n",
    "    'Shirt',\n",
    "    'Jeans',\n",
    "    'Tie',\n",
    "    'Skirt',\n",
    "    'Belt',\n",
    "    'Boots',\n",
    "    'Scarf',\n",
    "    'Dress',\n",
    "    'Flip-flops'\n",
    "]\n",
    "\n",
    "euro_prices = [23.99, 39.99, 5.99,\n",
    "               19.99, 2.99, 49.99,\n",
    "               2.99, 69.99, 9.99]\n",
    "\n",
    "item_category = [\n",
    "    'clothing',\n",
    "    'clothing',\n",
    "    'accessory',\n",
    "    'clothing',\n",
    "    'accessory',\n",
    "    'clothing',\n",
    "    'accessory',\n",
    "    'clothing',\n",
    "    'clothing'\n",
    "]\n",
    "\n",
    "sizes = [\n",
    "    ['s', 'm', 'l'],\n",
    "    ['s', 'm', 'l', 'xl'],\n",
    "    ['child', 'adult'],\n",
    "    ['free size'],\n",
    "    ['child', 'adult'],\n",
    "    [35, 36, 37, 38, 39, 40],\n",
    "    ['child', 'adult'],\n",
    "    ['s', 'm', 'l'],\n",
    "    [35, 36, 39, 40]\n",
    "\n",
    "]"
   ]
  },
  {
   "cell_type": "markdown",
   "id": "d7e1f47d",
   "metadata": {},
   "source": [
    "👇🏼 This is [dictionary comprehension](https://www.geeksforgeeks.org/python-dictionary-comprehension/) and we see example of it **after this assignment**."
   ]
  },
  {
   "cell_type": "code",
   "execution_count": 2,
   "id": "e57bf93b",
   "metadata": {},
   "outputs": [],
   "source": [
    "euro_data = {\n",
    "    item_id:[name, price, category, sizes]\n",
    "    for item_id, name, price, category, sizes in zip(\n",
    "    item_ids, item_names, euro_prices, item_category, sizes\n",
    "    )\n",
    "}"
   ]
  },
  {
   "cell_type": "code",
   "execution_count": 3,
   "id": "5c308432",
   "metadata": {},
   "outputs": [
    {
     "data": {
      "text/plain": [
       "{10001: ['Shirt', 23.99, 'clothing', ['s', 'm', 'l']],\n",
       " 10002: ['Jeans', 39.99, 'clothing', ['s', 'm', 'l', 'xl']],\n",
       " 10003: ['Tie', 5.99, 'accessory', ['child', 'adult']],\n",
       " 10004: ['Skirt', 19.99, 'clothing', ['free size']],\n",
       " 10005: ['Belt', 2.99, 'accessory', ['child', 'adult']],\n",
       " 10006: ['Boots', 49.99, 'clothing', [35, 36, 37, 38, 39, 40]],\n",
       " 10007: ['Scarf', 2.99, 'accessory', ['child', 'adult']],\n",
       " 10008: ['Dress', 69.99, 'clothing', ['s', 'm', 'l']],\n",
       " 10009: ['Flip-flops', 9.99, 'clothing', [35, 36, 39, 40]]}"
      ]
     },
     "execution_count": 3,
     "metadata": {},
     "output_type": "execute_result"
    }
   ],
   "source": [
    "euro_data"
   ]
  },
  {
   "cell_type": "markdown",
   "id": "48f4ee0a",
   "metadata": {},
   "source": [
    "### Calculate the Total Cost of Items\n",
    "\n",
    "🔸 Calculate the amount, it would cost to purchase **all the items** in **euro_data**\n",
    "\n",
    "🔸 Use **list comprehension** to collect them into a list."
   ]
  },
  {
   "cell_type": "code",
   "execution_count": 10,
   "id": "7d80279d",
   "metadata": {},
   "outputs": [],
   "source": [
    "costs_list = [item[1] for item in euro_data.values()]"
   ]
  },
  {
   "cell_type": "code",
   "execution_count": 11,
   "id": "de945494",
   "metadata": {},
   "outputs": [
    {
     "data": {
      "text/plain": [
       "[23.99, 39.99, 5.99, 19.99, 2.99, 49.99, 2.99, 69.99, 9.99]"
      ]
     },
     "execution_count": 11,
     "metadata": {},
     "output_type": "execute_result"
    }
   ],
   "source": [
    "costs_list"
   ]
  },
  {
   "cell_type": "code",
   "execution_count": 13,
   "id": "ee5ed406",
   "metadata": {},
   "outputs": [
    {
     "data": {
      "text/plain": [
       "225.91"
      ]
     },
     "execution_count": 13,
     "metadata": {},
     "output_type": "execute_result"
    }
   ],
   "source": [
    "round(sum(costs_list), 2)"
   ]
  },
  {
   "cell_type": "markdown",
   "id": "a59b89cf",
   "metadata": {},
   "source": [
    "---\n",
    "<a name=\"end\"></a>\n",
    "### Congrats! \n",
    "\n",
    "🔥 Let's go to the next session.\n",
    "\n",
    "📝 This Jupyter notebook has been created by [Ahmad Ahmadi](https://www.linkedin.com/in/ahmad-ahmadi95/). Please follow me and [izlearn](https://www.linkedin.com/company/izlearn) on LinkedIn social media.  \n",
    "\n",
    "🌐 Visit your website for more courses [izlearn.ir](https://izlearn.ir)"
   ]
  }
 ],
 "metadata": {
  "kernelspec": {
   "display_name": "Python 3 (ipykernel)",
   "language": "python",
   "name": "python3"
  },
  "language_info": {
   "codemirror_mode": {
    "name": "ipython",
    "version": 3
   },
   "file_extension": ".py",
   "mimetype": "text/x-python",
   "name": "python",
   "nbconvert_exporter": "python",
   "pygments_lexer": "ipython3",
   "version": "3.9.5"
  }
 },
 "nbformat": 4,
 "nbformat_minor": 5
}
