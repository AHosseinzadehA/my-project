{
 "cells": [
  {
   "cell_type": "markdown",
   "id": "dac052f2",
   "metadata": {},
   "source": [
    "#### • Table of the content\n",
    "\n",
    "1. [Return Values](#1)\n",
    "\n",
    "2. [Unpacking Return Values](#2)\n",
    "\n",
    "3. [More Info (Follow Me on LinkedIn)](#end)\n",
    "\n",
    "---"
   ]
  },
  {
   "cell_type": "markdown",
   "id": "5f2b82b9",
   "metadata": {},
   "source": [
    "<a name=\"1\"></a>\n",
    "## • Return Values\n",
    "\n",
    "🔸 Functions can **return multiple values** → usually as a **tuple**.\n",
    "\n",
    "🔸 Functions can return multiple values **as other types of iterables** as well.\n",
    "\n",
    "---"
   ]
  },
  {
   "cell_type": "markdown",
   "id": "86886fc2",
   "metadata": {},
   "source": [
    "🔸 Complete the function in order to return **two values**!\n",
    "\n",
    "- rating \n",
    "- numeric_part"
   ]
  },
  {
   "cell_type": "code",
   "execution_count": 1,
   "id": "91f5835d",
   "metadata": {},
   "outputs": [],
   "source": [
    "def rating_cleaner(rating, index=0):\n",
    "    \"\"\"\n",
    "    Takes in rating as a string,\n",
    "    then returns rating & numeric part\n",
    "    \n",
    "    Args:\n",
    "    rating(str): rating as a string\n",
    "    index(int): the index of numeric part in the rating\n",
    "    \n",
    "    Returns:\n",
    "    rating(str): rating as string\n",
    "    numeric_part(int): the numeric part of rating (default is 0)\n",
    "    \"\"\"\n",
    "    numeric_part = int(rating[index])\n",
    "    return rating, numeric_part"
   ]
  },
  {
   "cell_type": "code",
   "execution_count": 2,
   "id": "348be8e4",
   "metadata": {},
   "outputs": [
    {
     "data": {
      "text/plain": [
       "('5 stars', 5)"
      ]
     },
     "execution_count": 2,
     "metadata": {},
     "output_type": "execute_result"
    }
   ],
   "source": [
    "rating_cleaner(rating=\"5 stars\")"
   ]
  },
  {
   "cell_type": "markdown",
   "id": "4b429c8c",
   "metadata": {},
   "source": [
    "🔸 **Change the function** in order to return **two outputs** as a **list**. "
   ]
  },
  {
   "cell_type": "code",
   "execution_count": 3,
   "id": "8b60c08b",
   "metadata": {},
   "outputs": [],
   "source": [
    "def rating_cleaner(rating, index=0):\n",
    "    \"\"\"\n",
    "    Takes in rating as a string,\n",
    "    then returns rating & numeric part\n",
    "    \n",
    "    Args:\n",
    "    rating(str): rating as a string\n",
    "    index(int): the index of numeric part in the rating\n",
    "    \n",
    "    Returns:\n",
    "    rating(str): rating as string\n",
    "    numeric_part(int): the numeric part of rating (default is 0)\n",
    "    \"\"\"\n",
    "    numeric_part = int(rating[index])\n",
    "    return [rating, numeric_part]"
   ]
  },
  {
   "cell_type": "code",
   "execution_count": 5,
   "id": "341db753",
   "metadata": {},
   "outputs": [
    {
     "data": {
      "text/plain": [
       "5"
      ]
     },
     "execution_count": 5,
     "metadata": {},
     "output_type": "execute_result"
    }
   ],
   "source": [
    "rating_cleaner(rating=\"5 stars\")[-1]"
   ]
  },
  {
   "cell_type": "markdown",
   "id": "67315c0c",
   "metadata": {},
   "source": [
    "🔸 **Change the function** in order to return **outputs** a dictionary.\n",
    "\n",
    "- **{key: value}** → **{rating: numeric_part}**"
   ]
  },
  {
   "cell_type": "code",
   "execution_count": 6,
   "id": "6b9512f5",
   "metadata": {},
   "outputs": [],
   "source": [
    "def rating_cleaner(rating, index=0):\n",
    "    \"\"\"\n",
    "    Takes in rating as a string,\n",
    "    then returns rating & numeric part\n",
    "    \n",
    "    Args:\n",
    "    rating(str): rating as a string\n",
    "    index(int): the index of numeric part in the rating\n",
    "    \n",
    "    Returns:\n",
    "    rating(str): rating as string\n",
    "    numeric_part(int): the numeric part of rating (default is 0)\n",
    "    \"\"\"\n",
    "    numeric_part = int(rating[index])\n",
    "    return {rating: numeric_part}"
   ]
  },
  {
   "cell_type": "code",
   "execution_count": 8,
   "id": "e720dbbb",
   "metadata": {},
   "outputs": [
    {
     "data": {
      "text/plain": [
       "5"
      ]
     },
     "execution_count": 8,
     "metadata": {},
     "output_type": "execute_result"
    }
   ],
   "source": [
    "rating_cleaner(rating=\"5 stars\")[\"5 stars\"]"
   ]
  },
  {
   "cell_type": "markdown",
   "id": "7d6e6dd8",
   "metadata": {},
   "source": [
    "<a name=\"2\"></a>\n",
    "## • Unpacking Return Values\n",
    "\n",
    "🔸 We can **unpack** our multiple-return functions into **variables** during **function call**. "
   ]
  },
  {
   "cell_type": "code",
   "execution_count": 9,
   "id": "6136b970",
   "metadata": {},
   "outputs": [],
   "source": [
    "def rating_cleaner(rating, index=0):\n",
    "    \"\"\"\n",
    "    Takes in rating as a string,\n",
    "    then returns rating & numeric part\n",
    "    \n",
    "    Args:\n",
    "    rating(str): rating as a string\n",
    "    index(int): the index of numeric part in the rating\n",
    "    \n",
    "    Returns:\n",
    "    rating(str): rating as string\n",
    "    numeric_part(int): the numeric part of rating (default is 0)\n",
    "    \"\"\"\n",
    "    numeric_part = int(rating[index])\n",
    "    return rating, numeric_part"
   ]
  },
  {
   "cell_type": "code",
   "execution_count": 14,
   "id": "7e971b83",
   "metadata": {},
   "outputs": [],
   "source": [
    "original_rating, numeric_rating = rating_cleaner(rating=\"2 stars\")"
   ]
  },
  {
   "cell_type": "code",
   "execution_count": 15,
   "id": "dc86c83a",
   "metadata": {},
   "outputs": [
    {
     "name": "stdout",
     "output_type": "stream",
     "text": [
      "2 stars\n"
     ]
    }
   ],
   "source": [
    "print(original_rating)"
   ]
  },
  {
   "cell_type": "code",
   "execution_count": 16,
   "id": "40c43607",
   "metadata": {},
   "outputs": [
    {
     "name": "stdout",
     "output_type": "stream",
     "text": [
      "2\n"
     ]
    }
   ],
   "source": [
    "print(numeric_rating)"
   ]
  },
  {
   "cell_type": "markdown",
   "id": "aaedbb6f",
   "metadata": {},
   "source": [
    "---\n",
    "<a name=\"end\"></a>\n",
    "### Congrats! \n",
    "\n",
    "🔥 Let's go to the next session.\n",
    "\n",
    "📝 This Jupyter notebook has been created by [Ahmad Ahmadi](https://www.linkedin.com/in/ahmad-ahmadi95/). Please follow me and [izlearn](https://www.linkedin.com/company/izlearn) on LinkedIn social media.  \n",
    "\n",
    "🌐 Visit your website for more courses [izlearn.ir](https://izlearn.ir)"
   ]
  }
 ],
 "metadata": {
  "kernelspec": {
   "display_name": "Python 3 (ipykernel)",
   "language": "python",
   "name": "python3"
  },
  "language_info": {
   "codemirror_mode": {
    "name": "ipython",
    "version": 3
   },
   "file_extension": ".py",
   "mimetype": "text/x-python",
   "name": "python",
   "nbconvert_exporter": "python",
   "pygments_lexer": "ipython3",
   "version": "3.9.5"
  }
 },
 "nbformat": 4,
 "nbformat_minor": 5
}
