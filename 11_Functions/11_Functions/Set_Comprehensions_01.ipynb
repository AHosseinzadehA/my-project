{
 "cells": [
  {
   "cell_type": "markdown",
   "id": "6dc635f5",
   "metadata": {},
   "source": [
    "#### • Table of the content\n",
    "\n",
    "1. [Set Comprehension](#1)\n",
    "\n",
    "2. [More Info (Follow Me on LinkedIn)](#end)\n",
    "\n",
    "---"
   ]
  },
  {
   "cell_type": "markdown",
   "id": "436b62e9",
   "metadata": {},
   "source": [
    "<a name=\"1\"></a>\n",
    "\n",
    "## Set Comprehension\n",
    "\n",
    "🔸 **Set comprehension** generates a <u>set</u> from <u>other sequence</u>\n",
    "\n",
    "🔸 All right! Let's take a closer look at [set comprehension](https://www.google.com/search?q=set+comprehension+in+python) 👀\n",
    "\n",
    "🔹 **syntax**\n",
    "\n",
    "**1. without if-else**\n",
    "\n",
    "```python\n",
    "new_set = {do_this for item in iterable}\n",
    "```\n",
    "\n",
    "**2. with if**\n",
    "\n",
    "```python\n",
    "new_set = {do_this for item in iterable if condition_is_true}\n",
    "```\n",
    "\n",
    "**3. with if-else**\n",
    "\n",
    "```python\n",
    "new_list = {do_1 if condition_is_ture else do_2 for item in iterable}\n",
    "```"
   ]
  },
  {
   "cell_type": "code",
   "execution_count": 1,
   "id": "32086574",
   "metadata": {},
   "outputs": [],
   "source": [
    "my_list = [5, 3, 8, 12, 42, 21, 23]"
   ]
  },
  {
   "cell_type": "markdown",
   "id": "d0f3f9b9",
   "metadata": {},
   "source": [
    "#### 🔹 without if-else"
   ]
  },
  {
   "cell_type": "code",
   "execution_count": 2,
   "id": "292bfbc1",
   "metadata": {},
   "outputs": [],
   "source": [
    "squared_set = {number**2 for number in my_list}"
   ]
  },
  {
   "cell_type": "code",
   "execution_count": 3,
   "id": "63f8e675",
   "metadata": {},
   "outputs": [
    {
     "data": {
      "text/plain": [
       "{9, 25, 64, 144, 441, 529, 1764}"
      ]
     },
     "execution_count": 3,
     "metadata": {},
     "output_type": "execute_result"
    }
   ],
   "source": [
    "squared_set"
   ]
  },
  {
   "cell_type": "markdown",
   "id": "12764552",
   "metadata": {},
   "source": [
    "#### 🔹 with if"
   ]
  },
  {
   "cell_type": "code",
   "execution_count": 4,
   "id": "2d1463f1",
   "metadata": {},
   "outputs": [],
   "source": [
    "less_than_20 = {number for number in my_list if number < 20}"
   ]
  },
  {
   "cell_type": "code",
   "execution_count": 5,
   "id": "c0be3fc6",
   "metadata": {},
   "outputs": [
    {
     "data": {
      "text/plain": [
       "{3, 5, 8, 12}"
      ]
     },
     "execution_count": 5,
     "metadata": {},
     "output_type": "execute_result"
    }
   ],
   "source": [
    "less_than_20"
   ]
  },
  {
   "cell_type": "markdown",
   "id": "841635c3",
   "metadata": {},
   "source": [
    "#### 🔹 with if-else"
   ]
  },
  {
   "cell_type": "code",
   "execution_count": 6,
   "id": "03c1e31a",
   "metadata": {},
   "outputs": [],
   "source": [
    "even_odd_set = {(number, \"even\") if number%2==0 else (number, \"odd\") for number in my_list}"
   ]
  },
  {
   "cell_type": "code",
   "execution_count": 7,
   "id": "10fdb970",
   "metadata": {},
   "outputs": [
    {
     "data": {
      "text/plain": [
       "{(3, 'odd'),\n",
       " (5, 'odd'),\n",
       " (8, 'even'),\n",
       " (12, 'even'),\n",
       " (21, 'odd'),\n",
       " (23, 'odd'),\n",
       " (42, 'even')}"
      ]
     },
     "execution_count": 7,
     "metadata": {},
     "output_type": "execute_result"
    }
   ],
   "source": [
    "even_odd_set"
   ]
  },
  {
   "cell_type": "markdown",
   "id": "224fdcca",
   "metadata": {},
   "source": [
    "---\n",
    "<a name=\"end\"></a>\n",
    "### Congrats! \n",
    "\n",
    "🔥 Let's go to the next session.\n",
    "\n",
    "📝 This Jupyter notebook has been created by [Ahmad Ahmadi](https://www.linkedin.com/in/ahmad-ahmadi95/). Please follow me and [izlearn](https://www.linkedin.com/company/izlearn) on LinkedIn social media.  \n",
    "\n",
    "🌐 Visit your website for more courses [izlearn.ir](https://izlearn.ir)"
   ]
  }
 ],
 "metadata": {
  "kernelspec": {
   "display_name": "Python 3 (ipykernel)",
   "language": "python",
   "name": "python3"
  },
  "language_info": {
   "codemirror_mode": {
    "name": "ipython",
    "version": 3
   },
   "file_extension": ".py",
   "mimetype": "text/x-python",
   "name": "python",
   "nbconvert_exporter": "python",
   "pygments_lexer": "ipython3",
   "version": "3.9.5"
  }
 },
 "nbformat": 4,
 "nbformat_minor": 5
}
