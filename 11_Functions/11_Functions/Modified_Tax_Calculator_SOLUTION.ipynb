{
 "cells": [
  {
   "cell_type": "markdown",
   "id": "8548f343",
   "metadata": {},
   "source": [
    "## Modified Tax Calculator\n",
    "\n",
    "🔸 Since the tax calculator we made was primarily for our **Madrid** employees, **let's modify** the tax calculator below to have a **default tax rate** of **12.5%**. \n",
    "\n",
    "\n",
    "🔸 Also, we want the **output of the function** to return **a list** containing the **subtotal**, **tax**, and **totals**. "
   ]
  },
  {
   "cell_type": "code",
   "execution_count": 1,
   "id": "b1b86a14",
   "metadata": {},
   "outputs": [
    {
     "name": "stdout",
     "output_type": "stream",
     "text": [
      "Writing tax_calculator.py\n"
     ]
    }
   ],
   "source": [
    "%%writefile tax_calculator.py\n",
    "def tax_calculator(subtotal, tax_rate=0.125):\n",
    "    \"\"\"\n",
    "    Takes in subtotal and tax rate then returns\n",
    "    [subtotal, tax, total]\n",
    "    \n",
    "    -Args:\n",
    "    subtotal(float, int): cost of items in transactions\n",
    "    tax_rate(float, optional): tax rate at store location\n",
    "    (default is 0.125)\n",
    "    \n",
    "    - Returns:\n",
    "    list: a list containing subtotal, tax and total\n",
    "    \"\"\"\n",
    "    tax = round(subtotal * tax_rate, 2)\n",
    "    total = round(subtotal + tax, 2)\n",
    "    \n",
    "    return [subtotal, tax, total]"
   ]
  },
  {
   "cell_type": "markdown",
   "id": "e56a53ff",
   "metadata": {},
   "source": [
    "🔹 **Method 1) import entire module**\n",
    "\n",
    "- Test your code using `subtotal=120` as an input."
   ]
  },
  {
   "cell_type": "code",
   "execution_count": 2,
   "id": "3c1cfde6",
   "metadata": {},
   "outputs": [],
   "source": [
    "import tax_calculator"
   ]
  },
  {
   "cell_type": "code",
   "execution_count": 3,
   "id": "09d71207",
   "metadata": {},
   "outputs": [
    {
     "data": {
      "text/plain": [
       "[120, 15.0, 135.0]"
      ]
     },
     "execution_count": 3,
     "metadata": {},
     "output_type": "execute_result"
    }
   ],
   "source": [
    "# Test your code using 120\n",
    "tax_calculator.tax_calculator(subtotal=120)"
   ]
  },
  {
   "cell_type": "markdown",
   "id": "cfde94aa",
   "metadata": {},
   "source": [
    "🔹 **Method 2) import entire module as `tc`**\n",
    "\n",
    "- Test your code using `subtotal=120` as an input."
   ]
  },
  {
   "cell_type": "code",
   "execution_count": 4,
   "id": "e5bdd89c",
   "metadata": {},
   "outputs": [],
   "source": [
    "import tax_calculator as tc"
   ]
  },
  {
   "cell_type": "code",
   "execution_count": 5,
   "id": "030a9678",
   "metadata": {},
   "outputs": [
    {
     "data": {
      "text/plain": [
       "[120, 15.0, 135.0]"
      ]
     },
     "execution_count": 5,
     "metadata": {},
     "output_type": "execute_result"
    }
   ],
   "source": [
    "# Test your code using 120\n",
    "tc.tax_calculator(subtotal=120)"
   ]
  },
  {
   "cell_type": "markdown",
   "id": "ba0585d6",
   "metadata": {},
   "source": [
    "🔹 **Method 3) import specific function**\n",
    "\n",
    "- Test your code using `subtotal=120` as an input."
   ]
  },
  {
   "cell_type": "code",
   "execution_count": 6,
   "id": "4d346222",
   "metadata": {},
   "outputs": [],
   "source": [
    "from tax_calculator import tax_calculator"
   ]
  },
  {
   "cell_type": "code",
   "execution_count": 7,
   "id": "f8b0a26b",
   "metadata": {},
   "outputs": [
    {
     "data": {
      "text/plain": [
       "[120, 15.0, 135.0]"
      ]
     },
     "execution_count": 7,
     "metadata": {},
     "output_type": "execute_result"
    }
   ],
   "source": [
    "# Test your code using 120\n",
    "tax_calculator(subtotal=120)"
   ]
  },
  {
   "cell_type": "markdown",
   "id": "37878e6a",
   "metadata": {},
   "source": [
    "---\n",
    "<a name=\"end\"></a>\n",
    "### Congrats! \n",
    "\n",
    "🔥 Let's go to the next session.\n",
    "\n",
    "📝 This Jupyter notebook has been created by [Ahmad Ahmadi](https://www.linkedin.com/in/ahmad-ahmadi95/). Please follow me and [izlearn](https://www.linkedin.com/company/izlearn) on LinkedIn social media.  \n",
    "\n",
    "🌐 Visit your website for more courses [izlearn.ir](https://izlearn.ir)"
   ]
  }
 ],
 "metadata": {
  "kernelspec": {
   "display_name": "Python 3 (ipykernel)",
   "language": "python",
   "name": "python3"
  },
  "language_info": {
   "codemirror_mode": {
    "name": "ipython",
    "version": 3
   },
   "file_extension": ".py",
   "mimetype": "text/x-python",
   "name": "python",
   "nbconvert_exporter": "python",
   "pygments_lexer": "ipython3",
   "version": "3.9.5"
  }
 },
 "nbformat": 4,
 "nbformat_minor": 5
}
