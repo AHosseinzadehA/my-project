{
 "cells": [
  {
   "cell_type": "markdown",
   "id": "6dc635f5",
   "metadata": {},
   "source": [
    "#### • Table of the content\n",
    "\n",
    "1. [Nested Loops in Comprehensions](#1)\n",
    "2. [Example 1](#1-1)\n",
    "3. [Example 2](#1-2)\n",
    "\n",
    "4. [More Info (Follow Me on LinkedIn)](#end)\n",
    "\n",
    "---"
   ]
  },
  {
   "cell_type": "markdown",
   "id": "436b62e9",
   "metadata": {},
   "source": [
    "<a name=\"1\"></a>\n",
    "\n",
    "## Nested Loops in Comprehensions\n",
    "\n",
    "🔸 As you may notice by now, **comprehensions** are very powerful features in Python. \n",
    "\n",
    "🔸 You may ask yourself if it's possible to have **nested loops in comprehensions**? **The answer is yes**. [follow the link](https://www.geeksforgeeks.org/nested-list-comprehensions-in-python/)\n",
    "\n",
    "🔹 **syntax**\n",
    "\n",
    "**without if-else**\n",
    "\n",
    "```python\n",
    "my_list = [[1, 2], [3, 4], [5, 6]]\n",
    "new_list = [number for sublist in my_list for number in sublist]\n",
    "```\n",
    "```\n",
    "[1, 2, 3, 4, 5, 6]\n",
    "```"
   ]
  },
  {
   "cell_type": "markdown",
   "id": "dac99374",
   "metadata": {},
   "source": [
    "<a name=\"1-1\"></a>\n",
    "### 🔹 Example 1."
   ]
  },
  {
   "cell_type": "code",
   "execution_count": 1,
   "id": "32086574",
   "metadata": {},
   "outputs": [],
   "source": [
    "nested_list = [[1, 2, 3], [4, 5, 6], [7, 8, 9]]"
   ]
  },
  {
   "cell_type": "code",
   "execution_count": 2,
   "id": "0f7f653c",
   "metadata": {},
   "outputs": [
    {
     "data": {
      "text/plain": [
       "[[1, 2, 3], [4, 5, 6], [7, 8, 9]]"
      ]
     },
     "execution_count": 2,
     "metadata": {},
     "output_type": "execute_result"
    }
   ],
   "source": [
    "# Use comprehension to store all numbers in a separate list (without nested for)\n",
    "[item for item in nested_list]"
   ]
  },
  {
   "cell_type": "code",
   "execution_count": 5,
   "id": "09658e79",
   "metadata": {},
   "outputs": [
    {
     "data": {
      "text/plain": [
       "[1, 2, 3, 4, 5, 6, 7, 8, 9]"
      ]
     },
     "execution_count": 5,
     "metadata": {},
     "output_type": "execute_result"
    }
   ],
   "source": [
    "# Use comprehension to store all numbers in a separate list (with nested for)\n",
    "[number for items in nested_list for number in items]"
   ]
  },
  {
   "cell_type": "markdown",
   "id": "d0f3f9b9",
   "metadata": {},
   "source": [
    "<a name=\"1-2\"></a>\n",
    "### 🔹 Example 2."
   ]
  },
  {
   "cell_type": "code",
   "execution_count": 7,
   "id": "292bfbc1",
   "metadata": {},
   "outputs": [],
   "source": [
    "nested_items = [\n",
    "    [\"jeans\", \"dress\", \"skirt\"],\n",
    "    [\"boots\", \"belt\", \"coat\"],\n",
    "    [\"scarf\", \"tie\", \"sandals\"]\n",
    "]"
   ]
  },
  {
   "cell_type": "code",
   "execution_count": 8,
   "id": "63f8e675",
   "metadata": {},
   "outputs": [
    {
     "data": {
      "text/plain": [
       "['boots', 'belt']"
      ]
     },
     "execution_count": 8,
     "metadata": {},
     "output_type": "execute_result"
    }
   ],
   "source": [
    "# Use comprehension to store items that starts with 'b' in a separate list\n",
    "[item for item_list in nested_items for item in item_list if item.startswith('b')]"
   ]
  },
  {
   "cell_type": "markdown",
   "id": "224fdcca",
   "metadata": {},
   "source": [
    "---\n",
    "<a name=\"end\"></a>\n",
    "### Congrats! \n",
    "\n",
    "🔥 Let's go to the next session.\n",
    "\n",
    "📝 This Jupyter notebook has been created by [Ahmad Ahmadi](https://www.linkedin.com/in/ahmad-ahmadi95/). Please follow me and [izlearn](https://www.linkedin.com/company/izlearn) on LinkedIn social media.  \n",
    "\n",
    "🌐 Visit your website for more courses [izlearn.ir](https://izlearn.ir)"
   ]
  }
 ],
 "metadata": {
  "kernelspec": {
   "display_name": "Python 3 (ipykernel)",
   "language": "python",
   "name": "python3"
  },
  "language_info": {
   "codemirror_mode": {
    "name": "ipython",
    "version": 3
   },
   "file_extension": ".py",
   "mimetype": "text/x-python",
   "name": "python",
   "nbconvert_exporter": "python",
   "pygments_lexer": "ipython3",
   "version": "3.9.5"
  }
 },
 "nbformat": 4,
 "nbformat_minor": 5
}
