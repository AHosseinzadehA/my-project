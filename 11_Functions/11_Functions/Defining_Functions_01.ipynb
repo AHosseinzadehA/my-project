{
 "cells": [
  {
   "cell_type": "markdown",
   "id": "44edd646",
   "metadata": {},
   "source": [
    "#### • Table of the content\n",
    "\n",
    "1. [Defining Functions](#1)\n",
    "2. [Creating Docstring](#1-1)\n",
    "3. [More Info (Follow Me on LinkedIn)](#end)\n",
    "\n",
    "---"
   ]
  },
  {
   "cell_type": "markdown",
   "id": "8a956349",
   "metadata": {},
   "source": [
    "<a name=\"1\"></a>\n",
    "## Defining Functions\n",
    "\n",
    "🔸 **Functions** are **reusable blocks of code** that perform specific tasks **when called**. \n",
    "\n",
    "🔸 **Functions** typically take in **data**, perform **set of actions**, and **return a result**. \n",
    "\n",
    "🔸 We are able to **define a function** in Python like this:\n",
    "\n",
    "```python\n",
    "def function_name(arguments):\n",
    "    # do something\n",
    "    return output\n",
    "```\n",
    "\n",
    "🔰 **def** keyword is **reserved for Python** to indicate that we're defining a new function.\n",
    "\n",
    "🔰 **return** is also **reserved for Python** to indicate that our function has an output\\result. "
   ]
  },
  {
   "cell_type": "code",
   "execution_count": 1,
   "id": "5a4c2825",
   "metadata": {},
   "outputs": [],
   "source": [
    "ratings = [\n",
    "    ['5 stars', '1 star', '3 stars'],\n",
    "    ['5 stars', '4 stars'],\n",
    "    ['4 stars', '2 stars'],\n",
    "    ['1 star']\n",
    "]"
   ]
  },
  {
   "cell_type": "code",
   "execution_count": 2,
   "id": "914c7532",
   "metadata": {},
   "outputs": [
    {
     "data": {
      "text/plain": [
       "[['5 stars', '1 star', '3 stars'],\n",
       " ['5 stars', '4 stars'],\n",
       " ['4 stars', '2 stars'],\n",
       " ['1 star']]"
      ]
     },
     "execution_count": 2,
     "metadata": {},
     "output_type": "execute_result"
    }
   ],
   "source": [
    "ratings"
   ]
  },
  {
   "cell_type": "markdown",
   "id": "1f04298b",
   "metadata": {},
   "source": [
    "🔸 Return the **numeric part** of the `rate` from the cell below"
   ]
  },
  {
   "cell_type": "code",
   "execution_count": 3,
   "id": "bd7a1de8",
   "metadata": {},
   "outputs": [
    {
     "name": "stdout",
     "output_type": "stream",
     "text": [
      "The numeric part is 5.\n"
     ]
    }
   ],
   "source": [
    "rate = \"5 stars\"\n",
    "int_rate = int(rate[0])\n",
    "print(f\"The numeric part is {int_rate}.\")"
   ]
  },
  {
   "cell_type": "code",
   "execution_count": 4,
   "id": "01ba2367",
   "metadata": {},
   "outputs": [
    {
     "name": "stdout",
     "output_type": "stream",
     "text": [
      "The numeric part is 3.\n"
     ]
    }
   ],
   "source": [
    "rate = \"3 stars\"\n",
    "int_rate = int(rate[0])\n",
    "print(f\"The numeric part is {int_rate}.\")"
   ]
  },
  {
   "cell_type": "markdown",
   "id": "cbb0ff2b",
   "metadata": {},
   "source": [
    "🔸**What the hell!** I'm *repeating myself!* There must be a better way in programming!\n",
    "\n",
    "🔸 I can create a **function** for this piece of calculations.\n",
    "\n",
    "🔰 Define a function called `rate_cleaner()`.\n",
    "\n",
    "🔰 takes a `rate` as an input.\n",
    "\n",
    "🔰 returns `None`. "
   ]
  },
  {
   "cell_type": "code",
   "execution_count": 5,
   "id": "25807093",
   "metadata": {},
   "outputs": [],
   "source": [
    "# Define a function → rate_cleaner()\n",
    "# input → rate, output → None\n",
    "def rate_cleaner(rate):\n",
    "    int_rate = int(rate[0])\n",
    "    print(f\"The numeric part is {int_rate}.\")"
   ]
  },
  {
   "cell_type": "code",
   "execution_count": 6,
   "id": "06efbec6",
   "metadata": {},
   "outputs": [
    {
     "data": {
      "text/plain": [
       "<function __main__.rate_cleaner(rate)>"
      ]
     },
     "execution_count": 6,
     "metadata": {},
     "output_type": "execute_result"
    }
   ],
   "source": [
    "# Call rate_cleaner without ()\n",
    "rate_cleaner"
   ]
  },
  {
   "cell_type": "code",
   "execution_count": 7,
   "id": "d4ec2f87",
   "metadata": {},
   "outputs": [
    {
     "name": "stdout",
     "output_type": "stream",
     "text": [
      "The numeric part is 2.\n"
     ]
    }
   ],
   "source": [
    "# Call rate_cleaner() function\n",
    "rate_cleaner(\"2 stars\")"
   ]
  },
  {
   "cell_type": "markdown",
   "id": "709f04f1",
   "metadata": {},
   "source": [
    "🔸 Save the **output** of `rate_cleaner` function **into a variable**. Then print it.\n",
    "\n",
    "🙄 **Did you see that?** What did you get? "
   ]
  },
  {
   "cell_type": "code",
   "execution_count": 8,
   "id": "ed76d979",
   "metadata": {},
   "outputs": [
    {
     "name": "stdout",
     "output_type": "stream",
     "text": [
      "The numeric part is 5.\n",
      "None\n"
     ]
    }
   ],
   "source": [
    "result = rate_cleaner(\"5 stars\")\n",
    "\n",
    "print(result)"
   ]
  },
  {
   "cell_type": "code",
   "execution_count": 9,
   "id": "033a28f0",
   "metadata": {},
   "outputs": [],
   "source": [
    "# Define a function → rate_cleaner()\n",
    "# input → rate, output → return int_rate\n",
    "def rate_cleaner(rate):\n",
    "    int_rate = int(rate[0])\n",
    "    return int_rate"
   ]
  },
  {
   "cell_type": "code",
   "execution_count": 10,
   "id": "84bba5a6",
   "metadata": {},
   "outputs": [
    {
     "data": {
      "text/plain": [
       "5"
      ]
     },
     "execution_count": 10,
     "metadata": {},
     "output_type": "execute_result"
    }
   ],
   "source": [
    "# Call rate_cleaner() function\n",
    "rate_cleaner(\"5 stars\")"
   ]
  },
  {
   "cell_type": "code",
   "execution_count": 11,
   "id": "fcdeb7ce",
   "metadata": {},
   "outputs": [
    {
     "name": "stdout",
     "output_type": "stream",
     "text": [
      "5\n"
     ]
    }
   ],
   "source": [
    "# Call rate_cleaner() function\n",
    "# Save the output into 'result' variable\n",
    "result = rate_cleaner(\"5 stars\")\n",
    "print(result)"
   ]
  },
  {
   "cell_type": "markdown",
   "id": "25cf20f5",
   "metadata": {},
   "source": [
    "🔸 Use a `for` loop to iterate through the `ratings`\n",
    "\n",
    "🔸 Then use your function `rate_cleaner()` and convert raw rate into integer one.\n",
    "\n",
    "🔸 Save the results into a list called `int_rates`."
   ]
  },
  {
   "cell_type": "code",
   "execution_count": 12,
   "id": "4dc64229",
   "metadata": {},
   "outputs": [
    {
     "name": "stdout",
     "output_type": "stream",
     "text": [
      "Done!\n"
     ]
    }
   ],
   "source": [
    "int_rates = []\n",
    "for rates_list in ratings:\n",
    "    for rate in rates_list:\n",
    "        int_rates.append(rate_cleaner(rate))\n",
    "        \n",
    "print(\"Done!\")"
   ]
  },
  {
   "cell_type": "code",
   "execution_count": 13,
   "id": "d9be325f",
   "metadata": {},
   "outputs": [
    {
     "data": {
      "text/plain": [
       "3.125"
      ]
     },
     "execution_count": 13,
     "metadata": {},
     "output_type": "execute_result"
    }
   ],
   "source": [
    "# Calculate the average of all rates in \"int_rates\"\n",
    "sum(int_rates) / len(int_rates)"
   ]
  },
  {
   "cell_type": "markdown",
   "id": "0cbdac19",
   "metadata": {},
   "source": [
    "🔸 We can define our function in another way!\n",
    "\n",
    "🔸 define a function called `rates_cleaner`.\n",
    "\n",
    "🔸 takes a `rates_list` as an input.\n",
    "\n",
    "🔸 returns a list called `int_rates` as an output."
   ]
  },
  {
   "cell_type": "code",
   "execution_count": 14,
   "id": "983f4f22",
   "metadata": {},
   "outputs": [],
   "source": [
    "def rates_cleaner(rates_list):\n",
    "    int_rates = []\n",
    "    for rate in rates_list:\n",
    "        int_rate = int(rate[0])\n",
    "        int_rates.append(int_rate)\n",
    "    return int_rates"
   ]
  },
  {
   "cell_type": "code",
   "execution_count": 15,
   "id": "ba651703",
   "metadata": {},
   "outputs": [
    {
     "data": {
      "text/plain": [
       "[5, 3]"
      ]
     },
     "execution_count": 15,
     "metadata": {},
     "output_type": "execute_result"
    }
   ],
   "source": [
    "rates_cleaner([\"5 stars\", \"3 stars\"])"
   ]
  },
  {
   "cell_type": "code",
   "execution_count": 16,
   "id": "9eca20cd",
   "metadata": {},
   "outputs": [
    {
     "ename": "ValueError",
     "evalue": "invalid literal for int() with base 10: ' '",
     "output_type": "error",
     "traceback": [
      "\u001b[1;31m---------------------------------------------------------------------------\u001b[0m",
      "\u001b[1;31mValueError\u001b[0m                                Traceback (most recent call last)",
      "Cell \u001b[1;32mIn[16], line 2\u001b[0m\n\u001b[0;32m      1\u001b[0m \u001b[38;5;66;03m# Call rates_cleaner() with \"5 stars\"\u001b[39;00m\n\u001b[1;32m----> 2\u001b[0m \u001b[43mrates_cleaner\u001b[49m\u001b[43m(\u001b[49m\u001b[38;5;124;43m\"\u001b[39;49m\u001b[38;5;124;43m5 stars\u001b[39;49m\u001b[38;5;124;43m\"\u001b[39;49m\u001b[43m)\u001b[49m\n",
      "Cell \u001b[1;32mIn[14], line 4\u001b[0m, in \u001b[0;36mrates_cleaner\u001b[1;34m(rates_list)\u001b[0m\n\u001b[0;32m      2\u001b[0m int_rates \u001b[38;5;241m=\u001b[39m []\n\u001b[0;32m      3\u001b[0m \u001b[38;5;28;01mfor\u001b[39;00m rate \u001b[38;5;129;01min\u001b[39;00m rates_list:\n\u001b[1;32m----> 4\u001b[0m     int_rate \u001b[38;5;241m=\u001b[39m \u001b[38;5;28;43mint\u001b[39;49m\u001b[43m(\u001b[49m\u001b[43mrate\u001b[49m\u001b[43m[\u001b[49m\u001b[38;5;241;43m0\u001b[39;49m\u001b[43m]\u001b[49m\u001b[43m)\u001b[49m\n\u001b[0;32m      5\u001b[0m     int_rates\u001b[38;5;241m.\u001b[39mappend(int_rate)\n\u001b[0;32m      6\u001b[0m \u001b[38;5;28;01mreturn\u001b[39;00m int_rates\n",
      "\u001b[1;31mValueError\u001b[0m: invalid literal for int() with base 10: ' '"
     ]
    }
   ],
   "source": [
    "# Call rates_cleaner() with \"5 stars\"\n",
    "rates_cleaner(\"5 stars\")"
   ]
  },
  {
   "cell_type": "code",
   "execution_count": null,
   "id": "5f75dcb6",
   "metadata": {},
   "outputs": [],
   "source": [
    "# Call rates_cleaner with [\"5 stars\"]\n",
    "rates_cleaner([\"5 stars\", \"2 stars\"])"
   ]
  },
  {
   "cell_type": "markdown",
   "id": "6e0f74aa",
   "metadata": {},
   "source": [
    "<a name=\"1-1\"></a>\n",
    "### • Creating Docstring\n",
    "\n",
    "🔸 We can create **docstring** for our functions in Python.\n",
    "\n",
    "🔸 **docstring** is used to **put text describing its arguments and the actions** the function performs.\n",
    "\n",
    "🔸 To create docstring → Use **triple quotes** inside of your function.\n",
    "\n",
    "```python\n",
    "def function_name(arguments):\n",
    "    \"\"\"\n",
    "    docstring is a describing text\n",
    "    for a function and its argument\n",
    "    \n",
    "    Args:\n",
    "    arguments : what this functions takes in.\n",
    "    \n",
    "    Returns:\n",
    "    value : what this function returns.\n",
    "    \"\"\"\n",
    "    # your code\n",
    "    return output\n",
    "```"
   ]
  },
  {
   "cell_type": "code",
   "execution_count": null,
   "id": "5103ea3d",
   "metadata": {},
   "outputs": [],
   "source": [
    "def rate_cleaner(rate_str):\n",
    "    \"\"\"\n",
    "    takes string rate as an input;\n",
    "    returns the integer numeric portion of it.\n",
    "    \n",
    "    Args: \n",
    "    rate_str(str): string rate as an input\n",
    "    \n",
    "    Returns:\n",
    "    value (int): the numeric portion of rate_str\n",
    "    \"\"\"\n",
    "    numeric_rating = int(rating_str[0])\n",
    "    \n",
    "    return numeric_rating"
   ]
  },
  {
   "cell_type": "code",
   "execution_count": 17,
   "id": "335ec173",
   "metadata": {},
   "outputs": [],
   "source": [
    "rate_cleaner?"
   ]
  },
  {
   "cell_type": "code",
   "execution_count": null,
   "id": "d3d710d3",
   "metadata": {},
   "outputs": [],
   "source": []
  },
  {
   "cell_type": "markdown",
   "id": "4b9b0fc4",
   "metadata": {},
   "source": [
    "---\n",
    "<a name=\"end\"></a>\n",
    "### Congrats! \n",
    "\n",
    "🔥 Let's go to the next session.\n",
    "\n",
    "📝 This Jupyter notebook has been created by [Ahmad Ahmadi](https://www.linkedin.com/in/ahmad-ahmadi95/). Please follow me and [izlearn](https://www.linkedin.com/company/izlearn) on LinkedIn social media.  \n",
    "\n",
    "🌐 Visit your website for more courses [izlearn.ir](https://izlearn.ir)"
   ]
  }
 ],
 "metadata": {
  "kernelspec": {
   "display_name": "Python 3 (ipykernel)",
   "language": "python",
   "name": "python3"
  },
  "language_info": {
   "codemirror_mode": {
    "name": "ipython",
    "version": 3
   },
   "file_extension": ".py",
   "mimetype": "text/x-python",
   "name": "python",
   "nbconvert_exporter": "python",
   "pygments_lexer": "ipython3",
   "version": "3.9.5"
  }
 },
 "nbformat": 4,
 "nbformat_minor": 5
}
