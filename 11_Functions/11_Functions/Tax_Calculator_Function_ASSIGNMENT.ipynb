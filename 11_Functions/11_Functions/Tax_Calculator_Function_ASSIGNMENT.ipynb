{
 "cells": [
  {
   "cell_type": "markdown",
   "id": "4307138a",
   "metadata": {},
   "source": [
    "## Tax Calculator Function\n",
    "\n",
    "🔸 Write a **function** that takes `subtotal` and `tax rate` as inputs then; *returns* the **total** invoice amount.\n",
    "\n",
    "* **Tax** is equal to **subtotal multiplied by the tax rate**.\n",
    "* The **total** is equal to **subtotal plus tax**. "
   ]
  },
  {
   "cell_type": "code",
   "execution_count": 1,
   "id": "c9b29a09",
   "metadata": {},
   "outputs": [],
   "source": [
    "# Write your code here\n",
    "def tax_calculator(subtotal:float, tax_rate:float) -> float:\n",
    "    #subtotal = 79.99\n",
    "    #tax_rate = 0.07\n",
    "    tax_calculator = subtotal * tax_rate\n",
    "    total = round(subtotal + tax_calculator, 2)\n",
    "    return total"
   ]
  },
  {
   "cell_type": "code",
   "execution_count": 2,
   "id": "5641fb2d",
   "metadata": {},
   "outputs": [
    {
     "data": {
      "text/plain": [
       "85.59"
      ]
     },
     "execution_count": 2,
     "metadata": {},
     "output_type": "execute_result"
    }
   ],
   "source": [
    "# Calling the function\n",
    "tax_calculator(79.99, 0.07)"
   ]
  },
  {
   "cell_type": "markdown",
   "id": "70cd2a76",
   "metadata": {},
   "source": [
    "---\n",
    "### Multiple Return Function\n",
    "\n",
    "🔸 Change the function in order **to return total and the amoutn of tax**.\n",
    "\n",
    "> We will learn about **multiple return function**, later on in the course! (Don't worry! 😎)"
   ]
  },
  {
   "cell_type": "code",
   "execution_count": 3,
   "id": "bf0278b1",
   "metadata": {},
   "outputs": [],
   "source": [
    "def tax_calculator(subtotal, tax_rate):\n",
    "    tax = round(subtotal * tax_rate, 2)\n",
    "    total = round(subtotal + tax, 2)\n",
    "    # Write your code here\n",
    "    return total,tax"
   ]
  },
  {
   "cell_type": "code",
   "execution_count": 4,
   "id": "5f2570ac",
   "metadata": {},
   "outputs": [
    {
     "data": {
      "text/plain": [
       "(85.59, 5.6)"
      ]
     },
     "execution_count": 4,
     "metadata": {},
     "output_type": "execute_result"
    }
   ],
   "source": [
    "# Calling the function\n",
    "tax_calculator(79.99, 0.07)"
   ]
  },
  {
   "cell_type": "markdown",
   "id": "0aae2380",
   "metadata": {},
   "source": [
    "---\n",
    "<a name=\"end\"></a>\n",
    "### Congrats! \n",
    "\n",
    "🔥 Let's go to the next session.\n",
    "\n",
    "📝 This Jupyter notebook has been created by [Ahmad Ahmadi](https://www.linkedin.com/in/ahmad-ahmadi95/). Please follow me and [izlearn](https://www.linkedin.com/company/izlearn) on LinkedIn social media.  \n",
    "\n",
    "🌐 Visit your website for more courses [izlearn.ir](https://izlearn.ir)"
   ]
  }
 ],
 "metadata": {
  "kernelspec": {
   "display_name": "Python 3 (ipykernel)",
   "language": "python",
   "name": "python3"
  },
  "language_info": {
   "codemirror_mode": {
    "name": "ipython",
    "version": 3
   },
   "file_extension": ".py",
   "mimetype": "text/x-python",
   "name": "python",
   "nbconvert_exporter": "python",
   "pygments_lexer": "ipython3",
   "version": "3.9.5"
  }
 },
 "nbformat": 4,
 "nbformat_minor": 5
}
