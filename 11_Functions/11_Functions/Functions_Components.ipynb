{
 "cells": [
  {
   "cell_type": "markdown",
   "id": "1f8c9707",
   "metadata": {},
   "source": [
    "## Function's Components\n",
    "\n",
    "🔰 Functions are just **reusable blocks of code** saved somewhere in your `machine's memory`.\n",
    "\n",
    "🔰 They have `input(s)`, `performing some actions on inputs`, `output(s)`. \n",
    "\n",
    "---\n",
    "\n",
    "🔗 **Useful Links**\n",
    "\n",
    "- [About max function key=func part](https://stackoverflow.com/questions/18296755/python-max-function-using-key-and-lambda-expression)\n",
    "- [About max function's argument](https://thepythonguru.com/python-builtin-functions/max/)\n",
    "\n",
    "---"
   ]
  },
  {
   "cell_type": "code",
   "execution_count": 1,
   "id": "26493ac2",
   "metadata": {},
   "outputs": [],
   "source": [
    "# Use \"?\" to pop up the docstring window\n",
    "max?"
   ]
  },
  {
   "cell_type": "code",
   "execution_count": 2,
   "id": "76dbbd37",
   "metadata": {},
   "outputs": [
    {
     "name": "stdout",
     "output_type": "stream",
     "text": [
      "Help on built-in function max in module builtins:\n",
      "\n",
      "max(...)\n",
      "    max(iterable, *[, default=obj, key=func]) -> value\n",
      "    max(arg1, arg2, *args, *[, key=func]) -> value\n",
      "    \n",
      "    With a single iterable argument, return its biggest item. The\n",
      "    default keyword-only argument specifies an object to return if\n",
      "    the provided iterable is empty.\n",
      "    With two or more arguments, return the largest argument.\n",
      "\n"
     ]
    }
   ],
   "source": [
    "# Use help() function to get the docstring of a function\n",
    "help(max)"
   ]
  },
  {
   "cell_type": "code",
   "execution_count": 3,
   "id": "3e2d609a",
   "metadata": {},
   "outputs": [
    {
     "name": "stdout",
     "output_type": "stream",
     "text": [
      "Object `append` not found.\n"
     ]
    }
   ],
   "source": [
    "# Use \"?\" in front of \"append\" method!\n",
    "append?"
   ]
  },
  {
   "cell_type": "code",
   "execution_count": 4,
   "id": "20fc879a",
   "metadata": {},
   "outputs": [],
   "source": [
    "# The solution:\n",
    "list.append?"
   ]
  },
  {
   "cell_type": "code",
   "execution_count": 5,
   "id": "7b80a5ca",
   "metadata": {},
   "outputs": [
    {
     "data": {
      "text/plain": [
       "99"
      ]
     },
     "execution_count": 5,
     "metadata": {},
     "output_type": "execute_result"
    }
   ],
   "source": [
    "prices_list = [5, 10, 99]\n",
    "\n",
    "max(prices_list)"
   ]
  },
  {
   "cell_type": "code",
   "execution_count": 6,
   "id": "aa68f362",
   "metadata": {},
   "outputs": [
    {
     "data": {
      "text/plain": [
       "99"
      ]
     },
     "execution_count": 6,
     "metadata": {},
     "output_type": "execute_result"
    }
   ],
   "source": [
    "# Use max() with 5, 10, 99 as separate arguments\n",
    "max(5, 10, 99)"
   ]
  },
  {
   "cell_type": "code",
   "execution_count": 7,
   "id": "66c6be66",
   "metadata": {},
   "outputs": [
    {
     "data": {
      "text/plain": [
       "'hi'"
      ]
     },
     "execution_count": 7,
     "metadata": {},
     "output_type": "execute_result"
    }
   ],
   "source": [
    "# Use max() with \"hi\", \"hello\" and \"goodbye\"\n",
    "max(\"hi\", \"hello\", \"goodbye\")"
   ]
  },
  {
   "cell_type": "markdown",
   "id": "d3b2b530",
   "metadata": {},
   "source": [
    "🔸 Why is<span style=\"font-family:consolas;font-size:2rem;color:darkred;font-weight:bold;\">\"hi\"</span> the **maximum value** between the two others? \n",
    "\n",
    "🔸 **The answer:** because Python compares the [unicode](https://www.geeksforgeeks.org/working-with-unicode-in-python/) value of each character and return the biggest one!\n",
    "\n",
    "🔸 **Each character** in programming has **its own numeric representation** that is called *unicode* value. (Read [this article](https://www.geeksforgeeks.org/working-with-unicode-in-python/) for more information)\n",
    "\n",
    "🔸 There are **two** useful functions in Python to convert between **unicode** and **ordinal number**.\n",
    "\n",
    "💡 [ord( )](https://www.w3schools.com/python/ref_func_ord.asp) function\n",
    "\n",
    "💡 [chr( )](https://www.w3schools.com/python/ref_func_chr.asp) function"
   ]
  },
  {
   "cell_type": "code",
   "execution_count": 8,
   "id": "5bcd6308",
   "metadata": {},
   "outputs": [
    {
     "data": {
      "text/plain": [
       "(104, 103)"
      ]
     },
     "execution_count": 8,
     "metadata": {},
     "output_type": "execute_result"
    }
   ],
   "source": [
    "# Compare \"h\" and \"g\" unicode value of \"hi\", \"hello\", \"goodbye\"\n",
    "ord(\"h\"), ord(\"g\")"
   ]
  },
  {
   "cell_type": "code",
   "execution_count": 9,
   "id": "2e864cf8",
   "metadata": {},
   "outputs": [
    {
     "data": {
      "text/plain": [
       "(105, 101)"
      ]
     },
     "execution_count": 9,
     "metadata": {},
     "output_type": "execute_result"
    }
   ],
   "source": [
    "# Compare \"i\" and \"e\" unicode value of \"hi\" and \"hello\"\n",
    "ord(\"i\"), ord(\"e\")"
   ]
  },
  {
   "cell_type": "code",
   "execution_count": 11,
   "id": "19e0219e",
   "metadata": {},
   "outputs": [
    {
     "name": "stdout",
     "output_type": "stream",
     "text": [
      "The unicode of h -> 104\n",
      "The unicode of i -> 105\n",
      "The unicode of h -> 104\n",
      "The unicode of e -> 101\n",
      "The unicode of l -> 108\n",
      "The unicode of l -> 108\n",
      "The unicode of o -> 111\n",
      "The unicode of g -> 103\n",
      "The unicode of o -> 111\n",
      "The unicode of o -> 111\n",
      "The unicode of d -> 100\n",
      "The unicode of b -> 98\n",
      "The unicode of y -> 121\n",
      "The unicode of e -> 101\n"
     ]
    }
   ],
   "source": [
    "# Iterate through the list and show their unicode values\n",
    "words = [\"hi\", \"hello\", \"goodbye\"]\n",
    "for word in words:\n",
    "    for char in word:\n",
    "        print(f\"The unicode of {char} -> {ord(char)}\")"
   ]
  },
  {
   "cell_type": "code",
   "execution_count": 13,
   "id": "79517bd1",
   "metadata": {},
   "outputs": [
    {
     "data": {
      "text/plain": [
       "'e'"
      ]
     },
     "execution_count": 13,
     "metadata": {},
     "output_type": "execute_result"
    }
   ],
   "source": [
    "# Use chr() function and a unicode value to get corresponding string value\n",
    "chr(101)"
   ]
  },
  {
   "cell_type": "markdown",
   "id": "d628bfc4",
   "metadata": {},
   "source": [
    "🔸 But I want **to find the string that has the most characters!**"
   ]
  },
  {
   "cell_type": "code",
   "execution_count": 14,
   "id": "8c60885e",
   "metadata": {},
   "outputs": [],
   "source": [
    "def last_char(text):\n",
    "    \"\"\"\n",
    "    returns the last character\n",
    "    of your string\\text.\n",
    "    \"\"\"\n",
    "    return text[-1]"
   ]
  },
  {
   "cell_type": "code",
   "execution_count": 15,
   "id": "60d11180",
   "metadata": {},
   "outputs": [
    {
     "data": {
      "text/plain": [
       "'goodbye'"
      ]
     },
     "execution_count": 15,
     "metadata": {},
     "output_type": "execute_result"
    }
   ],
   "source": [
    "# Use len() function as key\n",
    "max(\"hi\", \"hello\", \"goodbye\", key=len)"
   ]
  },
  {
   "cell_type": "code",
   "execution_count": 16,
   "id": "76ec2701",
   "metadata": {},
   "outputs": [
    {
     "data": {
      "text/plain": [
       "'hello'"
      ]
     },
     "execution_count": 16,
     "metadata": {},
     "output_type": "execute_result"
    }
   ],
   "source": [
    "# Use your own function as key\n",
    "max(\"hi\", \"hello\", \"goodbye\", key=last_char)"
   ]
  },
  {
   "cell_type": "code",
   "execution_count": 17,
   "id": "c1bebb8e",
   "metadata": {},
   "outputs": [
    {
     "data": {
      "text/plain": [
       "'o'"
      ]
     },
     "execution_count": 17,
     "metadata": {},
     "output_type": "execute_result"
    }
   ],
   "source": [
    "max(\"i\", \"o\", \"e\")"
   ]
  },
  {
   "cell_type": "code",
   "execution_count": 18,
   "id": "e9bdff48",
   "metadata": {},
   "outputs": [
    {
     "data": {
      "text/plain": [
       "(105, 111, 101)"
      ]
     },
     "execution_count": 18,
     "metadata": {},
     "output_type": "execute_result"
    }
   ],
   "source": [
    "ord(\"i\"), ord(\"o\"), ord(\"e\")"
   ]
  },
  {
   "cell_type": "markdown",
   "id": "480e2cc9",
   "metadata": {},
   "source": [
    "---\n",
    "<a name=\"end\"></a>\n",
    "### Congrats! \n",
    "\n",
    "🔥 Let's go to the next session.\n",
    "\n",
    "📝 This Jupyter notebook has been created by [Ahmad Ahmadi](https://www.linkedin.com/in/ahmad-ahmadi95/).Please follow me and [izlearn](https://www.linkedin.com/company/izlearn) on the LinkedIn social media.  \n",
    "\n",
    "🌐 Visit your website for more courses [izlearn.ir](https://izlearn.ir)\n"
   ]
  }
 ],
 "metadata": {
  "kernelspec": {
   "display_name": "Python 3 (ipykernel)",
   "language": "python",
   "name": "python3"
  },
  "language_info": {
   "codemirror_mode": {
    "name": "ipython",
    "version": 3
   },
   "file_extension": ".py",
   "mimetype": "text/x-python",
   "name": "python",
   "nbconvert_exporter": "python",
   "pygments_lexer": "ipython3",
   "version": "3.9.5"
  }
 },
 "nbformat": 4,
 "nbformat_minor": 5
}
