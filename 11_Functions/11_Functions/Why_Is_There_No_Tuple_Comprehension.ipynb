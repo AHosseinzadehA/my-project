{
 "cells": [
  {
   "cell_type": "markdown",
   "id": "6dc635f5",
   "metadata": {},
   "source": [
    "#### • Table of the content\n",
    "\n",
    "1. [Why Is There No Tuple Comprehension](#1)\n",
    "2. [What is a generator](#1-1)\n",
    "3. [Python generator expression](#1-2)\n",
    "\n",
    "4. [More Info (Follow Me on LinkedIn)](#end)\n",
    "\n",
    "---"
   ]
  },
  {
   "cell_type": "markdown",
   "id": "436b62e9",
   "metadata": {},
   "source": [
    "<a name=\"1\"></a>\n",
    "\n",
    "## Why Is There No Tuple Comprehension\n",
    "\n",
    "🔸 Let's search, **tuple comprehension python**. [see the result](https://www.google.com/search?q=tuple+comprehension+python)\n",
    "\n",
    "🔸 In the result page, let's follow the **Stack Overflow** link. [follow the link](https://stackoverflow.com/questions/16940293/why-is-there-no-tuple-comprehension-in-python)\n",
    "\n",
    "🔸 As you see there is no something called **tuple comprehension**, instead we have **generator expression**."
   ]
  },
  {
   "cell_type": "code",
   "execution_count": 1,
   "id": "32086574",
   "metadata": {},
   "outputs": [],
   "source": [
    "my_list = [5, 3, 8, 12, 42, 21, 23]"
   ]
  },
  {
   "cell_type": "markdown",
   "id": "d0f3f9b9",
   "metadata": {},
   "source": [
    "#### 🔹 with if"
   ]
  },
  {
   "cell_type": "code",
   "execution_count": 2,
   "id": "292bfbc1",
   "metadata": {},
   "outputs": [
    {
     "data": {
      "text/plain": [
       "<generator object <genexpr> at 0x00000154F24D17B0>"
      ]
     },
     "execution_count": 2,
     "metadata": {},
     "output_type": "execute_result"
    }
   ],
   "source": [
    "(number for number in my_list if number < 20)"
   ]
  },
  {
   "cell_type": "code",
   "execution_count": 3,
   "id": "63f8e675",
   "metadata": {},
   "outputs": [
    {
     "data": {
      "text/plain": [
       "(5, 3, 8, 12)"
      ]
     },
     "execution_count": 3,
     "metadata": {},
     "output_type": "execute_result"
    }
   ],
   "source": [
    "# Turn the 'generator' object into a 'tuple' using type conversion\n",
    "tuple((number for number in my_list if number < 20))"
   ]
  },
  {
   "cell_type": "markdown",
   "id": "12764552",
   "metadata": {},
   "source": [
    "---\n",
    "<a name=\"1-1\"></a>\n",
    "### 🔹 What is a generator? \n",
    "\n",
    "🔸 A generator is a *function* that **returns an iterator**. \n",
    "\n",
    "🔸 **iterator** is an object that contains a countable number of values. [source](https://www.w3schools.com/python/python_iterators.asp)\n",
    "\n",
    "😤 So what is the **difference** between an **iterable** and **iterator** in Python? \n",
    "\n",
    "🔸 Now you're a Python developer. You should be able to search and find the answer! [follow the links](https://www.google.com/search?q=difference+between+iterable+and+iterator+in+python)\n",
    "\n",
    "\n",
    "<img alt=\"If the images doesn't show up to you, just add the clip into your Images folder.\" src=\"../../PDFs/Images/generator-vs-function-clip-01.gif\" width=\"450\">"
   ]
  },
  {
   "cell_type": "markdown",
   "id": "30fa5ea3",
   "metadata": {},
   "source": [
    "### 🔹 Create A Simple Generator\n",
    "\n",
    "🔸 Generator is a function that **yield**s a value."
   ]
  },
  {
   "cell_type": "code",
   "execution_count": 4,
   "id": "2d1463f1",
   "metadata": {},
   "outputs": [],
   "source": [
    "def my_generator():\n",
    "    yield 1\n",
    "    yield 2\n",
    "    yield 3"
   ]
  },
  {
   "cell_type": "code",
   "execution_count": 5,
   "id": "c0be3fc6",
   "metadata": {},
   "outputs": [
    {
     "data": {
      "text/plain": [
       "<generator object my_generator at 0x00000154F3403120>"
      ]
     },
     "execution_count": 5,
     "metadata": {},
     "output_type": "execute_result"
    }
   ],
   "source": [
    "# Call 'my_generator' to see generator 'object'\n",
    "my_generator()"
   ]
  },
  {
   "cell_type": "code",
   "execution_count": 6,
   "id": "ca1828e2",
   "metadata": {},
   "outputs": [],
   "source": [
    "generator_object = my_generator()"
   ]
  },
  {
   "cell_type": "code",
   "execution_count": 7,
   "id": "4db97063",
   "metadata": {},
   "outputs": [
    {
     "data": {
      "text/plain": [
       "1"
      ]
     },
     "execution_count": 7,
     "metadata": {},
     "output_type": "execute_result"
    }
   ],
   "source": [
    "# Use 'next' keyword to access the next value\n",
    "next(generator_object)"
   ]
  },
  {
   "cell_type": "code",
   "execution_count": 8,
   "id": "33612a42",
   "metadata": {},
   "outputs": [
    {
     "data": {
      "text/plain": [
       "2"
      ]
     },
     "execution_count": 8,
     "metadata": {},
     "output_type": "execute_result"
    }
   ],
   "source": [
    "# Use 'next' keyword again!\n",
    "next(generator_object)"
   ]
  },
  {
   "cell_type": "markdown",
   "id": "841635c3",
   "metadata": {},
   "source": [
    "<a name=\"1-2\"></a>\n",
    "### 🔹 Python generator expression\n",
    "\n",
    "🔸 This expression is called generator expression: `(item for item in iterable)`"
   ]
  },
  {
   "cell_type": "code",
   "execution_count": 9,
   "id": "d7d5176c",
   "metadata": {},
   "outputs": [],
   "source": [
    "squared_generator = (i*i for i in range(1, 4))"
   ]
  },
  {
   "cell_type": "code",
   "execution_count": 10,
   "id": "13e3c4c6",
   "metadata": {},
   "outputs": [
    {
     "data": {
      "text/plain": [
       "generator"
      ]
     },
     "execution_count": 10,
     "metadata": {},
     "output_type": "execute_result"
    }
   ],
   "source": [
    "# type of 'squared_generator'?\n",
    "type(squared_generator)"
   ]
  },
  {
   "cell_type": "code",
   "execution_count": 11,
   "id": "1f1e185b",
   "metadata": {},
   "outputs": [
    {
     "name": "stdout",
     "output_type": "stream",
     "text": [
      "1\n",
      "4\n",
      "9\n"
     ]
    }
   ],
   "source": [
    "# We can loop over items in a 'generator'\n",
    "for number in squared_generator:\n",
    "    print(number)"
   ]
  },
  {
   "cell_type": "markdown",
   "id": "224fdcca",
   "metadata": {},
   "source": [
    "---\n",
    "<a name=\"end\"></a>\n",
    "### Congrats! \n",
    "\n",
    "🔥 Let's go to the next session.\n",
    "\n",
    "📝 This Jupyter notebook has been created by [Ahmad Ahmadi](https://www.linkedin.com/in/ahmad-ahmadi95/). Please follow me and [izlearn](https://www.linkedin.com/company/izlearn) on LinkedIn social media.  \n",
    "\n",
    "🌐 Visit your website for more courses [izlearn.ir](https://izlearn.ir)"
   ]
  }
 ],
 "metadata": {
  "kernelspec": {
   "display_name": "Python 3 (ipykernel)",
   "language": "python",
   "name": "python3"
  },
  "language_info": {
   "codemirror_mode": {
    "name": "ipython",
    "version": 3
   },
   "file_extension": ".py",
   "mimetype": "text/x-python",
   "name": "python",
   "nbconvert_exporter": "python",
   "pygments_lexer": "ipython3",
   "version": "3.9.5"
  }
 },
 "nbformat": 4,
 "nbformat_minor": 5
}
