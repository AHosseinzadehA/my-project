{
 "cells": [
  {
   "cell_type": "markdown",
   "id": "c23633ac",
   "metadata": {},
   "source": [
    "### Calling Lambda Function `without` Parenthesis"
   ]
  },
  {
   "cell_type": "code",
   "execution_count": 4,
   "id": "75a5802e",
   "metadata": {},
   "outputs": [
    {
     "name": "stderr",
     "output_type": "stream",
     "text": [
      "<>:1: SyntaxWarning: 'int' object is not callable; perhaps you missed a comma?\n",
      "<>:1: SyntaxWarning: 'int' object is not callable; perhaps you missed a comma?\n",
      "C:\\Users\\PEGASUS\\AppData\\Local\\Temp\\ipykernel_11180\\3931408715.py:1: SyntaxWarning: 'int' object is not callable; perhaps you missed a comma?\n",
      "  lambda x:x**2(3)\n"
     ]
    },
    {
     "data": {
      "text/plain": [
       "<function __main__.<lambda>(x)>"
      ]
     },
     "execution_count": 4,
     "metadata": {},
     "output_type": "execute_result"
    }
   ],
   "source": [
    "lambda x:x**2(3)"
   ]
  },
  {
   "cell_type": "markdown",
   "id": "646ea0db",
   "metadata": {},
   "source": [
    "### Calling Lambda Function `with` Parenthesis"
   ]
  },
  {
   "cell_type": "code",
   "execution_count": 5,
   "id": "6fd32b22",
   "metadata": {},
   "outputs": [
    {
     "data": {
      "text/plain": [
       "9"
      ]
     },
     "execution_count": 5,
     "metadata": {},
     "output_type": "execute_result"
    }
   ],
   "source": [
    "(lambda x:x**2)(3)"
   ]
  }
 ],
 "metadata": {
  "kernelspec": {
   "display_name": "Python 3 (ipykernel)",
   "language": "python",
   "name": "python3"
  },
  "language_info": {
   "codemirror_mode": {
    "name": "ipython",
    "version": 3
   },
   "file_extension": ".py",
   "mimetype": "text/x-python",
   "name": "python",
   "nbconvert_exporter": "python",
   "pygments_lexer": "ipython3",
   "version": "3.9.5"
  }
 },
 "nbformat": 4,
 "nbformat_minor": 5
}
