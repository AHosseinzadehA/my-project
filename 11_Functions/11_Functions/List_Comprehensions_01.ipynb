{
 "cells": [
  {
   "cell_type": "markdown",
   "id": "6dc635f5",
   "metadata": {},
   "source": [
    "#### • Table of the content\n",
    "\n",
    "1. [List Comprehension](#1)\n",
    "\n",
    "2. [More Info (Follow Me on LinkedIn)](#end)\n",
    "\n",
    "---"
   ]
  },
  {
   "cell_type": "markdown",
   "id": "436b62e9",
   "metadata": {},
   "source": [
    "<a name=\"1\"></a>\n",
    "\n",
    "## List Comprehension\n",
    "\n",
    "🔸 **List comprehension** generates a <u>sequence</u> from <u>other sequence</u>\n",
    "\n",
    "🔸 All right! Let's take a closer look at [list comprehension](https://www.google.com/search?q=list+comprehension+python) 👀\n",
    "\n",
    "🔹 **syntax**\n",
    "\n",
    "**1. without if-else**\n",
    "\n",
    "```python\n",
    "new_list = [do_this for item in iterable]\n",
    "```\n",
    "\n",
    "**2. with if**\n",
    "\n",
    "```python\n",
    "new_list = [do_this for item in iterable if condition_is_true]\n",
    "```\n",
    "\n",
    "**3. with if-else**\n",
    "\n",
    "```python\n",
    "new_list = [do_1 if condition_is_ture else do_2 for item in iterable]\n",
    "```"
   ]
  },
  {
   "cell_type": "code",
   "execution_count": 1,
   "id": "32086574",
   "metadata": {},
   "outputs": [],
   "source": [
    "import numpy as np\n",
    "import pandas as  pd"
   ]
  },
  {
   "cell_type": "code",
   "execution_count": 2,
   "id": "10fdb970",
   "metadata": {},
   "outputs": [],
   "source": [
    "ratings = ['5 stars',\n",
    "           '1 star',\n",
    "           '2 stars',\n",
    "           '4 stars',\n",
    "           '3 stars',\n",
    "           '1 star']"
   ]
  },
  {
   "cell_type": "code",
   "execution_count": 6,
   "id": "089e36ae",
   "metadata": {},
   "outputs": [],
   "source": [
    "# Create a list of numeric rate using 'list comprehension'\n",
    "numeric_rates = [int(rate[0]) for rate in ratings]"
   ]
  },
  {
   "cell_type": "code",
   "execution_count": 7,
   "id": "8bd85868",
   "metadata": {},
   "outputs": [
    {
     "data": {
      "text/plain": [
       "[5, 1, 2, 4, 3, 1]"
      ]
     },
     "execution_count": 7,
     "metadata": {},
     "output_type": "execute_result"
    }
   ],
   "source": [
    "numeric_rates"
   ]
  },
  {
   "cell_type": "code",
   "execution_count": 9,
   "id": "bdf057f9",
   "metadata": {},
   "outputs": [
    {
     "data": {
      "text/plain": [
       "np.float64(2.67)"
      ]
     },
     "execution_count": 9,
     "metadata": {},
     "output_type": "execute_result"
    }
   ],
   "source": [
    "# Calculate the mean using np.mean()\n",
    "round(np.mean(numeric_rates), 2)"
   ]
  },
  {
   "cell_type": "markdown",
   "id": "b9082bd8",
   "metadata": {},
   "source": [
    "🔸 But what if I only wanted to return a **list of reviews that are equal or less than 2 stars**?"
   ]
  },
  {
   "cell_type": "code",
   "execution_count": 11,
   "id": "c54c8e0e",
   "metadata": {},
   "outputs": [],
   "source": [
    "ratings_less2 = [rate for rate in numeric_rates if rate <= 2]"
   ]
  },
  {
   "cell_type": "code",
   "execution_count": 12,
   "id": "ea20aec9",
   "metadata": {},
   "outputs": [
    {
     "data": {
      "text/plain": [
       "[1, 2, 1]"
      ]
     },
     "execution_count": 12,
     "metadata": {},
     "output_type": "execute_result"
    }
   ],
   "source": [
    "ratings_less2"
   ]
  },
  {
   "cell_type": "markdown",
   "id": "b2e2c8e6",
   "metadata": {},
   "source": [
    "🔸 Finally I need to **replace reviews equal or less than 2** with the word ***deleted*** and keep the remaining  as they are!"
   ]
  },
  {
   "cell_type": "code",
   "execution_count": 14,
   "id": "c0a55d26",
   "metadata": {},
   "outputs": [],
   "source": [
    "ratings_less2 = [\"deleted\" if rate <= 2 else rate for rate in numeric_rates]"
   ]
  },
  {
   "cell_type": "code",
   "execution_count": 15,
   "id": "a2a44597",
   "metadata": {},
   "outputs": [
    {
     "data": {
      "text/plain": [
       "[5, 'deleted', 'deleted', 4, 3, 'deleted']"
      ]
     },
     "execution_count": 15,
     "metadata": {},
     "output_type": "execute_result"
    }
   ],
   "source": [
    "ratings_less2"
   ]
  },
  {
   "cell_type": "markdown",
   "id": "a2c95a49",
   "metadata": {},
   "source": [
    "🔸 Use `zip()` function to stich together `numeric_rating` and `rating_less2` \n",
    "\n",
    "🔸 What **programming paradigm** are we using? "
   ]
  },
  {
   "cell_type": "code",
   "execution_count": 17,
   "id": "51fb671b",
   "metadata": {},
   "outputs": [],
   "source": [
    "rates_info = list(zip(numeric_rates, ratings_less2))"
   ]
  },
  {
   "cell_type": "code",
   "execution_count": 18,
   "id": "03da2d74",
   "metadata": {},
   "outputs": [
    {
     "data": {
      "text/plain": [
       "[(5, 5), (1, 'deleted'), (2, 'deleted'), (4, 4), (3, 3), (1, 'deleted')]"
      ]
     },
     "execution_count": 18,
     "metadata": {},
     "output_type": "execute_result"
    }
   ],
   "source": [
    "rates_info"
   ]
  },
  {
   "cell_type": "markdown",
   "id": "ba1bf912",
   "metadata": {},
   "source": [
    "👀 Create a **DataFrame** using **Pandas** library and use `rates_info`"
   ]
  },
  {
   "cell_type": "code",
   "execution_count": 21,
   "id": "04e9ae3e",
   "metadata": {},
   "outputs": [
    {
     "data": {
      "text/plain": [
       "0    5\n",
       "1    1\n",
       "2    2\n",
       "3    4\n",
       "4    3\n",
       "5    1\n",
       "Name: rate, dtype: int64"
      ]
     },
     "execution_count": 21,
     "metadata": {},
     "output_type": "execute_result"
    }
   ],
   "source": [
    "pd.DataFrame(data=rates_info,\n",
    "             columns=[\"rate\", \"label\"])"
   ]
  },
  {
   "cell_type": "markdown",
   "id": "224fdcca",
   "metadata": {},
   "source": [
    "---\n",
    "<a name=\"end\"></a>\n",
    "### Congrats! \n",
    "\n",
    "🔥 Let's go to the next session.\n",
    "\n",
    "📝 This Jupyter notebook has been created by [Ahmad Ahmadi](https://www.linkedin.com/in/ahmad-ahmadi95/). Please follow me and [izlearn](https://www.linkedin.com/company/izlearn) on LinkedIn social media.  \n",
    "\n",
    "🌐 Visit your website for more courses [izlearn.ir](https://izlearn.ir)"
   ]
  }
 ],
 "metadata": {
  "kernelspec": {
   "display_name": "Python 3 (ipykernel)",
   "language": "python",
   "name": "python3"
  },
  "language_info": {
   "codemirror_mode": {
    "name": "ipython",
    "version": 3
   },
   "file_extension": ".py",
   "mimetype": "text/x-python",
   "name": "python",
   "nbconvert_exporter": "python",
   "pygments_lexer": "ipython3",
   "version": "3.9.5"
  }
 },
 "nbformat": 4,
 "nbformat_minor": 5
}
