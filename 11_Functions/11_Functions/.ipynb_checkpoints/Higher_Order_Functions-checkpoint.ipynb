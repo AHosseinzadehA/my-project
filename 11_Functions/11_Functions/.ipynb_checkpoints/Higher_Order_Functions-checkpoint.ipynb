{
 "cells": [
  {
   "cell_type": "markdown",
   "id": "ade8aec2",
   "metadata": {},
   "source": [
    "## Higher Order Functions\n",
    "\n",
    "🔸 A function is **higher order** function when: \n",
    "\n",
    "- Takes **one or more functions** as **arguments**\n",
    "\n",
    "- **Returns a function** as an output"
   ]
  },
  {
   "cell_type": "markdown",
   "id": "eff89211",
   "metadata": {},
   "source": [
    "**🔰 Functions are instance of OBJECT** "
   ]
  },
  {
   "cell_type": "code",
   "execution_count": 1,
   "id": "fb689330",
   "metadata": {},
   "outputs": [],
   "source": [
    "def say_hello(person):\n",
    "    return f\"Hello {person}!\""
   ]
  },
  {
   "cell_type": "code",
   "execution_count": 2,
   "id": "2de6c9f4",
   "metadata": {},
   "outputs": [],
   "source": [
    "def say_goodbye(person):\n",
    "    return f\"Goodbye {person}!\""
   ]
  },
  {
   "cell_type": "code",
   "execution_count": 3,
   "id": "23d5264c",
   "metadata": {},
   "outputs": [
    {
     "data": {
      "text/plain": [
       "<function __main__.say_hello(person)>"
      ]
     },
     "execution_count": 3,
     "metadata": {},
     "output_type": "execute_result"
    }
   ],
   "source": [
    "say_hello"
   ]
  },
  {
   "cell_type": "code",
   "execution_count": 4,
   "id": "7943d95c",
   "metadata": {},
   "outputs": [
    {
     "name": "stdout",
     "output_type": "stream",
     "text": [
      "<function say_hello at 0x000001CC7AA8BEE0>\n"
     ]
    }
   ],
   "source": [
    "print(say_hello)"
   ]
  },
  {
   "cell_type": "code",
   "execution_count": 5,
   "id": "4291852f",
   "metadata": {},
   "outputs": [
    {
     "data": {
      "text/plain": [
       "<function __main__.say_goodbye(person)>"
      ]
     },
     "execution_count": 5,
     "metadata": {},
     "output_type": "execute_result"
    }
   ],
   "source": [
    "say_goodbye"
   ]
  },
  {
   "cell_type": "code",
   "execution_count": 6,
   "id": "2a3878c4",
   "metadata": {},
   "outputs": [
    {
     "name": "stdout",
     "output_type": "stream",
     "text": [
      "<function say_goodbye at 0x000001CC7AABD3A0>\n"
     ]
    }
   ],
   "source": [
    "print(say_goodbye)"
   ]
  },
  {
   "cell_type": "markdown",
   "id": "ace3a0e7",
   "metadata": {},
   "source": [
    "🔸 `hi_bye()` is a **higher order function** (why?)"
   ]
  },
  {
   "cell_type": "code",
   "execution_count": 7,
   "id": "f19987e5",
   "metadata": {},
   "outputs": [],
   "source": [
    "def hi_bye(mode=\"hi\"):\n",
    "    if mode.lower()==\"hi\":\n",
    "        return say_hello\n",
    "    \n",
    "    elif mode.lower()==\"goodbye\":\n",
    "        return say_goodbye\n",
    "    \n",
    "    else:\n",
    "        raise Exception(\"invalid mode!\")"
   ]
  },
  {
   "cell_type": "code",
   "execution_count": 10,
   "id": "df7c66b2",
   "metadata": {},
   "outputs": [
    {
     "data": {
      "text/plain": [
       "'Goodbye Ahmad!'"
      ]
     },
     "execution_count": 10,
     "metadata": {},
     "output_type": "execute_result"
    }
   ],
   "source": [
    "# Call 'hi_bye()' -> mode='goodbye'\n",
    "hi_bye(mode=\"goodbye\")(person='Ahmad')"
   ]
  },
  {
   "cell_type": "code",
   "execution_count": 11,
   "id": "723a201b",
   "metadata": {},
   "outputs": [
    {
     "ename": "Exception",
     "evalue": "invalid mode!",
     "output_type": "error",
     "traceback": [
      "\u001b[1;31m---------------------------------------------------------------------------\u001b[0m",
      "\u001b[1;31mException\u001b[0m                                 Traceback (most recent call last)",
      "Cell \u001b[1;32mIn[11], line 2\u001b[0m\n\u001b[0;32m      1\u001b[0m \u001b[38;5;66;03m# Call 'hi_bye()' -> mode='greeting'\u001b[39;00m\n\u001b[1;32m----> 2\u001b[0m \u001b[43mhi_bye\u001b[49m\u001b[43m(\u001b[49m\u001b[43mmode\u001b[49m\u001b[38;5;241;43m=\u001b[39;49m\u001b[38;5;124;43m\"\u001b[39;49m\u001b[38;5;124;43mgreeting\u001b[39;49m\u001b[38;5;124;43m\"\u001b[39;49m\u001b[43m)\u001b[49m(person\u001b[38;5;241m=\u001b[39m\u001b[38;5;124m\"\u001b[39m\u001b[38;5;124mAhmad\u001b[39m\u001b[38;5;124m\"\u001b[39m)\n",
      "Cell \u001b[1;32mIn[7], line 9\u001b[0m, in \u001b[0;36mhi_bye\u001b[1;34m(mode)\u001b[0m\n\u001b[0;32m      6\u001b[0m     \u001b[38;5;28;01mreturn\u001b[39;00m say_goodbye\n\u001b[0;32m      8\u001b[0m \u001b[38;5;28;01melse\u001b[39;00m:\n\u001b[1;32m----> 9\u001b[0m     \u001b[38;5;28;01mraise\u001b[39;00m \u001b[38;5;167;01mException\u001b[39;00m(\u001b[38;5;124m\"\u001b[39m\u001b[38;5;124minvalid mode!\u001b[39m\u001b[38;5;124m\"\u001b[39m)\n",
      "\u001b[1;31mException\u001b[0m: invalid mode!"
     ]
    }
   ],
   "source": [
    "# Call 'hi_bye()' -> mode='greeting'\n",
    "hi_bye(mode=\"greeting\")(person=\"Ahmad\")"
   ]
  }
 ],
 "metadata": {
  "kernelspec": {
   "display_name": "Python 3 (ipykernel)",
   "language": "python",
   "name": "python3"
  },
  "language_info": {
   "codemirror_mode": {
    "name": "ipython",
    "version": 3
   },
   "file_extension": ".py",
   "mimetype": "text/x-python",
   "name": "python",
   "nbconvert_exporter": "python",
   "pygments_lexer": "ipython3",
   "version": "3.9.5"
  }
 },
 "nbformat": 4,
 "nbformat_minor": 5
}
