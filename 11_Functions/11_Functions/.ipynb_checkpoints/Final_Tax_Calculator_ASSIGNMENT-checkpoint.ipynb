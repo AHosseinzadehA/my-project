{
 "cells": [
  {
   "cell_type": "markdown",
   "id": "ed91eee0",
   "metadata": {},
   "source": [
    "## Transaction Dictionary Creator\n",
    "\n",
    "🙋🏽‍♂️ **Hi there!**\n",
    "\n",
    "🔸 we need to make some final update to our tax calculation process.\n",
    "\n",
    "🔸 We need a **function** takes a list of `customer_ids`, a list of `subtotals`, and a tax rate, that calls the `tax_calculator` on the subtotals in the list, then **returns** a **dictionary** with **customer ids** as **keys**, and the lists returned from `tax_calculator` functions as the **values**. Apply an **12.5%** tax rate for the the transactions here, but make your function flexible to take any user specified tax rate. \n",
    "\n",
    "💡 **A dictionary comprehension would be very helpful here**.\n",
    "\n",
    "👀 Your **function** will need the following arguments:\n",
    "\n",
    "* `customer_ids` - a list of strings\n",
    "* `subtotals` - a list of numbers\n",
    "* `tax_rate` - the tax rate which will be passed to tax_calculator function\n",
    "\n",
    "👀 The **output** will be a **dictionary** with: \n",
    "\n",
    "* `customer ids` as keys\n",
    "* `[subtotal, tax, total]` as values"
   ]
  },
  {
   "cell_type": "code",
   "execution_count": 1,
   "id": "ebeb1374",
   "metadata": {},
   "outputs": [],
   "source": [
    "#Write your function here\n",
    "from tax_calculator import tax_calculator"
   ]
  },
  {
   "cell_type": "code",
   "execution_count": 2,
   "id": "16fb9695",
   "metadata": {},
   "outputs": [
    {
     "data": {
      "text/plain": [
       "[[39.99, 5.0, 44.99],\n",
       " [112.46, 14.06, 126.52],\n",
       " [224.42, 28.05, 252.47],\n",
       " [23.23, 2.9, 26.13],\n",
       " [5.99, 0.75, 6.74]]"
      ]
     },
     "execution_count": 2,
     "metadata": {},
     "output_type": "execute_result"
    }
   ],
   "source": [
    "customer_ids = ['c00004', 'c00007', 'c00015', 'c00016', 'c00010']\n",
    "subtotals = [39.99, 112.46, 224.42, 23.23, 5.99]\n",
    "tax_rate = 0.125\n",
    "t = list(map(tax_calculator, subtotals))\n",
    "t"
   ]
  },
  {
   "cell_type": "markdown",
   "id": "195e83a9",
   "metadata": {},
   "source": [
    "### Method 1 : dict comprehension & zip function"
   ]
  },
  {
   "cell_type": "code",
   "execution_count": 3,
   "id": "f5c35460",
   "metadata": {},
   "outputs": [],
   "source": [
    "# Write your function here\n",
    "transaction_dict_creator = {key: value for key, value in  zip(customer_ids, t)}"
   ]
  },
  {
   "cell_type": "code",
   "execution_count": 4,
   "id": "6b3f907d",
   "metadata": {},
   "outputs": [
    {
     "data": {
      "text/plain": [
       "{'c00004': [39.99, 5.0, 44.99],\n",
       " 'c00007': [112.46, 14.06, 126.52],\n",
       " 'c00015': [224.42, 28.05, 252.47],\n",
       " 'c00016': [23.23, 2.9, 26.13],\n",
       " 'c00010': [5.99, 0.75, 6.74]}"
      ]
     },
     "execution_count": 4,
     "metadata": {},
     "output_type": "execute_result"
    }
   ],
   "source": [
    "transaction_dict_creator"
   ]
  },
  {
   "cell_type": "markdown",
   "id": "8ed98439",
   "metadata": {},
   "source": [
    "### Method 2 : dict comprehension & enumerate"
   ]
  },
  {
   "cell_type": "code",
   "execution_count": 5,
   "id": "d407bd1e",
   "metadata": {},
   "outputs": [],
   "source": [
    "# Write your function here\n",
    "transaction_dict_creator = {key: value for key, value in  enumerate(transaction_dict_creator)}"
   ]
  },
  {
   "cell_type": "code",
   "execution_count": 6,
   "id": "1c0a5220",
   "metadata": {},
   "outputs": [
    {
     "data": {
      "text/plain": [
       "{0: 'c00004', 1: 'c00007', 2: 'c00015', 3: 'c00016', 4: 'c00010'}"
      ]
     },
     "execution_count": 6,
     "metadata": {},
     "output_type": "execute_result"
    }
   ],
   "source": [
    "transaction_dict_creator"
   ]
  },
  {
   "cell_type": "markdown",
   "id": "dfe01e5a",
   "metadata": {},
   "source": [
    "---\n",
    "<a name=\"end\"></a>\n",
    "### Congrats! \n",
    "\n",
    "🔥 Let's go to the next session.\n",
    "\n",
    "📝 This Jupyter notebook has been created by [Ahmad Ahmadi](https://www.linkedin.com/in/ahmad-ahmadi95/). Please follow me and [izlearn](https://www.linkedin.com/company/izlearn) on LinkedIn social media.  \n",
    "\n",
    "🌐 Visit your website for more courses [izlearn.ir](https://izlearn.ir)"
   ]
  }
 ],
 "metadata": {
  "kernelspec": {
   "display_name": "Python 3 (ipykernel)",
   "language": "python",
   "name": "python3"
  },
  "language_info": {
   "codemirror_mode": {
    "name": "ipython",
    "version": 3
   },
   "file_extension": ".py",
   "mimetype": "text/x-python",
   "name": "python",
   "nbconvert_exporter": "python",
   "pygments_lexer": "ipython3",
   "version": "3.9.5"
  }
 },
 "nbformat": 4,
 "nbformat_minor": 5
}
