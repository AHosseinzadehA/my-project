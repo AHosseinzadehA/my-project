{
 "cells": [
  {
   "cell_type": "markdown",
   "id": "8548f343",
   "metadata": {},
   "source": [
    "## Modified Tax Calculator\n",
    "\n",
    "🔸 Since the tax calculator we made was primarily for our **Madrid** employees, **let's modify** the tax calculator below to have a **default tax rate** of **12.5%**. \n",
    "\n",
    "\n",
    "🔸 Also, we want the **output of the function** to return **a list** containing the **subtotal**, **tax**, and **totals**. "
   ]
  },
  {
   "cell_type": "code",
   "execution_count": 1,
   "id": "b1b86a14",
   "metadata": {},
   "outputs": [],
   "source": [
    "# Write your function here: Original\n",
    "def tax_calculator(subtotal: float, tax_rate: float) -> float:\n",
    "            \n",
    "    '''\n",
    "     takes in a subtotal and tax rate then returns total amount\n",
    "   \n",
    "     Args:\n",
    "       - subtotal(float): cost of items in transaction\n",
    "       - tax_rate(float): tax rate at store location\n",
    "\n",
    "     Returns:\n",
    "       - float: total amount should be paid\n",
    "    '''\n",
    "   \n",
    "    tax = subtotal * tax_rate\n",
    "    total = round(subtotal + tax, 2)\n",
    "    \n",
    "    \n",
    "    return total"
   ]
  },
  {
   "cell_type": "code",
   "execution_count": 2,
   "id": "1df76368",
   "metadata": {},
   "outputs": [
    {
     "data": {
      "text/plain": [
       "85.59"
      ]
     },
     "execution_count": 2,
     "metadata": {},
     "output_type": "execute_result"
    }
   ],
   "source": [
    "tax_calculator(79.99, 0.07)"
   ]
  },
  {
   "cell_type": "code",
   "execution_count": 3,
   "id": "e44d4163",
   "metadata": {},
   "outputs": [],
   "source": [
    "# Write your function here:     Original\n",
    "def tax_calculator(subtotal, tax_rate):  \n",
    "    tax = subtotal * tax_rate\n",
    "    total = round(subtotal + tax, 2)\n",
    "    # Write your code here\n",
    "    return tax, total"
   ]
  },
  {
   "cell_type": "code",
   "execution_count": 4,
   "id": "84613614",
   "metadata": {},
   "outputs": [
    {
     "data": {
      "text/plain": [
       "(5.5993, 85.59)"
      ]
     },
     "execution_count": 4,
     "metadata": {},
     "output_type": "execute_result"
    }
   ],
   "source": [
    "# Calling the function  \n",
    "tax_calculator(79.99, 0.07)"
   ]
  },
  {
   "cell_type": "code",
   "execution_count": 5,
   "id": "9b096120",
   "metadata": {},
   "outputs": [],
   "source": [
    "# Write your function here      New program\n",
    "\n",
    "def tax_calculator(subtotal: float, tax_rate: float) -> float:\n",
    "    tax = round(subtotal * tax_rate, 2)\n",
    "    total = round(subtotal + tax, 2)\n",
    "    # Write your code here\n",
    "    return [subtotal, tax, total]"
   ]
  },
  {
   "cell_type": "code",
   "execution_count": 6,
   "id": "ec1fe1bd",
   "metadata": {},
   "outputs": [
    {
     "data": {
      "text/plain": [
       "[120, 15.0, 135.0]"
      ]
     },
     "execution_count": 6,
     "metadata": {},
     "output_type": "execute_result"
    }
   ],
   "source": [
    "# Calling the function       New program\n",
    "tax_calculator(120, 0.125)   \n"
   ]
  },
  {
   "cell_type": "markdown",
   "id": "e56a53ff",
   "metadata": {},
   "source": [
    "🔹 **Method 1) import entire module**\n",
    "\n",
    "- Test your code using `subtotal=120` as an input."
   ]
  },
  {
   "cell_type": "code",
   "execution_count": 7,
   "id": "3c1cfde6",
   "metadata": {},
   "outputs": [
    {
     "name": "stdout",
     "output_type": "stream",
     "text": [
      "Overwriting save_functions.py\n"
     ]
    }
   ],
   "source": [
    "%%writefile save_functions.py\n",
    "\n",
    "def tax_calculator(subtotal: float, tax_rate: float) -> float:\n",
    "    tax = round(subtotal * tax_rate, 2)\n",
    "    total = round(subtotal + tax, 2)\n",
    "    \n",
    "    return [subtotal, tax, total]"
   ]
  },
  {
   "cell_type": "code",
   "execution_count": 8,
   "id": "1e71ecff",
   "metadata": {},
   "outputs": [],
   "source": [
    "import save_functions"
   ]
  },
  {
   "cell_type": "code",
   "execution_count": 9,
   "id": "09d71207",
   "metadata": {},
   "outputs": [
    {
     "data": {
      "text/plain": [
       "[120, 15.0, 135.0]"
      ]
     },
     "execution_count": 9,
     "metadata": {},
     "output_type": "execute_result"
    }
   ],
   "source": [
    "# Test your code using 120\n",
    "save_functions.tax_calculator(subtotal = 120, tax_rate = 0.125)"
   ]
  },
  {
   "cell_type": "markdown",
   "id": "cfde94aa",
   "metadata": {},
   "source": [
    "🔹 **Method 2) import entire module as `tc`**\n",
    "\n",
    "- Test your code using `subtotal=120` as an input."
   ]
  },
  {
   "cell_type": "code",
   "execution_count": 13,
   "id": "e5bdd89c",
   "metadata": {},
   "outputs": [
    {
     "name": "stdout",
     "output_type": "stream",
     "text": [
      "Overwriting save_functions.py\n"
     ]
    }
   ],
   "source": [
    "%%writefile save_functions.py\n",
    "\n",
    "def tax_calculator(subtotal: float, tax_rate: float) -> float:\n",
    "    tax = round(subtotal * tax_rate, 2)\n",
    "    total = round(subtotal + tax, 2)\n",
    "    \n",
    "    return [subtotal, tax, total]"
   ]
  },
  {
   "cell_type": "code",
   "execution_count": 14,
   "id": "f84efce8",
   "metadata": {},
   "outputs": [],
   "source": [
    "import save_functions as tc"
   ]
  },
  {
   "cell_type": "code",
   "execution_count": 15,
   "id": "030a9678",
   "metadata": {},
   "outputs": [
    {
     "data": {
      "text/plain": [
       "[120, 15.0, 135.0]"
      ]
     },
     "execution_count": 15,
     "metadata": {},
     "output_type": "execute_result"
    }
   ],
   "source": [
    "# Test your code using 120\n",
    "tc.tax_calculator(subtotal = 120, tax_rate = 0.125)"
   ]
  },
  {
   "cell_type": "markdown",
   "id": "ba0585d6",
   "metadata": {},
   "source": [
    "🔹 **Method 3) import specific function**\n",
    "\n",
    "- Test your code using `subtotal=120` as an input."
   ]
  },
  {
   "cell_type": "code",
   "execution_count": null,
   "id": "4d346222",
   "metadata": {},
   "outputs": [],
   "source": [
    "%%writefile save_functions.py\n",
    "\n",
    "def tax_calculator(subtotal: float, tax_rate: float) -> float:\n",
    "    tax = round(subtotal * tax_rate, 2)\n",
    "    total = round(subtotal + tax, 2)\n",
    "    \n",
    "    return [subtotal, tax, total]"
   ]
  },
  {
   "cell_type": "code",
   "execution_count": null,
   "id": "8df85aa1",
   "metadata": {},
   "outputs": [],
   "source": [
    "from save_functions import tax_calculator"
   ]
  },
  {
   "cell_type": "code",
   "execution_count": 11,
   "id": "f8b0a26b",
   "metadata": {},
   "outputs": [],
   "source": [
    "# Test your code using 120\n",
    "tax_calculator(subtotal = 120, tax_rate = 0.125)"
   ]
  },
  {
   "cell_type": "markdown",
   "id": "37878e6a",
   "metadata": {},
   "source": [
    "---\n",
    "<a name=\"end\"></a>\n",
    "### Congrats! \n",
    "\n",
    "🔥 Let's go to the next session.\n",
    "\n",
    "📝 This Jupyter notebook has been created by [Ahmad Ahmadi](https://www.linkedin.com/in/ahmad-ahmadi95/). Please follow me and [izlearn](https://www.linkedin.com/company/izlearn) on LinkedIn social media.  \n",
    "\n",
    "🌐 Visit your website for more courses [izlearn.ir](https://izlearn.ir)"
   ]
  }
 ],
 "metadata": {
  "kernelspec": {
   "display_name": "Python 3 (ipykernel)",
   "language": "python",
   "name": "python3"
  },
  "language_info": {
   "codemirror_mode": {
    "name": "ipython",
    "version": 3
   },
   "file_extension": ".py",
   "mimetype": "text/x-python",
   "name": "python",
   "nbconvert_exporter": "python",
   "pygments_lexer": "ipython3",
   "version": "3.9.5"
  }
 },
 "nbformat": 4,
 "nbformat_minor": 5
}
