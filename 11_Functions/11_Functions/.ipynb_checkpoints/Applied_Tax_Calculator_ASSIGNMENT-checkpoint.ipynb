{
 "cells": [
  {
   "cell_type": "markdown",
   "id": "16986ad4",
   "metadata": {},
   "source": [
    "## • Using the Tax Calculator!\n",
    "\n",
    "🔸 Now that we have a **new version of  tax calculator**, we need to put it to work. 💪🏼\n",
    "\n",
    "🔸 First, import the `tax calculator`."
   ]
  },
  {
   "cell_type": "code",
   "execution_count": 1,
   "id": "d83a77fc",
   "metadata": {},
   "outputs": [],
   "source": [
    "import tax_calculator as tc"
   ]
  },
  {
   "cell_type": "markdown",
   "id": "38610765",
   "metadata": {},
   "source": [
    "### • Processing Transactions \n",
    "\n",
    "🔸 Apply the **tax calculator function** to the **list of subtotals** below. \n",
    "\n",
    "🔸 We want to **store all the results in a single list**, so each list returned from the tax calculator should be a list stored in a list called `full_transactions`.\n",
    "\n",
    "🔸 Use the **default tax rate** for each transactions."
   ]
  },
  {
   "cell_type": "code",
   "execution_count": 2,
   "id": "ea5aaf29",
   "metadata": {},
   "outputs": [],
   "source": [
    "subtotals = [39.99, 112.46, 224.42, 23.23, 5.99]\n",
    "\n",
    "full_transactions = []\n",
    "for item in subtotals:\n",
    "    full_transactions.append(tc.tax_calculator(item))\n",
    "    \n",
    "   "
   ]
  },
  {
   "cell_type": "code",
   "execution_count": 3,
   "id": "f54ba61a",
   "metadata": {},
   "outputs": [
    {
     "data": {
      "text/plain": [
       "[[39.99, 5.0, 44.99],\n",
       " [112.46, 14.06, 126.52],\n",
       " [224.42, 28.05, 252.47],\n",
       " [23.23, 2.9, 26.13],\n",
       " [5.99, 0.75, 6.74]]"
      ]
     },
     "execution_count": 3,
     "metadata": {},
     "output_type": "execute_result"
    }
   ],
   "source": [
    " full_transactions"
   ]
  },
  {
   "cell_type": "markdown",
   "id": "9c1ccb36",
   "metadata": {},
   "source": [
    "### • Transactions Dictionary\n",
    "\n",
    "🔸 Great! Now that you've done, combine the `transactions` with the `cusotmer_ids` below into a **dictionary**.\n",
    "\n",
    "🔸 We want the `cusomter_ids` as `keys` and the `transactions` as `values` "
   ]
  },
  {
   "cell_type": "code",
   "execution_count": 4,
   "id": "63054afb",
   "metadata": {},
   "outputs": [],
   "source": [
    "customer_ids = ['c00007', 'c000077', 'c00015', 'c00016', 'c00011']"
   ]
  },
  {
   "cell_type": "code",
   "execution_count": 5,
   "id": "76718912",
   "metadata": {},
   "outputs": [],
   "source": [
    "# Write your code here\n",
    "customer_dict = dict(zip(customer_ids, full_transactions))"
   ]
  },
  {
   "cell_type": "code",
   "execution_count": 6,
   "id": "7e4bc230",
   "metadata": {},
   "outputs": [
    {
     "ename": "NameError",
     "evalue": "name 'customer_dict' is not defined",
     "output_type": "error",
     "traceback": [
      "\u001b[1;31m---------------------------------------------------------------------------\u001b[0m",
      "\u001b[1;31mNameError\u001b[0m                                 Traceback (most recent call last)",
      "Cell \u001b[1;32mIn[6], line 1\u001b[0m\n\u001b[1;32m----> 1\u001b[0m \u001b[43mcustomer_dict\u001b[49m\n",
      "\u001b[1;31mNameError\u001b[0m: name 'customer_dict' is not defined"
     ]
    }
   ],
   "source": [
    "customer_dict"
   ]
  },
  {
   "cell_type": "markdown",
   "id": "4de1e13d",
   "metadata": {},
   "source": [
    "---\n",
    "<a name=\"end\"></a>\n",
    "### Congrats! \n",
    "\n",
    "🔥 Let's go to the next session.\n",
    "\n",
    "📝 This Jupyter notebook has been created by [Ahmad Ahmadi](https://www.linkedin.com/in/ahmad-ahmadi95/). Please follow me and [izlearn](https://www.linkedin.com/company/izlearn) on LinkedIn social media.  \n",
    "\n",
    "🌐 Visit your website for more courses [izlearn.ir](https://izlearn.ir)"
   ]
  }
 ],
 "metadata": {
  "kernelspec": {
   "display_name": "Python 3 (ipykernel)",
   "language": "python",
   "name": "python3"
  },
  "language_info": {
   "codemirror_mode": {
    "name": "ipython",
    "version": 3
   },
   "file_extension": ".py",
   "mimetype": "text/x-python",
   "name": "python",
   "nbconvert_exporter": "python",
   "pygments_lexer": "ipython3",
   "version": "3.9.5"
  }
 },
 "nbformat": 4,
 "nbformat_minor": 5
}
