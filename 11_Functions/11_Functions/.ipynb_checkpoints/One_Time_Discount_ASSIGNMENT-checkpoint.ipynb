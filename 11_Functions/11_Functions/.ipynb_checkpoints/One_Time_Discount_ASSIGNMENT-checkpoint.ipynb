{
 "cells": [
  {
   "cell_type": "markdown",
   "id": "ee36bce1",
   "metadata": {},
   "source": [
    "## Apply A Special Discount\n",
    "\n",
    "**Hello there!**\n",
    "\n",
    "🔸 We need to apply a discount for customers who purchased more thant **€350** worth of product, They're starting to complain it hasn't been applied.(😬)\n",
    "\n",
    "🔸 They need to get **15% off** on their orders. \n",
    "\n",
    "💡 Can you **quickly** apply a discount?"
   ]
  },
  {
   "cell_type": "code",
   "execution_count": 1,
   "id": "b7457d0a",
   "metadata": {},
   "outputs": [],
   "source": [
    "subtotals = [30.1, 250.4, 400.49, 650.19, 299.5, 375.43]"
   ]
  },
  {
   "cell_type": "code",
   "execution_count": 6,
   "id": "245d4f63",
   "metadata": {},
   "outputs": [
    {
     "ename": "SyntaxError",
     "evalue": "invalid syntax (139100680.py, line 3)",
     "output_type": "error",
     "traceback": [
      "\u001b[1;36m  Cell \u001b[1;32mIn[6], line 3\u001b[1;36m\u001b[0m\n\u001b[1;33m    discounted_subtotals = list(map(lambda x: if (x > 350) round(x - x * discount, 2)  else 'Done', subtotals))\u001b[0m\n\u001b[1;37m                                              ^\u001b[0m\n\u001b[1;31mSyntaxError\u001b[0m\u001b[1;31m:\u001b[0m invalid syntax\n"
     ]
    }
   ],
   "source": [
    "# Write your code here\n",
    "discount = 0.15\n",
    "discounted_subtotals = list(map(lambda x: round(x - x * discount, 2) if (x > 350)  else x, subtotals))\n"
   ]
  },
  {
   "cell_type": "code",
   "execution_count": 7,
   "id": "a2d96596",
   "metadata": {},
   "outputs": [
    {
     "data": {
      "text/plain": [
       "['Done', 'Done', 340.42, 552.66, 'Done', 319.12]"
      ]
     },
     "execution_count": 7,
     "metadata": {},
     "output_type": "execute_result"
    }
   ],
   "source": [
    "discounted_subtotals"
   ]
  },
  {
   "cell_type": "markdown",
   "id": "e0ec57f1",
   "metadata": {},
   "source": [
    "---\n",
    "<a name=\"end\"></a>\n",
    "### Congrats! \n",
    "\n",
    "🔥 Let's go to the next session.\n",
    "\n",
    "📝 This Jupyter notebook has been created by [Ahmad Ahmadi](https://www.linkedin.com/in/ahmad-ahmadi95/). Please follow me and [izlearn](https://www.linkedin.com/company/izlearn) on LinkedIn social media.  \n",
    "\n",
    "🌐 Visit your website for more courses [izlearn.ir](https://izlearn.ir)\n"
   ]
  }
 ],
 "metadata": {
  "kernelspec": {
   "display_name": "Python 3 (ipykernel)",
   "language": "python",
   "name": "python3"
  },
  "language_info": {
   "codemirror_mode": {
    "name": "ipython",
    "version": 3
   },
   "file_extension": ".py",
   "mimetype": "text/x-python",
   "name": "python",
   "nbconvert_exporter": "python",
   "pygments_lexer": "ipython3",
   "version": "3.9.5"
  }
 },
 "nbformat": 4,
 "nbformat_minor": 5
}
