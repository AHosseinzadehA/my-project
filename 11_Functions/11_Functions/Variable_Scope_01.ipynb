{
 "cells": [
  {
   "cell_type": "markdown",
   "id": "28bb7f0c",
   "metadata": {},
   "source": [
    "#### • Table of the content\n",
    "\n",
    "1. [Variable Scope](#1)\n",
    "2. [Global Keyword](#1-1)\n",
    "3. [Bad Practice](#1-2)\n",
    "3. [Instead You Can ...](#1-3)\n",
    "4. [More Info (Follow Me on LinkedIn)](#end)\n",
    "\n",
    "---"
   ]
  },
  {
   "cell_type": "markdown",
   "id": "92483815",
   "metadata": {},
   "source": [
    "<a name=\"1\"></a>\n",
    "## • Variable Scope\n",
    "\n",
    "🔸 The variable scope is **the region of the code where the variables are recognized by Python**.\n",
    "\n",
    "1. **Local Scope** - variables created **inside of a function**.\n",
    " - These *can not* be referenced *outside* of a function.\n",
    " \n",
    " \n",
    "2. **Global Scope** - variables created **outside of a function**.\n",
    " - These *can* be referenced both *inside* and *outside* of functions.\n",
    " \n",
    " \n",
    "```python\n",
    "################\n",
    "# Global Varible\n",
    "################\n",
    "def my_function():\n",
    "    #############\n",
    "    # Local Variable\n",
    "    #############\n",
    "```"
   ]
  },
  {
   "cell_type": "code",
   "execution_count": 1,
   "id": "f9c94ce6",
   "metadata": {},
   "outputs": [],
   "source": [
    "a = 0\n",
    "def my_function():\n",
    "    b = 1\n",
    "    return a"
   ]
  },
  {
   "cell_type": "code",
   "execution_count": 2,
   "id": "a4c154c3",
   "metadata": {},
   "outputs": [
    {
     "name": "stdout",
     "output_type": "stream",
     "text": [
      "a inside function: 0\n",
      "a outside function: 0\n"
     ]
    }
   ],
   "source": [
    "# The scope of 'a' is global\n",
    "print(f'a inside function: {my_function()}')\n",
    "print(f'a outside function: {a}')"
   ]
  },
  {
   "cell_type": "code",
   "execution_count": 3,
   "id": "6a4a8313",
   "metadata": {},
   "outputs": [
    {
     "ename": "NameError",
     "evalue": "name 'b' is not defined",
     "output_type": "error",
     "traceback": [
      "\u001b[1;31m---------------------------------------------------------------------------\u001b[0m",
      "\u001b[1;31mNameError\u001b[0m                                 Traceback (most recent call last)",
      "Cell \u001b[1;32mIn[3], line 2\u001b[0m\n\u001b[0;32m      1\u001b[0m \u001b[38;5;66;03m# The scope of 'b' is local\u001b[39;00m\n\u001b[1;32m----> 2\u001b[0m \u001b[38;5;28mprint\u001b[39m(\u001b[38;5;124mf\u001b[39m\u001b[38;5;124m\"\u001b[39m\u001b[38;5;124mb outside of the function \u001b[39m\u001b[38;5;132;01m{\u001b[39;00mb\u001b[38;5;132;01m}\u001b[39;00m\u001b[38;5;124m\"\u001b[39m)\n",
      "\u001b[1;31mNameError\u001b[0m: name 'b' is not defined"
     ]
    }
   ],
   "source": [
    "# The scope of 'b' is local\n",
    "print(f\"b outside of the function {b}\")"
   ]
  },
  {
   "cell_type": "markdown",
   "id": "fb308794",
   "metadata": {},
   "source": [
    "🔸 **Another example**"
   ]
  },
  {
   "cell_type": "code",
   "execution_count": 4,
   "id": "288c968b",
   "metadata": {},
   "outputs": [],
   "source": [
    "def rating_cleaner(rating):\n",
    "    numeric_rate = int(rating[0])\n",
    "    return numeric_rate"
   ]
  },
  {
   "cell_type": "code",
   "execution_count": 5,
   "id": "5a60c707",
   "metadata": {},
   "outputs": [
    {
     "data": {
      "text/plain": [
       "5"
      ]
     },
     "execution_count": 5,
     "metadata": {},
     "output_type": "execute_result"
    }
   ],
   "source": [
    "rating_cleaner(\"5 stars\")"
   ]
  },
  {
   "cell_type": "markdown",
   "id": "abd21d3f",
   "metadata": {},
   "source": [
    "🔸 Type `numeric_rate` to access the **variable defined in the function**!\n",
    "\n",
    "🔸 What output did you get?"
   ]
  },
  {
   "cell_type": "code",
   "execution_count": 6,
   "id": "49b62b1d",
   "metadata": {},
   "outputs": [
    {
     "ename": "NameError",
     "evalue": "name 'numeric_rate' is not defined",
     "output_type": "error",
     "traceback": [
      "\u001b[1;31m---------------------------------------------------------------------------\u001b[0m",
      "\u001b[1;31mNameError\u001b[0m                                 Traceback (most recent call last)",
      "Cell \u001b[1;32mIn[6], line 1\u001b[0m\n\u001b[1;32m----> 1\u001b[0m \u001b[43mnumeric_rate\u001b[49m\n",
      "\u001b[1;31mNameError\u001b[0m: name 'numeric_rate' is not defined"
     ]
    }
   ],
   "source": [
    "numeric_rate"
   ]
  },
  {
   "cell_type": "markdown",
   "id": "f1e5324e",
   "metadata": {},
   "source": [
    "> We faced an **error** because **numeric_rate** is **local variable**. It means that we're not able to access that variable **outside** of the function (local variable)"
   ]
  },
  {
   "cell_type": "markdown",
   "id": "b6007e29",
   "metadata": {},
   "source": [
    "<a name=\"1-1\"></a>\n",
    "### • Global Keywrod"
   ]
  },
  {
   "cell_type": "markdown",
   "id": "81e70dc9",
   "metadata": {},
   "source": [
    "🔸 Change the scope of `numeric_rate` to <span style=\"font-family:consolas;font-size:2rem;color:darkgreen;font-weight:bold;\">global</span> and try again."
   ]
  },
  {
   "cell_type": "code",
   "execution_count": 7,
   "id": "58b785bf",
   "metadata": {},
   "outputs": [],
   "source": [
    "def rating_cleaner(rating):\n",
    "    # define a global variable here:\n",
    "    global numeric_rate\n",
    "    numeric_rate = int(rating[0])\n",
    "    return numeric_rate"
   ]
  },
  {
   "cell_type": "code",
   "execution_count": 8,
   "id": "1fd5fdb8",
   "metadata": {},
   "outputs": [
    {
     "data": {
      "text/plain": [
       "5"
      ]
     },
     "execution_count": 8,
     "metadata": {},
     "output_type": "execute_result"
    }
   ],
   "source": [
    "rating_cleaner(\"5 stars\")"
   ]
  },
  {
   "cell_type": "code",
   "execution_count": 9,
   "id": "94d98892",
   "metadata": {},
   "outputs": [
    {
     "data": {
      "text/plain": [
       "5"
      ]
     },
     "execution_count": 9,
     "metadata": {},
     "output_type": "execute_result"
    }
   ],
   "source": [
    "numeric_rate"
   ]
  },
  {
   "cell_type": "markdown",
   "id": "287f5d07",
   "metadata": {},
   "source": [
    "💡 Declaring global variables within a function **is considered bad practice** in most cases.\n",
    "\n",
    "💡 Instead use **return** to produce the values you want and assign them to variables."
   ]
  },
  {
   "cell_type": "markdown",
   "id": "f9d1ba4b",
   "metadata": {},
   "source": [
    "<a name=\"1-2\"></a>\n",
    "### • Bad Practice"
   ]
  },
  {
   "cell_type": "code",
   "execution_count": 10,
   "id": "71537d4d",
   "metadata": {},
   "outputs": [],
   "source": [
    "def rating_cleaner(rating):\n",
    "    global numeric_rate\n",
    "    numeric_rate = int(rating[0])\n",
    "    return numeric_rate"
   ]
  },
  {
   "cell_type": "code",
   "execution_count": 11,
   "id": "07555cfc",
   "metadata": {},
   "outputs": [
    {
     "data": {
      "text/plain": [
       "1"
      ]
     },
     "execution_count": 11,
     "metadata": {},
     "output_type": "execute_result"
    }
   ],
   "source": [
    "numeric_rate = 5\n",
    "rating_cleaner(\"1 star\")"
   ]
  },
  {
   "cell_type": "code",
   "execution_count": 12,
   "id": "435afb7c",
   "metadata": {},
   "outputs": [
    {
     "name": "stdout",
     "output_type": "stream",
     "text": [
      "1\n"
     ]
    }
   ],
   "source": [
    "print(numeric_rate)"
   ]
  },
  {
   "cell_type": "markdown",
   "id": "cee5abdf",
   "metadata": {},
   "source": [
    "<a name=\"1-3\"></a>\n",
    "### • Instead You Can ..."
   ]
  },
  {
   "cell_type": "code",
   "execution_count": 13,
   "id": "a98c113b",
   "metadata": {},
   "outputs": [],
   "source": [
    "def rating_cleaner(rating):\n",
    "    numeric_rate = int(rating[0])\n",
    "    return numeric_rate"
   ]
  },
  {
   "cell_type": "code",
   "execution_count": 15,
   "id": "afb110d7",
   "metadata": {},
   "outputs": [],
   "source": [
    "numeric_rate = rating_cleaner(\"1 star\")"
   ]
  },
  {
   "cell_type": "code",
   "execution_count": 16,
   "id": "8bfee09a",
   "metadata": {},
   "outputs": [
    {
     "data": {
      "text/plain": [
       "1"
      ]
     },
     "execution_count": 16,
     "metadata": {},
     "output_type": "execute_result"
    }
   ],
   "source": [
    "numeric_rate"
   ]
  },
  {
   "cell_type": "markdown",
   "id": "71a11e74",
   "metadata": {},
   "source": [
    "---\n",
    "<a name=\"end\"></a>\n",
    "### Congrats! \n",
    "\n",
    "🔥 Let's go to the next session.\n",
    "\n",
    "📝 This Jupyter notebook has been created by [Ahmad Ahmadi](https://www.linkedin.com/in/ahmad-ahmadi95/). Please follow me and [izlearn](https://www.linkedin.com/company/izlearn) on LinkedIn social media.  \n",
    "\n",
    "🌐 Visit your website for more courses [izlearn.ir](https://izlearn.ir)"
   ]
  }
 ],
 "metadata": {
  "kernelspec": {
   "display_name": "Python 3 (ipykernel)",
   "language": "python",
   "name": "python3"
  },
  "language_info": {
   "codemirror_mode": {
    "name": "ipython",
    "version": 3
   },
   "file_extension": ".py",
   "mimetype": "text/x-python",
   "name": "python",
   "nbconvert_exporter": "python",
   "pygments_lexer": "ipython3",
   "version": "3.9.5"
  }
 },
 "nbformat": 4,
 "nbformat_minor": 5
}
