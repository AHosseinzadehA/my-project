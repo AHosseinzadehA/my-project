{
 "cells": [
  {
   "cell_type": "markdown",
   "id": "5517c1d6",
   "metadata": {},
   "source": [
    "#### • Table of the content\n",
    "\n",
    "1. [Arguments Type](#1)\n",
    "2. [Positional Arguments](#1-1)\n",
    "3. [Keyword Arguments](#1-2)\n",
    "4. [Default Arguments](#1-3)\n",
    "5. [\\*args Arguments](#1-4)\n",
    "6. [\\*\\*kwargs Arguments](#1-5)\n",
    "\n",
    "6. [More Info (Follow Me on LinkedIn)](#end)\n",
    "\n",
    "---"
   ]
  },
  {
   "cell_type": "markdown",
   "id": "93bdae0e",
   "metadata": {},
   "source": [
    "<a name=\"1\"></a>\n",
    "## Arguments Type\n",
    "\n",
    "🔸 There are **5 type of arguments** that can be **passed into a function**. \n",
    "\n",
    "🔰 **Positional arguments**\n",
    "\n",
    "🔰 **Keyword arguments**\n",
    "\n",
    "🔰 **Default arguments**\n",
    "\n",
    "🔰 **\\*args**\n",
    "\n",
    "🔰 **\\*\\*kwargs**\n",
    "\n",
    "---"
   ]
  },
  {
   "cell_type": "markdown",
   "id": "eff71be1",
   "metadata": {},
   "source": [
    "🔸 Consider that we have **two types** of data, **web-formatted** ratings, and **forum-formatted** ratings."
   ]
  },
  {
   "cell_type": "code",
   "execution_count": 1,
   "id": "bfc5c92f",
   "metadata": {},
   "outputs": [],
   "source": [
    "web_ratings = [\"5 stars\",\n",
    "               \"1 star\",\n",
    "               \"4 stars\",\n",
    "               \"3 stars\",\n",
    "               \"5 stars\",\n",
    "               \"3 stars\",\n",
    "               \"1 star\"]"
   ]
  },
  {
   "cell_type": "code",
   "execution_count": 2,
   "id": "777220c8",
   "metadata": {},
   "outputs": [],
   "source": [
    "forum_ratings = [\"stars: 5\",\n",
    "                 \"stars: 5\",\n",
    "                 \"stars: 5\",\n",
    "                 \"stars: 3\",\n",
    "                 \"stars: 3\",\n",
    "                 \"stars: 4\",\n",
    "                 \"stars: 4\"]"
   ]
  },
  {
   "cell_type": "markdown",
   "id": "bd42cf28",
   "metadata": {},
   "source": [
    "🔸 Previously we've defined `rating_cleaner(rating)` function. \n",
    "\n",
    "🔸 It takes in **rating string** and extract out the **numeric part** out of it."
   ]
  },
  {
   "cell_type": "code",
   "execution_count": 3,
   "id": "71a81eed",
   "metadata": {},
   "outputs": [],
   "source": [
    "def rating_cleaner(rating):\n",
    "    numeric_rating = int(rating[0])\n",
    "    return numeric_rating"
   ]
  },
  {
   "cell_type": "code",
   "execution_count": 4,
   "id": "0fd74bcc",
   "metadata": {},
   "outputs": [
    {
     "data": {
      "text/plain": [
       "5"
      ]
     },
     "execution_count": 4,
     "metadata": {},
     "output_type": "execute_result"
    }
   ],
   "source": [
    "rating_cleaner('5 stars')"
   ]
  },
  {
   "cell_type": "code",
   "execution_count": 5,
   "id": "b5923756",
   "metadata": {},
   "outputs": [
    {
     "ename": "ValueError",
     "evalue": "invalid literal for int() with base 10: 's'",
     "output_type": "error",
     "traceback": [
      "\u001b[1;31m---------------------------------------------------------------------------\u001b[0m",
      "\u001b[1;31mValueError\u001b[0m                                Traceback (most recent call last)",
      "Cell \u001b[1;32mIn[5], line 1\u001b[0m\n\u001b[1;32m----> 1\u001b[0m \u001b[43mrating_cleaner\u001b[49m\u001b[43m(\u001b[49m\u001b[38;5;124;43m\"\u001b[39;49m\u001b[38;5;124;43mstars: 5\u001b[39;49m\u001b[38;5;124;43m\"\u001b[39;49m\u001b[43m)\u001b[49m\n",
      "Cell \u001b[1;32mIn[3], line 2\u001b[0m, in \u001b[0;36mrating_cleaner\u001b[1;34m(rating)\u001b[0m\n\u001b[0;32m      1\u001b[0m \u001b[38;5;28;01mdef\u001b[39;00m \u001b[38;5;21mrating_cleaner\u001b[39m(rating):\n\u001b[1;32m----> 2\u001b[0m     numeric_rating \u001b[38;5;241m=\u001b[39m \u001b[38;5;28;43mint\u001b[39;49m\u001b[43m(\u001b[49m\u001b[43mrating\u001b[49m\u001b[43m[\u001b[49m\u001b[38;5;241;43m0\u001b[39;49m\u001b[43m]\u001b[49m\u001b[43m)\u001b[49m\n\u001b[0;32m      3\u001b[0m     \u001b[38;5;28;01mreturn\u001b[39;00m numeric_rating\n",
      "\u001b[1;31mValueError\u001b[0m: invalid literal for int() with base 10: 's'"
     ]
    }
   ],
   "source": [
    "rating_cleaner(\"stars: 5\")"
   ]
  },
  {
   "cell_type": "markdown",
   "id": "e62b199d",
   "metadata": {},
   "source": [
    "👉🏼 **Change the above function** in order to handle different types of data.\n",
    "\n",
    "- `5 stars`\n",
    "\n",
    "- `stars: 5`"
   ]
  },
  {
   "cell_type": "code",
   "execution_count": 6,
   "id": "e17bf8fd",
   "metadata": {},
   "outputs": [],
   "source": [
    "# A function with two arguments → rating & index\n",
    "def rating_cleaner(rating, index):\n",
    "    numeric_rating = int(rating[index])\n",
    "    return numeric_rating"
   ]
  },
  {
   "cell_type": "markdown",
   "id": "96ca4ebf",
   "metadata": {},
   "source": [
    "<a name=\"1-1\"></a>\n",
    "### • Positional Arguments\n",
    "\n",
    "🔸 **Positional** arguments are passed **in the order** they were **defined in the function**. "
   ]
  },
  {
   "cell_type": "markdown",
   "id": "01247975",
   "metadata": {},
   "source": [
    "🔸 Use `rating_cleaner( )` function with inputs of **`5 stars`** and **`0`**."
   ]
  },
  {
   "cell_type": "code",
   "execution_count": 7,
   "id": "50c4dd50",
   "metadata": {},
   "outputs": [
    {
     "data": {
      "text/plain": [
       "5"
      ]
     },
     "execution_count": 7,
     "metadata": {},
     "output_type": "execute_result"
    }
   ],
   "source": [
    "rating_cleaner(\"5 stars\", 0)"
   ]
  },
  {
   "cell_type": "markdown",
   "id": "6da018ec",
   "metadata": {},
   "source": [
    "🔸 Use this function with inputs of **`stars: 5`** and **`-1`**."
   ]
  },
  {
   "cell_type": "code",
   "execution_count": 8,
   "id": "f654b4d1",
   "metadata": {},
   "outputs": [
    {
     "data": {
      "text/plain": [
       "5"
      ]
     },
     "execution_count": 8,
     "metadata": {},
     "output_type": "execute_result"
    }
   ],
   "source": [
    "rating_cleaner(\"stars: 5\", -1)"
   ]
  },
  {
   "cell_type": "markdown",
   "id": "2db16700",
   "metadata": {},
   "source": [
    "🔸 Change the **order of the inputs** to the function!"
   ]
  },
  {
   "cell_type": "code",
   "execution_count": 9,
   "id": "3580dc0e",
   "metadata": {},
   "outputs": [
    {
     "ename": "TypeError",
     "evalue": "'int' object is not subscriptable",
     "output_type": "error",
     "traceback": [
      "\u001b[1;31m---------------------------------------------------------------------------\u001b[0m",
      "\u001b[1;31mTypeError\u001b[0m                                 Traceback (most recent call last)",
      "Cell \u001b[1;32mIn[9], line 1\u001b[0m\n\u001b[1;32m----> 1\u001b[0m \u001b[43mrating_cleaner\u001b[49m\u001b[43m(\u001b[49m\u001b[38;5;241;43m-\u001b[39;49m\u001b[38;5;241;43m1\u001b[39;49m\u001b[43m,\u001b[49m\u001b[43m \u001b[49m\u001b[38;5;124;43m\"\u001b[39;49m\u001b[38;5;124;43mstars: 5\u001b[39;49m\u001b[38;5;124;43m\"\u001b[39;49m\u001b[43m)\u001b[49m\n",
      "Cell \u001b[1;32mIn[6], line 3\u001b[0m, in \u001b[0;36mrating_cleaner\u001b[1;34m(rating, index)\u001b[0m\n\u001b[0;32m      2\u001b[0m \u001b[38;5;28;01mdef\u001b[39;00m \u001b[38;5;21mrating_cleaner\u001b[39m(rating, index):\n\u001b[1;32m----> 3\u001b[0m     numeric_rating \u001b[38;5;241m=\u001b[39m \u001b[38;5;28mint\u001b[39m(\u001b[43mrating\u001b[49m\u001b[43m[\u001b[49m\u001b[43mindex\u001b[49m\u001b[43m]\u001b[49m)\n\u001b[0;32m      4\u001b[0m     \u001b[38;5;28;01mreturn\u001b[39;00m numeric_rating\n",
      "\u001b[1;31mTypeError\u001b[0m: 'int' object is not subscriptable"
     ]
    }
   ],
   "source": [
    "rating_cleaner(-1, \"stars: 5\")"
   ]
  },
  {
   "cell_type": "markdown",
   "id": "60c91a71",
   "metadata": {},
   "source": [
    "<a name=\"1-2\"></a>\n",
    "### • Keyword Arguments\n",
    "\n",
    "🔸 **Keyword** arguments are passed **in any order** by using the **argument’s name**."
   ]
  },
  {
   "cell_type": "code",
   "execution_count": 10,
   "id": "eb9c71b7",
   "metadata": {},
   "outputs": [
    {
     "data": {
      "text/plain": [
       "5"
      ]
     },
     "execution_count": 10,
     "metadata": {},
     "output_type": "execute_result"
    }
   ],
   "source": [
    "rating_cleaner(index=0, rating=\"5 stars\")"
   ]
  },
  {
   "cell_type": "code",
   "execution_count": 11,
   "id": "06dc652e",
   "metadata": {},
   "outputs": [
    {
     "data": {
      "text/plain": [
       "5"
      ]
     },
     "execution_count": 11,
     "metadata": {},
     "output_type": "execute_result"
    }
   ],
   "source": [
    "rating_cleaner(rating=\"5 stars\", index=0)"
   ]
  },
  {
   "cell_type": "markdown",
   "id": "ac2154f2",
   "metadata": {},
   "source": [
    "🔸 Use **positional argument** after **keyword argument**!"
   ]
  },
  {
   "cell_type": "code",
   "execution_count": 12,
   "id": "fff7b061",
   "metadata": {},
   "outputs": [
    {
     "ename": "SyntaxError",
     "evalue": "positional argument follows keyword argument (3454321728.py, line 1)",
     "output_type": "error",
     "traceback": [
      "\u001b[1;36m  Cell \u001b[1;32mIn[12], line 1\u001b[1;36m\u001b[0m\n\u001b[1;33m    rating_cleaner(index=-1, \"stars: 5\")\u001b[0m\n\u001b[1;37m                                       ^\u001b[0m\n\u001b[1;31mSyntaxError\u001b[0m\u001b[1;31m:\u001b[0m positional argument follows keyword argument\n"
     ]
    }
   ],
   "source": [
    "rating_cleaner(index=-1, \"stars: 5\")"
   ]
  },
  {
   "cell_type": "markdown",
   "id": "024d0933",
   "metadata": {},
   "source": [
    "🔸 Use **keyword argument** after **positional argument**!"
   ]
  },
  {
   "cell_type": "code",
   "execution_count": 13,
   "id": "310d9e09",
   "metadata": {},
   "outputs": [
    {
     "data": {
      "text/plain": [
       "5"
      ]
     },
     "execution_count": 13,
     "metadata": {},
     "output_type": "execute_result"
    }
   ],
   "source": [
    "rating_cleaner(\"stars: 5\", index=-1)"
   ]
  },
  {
   "cell_type": "markdown",
   "id": "fa1372f9",
   "metadata": {},
   "source": [
    "<a name=\"1-3\"></a>\n",
    "### • Default Argument\n",
    "\n",
    "🔸 **Default** arguments pass a **preset value** if *nothing* is passed in the function call."
   ]
  },
  {
   "cell_type": "code",
   "execution_count": 16,
   "id": "43a83e09",
   "metadata": {},
   "outputs": [],
   "source": [
    "def rating_cleaner(rating, index=0):\n",
    "    numeric_part = int(rating[index])\n",
    "    return numeric_part"
   ]
  },
  {
   "cell_type": "code",
   "execution_count": 17,
   "id": "06ab4014",
   "metadata": {},
   "outputs": [
    {
     "data": {
      "text/plain": [
       "5"
      ]
     },
     "execution_count": 17,
     "metadata": {},
     "output_type": "execute_result"
    }
   ],
   "source": [
    "rating_cleaner('5 stars')"
   ]
  },
  {
   "cell_type": "code",
   "execution_count": 19,
   "id": "b1361e71",
   "metadata": {},
   "outputs": [
    {
     "data": {
      "text/plain": [
       "2"
      ]
     },
     "execution_count": 19,
     "metadata": {},
     "output_type": "execute_result"
    }
   ],
   "source": [
    "rating_cleaner('stars: 2', index=-1)"
   ]
  },
  {
   "cell_type": "markdown",
   "id": "5f4b080d",
   "metadata": {},
   "source": [
    "<a name=\"1-4\"></a>\n",
    "### • \\*args Argument\n",
    "\n",
    "🔸 **\\*args** arguments pass **any number of positional arguments** as **tuple**"
   ]
  },
  {
   "cell_type": "code",
   "execution_count": 22,
   "id": "b3c7cab9",
   "metadata": {},
   "outputs": [],
   "source": [
    "def rating_cleaner(*ratings, index=0):\n",
    "    rates_list = []\n",
    "    for rate in ratings:\n",
    "        numeric_part = int(rate[index])\n",
    "        rates_list.append(numeric_part)\n",
    "    return rates_list"
   ]
  },
  {
   "cell_type": "markdown",
   "id": "e3591b7e",
   "metadata": {},
   "source": [
    "🔸 Pass **any number of rates** to your function!\n",
    "\n",
    "🔸 i.e. `5 stars`, `4 stars`, `1 star` and `2 stars`"
   ]
  },
  {
   "cell_type": "code",
   "execution_count": 23,
   "id": "9a8973cf",
   "metadata": {},
   "outputs": [
    {
     "data": {
      "text/plain": [
       "[5, 4, 1, 2]"
      ]
     },
     "execution_count": 23,
     "metadata": {},
     "output_type": "execute_result"
    }
   ],
   "source": [
    "rating_cleaner(\"5 stars\", \"4 stars\", \"1 star\", \"2 stars\")"
   ]
  },
  {
   "cell_type": "code",
   "execution_count": 24,
   "id": "183af0f9",
   "metadata": {},
   "outputs": [
    {
     "data": {
      "text/plain": [
       "['stars: 5',\n",
       " 'stars: 5',\n",
       " 'stars: 5',\n",
       " 'stars: 3',\n",
       " 'stars: 3',\n",
       " 'stars: 4',\n",
       " 'stars: 4']"
      ]
     },
     "execution_count": 24,
     "metadata": {},
     "output_type": "execute_result"
    }
   ],
   "source": [
    "forum_ratings"
   ]
  },
  {
   "cell_type": "markdown",
   "id": "7145e96d",
   "metadata": {},
   "source": [
    "🔸 Unpack `forum_ratings` and use it as an input to `rating_clenaer` function."
   ]
  },
  {
   "cell_type": "code",
   "execution_count": 27,
   "id": "55fb3579",
   "metadata": {},
   "outputs": [
    {
     "data": {
      "text/plain": [
       "[5, 5, 5, 3, 3, 4, 4]"
      ]
     },
     "execution_count": 27,
     "metadata": {},
     "output_type": "execute_result"
    }
   ],
   "source": [
    "rating_cleaner(*forum_ratings, index=-1)"
   ]
  },
  {
   "cell_type": "markdown",
   "id": "28de315b",
   "metadata": {},
   "source": [
    "<a name=\"1-5\"></a>\n",
    "### •  \\*\\*kwargs Arguments\n",
    "\n",
    "🔸 **\\*\\*kwargs** arguments pass **any number of keyword arguments** as **dictionary**"
   ]
  },
  {
   "cell_type": "code",
   "execution_count": 34,
   "id": "06cba170",
   "metadata": {},
   "outputs": [],
   "source": [
    "def rating_cleaner(index=0, **ratings):\n",
    "    rates_list = []\n",
    "    for rate in ratings.values():\n",
    "        numeric_part = int(rate[index])\n",
    "        rates_list.append(numeric_part)\n",
    "    return rates_list"
   ]
  },
  {
   "cell_type": "markdown",
   "id": "7c9d2976",
   "metadata": {},
   "source": [
    "🔗 Click on [this link](https://stackoverflow.com/questions/15301999/default-arguments-with-args-and-kwargs) and read this question on **StackOverFlow**."
   ]
  },
  {
   "cell_type": "code",
   "execution_count": 35,
   "id": "d4fd9eb9",
   "metadata": {},
   "outputs": [
    {
     "data": {
      "text/plain": [
       "[5, 2]"
      ]
     },
     "execution_count": 35,
     "metadata": {},
     "output_type": "execute_result"
    }
   ],
   "source": [
    "rating_cleaner(a=\"5 stars\", b=\"2 stars\")"
   ]
  },
  {
   "cell_type": "code",
   "execution_count": 37,
   "id": "909950dc",
   "metadata": {},
   "outputs": [],
   "source": [
    "arguments = {\n",
    "    \"rating1\": \"5 stars\",\n",
    "    \"rating2\": \"2 stars\"\n",
    "}"
   ]
  },
  {
   "cell_type": "markdown",
   "id": "1bdb8e75",
   "metadata": {},
   "source": [
    "🔸 Unpack `arguments` and use it as an input to the function."
   ]
  },
  {
   "cell_type": "code",
   "execution_count": 39,
   "id": "3df808b1",
   "metadata": {},
   "outputs": [
    {
     "data": {
      "text/plain": [
       "[5, 2]"
      ]
     },
     "execution_count": 39,
     "metadata": {},
     "output_type": "execute_result"
    }
   ],
   "source": [
    "rating_cleaner(**arguments)"
   ]
  },
  {
   "cell_type": "markdown",
   "id": "b849ac6a",
   "metadata": {},
   "source": [
    "---\n",
    "<a name=\"end\"></a>\n",
    "### Congrats! \n",
    "\n",
    "🔥 Let's go to the next session.\n",
    "\n",
    "📝 This Jupyter notebook has been created by [Ahmad Ahmadi](https://www.linkedin.com/in/ahmad-ahmadi95/). Please follow me and [izlearn](https://www.linkedin.com/company/izlearn) on LinkedIn social media.  \n",
    "\n",
    "🌐 Visit your website for more courses [izlearn.ir](https://izlearn.ir)"
   ]
  }
 ],
 "metadata": {
  "kernelspec": {
   "display_name": "Python 3 (ipykernel)",
   "language": "python",
   "name": "python3"
  },
  "language_info": {
   "codemirror_mode": {
    "name": "ipython",
    "version": 3
   },
   "file_extension": ".py",
   "mimetype": "text/x-python",
   "name": "python",
   "nbconvert_exporter": "python",
   "pygments_lexer": "ipython3",
   "version": "3.9.5"
  }
 },
 "nbformat": 4,
 "nbformat_minor": 5
}
