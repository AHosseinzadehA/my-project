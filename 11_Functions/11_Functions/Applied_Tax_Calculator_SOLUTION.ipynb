{
 "cells": [
  {
   "cell_type": "markdown",
   "id": "16986ad4",
   "metadata": {},
   "source": [
    "## • Using the Tax Calculator!\n",
    "\n",
    "🔸 Now that we have a **new version of  tax calculator**, we need to put it to work. 💪🏼\n",
    "\n",
    "🔸 First, import the `tax calculator`."
   ]
  },
  {
   "cell_type": "code",
   "execution_count": 1,
   "id": "6aec7cfc",
   "metadata": {},
   "outputs": [],
   "source": [
    "import tax_calculator as tc"
   ]
  },
  {
   "cell_type": "markdown",
   "id": "38610765",
   "metadata": {},
   "source": [
    "### • Processing Transactions \n",
    "\n",
    "🔸 Apply the **tax calculator function** to the **list of subtotals** below. \n",
    "\n",
    "🔸 We want to **store all the results in a single list**, so each list returned from the tax calculator should be a list stored in a list called `full_transactions`.\n",
    "\n",
    "🔸 Use the **default tax rate** for each transactions."
   ]
  },
  {
   "cell_type": "code",
   "execution_count": 4,
   "id": "ea5aaf29",
   "metadata": {},
   "outputs": [],
   "source": [
    "subtotals = [39.99, 112.46, 224.42, 23.23, 5.99]"
   ]
  },
  {
   "cell_type": "code",
   "execution_count": 6,
   "id": "aa064cb4",
   "metadata": {},
   "outputs": [
    {
     "name": "stdout",
     "output_type": "stream",
     "text": [
      "Done!\n"
     ]
    }
   ],
   "source": [
    "full_transactions = []\n",
    "# Write your code here\n",
    "for subtotal in subtotals:\n",
    "    transaction_info = tc.tax_calculator(subtotal)\n",
    "    full_transactions.append(transaction_info)\n",
    "    \n",
    "print(\"Done!\")"
   ]
  },
  {
   "cell_type": "code",
   "execution_count": 7,
   "id": "f54ba61a",
   "metadata": {},
   "outputs": [
    {
     "data": {
      "text/plain": [
       "[[39.99, 5.0, 44.99],\n",
       " [112.46, 14.06, 126.52],\n",
       " [224.42, 28.05, 252.47],\n",
       " [23.23, 2.9, 26.13],\n",
       " [5.99, 0.75, 6.74]]"
      ]
     },
     "execution_count": 7,
     "metadata": {},
     "output_type": "execute_result"
    }
   ],
   "source": [
    "full_transactions"
   ]
  },
  {
   "cell_type": "markdown",
   "id": "9c1ccb36",
   "metadata": {},
   "source": [
    "### • Transactions Dictionary\n",
    "\n",
    "🔸 Great! Now that you've done, combine the `transactions` with the `cusotmer_ids` below into a **dictionary**.\n",
    "\n",
    "🔸 We want the `cusomter_ids` as `keys` and the `transactions` as `values` "
   ]
  },
  {
   "cell_type": "code",
   "execution_count": 9,
   "id": "63054afb",
   "metadata": {},
   "outputs": [],
   "source": [
    "customer_ids = ['c00007', 'c000077', 'c00015', 'c00016', 'c00011']"
   ]
  },
  {
   "cell_type": "code",
   "execution_count": 15,
   "id": "76718912",
   "metadata": {},
   "outputs": [],
   "source": [
    "# Write your code here\n",
    "customer_dict = dict(zip(customer_ids, full_transactions))"
   ]
  },
  {
   "cell_type": "code",
   "execution_count": 16,
   "id": "7e4bc230",
   "metadata": {},
   "outputs": [
    {
     "data": {
      "text/plain": [
       "{'c00007': [39.99, 5.0, 44.99],\n",
       " 'c000077': [112.46, 14.06, 126.52],\n",
       " 'c00015': [224.42, 28.05, 252.47],\n",
       " 'c00016': [23.23, 2.9, 26.13],\n",
       " 'c00011': [5.99, 0.75, 6.74]}"
      ]
     },
     "execution_count": 16,
     "metadata": {},
     "output_type": "execute_result"
    }
   ],
   "source": [
    "customer_dict"
   ]
  },
  {
   "cell_type": "markdown",
   "id": "4de1e13d",
   "metadata": {},
   "source": [
    "---\n",
    "<a name=\"end\"></a>\n",
    "### Congrats! \n",
    "\n",
    "🔥 Let's go to the next session.\n",
    "\n",
    "📝 This Jupyter notebook has been created by [Ahmad Ahmadi](https://www.linkedin.com/in/ahmad-ahmadi95/). Please follow me and [izlearn](https://www.linkedin.com/company/izlearn) on LinkedIn social media.  \n",
    "\n",
    "🌐 Visit your website for more courses [izlearn.ir](https://izlearn.ir)"
   ]
  }
 ],
 "metadata": {
  "kernelspec": {
   "display_name": "Python 3 (ipykernel)",
   "language": "python",
   "name": "python3"
  },
  "language_info": {
   "codemirror_mode": {
    "name": "ipython",
    "version": 3
   },
   "file_extension": ".py",
   "mimetype": "text/x-python",
   "name": "python",
   "nbconvert_exporter": "python",
   "pygments_lexer": "ipython3",
   "version": "3.9.5"
  }
 },
 "nbformat": 4,
 "nbformat_minor": 5
}
