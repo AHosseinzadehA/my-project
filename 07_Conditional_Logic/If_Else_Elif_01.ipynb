{
 "cells": [
  {
   "cell_type": "markdown",
   "id": "dac4d4e6",
   "metadata": {},
   "source": [
    "#### • Table of the content\n",
    "\n",
    "1. [If & Else & Elif](#1)\n",
    "2. [If Statement](#2)\n",
    "3. [Else Statement](#3)\n",
    "4. [Elif Statement](#4)\n",
    "4. [Multiple Elif statements](#5)\n",
    "2. [More Info (Follow Me on LinkedIn)](#end)\n",
    "\n",
    "---"
   ]
  },
  {
   "cell_type": "markdown",
   "id": "9e7aff3d",
   "metadata": {},
   "source": [
    "<a name=\"1\"></a>\n",
    "## • If & Else & Elif \n",
    "\n",
    "🔸 There are **three conditional statements** in Python that we can use them to **control** the flow of porgramming!\n",
    "\n",
    "• These statements are as follows:\n",
    "1. [if](https://www.w3schools.com/python/python_conditions.asp) statement\n",
    "2. [else](https://www.w3schools.com/python/python_conditions.asp) statement\n",
    "3. [elif](https://www.w3schools.com/python/python_conditions.asp) statement"
   ]
  },
  {
   "cell_type": "markdown",
   "id": "78be5365",
   "metadata": {},
   "source": [
    "🔸 Here we have one customer id which is `C0020`. later on in the course we'll learn how to handle multiple data."
   ]
  },
  {
   "cell_type": "code",
   "execution_count": 1,
   "id": "09479a76",
   "metadata": {},
   "outputs": [],
   "source": [
    "customer_id = 'C0022'"
   ]
  },
  {
   "cell_type": "markdown",
   "id": "45aa2e03",
   "metadata": {},
   "source": [
    "🔸 Now! we want to omit the letter `C` from the the string and change the remaining string into the **integer** data type\n",
    "\n",
    "1. We can use **string slicing** or **.strip()** method to omit the letter `C`.\n",
    "2. Then we can use **int** function to convert from string into integer."
   ]
  },
  {
   "cell_type": "code",
   "execution_count": 3,
   "id": "b729826a",
   "metadata": {},
   "outputs": [
    {
     "data": {
      "text/plain": [
       "22"
      ]
     },
     "execution_count": 3,
     "metadata": {},
     "output_type": "execute_result"
    }
   ],
   "source": [
    "number = int(customer_id[1:])\n",
    "number"
   ]
  },
  {
   "cell_type": "markdown",
   "id": "497cf581",
   "metadata": {},
   "source": [
    "---\n",
    "<a name=\"2\"></a>\n",
    "### ° If Statement\n",
    "\n",
    "🔸 The **if** statement runs lines of <u>indented code</u> when its logical condition evaluates to **True**."
   ]
  },
  {
   "cell_type": "code",
   "execution_count": 7,
   "id": "233e6e77",
   "metadata": {},
   "outputs": [
    {
     "name": "stdout",
     "output_type": "stream",
     "text": [
      "You get a big prize!\n",
      "Please go back to menu\n"
     ]
    }
   ],
   "source": [
    "# 1.1. Write logic if numeric part of the customer id > 20 and < 50 → 'You get a big prize!'\n",
    "# 1.2. Finally → 'Please go back to menu'\n",
    "\n",
    "if 20 < number < 50:\n",
    "    print('You get a big prize!')\n",
    "    \n",
    "print('Please go back to menu')"
   ]
  },
  {
   "cell_type": "markdown",
   "id": "99913601",
   "metadata": {},
   "source": [
    "---\n",
    "<a name=\"3\"></a>\n",
    "### ° Else Statement\n",
    "\n",
    "🔸 The **else** statement runs lines of <u>indented code</u> when **none** of the logical conditions in the *if* or *elif* evaluate to *True*"
   ]
  },
  {
   "cell_type": "code",
   "execution_count": 13,
   "id": "74c3b841",
   "metadata": {},
   "outputs": [
    {
     "data": {
      "text/plain": [
       "10"
      ]
     },
     "execution_count": 13,
     "metadata": {},
     "output_type": "execute_result"
    }
   ],
   "source": [
    "customer_id = 'C0010'\n",
    "number = int(customer_id.strip('C'))\n",
    "number"
   ]
  },
  {
   "cell_type": "code",
   "execution_count": 14,
   "id": "697c05b0",
   "metadata": {},
   "outputs": [
    {
     "name": "stdout",
     "output_type": "stream",
     "text": [
      "Sorry, no luck for you\n",
      "Ok, go back to menu\n"
     ]
    }
   ],
   "source": [
    "# 2.1. Write logic if numeric part of customer id > 20 and < 50 → 'You get a big prize!'\n",
    "# 2.2. If not → 'Sorry, no luck for you!'\n",
    "# 2.3. Finally → 'Ok, go back to menu'\n",
    "\n",
    "if 20 < number < 50:\n",
    "    print('You get a big prize!')\n",
    "else:\n",
    "    print('Sorry, no luck for you')\n",
    "    \n",
    "print('Ok, go back to menu')    "
   ]
  },
  {
   "cell_type": "markdown",
   "id": "0e0d24f7",
   "metadata": {},
   "source": [
    "---\n",
    "🔸 In the following cell, we have a new customer's id. The id is `C0127` and we want to have  more complex conditions.\n",
    "we want to give prize to customers whose ids include character `7` **or** the integer part of their id is equal to **77**."
   ]
  },
  {
   "cell_type": "code",
   "execution_count": 16,
   "id": "2d852ba1",
   "metadata": {},
   "outputs": [
    {
     "data": {
      "text/plain": [
       "127"
      ]
     },
     "execution_count": 16,
     "metadata": {},
     "output_type": "execute_result"
    }
   ],
   "source": [
    "customer_id = 'C0127'\n",
    "number = int(customer_id.strip('C'))\n",
    "number"
   ]
  },
  {
   "cell_type": "code",
   "execution_count": 17,
   "id": "efb4a27f",
   "metadata": {},
   "outputs": [
    {
     "data": {
      "text/plain": [
       "True"
      ]
     },
     "execution_count": 17,
     "metadata": {},
     "output_type": "execute_result"
    }
   ],
   "source": [
    "# Check if '7' in customer_id?\n",
    "# What operator can we use? What whould be the output? \n",
    "\n",
    "'7' in customer_id"
   ]
  },
  {
   "cell_type": "markdown",
   "id": "c71cf5a5",
   "metadata": {},
   "source": [
    "\n",
    "<a name=\"4\"></a>\n",
    "### ° Elif Statement\n",
    "\n",
    "🔸 The **elif** statement let you specify **additional conditions** and it runs lines of *indented block* when the logical condition in an *if*  statement is not met."
   ]
  },
  {
   "cell_type": "code",
   "execution_count": 18,
   "id": "b1950f65",
   "metadata": {},
   "outputs": [
    {
     "name": "stdout",
     "output_type": "stream",
     "text": [
      "You have two chances!\n",
      "Ok, go back to menu\n"
     ]
    }
   ],
   "source": [
    "# 3.1. Write logic if numeric part of customer id > 20 and < 50 → 'You get a big prize!'\n",
    "# 3.2. Else If  → numberic equals 77 or '7' in customer_id → 'You have two chances!'\n",
    "# 3.3. Else → 'Sorry, no luck for you!'\n",
    "# 3.4. Finally → 'Ok, go back to menu'\n",
    "\n",
    "if 20 < number < 50:\n",
    "    print('You get a big prize!')\n",
    "    \n",
    "elif number == 77 or '7' in customer_id:\n",
    "    print('You have two chances!')\n",
    "else:\n",
    "    print('Sorry, no luck for you!')\n",
    "    \n",
    "print('Ok, go back to menu')"
   ]
  },
  {
   "cell_type": "markdown",
   "id": "130a64f9",
   "metadata": {},
   "source": [
    "---\n",
    "<a name=\"5\"></a>\n",
    "### ° Multiple elif Statements\n",
    "\n",
    "🔸 you can have *any number* of **elif** statements between **if** and **else**!\n",
    "\n",
    "• Here is a simple example:\n",
    "\n",
    "• Write logic that gives our customers one or more chances to win the lottery based on their purchases. \n",
    "\n",
    "1. if purchase >= 500 → 'You have five chances'\n",
    "2. if 400 <= purchase < 500 → 'You have four chances'\n",
    "3. if 300 <= purchase < 400 → 'You have three chances'\n",
    "4. if 200 <= purchase < 300 → 'You have two chances'\n",
    "5. if purchase < 200 → 'You have one chance'"
   ]
  },
  {
   "cell_type": "code",
   "execution_count": 19,
   "id": "4e7814bb",
   "metadata": {},
   "outputs": [],
   "source": [
    "purchase = 300"
   ]
  },
  {
   "cell_type": "code",
   "execution_count": 20,
   "id": "f8646a1f",
   "metadata": {},
   "outputs": [
    {
     "name": "stdout",
     "output_type": "stream",
     "text": [
      "You have three chances\n"
     ]
    }
   ],
   "source": [
    "# 4. Write your logic here:\n",
    "\n",
    "if purchase >= 500:\n",
    "    print('You have five chances')\n",
    "elif 400 <= purchase < 500:\n",
    "    print('You have four chances')\n",
    "elif 300 <= purchase < 400:\n",
    "    print('You have three chances')\n",
    "elif 200 <= purchase < 300:\n",
    "    print('You have two chances')\n",
    "else:\n",
    "    print('You have one chance')"
   ]
  },
  {
   "cell_type": "markdown",
   "id": "8ae09850",
   "metadata": {},
   "source": [
    "---\n",
    "<a name=\"end\"></a>\n",
    "### Congrats! \n",
    "\n",
    "🔥 Let's go to the next session.\n",
    "\n",
    "📝 This Jupyter notebook has been created by [Ahmad Ahmadi](https://www.linkedin.com/in/ahmad-ahmadi95/). Please follow me and [izlearn](https://www.linkedin.com/company/izlearn) on LinkedIn social media.  \n",
    "\n",
    "🌐 Visit your website for more courses [izlearn.ir](https://izlearn.ir)\n"
   ]
  }
 ],
 "metadata": {
  "kernelspec": {
   "display_name": "Python 3 (ipykernel)",
   "language": "python",
   "name": "python3"
  },
  "language_info": {
   "codemirror_mode": {
    "name": "ipython",
    "version": 3
   },
   "file_extension": ".py",
   "mimetype": "text/x-python",
   "name": "python",
   "nbconvert_exporter": "python",
   "pygments_lexer": "ipython3",
   "version": "3.9.5"
  }
 },
 "nbformat": 4,
 "nbformat_minor": 5
}
