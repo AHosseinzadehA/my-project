{
 "cells": [
  {
   "cell_type": "markdown",
   "id": "75879b09",
   "metadata": {},
   "source": [
    "#### Table of the content\n",
    "\n",
    "1. [Boolean Data Types](#1)\n",
    "2. [Boolean Arithmetic](#2)\n",
    "3. [Type Conversion Using bool() Function](#3)\n",
    "4. [Boolean Operators](#4)\n",
    "    1. [Comparison Operators](#4-1)\n",
    "    2. [Membership Operators](#4-2)\n",
    "    3. [Logical Operators](#4-3)\n",
    "    4. [Do it yourself](#4-4)\n",
    "    5. [Parentheses](#4-5)\n",
    "5. [More Info (Follow Me on LinkedIn)](#end)"
   ]
  },
  {
   "cell_type": "markdown",
   "id": "d1885980",
   "metadata": {},
   "source": [
    "<a name=\"1\"></a>\n",
    "## • Boolean Data Types\n",
    "\n",
    "🔸 There are two possible values for boolean data type → **True** / **False**"
   ]
  },
  {
   "cell_type": "code",
   "execution_count": 1,
   "id": "9b6abc55",
   "metadata": {},
   "outputs": [
    {
     "name": "stdout",
     "output_type": "stream",
     "text": [
      "True False <class 'bool'> <class 'bool'>\n"
     ]
    }
   ],
   "source": [
    "# 1.1. Create two different vairable and assigne them True & False\n",
    "\n",
    "true =  True\n",
    "false = False\n",
    "\n",
    "# 1.1.1. print their value as well as their type\n",
    "print(true, false, type(true), type(false))"
   ]
  },
  {
   "cell_type": "markdown",
   "id": "f39bd003",
   "metadata": {},
   "source": [
    "<a name=\"2\"></a>\n",
    "## • Boolean Arithmetic\n",
    "\n",
    "🔸 **True** is equal to **1** in arithmetic operations.\n",
    "\n",
    "\n",
    "🔸 **False** is equal to **0** in arithmetic operations."
   ]
  },
  {
   "cell_type": "code",
   "execution_count": 2,
   "id": "4aea68e8",
   "metadata": {},
   "outputs": [
    {
     "data": {
      "text/plain": [
       "7"
      ]
     },
     "execution_count": 2,
     "metadata": {},
     "output_type": "execute_result"
    }
   ],
   "source": [
    "# 2.1. Multiply 7 by True\n",
    "\n",
    "7 * True"
   ]
  },
  {
   "cell_type": "code",
   "execution_count": 3,
   "id": "47007581",
   "metadata": {},
   "outputs": [
    {
     "data": {
      "text/plain": [
       "0"
      ]
     },
     "execution_count": 3,
     "metadata": {},
     "output_type": "execute_result"
    }
   ],
   "source": [
    "# 2.2 Multiply 7 by False\n",
    "\n",
    "7 * False"
   ]
  },
  {
   "cell_type": "code",
   "execution_count": 4,
   "id": "9a5a74cd",
   "metadata": {},
   "outputs": [
    {
     "data": {
      "text/plain": [
       "False"
      ]
     },
     "execution_count": 4,
     "metadata": {},
     "output_type": "execute_result"
    }
   ],
   "source": [
    "# 2.3 'not' keyword inverts the boolean values\n",
    "# 2.3.1. use 'not' with 'True' and run your code!\n",
    "\n",
    "not True "
   ]
  },
  {
   "cell_type": "markdown",
   "id": "7f475e04",
   "metadata": {},
   "source": [
    "<a name=\"3\"></a>\n",
    "## • Type Conversion Using bool( ) Function\n",
    "\n",
    "🔸 You can use `bool( )` function to move from one data type to boolean data types"
   ]
  },
  {
   "cell_type": "code",
   "execution_count": 5,
   "id": "59c5998e",
   "metadata": {},
   "outputs": [
    {
     "name": "stdout",
     "output_type": "stream",
     "text": [
      "False\n",
      "True\n",
      "True\n"
     ]
    }
   ],
   "source": [
    "# 2.1. Use bool() function  with integers → 0, 1, 100\n",
    "\n",
    "print(bool(0))\n",
    "print(bool(1))\n",
    "print(bool(100))"
   ]
  },
  {
   "cell_type": "code",
   "execution_count": 6,
   "id": "a3561cd4",
   "metadata": {},
   "outputs": [
    {
     "name": "stdout",
     "output_type": "stream",
     "text": [
      "False\n",
      "True\n",
      "True\n"
     ]
    }
   ],
   "source": [
    "# 2.2. Use bool() function with strings → '', ' ', 'Hello'\n",
    "\n",
    "print(bool(''))  # an empty string \n",
    "print(bool(' '))\n",
    "print(bool('Hello'))"
   ]
  },
  {
   "cell_type": "code",
   "execution_count": 7,
   "id": "9d71d29c",
   "metadata": {},
   "outputs": [
    {
     "name": "stdout",
     "output_type": "stream",
     "text": [
      "False\n",
      "True\n",
      "True\n"
     ]
    }
   ],
   "source": [
    "# 2.3. Use bool() function with lists → [], [0], [1, 2, 3]\n",
    "\n",
    "print(bool([]))  # an empty list\n",
    "print(bool([0]))\n",
    "print(bool([1, 2, 3]))"
   ]
  },
  {
   "cell_type": "code",
   "execution_count": 8,
   "id": "32ba1550",
   "metadata": {},
   "outputs": [
    {
     "name": "stdout",
     "output_type": "stream",
     "text": [
      "False\n"
     ]
    }
   ],
   "source": [
    "# 2.4. Use bool() functoin with None \n",
    "\n",
    "print(bool(None))"
   ]
  },
  {
   "cell_type": "markdown",
   "id": "90191849",
   "metadata": {},
   "source": [
    "🎯 Now you can guess what's happening with bool() function! \n",
    "\n",
    "**• Most values are True**\n",
    "\n",
    "1. Almost any value is evaluated to **True** if it has some sort of content!\n",
    "\n",
    "2. Any string is **True**, except `empty string1`. \n",
    "\n",
    "3. Any number is **True**, except `0`. \n",
    "\n",
    "4. Any list, tuple, set, and dictionary are **True**, except `empty ones`. \n",
    "\n",
    "\n",
    "👉🏼 In fact, there are not many values that evaluate to False, except empty values, such as `()`, `[]`, `{}`, `\"\"`, the number `0`, and the value `None`. "
   ]
  },
  {
   "cell_type": "markdown",
   "id": "de1fca2a",
   "metadata": {},
   "source": [
    "---\n",
    "<a name=\"4\"></a>\n",
    "## • Boolean Operators\n",
    "\n",
    "🔸 There are quite useful operators in Python which produce `boolean` result (True/False)\n",
    "\n",
    "- Comparison operators →  *== != > < >= <=* \n",
    "- Membership operators →  *in* *not in*\n",
    "- Logical operators →  *and* *or*\n",
    "\n",
    "---"
   ]
  },
  {
   "cell_type": "markdown",
   "id": "1d8f600b",
   "metadata": {},
   "source": [
    "<a name=\"4-1\"></a>\n",
    "### ° Comparison Operators\n",
    "\n",
    "🔸 There are some operators by which we're able to *compare* different object within Python."
   ]
  },
  {
   "cell_type": "code",
   "execution_count": 9,
   "id": "1b9f1a1b",
   "metadata": {},
   "outputs": [
    {
     "data": {
      "text/plain": [
       "True"
      ]
     },
     "execution_count": 9,
     "metadata": {},
     "output_type": "execute_result"
    }
   ],
   "source": [
    "# 3.1. Compare 'Python' & 'Python' with proper comparison operator\n",
    "\n",
    "'Python' == 'Python'"
   ]
  },
  {
   "cell_type": "code",
   "execution_count": 10,
   "id": "4405257c",
   "metadata": {},
   "outputs": [
    {
     "data": {
      "text/plain": [
       "False"
      ]
     },
     "execution_count": 10,
     "metadata": {},
     "output_type": "execute_result"
    }
   ],
   "source": [
    "# 3.2. Is 'Python' & 'python' identical? \n",
    "\n",
    "'Python' == 'python'"
   ]
  },
  {
   "cell_type": "code",
   "execution_count": 11,
   "id": "cd99e7f5",
   "metadata": {},
   "outputs": [
    {
     "data": {
      "text/plain": [
       "True"
      ]
     },
     "execution_count": 11,
     "metadata": {},
     "output_type": "execute_result"
    }
   ],
   "source": [
    "# 3.3. For matching words we can always use lower() method \n",
    "\n",
    "'Python'.lower() == 'python'"
   ]
  },
  {
   "cell_type": "code",
   "execution_count": 12,
   "id": "4d8d73bd",
   "metadata": {},
   "outputs": [
    {
     "data": {
      "text/plain": [
       "True"
      ]
     },
     "execution_count": 12,
     "metadata": {},
     "output_type": "execute_result"
    }
   ],
   "source": [
    "# 3.4. Use inequality operator to check not being equal for 'Python' & 'PYTHON'\n",
    "\n",
    "'Python' != 'PYTHON'"
   ]
  },
  {
   "cell_type": "code",
   "execution_count": 13,
   "id": "190112ed",
   "metadata": {},
   "outputs": [
    {
     "data": {
      "text/plain": [
       "False"
      ]
     },
     "execution_count": 13,
     "metadata": {},
     "output_type": "execute_result"
    }
   ],
   "source": [
    "# 3.5. Compare the length of the two string below\n",
    "# 3.5.1. 'hello' & 'goodbye' \n",
    "# 3.6.1. 5 > 7 → False\n",
    "\n",
    "len('Hello') > len('Goodbye')"
   ]
  },
  {
   "cell_type": "markdown",
   "id": "b96eec68",
   "metadata": {},
   "source": [
    "<a name=\"4-2\"></a>\n",
    "### ° Membership Operators\n",
    "\n",
    "🔸 **Membership operators** check if a *value* exitst inside of an *iterable*.\n",
    "\n",
    "- `in` and `not in` are reserved keywords in Python to check if a value *exists* or *doesn't exist* in an iterable."
   ]
  },
  {
   "cell_type": "code",
   "execution_count": 14,
   "id": "5ec34b74",
   "metadata": {},
   "outputs": [
    {
     "data": {
      "text/plain": [
       "True"
      ]
     },
     "execution_count": 14,
     "metadata": {},
     "output_type": "execute_result"
    }
   ],
   "source": [
    "# 4.1. Check if 'he' is in 'hello'\n",
    "\n",
    "'he' in 'hello'"
   ]
  },
  {
   "cell_type": "code",
   "execution_count": 15,
   "id": "8ba4fad4",
   "metadata": {},
   "outputs": [
    {
     "data": {
      "text/plain": [
       "True"
      ]
     },
     "execution_count": 15,
     "metadata": {},
     "output_type": "execute_result"
    }
   ],
   "source": [
    "# 4.2. Check if 'March' is in date\n",
    "date = '24-March-2024'\n",
    "\n",
    "# 4.2.1 Check here\n",
    "'March' in date"
   ]
  },
  {
   "cell_type": "code",
   "execution_count": 16,
   "id": "037d9780",
   "metadata": {},
   "outputs": [
    {
     "data": {
      "text/plain": [
       "True"
      ]
     },
     "execution_count": 16,
     "metadata": {},
     "output_type": "execute_result"
    }
   ],
   "source": [
    "# 4.3. Check if '24' is in date\n",
    "\n",
    "'24' in date"
   ]
  },
  {
   "cell_type": "code",
   "execution_count": 17,
   "id": "a9a9789c",
   "metadata": {},
   "outputs": [
    {
     "data": {
      "text/plain": [
       "False"
      ]
     },
     "execution_count": 17,
     "metadata": {},
     "output_type": "execute_result"
    }
   ],
   "source": [
    "# 4.4. Check if 'July' is in date\n",
    "\n",
    "'July' in date"
   ]
  },
  {
   "cell_type": "code",
   "execution_count": 18,
   "id": "ad0b6c65",
   "metadata": {},
   "outputs": [
    {
     "data": {
      "text/plain": [
       "True"
      ]
     },
     "execution_count": 18,
     "metadata": {},
     "output_type": "execute_result"
    }
   ],
   "source": [
    "# 4.5. Use 'not in' to check if 'July' is not in date\n",
    "\n",
    "'July' not in date"
   ]
  },
  {
   "cell_type": "code",
   "execution_count": 19,
   "id": "4487ceb0",
   "metadata": {},
   "outputs": [
    {
     "data": {
      "text/plain": [
       "True"
      ]
     },
     "execution_count": 19,
     "metadata": {},
     "output_type": "execute_result"
    }
   ],
   "source": [
    "# 4.6. Use 'in' to check if 7 exists inside my_list\n",
    "my_list = [0, 7, 14]\n",
    "\n",
    "# 4.6.1. Check here\n",
    "7 in my_list"
   ]
  },
  {
   "cell_type": "markdown",
   "id": "ca51f21a",
   "metadata": {},
   "source": [
    "<a name=\"4-3\"></a>\n",
    "### ° Logical Operators\n",
    "\n",
    "🔸 **Logical operators** combine multiple *comparison expressios*\n",
    "\n",
    "- `and` and `or` are reserved keywords for this purpose"
   ]
  },
  {
   "cell_type": "code",
   "execution_count": 20,
   "id": "47c0148e",
   "metadata": {},
   "outputs": [],
   "source": [
    "# 5.0. My variables\n",
    "date = '24-March-2024'\n",
    "item = 'Boots'\n",
    "my_list = [0, 7, 14]"
   ]
  },
  {
   "cell_type": "code",
   "execution_count": 21,
   "id": "51bbcdf8",
   "metadata": {},
   "outputs": [
    {
     "data": {
      "text/plain": [
       "False"
      ]
     },
     "execution_count": 21,
     "metadata": {},
     "output_type": "execute_result"
    }
   ],
   "source": [
    "# 5.1. Check if 'March' is in date & item equals 'Sunglasses'\n",
    "# NOTE: You need an operator to combine to expressions!\n",
    "\n",
    "'March' in date and item == 'Sunglasses'"
   ]
  },
  {
   "cell_type": "markdown",
   "id": "05ef0843",
   "metadata": {},
   "source": [
    "### ° I can prove short circuiting exists!"
   ]
  },
  {
   "cell_type": "code",
   "execution_count": 22,
   "id": "7e0e127f",
   "metadata": {},
   "outputs": [
    {
     "data": {
      "text/plain": [
       "True"
      ]
     },
     "execution_count": 22,
     "metadata": {},
     "output_type": "execute_result"
    }
   ],
   "source": [
    "# 5.2. Short circuiting for 'and' & 'or'\n",
    "# 5.2.1. and → first expression → False → ignore the rest\n",
    "# 5.2.2. or → first expression → True → ignore the rest\n",
    "\n",
    "'March' in date or something > 5"
   ]
  },
  {
   "cell_type": "markdown",
   "id": "6d5778ac",
   "metadata": {},
   "source": [
    "🔸 In the above cell, I used an **undefined variable name**-something- to prove short circuiting exists beneath Python boolean operations. As you might have been guessed because the first expressions in\n",
    "\n",
    "```python \n",
    "'March' in date\n",
    "``` \n",
    "got evaluated to **True**, Python will *ignore the rest of the expression* so even if I have an undefined variable name but I *didn't get NameError*!\n",
    "\n"
   ]
  },
  {
   "cell_type": "markdown",
   "id": "932bc17c",
   "metadata": {},
   "source": [
    "<a name=\"4-4\"></a>\n",
    "### 💪🏼 Do it yourself\n",
    "\n",
    "🔸 Change the code below and use short circuiting principle to avoid facing *NameError*"
   ]
  },
  {
   "cell_type": "code",
   "execution_count": 28,
   "id": "43ca593d",
   "metadata": {},
   "outputs": [
    {
     "data": {
      "text/plain": [
       "False"
      ]
     },
     "execution_count": 28,
     "metadata": {},
     "output_type": "execute_result"
    }
   ],
   "source": [
    "# Think about it -> produces False\n",
    "'March' not in date  and  a_number > 100"
   ]
  },
  {
   "cell_type": "markdown",
   "id": "2cdd13f4",
   "metadata": {},
   "source": [
    "<a name=\"4-5\"></a>\n",
    "### ° Parentheses \n",
    "\n",
    "🔸 To control the order of Boolean operations, you can use **parentheses** with True/False expressions!  "
   ]
  },
  {
   "cell_type": "code",
   "execution_count": 24,
   "id": "2f8388ef",
   "metadata": {},
   "outputs": [
    {
     "data": {
      "text/plain": [
       "True"
      ]
     },
     "execution_count": 24,
     "metadata": {},
     "output_type": "execute_result"
    }
   ],
   "source": [
    "# Use parentheses to control the order of Boolean operations!\n",
    "\n",
    "7 in my_list or ('24' in date and '2025' in date)"
   ]
  },
  {
   "cell_type": "code",
   "execution_count": 25,
   "id": "247ee1e5",
   "metadata": {},
   "outputs": [
    {
     "data": {
      "text/plain": [
       "False"
      ]
     },
     "execution_count": 25,
     "metadata": {},
     "output_type": "execute_result"
    }
   ],
   "source": [
    "# Use parentheseto control the order of Boolean operations!\n",
    "\n",
    "(7 in my_list or '24' in date) and '2025' in date"
   ]
  },
  {
   "cell_type": "markdown",
   "id": "07ae3aad",
   "metadata": {},
   "source": [
    "---\n",
    "<a name=\"end\"></a>\n",
    "### Congrats! \n",
    "\n",
    "🔥 Let's go to the next session.\n",
    "\n",
    "📝 This Jupyter notebook has been created by [Ahmad Ahmadi](https://www.linkedin.com/in/ahmad-ahmadi95/) follow me and [izlearn](https://www.linkedin.com/company/izlearn) on the LinkedIn social media.  \n",
    "\n",
    "🌐 Visit your website for more courses [izlearn.ir](https://izlearn.ir)\n"
   ]
  }
 ],
 "metadata": {
  "kernelspec": {
   "display_name": "Python 3 (ipykernel)",
   "language": "python",
   "name": "python3"
  },
  "language_info": {
   "codemirror_mode": {
    "name": "ipython",
    "version": 3
   },
   "file_extension": ".py",
   "mimetype": "text/x-python",
   "name": "python",
   "nbconvert_exporter": "python",
   "pygments_lexer": "ipython3",
   "version": "3.9.5"
  }
 },
 "nbformat": 4,
 "nbformat_minor": 5
}
