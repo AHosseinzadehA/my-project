{
 "cells": [
  {
   "cell_type": "markdown",
   "id": "c478ab08",
   "metadata": {},
   "source": [
    "## • Inventory Message\n",
    "\n",
    "🔸 We want to disply a *proper message* when the following conditions happen:\n",
    "\n",
    "* If inventory is **negative** or **0**, print **\"OUT OF STOCK\"**\n",
    "* If inventory is **greater than 0**, and **less than or equal to 5**, print **\"Low Stock\"**\n",
    "* If inventory is **anything else**, print **\"In Stock\"**. \n"
   ]
  },
  {
   "cell_type": "code",
   "execution_count": 1,
   "id": "2fcf2261",
   "metadata": {},
   "outputs": [],
   "source": [
    "# 1. Current inventory\n",
    "inventory = 5"
   ]
  },
  {
   "cell_type": "code",
   "execution_count": 3,
   "id": "3654c9ae",
   "metadata": {},
   "outputs": [
    {
     "name": "stdout",
     "output_type": "stream",
     "text": [
      "Low Stock\n"
     ]
    }
   ],
   "source": [
    "# 2. Your logic goes here:\n",
    "if   inventory <= 0:\n",
    "    print(\"OUT OF STOCK\")\n",
    "elif 0 < inventory <= 5: \n",
    "    print(\"Low Stock\")\n",
    "else:\n",
    "    print(\"In Stock\")\n"
   ]
  },
  {
   "cell_type": "markdown",
   "id": "20a05a9f",
   "metadata": {},
   "source": [
    "---\n",
    "<a name=\"end\"></a>\n",
    "### Congrats! \n",
    "\n",
    "🔥 Let's go to the next session.\n",
    "\n",
    "📝 This Jupyter notebook has been created by [Ahmad Ahmadi](https://www.linkedin.com/in/ahmad-ahmadi95/).Please follow me and [izlearn](https://www.linkedin.com/company/izlearn) on the LinkedIn social media.  \n",
    "\n",
    "🌐 Visit your website for more courses [izlearn.ir](https://izlearn.ir)\n"
   ]
  }
 ],
 "metadata": {
  "kernelspec": {
   "display_name": "Python 3 (ipykernel)",
   "language": "python",
   "name": "python3"
  },
  "language_info": {
   "codemirror_mode": {
    "name": "ipython",
    "version": 3
   },
   "file_extension": ".py",
   "mimetype": "text/x-python",
   "name": "python",
   "nbconvert_exporter": "python",
   "pygments_lexer": "ipython3",
   "version": "3.9.5"
  }
 },
 "nbformat": 4,
 "nbformat_minor": 5
}
