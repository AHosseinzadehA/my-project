{
 "cells": [
  {
   "cell_type": "markdown",
   "id": "fcb5acbb",
   "metadata": {},
   "source": [
    "## • Product Inventory Logic\n",
    "\n",
    "🔸 I need you to create some logic that returns [Boolean values](https://www.w3schools.com/python/python_booleans.asp) depending on **inventory levels** and other factors. Our **current** inventory level is **30 units**.\n"
   ]
  },
  {
   "cell_type": "code",
   "execution_count": 1,
   "id": "231e5837",
   "metadata": {},
   "outputs": [],
   "source": [
    "# 1. Current inventory\n",
    "inventory_count = 30"
   ]
  },
  {
   "cell_type": "markdown",
   "id": "b0075634",
   "metadata": {},
   "source": [
    "### • Are we out of stock? \n",
    "\n",
    "🔸 Write logic that returns **True** if we have **0** unit of inventory."
   ]
  },
  {
   "cell_type": "code",
   "execution_count": 2,
   "id": "28937100",
   "metadata": {},
   "outputs": [
    {
     "name": "stdout",
     "output_type": "stream",
     "text": [
      "False\n"
     ]
    }
   ],
   "source": [
    "if inventory_count == 0:\n",
    "    print(True)\n",
    "else:\n",
    "    print(False)"
   ]
  },
  {
   "cell_type": "markdown",
   "id": "459c16ff",
   "metadata": {},
   "source": [
    "### • Our inventroy level is safe?\n",
    "\n",
    "🔸 Write logic that returns **True** if we have **more than 10 units** of inventory. "
   ]
  },
  {
   "cell_type": "code",
   "execution_count": 3,
   "id": "237a805d",
   "metadata": {},
   "outputs": [
    {
     "name": "stdout",
     "output_type": "stream",
     "text": [
      "True\n"
     ]
    }
   ],
   "source": [
    "if inventory_count > 10:\n",
    "    print(True)"
   ]
  },
  {
   "cell_type": "markdown",
   "id": "f7d9bc71",
   "metadata": {},
   "source": [
    "### • Discount amount \n",
    "\n",
    "🔸 Alright! Now write logic that applies **15% discount** if the inventory level is **less than 10** and calculates the amount of discount. Because we want to sell the remaining products as soon as possible 🙂\n",
    "\n",
    "(It's preferable to **round** the final answer to the nearest euro)\n",
    "\n",
    "- our current price is **29.99**."
   ]
  },
  {
   "cell_type": "code",
   "execution_count": 4,
   "id": "bc2af44c",
   "metadata": {},
   "outputs": [],
   "source": [
    "inventory_count = 6\n",
    "discount = 0.15\n",
    "price = 29.99"
   ]
  },
  {
   "cell_type": "code",
   "execution_count": 5,
   "id": "f1e9c198",
   "metadata": {},
   "outputs": [],
   "source": [
    "# Write your logic here\n",
    "if inventory_count < 10:\n",
    "    discount_amount = round((price * discount), 1)\n"
   ]
  },
  {
   "cell_type": "code",
   "execution_count": 6,
   "id": "1ef5d21a",
   "metadata": {},
   "outputs": [
    {
     "data": {
      "text/plain": [
       "4.5"
      ]
     },
     "execution_count": 6,
     "metadata": {},
     "output_type": "execute_result"
    }
   ],
   "source": [
    "discount_amount"
   ]
  },
  {
   "cell_type": "markdown",
   "id": "9a6b5479",
   "metadata": {},
   "source": [
    "### • Should we have discount? True / False\n",
    "\n",
    "🔸 Now we need logic to display discounts in True/False if the *inventory level* is **greater than 0** and **less than 6** and the *price* is **less than 25**."
   ]
  },
  {
   "cell_type": "code",
   "execution_count": 7,
   "id": "3412f155",
   "metadata": {},
   "outputs": [],
   "source": [
    "inventory_count = 3\n",
    "price = 29.99"
   ]
  },
  {
   "cell_type": "code",
   "execution_count": 15,
   "id": "1e472a51",
   "metadata": {},
   "outputs": [
    {
     "name": "stdout",
     "output_type": "stream",
     "text": [
      "False\n"
     ]
    }
   ],
   "source": [
    "# Write your logic here\n",
    "if inventory_count > 0  and  inventory_count < 6  and  price < 25:\n",
    "    print(True)\n",
    "else:\n",
    "    print(False)\n"
   ]
  },
  {
   "cell_type": "markdown",
   "id": "196e8057",
   "metadata": {},
   "source": [
    "### • Special customer? True / Fasle\n",
    "\n",
    "🔸 Finally, we need to create logic that returns **True** if *inventory* is greater than **0**, or the *customer's id* is **Amir97** and the *birthday date* is **7-Jan-98**. \n",
    "\n",
    "📋 *Here is the story*: \n",
    "\n",
    "🔸 **Amir Ahmadi** is our special customer! because in month he buys almost three different products from our website. So our marketing team decided to create a list of special customers. The policy is in their birthday we want to give them a free product of their choice. Therefore we need a logic to handle this for us! "
   ]
  },
  {
   "cell_type": "code",
   "execution_count": 9,
   "id": "b6209fd0",
   "metadata": {},
   "outputs": [],
   "source": [
    "inventory_count = 2\n",
    "customer_id = 'Amir97'\n",
    "birthday = '7-Jan-98'"
   ]
  },
  {
   "cell_type": "code",
   "execution_count": 10,
   "id": "811f4a24",
   "metadata": {},
   "outputs": [],
   "source": [
    "# Write your logic here\n",
    "if inventory_count > 0  or  customer_id == Amir97  or  birthday == 7-Jan-98 :\n",
    "    print(True)\n",
    "    "
   ]
  },
  {
   "cell_type": "markdown",
   "id": "406d40e3",
   "metadata": {},
   "source": [
    "---\n",
    "<a name=\"end\"></a>\n",
    "### Congrats! \n",
    "\n",
    "🔥 Let's go to the next session.\n",
    "\n",
    "📝 This Jupyter notebook has been created by [Ahmad Ahmadi](https://www.linkedin.com/in/ahmad-ahmadi95/).Please follow me and [izlearn](https://www.linkedin.com/company/izlearn) on the LinkedIn social media.  \n",
    "\n",
    "🌐 Visit your website for more courses [izlearn.ir](https://izlearn.ir)\n"
   ]
  }
 ],
 "metadata": {
  "kernelspec": {
   "display_name": "Python 3 (ipykernel)",
   "language": "python",
   "name": "python3"
  },
  "language_info": {
   "codemirror_mode": {
    "name": "ipython",
    "version": 3
   },
   "file_extension": ".py",
   "mimetype": "text/x-python",
   "name": "python",
   "nbconvert_exporter": "python",
   "pygments_lexer": "ipython3",
   "version": "3.9.5"
  }
 },
 "nbformat": 4,
 "nbformat_minor": 5
}
