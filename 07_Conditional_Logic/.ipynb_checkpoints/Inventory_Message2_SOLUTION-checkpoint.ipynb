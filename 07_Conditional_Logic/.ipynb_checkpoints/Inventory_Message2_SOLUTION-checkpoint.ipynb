{
 "cells": [
  {
   "cell_type": "markdown",
   "id": "c9eb8251",
   "metadata": {},
   "source": [
    "## • Inventory Message - VIP Request\n",
    "\n",
    "🔸 Hi there, modify the previous inventory logic to handle a **special customer**. \n",
    "\n",
    "* Print **out of stock** If the inventory is **zero** or **less**, unless our customer's id is **Ahmad95**.\n",
    "    * If inventory is **0**, we can give our customer whose id is **Ahmad95** the **Black Jeans**. \n",
    "\n",
    "    \n",
    "**NOTE:** The rest of logic should stay the same"
   ]
  },
  {
   "cell_type": "markdown",
   "id": "cacac282",
   "metadata": {},
   "source": [
    "---\n",
    "💡 **Guidance Note**\n",
    "\n",
    "🔸 There are `two possible solutions` for this assignment! \n",
    "\n",
    "- With **nested if statement**\n",
    "```python\n",
    "if condition A:\n",
    "    if condition B:\n",
    "        pass\n",
    "```\n",
    "\n",
    "\n",
    "- With **logical** operators\n",
    "```python\n",
    "if condition A and condition B:\n",
    "    pass\n",
    "```\n",
    "---"
   ]
  },
  {
   "cell_type": "code",
   "execution_count": 10,
   "id": "78c2ffae",
   "metadata": {},
   "outputs": [],
   "source": [
    "# Change these variables to test your code!\n",
    "inventory = 0\n",
    "customer_id = \"Ahmad95\""
   ]
  },
  {
   "cell_type": "markdown",
   "id": "0605e3b0",
   "metadata": {},
   "source": [
    "### • Previous Version\n",
    "Last time we've created this logic for `Inventory Message V1`!\n"
   ]
  },
  {
   "cell_type": "code",
   "execution_count": null,
   "id": "4d5561ae",
   "metadata": {},
   "outputs": [],
   "source": [
    "# Previous version:\n",
    "if inventory <= 0:\n",
    "    print('OUT OF STOCK')\n",
    "elif inventory <= 5:\n",
    "    print('Low Stock')\n",
    "else:\n",
    "    print('In Stock') "
   ]
  },
  {
   "cell_type": "markdown",
   "id": "8bfaf5b1",
   "metadata": {},
   "source": [
    "###  • With nested if"
   ]
  },
  {
   "cell_type": "code",
   "execution_count": 8,
   "id": "e4ba6d15",
   "metadata": {},
   "outputs": [
    {
     "name": "stdout",
     "output_type": "stream",
     "text": [
      "You can have the Black Jeans, sir.\n"
     ]
    }
   ],
   "source": [
    "# New version goes here: (SOLUTION ONE)\n",
    "\n",
    "if inventory <= 0:\n",
    "    if customer_id == 'Ahmad95':\n",
    "        print('You can have the Black Jeans, sir.')\n",
    "    else:\n",
    "        print('OUT OF STOCK')\n",
    "elif inventory <= 5:\n",
    "    print('Low Stock')\n",
    "else:\n",
    "    print('In Stock') "
   ]
  },
  {
   "cell_type": "markdown",
   "id": "61eb78c6",
   "metadata": {},
   "source": [
    "### • Without nested if"
   ]
  },
  {
   "cell_type": "code",
   "execution_count": 11,
   "id": "2977a1eb",
   "metadata": {},
   "outputs": [
    {
     "name": "stdout",
     "output_type": "stream",
     "text": [
      "OUT OF STOCK\n"
     ]
    }
   ],
   "source": [
    "# New version goes here: (SOLUTION TWO)\n",
    "\n",
    "if (inventory <= 0 and customer_id == 'Ahmad95'):\n",
    "    print('You can have the Black Jeans, sir.')\n",
    "elif inventory <= 0:\n",
    "    print('OUT OF STOCK')\n",
    "elif inventory <= 5:\n",
    "    print('Low Stock')\n",
    "else:\n",
    "    print('In Stock')  "
   ]
  },
  {
   "cell_type": "markdown",
   "id": "f3d5f56f",
   "metadata": {},
   "source": [
    "---\n",
    "<a name=\"end\"></a>\n",
    "### Congrats! \n",
    "\n",
    "🔥 Let's go to the next session.\n",
    "\n",
    "📝 This Jupyter notebook has been created by [Ahmad Ahmadi](https://www.linkedin.com/in/ahmad-ahmadi95/).Please follow me and [izlearn](https://www.linkedin.com/company/izlearn) on the LinkedIn social media.  \n",
    "\n",
    "🌐 Visit your website for more courses [izlearn.ir](https://izlearn.ir)\n"
   ]
  }
 ],
 "metadata": {
  "kernelspec": {
   "display_name": "Python 3 (ipykernel)",
   "language": "python",
   "name": "python3"
  },
  "language_info": {
   "codemirror_mode": {
    "name": "ipython",
    "version": 3
   },
   "file_extension": ".py",
   "mimetype": "text/x-python",
   "name": "python",
   "nbconvert_exporter": "python",
   "pygments_lexer": "ipython3",
   "version": "3.9.5"
  }
 },
 "nbformat": 4,
 "nbformat_minor": 5
}
