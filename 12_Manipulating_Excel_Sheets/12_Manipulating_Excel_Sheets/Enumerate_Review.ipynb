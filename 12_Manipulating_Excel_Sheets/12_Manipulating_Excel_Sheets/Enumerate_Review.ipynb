{
 "cells": [
  {
   "cell_type": "markdown",
   "id": "047fb27a",
   "metadata": {},
   "source": [
    "#### • Table of the content\n",
    "\n",
    "1. [enumerate function (REVIEW)](#1)\n",
    "2. [A Simple Example](#2)\n",
    "3. [enumerate() & Openpyxl](#3)\n",
    "4. [More Info (Follow Me on LinkedIn)](#end)\n",
    "\n",
    "---"
   ]
  },
  {
   "cell_type": "markdown",
   "id": "eb5648c6",
   "metadata": {},
   "source": [
    "<a name=\"1\"></a>\n",
    "\n",
    "## 🔰 enumerate function (REVIEW)\n",
    "\n",
    "🔸 `enumerate( )` is a built-in Python function that **simplifies iteration** by adding a **counter** to an <font style=\"color:blue;font-size:2rem;font-weight:bold;\">iterable</font>."
   ]
  },
  {
   "cell_type": "markdown",
   "id": "08c91b3a",
   "metadata": {},
   "source": [
    "<a name=\"2\"></a>\n",
    "\n",
    "### 🔰 A Simple Example\n",
    "\n",
    "🔸 Loop through the list of names defined here using **enumerate**. "
   ]
  },
  {
   "cell_type": "code",
   "execution_count": 1,
   "id": "53a3e397",
   "metadata": {},
   "outputs": [],
   "source": [
    "names_list = [\"Ahmad\", \"Salar\", \"Ali\", \"Mohsen\"]\n",
    "scores = [80, 95, 98, 100]"
   ]
  },
  {
   "cell_type": "code",
   "execution_count": 2,
   "id": "63df7c4c",
   "metadata": {},
   "outputs": [
    {
     "name": "stdout",
     "output_type": "stream",
     "text": [
      "0 -> Ahmad -> 80\n",
      "1 -> Salar -> 95\n",
      "2 -> Ali -> 98\n",
      "3 -> Mohsen -> 100\n"
     ]
    }
   ],
   "source": [
    "# 1.Use enumerate(iterable)\n",
    "for index, name in enumerate(names_list):\n",
    "    print(f\"{index} -> {name}\")"
   ]
  },
  {
   "cell_type": "markdown",
   "id": "4cfad6c2",
   "metadata": {},
   "source": [
    "🔸 You can change the **starting index** using `start=` in `enumerate()` function."
   ]
  },
  {
   "cell_type": "code",
   "execution_count": 5,
   "id": "913c7dbb",
   "metadata": {},
   "outputs": [
    {
     "name": "stdout",
     "output_type": "stream",
     "text": [
      "1 -> Ahmad\n",
      "2 -> Salar\n",
      "3 -> Ali\n",
      "4 -> Mohsen\n"
     ]
    }
   ],
   "source": [
    "# 2.Use enumerate(iterable, start=?):\n",
    "for index, name in enumerate(names_list, start=1):\n",
    "    print(f\"{index} -> {name}\")"
   ]
  },
  {
   "cell_type": "markdown",
   "id": "f807abb7",
   "metadata": {},
   "source": [
    "<a name=\"3\"></a>\n",
    "\n",
    "### 🔰 enumerate() and Openpyxl"
   ]
  },
  {
   "cell_type": "code",
   "execution_count": 6,
   "id": "71658196",
   "metadata": {},
   "outputs": [],
   "source": [
    "import openpyxl as xl"
   ]
  },
  {
   "cell_type": "code",
   "execution_count": 7,
   "id": "17df2f97",
   "metadata": {},
   "outputs": [],
   "source": [
    "workbook = xl.load_workbook('../../DATA/izshop_data.xlsx')"
   ]
  },
  {
   "cell_type": "code",
   "execution_count": 8,
   "id": "31a2227f",
   "metadata": {},
   "outputs": [],
   "source": [
    "items = workbook[\"Items\"]"
   ]
  },
  {
   "cell_type": "markdown",
   "id": "946bdba5",
   "metadata": {},
   "source": [
    "🔸 `work_sheet[\"column_name\"]` returns all **cells objects** existing in that column in a **tuple** which is an iterable for `enumerate()` function."
   ]
  },
  {
   "cell_type": "code",
   "execution_count": 11,
   "id": "66fbeffb",
   "metadata": {},
   "outputs": [
    {
     "data": {
      "text/plain": [
       "(<Cell 'Items'.C1>,\n",
       " <Cell 'Items'.C2>,\n",
       " <Cell 'Items'.C3>,\n",
       " <Cell 'Items'.C4>,\n",
       " <Cell 'Items'.C5>,\n",
       " <Cell 'Items'.C6>,\n",
       " <Cell 'Items'.C7>,\n",
       " <Cell 'Items'.C8>,\n",
       " <Cell 'Items'.C9>,\n",
       " <Cell 'Items'.C10>,\n",
       " <Cell 'Items'.C11>,\n",
       " <Cell 'Items'.C12>,\n",
       " <Cell 'Items'.C13>,\n",
       " <Cell 'Items'.C14>,\n",
       " <Cell 'Items'.C15>,\n",
       " <Cell 'Items'.C16>,\n",
       " <Cell 'Items'.C17>,\n",
       " <Cell 'Items'.C18>,\n",
       " <Cell 'Items'.C19>,\n",
       " <Cell 'Items'.C20>)"
      ]
     },
     "execution_count": 11,
     "metadata": {},
     "output_type": "execute_result"
    }
   ],
   "source": [
    "items[\"C\"]"
   ]
  },
  {
   "cell_type": "code",
   "execution_count": 15,
   "id": "0698e3b6",
   "metadata": {},
   "outputs": [
    {
     "data": {
      "text/plain": [
       "39"
      ]
     },
     "execution_count": 15,
     "metadata": {},
     "output_type": "execute_result"
    }
   ],
   "source": [
    "# 3.Grab the first element and print its value\n",
    "items[\"C\"][1].value"
   ]
  },
  {
   "cell_type": "code",
   "execution_count": 19,
   "id": "909c5ff9",
   "metadata": {},
   "outputs": [
    {
     "name": "stdout",
     "output_type": "stream",
     "text": [
      "C1 -> Price\n",
      "C2 -> 39\n",
      "C3 -> 52\n",
      "C4 -> 12\n",
      "C5 -> 35\n",
      "C6 -> 18\n",
      "C7 -> 18\n",
      "C8 -> 25\n",
      "C9 -> 18\n",
      "C10 -> 8\n",
      "C11 -> 8\n",
      "C12 -> 35\n",
      "C13 -> 20\n",
      "C14 -> 28\n",
      "C15 -> 37\n",
      "C16 -> 14\n",
      "C17 -> 5\n",
      "C18 -> 10\n",
      "C19 -> 25\n",
      "C20 -> 3\n"
     ]
    }
   ],
   "source": [
    "# 4.Use enumerate to loop through it\n",
    "for index, cell in enumerate(items[\"C\"], start=1):\n",
    "    print(f\"C{index} -> {cell.value}\")"
   ]
  },
  {
   "cell_type": "code",
   "execution_count": 21,
   "id": "8acfb95a",
   "metadata": {},
   "outputs": [
    {
     "name": "stdout",
     "output_type": "stream",
     "text": [
      "C1 Price\n",
      "C2 39\n",
      "C3 52\n",
      "C4 12\n",
      "C5 35\n",
      "C6 18\n",
      "C7 18\n",
      "C8 25\n",
      "C9 18\n",
      "C10 8\n",
      "C11 8\n",
      "C12 35\n",
      "C13 20\n",
      "C14 28\n",
      "C15 37\n",
      "C16 14\n",
      "C17 5\n",
      "C18 10\n",
      "C19 25\n",
      "C20 3\n"
     ]
    }
   ],
   "source": [
    "# Or we can use range() function!\n",
    "for index in range(1, items.max_row+1):\n",
    "    print(f\"C{index}\", items[f\"C{index}\"].value)"
   ]
  },
  {
   "cell_type": "markdown",
   "id": "5ad2dd92",
   "metadata": {},
   "source": [
    "---\n",
    "<a name=\"end\"></a>\n",
    "### Congrats! \n",
    "\n",
    "🔥 Let's go to the next session.\n",
    "\n",
    "📝 This Jupyter notebook has been created by [Ahmad Ahmadi](https://www.linkedin.com/in/ahmad-ahmadi95/). Please follow me and [izlearn](https://www.linkedin.com/company/izlearn) on LinkedIn social media.  \n",
    "\n",
    "🌐 Visit your website for more courses [izlearn.ir](https://izlearn.ir)"
   ]
  }
 ],
 "metadata": {
  "kernelspec": {
   "display_name": "Python 3 (ipykernel)",
   "language": "python",
   "name": "python3"
  },
  "language_info": {
   "codemirror_mode": {
    "name": "ipython",
    "version": 3
   },
   "file_extension": ".py",
   "mimetype": "text/x-python",
   "name": "python",
   "nbconvert_exporter": "python",
   "pygments_lexer": "ipython3",
   "version": "3.9.5"
  }
 },
 "nbformat": 4,
 "nbformat_minor": 5
}
