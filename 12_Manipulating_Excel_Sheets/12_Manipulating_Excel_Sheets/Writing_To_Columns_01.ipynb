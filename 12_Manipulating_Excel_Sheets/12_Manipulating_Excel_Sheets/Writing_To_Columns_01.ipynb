{
 "cells": [
  {
   "cell_type": "markdown",
   "id": "047fb27a",
   "metadata": {},
   "source": [
    "#### • Table of the content\n",
    "\n",
    "1. [Writing to Columns Using Openpyxl](#1)\n",
    "2. [Creating Column E (USD_Price)](#2)\n",
    "3. [Looping Through Column E](#3)\n",
    "4. [Creating Column C (Stock Status)](#4)\n",
    "5. [Looping Through Column C](#5)\n",
    "5. [Saving Result](#5)\n",
    "6. [More Info (Follow Me on LinkedIn)](#end)"
   ]
  },
  {
   "cell_type": "markdown",
   "id": "eb5648c6",
   "metadata": {},
   "source": [
    "<a name=\"1\"></a>\n",
    "\n",
    "### 🔰 Writing To Columns Using Openpyxl\n",
    "\n",
    "🔸 You can write data to cell by **assigning a value** to it **using the cell's coordinate**. "
   ]
  },
  {
   "cell_type": "code",
   "execution_count": 1,
   "id": "71658196",
   "metadata": {},
   "outputs": [],
   "source": [
    "import openpyxl as xl"
   ]
  },
  {
   "cell_type": "code",
   "execution_count": 2,
   "id": "17df2f97",
   "metadata": {},
   "outputs": [],
   "source": [
    "workbook = xl.load_workbook('../../DATA/izshop_data.xlsx')"
   ]
  },
  {
   "cell_type": "code",
   "execution_count": 3,
   "id": "0eec245b",
   "metadata": {},
   "outputs": [],
   "source": [
    "items = workbook[\"Items\"]"
   ]
  },
  {
   "cell_type": "markdown",
   "id": "c3162982",
   "metadata": {},
   "source": [
    "<a name=\"2\"></a>\n",
    "\n",
    "### 🔰 Creating `Column E` (USD_Price)\n",
    "\n",
    "- Create a column with header of `USD_Price`.\n",
    "\n",
    "- Use `exchange_rate` to convert prices in `column C` to **US dollor**. \n",
    "\n",
    "- Store the result as `column E` values."
   ]
  },
  {
   "cell_type": "code",
   "execution_count": 7,
   "id": "0e9b63c5",
   "metadata": {},
   "outputs": [
    {
     "name": "stdout",
     "output_type": "stream",
     "text": [
      "Done!\n"
     ]
    }
   ],
   "source": [
    "exchange_rate = 1.08\n",
    "\n",
    "# Create a column header named 'USD_Price'\n",
    "items[\"E1\"] = \"USD_Price\"\n",
    "# Loop Through column 'C' and do caluclations\n",
    "for index in range(2, items.max_row+1):\n",
    "    items[f\"E{index}\"] = round(items[f\"C{index}\"].value * exchange_rate, 2)\n",
    "    \n",
    "print(\"Done!\")"
   ]
  },
  {
   "cell_type": "markdown",
   "id": "87535045",
   "metadata": {},
   "source": [
    "<a name=\"3\"></a>\n",
    "\n",
    "### 🔰 Looping Through `Column E`"
   ]
  },
  {
   "cell_type": "code",
   "execution_count": 13,
   "id": "f50b8789",
   "metadata": {},
   "outputs": [
    {
     "name": "stdout",
     "output_type": "stream",
     "text": [
      "E1 -> USD_Price\n",
      "E2 -> 42.12\n",
      "E3 -> 56.16\n",
      "E4 -> 12.96\n",
      "E5 -> 37.8\n",
      "E6 -> 19.44\n",
      "E7 -> 19.44\n",
      "E8 -> 27.0\n",
      "E9 -> 19.44\n",
      "E10 -> 8.64\n",
      "E11 -> 8.64\n",
      "E12 -> 37.8\n",
      "E13 -> 21.6\n",
      "E14 -> 30.24\n",
      "E15 -> 39.96\n",
      "E16 -> 15.12\n",
      "E17 -> 5.4\n",
      "E18 -> 10.8\n",
      "E19 -> 27.0\n",
      "E20 -> 3.24\n"
     ]
    }
   ],
   "source": [
    "for index, cell in enumerate(items[\"E\"], start=1):\n",
    "    print(f\"E{index} -> {cell.value}\")"
   ]
  },
  {
   "cell_type": "markdown",
   "id": "9024193c",
   "metadata": {},
   "source": [
    "<a name=\"4\"></a>\n",
    "\n",
    "### 🔰 Creating `Column C` (Stock Status)\n",
    "\n",
    "- Open `izshop_data.xlsx` \n",
    "- On `Invenotry_Levels` Tab, you see column A and B\n",
    "- Create column **C based** on **column B** values\n",
    "- If `0 < stock level < 5 -> Low Stock`\n",
    "- If `stock level > 5 -> Healthy Stock`\n",
    "- If `stock level < 0 -> Out of Stock`"
   ]
  },
  {
   "cell_type": "code",
   "execution_count": 14,
   "id": "31a2227f",
   "metadata": {},
   "outputs": [],
   "source": [
    "inventories = workbook['Inventory_Levels']"
   ]
  },
  {
   "cell_type": "code",
   "execution_count": 15,
   "id": "bdb50296",
   "metadata": {},
   "outputs": [
    {
     "name": "stdout",
     "output_type": "stream",
     "text": [
      "Done!\n"
     ]
    }
   ],
   "source": [
    "for index, cell in enumerate(inventories[\"B\"], start=1):\n",
    "    if index==1:\n",
    "        inventories[f\"C{index}\"] = \"Stock Status\"\n",
    "    elif cell.value > 5:\n",
    "        inventories[f\"C{index}\"] = \"Healthy Stock\"\n",
    "    elif cell.value > 0:\n",
    "        inventories[f\"C{index}\"] = \"Low Stock\"\n",
    "    else:\n",
    "        inventories[f\"C{index}\"] = \"Out of Stock\"\n",
    "        \n",
    "print(\"Done!\")"
   ]
  },
  {
   "cell_type": "markdown",
   "id": "c2ff736f",
   "metadata": {},
   "source": [
    "<a name=\"5\"></a>\n",
    "\n",
    "### 🔰 Looping Through `Column C`"
   ]
  },
  {
   "cell_type": "code",
   "execution_count": 16,
   "id": "0d843d81",
   "metadata": {},
   "outputs": [
    {
     "name": "stdout",
     "output_type": "stream",
     "text": [
      "C1 -> Stock Status\n",
      "C2 -> Healthy Stock\n",
      "C3 -> Healthy Stock\n",
      "C4 -> Low Stock\n",
      "C5 -> Out of Stock\n",
      "C6 -> Low Stock\n",
      "C7 -> Low Stock\n",
      "C8 -> Out of Stock\n",
      "C9 -> Out of Stock\n",
      "C10 -> Healthy Stock\n",
      "C11 -> Low Stock\n",
      "C12 -> Healthy Stock\n",
      "C13 -> Low Stock\n",
      "C14 -> Low Stock\n",
      "C15 -> Healthy Stock\n",
      "C16 -> Low Stock\n",
      "C17 -> Healthy Stock\n",
      "C18 -> Healthy Stock\n",
      "C19 -> Healthy Stock\n",
      "C20 -> Healthy Stock\n"
     ]
    }
   ],
   "source": [
    "for index, cell in enumerate(inventories[\"C\"], start=1):\n",
    "    print(f\"C{index} -> {cell.value}\")"
   ]
  },
  {
   "cell_type": "markdown",
   "id": "b11b87d2",
   "metadata": {},
   "source": [
    "<a name=\"6\"></a>\n",
    "\n",
    "### 🔰 Saving Result!"
   ]
  },
  {
   "cell_type": "code",
   "execution_count": 17,
   "id": "5e571672",
   "metadata": {},
   "outputs": [
    {
     "name": "stdout",
     "output_type": "stream",
     "text": [
      "Done!\n"
     ]
    }
   ],
   "source": [
    "workbook.save(\"../../DATA/izshop_data_fixed.xlsx\")\n",
    "print(\"Done!\")"
   ]
  },
  {
   "cell_type": "markdown",
   "id": "5ad2dd92",
   "metadata": {},
   "source": [
    "---\n",
    "<a name=\"end\"></a>\n",
    "### Congrats! \n",
    "\n",
    "🔥 Let's go to the next session.\n",
    "\n",
    "📝 This Jupyter notebook has been created by [Ahmad Ahmadi](https://www.linkedin.com/in/ahmad-ahmadi95/). Please follow me and [izlearn](https://www.linkedin.com/company/izlearn) on LinkedIn social media.  \n",
    "\n",
    "🌐 Visit your website for more courses [izlearn.ir](https://izlearn.ir)"
   ]
  }
 ],
 "metadata": {
  "kernelspec": {
   "display_name": "Python 3 (ipykernel)",
   "language": "python",
   "name": "python3"
  },
  "language_info": {
   "codemirror_mode": {
    "name": "ipython",
    "version": 3
   },
   "file_extension": ".py",
   "mimetype": "text/x-python",
   "name": "python",
   "nbconvert_exporter": "python",
   "pygments_lexer": "ipython3",
   "version": "3.9.5"
  }
 },
 "nbformat": 4,
 "nbformat_minor": 5
}
