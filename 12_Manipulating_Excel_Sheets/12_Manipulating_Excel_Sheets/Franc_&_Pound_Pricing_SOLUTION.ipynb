{
 "cells": [
  {
   "cell_type": "markdown",
   "id": "b7551b16",
   "metadata": {},
   "source": [
    "## 🔰 New Currency Prices\n",
    "\n",
    "🔸 Hi there, we need to add **Swiss Franc** and **British Pound** pricing to our **`Items`** sheet. In the **`izshop_data_fixed.xlsx`** Excel workbook. \n",
    "\n",
    "🙋🏽‍♂️ <mark>I've included the code to read in the excel workbook below.</mark>"
   ]
  },
  {
   "cell_type": "code",
   "execution_count": 1,
   "id": "050dab09",
   "metadata": {},
   "outputs": [],
   "source": [
    "import openpyxl as xl"
   ]
  },
  {
   "cell_type": "code",
   "execution_count": 2,
   "id": "b644bb98",
   "metadata": {},
   "outputs": [],
   "source": [
    "wb = xl.load_workbook('../../DATA/izshop_data_fixed.xlsx')\n",
    "items = wb['Items']"
   ]
  },
  {
   "cell_type": "markdown",
   "id": "ffbd404a",
   "metadata": {},
   "source": [
    "### 🔰 Currency Converter\n",
    "\n",
    "🔸 Since we're going to be doing this **a few times** (and hopefully more in the future), let's create a `currency_converter` function to take a `price`, and `exchange rate`, returning a `converted price` rounded to two decimal places. "
   ]
  },
  {
   "cell_type": "code",
   "execution_count": 14,
   "id": "6450cf25",
   "metadata": {},
   "outputs": [],
   "source": [
    "def currency_converter(price, exchange_rate=1.08):\n",
    "    \"\"\"\n",
    "    This funciton converts a price to a different currency\n",
    "    using the specified exchange rate.\n",
    "    ----------\n",
    "    -Inputs:\n",
    "    1. price(float): The original price to be converted.\n",
    "    2.exchange_rate(float): The exchange rate from the original currency to the target currency.\n",
    "    Default is 1.08 (Euro to US Dollar).\n",
    "    \n",
    "    -Outputs:\n",
    "    1. converted_price(float): The converted price in the target currency.\n",
    "    \"\"\"\n",
    "    return round(price * exchange_rate,2)"
   ]
  },
  {
   "cell_type": "markdown",
   "id": "7489e4d7",
   "metadata": {},
   "source": [
    "### 🔰 Swiss Frank ([CHF](https://www.google.com/search?q=chf+currency+full+form))\n",
    "\n",
    "🔸 Now that we have a currency converter, create a column called `CHF_Price` to the right of the `USD_Price`.\n",
    "\n",
    "🙋🏽‍♂️ **Don't forget to addd column title - CHF_Price**."
   ]
  },
  {
   "cell_type": "code",
   "execution_count": 7,
   "id": "2240aaa0",
   "metadata": {},
   "outputs": [
    {
     "name": "stdout",
     "output_type": "stream",
     "text": [
      "Done!\n"
     ]
    }
   ],
   "source": [
    "# Write your code here\n",
    "frank_exchange_rate = 0.96\n",
    "items[\"F1\"] = \"CHF_Price\"\n",
    "for row in range(2, items.max_row+1):\n",
    "    items[f\"F{row}\"] = currency_converter(items[f\"C{row}\"].value, frank_exchange_rate)\n",
    "\n",
    "print(\"Done!\")"
   ]
  },
  {
   "cell_type": "markdown",
   "id": "fab20e97",
   "metadata": {},
   "source": [
    "### 🔰 Great Britain Pound (GBP)\n",
    "\n",
    "🔸 Next, create a British Pound column with the same method we did for Swiss Franc.\n",
    "\n",
    "🙋🏽‍♂️ Call this column **GBP_Price**. "
   ]
  },
  {
   "cell_type": "code",
   "execution_count": 17,
   "id": "fe35c17c",
   "metadata": {},
   "outputs": [
    {
     "name": "stdout",
     "output_type": "stream",
     "text": [
      "Done!\n"
     ]
    }
   ],
   "source": [
    "# Write your code here\n",
    "pound_exchange_rate = 0.86\n",
    "for row, cell in enumerate(items[\"C\"], start=1):\n",
    "    if row == 1:\n",
    "        items[f\"G{row}\"] = \"GBP_Price\"\n",
    "    else:\n",
    "        items[f\"G{row}\"] = currency_converter(cell.value, pound_exchange_rate)\n",
    "\n",
    "print(\"Done!\")"
   ]
  },
  {
   "cell_type": "markdown",
   "id": "53a6bcc4",
   "metadata": {},
   "source": [
    "### 🔰 Save Your Work!\n",
    "\n",
    "🔸 Finally, save your workbook as `izshop_data_fixed.xlsx`."
   ]
  },
  {
   "cell_type": "code",
   "execution_count": 18,
   "id": "3d7f16ce",
   "metadata": {},
   "outputs": [
    {
     "name": "stdout",
     "output_type": "stream",
     "text": [
      "Done!\n"
     ]
    }
   ],
   "source": [
    "wb.save(\"../../DATA/izshop_data_fixed.xlsx\")\n",
    "print(\"Done!\")"
   ]
  },
  {
   "cell_type": "markdown",
   "id": "170d275e",
   "metadata": {},
   "source": [
    "---\n",
    "<a name=\"end\"></a>\n",
    "### Congrats! \n",
    "\n",
    "🔥 Let's go to the next session.\n",
    "\n",
    "📝 This Jupyter notebook has been created by [Ahmad Ahmadi](https://www.linkedin.com/in/ahmad-ahmadi95/). Please follow me and [izlearn](https://www.linkedin.com/company/izlearn) on LinkedIn social media.  \n",
    "\n",
    "🌐 Visit your website for more courses [izlearn.ir](https://izlearn.ir)"
   ]
  }
 ],
 "metadata": {
  "kernelspec": {
   "display_name": "Python 3 (ipykernel)",
   "language": "python",
   "name": "python3"
  },
  "language_info": {
   "codemirror_mode": {
    "name": "ipython",
    "version": 3
   },
   "file_extension": ".py",
   "mimetype": "text/x-python",
   "name": "python",
   "nbconvert_exporter": "python",
   "pygments_lexer": "ipython3",
   "version": "3.9.5"
  }
 },
 "nbformat": 4,
 "nbformat_minor": 5
}
