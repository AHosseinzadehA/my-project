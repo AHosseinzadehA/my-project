{
 "cells": [
  {
   "cell_type": "markdown",
   "id": "a02deb5b",
   "metadata": {},
   "source": [
    "#### • Table of the content\n",
    "\n",
    "1. [Navigating Workbooks](#1)\n",
    "\n",
    "2. [Navigating Worksheets](#2)\n",
    "\n",
    "3. [Navigating Cells](#3)\n",
    "\n",
    "4. [More Info (Follow Me on LinkedIn)](#end)"
   ]
  },
  {
   "cell_type": "markdown",
   "id": "51220e5c",
   "metadata": {},
   "source": [
    "## Openpyxl package\n",
    "\n",
    "🔸 The **openpyxl** is a package designed for **reading** and **writing** Excel files."
   ]
  },
  {
   "cell_type": "code",
   "execution_count": 1,
   "id": "07dcdd8b",
   "metadata": {},
   "outputs": [],
   "source": [
    "import openpyxl as xl"
   ]
  },
  {
   "cell_type": "markdown",
   "id": "1ce60c0e",
   "metadata": {},
   "source": [
    "<a name=\"1\"></a>\n",
    "\n",
    "### Navigating Workbook\n",
    "\n",
    "🔸 We can use `xl.load_workbook(filename=\"path-to-excel-file.xlsx\")` to read in an Excel workbook.\n",
    "\n",
    "🔸 Read in an Excel file called; `izshop_data.xlsx`."
   ]
  },
  {
   "cell_type": "code",
   "execution_count": 2,
   "id": "d34c14bb",
   "metadata": {
    "scrolled": true
   },
   "outputs": [
    {
     "data": {
      "text/plain": [
       "<openpyxl.workbook.workbook.Workbook at 0x1f5e1582f40>"
      ]
     },
     "execution_count": 2,
     "metadata": {},
     "output_type": "execute_result"
    }
   ],
   "source": [
    "# 1.Without using any variable\n",
    "xl.load_workbook(filename = \"izshop_data.xlsx\")"
   ]
  },
  {
   "cell_type": "code",
   "execution_count": 5,
   "id": "a399f3c8",
   "metadata": {
    "scrolled": true
   },
   "outputs": [],
   "source": [
    "# 2.Use a variable to store Excel file\n",
    "workbook = xl.load_workbook(filename=\"izshop_data.xlsx\")"
   ]
  },
  {
   "cell_type": "code",
   "execution_count": 6,
   "id": "6a0625f5",
   "metadata": {},
   "outputs": [
    {
     "name": "stdout",
     "output_type": "stream",
     "text": [
      "<class 'openpyxl.workbook.workbook.Workbook'>\n"
     ]
    }
   ],
   "source": [
    "# 3.Use print() and type() to show 'workbook' type\n",
    "print(type(workbook))"
   ]
  },
  {
   "cell_type": "markdown",
   "id": "2da54452",
   "metadata": {},
   "source": [
    "### Attribute: Sheets Names\n",
    "\n",
    "🔸 We can use `.sheetnames` attribute to return the **existing sheet names** in our current workbook. "
   ]
  },
  {
   "cell_type": "code",
   "execution_count": 7,
   "id": "054ac951",
   "metadata": {},
   "outputs": [
    {
     "data": {
      "text/plain": [
       "['Items', 'Inventory_Levels', 'Orders']"
      ]
     },
     "execution_count": 7,
     "metadata": {},
     "output_type": "execute_result"
    }
   ],
   "source": [
    "workbook.sheetnames"
   ]
  },
  {
   "cell_type": "markdown",
   "id": "e5535353",
   "metadata": {},
   "source": [
    "### Attribute: Active Sheet\n",
    "\n",
    "🔸 We can use `.active` attribute to return active sheet in the notebook\n",
    "\n",
    "🔸 We can change the **active sheet** using this attribute too!"
   ]
  },
  {
   "cell_type": "code",
   "execution_count": 10,
   "id": "e3a3ffa9",
   "metadata": {},
   "outputs": [
    {
     "data": {
      "text/plain": [
       "<Worksheet \"Orders\">"
      ]
     },
     "execution_count": 10,
     "metadata": {},
     "output_type": "execute_result"
    }
   ],
   "source": [
    "# 4.Check for active sheet! (defualt is index 0)\n",
    "workbook.active"
   ]
  },
  {
   "cell_type": "code",
   "execution_count": 11,
   "id": "962b0765",
   "metadata": {},
   "outputs": [
    {
     "name": "stdout",
     "output_type": "stream",
     "text": [
      "<class 'openpyxl.worksheet.worksheet.Worksheet'>\n"
     ]
    }
   ],
   "source": [
    "# 5.Return its type\n",
    "print(type(workbook.active))"
   ]
  },
  {
   "cell_type": "code",
   "execution_count": 12,
   "id": "4ed3e91b",
   "metadata": {},
   "outputs": [
    {
     "data": {
      "text/plain": [
       "'Orders'"
      ]
     },
     "execution_count": 12,
     "metadata": {},
     "output_type": "execute_result"
    }
   ],
   "source": [
    "# 6.Return active sheet title\n",
    "workbook.active.title"
   ]
  },
  {
   "cell_type": "code",
   "execution_count": 13,
   "id": "d1f4ccca",
   "metadata": {},
   "outputs": [],
   "source": [
    "# 7.Change the active sheet from 'Items' to 'Inventory_Levels'\n",
    "workbook.active = 1"
   ]
  },
  {
   "cell_type": "code",
   "execution_count": 14,
   "id": "8abfb48a",
   "metadata": {},
   "outputs": [
    {
     "data": {
      "text/plain": [
       "<Worksheet \"Inventory_Levels\">"
      ]
     },
     "execution_count": 14,
     "metadata": {},
     "output_type": "execute_result"
    }
   ],
   "source": [
    "# 8.Check the active sheet now!\n",
    "workbook.active"
   ]
  },
  {
   "cell_type": "markdown",
   "id": "b5adcc51",
   "metadata": {},
   "source": [
    "<a name=\"2\"></a>\n",
    "\n",
    "### Navigating Worksheet\n",
    "\n",
    "🔸 `.active` attribute returns the **worksheet object** which is **activate** for openpyxl."
   ]
  },
  {
   "cell_type": "code",
   "execution_count": 15,
   "id": "24754849",
   "metadata": {},
   "outputs": [
    {
     "data": {
      "text/plain": [
       "<Worksheet \"Items\">"
      ]
     },
     "execution_count": 15,
     "metadata": {},
     "output_type": "execute_result"
    }
   ],
   "source": [
    "# 9.Return 'Items' worksheet as an object\n",
    "workbook[\"Items\"]"
   ]
  },
  {
   "cell_type": "code",
   "execution_count": 16,
   "id": "ab84577f",
   "metadata": {},
   "outputs": [
    {
     "data": {
      "text/plain": [
       "<Worksheet \"Inventory_Levels\">"
      ]
     },
     "execution_count": 16,
     "metadata": {},
     "output_type": "execute_result"
    }
   ],
   "source": [
    "# 10.Return 'Inventory_Levels' worksheet as an object\n",
    "workbook[\"Inventory_Levels\"]"
   ]
  },
  {
   "cell_type": "code",
   "execution_count": 17,
   "id": "01309b47",
   "metadata": {},
   "outputs": [
    {
     "data": {
      "text/plain": [
       "<Worksheet \"Orders\">"
      ]
     },
     "execution_count": 17,
     "metadata": {},
     "output_type": "execute_result"
    }
   ],
   "source": [
    "# 11.Return 'Orders' worksheet as an object\n",
    "workbook[\"Orders\"]"
   ]
  },
  {
   "cell_type": "markdown",
   "id": "3e10d416",
   "metadata": {},
   "source": [
    "🔸 Similar to Python keys in dictionaries, we're able to **return each object** existing in a workbook."
   ]
  },
  {
   "cell_type": "code",
   "execution_count": 18,
   "id": "52030d9b",
   "metadata": {},
   "outputs": [],
   "source": [
    "# 12.Store worksheets into a proper variable\n",
    "items = workbook[\"Items\"]\n",
    "inventories = workbook[\"Inventory_Levels\"]\n",
    "orders = workbook[\"Orders\"]"
   ]
  },
  {
   "cell_type": "markdown",
   "id": "98759dfd",
   "metadata": {},
   "source": [
    "### Attribute: Title"
   ]
  },
  {
   "cell_type": "code",
   "execution_count": 19,
   "id": "cd4dbc87",
   "metadata": {},
   "outputs": [
    {
     "data": {
      "text/plain": [
       "'Items'"
      ]
     },
     "execution_count": 19,
     "metadata": {},
     "output_type": "execute_result"
    }
   ],
   "source": [
    "# 13.Return 'Items' title using 'title' attribute\n",
    "items.title"
   ]
  },
  {
   "cell_type": "markdown",
   "id": "07a79cf8",
   "metadata": {},
   "source": [
    "### Attribute: Maximum Rows"
   ]
  },
  {
   "cell_type": "code",
   "execution_count": 20,
   "id": "f58f82fa",
   "metadata": {},
   "outputs": [
    {
     "data": {
      "text/plain": [
       "20"
      ]
     },
     "execution_count": 20,
     "metadata": {},
     "output_type": "execute_result"
    }
   ],
   "source": [
    "# 14.Return the number of rows existing in 'Items'\n",
    "items.max_row"
   ]
  },
  {
   "cell_type": "markdown",
   "id": "61fbb3d9",
   "metadata": {},
   "source": [
    "<a name=\"3\"></a>\n",
    "\n",
    "### Navigating Cells\n",
    "\n",
    "🔸 There are two ways to access **cells** exisiting within a **worksheet**. \n",
    "\n",
    "• **Excel coordinates** → `sheet_object[\"Excel coordinate\"]`\n",
    "\n",
    "• **Pythonic Indices** → `sheet_object.cell(row=number, column=number)`"
   ]
  },
  {
   "cell_type": "code",
   "execution_count": 21,
   "id": "f5186a1b",
   "metadata": {},
   "outputs": [
    {
     "data": {
      "text/plain": [
       "<Cell 'Items'.B3>"
      ]
     },
     "execution_count": 21,
     "metadata": {},
     "output_type": "execute_result"
    }
   ],
   "source": [
    "# 15.Return 'B3' cell as an object (Excel coordinates)\n",
    "items[\"B3\"]"
   ]
  },
  {
   "cell_type": "code",
   "execution_count": 22,
   "id": "4f06a5b7",
   "metadata": {},
   "outputs": [
    {
     "name": "stdout",
     "output_type": "stream",
     "text": [
      "<class 'openpyxl.cell.cell.Cell'>\n"
     ]
    }
   ],
   "source": [
    "# 16.Return its type\n",
    "print(type(items[\"B3\"]))"
   ]
  },
  {
   "cell_type": "code",
   "execution_count": 23,
   "id": "3d086e06",
   "metadata": {},
   "outputs": [
    {
     "data": {
      "text/plain": [
       "'Winter Coat'"
      ]
     },
     "execution_count": 23,
     "metadata": {},
     "output_type": "execute_result"
    }
   ],
   "source": [
    "# 17.Return 'B3' content (Excel coordinates)\n",
    "items[\"B3\"].value"
   ]
  },
  {
   "cell_type": "code",
   "execution_count": 24,
   "id": "d61d6ea3",
   "metadata": {},
   "outputs": [
    {
     "data": {
      "text/plain": [
       "'Winter Coat'"
      ]
     },
     "execution_count": 24,
     "metadata": {},
     "output_type": "execute_result"
    }
   ],
   "source": [
    "# 18. Return 'B3' content (Pythonic indices)\n",
    "items.cell(row=3, column=2).value"
   ]
  },
  {
   "cell_type": "markdown",
   "id": "5e4351cc",
   "metadata": {},
   "source": [
    "### Zero Index? \n",
    "\n",
    "🔸 In Python indices method, the **zero indexing** is not applied."
   ]
  },
  {
   "cell_type": "code",
   "execution_count": 25,
   "id": "827711fe",
   "metadata": {},
   "outputs": [
    {
     "ename": "ValueError",
     "evalue": "Row or column values must be at least 1",
     "output_type": "error",
     "traceback": [
      "\u001b[1;31m---------------------------------------------------------------------------\u001b[0m",
      "\u001b[1;31mValueError\u001b[0m                                Traceback (most recent call last)",
      "Cell \u001b[1;32mIn[25], line 2\u001b[0m\n\u001b[0;32m      1\u001b[0m \u001b[38;5;66;03m# 19.Check for row=0 and column=0\u001b[39;00m\n\u001b[1;32m----> 2\u001b[0m \u001b[43mitems\u001b[49m\u001b[38;5;241;43m.\u001b[39;49m\u001b[43mcell\u001b[49m\u001b[43m(\u001b[49m\u001b[43mrow\u001b[49m\u001b[38;5;241;43m=\u001b[39;49m\u001b[38;5;241;43m0\u001b[39;49m\u001b[43m,\u001b[49m\u001b[43m \u001b[49m\u001b[43mcolumn\u001b[49m\u001b[38;5;241;43m=\u001b[39;49m\u001b[38;5;241;43m0\u001b[39;49m\u001b[43m)\u001b[49m\n",
      "File \u001b[1;32mc:\\users\\arezoo\\desktop\\my_jupyters\\myenv\\lib\\site-packages\\openpyxl\\worksheet\\worksheet.py:242\u001b[0m, in \u001b[0;36mWorksheet.cell\u001b[1;34m(self, row, column, value)\u001b[0m\n\u001b[0;32m    221\u001b[0m \u001b[38;5;250m\u001b[39m\u001b[38;5;124;03m\"\"\"\u001b[39;00m\n\u001b[0;32m    222\u001b[0m \u001b[38;5;124;03mReturns a cell object based on the given coordinates.\u001b[39;00m\n\u001b[0;32m    223\u001b[0m \n\u001b[1;32m   (...)\u001b[0m\n\u001b[0;32m    238\u001b[0m \u001b[38;5;124;03m:rtype: openpyxl.cell.cell.Cell\u001b[39;00m\n\u001b[0;32m    239\u001b[0m \u001b[38;5;124;03m\"\"\"\u001b[39;00m\n\u001b[0;32m    241\u001b[0m \u001b[38;5;28;01mif\u001b[39;00m row \u001b[38;5;241m<\u001b[39m \u001b[38;5;241m1\u001b[39m \u001b[38;5;129;01mor\u001b[39;00m column \u001b[38;5;241m<\u001b[39m \u001b[38;5;241m1\u001b[39m:\n\u001b[1;32m--> 242\u001b[0m     \u001b[38;5;28;01mraise\u001b[39;00m \u001b[38;5;167;01mValueError\u001b[39;00m(\u001b[38;5;124m\"\u001b[39m\u001b[38;5;124mRow or column values must be at least 1\u001b[39m\u001b[38;5;124m\"\u001b[39m)\n\u001b[0;32m    244\u001b[0m cell \u001b[38;5;241m=\u001b[39m \u001b[38;5;28mself\u001b[39m\u001b[38;5;241m.\u001b[39m_get_cell(row, column)\n\u001b[0;32m    245\u001b[0m \u001b[38;5;28;01mif\u001b[39;00m value \u001b[38;5;129;01mis\u001b[39;00m \u001b[38;5;129;01mnot\u001b[39;00m \u001b[38;5;28;01mNone\u001b[39;00m:\n",
      "\u001b[1;31mValueError\u001b[0m: Row or column values must be at least 1"
     ]
    }
   ],
   "source": [
    "# 19.Check for row=0 and column=0\n",
    "items.cell(row=0, column=0)"
   ]
  },
  {
   "cell_type": "markdown",
   "id": "ce64091d",
   "metadata": {},
   "source": [
    "### Condition on cell value\n",
    "\n",
    "🔸 If `B2`'s value (`Inventory_Levels` worksheet) is less than **5**, then print **Low stock**. Else print **Healthy stock**."
   ]
  },
  {
   "cell_type": "code",
   "execution_count": 26,
   "id": "0d6736ed",
   "metadata": {},
   "outputs": [
    {
     "name": "stdout",
     "output_type": "stream",
     "text": [
      "Healthy stock\n"
     ]
    }
   ],
   "source": [
    "if inventories[\"B2\"].value < 5:\n",
    "    print(\"Low stock\")\n",
    "else:\n",
    "    print(\"Healthy stock\")"
   ]
  },
  {
   "cell_type": "markdown",
   "id": "6eadf20f",
   "metadata": {},
   "source": [
    "---\n",
    "<a name=\"end\"></a>\n",
    "### Congrats! \n",
    "\n",
    "🔥 Let's go to the next session.\n",
    "\n",
    "📝 This Jupyter notebook has been created by [Ahmad Ahmadi](https://www.linkedin.com/in/ahmad-ahmadi95/). Please follow me and [izlearn](https://www.linkedin.com/company/izlearn) on LinkedIn social media.  \n",
    "\n",
    "🌐 Visit your website for more courses [izlearn.ir](https://izlearn.ir)"
   ]
  }
 ],
 "metadata": {
  "kernelspec": {
   "display_name": "Python 3 (ipykernel)",
   "language": "python",
   "name": "python3"
  },
  "language_info": {
   "codemirror_mode": {
    "name": "ipython",
    "version": 3
   },
   "file_extension": ".py",
   "mimetype": "text/x-python",
   "name": "python",
   "nbconvert_exporter": "python",
   "pygments_lexer": "ipython3",
   "version": "3.9.5"
  }
 },
 "nbformat": 4,
 "nbformat_minor": 5
}
