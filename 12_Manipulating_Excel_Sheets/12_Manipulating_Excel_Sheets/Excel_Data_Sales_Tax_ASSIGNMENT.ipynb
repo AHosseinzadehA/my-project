{
 "cells": [
  {
   "cell_type": "markdown",
   "id": "5bfa62b9",
   "metadata": {},
   "source": [
    "## Excel Data Sales Tax \n",
    "\n",
    "🔸 We need to calculate the **sales tax** and **total** for customer **c1010** in the Excel workbook `izshop_data.xlsx`. Their transaction should be in row **D17**. Apply a sales tax of **7%**. \n",
    "\n",
    "First: \n",
    "\n",
    "* Import the openpyxl library.\n",
    "\n",
    "* Then load workbook. (Excel file)\n",
    "\n",
    "* Finally assign a name to the **Orders** sheet. "
   ]
  },
  {
   "cell_type": "code",
   "execution_count": 1,
   "id": "f6fb0e42",
   "metadata": {},
   "outputs": [],
   "source": [
    "import openpyxl as xl"
   ]
  },
  {
   "cell_type": "code",
   "execution_count": 2,
   "id": "259e4ac9",
   "metadata": {},
   "outputs": [
    {
     "data": {
      "text/plain": [
       "<openpyxl.workbook.workbook.Workbook at 0x2321b313f40>"
      ]
     },
     "execution_count": 2,
     "metadata": {},
     "output_type": "execute_result"
    }
   ],
   "source": [
    "# load izshop_data.xlsx in this cell\n",
    "xl.load_workbook(filename = \"izshop_data.xlsx\")"
   ]
  },
  {
   "cell_type": "code",
   "execution_count": 3,
   "id": "bd2def86",
   "metadata": {},
   "outputs": [],
   "source": [
    "workbook = xl.load_workbook(filename = \"izshop_data.xlsx\")"
   ]
  },
  {
   "cell_type": "markdown",
   "id": "62d8956f",
   "metadata": {},
   "source": [
    "### Sales Tax Calculation \n",
    "\n",
    "Calculate the **sales tax** and **total** for the transaction in cell **D17**. \n",
    "\n",
    "<span style=\"color:#FF416C;background-color:#E9E4F0;padding:3.6px;font-weight:bold;\">💡 Remeber we already have a tax calculator function to do this!</span>\n",
    "\n",
    "Consider printing your output with a string message!"
   ]
  },
  {
   "cell_type": "code",
   "execution_count": null,
   "id": "f3defc44",
   "metadata": {},
   "outputs": [],
   "source": []
  },
  {
   "cell_type": "code",
   "execution_count": null,
   "id": "3f941dc8",
   "metadata": {},
   "outputs": [],
   "source": []
  },
  {
   "cell_type": "code",
   "execution_count": 4,
   "id": "cbfde0be",
   "metadata": {},
   "outputs": [
    {
     "ename": "SyntaxError",
     "evalue": "f-string: empty expression not allowed (1491017313.py, line 1)",
     "output_type": "error",
     "traceback": [
      "\u001b[1;36m  Cell \u001b[1;32mIn[4], line 1\u001b[1;36m\u001b[0m\n\u001b[1;33m    print(f'Sales Tax: €{}')\u001b[0m\n\u001b[1;37m                           ^\u001b[0m\n\u001b[1;31mSyntaxError\u001b[0m\u001b[1;31m:\u001b[0m f-string: empty expression not allowed\n"
     ]
    }
   ],
   "source": [
    "print(f'Sales Tax: €{}')\n",
    "print(f'Total: €{}')"
   ]
  },
  {
   "cell_type": "markdown",
   "id": "71df2345",
   "metadata": {},
   "source": [
    "---\n",
    "<a name=\"end\"></a>\n",
    "### Congrats! \n",
    "\n",
    "🔥 Let's go to the next session.\n",
    "\n",
    "📝 This Jupyter notebook has been created by [Ahmad Ahmadi](https://www.linkedin.com/in/ahmad-ahmadi95/). Please follow me and [izlearn](https://www.linkedin.com/company/izlearn) on LinkedIn social media.  \n",
    "\n",
    "🌐 Visit your website for more courses [izlearn.ir](https://izlearn.ir)"
   ]
  }
 ],
 "metadata": {
  "kernelspec": {
   "display_name": "Python 3 (ipykernel)",
   "language": "python",
   "name": "python3"
  },
  "language_info": {
   "codemirror_mode": {
    "name": "ipython",
    "version": 3
   },
   "file_extension": ".py",
   "mimetype": "text/x-python",
   "name": "python",
   "nbconvert_exporter": "python",
   "pygments_lexer": "ipython3",
   "version": "3.9.5"
  }
 },
 "nbformat": 4,
 "nbformat_minor": 5
}
