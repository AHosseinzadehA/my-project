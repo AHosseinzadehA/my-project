{
 "cells": [
  {
   "cell_type": "markdown",
   "id": "047fb27a",
   "metadata": {},
   "source": [
    "#### • Table of the content\n",
    "\n",
    "1. [Looping Through Cells](#1)\n",
    "2. [More Info (Follow Me on LinkedIn)](#end)\n",
    "\n",
    "---"
   ]
  },
  {
   "cell_type": "markdown",
   "id": "eb5648c6",
   "metadata": {},
   "source": [
    "<a name=\"1\"></a>\n",
    "\n",
    "## Looping Through Cells\n",
    "\n",
    "🔸 `sheet.max_row` and `sheet.max_column` help us to determine the **number of rows** and **columns** within a **worksheet**.\n",
    "\n",
    "🔸 Then; we can use them as **stopping condition** in `for` loop."
   ]
  },
  {
   "cell_type": "code",
   "execution_count": 1,
   "id": "71658196",
   "metadata": {},
   "outputs": [],
   "source": [
    "import openpyxl as xl"
   ]
  },
  {
   "cell_type": "code",
   "execution_count": 2,
   "id": "17df2f97",
   "metadata": {},
   "outputs": [],
   "source": [
    "workbook = xl.load_workbook('../../DATA/izshop_data.xlsx')"
   ]
  },
  {
   "cell_type": "code",
   "execution_count": 4,
   "id": "31a2227f",
   "metadata": {},
   "outputs": [],
   "source": [
    "# 1.Store 'Items' worksheet into a variable\n",
    "items = workbook[\"Items\"]"
   ]
  },
  {
   "cell_type": "code",
   "execution_count": 5,
   "id": "bdb50296",
   "metadata": {},
   "outputs": [
    {
     "data": {
      "text/plain": [
       "20"
      ]
     },
     "execution_count": 5,
     "metadata": {},
     "output_type": "execute_result"
    }
   ],
   "source": [
    "# 2.How many rows 'Items' have?\n",
    "items.max_row"
   ]
  },
  {
   "cell_type": "code",
   "execution_count": 6,
   "id": "5e571672",
   "metadata": {},
   "outputs": [
    {
     "data": {
      "text/plain": [
       "4"
      ]
     },
     "execution_count": 6,
     "metadata": {},
     "output_type": "execute_result"
    }
   ],
   "source": [
    "# 3.How many columns 'Items' have?\n",
    "items.max_column"
   ]
  },
  {
   "cell_type": "code",
   "execution_count": 12,
   "id": "fce93c99",
   "metadata": {},
   "outputs": [
    {
     "name": "stdout",
     "output_type": "stream",
     "text": [
      "B1 Product_Name\n",
      "B2 Black Jacket\n",
      "B3 Winter Coat\n",
      "B4 Green Sweatshirt\n",
      "B5 Blue Hoodie\n",
      "B6 Blue Jeans\n",
      "B7 Black Jeans\n",
      "B8 Black Shoes\n",
      "B9 White Trainers\n",
      "B10 Green Beanie\n",
      "B11 Brown Belt \n",
      "B12 Grey Dress\n",
      "B13 Black T-Shirt Dress \n",
      "B14 Black Boots\n",
      "B15 Shoulder Bag\n",
      "B16 Black Sunglasses\n",
      "B17 Coral T-Shirt\n",
      "B18 Black Cap\n",
      "B19 Black Bag\n",
      "B20 Python T-shirt\n"
     ]
    }
   ],
   "source": [
    "# 4.Loop through each rows in column 'B' and print its value\n",
    "for row in range(1, items.max_row+1):\n",
    "    print(f\"B{row}\", items[f\"B{row}\"].value)"
   ]
  },
  {
   "cell_type": "code",
   "execution_count": 15,
   "id": "584e7779",
   "metadata": {},
   "outputs": [
    {
     "name": "stdout",
     "output_type": "stream",
     "text": [
      "B1 Product_Name\n",
      "B2 Black\n",
      "B3 Winter\n",
      "B4 Green\n",
      "B5 Blue\n",
      "B6 Blue\n",
      "B7 Black\n",
      "B8 Black\n",
      "B9 White\n",
      "B10 Green\n",
      "B11 Brown\n",
      "B12 Grey\n",
      "B13 Black\n",
      "B14 Black\n",
      "B15 Shoulder\n",
      "B16 Black\n",
      "B17 Coral\n",
      "B18 Black\n",
      "B19 Black\n",
      "B20 Python\n"
     ]
    }
   ],
   "source": [
    "# 5.Loop through each rows in column 'B' and just print items color\n",
    "for row in range(1, items.max_row+1):\n",
    "    print(f\"B{row}\", items[f\"B{row}\"].value.split()[0])"
   ]
  },
  {
   "cell_type": "markdown",
   "id": "44068903",
   "metadata": {},
   "source": [
    "### 💪🏼 Challenge\n",
    "\n",
    "🔸 Modify the previous code in order to print **all values** in all columns within `Items Sheet`. \n",
    "\n",
    "🔸 Use the provided list `columns`. "
   ]
  },
  {
   "cell_type": "code",
   "execution_count": 16,
   "id": "24cdc89a",
   "metadata": {},
   "outputs": [],
   "source": [
    "columns = [\"A\", \"B\", \"C\", \"D\"]"
   ]
  },
  {
   "cell_type": "code",
   "execution_count": 17,
   "id": "9f09b267",
   "metadata": {},
   "outputs": [],
   "source": [
    "items = workbook[\"Items\"]"
   ]
  },
  {
   "cell_type": "code",
   "execution_count": 23,
   "id": "72f0e950",
   "metadata": {},
   "outputs": [
    {
     "name": "stdout",
     "output_type": "stream",
     "text": [
      "\n",
      " ---Column A ---\n",
      "A1 Product_ID\n",
      "A2 P1000\n",
      "A3 P1001 \n",
      "A4 P1002\n",
      "A5 P1003\n",
      "A6 P1004\n",
      "A7 P1005\n",
      "A8 P1006\n",
      "A9 P1007\n",
      "A10 P1008\n",
      "A11 P1009\n",
      "A12 P1010\n",
      "A13 P1011\n",
      "A14 P1012\n",
      "A15 P1013\n",
      "A16 P1014\n",
      "A17 P1015\n",
      "A18 P1016\n",
      "A19 P1017\n",
      "A20 P1018\n",
      "\n",
      " ---Column B ---\n",
      "B1 Product_Name\n",
      "B2 Black Jacket\n",
      "B3 Winter Coat\n",
      "B4 Green Sweatshirt\n",
      "B5 Blue Hoodie\n",
      "B6 Blue Jeans\n",
      "B7 Black Jeans\n",
      "B8 Black Shoes\n",
      "B9 White Trainers\n",
      "B10 Green Beanie\n",
      "B11 Brown Belt \n",
      "B12 Grey Dress\n",
      "B13 Black T-Shirt Dress \n",
      "B14 Black Boots\n",
      "B15 Shoulder Bag\n",
      "B16 Black Sunglasses\n",
      "B17 Coral T-Shirt\n",
      "B18 Black Cap\n",
      "B19 Black Bag\n",
      "B20 Python T-shirt\n",
      "\n",
      " ---Column C ---\n",
      "C1 Price\n",
      "C2 39\n",
      "C3 52\n",
      "C4 12\n",
      "C5 35\n",
      "C6 18\n",
      "C7 18\n",
      "C8 25\n",
      "C9 18\n",
      "C10 8\n",
      "C11 8\n",
      "C12 35\n",
      "C13 20\n",
      "C14 28\n",
      "C15 37\n",
      "C16 14\n",
      "C17 5\n",
      "C18 10\n",
      "C19 25\n",
      "C20 3\n",
      "\n",
      " ---Column D ---\n",
      "D1 Available_Sizes\n",
      "D2 S, L, XL\n",
      "D3 S, L, XL \n",
      "D4 S, L, XL, XXL\n",
      "D5 Free Size\n",
      "D6 S, L, XL, XXL\n",
      "D7 S, L, XL, XXL \n",
      "D8 1, 2, 3, 4, 5\n",
      "D9 1, 2, 3, 4, 5, 6\n",
      "D10 Free Size\n",
      "D11 One Size\n",
      "D12 S, L\n",
      "D13 S, L \n",
      "D14 1, 2, 3, 4, 5\n",
      "D15 One Size\n",
      "D16 One Size\n",
      "D17 XS, S, L, XL, XXL\n",
      "D18 Free Size\n",
      "D19 One Size\n",
      "D20 S, L, XL\n"
     ]
    }
   ],
   "source": [
    "# 6. Write your logic here\n",
    "for column in columns:\n",
    "    print(f\"\\n ---Column {column} ---\")\n",
    "    for row in range(1, items.max_row+1):\n",
    "        print(f\"{column}{row}\", items[f\"{column}{row}\"].value)"
   ]
  },
  {
   "cell_type": "markdown",
   "id": "5ad2dd92",
   "metadata": {},
   "source": [
    "---\n",
    "<a name=\"end\"></a>\n",
    "### Congrats! \n",
    "\n",
    "🔥 Let's go to the next session.\n",
    "\n",
    "📝 This Jupyter notebook has been created by [Ahmad Ahmadi](https://www.linkedin.com/in/ahmad-ahmadi95/). Please follow me and [izlearn](https://www.linkedin.com/company/izlearn) on LinkedIn social media.  \n",
    "\n",
    "🌐 Visit your website for more courses [izlearn.ir](https://izlearn.ir)"
   ]
  }
 ],
 "metadata": {
  "kernelspec": {
   "display_name": "Python 3 (ipykernel)",
   "language": "python",
   "name": "python3"
  },
  "language_info": {
   "codemirror_mode": {
    "name": "ipython",
    "version": 3
   },
   "file_extension": ".py",
   "mimetype": "text/x-python",
   "name": "python",
   "nbconvert_exporter": "python",
   "pygments_lexer": "ipython3",
   "version": "3.9.5"
  }
 },
 "nbformat": 4,
 "nbformat_minor": 5
}
