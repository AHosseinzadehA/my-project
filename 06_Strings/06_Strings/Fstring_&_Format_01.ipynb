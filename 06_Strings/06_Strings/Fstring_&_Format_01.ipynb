{
 "cells": [
  {
   "cell_type": "markdown",
   "id": "e1e18836",
   "metadata": {},
   "source": [
    "#### Table of the content\n",
    "\n",
    "1. [Dynamic Message!](#0)\n",
    "2. [format( ) method](#1)\n",
    "3. [f-string](#2)\n",
    "10. [More Info (Follow Me on LinkedIn)](#end)"
   ]
  },
  {
   "cell_type": "markdown",
   "id": "7ed4568e",
   "metadata": {},
   "source": [
    "---\n",
    "<a name=\"0\"></a>\n",
    "\n",
    "## • Dynamic Message!\n",
    "\n",
    "🔸 In Python there are a couple of ways to show **dynamic** messages. These dynamic messages change whenever the inner values change!"
   ]
  },
  {
   "cell_type": "markdown",
   "id": "715fbacd",
   "metadata": {},
   "source": [
    "✔ If you run the cell below you'll encounter **an error**! because you're not allowed to concatenate strings with other types of data types together!"
   ]
  },
  {
   "cell_type": "code",
   "execution_count": 1,
   "id": "0bcae01e",
   "metadata": {},
   "outputs": [
    {
     "ename": "TypeError",
     "evalue": "can only concatenate str (not \"float\") to str",
     "output_type": "error",
     "traceback": [
      "\u001b[1;31m---------------------------------------------------------------------------\u001b[0m",
      "\u001b[1;31mTypeError\u001b[0m                                 Traceback (most recent call last)",
      "Cell \u001b[1;32mIn[1], line 4\u001b[0m\n\u001b[0;32m      1\u001b[0m product \u001b[38;5;241m=\u001b[39m \u001b[38;5;124m'\u001b[39m\u001b[38;5;124mBrown Belt\u001b[39m\u001b[38;5;124m'\u001b[39m\n\u001b[0;32m      2\u001b[0m price \u001b[38;5;241m=\u001b[39m \u001b[38;5;241m8.0\u001b[39m\n\u001b[1;32m----> 4\u001b[0m message1 \u001b[38;5;241m=\u001b[39m \u001b[43mproduct\u001b[49m\u001b[43m \u001b[49m\u001b[38;5;241;43m+\u001b[39;49m\u001b[43m \u001b[49m\u001b[38;5;124;43m'\u001b[39;49m\u001b[38;5;124;43m price is \u001b[39;49m\u001b[38;5;124;43m'\u001b[39;49m\u001b[43m \u001b[49m\u001b[38;5;241;43m+\u001b[39;49m\u001b[43m \u001b[49m\u001b[43mprice\u001b[49m \u001b[38;5;241m+\u001b[39m \u001b[38;5;124m'\u001b[39m\u001b[38;5;124m euros\u001b[39m\u001b[38;5;124m'\u001b[39m\n",
      "\u001b[1;31mTypeError\u001b[0m: can only concatenate str (not \"float\") to str"
     ]
    }
   ],
   "source": [
    "product = 'Brown Belt'\n",
    "price = 8.0\n",
    "\n",
    "message1 = product + ' price is ' + price + ' euros'"
   ]
  },
  {
   "cell_type": "code",
   "execution_count": 2,
   "id": "5443286e",
   "metadata": {},
   "outputs": [
    {
     "ename": "NameError",
     "evalue": "name 'message1' is not defined",
     "output_type": "error",
     "traceback": [
      "\u001b[1;31m---------------------------------------------------------------------------\u001b[0m",
      "\u001b[1;31mNameError\u001b[0m                                 Traceback (most recent call last)",
      "Cell \u001b[1;32mIn[2], line 1\u001b[0m\n\u001b[1;32m----> 1\u001b[0m \u001b[43mmessage1\u001b[49m\n",
      "\u001b[1;31mNameError\u001b[0m: name 'message1' is not defined"
     ]
    }
   ],
   "source": [
    "message1"
   ]
  },
  {
   "cell_type": "markdown",
   "id": "d0301653",
   "metadata": {},
   "source": [
    "### Type Conversion\n",
    "\n",
    "🔸 To solve the previous TypeError we can convert the price type to the string and then concatenate all string together. "
   ]
  },
  {
   "cell_type": "code",
   "execution_count": 7,
   "id": "421f90ce",
   "metadata": {},
   "outputs": [],
   "source": [
    "product = 'Black Cap'\n",
    "price = 10.0\n",
    "\n",
    "message2 = product + ' price is ' + str(price) + ' euros'"
   ]
  },
  {
   "cell_type": "code",
   "execution_count": 8,
   "id": "62364500",
   "metadata": {},
   "outputs": [
    {
     "data": {
      "text/plain": [
       "'Black Cap price is 10.0 euros'"
      ]
     },
     "execution_count": 8,
     "metadata": {},
     "output_type": "execute_result"
    }
   ],
   "source": [
    "message2"
   ]
  },
  {
   "cell_type": "markdown",
   "id": "6562b674",
   "metadata": {},
   "source": [
    "### print(  ) Function\n",
    "\n",
    "🔸 Another way is using **print( )** function with **multiple commas**."
   ]
  },
  {
   "cell_type": "code",
   "execution_count": 10,
   "id": "e072209a",
   "metadata": {},
   "outputs": [
    {
     "name": "stdout",
     "output_type": "stream",
     "text": [
      "Black Cap price is 10.0 euros\n"
     ]
    }
   ],
   "source": [
    "product = 'Black Cap'\n",
    "price = 10.0\n",
    "\n",
    "print(product, 'price is', price, 'euros')"
   ]
  },
  {
   "cell_type": "markdown",
   "id": "39ceb51f",
   "metadata": {},
   "source": [
    "<a name='1'></a>\n",
    "### .format( ) Method\n",
    "\n",
    "🔸 Another better option is using **.format( )** method "
   ]
  },
  {
   "cell_type": "code",
   "execution_count": 20,
   "id": "173b3060",
   "metadata": {},
   "outputs": [],
   "source": [
    "product = 'Black Cap'\n",
    "price = 10.0\n",
    "\n",
    "message3 = '{} price is {} euros'.format(product, price)"
   ]
  },
  {
   "cell_type": "code",
   "execution_count": 21,
   "id": "d029c594",
   "metadata": {},
   "outputs": [
    {
     "data": {
      "text/plain": [
       "'Black Cap price is 10.0 euros'"
      ]
     },
     "execution_count": 21,
     "metadata": {},
     "output_type": "execute_result"
    }
   ],
   "source": [
    "message3"
   ]
  },
  {
   "cell_type": "markdown",
   "id": "d2df9e32",
   "metadata": {},
   "source": [
    "<a name='2'></a>\n",
    "### f-string \n",
    "\n",
    "🔸 The best option is using **f-string** in Python to create your custom dynamic message.\n",
    "\n",
    "**Note:** To use f-string your Python version should be 3.6 and above!"
   ]
  },
  {
   "cell_type": "code",
   "execution_count": 15,
   "id": "79b412c5",
   "metadata": {},
   "outputs": [],
   "source": [
    "product = 'Brown Belt'\n",
    "price = 8.0\n",
    "message4 = f'{product} price is {price} euros'"
   ]
  },
  {
   "cell_type": "code",
   "execution_count": 16,
   "id": "1ef1ebc1",
   "metadata": {},
   "outputs": [
    {
     "data": {
      "text/plain": [
       "'Brown Belt price is 8.0 euros'"
      ]
     },
     "execution_count": 16,
     "metadata": {},
     "output_type": "execute_result"
    }
   ],
   "source": [
    "message4"
   ]
  },
  {
   "cell_type": "markdown",
   "id": "7315b9fc",
   "metadata": {},
   "source": [
    "---\n",
    "<a name=\"end\"></a>\n",
    "### Congrats! \n",
    "\n",
    "🔥 Let's go to the next session.\n",
    "\n",
    "📝 This Jupyter notebook has been created by [Ahmad Ahmadi](https://www.linkedin.com/in/ahmad-ahmadi95/). Please follow me and [izlearn](https://www.linkedin.com/company/izlearn) on LinkedIn social media.  \n",
    "\n",
    "🌐 Visit your website for more courses [izlearn.ir](https://izlearn.ir)\n"
   ]
  }
 ],
 "metadata": {
  "kernelspec": {
   "display_name": "Python 3 (ipykernel)",
   "language": "python",
   "name": "python3"
  },
  "language_info": {
   "codemirror_mode": {
    "name": "ipython",
    "version": 3
   },
   "file_extension": ".py",
   "mimetype": "text/x-python",
   "name": "python",
   "nbconvert_exporter": "python",
   "pygments_lexer": "ipython3",
   "version": "3.9.5"
  }
 },
 "nbformat": 4,
 "nbformat_minor": 5
}
