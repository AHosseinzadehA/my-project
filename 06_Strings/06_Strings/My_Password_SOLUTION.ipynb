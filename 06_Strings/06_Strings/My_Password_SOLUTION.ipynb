{
 "cells": [
  {
   "cell_type": "markdown",
   "id": "9bd4c67c",
   "metadata": {},
   "source": [
    "## • Password Retrieval \n",
    "\n",
    "Hi! \n",
    "\n",
    "This is **Erfan** speaking.\n",
    "\n",
    "Thanks for helping me in this problem. \n",
    "\n",
    "Well our previous intern created a complex password using **string indexing** and **txt_01**, **txt_02**, **txt_03**, **txt_04**, **txt_05**. I could understand that the password is `izlearn` but what I really want to know is how she's used **string indexing** and these strings to create the password. \n",
    "\n",
    "---"
   ]
  },
  {
   "cell_type": "code",
   "execution_count": 1,
   "id": "b1a5318b",
   "metadata": {},
   "outputs": [],
   "source": [
    "# Run this cell to define these strings\n",
    "txt_01 = \"@ !*i-tech!\" \n",
    "txt_02 = \"need a zapper?\"\n",
    "txt_03 = \"la-di-da\"\n",
    "txt_04 = \"I can’t find Google\"\n",
    "txt_05 = \"random text\""
   ]
  },
  {
   "cell_type": "markdown",
   "id": "95fd865f",
   "metadata": {},
   "source": [
    "### 🔸 Complex Password \n",
    "\n",
    "💡 Spell the word **izlearn** by grabbinig *one letter or more* from each text type varible."
   ]
  },
  {
   "cell_type": "code",
   "execution_count": 7,
   "id": "ea536143",
   "metadata": {},
   "outputs": [
    {
     "name": "stdout",
     "output_type": "stream",
     "text": [
      "The secret password is izlearn\n"
     ]
    }
   ],
   "source": [
    "# 1.1. Use \"string indexing\" and \"string concatenation\" to create the password :) \n",
    "\n",
    "complex_password = txt_01[4] + txt_02[7] + txt_03[0] + txt_04[-1] + txt_05[1] + txt_05[0] + txt_05[2]\n",
    "\n",
    "print(\"The secret password is\", complex_password)"
   ]
  },
  {
   "cell_type": "markdown",
   "id": "d4d6ad97",
   "metadata": {},
   "source": [
    "---\n",
    "<a name=\"end\"></a>\n",
    "### Congrats! \n",
    "\n",
    "🔥 Let's go to the next session.\n",
    "\n",
    "📝 This Jupyter notebook has been created by [Ahmad Ahmadi](https://www.linkedin.com/in/ahmad-ahmadi95/). Please follow me and [izlearn](https://www.linkedin.com/company/izlearn) on LinkedIn social media.  \n",
    "\n",
    "🌐 Visit your website for more courses [izlearn.ir](https://izlearn.ir)"
   ]
  }
 ],
 "metadata": {
  "kernelspec": {
   "display_name": "Python 3 (ipykernel)",
   "language": "python",
   "name": "python3"
  },
  "language_info": {
   "codemirror_mode": {
    "name": "ipython",
    "version": 3
   },
   "file_extension": ".py",
   "mimetype": "text/x-python",
   "name": "python",
   "nbconvert_exporter": "python",
   "pygments_lexer": "ipython3",
   "version": "3.9.5"
  }
 },
 "nbformat": 4,
 "nbformat_minor": 5
}
