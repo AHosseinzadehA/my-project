{
 "cells": [
  {
   "cell_type": "markdown",
   "id": "25a79226",
   "metadata": {},
   "source": [
    "## • Price Display Message\n",
    "\n",
    "🔸 Using [f-string](https://www.w3schools.com/python/python_string_formatting.asp), print **The `product` costs €`Price`** for each *product* and *price* defined in each cell. Your print statement should be identical for both cells.\n",
    "\n",
    "• The output message should look like this:\n",
    "\n",
    "```python\n",
    "'The Black Boots costs €28.'\n",
    "```"
   ]
  },
  {
   "cell_type": "code",
   "execution_count": 2,
   "id": "f3d75017",
   "metadata": {},
   "outputs": [
    {
     "name": "stdout",
     "output_type": "stream",
     "text": [
      "The Blue Jeans costs €18.\n"
     ]
    }
   ],
   "source": [
    "# 1. Our first product is 'Blue Jeans'\n",
    "price = 18\n",
    "product = \"Blue Jeans\"\n",
    "\n",
    "# 1.1. Use f-string to show the desired message\n",
    "print(f'The {product} costs €{price}.')"
   ]
  },
  {
   "cell_type": "code",
   "execution_count": null,
   "id": "44353be2",
   "metadata": {},
   "outputs": [],
   "source": [
    "# 2. Our second product is 'Winter Coat' \n",
    "price = 52\n",
    "product = \"Winter Coat\"\n",
    "\n",
    "# 2.1. Use f-string to show the desired message\n",
    "print(f'The {product} costs €{price}.')"
   ]
  },
  {
   "cell_type": "markdown",
   "id": "4f4d5788",
   "metadata": {},
   "source": [
    "---\n",
    "<a name=\"end\"></a>\n",
    "### Congrats! \n",
    "\n",
    "🔥 Let's go to the next session.\n",
    "\n",
    "📝 This Jupyter notebook has been created by [Ahmad Ahmadi](https://www.linkedin.com/in/ahmad-ahmadi95/).Please follow me and [izlearn](https://www.linkedin.com/company/izlearn) on the LinkedIn social media.  \n",
    "\n",
    "🌐 Visit your website for more courses [izlearn.ir](https://izlearn.ir)\n"
   ]
  }
 ],
 "metadata": {
  "kernelspec": {
   "display_name": "Python 3 (ipykernel)",
   "language": "python",
   "name": "python3"
  },
  "language_info": {
   "codemirror_mode": {
    "name": "ipython",
    "version": 3
   },
   "file_extension": ".py",
   "mimetype": "text/x-python",
   "name": "python",
   "nbconvert_exporter": "python",
   "pygments_lexer": "ipython3",
   "version": "3.9.5"
  }
 },
 "nbformat": 4,
 "nbformat_minor": 5
}
