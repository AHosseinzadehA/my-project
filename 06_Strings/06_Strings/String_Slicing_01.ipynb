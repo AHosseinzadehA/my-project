{
 "cells": [
  {
   "cell_type": "markdown",
   "id": "636f0c3d",
   "metadata": {},
   "source": [
    "#### • Table of the content\n",
    "\n",
    "1. [String Slicing](#1)\n",
    "2. [Example 1](#1-1)\n",
    "3. [Example 2](#1-2)\n",
    "4. [Example 3](#1-3)\n",
    "5. [Example 4](#1-4)\n",
    "6. [Example 5](#1-5)\n",
    "7. [Example 6](#1-6)\n",
    "8. [Example 7](#1-7)\n",
    "9. [More Info (Follow Me on LinkedIn)](#end)"
   ]
  },
  {
   "cell_type": "markdown",
   "id": "327ebf14",
   "metadata": {},
   "source": [
    "---\n",
    "<a name=\"1\"></a>\n",
    "\n",
    "## • String Slicing\n",
    "\n",
    "🔸 String slicing returns <u>multiple items</u> or <u>sub-string</u>, or portion of the string using **string indexing**. \n",
    "\n",
    "🔸 Similar to *indexing*, **slicing** is an important concept to master for data analysis. \n",
    "\n",
    "🔸 The syntax for slicing is like this : \n",
    "\n",
    "```python\n",
    "your_string[start_index:stop_index:step_size]\n",
    "```"
   ]
  },
  {
   "cell_type": "markdown",
   "id": "700ba189",
   "metadata": {},
   "source": [
    "<a name=\"1-1\"></a>\n",
    "### ° Example 1\n",
    "\n",
    "🔸 Grab the second word (`want`) from the *text* using slicing in Python."
   ]
  },
  {
   "cell_type": "code",
   "execution_count": 4,
   "id": "3e53dcab",
   "metadata": {},
   "outputs": [
    {
     "data": {
      "text/plain": [
       "'want'"
      ]
     },
     "execution_count": 4,
     "metadata": {},
     "output_type": "execute_result"
    }
   ],
   "source": [
    "# 1.1. text[start:stop:step_size] → 'want'\n",
    "\n",
    "text = \"I want to learn Python\"\n",
    "text[2:6]"
   ]
  },
  {
   "cell_type": "markdown",
   "id": "bc2d0b43",
   "metadata": {},
   "source": [
    "<a name=\"1-2\"></a>\n",
    "###  ° Example 2\n",
    "\n",
    "🔸 Grab the last three words (`to learn Python`) from the *text* using slicing in Python."
   ]
  },
  {
   "cell_type": "code",
   "execution_count": 7,
   "id": "34328de5",
   "metadata": {},
   "outputs": [
    {
     "data": {
      "text/plain": [
       "'to learn Python'"
      ]
     },
     "execution_count": 7,
     "metadata": {},
     "output_type": "execute_result"
    }
   ],
   "source": [
    "# 1.2. text[start:stop:step_size] → 'to learn Python'\n",
    "\n",
    "text = \"I want to learn Python\"\n",
    "text[7::1]"
   ]
  },
  {
   "cell_type": "markdown",
   "id": "42f7402e",
   "metadata": {},
   "source": [
    "<a name=\"1-3\"></a>\n",
    "### ° Example 3\n",
    "\n",
    "🔸 Grab all characters (`I want to learn Python`) from the *text* using slicing in Python."
   ]
  },
  {
   "cell_type": "code",
   "execution_count": 11,
   "id": "65d4beb4",
   "metadata": {},
   "outputs": [
    {
     "data": {
      "text/plain": [
       "'I want to learn Python'"
      ]
     },
     "execution_count": 11,
     "metadata": {},
     "output_type": "execute_result"
    }
   ],
   "source": [
    "# 1.3. text[start:stop:step_size] → 'I want to learn Python'\n",
    "\n",
    "text = \"I want to learn Python\"\n",
    "text[:]"
   ]
  },
  {
   "cell_type": "markdown",
   "id": "57557a4a",
   "metadata": {},
   "source": [
    "<a name=\"1-4\"></a>\n",
    "### ° Example 4\n",
    "\n",
    "🔸 Grab all characters that have even indices (`Iwn olanPto`) from the *text* using slicing in Python."
   ]
  },
  {
   "cell_type": "code",
   "execution_count": 12,
   "id": "c807d319",
   "metadata": {},
   "outputs": [
    {
     "data": {
      "text/plain": [
       "'Iwn olanPto'"
      ]
     },
     "execution_count": 12,
     "metadata": {},
     "output_type": "execute_result"
    }
   ],
   "source": [
    "# 1.4. text[start:stop:step_size] → 'Iwn olanPto'\n",
    "\n",
    "text = \"I want to learn Python\"\n",
    "text[::2]"
   ]
  },
  {
   "cell_type": "markdown",
   "id": "92ae89ad",
   "metadata": {},
   "source": [
    "<a name=\"1-5\"></a>\n",
    "### ° Example 5\n",
    "\n",
    "🔸 Grab all characters that have indices matching with step size of three (`Iwn olanPto`) from the *text* using slicing in Python."
   ]
  },
  {
   "cell_type": "code",
   "execution_count": 13,
   "id": "3a4d43df",
   "metadata": {},
   "outputs": [
    {
     "data": {
      "text/plain": [
       "'Ia  a tn'"
      ]
     },
     "execution_count": 13,
     "metadata": {},
     "output_type": "execute_result"
    }
   ],
   "source": [
    "# 1.5. text[start:stop:step_size] → 'Ia  a tn'\n",
    "\n",
    "text = \"I want to learn Python\"\n",
    "text[::3]"
   ]
  },
  {
   "cell_type": "markdown",
   "id": "889065b3",
   "metadata": {},
   "source": [
    "<a name=\"1-6\"></a>\n",
    "### ° Example 6 \n",
    "\n",
    "🔸 Revers all characters in the *text*."
   ]
  },
  {
   "cell_type": "code",
   "execution_count": 14,
   "id": "5447cf97",
   "metadata": {},
   "outputs": [
    {
     "data": {
      "text/plain": [
       "'nohtyP nrael ot tnaw I'"
      ]
     },
     "execution_count": 14,
     "metadata": {},
     "output_type": "execute_result"
    }
   ],
   "source": [
    "# 1.6. text[start:stop:step_size] → 'nohtyP nrael ot tnaw I'\n",
    "\n",
    "text = \"I want to learn Python\"\n",
    "text[::-1]"
   ]
  },
  {
   "cell_type": "markdown",
   "id": "28f40ccd",
   "metadata": {},
   "source": [
    "<a name=\"1-7\"></a>\n",
    "### ° Example 7\n",
    "\n",
    "🔸 Grab the last word from the *text* but not including the last character."
   ]
  },
  {
   "cell_type": "code",
   "execution_count": 15,
   "id": "00f9a182",
   "metadata": {},
   "outputs": [
    {
     "data": {
      "text/plain": [
       "'Pytho'"
      ]
     },
     "execution_count": 15,
     "metadata": {},
     "output_type": "execute_result"
    }
   ],
   "source": [
    "# 1.7. text[start:stop:step_size] → 'Pytho'\n",
    "\n",
    "text = \"I want to learn Python\"\n",
    "text[-6:-1]"
   ]
  },
  {
   "cell_type": "markdown",
   "id": "0db5e7be",
   "metadata": {},
   "source": [
    "<a name=\"1-8\"></a>\n",
    "### ° Example 8\n",
    "\n",
    "🔸 Grab the last word from the *text*."
   ]
  },
  {
   "cell_type": "code",
   "execution_count": 16,
   "id": "7dcc01a0",
   "metadata": {},
   "outputs": [
    {
     "data": {
      "text/plain": [
       "'Python'"
      ]
     },
     "execution_count": 16,
     "metadata": {},
     "output_type": "execute_result"
    }
   ],
   "source": [
    "# 1.8. text[start:stop:step_size] → 'Python'\n",
    "\n",
    "text = \"I want to learn Python\"\n",
    "text[-6:]"
   ]
  },
  {
   "cell_type": "markdown",
   "id": "d25197d3",
   "metadata": {},
   "source": [
    "---\n",
    "<a name=\"end\"></a>\n",
    "### Congrats! \n",
    "\n",
    "🔥 Let's go to the next session.\n",
    "\n",
    "📝 This Jupyter notebook has been created by [Ahmad Ahmadi](https://www.linkedin.com/in/ahmad-ahmadi95/). Please follow me and [izlearn](https://www.linkedin.com/company/izlearn) on LinkedIn social media.  \n",
    "\n",
    "🌐 Visit your website for more courses [izlearn.ir](https://izlearn.ir)"
   ]
  }
 ],
 "metadata": {
  "kernelspec": {
   "display_name": "Python 3 (ipykernel)",
   "language": "python",
   "name": "python3"
  },
  "language_info": {
   "codemirror_mode": {
    "name": "ipython",
    "version": 3
   },
   "file_extension": ".py",
   "mimetype": "text/x-python",
   "name": "python",
   "nbconvert_exporter": "python",
   "pygments_lexer": "ipython3",
   "version": "3.9.5"
  }
 },
 "nbformat": 4,
 "nbformat_minor": 5
}
