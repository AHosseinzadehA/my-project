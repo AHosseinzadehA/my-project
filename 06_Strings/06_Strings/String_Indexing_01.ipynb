{
 "cells": [
  {
   "cell_type": "markdown",
   "id": "eed5c9ae",
   "metadata": {},
   "source": [
    "#### • Table of the content\n",
    "\n",
    "1. [String Indexing](#1)\n",
    "2. [Positive Indexing](#1-1)\n",
    "3. [Negative Indexing](#1-2)\n",
    "4. [A Common Error in Indexing](#1-3)\n",
    "5. [Last Item Using len() function](#1-4)\n",
    "6. [More Info (Follow Me on LinkedIn)](#end)\n",
    "---"
   ]
  },
  {
   "cell_type": "markdown",
   "id": "31f9afc8",
   "metadata": {},
   "source": [
    "<a name=\"1\"></a>\n",
    "## • String Indexing \n",
    "\n",
    "🔸 Strings are `sequence of characters`. each string character can be accessed using their **index**. \n",
    "\n",
    "🔸 Indexing is an important concept in Python programming and data analysis.\n",
    "\n",
    "🔸 Keep in your mind that Python is **zero-index** language. It means the **first item** in any countable objects starts with **ZERO**."
   ]
  },
  {
   "cell_type": "markdown",
   "id": "b9f2cf2f",
   "metadata": {},
   "source": [
    "<a name=\"1-1\"></a>\n",
    "### • Positive Indexing"
   ]
  },
  {
   "cell_type": "code",
   "execution_count": 2,
   "id": "55a5461b",
   "metadata": {},
   "outputs": [
    {
     "data": {
      "text/plain": [
       "'n'"
      ]
     },
     "execution_count": 2,
     "metadata": {},
     "output_type": "execute_result"
    }
   ],
   "source": [
    "# 1.1. A simple example\n",
    "\n",
    "'Python'[5]"
   ]
  },
  {
   "cell_type": "code",
   "execution_count": 6,
   "id": "c89296fb",
   "metadata": {},
   "outputs": [
    {
     "data": {
      "text/plain": [
       "'P'"
      ]
     },
     "execution_count": 6,
     "metadata": {},
     "output_type": "execute_result"
    }
   ],
   "source": [
    "# 1.2. Access 'Python' first character using its indices \n",
    "word = \"Python\"\n",
    "first_char = word[0]\n",
    "\n",
    "first_char"
   ]
  },
  {
   "cell_type": "code",
   "execution_count": 7,
   "id": "b44bb52b",
   "metadata": {},
   "outputs": [
    {
     "data": {
      "text/plain": [
       "'y'"
      ]
     },
     "execution_count": 7,
     "metadata": {},
     "output_type": "execute_result"
    }
   ],
   "source": [
    "# 1.3. Access 'Python' second character using its indices\n",
    "word = \"Python\"\n",
    "second_char = word[1]\n",
    "\n",
    "second_char"
   ]
  },
  {
   "cell_type": "code",
   "execution_count": 8,
   "id": "16039ad6",
   "metadata": {},
   "outputs": [
    {
     "data": {
      "text/plain": [
       "'n'"
      ]
     },
     "execution_count": 8,
     "metadata": {},
     "output_type": "execute_result"
    }
   ],
   "source": [
    "# 1.4. Access 'Python' last character using its indices (positive indexing)\n",
    "word = \"Python\"\n",
    "last_char = word[5]\n",
    "\n",
    "last_char "
   ]
  },
  {
   "cell_type": "markdown",
   "id": "2cc02ada",
   "metadata": {},
   "source": [
    "<a name=\"1-2\"></a>\n",
    "### • Negative Indexing\n",
    "\n",
    "🔸 There is a useful feature in Python, and it’s **negative indexing** (Here in strings)<br>\n",
    "🔸 Negative indexing retrieves elements <u>from the end</u> by providing negative numbers as sequence indices"
   ]
  },
  {
   "cell_type": "code",
   "execution_count": 11,
   "id": "2bd5530c",
   "metadata": {},
   "outputs": [
    {
     "data": {
      "text/plain": [
       "'n'"
      ]
     },
     "execution_count": 11,
     "metadata": {},
     "output_type": "execute_result"
    }
   ],
   "source": [
    "# 2.1. Access 'Python' last character using \"negative\" indexing\n",
    "word = \"Python\"\n",
    "last_char = word[-1]\n",
    "\n",
    "last_char"
   ]
  },
  {
   "cell_type": "code",
   "execution_count": 12,
   "id": "c1d9b6b4",
   "metadata": {},
   "outputs": [
    {
     "data": {
      "text/plain": [
       "'!'"
      ]
     },
     "execution_count": 12,
     "metadata": {},
     "output_type": "execute_result"
    }
   ],
   "source": [
    "# 2.2 More example → grab \"!\" mark\n",
    "word = 'Python!'\n",
    "exclamation_char = word[-1]\n",
    "\n",
    "exclamation_char"
   ]
  },
  {
   "cell_type": "code",
   "execution_count": 13,
   "id": "fbc37112",
   "metadata": {},
   "outputs": [
    {
     "data": {
      "text/plain": [
       "' '"
      ]
     },
     "execution_count": 13,
     "metadata": {},
     "output_type": "execute_result"
    }
   ],
   "source": [
    "#2.2 More example → grab \" \" (space character)\n",
    "word = 'Python '\n",
    "space_char = word[-1]\n",
    "\n",
    "space_char "
   ]
  },
  {
   "cell_type": "markdown",
   "id": "ed563dfb",
   "metadata": {},
   "source": [
    "💡 We're going to use **indexing** a lot when we start working with **lists** & **tuples** as well as when we start using libraries like [numpy](https://numpy.org/) & [pandas](https://pandas.pydata.org/). "
   ]
  },
  {
   "cell_type": "markdown",
   "id": "cada118c",
   "metadata": {},
   "source": [
    "<a name=\"1-3\"></a>\n",
    "### • A Common Error in Indexing"
   ]
  },
  {
   "cell_type": "code",
   "execution_count": 18,
   "id": "d3062b0b",
   "metadata": {},
   "outputs": [
    {
     "ename": "IndexError",
     "evalue": "string index out of range",
     "output_type": "error",
     "traceback": [
      "\u001b[1;31m---------------------------------------------------------------------------\u001b[0m",
      "\u001b[1;31mIndexError\u001b[0m                                Traceback (most recent call last)",
      "Cell \u001b[1;32mIn[18], line 4\u001b[0m\n\u001b[0;32m      1\u001b[0m \u001b[38;5;66;03m# 3.1. IndexError → String Index Out of Range\u001b[39;00m\n\u001b[0;32m      2\u001b[0m word \u001b[38;5;241m=\u001b[39m \u001b[38;5;124m'\u001b[39m\u001b[38;5;124mPython\u001b[39m\u001b[38;5;124m'\u001b[39m\n\u001b[1;32m----> 4\u001b[0m \u001b[43mword\u001b[49m\u001b[43m[\u001b[49m\u001b[38;5;241;43m10\u001b[39;49m\u001b[43m]\u001b[49m\n",
      "\u001b[1;31mIndexError\u001b[0m: string index out of range"
     ]
    }
   ],
   "source": [
    "# 3.1. IndexError → String Index Out of Range\n",
    "word = 'Python'\n",
    "\n",
    "word[10]"
   ]
  },
  {
   "cell_type": "code",
   "execution_count": 19,
   "id": "c54148d2",
   "metadata": {},
   "outputs": [
    {
     "data": {
      "text/plain": [
       "'n'"
      ]
     },
     "execution_count": 19,
     "metadata": {},
     "output_type": "execute_result"
    }
   ],
   "source": [
    "# 3.2. Fix the Error \n",
    "word[5]"
   ]
  },
  {
   "cell_type": "markdown",
   "id": "75a875dd",
   "metadata": {},
   "source": [
    "<a name=\"1-4\"></a>\n",
    "### • Last Item Using len( ) Function"
   ]
  },
  {
   "cell_type": "code",
   "execution_count": 20,
   "id": "07344fd4",
   "metadata": {},
   "outputs": [
    {
     "data": {
      "text/plain": [
       "'hallelujah'"
      ]
     },
     "execution_count": 20,
     "metadata": {},
     "output_type": "execute_result"
    }
   ],
   "source": [
    "# 3.1. Define the 'hallelujah' string\n",
    "my_str = 'hallelujah'\n",
    "\n",
    "my_str"
   ]
  },
  {
   "cell_type": "code",
   "execution_count": 22,
   "id": "af554460",
   "metadata": {},
   "outputs": [
    {
     "data": {
      "text/plain": [
       "10"
      ]
     },
     "execution_count": 22,
     "metadata": {},
     "output_type": "execute_result"
    }
   ],
   "source": [
    "# 3.2. Use len() function to see what you get!\n",
    "lst_indx = len(my_str)\n",
    "\n",
    "lst_indx"
   ]
  },
  {
   "cell_type": "code",
   "execution_count": 25,
   "id": "31b1122e",
   "metadata": {},
   "outputs": [
    {
     "ename": "IndexError",
     "evalue": "string index out of range",
     "output_type": "error",
     "traceback": [
      "\u001b[1;31m---------------------------------------------------------------------------\u001b[0m",
      "\u001b[1;31mIndexError\u001b[0m                                Traceback (most recent call last)",
      "Cell \u001b[1;32mIn[25], line 4\u001b[0m\n\u001b[0;32m      1\u001b[0m \u001b[38;5;66;03m# 3.3. Use lst_indx variable to access the last item\u001b[39;00m\n\u001b[0;32m      2\u001b[0m \u001b[38;5;66;03m# 3.3.1. You got an IndexError right? (why?)\u001b[39;00m\n\u001b[1;32m----> 4\u001b[0m \u001b[43mmy_str\u001b[49m\u001b[43m[\u001b[49m\u001b[43mlst_indx\u001b[49m\u001b[43m]\u001b[49m\n",
      "\u001b[1;31mIndexError\u001b[0m: string index out of range"
     ]
    }
   ],
   "source": [
    "# 3.3. Use lst_indx variable to access the last item\n",
    "# 3.3.1. You got an IndexError right? (why?)\n",
    "\n",
    "my_str[lst_indx]"
   ]
  },
  {
   "cell_type": "markdown",
   "id": "068dee5f",
   "metadata": {},
   "source": [
    "🔸 Let's fix the previous error. You may have guessed what the problem is. We've faced an <span style='font-family:consolas;color:#FF416C;font-weight:bold;'>IndexError</span> because what stored in the `lst_indx` is greater than *'hallelujah'* last index."
   ]
  },
  {
   "cell_type": "code",
   "execution_count": 30,
   "id": "e487bc8f",
   "metadata": {},
   "outputs": [
    {
     "data": {
      "text/plain": [
       "'h'"
      ]
     },
     "execution_count": 30,
     "metadata": {},
     "output_type": "execute_result"
    }
   ],
   "source": [
    "my_str = 'hallelujah'\n",
    "lst_indx = len(my_str) - 1\n",
    "\n",
    "my_str[lst_indx]"
   ]
  },
  {
   "cell_type": "markdown",
   "id": "1aadacf2",
   "metadata": {},
   "source": [
    "---\n",
    "<a name=\"end\"></a>\n",
    "### Congrats! \n",
    "\n",
    "🔥 Let's go to the next session.\n",
    "\n",
    "📝 This Jupyter notebook has been created by [Ahmad Ahmadi](https://www.linkedin.com/in/ahmad-ahmadi95/). Please follow me and [izlearn](https://www.linkedin.com/company/izlearn) on LinkedIn social media.  \n",
    "\n",
    "🌐 Visit your website for more courses [izlearn.ir](https://izlearn.ir)\n"
   ]
  }
 ],
 "metadata": {
  "kernelspec": {
   "display_name": "Python 3 (ipykernel)",
   "language": "python",
   "name": "python3"
  },
  "language_info": {
   "codemirror_mode": {
    "name": "ipython",
    "version": 3
   },
   "file_extension": ".py",
   "mimetype": "text/x-python",
   "name": "python",
   "nbconvert_exporter": "python",
   "pygments_lexer": "ipython3",
   "version": "3.9.5"
  }
 },
 "nbformat": 4,
 "nbformat_minor": 5
}
