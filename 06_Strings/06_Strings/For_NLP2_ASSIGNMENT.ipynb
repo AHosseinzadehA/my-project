{
 "cells": [
  {
   "cell_type": "markdown",
   "id": "f3f52c0e",
   "metadata": {},
   "source": [
    "## • Text Cleaning\n",
    "\n",
    "Hey there!\n",
    "\n",
    "It's **Ali**. Please follow the instructions below.\n",
    "\n",
    "📝 Here is the instructions:\n",
    "\n",
    "* **Step1.** Combine the text messages to create a complete string and name it `full_txt`. \n",
    "* **Step2.** Removing all leading and trailing spaces and convert the string to all lowercase, then name is `fixed_txt`. \n",
    "* **Step3.** Change **fabulous** to **great** and **!** to **.** then name is `new_txt`. \n",
    "* **Step4.** Look up a method to count the number of **spaces** in `new_txt`. \n",
    "* **Step5.** Find the number of words exist in `new_txt`\n",
    "* 💡 **Note:** number_words = number_spaces + 1"
   ]
  },
  {
   "cell_type": "code",
   "execution_count": 1,
   "id": "40c2d9fa",
   "metadata": {},
   "outputs": [],
   "source": [
    "# 0.0. Define your variables\n",
    "\n",
    "txt1 = \"    I love your fabulous\"\n",
    "txt2 = \"CLOTHES\"\n",
    "txt3 = \"Always\"\n",
    "txt4 = \"buying from YOURS!    \""
   ]
  },
  {
   "cell_type": "markdown",
   "id": "5233e5fe",
   "metadata": {},
   "source": [
    "### • Step one\n",
    "\n",
    "🔸 Combine the text messages into one string, assigned to `full_txt`"
   ]
  },
  {
   "cell_type": "code",
   "execution_count": 2,
   "id": "36cac827",
   "metadata": {},
   "outputs": [],
   "source": [
    "# step1) combine text messages to one string\n",
    "full_txt = txt1 + ' ' + txt2 + ' ' + txt3 + ' ' + txt4"
   ]
  },
  {
   "cell_type": "code",
   "execution_count": 3,
   "id": "75a78442",
   "metadata": {},
   "outputs": [
    {
     "data": {
      "text/plain": [
       "'    I love your fabulous CLOTHES Always buying from YOURS!    '"
      ]
     },
     "execution_count": 3,
     "metadata": {},
     "output_type": "execute_result"
    }
   ],
   "source": [
    "full_txt"
   ]
  },
  {
   "cell_type": "markdown",
   "id": "770d9671",
   "metadata": {},
   "source": [
    "### • Step two\n",
    "\n",
    "🔸 Remove all leading and trailing spaces and convert it to all lowercase, assigned to `changed_txt`. "
   ]
  },
  {
   "cell_type": "code",
   "execution_count": 4,
   "id": "6450f5ae",
   "metadata": {},
   "outputs": [],
   "source": [
    "# step2) remove all leading & trailing spaces from \"full_txt\" → \"fixed_txt\"\n",
    "fixed_txt = full_txt.strip().lower()\n"
   ]
  },
  {
   "cell_type": "code",
   "execution_count": 5,
   "id": "1d4df8ea",
   "metadata": {},
   "outputs": [
    {
     "data": {
      "text/plain": [
       "'i love your fabulous clothes always buying from yours!'"
      ]
     },
     "execution_count": 5,
     "metadata": {},
     "output_type": "execute_result"
    }
   ],
   "source": [
    "fixed_txt"
   ]
  },
  {
   "cell_type": "markdown",
   "id": "fce61f44",
   "metadata": {},
   "source": [
    "### • Step three\n",
    "\n",
    "🔸 Change **fabulous** to **great** and **!** to **.**, assigned to `new_txt`."
   ]
  },
  {
   "cell_type": "code",
   "execution_count": 18,
   "id": "d2d1b4ef",
   "metadata": {},
   "outputs": [],
   "source": [
    "# step3) change \"fabulous\" to \"wonderful\" → \"new_txt\"\n",
    "\n",
    "new_txt = fixed_txt.replace('fabulous' , 'great').replace('!','.')"
   ]
  },
  {
   "cell_type": "code",
   "execution_count": 19,
   "id": "61d058a4",
   "metadata": {},
   "outputs": [
    {
     "data": {
      "text/plain": [
       "'i love your great clothes always buying from yours.'"
      ]
     },
     "execution_count": 19,
     "metadata": {},
     "output_type": "execute_result"
    }
   ],
   "source": [
    "new_txt"
   ]
  },
  {
   "cell_type": "markdown",
   "id": "b98bc747",
   "metadata": {},
   "source": [
    "### • Step four\n",
    "\n",
    "🔸 Look up a method to count the number of **spaces** in `new_txt` and hold the result in `number_of_spaces`. You can search for the required method to solve this part [here](https://docs.python.org/3/library/stdtypes.html#string-methods)\n"
   ]
  },
  {
   "cell_type": "code",
   "execution_count": 24,
   "id": "c8dff6cd",
   "metadata": {},
   "outputs": [],
   "source": [
    "# step4) look up a method to count the number of spaces → \"number_of_spaces\"\n",
    "\n",
    "number_of_spaces = new_txt.count(' ')"
   ]
  },
  {
   "cell_type": "code",
   "execution_count": 25,
   "id": "21716928",
   "metadata": {},
   "outputs": [
    {
     "data": {
      "text/plain": [
       "8"
      ]
     },
     "execution_count": 25,
     "metadata": {},
     "output_type": "execute_result"
    }
   ],
   "source": [
    "number_of_spaces"
   ]
  },
  {
   "cell_type": "markdown",
   "id": "c023975f",
   "metadata": {},
   "source": [
    "### • Step five \n",
    "\n",
    "🔸 Finally the number of words are equal to all the spaces plus one. for example \"My name is Ahmad\" has three spaces but four words."
   ]
  },
  {
   "cell_type": "code",
   "execution_count": 26,
   "id": "cc0ae305",
   "metadata": {},
   "outputs": [],
   "source": [
    "# step5) Find the number of words in the \"new_txt\" → number_of_words\n",
    "number_of_words = number_of_space + 1\n"
   ]
  },
  {
   "cell_type": "code",
   "execution_count": 28,
   "id": "9db5e857",
   "metadata": {},
   "outputs": [
    {
     "data": {
      "text/plain": [
       "9"
      ]
     },
     "execution_count": 28,
     "metadata": {},
     "output_type": "execute_result"
    }
   ],
   "source": [
    "number_of_words"
   ]
  },
  {
   "cell_type": "markdown",
   "id": "ee98c576",
   "metadata": {},
   "source": [
    "---\n",
    "<a name=\"end\"></a>\n",
    "### Congrats! \n",
    "\n",
    "🔥 Let's go to the next session.\n",
    "\n",
    "📝 This Jupyter notebook has been created by [Ahmad Ahmadi](https://www.linkedin.com/in/ahmad-ahmadi95/). Please follow me and [izlearn](https://www.linkedin.com/company/izlearn) on LinkedIn social media.  \n",
    "\n",
    "🌐 Visit your website for more courses [izlearn.ir](https://izlearn.ir)\n"
   ]
  }
 ],
 "metadata": {
  "kernelspec": {
   "display_name": "Python 3 (ipykernel)",
   "language": "python",
   "name": "python3"
  },
  "language_info": {
   "codemirror_mode": {
    "name": "ipython",
    "version": 3
   },
   "file_extension": ".py",
   "mimetype": "text/x-python",
   "name": "python",
   "nbconvert_exporter": "python",
   "pygments_lexer": "ipython3",
   "version": "3.9.5"
  }
 },
 "nbformat": 4,
 "nbformat_minor": 5
}
