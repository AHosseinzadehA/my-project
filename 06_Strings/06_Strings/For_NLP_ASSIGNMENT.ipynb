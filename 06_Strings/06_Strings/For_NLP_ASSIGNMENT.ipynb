{
 "cells": [
  {
   "cell_type": "markdown",
   "id": "932f4b59",
   "metadata": {},
   "source": [
    "## • Shortening Comments For NLP\n",
    "\n",
    "Hi there ✌🏼\n",
    "\n",
    "This is [Ali](https://www.linkedin.com/in/seyed-ali-hosseini/) speaking!\n",
    "\n",
    "At first thank you for helping me with this assignment. I'm quite sure you're able to handle this problem. 💪🏼\n",
    "By the way, Ahmad and I have been friend for **10 years**. If you need something just be in contact with me. 🎯"
   ]
  },
  {
   "cell_type": "code",
   "execution_count": null,
   "id": "8497468a",
   "metadata": {},
   "outputs": [],
   "source": [
    "# 0.0. Defining the variable\n",
    "\n",
    "customer_comment = '''I love shopping online. It's my hobby.\n",
    "But for some girls, it's life😄'''\n",
    "\n",
    "print(customer_comment)"
   ]
  },
  {
   "cell_type": "markdown",
   "id": "ab5ce34c",
   "metadata": {},
   "source": [
    "---\n",
    "### • Warm Up (a bit of cleaning)\n",
    "\n",
    "🔸 Can you just omit the smiley face emoji (😄) from the above comment (using slicing) and reassign it again to its variable?!<br>\n",
    "**Note:** For correct punctuation, add a `period` (.) to the end of your shorted comment."
   ]
  },
  {
   "cell_type": "code",
   "execution_count": null,
   "id": "b80c7535",
   "metadata": {},
   "outputs": [],
   "source": [
    "# 1.0. Omitting the smiley face emoji and add period\n",
    "customer_comment = # \n",
    "\n",
    "print(customer_comment)"
   ]
  },
  {
   "cell_type": "markdown",
   "id": "fa7ca5f1",
   "metadata": {},
   "source": [
    "<a name=\"1\"></a>\n",
    "### 1. Step One\n",
    "\n",
    "🔸 Please create the message `I love shopping online. it's life.` by slicing `customer_comment`. \n",
    "Assign this message to the variable named `shorten_comment`."
   ]
  },
  {
   "cell_type": "code",
   "execution_count": null,
   "id": "4c892da8",
   "metadata": {},
   "outputs": [],
   "source": [
    "# 2.0. Shorten the comment to \"I love shopping online. it's life.\"\n",
    "shorted_comment = #\n",
    "\n",
    "shorted_comment"
   ]
  },
  {
   "cell_type": "markdown",
   "id": "36655628",
   "metadata": {},
   "source": [
    "<a name=\"2\"></a>\n",
    "### 2. Step Two\n",
    "\n",
    "🔸 We want to find customers who are satisfied with their purchases. Therefore we need to even shorten the previous `shorten_comment` even more! (We want to save our server memory). So shorten down the previous comment to `I love shopping`. "
   ]
  },
  {
   "cell_type": "code",
   "execution_count": null,
   "id": "0de911c3",
   "metadata": {},
   "outputs": [],
   "source": [
    "# 3.0. Shorten even more!\n",
    "happy_customer = #\n",
    "\n",
    "happy_customer"
   ]
  },
  {
   "cell_type": "markdown",
   "id": "118d09af",
   "metadata": {},
   "source": [
    "### • Final Result"
   ]
  },
  {
   "cell_type": "code",
   "execution_count": null,
   "id": "8d0ecc40",
   "metadata": {},
   "outputs": [],
   "source": [
    "print(shorted_comment)\n",
    "print(happy_customer)"
   ]
  },
  {
   "cell_type": "markdown",
   "id": "7bb1ebae",
   "metadata": {},
   "source": [
    "---\n",
    "<a name=\"end\"></a>\n",
    "### Congrats! \n",
    "\n",
    "🔥 Let's go to the next session.\n",
    "\n",
    "📝 This Jupyter notebook has been created by [Ahmad Ahmadi](https://www.linkedin.com/in/ahmad-ahmadi95/). Please follow me and [izlearn](https://www.linkedin.com/company/izlearn) on LinkedIn social media.  \n",
    "\n",
    "🌐 Visit your website for more courses [izlearn.ir](https://izlearn.ir)"
   ]
  }
 ],
 "metadata": {
  "kernelspec": {
   "display_name": "Python 3 (ipykernel)",
   "language": "python",
   "name": "python3"
  },
  "language_info": {
   "codemirror_mode": {
    "name": "ipython",
    "version": 3
   },
   "file_extension": ".py",
   "mimetype": "text/x-python",
   "name": "python",
   "nbconvert_exporter": "python",
   "pygments_lexer": "ipython3",
   "version": "3.9.5"
  }
 },
 "nbformat": 4,
 "nbformat_minor": 5
}
