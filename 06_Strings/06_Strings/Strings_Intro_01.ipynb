{
 "cells": [
  {
   "cell_type": "markdown",
   "id": "be0e8560",
   "metadata": {},
   "source": [
    "#### • Table of the content\n",
    "\n",
    "1. [String Definition](#1)\n",
    "2. [Difference Between Single Quotes & Double Quotes](#1-1)\n",
    "3. [Escape Character](#1-2)\n",
    "4. [Triple Quotes](#1-3)\n",
    "5. [String Arithemtic](#1-4)\n",
    "6. [More Info (Follow Me on LinkedIn)](#end)\n",
    "---"
   ]
  },
  {
   "cell_type": "markdown",
   "id": "df5807f8",
   "metadata": {},
   "source": [
    "<a name=\"1\"></a>\n",
    "## • String Definition\n",
    "\n",
    "🔸 We just saw that there are **3 ways** to create strings. `(1.single quotes / 2.double quotes / 3. triple quotes)` Generally speaking there is no difference between single quotes and double quotes. \n"
   ]
  },
  {
   "cell_type": "code",
   "execution_count": 2,
   "id": "be7539d9",
   "metadata": {},
   "outputs": [
    {
     "data": {
      "text/plain": [
       "('Black Shoes', str)"
      ]
     },
     "execution_count": 2,
     "metadata": {},
     "output_type": "execute_result"
    }
   ],
   "source": [
    "# 1.1. Create a string using single quotes → ''\n",
    "product_name = 'Black Shoes'\n",
    "\n",
    "product_name, type(product_name)"
   ]
  },
  {
   "cell_type": "code",
   "execution_count": 3,
   "id": "247c1bda",
   "metadata": {},
   "outputs": [
    {
     "name": "stdout",
     "output_type": "stream",
     "text": [
      "Black Shoes\n"
     ]
    }
   ],
   "source": [
    "# 1.2. But if I use print() → it removes quotations!\n",
    "\n",
    "print(product_name)"
   ]
  },
  {
   "cell_type": "code",
   "execution_count": 5,
   "id": "35eb1b0f",
   "metadata": {},
   "outputs": [
    {
     "data": {
      "text/plain": [
       "('Black Shoes', str)"
      ]
     },
     "execution_count": 5,
     "metadata": {},
     "output_type": "execute_result"
    }
   ],
   "source": [
    "# 1.3. Create a string using double quotes → \"\"\n",
    "product_name = \"Black Shoes\"\n",
    "\n",
    "product_name, type(product_name)"
   ]
  },
  {
   "cell_type": "markdown",
   "id": "cf7abcdf",
   "metadata": {},
   "source": [
    "<a name=\"1-1\"></a>\n",
    "### • Difference Between Single Quoutes & Double Quotes\n",
    "\n",
    "🔸 But sometimes it's important to use which of them `''` or `\"\"`. When your string includes `'` you have to use `\"` or get an **invalid syntax error**. And similarly you have to use `'` when your string has `\"` inside."
   ]
  },
  {
   "cell_type": "code",
   "execution_count": 6,
   "id": "7f4503c5",
   "metadata": {},
   "outputs": [
    {
     "ename": "SyntaxError",
     "evalue": "invalid syntax (2551171471.py, line 2)",
     "output_type": "error",
     "traceback": [
      "\u001b[1;36m  Cell \u001b[1;32mIn[6], line 2\u001b[1;36m\u001b[0m\n\u001b[1;33m    movie_name = 'I'm A Legend\u001b[0m\n\u001b[1;37m                    ^\u001b[0m\n\u001b[1;31mSyntaxError\u001b[0m\u001b[1;31m:\u001b[0m invalid syntax\n"
     ]
    }
   ],
   "source": [
    "# 2.1. Sometime it's important to use  ('' or \"\")\n",
    "movie_name = 'I'm A Legend\n",
    "\n",
    "movie_name"
   ]
  },
  {
   "cell_type": "code",
   "execution_count": 7,
   "id": "bcc0e5bc",
   "metadata": {},
   "outputs": [
    {
     "data": {
      "text/plain": [
       "\"I'm A Legend\""
      ]
     },
     "execution_count": 7,
     "metadata": {},
     "output_type": "execute_result"
    }
   ],
   "source": [
    "# 2.2. How to solve? -> use \"\" instead of ''\n",
    "movie_name = \"I'm A Legend\"\n",
    "\n",
    "movie_name"
   ]
  },
  {
   "cell_type": "code",
   "execution_count": 8,
   "id": "74f572b2",
   "metadata": {},
   "outputs": [
    {
     "ename": "SyntaxError",
     "evalue": "invalid syntax (1316340138.py, line 2)",
     "output_type": "error",
     "traceback": [
      "\u001b[1;36m  Cell \u001b[1;32mIn[8], line 2\u001b[1;36m\u001b[0m\n\u001b[1;33m    text = \"Robert Collier said:\"success is the sum of small efforts.\"\"\u001b[0m\n\u001b[1;37m                                 ^\u001b[0m\n\u001b[1;31mSyntaxError\u001b[0m\u001b[1;31m:\u001b[0m invalid syntax\n"
     ]
    }
   ],
   "source": [
    "# 2.3. Sometimes it's important to use ('' or \"\")\n",
    "text = \"Robert Collier said:\"success is the sum of small efforts.\"\"\n",
    "\n",
    "text"
   ]
  },
  {
   "cell_type": "code",
   "execution_count": 10,
   "id": "2609776a",
   "metadata": {},
   "outputs": [
    {
     "data": {
      "text/plain": [
       "'Robert Collier said:\"success is the sum of small efforts.'"
      ]
     },
     "execution_count": 10,
     "metadata": {},
     "output_type": "execute_result"
    }
   ],
   "source": [
    "# 2.4. How to solve? -> use '' instead of \"\"\n",
    "text = 'Robert Collier said:\"success is the sum of small efforts.'\n",
    "\n",
    "text"
   ]
  },
  {
   "cell_type": "markdown",
   "id": "0ea9a4db",
   "metadata": {},
   "source": [
    "<a name=\"1-2\"></a>\n",
    "### • Escape Character → \\\n",
    "\n",
    "🔸 Another solution is using \\, **escape character**, to handle these situations. It actually says: Hey Python! ignore (escape) the special meaning of this character by now! I want you to treat it as plain text here!"
   ]
  },
  {
   "cell_type": "code",
   "execution_count": 11,
   "id": "1169a4c3",
   "metadata": {},
   "outputs": [
    {
     "name": "stdout",
     "output_type": "stream",
     "text": [
      "I'm A Legend\n",
      "Robert Collier said:\"success is the sum of small efforts.\"\n"
     ]
    }
   ],
   "source": [
    "# 3.1. Use escape character or \\ \n",
    "\n",
    "movie_name = 'I\\'m A Legend'\n",
    "text = \"Robert Collier said:\\\"success is the sum of small efforts.\\\"\"\n",
    "\n",
    "print(movie_name)\n",
    "print(text)"
   ]
  },
  {
   "cell_type": "markdown",
   "id": "c9f7bdff",
   "metadata": {},
   "source": [
    "<a name=\"1-3\"></a>\n",
    "### • Triple Quotes\n",
    "\n",
    "🔸 If your string has both single quote and double qoute within itself, then you can use **triple qoutes**."
   ]
  },
  {
   "cell_type": "code",
   "execution_count": 12,
   "id": "fd95d178",
   "metadata": {},
   "outputs": [
    {
     "data": {
      "text/plain": [
       "'\\nBOOM. They knocked again. Dudley jerked awake.\\n\"Where\\'s the cannon?\" he said stupidly.\\nThere was a crash behind them and Uncle Vernon\\ncame skidding into the room. He was holding a rifle in\\nhis hands — now they knew what had been in the\\nlong, thin package he had brought with them.\\n\"Who\\'s there?\" he shouted. \"I warn you — I\\'m armed!\"\\nThere was a pause\\n'"
      ]
     },
     "execution_count": 12,
     "metadata": {},
     "output_type": "execute_result"
    }
   ],
   "source": [
    "# 4.1 Create a multiple-line string using  → '''  ''' or \"\"\"   \"\"\"\n",
    "long_text = '''\n",
    "BOOM. They knocked again. Dudley jerked awake.\n",
    "\"Where's the cannon?\" he said stupidly.\n",
    "There was a crash behind them and Uncle Vernon\n",
    "came skidding into the room. He was holding a rifle in\n",
    "his hands — now they knew what had been in the\n",
    "long, thin package he had brought with them.\n",
    "\"Who's there?\" he shouted. \"I warn you — I'm armed!\"\n",
    "There was a pause\n",
    "'''\n",
    "\n",
    "long_text"
   ]
  },
  {
   "cell_type": "markdown",
   "id": "7aee0fce",
   "metadata": {},
   "source": [
    "<div class=\"alert alert-info\">\n",
    "    \n",
    "🔸 <b>\\n</b> means something especial in Python, it means go to the next line.<br>\n",
    "🔸 <b>\\t</b> means something especial in Python, it means put 4 space or one tab.<br>\n",
    "🔸 These are called <b>special character</b> in Python programming.\n",
    "    \n",
    " \n",
    "</div>\n",
    "\n",
    "You can get rid of those **\\n** characters using **print( )** function."
   ]
  },
  {
   "cell_type": "code",
   "execution_count": 13,
   "id": "d9f90135",
   "metadata": {},
   "outputs": [
    {
     "name": "stdout",
     "output_type": "stream",
     "text": [
      "\n",
      "BOOM. They knocked again. Dudley jerked awake.\n",
      "\"Where's the cannon?\" he said stupidly.\n",
      "There was a crash behind them and Uncle Vernon\n",
      "came skidding into the room. He was holding a rifle in\n",
      "his hands — now they knew what had been in the\n",
      "long, thin package he had brought with them.\n",
      "\"Who's there?\" he shouted. \"I warn you — I'm armed!\"\n",
      "There was a pause\n",
      "\n"
     ]
    }
   ],
   "source": [
    "# 4.2. Use print() function to handle thoses characters (\\n & \\t and ...)\n",
    "print(long_text)"
   ]
  },
  {
   "cell_type": "code",
   "execution_count": 14,
   "id": "ff151c58",
   "metadata": {},
   "outputs": [
    {
     "name": "stdout",
     "output_type": "stream",
     "text": [
      "I used \n",
      "to go to the next line!\n",
      "\n",
      "I used \t to import four spaces after it!\n"
     ]
    }
   ],
   "source": [
    "# 4.3. Example of \\n & \\t\n",
    "text_one = 'I used \\nto go to the next line!'\n",
    "text_two = 'I used \\t to import four spaces after it!'\n",
    "\n",
    "print(text_one)\n",
    "print('')\n",
    "print(text_two)"
   ]
  },
  {
   "cell_type": "markdown",
   "id": "89869e46",
   "metadata": {},
   "source": [
    "<a name=\"1-4\"></a>\n",
    "### • String Arithmetic \n",
    "\n",
    "* ➕ → **to concatenate** or combine any number of strings together!\n",
    "* ✖️ → **to repeat** strings"
   ]
  },
  {
   "cell_type": "code",
   "execution_count": 17,
   "id": "3c83a22c",
   "metadata": {},
   "outputs": [],
   "source": [
    "# 5.1. Use string concatenation & string repeating \n",
    "\n",
    "movie_name = 'A Beautiful Mind'\n",
    "your_comment = \"It was fantastic\"\n",
    "score = 5\n",
    "\n",
    "user_score = movie_name + ',' + your_comment + '.' 'My score is ' + '*' * score"
   ]
  },
  {
   "cell_type": "code",
   "execution_count": 18,
   "id": "044ee3c3",
   "metadata": {},
   "outputs": [
    {
     "name": "stdout",
     "output_type": "stream",
     "text": [
      "A Beautiful Mind,It was fantasict.My score is *****\n"
     ]
    }
   ],
   "source": [
    "print(user_score)"
   ]
  },
  {
   "cell_type": "code",
   "execution_count": 24,
   "id": "33eae0ff",
   "metadata": {},
   "outputs": [
    {
     "name": "stdout",
     "output_type": "stream",
     "text": [
      "abc\n"
     ]
    }
   ],
   "source": [
    "words = ['a', 'b', 'c']\n",
    "string = ''\n",
    "for item in words:\n",
    "    string += item\n",
    "print(string)"
   ]
  },
  {
   "cell_type": "markdown",
   "id": "47f6c433",
   "metadata": {},
   "source": [
    "---\n",
    "<a name=\"end\"></a>\n",
    "### Congrats! \n",
    "\n",
    "🔥 Let's go to the next session.\n",
    "\n",
    "📝 This Jupyter notebook has been created by [Ahmad Ahmadi](https://www.linkedin.com/in/ahmad-ahmadi95/). Please follow me and [izlearn](https://www.linkedin.com/company/izlearn) on LinkedIn social media.  \n",
    "\n",
    "🌐 Visit your website for more courses [izlearn.ir](https://izlearn.ir)\n"
   ]
  }
 ],
 "metadata": {
  "kernelspec": {
   "display_name": "Python 3 (ipykernel)",
   "language": "python",
   "name": "python3"
  },
  "language_info": {
   "codemirror_mode": {
    "name": "ipython",
    "version": 3
   },
   "file_extension": ".py",
   "mimetype": "text/x-python",
   "name": "python",
   "nbconvert_exporter": "python",
   "pygments_lexer": "ipython3",
   "version": "3.9.5"
  }
 },
 "nbformat": 4,
 "nbformat_minor": 5
}
