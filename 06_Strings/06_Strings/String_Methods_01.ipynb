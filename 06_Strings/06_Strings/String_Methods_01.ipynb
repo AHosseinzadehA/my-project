{
 "cells": [
  {
   "cell_type": "markdown",
   "id": "e1e18836",
   "metadata": {},
   "source": [
    "#### Table of the content\n",
    "\n",
    "1. [String Methods](#0)\n",
    "2. [find() Method](#1)\n",
    "3. [upper() Method](#2)\n",
    "4. [lower() Method](#3)\n",
    "5. [strip() Method](#4)\n",
    "6. [replace() Method](#5)\n",
    "7. [split() Method](#6)\n",
    "8. [join() Method](#7)\n",
    "9. [Chaining Methods](#8)\n",
    "10. [More Info (Follow Me on LinkedIn)](#end)"
   ]
  },
  {
   "cell_type": "markdown",
   "id": "7ed4568e",
   "metadata": {},
   "source": [
    "---\n",
    "<a name=\"0\"></a>\n",
    "\n",
    "## • String Methods\n",
    "\n",
    "🔸 **Methods** are functions that only apply to a **specific data type** or **object**.\n",
    "\n",
    "🔸 We call them by following the object with a period then the method name.\n",
    "\n",
    "```python\n",
    "text = \"Python is a cool language!\"\n",
    "text.replace(\"Python\", \"javaScript\")\n",
    "\n",
    "```\n",
    "**Output:** JavaScript is a cool language!\n",
    "\n",
    "🔸 Python has lot's of built-in methods for string data type. \n",
    "\n",
    "|String Method|Description|\n",
    "|:-:|:-:|\n",
    "|find|Returns the index of first appearance in a given string|\n",
    "|upper|Converts all characters within a string into uppercase|\n",
    "|lower|Converts all characters within a string into lowercase|\n",
    "|strip|Removes all leading and trailing spaces or any other character specified, from a string|\n",
    "|replace|Substitutes a given string of characters with another|\n",
    "|split|Splits a string based on a given separator (space by default)|\n",
    "|join|Joins a list elements into a single string seperated by a delimiter|"
   ]
  },
  {
   "cell_type": "code",
   "execution_count": 1,
   "id": "0bcae01e",
   "metadata": {},
   "outputs": [],
   "source": [
    "# 0.0. Variables for this notebook:\n",
    "text = \"Python is a cool language!\"\n",
    "with_spaces = \"    Python is a cool language!    \"\n",
    "with_quotes = 'Python is \"essential\" for \"AI\" and \"ML\"'\n",
    "words = ['Python', 'is', 'a', 'cool', 'language!']"
   ]
  },
  {
   "cell_type": "markdown",
   "id": "688f0c1e",
   "metadata": {},
   "source": [
    "<a name=\"1\"></a>\n",
    "### • find( ) Method\n",
    "\n",
    "🔸 This method returns the `index` of first apperance in a given string. "
   ]
  },
  {
   "cell_type": "code",
   "execution_count": 2,
   "id": "f0f2693e",
   "metadata": {},
   "outputs": [
    {
     "data": {
      "text/plain": [
       "25"
      ]
     },
     "execution_count": 2,
     "metadata": {},
     "output_type": "execute_result"
    }
   ],
   "source": [
    "# 1.0. find() method:\n",
    "# 1.1. Use directrly on the string\n",
    "\n",
    "'Python is a cool language!'.find('!')"
   ]
  },
  {
   "cell_type": "code",
   "execution_count": 3,
   "id": "e4cacf38",
   "metadata": {},
   "outputs": [
    {
     "data": {
      "text/plain": [
       "25"
      ]
     },
     "execution_count": 3,
     "metadata": {},
     "output_type": "execute_result"
    }
   ],
   "source": [
    "# 1.1. find method:\n",
    "# 1.3. Use it on 'text' variable\n",
    "\n",
    "text.find('!')"
   ]
  },
  {
   "cell_type": "code",
   "execution_count": 4,
   "id": "127c54fc",
   "metadata": {},
   "outputs": [
    {
     "data": {
      "text/plain": [
       "-1"
      ]
     },
     "execution_count": 4,
     "metadata": {},
     "output_type": "execute_result"
    }
   ],
   "source": [
    "# 1.2. find() method example:\n",
    "# 1.3. Use find() to search for 'Cool' \n",
    "# 1.4. find() method is case-sensitive\n",
    "\n",
    "text.find('Cool')"
   ]
  },
  {
   "cell_type": "markdown",
   "id": "c3a64052",
   "metadata": {},
   "source": [
    "---\n",
    "💡 We can use `-1` index in conditions with if and else to print our custome message! \n",
    "\n",
    "Don't worry about **Conditions** we'll learn them in future 🙂\n",
    "\n",
    "Look at the example below 👇🏼\n",
    "\n",
    "---"
   ]
  },
  {
   "cell_type": "code",
   "execution_count": 5,
   "id": "04f2e19e",
   "metadata": {},
   "outputs": [
    {
     "name": "stdout",
     "output_type": "stream",
     "text": [
      "Python is in the string.\n"
     ]
    }
   ],
   "source": [
    "# 1.5. Just RUN the cell (Don't worry about the syntax)\n",
    "# 1.6. text = 'Python is a cool language!'\n",
    "\n",
    "word = 'Python'\n",
    "flag = text.find(word)\n",
    "\n",
    "if flag == -1:\n",
    "    print(f'{word} is not in the string!')\n",
    "else:\n",
    "    print(f'{word} is in the string.')"
   ]
  },
  {
   "cell_type": "markdown",
   "id": "00f40c13",
   "metadata": {},
   "source": [
    "<a name=\"2\"></a>\n",
    "### • upper( ) Method\n",
    "\n",
    "🔸 This method converts all characters within a string into `uppercase`. "
   ]
  },
  {
   "cell_type": "code",
   "execution_count": 6,
   "id": "a5b1f413",
   "metadata": {},
   "outputs": [
    {
     "data": {
      "text/plain": [
       "'PYTHON IS A COOL LANGUAGE!'"
      ]
     },
     "execution_count": 6,
     "metadata": {},
     "output_type": "execute_result"
    }
   ],
   "source": [
    "# 2.0. upper() method:\n",
    "# 2.1. Use directly on the string\n",
    "\n",
    "'Python is a cool language!'.upper()"
   ]
  },
  {
   "cell_type": "code",
   "execution_count": 7,
   "id": "fce8d132",
   "metadata": {},
   "outputs": [
    {
     "data": {
      "text/plain": [
       "'PYTHON IS A COOL LANGUAGE!'"
      ]
     },
     "execution_count": 7,
     "metadata": {},
     "output_type": "execute_result"
    }
   ],
   "source": [
    "# 2.2. upper() method:\n",
    "# 2.3. Use it on the 'text'\n",
    "# 2.4. text = 'Python is a cool language!'\n",
    "\n",
    "text.upper()"
   ]
  },
  {
   "cell_type": "markdown",
   "id": "6c39e8a0",
   "metadata": {},
   "source": [
    "<div class=\"alert alert-info\">\n",
    "    💡 <b>Note:</b> <mark>The original string remains unchanged!</mark> Can you guess what? yeah! strings are immuatable so these methods just create a copy of the original string and change it. if you don't remember the immuatables, click the <b><a href=\"https://www.izlearn.ir/courses/python-zero-to-hero-course/lessons/python-zero-to-hero-mutable-concept-in-python-s03-e05/\" target='_blank'>link</a></b> to get familiar. \n",
    "</div>"
   ]
  },
  {
   "cell_type": "code",
   "execution_count": 8,
   "id": "d157f7e4",
   "metadata": {},
   "outputs": [
    {
     "name": "stdout",
     "output_type": "stream",
     "text": [
      "Python is a cool language! \n",
      " PYTHON IS A COOL LANGUAGE!\n"
     ]
    }
   ],
   "source": [
    "# 2.5. Strings are immutable so;\n",
    "# 2.6. Thier methods can't change them!\n",
    "uppered = text.upper()\n",
    "\n",
    "# 2.2. Print the uppered and the text\n",
    "print(text, '\\n', uppered)"
   ]
  },
  {
   "cell_type": "markdown",
   "id": "2612767a",
   "metadata": {},
   "source": [
    "<a name=\"3\"></a>\n",
    "### • lower( ) Method\n",
    "\n",
    "🔸 This method coverts all characters within a string into `lowercase`."
   ]
  },
  {
   "cell_type": "code",
   "execution_count": 9,
   "id": "0acb3569",
   "metadata": {},
   "outputs": [
    {
     "data": {
      "text/plain": [
       "'python is a cool language!'"
      ]
     },
     "execution_count": 9,
     "metadata": {},
     "output_type": "execute_result"
    }
   ],
   "source": [
    "# 3.0. lower() method:\n",
    "# 3.1. Turn all characters in 'uppered' into lowercase\n",
    "# 3.2. uppered = 'PYTHON IS A COOL LANGUAGE!'\n",
    "\n",
    "uppered.lower()"
   ]
  },
  {
   "cell_type": "markdown",
   "id": "faaf3001",
   "metadata": {},
   "source": [
    "<a name=\"4\"></a>\n",
    "### • strip( ) Method\n",
    "\n",
    "🔸 This method removes all `white spaces` (leading & trailing) or `any other specified character` from a string. If you only want to remove spaces (or any character) from left the string, **.lstrip()** is what you need. And if you decied to remove white spaces form the right-hand (trail) of a string, **rstrip()** is available for you. \n",
    "\n",
    "```python\n",
    "# from both left and right (head & trail)\n",
    "your_string.strip()\n",
    "\n",
    "# from left (head)\n",
    "your_string.lstrip()\n",
    "\n",
    "# from right (trail)\n",
    "your_string.rstrip()\n",
    "\n",
    "```"
   ]
  },
  {
   "cell_type": "code",
   "execution_count": 10,
   "id": "4b044a85",
   "metadata": {},
   "outputs": [
    {
     "data": {
      "text/plain": [
       "'Python is a cool language!'"
      ]
     },
     "execution_count": 10,
     "metadata": {},
     "output_type": "execute_result"
    }
   ],
   "source": [
    "# 4.0. strip() method example: \n",
    "# 4.1. with_spaces = \"    Python is a cool language!    \"\n",
    "\n",
    "with_spaces.strip()"
   ]
  },
  {
   "cell_type": "markdown",
   "id": "16a77c96",
   "metadata": {},
   "source": [
    "<div class=\"alert alert-info\">🔸 We can use <b>strip( )</b> method to remove the character of <u>interest!</u> </div>"
   ]
  },
  {
   "cell_type": "code",
   "execution_count": 11,
   "id": "0bbf7370",
   "metadata": {},
   "outputs": [
    {
     "data": {
      "text/plain": [
       "41.0"
      ]
     },
     "execution_count": 11,
     "metadata": {},
     "output_type": "execute_result"
    }
   ],
   "source": [
    "# 4.2. Use strip( ) method to remove '€' \n",
    "# 4.3. Then convert it to float number\n",
    "jacket_price = '39€'\n",
    "tax = 2\n",
    "\n",
    "float(jacket_price.strip('€')) + tax"
   ]
  },
  {
   "cell_type": "markdown",
   "id": "af86ebf4",
   "metadata": {},
   "source": [
    "<a name=\"5\"></a>\n",
    "### • replace( ) Method\n",
    "\n",
    "🔸 This method `substitutes` a given string with another one. "
   ]
  },
  {
   "cell_type": "code",
   "execution_count": 12,
   "id": "419960e4",
   "metadata": {},
   "outputs": [
    {
     "data": {
      "text/plain": [
       "'JavaScript is a cool language!'"
      ]
     },
     "execution_count": 12,
     "metadata": {},
     "output_type": "execute_result"
    }
   ],
   "source": [
    "# 5.0. replace() method\n",
    "# 5.1. Replace 'Python' with 'JavaScript'\n",
    "# 5.2. text = 'Python is a cool language!'\n",
    "\n",
    "text.replace('Python', 'JavaScript')"
   ]
  },
  {
   "cell_type": "code",
   "execution_count": 13,
   "id": "d5419dbc",
   "metadata": {},
   "outputs": [
    {
     "data": {
      "text/plain": [
       "'Pythonisacoollanguage!'"
      ]
     },
     "execution_count": 13,
     "metadata": {},
     "output_type": "execute_result"
    }
   ],
   "source": [
    "# 5.3. replace() method:\n",
    "# 5.4. Remove 'space character' from the text\n",
    "# 5.5 text = 'Python is a cool language!'\n",
    "\n",
    "text.replace(' ', '')"
   ]
  },
  {
   "cell_type": "code",
   "execution_count": 14,
   "id": "088eeb83",
   "metadata": {},
   "outputs": [
    {
     "data": {
      "text/plain": [
       "'Python is essential for AI and ML'"
      ]
     },
     "execution_count": 14,
     "metadata": {},
     "output_type": "execute_result"
    }
   ],
   "source": [
    "# 5.2. replace() method: \n",
    "# 5.7. Remove all 'double quotes' from the text\n",
    "# 5.3. with_quotes = 'Python is \"essential\" for \"AI\" and \"ML\"'\n",
    "\n",
    "with_quotes.replace('\"', '')"
   ]
  },
  {
   "cell_type": "code",
   "execution_count": 15,
   "id": "f2934314",
   "metadata": {},
   "outputs": [
    {
     "data": {
      "text/plain": [
       "'Python is \"essential\" for \"AI\" and \"ML\"'"
      ]
     },
     "execution_count": 15,
     "metadata": {},
     "output_type": "execute_result"
    }
   ],
   "source": [
    "# The main stirng \n",
    "with_quotes"
   ]
  },
  {
   "cell_type": "markdown",
   "id": "03e8caae",
   "metadata": {},
   "source": [
    "<a name=\"6\"></a>\n",
    "### • split( ) Method\n",
    "\n",
    "🔸 This method `separates` a string into `a list` of individual words based on a given separator (space by default)"
   ]
  },
  {
   "cell_type": "code",
   "execution_count": 16,
   "id": "0ff2ccc5",
   "metadata": {},
   "outputs": [
    {
     "data": {
      "text/plain": [
       "['Python', 'is', 'a', 'cool', 'language!']"
      ]
     },
     "execution_count": 16,
     "metadata": {},
     "output_type": "execute_result"
    }
   ],
   "source": [
    "# 6.0. split() method:\n",
    "# 6.1. Turn text into a list of words\n",
    "# 6.2. text = 'Python is a cool language!'\n",
    "\n",
    "text.split()"
   ]
  },
  {
   "cell_type": "markdown",
   "id": "10db4e41",
   "metadata": {},
   "source": [
    "<a name=\"7\"></a>\n",
    "### • join( ) Mehtod\n",
    "\n",
    "🔸 This method `joins` a list of items into `one string` separated by a delimiter."
   ]
  },
  {
   "cell_type": "code",
   "execution_count": 17,
   "id": "85be00bf",
   "metadata": {},
   "outputs": [
    {
     "data": {
      "text/plain": [
       "'Python is a cool language!'"
      ]
     },
     "execution_count": 17,
     "metadata": {},
     "output_type": "execute_result"
    }
   ],
   "source": [
    "# 7.0. join() method: \n",
    "# 7.1. Trun words_list into a complete string\n",
    "# 7.2. words = ['Python', 'is', 'a', 'cool', 'language!']\n",
    "\n",
    "' '.join(words)"
   ]
  },
  {
   "cell_type": "code",
   "execution_count": 18,
   "id": "fdade528",
   "metadata": {},
   "outputs": [
    {
     "data": {
      "text/plain": [
       "'Python-is-a-cool-language!'"
      ]
     },
     "execution_count": 18,
     "metadata": {},
     "output_type": "execute_result"
    }
   ],
   "source": [
    "# 7.1. join() method:\n",
    "# 7.2. Turn words_list into a string each word separeted by → dash\n",
    "\n",
    "'-'.join(words)"
   ]
  },
  {
   "cell_type": "markdown",
   "id": "fd3f7400",
   "metadata": {},
   "source": [
    "<a name=\"8\"></a>\n",
    "\n",
    "## • Chaining Methods\n",
    "\n",
    "🔸 In Python; methods **can be changed** to create *powerful expressions*"
   ]
  },
  {
   "cell_type": "code",
   "execution_count": 19,
   "id": "159ebf79",
   "metadata": {},
   "outputs": [],
   "source": [
    "my_str = \"LET'S LEARN Python RIGHT NOW!\""
   ]
  },
  {
   "cell_type": "code",
   "execution_count": 20,
   "id": "025eb445",
   "metadata": {},
   "outputs": [
    {
     "data": {
      "text/plain": [
       "-1"
      ]
     },
     "execution_count": 20,
     "metadata": {},
     "output_type": "execute_result"
    }
   ],
   "source": [
    "# 8.0. Use find() method to search for 'python'\n",
    "# 8.1. Pay attention to the first letter (p) NOT (P)\n",
    "\n",
    "my_str.find('python')"
   ]
  },
  {
   "cell_type": "code",
   "execution_count": 21,
   "id": "cd3b698a",
   "metadata": {},
   "outputs": [
    {
     "data": {
      "text/plain": [
       "12"
      ]
     },
     "execution_count": 21,
     "metadata": {},
     "output_type": "execute_result"
    }
   ],
   "source": [
    "# 8.2. Use lower() & find() in chain to solve\n",
    "\n",
    "my_str.lower().find('python')"
   ]
  },
  {
   "cell_type": "code",
   "execution_count": 22,
   "id": "8f2d28cf",
   "metadata": {},
   "outputs": [],
   "source": [
    "# 8.3. CHALLENGE: \n",
    "\n",
    "# 8.4. Step 1) Pull out 'LEARN Python RIGHT NOW!' from my_str\n",
    "# 8.5. Step 2) Change all the characters to lowercase\n",
    "# 8.6. Step 3) Remove '!' \n",
    "# 8.7. Step 4) Turn the new string into a list of words"
   ]
  },
  {
   "cell_type": "code",
   "execution_count": 23,
   "id": "220438b2",
   "metadata": {},
   "outputs": [
    {
     "data": {
      "text/plain": [
       "['learn', 'python', 'right', 'now']"
      ]
     },
     "execution_count": 23,
     "metadata": {},
     "output_type": "execute_result"
    }
   ],
   "source": [
    "# Solution HERE:\n",
    "my_str[6:].lower().strip('!').split()"
   ]
  },
  {
   "cell_type": "markdown",
   "id": "7315b9fc",
   "metadata": {},
   "source": [
    "---\n",
    "<a name=\"end\"></a>\n",
    "### Congrats! \n",
    "\n",
    "🔥 Let's go to the next session.\n",
    "\n",
    "📝 This Jupyter notebook has been created by [Ahmad Ahmadi](https://www.linkedin.com/in/ahmad-ahmadi95/). Please follow me and [izlearn](https://www.linkedin.com/company/izlearn) on LinkedIn social media.  \n",
    "\n",
    "🌐 Visit your website for more courses [izlearn.ir](https://izlearn.ir)\n"
   ]
  }
 ],
 "metadata": {
  "kernelspec": {
   "display_name": "Python 3 (ipykernel)",
   "language": "python",
   "name": "python3"
  },
  "language_info": {
   "codemirror_mode": {
    "name": "ipython",
    "version": 3
   },
   "file_extension": ".py",
   "mimetype": "text/x-python",
   "name": "python",
   "nbconvert_exporter": "python",
   "pygments_lexer": "ipython3",
   "version": "3.9.5"
  }
 },
 "nbformat": 4,
 "nbformat_minor": 5
}
