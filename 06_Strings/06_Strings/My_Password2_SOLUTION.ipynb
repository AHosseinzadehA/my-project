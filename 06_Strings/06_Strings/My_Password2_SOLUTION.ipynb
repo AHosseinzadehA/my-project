{
 "cells": [
  {
   "cell_type": "markdown",
   "id": "5f1465c9",
   "metadata": {},
   "source": [
    "## • Finding The Secret Password Again!\n",
    "\n",
    "Hi there!\n",
    "\n",
    "This is the attached jupyter file. You need to run the cell below to defined the variables you need during this assignment. \n",
    "\n",
    "Good Luck"
   ]
  },
  {
   "cell_type": "code",
   "execution_count": 1,
   "id": "745a6e65",
   "metadata": {},
   "outputs": [],
   "source": [
    "# Alphabetical characters\n",
    "alphabet = \"abcdefghijklmnopqrstuvwxyz\"\n",
    "\n",
    "# Messages to decode: \n",
    "message1 = \"program?\"\n",
    "message2 = \"Do you think about Python\"\n",
    "message3 = \"Abstractive\"\n",
    "message4 = \"shop\"\n",
    "message5 = \"\"\n",
    "message6 = \"Python is so cool\"\n",
    "message7 = \"Don't try man\""
   ]
  },
  {
   "cell_type": "markdown",
   "id": "b2d7a759",
   "metadata": {},
   "source": [
    "### ° Warm Up! (little practice with len & string indexing)\n",
    "\n",
    "🔸 Can you tell how many alphabets we have in English? (use `alphabet` and `len` function)\n",
    "\n",
    "🔸 Can you tell what is the **first**, the **last** and **thirteenth** letters in English alphabet? (using `string indexing`)"
   ]
  },
  {
   "cell_type": "code",
   "execution_count": 2,
   "id": "50704d33",
   "metadata": {},
   "outputs": [],
   "source": [
    "# 1.1. How many alphabets is there in English? \n",
    "all_alphabet = len(alphabet)\n",
    "\n",
    "# 1.2. Find the first, the last and thirteenth letter in alphabet:\n",
    "first = alphabet[0]\n",
    "thirteenth = alphabet[12]\n",
    "last = alphabet[-1]"
   ]
  },
  {
   "cell_type": "code",
   "execution_count": 3,
   "id": "437047bd",
   "metadata": {},
   "outputs": [
    {
     "name": "stdout",
     "output_type": "stream",
     "text": [
      "There is 26 alhabets in Enlgish.\n",
      "-.-.-.-.-.-.-.-.-.-.-.-.-.-.-.-.\n",
      "The first letter: a\n",
      "The thiteenth letter: m\n",
      "The last letter: z\n"
     ]
    }
   ],
   "source": [
    "# 1.3. Just run the cell below \n",
    "print(f'There is {all_alphabet} alphabets in Enlgish.')\n",
    "print('-.-.'*8)\n",
    "print(f'The first letter: {first}\\nThe thirteenth letter: {thirteenth}\\nThe last letter: {last}')"
   ]
  },
  {
   "cell_type": "markdown",
   "id": "c17392e7",
   "metadata": {},
   "source": [
    "### ° Discover the Mystery\n",
    "\n",
    "💡 **Erfan:** I've found the `length of each message` reprenting a letter in the alphabet for each character in the password! but I don't know how to use it to crack the password! \n",
    "\n",
    "I think you, as a Python programmer, are able to discover this password.\n",
    "\n",
    "Please send the cracked password once you solve it. "
   ]
  },
  {
   "cell_type": "code",
   "execution_count": 9,
   "id": "876eb531",
   "metadata": {},
   "outputs": [],
   "source": [
    "# 1.4. Write your code here \n",
    "password = (alphabet[len(message1)]\n",
    "           + alphabet[len(message2)]\n",
    "           + alphabet[len(message3)]\n",
    "           + alphabet[len(message4)]\n",
    "           + alphabet[len(message5)]\n",
    "           + alphabet[len(message6)]\n",
    "           + alphabet[len(message7)])\n"
   ]
  },
  {
   "cell_type": "code",
   "execution_count": 10,
   "id": "454ecd7c",
   "metadata": {},
   "outputs": [
    {
     "name": "stdout",
     "output_type": "stream",
     "text": [
      "izlearn\n"
     ]
    }
   ],
   "source": [
    "# 1.5. Show the result\n",
    "print(password)"
   ]
  },
  {
   "cell_type": "markdown",
   "id": "583cc495",
   "metadata": {},
   "source": [
    "### This is also possible ...\n",
    "\n",
    "you can do this without parenthesis. But as you see it's a little hard to see the whole code. You need to use **scroll bar** to see your code."
   ]
  },
  {
   "cell_type": "code",
   "execution_count": 11,
   "id": "02c7a552",
   "metadata": {},
   "outputs": [
    {
     "name": "stdout",
     "output_type": "stream",
     "text": [
      "password is izlearn\n"
     ]
    }
   ],
   "source": [
    "password = alphabet[len(message1)] + alphabet[len(message2)] + alphabet[len(message3)] + alphabet[len(message4)] + alphabet[len(message5)] + alphabet[len(message6)] + alphabet[len(message7)]\n",
    "\n",
    "print(f'password is', password)"
   ]
  },
  {
   "cell_type": "markdown",
   "id": "34b716f6",
   "metadata": {},
   "source": [
    "---\n",
    "<a name=\"end\"></a>\n",
    "### Congrats! \n",
    "\n",
    "🔥 Let's go to the next session.\n",
    "\n",
    "📝 This Jupyter notebook has been created by [Ahmad Ahmadi](https://www.linkedin.com/in/ahmad-ahmadi95/). Please follow me and [izlearn](https://www.linkedin.com/company/izlearn) on LinkedIn social media.  \n",
    "\n",
    "🌐 Visit your website for more courses [izlearn.ir](https://izlearn.ir)\n"
   ]
  }
 ],
 "metadata": {
  "kernelspec": {
   "display_name": "Python 3 (ipykernel)",
   "language": "python",
   "name": "python3"
  },
  "language_info": {
   "codemirror_mode": {
    "name": "ipython",
    "version": 3
   },
   "file_extension": ".py",
   "mimetype": "text/x-python",
   "name": "python",
   "nbconvert_exporter": "python",
   "pygments_lexer": "ipython3",
   "version": "3.9.5"
  }
 },
 "nbformat": 4,
 "nbformat_minor": 5
}
