{
 "cells": [
  {
   "cell_type": "markdown",
   "id": "837fef61",
   "metadata": {},
   "source": [
    "## • Inventory Status\n",
    "\n",
    "🔸 Our products and inventory levels are in the lists below!"
   ]
  },
  {
   "cell_type": "code",
   "execution_count": 1,
   "id": "2b103bea",
   "metadata": {},
   "outputs": [],
   "source": [
    "items = ['belt', 'shirt', 'pants', 'dress', 'backpack']\n",
    "inventory = [30, 15, 0, 12, 0]"
   ]
  },
  {
   "cell_type": "markdown",
   "id": "8c41bf60",
   "metadata": {},
   "source": [
    "---\n",
    "### • Inventory Status Dictionary\n",
    "\n",
    "🔸 Can you create a dictionary that:\n",
    "\n",
    "* Stores item name as key\n",
    "* Values are <span style=\"font-family:consolas;color:darkred;font-weight:bold;\">\"sold out\"</span> if inventory is <span style=\"font-family:consolas;color:darkgreen;font-weight:bold;\">0</span>, and <span style=\"font-family:consolas;color:darkred;font-weight:bold;\">\"in stock\"</span> if not?\n",
    "\n",
    "⭕ **Don't create this by writing out all the key value pairs!**\n"
   ]
  },
  {
   "cell_type": "code",
   "execution_count": 2,
   "id": "feefc0aa",
   "metadata": {},
   "outputs": [],
   "source": [
    "# Create your empty dictionary here:\n",
    "inventory_status = {}"
   ]
  },
  {
   "cell_type": "code",
   "execution_count": 6,
   "id": "d41acd89",
   "metadata": {},
   "outputs": [
    {
     "name": "stdout",
     "output_type": "stream",
     "text": [
      "Done!\n"
     ]
    }
   ],
   "source": [
    "for index, item in enumerate(items):\n",
    "    if inventory[index] > 0:\n",
    "        inventory_status[item] = 'in stock'\n",
    "        \n",
    "    else:\n",
    "        inventory_status[item] = 'sold out'\n",
    "        \n",
    "print('Done!')"
   ]
  },
  {
   "cell_type": "code",
   "execution_count": 10,
   "id": "926a0725",
   "metadata": {},
   "outputs": [
    {
     "data": {
      "text/plain": [
       "{'belt': 'in stock',\n",
       " 'shirt': 'in stock',\n",
       " 'pants': 'sold out',\n",
       " 'dress': 'in stock',\n",
       " 'backpack': 'sold out'}"
      ]
     },
     "execution_count": 10,
     "metadata": {},
     "output_type": "execute_result"
    }
   ],
   "source": [
    "inventory_status"
   ]
  },
  {
   "cell_type": "markdown",
   "id": "41aa218f",
   "metadata": {},
   "source": [
    "---\n",
    "<a name=\"end\"></a>\n",
    "### Congrats! \n",
    "\n",
    "🔥 Let's go to the next session.\n",
    "\n",
    "📝 This Jupyter notebook has been created by [Ahmad Ahmadi](https://www.linkedin.com/in/ahmad-ahmadi95/). Please follow me and [izlearn](https://www.linkedin.com/company/izlearn) on LinkedIn social media.  \n",
    "\n",
    "🌐 Visit your website for more courses [izlearn.ir](https://izlearn.ir)"
   ]
  }
 ],
 "metadata": {
  "kernelspec": {
   "display_name": "Python 3 (ipykernel)",
   "language": "python",
   "name": "python3"
  },
  "language_info": {
   "codemirror_mode": {
    "name": "ipython",
    "version": 3
   },
   "file_extension": ".py",
   "mimetype": "text/x-python",
   "name": "python",
   "nbconvert_exporter": "python",
   "pygments_lexer": "ipython3",
   "version": "3.9.5"
  }
 },
 "nbformat": 4,
 "nbformat_minor": 5
}
