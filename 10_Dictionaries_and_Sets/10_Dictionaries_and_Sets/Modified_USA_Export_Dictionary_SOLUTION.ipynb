{
 "cells": [
  {
   "cell_type": "markdown",
   "id": "971e7b9c",
   "metadata": {},
   "source": [
    "## • Modified USA Item Dictionary\n",
    "\n",
    "🙋🏼‍♂️ **Hi there!**\n",
    "\n",
    "🔸 We have a **new structure** for our USA Export Plan data. We created a **nested dictionary**. \n",
    "\n",
    "✔ **Please give me a hand with the followings** \n",
    "\n",
    "👉🏼 Return the **price** of item **10007**\n",
    "\n",
    "👉🏼 **Update** the **sizes** for item **10006** (the values are in a sorted list)\n",
    "\n",
    "👉🏼 Create a **dictionary** based on new dictionary that includes **item names** as **keys** and **sizes** as **values**. \n",
    "\n",
    "---"
   ]
  },
  {
   "cell_type": "code",
   "execution_count": 4,
   "id": "e2b57351",
   "metadata": {},
   "outputs": [],
   "source": [
    "# Import 'pprint()' into your jupyter notebook\n",
    "from pprint import pprint"
   ]
  },
  {
   "cell_type": "code",
   "execution_count": 1,
   "id": "be0f99ae",
   "metadata": {},
   "outputs": [],
   "source": [
    "item_ids = [10001, 10002, 10003, 10004,\n",
    "            10005, 10006, 10007, 10008,\n",
    "            10009]\n",
    "\n",
    "item_names = [\n",
    "    'Shirt',\n",
    "    'Beanie',\n",
    "    'Socks',\n",
    "    'Pants',\n",
    "    'Belt',\n",
    "    'Boots',\n",
    "    'Coat',\n",
    "    'Dress',\n",
    "    'Sunglasses'\n",
    "]\n",
    "\n",
    "usd_prices = [14.04, 4.31, 1.08, 22.67,\n",
    "              4.31, 32.4, 98.27, 43.2,\n",
    "              13.5]\n",
    "\n",
    "item_categories = [\n",
    "    'clothing',\n",
    "    'accessory',\n",
    "    'accessory',\n",
    "    'clothing',\n",
    "    'accessory',\n",
    "    'clothing',\n",
    "    'clothing',\n",
    "    'clothing',\n",
    "    'accessory'\n",
    "]\n",
    "\n",
    "sizes = [\n",
    "    ['s', 'm', 'l', 'xl'],\n",
    "    ['child', 'adult'],\n",
    "    ['child', 'adult'],\n",
    "    ['s', 'm', 'l', 'xl'],\n",
    "    ['child', 'adult'],\n",
    "    [5, 6, 7, 8, 9, 10],\n",
    "    ['s', 'm', 'l'],\n",
    "    ['s', 'm', 'l'],\n",
    "    ['child', 'adult']\n",
    "\n",
    "]"
   ]
  },
  {
   "cell_type": "markdown",
   "id": "a326bc56",
   "metadata": {},
   "source": [
    "### • JUST RUN (Don't Worry About Syntax)\n",
    "\n",
    "🔸 This is a [dictionary comprehension](https://www.google.com/search?q=dictionary+comprehension+python). We will learn this syntax in the next chapter!\n",
    "\n",
    "👀 **We'll also learn about**\n",
    "- List comprehension\n",
    "- Tuple comprehension"
   ]
  },
  {
   "cell_type": "code",
   "execution_count": 2,
   "id": "6a6ff380",
   "metadata": {},
   "outputs": [],
   "source": [
    "usa_data = {\n",
    "    item_id: {'name': name, 'price': price, 'category': category, 'sizes': size}\n",
    "    for item_id, name, price, category, size in zip(\n",
    "        item_ids, item_names, usd_prices, item_categories, sizes)\n",
    "}"
   ]
  },
  {
   "cell_type": "code",
   "execution_count": 3,
   "id": "92fde2e2",
   "metadata": {},
   "outputs": [
    {
     "data": {
      "text/plain": [
       "{10001: {'name': 'Shirt',\n",
       "  'price': 14.04,\n",
       "  'category': 'clothing',\n",
       "  'sizes': ['s', 'm', 'l', 'xl']},\n",
       " 10002: {'name': 'Beanie',\n",
       "  'price': 4.31,\n",
       "  'category': 'accessory',\n",
       "  'sizes': ['child', 'adult']},\n",
       " 10003: {'name': 'Socks',\n",
       "  'price': 1.08,\n",
       "  'category': 'accessory',\n",
       "  'sizes': ['child', 'adult']},\n",
       " 10004: {'name': 'Pants',\n",
       "  'price': 22.67,\n",
       "  'category': 'clothing',\n",
       "  'sizes': ['s', 'm', 'l', 'xl']},\n",
       " 10005: {'name': 'Belt',\n",
       "  'price': 4.31,\n",
       "  'category': 'accessory',\n",
       "  'sizes': ['child', 'adult']},\n",
       " 10006: {'name': 'Boots',\n",
       "  'price': 32.4,\n",
       "  'category': 'clothing',\n",
       "  'sizes': [5, 6, 7, 8, 9, 10]},\n",
       " 10007: {'name': 'Coat',\n",
       "  'price': 98.27,\n",
       "  'category': 'clothing',\n",
       "  'sizes': ['s', 'm', 'l']},\n",
       " 10008: {'name': 'Dress',\n",
       "  'price': 43.2,\n",
       "  'category': 'clothing',\n",
       "  'sizes': ['s', 'm', 'l']},\n",
       " 10009: {'name': 'Sunglasses',\n",
       "  'price': 13.5,\n",
       "  'category': 'accessory',\n",
       "  'sizes': ['child', 'adult']}}"
      ]
     },
     "execution_count": 3,
     "metadata": {},
     "output_type": "execute_result"
    }
   ],
   "source": [
    "usa_data"
   ]
  },
  {
   "cell_type": "code",
   "execution_count": 5,
   "id": "317641e1",
   "metadata": {},
   "outputs": [
    {
     "name": "stdout",
     "output_type": "stream",
     "text": [
      "{10001: {'category': 'clothing',\n",
      "         'name': 'Shirt',\n",
      "         'price': 14.04,\n",
      "         'sizes': ['s', 'm', 'l', 'xl']},\n",
      " 10002: {'category': 'accessory',\n",
      "         'name': 'Beanie',\n",
      "         'price': 4.31,\n",
      "         'sizes': ['child', 'adult']},\n",
      " 10003: {'category': 'accessory',\n",
      "         'name': 'Socks',\n",
      "         'price': 1.08,\n",
      "         'sizes': ['child', 'adult']},\n",
      " 10004: {'category': 'clothing',\n",
      "         'name': 'Pants',\n",
      "         'price': 22.67,\n",
      "         'sizes': ['s', 'm', 'l', 'xl']},\n",
      " 10005: {'category': 'accessory',\n",
      "         'name': 'Belt',\n",
      "         'price': 4.31,\n",
      "         'sizes': ['child', 'adult']},\n",
      " 10006: {'category': 'clothing',\n",
      "         'name': 'Boots',\n",
      "         'price': 32.4,\n",
      "         'sizes': [5, 6, 7, 8, 9, 10]},\n",
      " 10007: {'category': 'clothing',\n",
      "         'name': 'Coat',\n",
      "         'price': 98.27,\n",
      "         'sizes': ['s', 'm', 'l']},\n",
      " 10008: {'category': 'clothing',\n",
      "         'name': 'Dress',\n",
      "         'price': 43.2,\n",
      "         'sizes': ['s', 'm', 'l']},\n",
      " 10009: {'category': 'accessory',\n",
      "         'name': 'Sunglasses',\n",
      "         'price': 13.5,\n",
      "         'sizes': ['child', 'adult']}}\n"
     ]
    }
   ],
   "source": [
    "# Use 'pprint()' to have pretty output\n",
    "pprint(usa_data)"
   ]
  },
  {
   "cell_type": "markdown",
   "id": "2d21392f",
   "metadata": {},
   "source": [
    "### • Retrieve A Price\n",
    "\n",
    "🔸 Can you check the **price** for item **10007**? I just want to be sure that the price is correct!"
   ]
  },
  {
   "cell_type": "code",
   "execution_count": 12,
   "id": "ca3c88c0",
   "metadata": {},
   "outputs": [
    {
     "data": {
      "text/plain": [
       "98.27"
      ]
     },
     "execution_count": 12,
     "metadata": {},
     "output_type": "execute_result"
    }
   ],
   "source": [
    "# Write our code here\n",
    "usa_data[10007][\"price\"]"
   ]
  },
  {
   "cell_type": "markdown",
   "id": "757e834a",
   "metadata": {},
   "source": [
    "### • New Sizes Are Available Now!\n",
    "\n",
    "🔸 We have a meeting with marketing team and finally the decision was to extend the available size for **boots**. Please update the sizes list for this product.\n",
    "\n",
    "👇🏼 The new sizes are in the list below"
   ]
  },
  {
   "cell_type": "code",
   "execution_count": 16,
   "id": "3de0a938",
   "metadata": {},
   "outputs": [],
   "source": [
    "boot_sizes = [6, 6.5, 7, 7.5, 8, 8.5, 9, 9.5, 10]"
   ]
  },
  {
   "cell_type": "code",
   "execution_count": 17,
   "id": "5de60ab4",
   "metadata": {},
   "outputs": [],
   "source": [
    "# Write our code here\n",
    "usa_data[10006][\"sizes\"] = boot_sizes"
   ]
  },
  {
   "cell_type": "code",
   "execution_count": 19,
   "id": "af0de0f2",
   "metadata": {},
   "outputs": [
    {
     "data": {
      "text/plain": [
       "{'name': 'Boots',\n",
       " 'price': 32.4,\n",
       " 'category': 'clothing',\n",
       " 'sizes': [6, 6.5, 7, 7.5, 8, 8.5, 9, 9.5, 10]}"
      ]
     },
     "execution_count": 19,
     "metadata": {},
     "output_type": "execute_result"
    }
   ],
   "source": [
    "usa_data[10006]"
   ]
  },
  {
   "cell_type": "markdown",
   "id": "811dd51e",
   "metadata": {},
   "source": [
    "### • Sizes Dictionary \n",
    "\n",
    "🔸 The last thing I need is a dictionary with **item names** as **keys**, and **sizes** (keep them in a list) as the **values**."
   ]
  },
  {
   "cell_type": "code",
   "execution_count": 21,
   "id": "030f3fb0",
   "metadata": {},
   "outputs": [
    {
     "name": "stdout",
     "output_type": "stream",
     "text": [
      "Done!\n"
     ]
    }
   ],
   "source": [
    "# Write our code here\n",
    "product_sizes = {}\n",
    "for item_details in usa_data.values():\n",
    "    product_sizes[item_details[\"name\"]] = item_details[\"sizes\"]\n",
    "    \n",
    "print('Done!')"
   ]
  },
  {
   "cell_type": "code",
   "execution_count": 22,
   "id": "b1a53710",
   "metadata": {},
   "outputs": [
    {
     "data": {
      "text/plain": [
       "{'Shirt': ['s', 'm', 'l', 'xl'],\n",
       " 'Beanie': ['child', 'adult'],\n",
       " 'Socks': ['child', 'adult'],\n",
       " 'Pants': ['s', 'm', 'l', 'xl'],\n",
       " 'Belt': ['child', 'adult'],\n",
       " 'Boots': [6, 6.5, 7, 7.5, 8, 8.5, 9, 9.5, 10],\n",
       " 'Coat': ['s', 'm', 'l'],\n",
       " 'Dress': ['s', 'm', 'l'],\n",
       " 'Sunglasses': ['child', 'adult']}"
      ]
     },
     "execution_count": 22,
     "metadata": {},
     "output_type": "execute_result"
    }
   ],
   "source": [
    "product_sizes"
   ]
  },
  {
   "cell_type": "markdown",
   "id": "06821be7",
   "metadata": {},
   "source": [
    "---\n",
    "<a name=\"end\"></a>\n",
    "### Congrats! \n",
    "\n",
    "🔥 Let's go to the next session.\n",
    "\n",
    "📝 This Jupyter notebook has been created by [Ahmad Ahmadi](https://www.linkedin.com/in/ahmad-ahmadi95/). Please follow me and [izlearn](https://www.linkedin.com/company/izlearn) on LinkedIn social media.  \n",
    "\n",
    "🌐 Visit your website for more courses [izlearn.ir](https://izlearn.ir)\n"
   ]
  }
 ],
 "metadata": {
  "kernelspec": {
   "display_name": "Python 3 (ipykernel)",
   "language": "python",
   "name": "python3"
  },
  "language_info": {
   "codemirror_mode": {
    "name": "ipython",
    "version": 3
   },
   "file_extension": ".py",
   "mimetype": "text/x-python",
   "name": "python",
   "nbconvert_exporter": "python",
   "pygments_lexer": "ipython3",
   "version": "3.9.5"
  }
 },
 "nbformat": 4,
 "nbformat_minor": 5
}
