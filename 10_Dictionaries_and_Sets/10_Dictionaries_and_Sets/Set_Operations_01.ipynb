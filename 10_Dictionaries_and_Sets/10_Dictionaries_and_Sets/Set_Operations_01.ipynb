{
 "cells": [
  {
   "cell_type": "markdown",
   "id": "bee4ae0b",
   "metadata": {},
   "source": [
    "#### • Table of the content\n",
    "\n",
    "1. [Set Operations](#1)\n",
    "    \n",
    "2. [More Info (Follow Me on LinkedIn)](#end)\n",
    "---"
   ]
  },
  {
   "cell_type": "markdown",
   "id": "b6d2ace8",
   "metadata": {},
   "source": [
    "<a name=\"1\"></a>\n",
    "### Set Operations \n",
    "\n",
    "🔸 We can perform operations like  **union**, **intersection**, **difference** and **symmetric difference** on set. \n",
    "\n",
    "- `set1.union(set2)` → you can use **`|`** (pipe character instead) \n",
    "- `set1.intersection(set2)` → you can use **`&`** (apersand instead)\n",
    "- `set1.difference(set2)` → you can use **`-`** (minus instead)\n",
    "- `set1.symmetric_difference(set2)` → you can use **`^`** (carrot character instead)"
   ]
  },
  {
   "cell_type": "code",
   "execution_count": 1,
   "id": "e4dd7471",
   "metadata": {},
   "outputs": [],
   "source": [
    "saturday_items = ['boots', 'scarf', 'scarf', 'hat', 'sweater', 'sweater']\n",
    "sunday_items = ['boots', 'boots', 'shirt', 't-shirt', 't-shirt', 't-shirt']\n",
    "monday_items = ['dress', 'scarf', 'scarf', 'crop top']"
   ]
  },
  {
   "cell_type": "code",
   "execution_count": 2,
   "id": "0e9cae7f",
   "metadata": {},
   "outputs": [],
   "source": [
    "saturday_set = set(saturday_items)\n",
    "sunday_set = set(sunday_items)\n",
    "monday_set = set(monday_items)"
   ]
  },
  {
   "cell_type": "markdown",
   "id": "b1083fc2",
   "metadata": {},
   "source": [
    "#### • How Many Unique Items Are Sold in 3 Days?"
   ]
  },
  {
   "cell_type": "code",
   "execution_count": 4,
   "id": "74d797ae",
   "metadata": {},
   "outputs": [
    {
     "data": {
      "text/plain": [
       "{'boots', 'crop top', 'dress', 'hat', 'scarf', 'shirt', 'sweater', 't-shirt'}"
      ]
     },
     "execution_count": 4,
     "metadata": {},
     "output_type": "execute_result"
    }
   ],
   "source": [
    "# Use list concatenation and set() function\n",
    "set(saturday_items + sunday_items + monday_items)"
   ]
  },
  {
   "cell_type": "code",
   "execution_count": 6,
   "id": "c91b25cc",
   "metadata": {},
   "outputs": [
    {
     "data": {
      "text/plain": [
       "{'boots', 'crop top', 'dress', 'hat', 'scarf', 'shirt', 'sweater', 't-shirt'}"
      ]
     },
     "execution_count": 6,
     "metadata": {},
     "output_type": "execute_result"
    }
   ],
   "source": [
    "# Use union() method\n",
    "saturday_set.union(sunday_set).union(monday_set)"
   ]
  },
  {
   "cell_type": "code",
   "execution_count": 7,
   "id": "2ddbdd0c",
   "metadata": {},
   "outputs": [
    {
     "data": {
      "text/plain": [
       "{'boots', 'crop top', 'dress', 'hat', 'scarf', 'shirt', 'sweater', 't-shirt'}"
      ]
     },
     "execution_count": 7,
     "metadata": {},
     "output_type": "execute_result"
    }
   ],
   "source": [
    "# Use pipe operator\n",
    "saturday_set | sunday_set | monday_set"
   ]
  },
  {
   "cell_type": "markdown",
   "id": "38eec8e5",
   "metadata": {},
   "source": [
    "#### • Show In Common Items  Sold in Saturday & Sunday?"
   ]
  },
  {
   "cell_type": "code",
   "execution_count": 8,
   "id": "54c1f6c0",
   "metadata": {},
   "outputs": [
    {
     "data": {
      "text/plain": [
       "{'boots'}"
      ]
     },
     "execution_count": 8,
     "metadata": {},
     "output_type": "execute_result"
    }
   ],
   "source": [
    "# Use intersection() method\n",
    "saturday_set.intersection(sunday_set)"
   ]
  },
  {
   "cell_type": "code",
   "execution_count": 9,
   "id": "430d9d84",
   "metadata": {},
   "outputs": [
    {
     "data": {
      "text/plain": [
       "{'boots'}"
      ]
     },
     "execution_count": 9,
     "metadata": {},
     "output_type": "execute_result"
    }
   ],
   "source": [
    "# Use ampersand operator\n",
    "saturday_set & sunday_set"
   ]
  },
  {
   "cell_type": "markdown",
   "id": "7a3797e5",
   "metadata": {},
   "source": [
    "#### • Show Not In Common Items \n",
    "\n",
    "🔸 Show **not in common** items with **sunday** that are sold in **saturday**."
   ]
  },
  {
   "cell_type": "code",
   "execution_count": 10,
   "id": "c9f86b48",
   "metadata": {},
   "outputs": [
    {
     "data": {
      "text/plain": [
       "{'hat', 'scarf', 'sweater'}"
      ]
     },
     "execution_count": 10,
     "metadata": {},
     "output_type": "execute_result"
    }
   ],
   "source": [
    "# Use difference() method\n",
    "saturday_set.difference(sunday_set)"
   ]
  },
  {
   "cell_type": "code",
   "execution_count": 12,
   "id": "8f8dbbb2",
   "metadata": {},
   "outputs": [
    {
     "data": {
      "text/plain": [
       "{'hat', 'scarf', 'sweater'}"
      ]
     },
     "execution_count": 12,
     "metadata": {},
     "output_type": "execute_result"
    }
   ],
   "source": [
    "# Use minus operator\n",
    "saturday_set - sunday_set"
   ]
  },
  {
   "cell_type": "markdown",
   "id": "5d2f7595",
   "metadata": {},
   "source": [
    "#### • Total Unique Items Sold in 3 Days? Except ...\n",
    "\n",
    "🔸 Total unique items that are sold in **3** days **EXCEPT** for in common items."
   ]
  },
  {
   "cell_type": "code",
   "execution_count": 13,
   "id": "6ba6ea0c",
   "metadata": {},
   "outputs": [
    {
     "data": {
      "text/plain": [
       "{'crop top', 'dress', 'hat', 'shirt', 'sweater', 't-shirt'}"
      ]
     },
     "execution_count": 13,
     "metadata": {},
     "output_type": "execute_result"
    }
   ],
   "source": [
    "# Use symmetric_difference() method\n",
    "saturday_set.symmetric_difference(sunday_set).symmetric_difference(monday_set)"
   ]
  },
  {
   "cell_type": "code",
   "execution_count": 14,
   "id": "7dc6cf67",
   "metadata": {},
   "outputs": [
    {
     "data": {
      "text/plain": [
       "{'crop top', 'dress', 'hat', 'shirt', 'sweater', 't-shirt'}"
      ]
     },
     "execution_count": 14,
     "metadata": {},
     "output_type": "execute_result"
    }
   ],
   "source": [
    "# Use carrot operator\n",
    "saturday_set ^ sunday_set ^ monday_set"
   ]
  },
  {
   "cell_type": "markdown",
   "id": "a659e201",
   "metadata": {},
   "source": [
    "---\n",
    "<a name=\"end\"></a>\n",
    "### Congrats! \n",
    "\n",
    "🔥 Let's go to the next session.\n",
    "\n",
    "📝 This Jupyter notebook has been created by [Ahmad Ahmadi](https://www.linkedin.com/in/ahmad-ahmadi95/). Please follow me and [izlearn](https://www.linkedin.com/company/izlearn) on LinkedIn social media.  \n",
    "\n",
    "🌐 Visit your website for more courses [izlearn.ir](https://izlearn.ir)"
   ]
  }
 ],
 "metadata": {
  "kernelspec": {
   "display_name": "Python 3 (ipykernel)",
   "language": "python",
   "name": "python3"
  },
  "language_info": {
   "codemirror_mode": {
    "name": "ipython",
    "version": 3
   },
   "file_extension": ".py",
   "mimetype": "text/x-python",
   "name": "python",
   "nbconvert_exporter": "python",
   "pygments_lexer": "ipython3",
   "version": "3.9.5"
  }
 },
 "nbformat": 4,
 "nbformat_minor": 5
}
