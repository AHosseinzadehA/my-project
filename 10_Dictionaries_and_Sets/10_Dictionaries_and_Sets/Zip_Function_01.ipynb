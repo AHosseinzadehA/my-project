{
 "cells": [
  {
   "cell_type": "markdown",
   "id": "d1564bd7",
   "metadata": {},
   "source": [
    "#### • Table of the content\n",
    "\n",
    "1. [Zip Function](#1)\n",
    "2. [Creating Lists Using Zip](#1-1)\n",
    "3. [Creating Dictionaries Using Zip](#1-2)\n",
    "4. [More Info](#end)\n",
    "---"
   ]
  },
  {
   "cell_type": "markdown",
   "id": "a9e1c452",
   "metadata": {},
   "source": [
    "<a name=\"1\"></a>\n",
    "## • Zip Function \n",
    "\n",
    "🔸 The [zip()](https://www.google.com/search?q=zip+function+python) function **combines two or more iterables** into a **single [iterator](https://www.google.com/search?q=difference+between+iterable+and+iterator+in+python) of <u>tuples</u>**"
   ]
  },
  {
   "cell_type": "code",
   "execution_count": 1,
   "id": "ac4ec666",
   "metadata": {},
   "outputs": [],
   "source": [
    "items = ['belt', 'shirt', 'pants', 'dress']\n",
    "prices = [8.0, 13.0, 18.0, 35.0]\n",
    "inventory = [10, 0, 0, 7]\n",
    "scores = ['5stars', '3stars', '3stars', '5stars']"
   ]
  },
  {
   "cell_type": "markdown",
   "id": "889bc792",
   "metadata": {},
   "source": [
    "<a name=\"1-1\"></a>\n",
    "### • Creating Lists Using Zip\n",
    "\n",
    "🔸 We can use **zip()** function to create lists from **zip object**"
   ]
  },
  {
   "cell_type": "code",
   "execution_count": 2,
   "id": "7a40db53",
   "metadata": {},
   "outputs": [
    {
     "data": {
      "text/plain": [
       "<zip at 0x1b08a8638c0>"
      ]
     },
     "execution_count": 2,
     "metadata": {},
     "output_type": "execute_result"
    }
   ],
   "source": [
    "# Create a zip object using 'items' & 'prices'\n",
    "zip(items, prices)"
   ]
  },
  {
   "cell_type": "markdown",
   "id": "17096474",
   "metadata": {},
   "source": [
    "🔸 In the above cell, **we're zipping together two lists** and returning a **zip object**.\n",
    "\n",
    "🔸 Then we can use that **zip object** to do amazing thing in Python.\n",
    "\n",
    "🔸 For example we can turn the **zip object** into a **Python list** "
   ]
  },
  {
   "cell_type": "code",
   "execution_count": 4,
   "id": "56114660",
   "metadata": {},
   "outputs": [],
   "source": [
    "# Convert 'zip object' into a list\n",
    "items_zipped = list(zip(items, prices))"
   ]
  },
  {
   "cell_type": "code",
   "execution_count": 5,
   "id": "5967a41d",
   "metadata": {},
   "outputs": [
    {
     "data": {
      "text/plain": [
       "[('belt', 8.0), ('shirt', 13.0), ('pants', 18.0), ('dress', 35.0)]"
      ]
     },
     "execution_count": 5,
     "metadata": {},
     "output_type": "execute_result"
    }
   ],
   "source": [
    "items_zipped"
   ]
  },
  {
   "cell_type": "markdown",
   "id": "5a8f1d20",
   "metadata": {},
   "source": [
    "🔸 It's similar to dictionaries' **object view**. right? "
   ]
  },
  {
   "cell_type": "code",
   "execution_count": 6,
   "id": "c97b9a5b",
   "metadata": {},
   "outputs": [
    {
     "name": "stdout",
     "output_type": "stream",
     "text": [
      "belt costs 8.0 euros!\n",
      "shirt costs 13.0 euros!\n",
      "pants costs 18.0 euros!\n",
      "dress costs 35.0 euros!\n"
     ]
    }
   ],
   "source": [
    "# Loop through and print:\n",
    "#'item' costs 'price' euros!\n",
    "for item, price in items_zipped:\n",
    "    print(f\"{item} costs {price} euros!\")"
   ]
  },
  {
   "cell_type": "markdown",
   "id": "c1beeb61",
   "metadata": {},
   "source": [
    "🔸 We can use **more than two iterables** to pair items together."
   ]
  },
  {
   "cell_type": "code",
   "execution_count": 9,
   "id": "2d627844",
   "metadata": {},
   "outputs": [],
   "source": [
    "# Create a zipped list using 'items', 'prices' and 'inventory'\n",
    "items_zipped = list(zip(items, prices, inventory))"
   ]
  },
  {
   "cell_type": "code",
   "execution_count": 10,
   "id": "f66ff3fe",
   "metadata": {},
   "outputs": [
    {
     "data": {
      "text/plain": [
       "[('belt', 8.0, 10), ('shirt', 13.0, 0), ('pants', 18.0, 0), ('dress', 35.0, 7)]"
      ]
     },
     "execution_count": 10,
     "metadata": {},
     "output_type": "execute_result"
    }
   ],
   "source": [
    "items_zipped "
   ]
  },
  {
   "cell_type": "code",
   "execution_count": 11,
   "id": "53276165",
   "metadata": {},
   "outputs": [
    {
     "name": "stdout",
     "output_type": "stream",
     "text": [
      "We have 10 of belt and its price is 8.0 euros!\n",
      "We have 0 of shirt and its price is 13.0 euros!\n",
      "We have 0 of pants and its price is 18.0 euros!\n",
      "We have 7 of dress and its price is 35.0 euros!\n"
     ]
    }
   ],
   "source": [
    "# Loop through and print:\n",
    "# We have 'number' of 'item' and its price is 'price' euros!\n",
    "for item, price, inventory in items_zipped:\n",
    "    print(f\"We have {inventory} of {item} and its price is {price} euros!\")"
   ]
  },
  {
   "cell_type": "markdown",
   "id": "63b87c8a",
   "metadata": {},
   "source": [
    "<a name=\"1-2\"></a>\n",
    "### • Creating Dictionaries Using Zip\n",
    "\n",
    "🔸 The **zip()** function is <u>commonly</u> used to build **dictionaries**"
   ]
  },
  {
   "cell_type": "code",
   "execution_count": 12,
   "id": "62385217",
   "metadata": {},
   "outputs": [
    {
     "data": {
      "text/plain": [
       "['belt', 'shirt', 'pants', 'dress']"
      ]
     },
     "execution_count": 12,
     "metadata": {},
     "output_type": "execute_result"
    }
   ],
   "source": [
    "items"
   ]
  },
  {
   "cell_type": "code",
   "execution_count": 13,
   "id": "531e0096",
   "metadata": {},
   "outputs": [
    {
     "data": {
      "text/plain": [
       "[8.0, 13.0, 18.0, 35.0]"
      ]
     },
     "execution_count": 13,
     "metadata": {},
     "output_type": "execute_result"
    }
   ],
   "source": [
    "prices"
   ]
  },
  {
   "cell_type": "code",
   "execution_count": 14,
   "id": "be52d437",
   "metadata": {},
   "outputs": [
    {
     "data": {
      "text/plain": [
       "['5stars', '3stars', '3stars', '5stars']"
      ]
     },
     "execution_count": 14,
     "metadata": {},
     "output_type": "execute_result"
    }
   ],
   "source": [
    "scores"
   ]
  },
  {
   "cell_type": "code",
   "execution_count": 18,
   "id": "09aad902",
   "metadata": {},
   "outputs": [],
   "source": [
    "# Create a dictionay using zip → scores_dict\n",
    "# Use 'items' and 'scores'\n",
    "scores_dict = dict(zip(items, scores))"
   ]
  },
  {
   "cell_type": "code",
   "execution_count": 19,
   "id": "825d8e3f",
   "metadata": {},
   "outputs": [
    {
     "data": {
      "text/plain": [
       "{'belt': '5stars', 'shirt': '3stars', 'pants': '3stars', 'dress': '5stars'}"
      ]
     },
     "execution_count": 19,
     "metadata": {},
     "output_type": "execute_result"
    }
   ],
   "source": [
    "scores_dict"
   ]
  },
  {
   "cell_type": "code",
   "execution_count": 20,
   "id": "291e6bf5",
   "metadata": {},
   "outputs": [
    {
     "data": {
      "text/plain": [
       "dict_values(['5stars', '3stars', '3stars', '5stars'])"
      ]
     },
     "execution_count": 20,
     "metadata": {},
     "output_type": "execute_result"
    }
   ],
   "source": [
    "# Use .value() to get 'scores_dict' values\n",
    "scores_dict.values()"
   ]
  },
  {
   "cell_type": "markdown",
   "id": "94bda78a",
   "metadata": {},
   "source": [
    "---\n",
    "👀 **Note** that we can only **create dictionary from a zip object** with <span style=\"font-family:consolas;font-weight:bold;font-size:2.5rem;color:#E94057;\">2</span> iterabless!\n",
    "\n",
    "---"
   ]
  },
  {
   "cell_type": "code",
   "execution_count": 21,
   "id": "4875617f",
   "metadata": {},
   "outputs": [
    {
     "ename": "ValueError",
     "evalue": "dictionary update sequence element #0 has length 3; 2 is required",
     "output_type": "error",
     "traceback": [
      "\u001b[1;31m---------------------------------------------------------------------------\u001b[0m",
      "\u001b[1;31mValueError\u001b[0m                                Traceback (most recent call last)",
      "Cell \u001b[1;32mIn[21], line 3\u001b[0m\n\u001b[0;32m      1\u001b[0m \u001b[38;5;66;03m# Create a dictionary\u001b[39;00m\n\u001b[0;32m      2\u001b[0m \u001b[38;5;66;03m# Use more than two iterables: items, prices, scores\u001b[39;00m\n\u001b[1;32m----> 3\u001b[0m \u001b[38;5;28;43mdict\u001b[39;49m\u001b[43m(\u001b[49m\u001b[38;5;28;43mzip\u001b[39;49m\u001b[43m(\u001b[49m\u001b[43mitems\u001b[49m\u001b[43m,\u001b[49m\u001b[43m \u001b[49m\u001b[43mprices\u001b[49m\u001b[43m,\u001b[49m\u001b[43m \u001b[49m\u001b[43mscores\u001b[49m\u001b[43m)\u001b[49m\u001b[43m)\u001b[49m\n",
      "\u001b[1;31mValueError\u001b[0m: dictionary update sequence element #0 has length 3; 2 is required"
     ]
    }
   ],
   "source": [
    "# Create a dictionary\n",
    "# Use more than two iterables: items, prices, scores\n",
    "dict(zip(items, prices, scores))"
   ]
  },
  {
   "cell_type": "markdown",
   "id": "e810754c",
   "metadata": {},
   "source": [
    "---\n",
    "😌 But you can zip iterables together **within the <span style=\"font-family:consolas;font-size:2.5rem;color:#E94057\">second</span> argument**.\n",
    "\n",
    "---"
   ]
  },
  {
   "cell_type": "code",
   "execution_count": 23,
   "id": "94cdc45f",
   "metadata": {},
   "outputs": [],
   "source": [
    "# Create a dictionary \n",
    "# 'items' members as 'keys'\n",
    "# 'prices' and 'scores' members as values\n",
    "items_info = dict(zip(items, zip(prices, scores)))"
   ]
  },
  {
   "cell_type": "code",
   "execution_count": 24,
   "id": "4dd967c1",
   "metadata": {},
   "outputs": [
    {
     "data": {
      "text/plain": [
       "{'belt': (8.0, '5stars'),\n",
       " 'shirt': (13.0, '3stars'),\n",
       " 'pants': (18.0, '3stars'),\n",
       " 'dress': (35.0, '5stars')}"
      ]
     },
     "execution_count": 24,
     "metadata": {},
     "output_type": "execute_result"
    }
   ],
   "source": [
    "items_info"
   ]
  },
  {
   "cell_type": "code",
   "execution_count": 25,
   "id": "f2f54d4c",
   "metadata": {},
   "outputs": [
    {
     "data": {
      "text/plain": [
       "(8.0, '5stars')"
      ]
     },
     "execution_count": 25,
     "metadata": {},
     "output_type": "execute_result"
    }
   ],
   "source": [
    "# Use 'belt' → (8.0, '5stars')\n",
    "items_info['belt']"
   ]
  },
  {
   "cell_type": "code",
   "execution_count": 30,
   "id": "41021d9c",
   "metadata": {},
   "outputs": [
    {
     "data": {
      "text/plain": [
       "15"
      ]
     },
     "execution_count": 30,
     "metadata": {},
     "output_type": "execute_result"
    }
   ],
   "source": [
    "# Grab the '5' from (8.0, '5stars')\n",
    "# Turn it into integer\n",
    "int(items_info['belt'][1][0]) + 10"
   ]
  },
  {
   "cell_type": "markdown",
   "id": "16f54ffb",
   "metadata": {},
   "source": [
    "---\n",
    "<a name=\"end\"></a>\n",
    "### Congrats! \n",
    "\n",
    "🔥 Let's go to the next session.\n",
    "\n",
    "📝 This Jupyter notebook has been created by [Ahmad Ahmadi](https://www.linkedin.com/in/ahmad-ahmadi95/).Please follow me and [izlearn](https://www.linkedin.com/company/izlearn) on the LinkedIn social media.  \n",
    "\n",
    "🌐 Visit your website for more courses [izlearn.ir](https://izlearn.ir)\n"
   ]
  }
 ],
 "metadata": {
  "kernelspec": {
   "display_name": "Python 3 (ipykernel)",
   "language": "python",
   "name": "python3"
  },
  "language_info": {
   "codemirror_mode": {
    "name": "ipython",
    "version": 3
   },
   "file_extension": ".py",
   "mimetype": "text/x-python",
   "name": "python",
   "nbconvert_exporter": "python",
   "pygments_lexer": "ipython3",
   "version": "3.9.5"
  }
 },
 "nbformat": 4,
 "nbformat_minor": 5
}
