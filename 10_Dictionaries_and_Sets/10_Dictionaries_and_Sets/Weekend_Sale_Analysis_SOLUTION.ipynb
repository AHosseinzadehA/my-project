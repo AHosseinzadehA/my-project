{
 "cells": [
  {
   "cell_type": "markdown",
   "id": "230dfe66",
   "metadata": {},
   "source": [
    "## Weekend Sale Analysis\n",
    "\n",
    "Hey there 🙋🏽‍♂️\n",
    "\n",
    "🔸 There are lists below representing the customers who made purchases on **Friday**, **Saturday**, and **Sunday**.\n",
    "\n",
    "🔸 We want to **target customers who made purchases on Friday or Saturday or Sunday** with follow up promotions. "
   ]
  },
  {
   "cell_type": "code",
   "execution_count": 1,
   "id": "a9ad942e",
   "metadata": {},
   "outputs": [],
   "source": [
    "friday_customers = [\n",
    "    'c00004', 'c00007', 'c00015', 'c00016',\n",
    "    'c00020', 'c00010', 'c00006', 'c00001',\n",
    "    'c00003', 'c00014', 'c00001', 'c00005',\n",
    "    'c00001', 'c00001', 'c00005', 'c00008',\n",
    "    'c00013'\n",
    "]\n",
    "\n",
    "saturday_customers = [\n",
    "    'c00004', 'c00017', 'c00019', 'c00002',\n",
    "    'c00008', 'c00021', 'c00022'\n",
    "]\n",
    "\n",
    "sunday_customers = [\n",
    "    'c00006', 'c00018', 'c00018', 'c00010', 'c00016'\n",
    "]"
   ]
  },
  {
   "cell_type": "markdown",
   "id": "95110611",
   "metadata": {},
   "source": [
    "### • Collect Unique Weekend Customers\n",
    "\n",
    "🔸 First, can you gather **all the unique customers** from the *weekend* (**`satruday_customers`**, **`sunday_customers`**)?\n",
    "\n",
    "🔸 Create a set called `weekend_set` to store them. "
   ]
  },
  {
   "cell_type": "code",
   "execution_count": 3,
   "id": "4ec54d32",
   "metadata": {},
   "outputs": [],
   "source": [
    "# Write your code here\n",
    "weekend_set = set(saturday_customers).union(set(sunday_customers))"
   ]
  },
  {
   "cell_type": "code",
   "execution_count": 4,
   "id": "3a578558",
   "metadata": {},
   "outputs": [
    {
     "data": {
      "text/plain": [
       "{'c00002',\n",
       " 'c00004',\n",
       " 'c00006',\n",
       " 'c00008',\n",
       " 'c00010',\n",
       " 'c00016',\n",
       " 'c00017',\n",
       " 'c00018',\n",
       " 'c00019',\n",
       " 'c00021',\n",
       " 'c00022'}"
      ]
     },
     "execution_count": 4,
     "metadata": {},
     "output_type": "execute_result"
    }
   ],
   "source": [
    "weekend_set"
   ]
  },
  {
   "cell_type": "markdown",
   "id": "2948a7c2",
   "metadata": {},
   "source": [
    "### • Finally Custmers Who Came Back During the Weekend\n",
    "\n",
    "🔸 Now that you've got that, can you see **which customers** made a purchase on **Friday** **AND** made a purchase **during the weekend**?"
   ]
  },
  {
   "cell_type": "code",
   "execution_count": 5,
   "id": "e406d964",
   "metadata": {},
   "outputs": [
    {
     "data": {
      "text/plain": [
       "{'c00004', 'c00006', 'c00008', 'c00010', 'c00016'}"
      ]
     },
     "execution_count": 5,
     "metadata": {},
     "output_type": "execute_result"
    }
   ],
   "source": [
    "# Write your code here\n",
    "set(friday_customers).intersection(weekend_set)"
   ]
  },
  {
   "cell_type": "markdown",
   "id": "331729f5",
   "metadata": {},
   "source": [
    "---\n",
    "<a name=\"end\"></a>\n",
    "### Congrats! \n",
    "\n",
    "🔥 Let's go to the next session.\n",
    "\n",
    "📝 This Jupyter notebook has been created by [Ahmad Ahmadi](https://www.linkedin.com/in/ahmad-ahmadi95/). Please follow me and [izlearn](https://www.linkedin.com/company/izlearn) on LinkedIn social media.  \n",
    "\n",
    "🌐 Visit your website for more courses [izlearn.ir](https://izlearn.ir)"
   ]
  }
 ],
 "metadata": {
  "kernelspec": {
   "display_name": "Python 3 (ipykernel)",
   "language": "python",
   "name": "python3"
  },
  "language_info": {
   "codemirror_mode": {
    "name": "ipython",
    "version": 3
   },
   "file_extension": ".py",
   "mimetype": "text/x-python",
   "name": "python",
   "nbconvert_exporter": "python",
   "pygments_lexer": "ipython3",
   "version": "3.9.5"
  }
 },
 "nbformat": 4,
 "nbformat_minor": 5
}
