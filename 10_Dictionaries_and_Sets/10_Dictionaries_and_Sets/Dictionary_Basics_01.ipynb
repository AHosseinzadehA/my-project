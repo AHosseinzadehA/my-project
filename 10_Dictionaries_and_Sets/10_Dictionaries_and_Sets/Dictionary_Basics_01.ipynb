{
 "cells": [
  {
   "cell_type": "markdown",
   "id": "a8e1daee",
   "metadata": {},
   "source": [
    "#### • Table of the content\n",
    "\n",
    "1. [Dictionary Basics](#1)\n",
    "2. [Keys Can't Be Undefined Variables](#1-1)\n",
    "3. [Accessing Values](#1-2)\n",
    "4. [Lists As Values in a Dictionary](#1-3)\n",
    "5. [KeyError](#1-4)\n",
    "6. [Integers As Keys](#1-5)\n",
    "7. [Membership Check](#1-6)\n",
    "8. [Looping Through a Dictionary](#1-7)\n",
    "9. [Modifying Dictionaries](#1-8)\n",
    "10. [More Info (Follow Me on LinkedIn)](#end)\n",
    "---"
   ]
  },
  {
   "cell_type": "markdown",
   "id": "67c110cb",
   "metadata": {},
   "source": [
    "<a name=\"1\"></a>\n",
    "## • Dictionary Basics\n",
    "\n",
    "🔸 If you want to create a [dictionary](https://www.w3schools.com/python/python_dictionaries.asp) in Python, you need to use **{ }**. \n",
    "\n",
    "🔸 You can create an **empty dictionary** eihter using **{ }** or Python's fuction called **dict( )**\n",
    "\n",
    "```python\n",
    "empty_dict = {}\n",
    "\n",
    "empty_dict = dict()\n",
    "```"
   ]
  },
  {
   "cell_type": "code",
   "execution_count": 2,
   "id": "b98fdf5d",
   "metadata": {},
   "outputs": [],
   "source": [
    "# 1. Create a dictionary:\n",
    "# 1.1 The kyes are → 'belt', 'shirt', 'pants', 'dress'\n",
    "# 1.2. The values are → 8.0, 13.0, 18.0 and [99.99, 80.99]\n",
    "items_prices = {\n",
    "    'belt': 8.0,\n",
    "    'shirt': 13.0,\n",
    "    'pants': 18.0,\n",
    "    'dress': [99.99, 80.99]\n",
    "}"
   ]
  },
  {
   "cell_type": "code",
   "execution_count": 3,
   "id": "9440b813",
   "metadata": {},
   "outputs": [
    {
     "data": {
      "text/plain": [
       "{'belt': 8.0, 'shirt': 13.0, 'pants': 18.0, 'dress': [99.99, 80.99]}"
      ]
     },
     "execution_count": 3,
     "metadata": {},
     "output_type": "execute_result"
    }
   ],
   "source": [
    "items_prices"
   ]
  },
  {
   "cell_type": "markdown",
   "id": "25e68df1",
   "metadata": {},
   "source": [
    "<a name=\"1-1\"></a>\n",
    "### • Keys Can't Be Undefined Variables\n",
    "\n",
    "🔸 **Beginners** often forget to use a **common datatype**! (They use an undefined variable)"
   ]
  },
  {
   "cell_type": "code",
   "execution_count": 5,
   "id": "216d448a",
   "metadata": {},
   "outputs": [],
   "source": [
    "belt, shirt = 'belt', 'shirt'\n",
    "my_cart = {\n",
    "    belt: 8.0,\n",
    "    shirt: 13.0\n",
    "}"
   ]
  },
  {
   "cell_type": "code",
   "execution_count": 6,
   "id": "d3baf0ad",
   "metadata": {},
   "outputs": [
    {
     "data": {
      "text/plain": [
       "{'belt': 8.0, 'shirt': 13.0}"
      ]
     },
     "execution_count": 6,
     "metadata": {},
     "output_type": "execute_result"
    }
   ],
   "source": [
    "my_cart"
   ]
  },
  {
   "cell_type": "markdown",
   "id": "c1a716da",
   "metadata": {},
   "source": [
    "<a name=\"1-2\"></a>\n",
    "### • Accessing Values\n",
    "\n",
    "🔸 You can use an existing **key** to return its **corresponding value**."
   ]
  },
  {
   "cell_type": "code",
   "execution_count": 8,
   "id": "34189857",
   "metadata": {},
   "outputs": [
    {
     "data": {
      "text/plain": [
       "13.0"
      ]
     },
     "execution_count": 8,
     "metadata": {},
     "output_type": "execute_result"
    }
   ],
   "source": [
    "# 2. Use 'shirt' to access its value\n",
    "items_prices['shirt']"
   ]
  },
  {
   "cell_type": "code",
   "execution_count": 9,
   "id": "35adddf5",
   "metadata": {},
   "outputs": [
    {
     "name": "stdout",
     "output_type": "stream",
     "text": [
      "The price of shirt is €13.0.\n"
     ]
    }
   ],
   "source": [
    "print(f\"The price of shirt is €{items_prices['shirt']}.\")"
   ]
  },
  {
   "cell_type": "markdown",
   "id": "54fa2837",
   "metadata": {},
   "source": [
    "<a name=\"1-3\"></a>\n",
    "### • Lists As Vaues in a Dictionary\n",
    "\n",
    "🔸 Dictionary values can be **lists**, so to access **individual elements** in that list:\n",
    "\n",
    "1. Retrieve the **list** by looking up its **key**\n",
    "\n",
    "2. Retrieve the **list elementss** by using its **inde**\n",
    "\n",
    "🔑 → **list** → **indexing** → **list item**"
   ]
  },
  {
   "cell_type": "code",
   "execution_count": 10,
   "id": "ab69f84d",
   "metadata": {},
   "outputs": [
    {
     "data": {
      "text/plain": [
       "{'belt': 8.0, 'shirt': 13.0, 'pants': 18.0, 'dress': [99.99, 80.99]}"
      ]
     },
     "execution_count": 10,
     "metadata": {},
     "output_type": "execute_result"
    }
   ],
   "source": [
    "items_prices"
   ]
  },
  {
   "cell_type": "code",
   "execution_count": 11,
   "id": "2263e7d6",
   "metadata": {},
   "outputs": [
    {
     "data": {
      "text/plain": [
       "[99.99, 80.99]"
      ]
     },
     "execution_count": 11,
     "metadata": {},
     "output_type": "execute_result"
    }
   ],
   "source": [
    "# 3. Use 'dress' key to access its list\n",
    "items_prices['dress']"
   ]
  },
  {
   "cell_type": "code",
   "execution_count": 16,
   "id": "651ee223",
   "metadata": {},
   "outputs": [
    {
     "data": {
      "text/plain": [
       "99.99"
      ]
     },
     "execution_count": 16,
     "metadata": {},
     "output_type": "execute_result"
    }
   ],
   "source": [
    "# 4. Use 'dress' key and 'indexing' to access an item\n",
    "items_prices['dress'][0]"
   ]
  },
  {
   "cell_type": "markdown",
   "id": "4ec9e4ca",
   "metadata": {},
   "source": [
    "<a name=\"1-4\"></a>\n",
    "### • KeyError \n",
    "\n",
    "🔸 **KeyError** happens if you try to access a **key** that <u>doesn't exist</u> in a dictionary.\n",
    "\n",
    "🔸 Most of the time [**typo**](https://dictionary.cambridge.org/dictionary/english/typo) can lead to this error."
   ]
  },
  {
   "cell_type": "code",
   "execution_count": 21,
   "id": "d70c0f3a",
   "metadata": {},
   "outputs": [
    {
     "ename": "KeyError",
     "evalue": "'boots'",
     "output_type": "error",
     "traceback": [
      "\u001b[1;31m---------------------------------------------------------------------------\u001b[0m",
      "\u001b[1;31mKeyError\u001b[0m                                  Traceback (most recent call last)",
      "Cell \u001b[1;32mIn[21], line 2\u001b[0m\n\u001b[0;32m      1\u001b[0m \u001b[38;5;66;03m# 5. Use 'boots' to access its value\u001b[39;00m\n\u001b[1;32m----> 2\u001b[0m \u001b[43mitems_prices\u001b[49m\u001b[43m[\u001b[49m\u001b[38;5;124;43m'\u001b[39;49m\u001b[38;5;124;43mboots\u001b[39;49m\u001b[38;5;124;43m'\u001b[39;49m\u001b[43m]\u001b[49m\n",
      "\u001b[1;31mKeyError\u001b[0m: 'boots'"
     ]
    }
   ],
   "source": [
    "# 5. Use 'boots' to access its value\n",
    "items_prices['boots']"
   ]
  },
  {
   "cell_type": "markdown",
   "id": "6a32bfc3",
   "metadata": {},
   "source": [
    "<a name=\"1-5\"></a>\n",
    "### • Integers As Keys\n",
    "\n",
    "🔸 Let's create a dictionary that have **integers as keys**.\n",
    "\n",
    "🔸 Then try to access the **values** using the keys.\n",
    "\n",
    "🔸 The syntax is similar to a list right? 😬"
   ]
  },
  {
   "cell_type": "code",
   "execution_count": 22,
   "id": "2663b384",
   "metadata": {},
   "outputs": [],
   "source": [
    "# 6. Create a dictionary → numbers_to_word\n",
    "# 6.1. keys: 1, 2, 3, 4, 5\n",
    "# 6.2 values: 'one', 'two', 'three', 'four', 'five'\n",
    "numbers_to_word = {\n",
    "    1: 'one',\n",
    "    2: 'two',\n",
    "    3: 'three',\n",
    "    4: 'four',\n",
    "    5: 'five'\n",
    "}"
   ]
  },
  {
   "cell_type": "code",
   "execution_count": 23,
   "id": "e1678507",
   "metadata": {},
   "outputs": [
    {
     "data": {
      "text/plain": [
       "{1: 'one', 2: 'two', 3: 'three', 4: 'four', 5: 'five'}"
      ]
     },
     "execution_count": 23,
     "metadata": {},
     "output_type": "execute_result"
    }
   ],
   "source": [
    "numbers_to_word"
   ]
  },
  {
   "cell_type": "code",
   "execution_count": 28,
   "id": "40526b37",
   "metadata": {},
   "outputs": [
    {
     "data": {
      "text/plain": [
       "'one'"
      ]
     },
     "execution_count": 28,
     "metadata": {},
     "output_type": "execute_result"
    }
   ],
   "source": [
    "# 7. Use 1 to access its value\n",
    "numbers_to_word[1]"
   ]
  },
  {
   "cell_type": "code",
   "execution_count": 29,
   "id": "6d241bbb",
   "metadata": {},
   "outputs": [],
   "source": [
    "numbers = {\n",
    "    '1': 'one',\n",
    "    '2': 'two',\n",
    "    '3': 'three',\n",
    "    '4': 'four',\n",
    "    '5': 'five'\n",
    "}"
   ]
  },
  {
   "cell_type": "code",
   "execution_count": 30,
   "id": "78990b9c",
   "metadata": {},
   "outputs": [
    {
     "data": {
      "text/plain": [
       "{'1': 'one', '2': 'two', '3': 'three', '4': 'four', '5': 'five'}"
      ]
     },
     "execution_count": 30,
     "metadata": {},
     "output_type": "execute_result"
    }
   ],
   "source": [
    "numbers"
   ]
  },
  {
   "cell_type": "code",
   "execution_count": 32,
   "id": "939b1627",
   "metadata": {},
   "outputs": [
    {
     "data": {
      "text/plain": [
       "'one'"
      ]
     },
     "execution_count": 32,
     "metadata": {},
     "output_type": "execute_result"
    }
   ],
   "source": [
    "# 8. Use '1' key to access its value\n",
    "numbers['1']"
   ]
  },
  {
   "cell_type": "markdown",
   "id": "82798d83",
   "metadata": {},
   "source": [
    "<a name=\"1-6\"></a>\n",
    "### • Membership Check\n",
    "\n",
    "🔸 Membership check operators (<span style=\"font-family:consolas;color:green;font-weight:bold;\">in</span> and <span style=\"font-family:consolas;color:green;font-weight:bold;\">not in</span>) also work with dictionary\n",
    "\n",
    "🔸 They check whether the dictionary **has** the <span style=\"font-size:2rem;color:blue;\">given key</span> or **not**! `(why key?)`"
   ]
  },
  {
   "cell_type": "code",
   "execution_count": 33,
   "id": "5d0b09be",
   "metadata": {},
   "outputs": [
    {
     "data": {
      "text/plain": [
       "{'belt': 8.0, 'shirt': 13.0, 'pants': 18.0, 'dress': [99.99, 80.99]}"
      ]
     },
     "execution_count": 33,
     "metadata": {},
     "output_type": "execute_result"
    }
   ],
   "source": [
    "items_prices"
   ]
  },
  {
   "cell_type": "code",
   "execution_count": 34,
   "id": "1e1e80dc",
   "metadata": {},
   "outputs": [
    {
     "data": {
      "text/plain": [
       "True"
      ]
     },
     "execution_count": 34,
     "metadata": {},
     "output_type": "execute_result"
    }
   ],
   "source": [
    "# 9. Check if 'shirt' exists!\n",
    "'shirt' in items_prices"
   ]
  },
  {
   "cell_type": "code",
   "execution_count": 35,
   "id": "bca19857",
   "metadata": {},
   "outputs": [
    {
     "data": {
      "text/plain": [
       "False"
      ]
     },
     "execution_count": 35,
     "metadata": {},
     "output_type": "execute_result"
    }
   ],
   "source": [
    "# 10. Check if 'boots' exists!\n",
    "'boots' in items_prices"
   ]
  },
  {
   "cell_type": "code",
   "execution_count": 36,
   "id": "519fed5a",
   "metadata": {},
   "outputs": [
    {
     "data": {
      "text/plain": [
       "False"
      ]
     },
     "execution_count": 36,
     "metadata": {},
     "output_type": "execute_result"
    }
   ],
   "source": [
    "# 11. Check if 8.0 exists!\n",
    "8.0 in items_prices"
   ]
  },
  {
   "cell_type": "markdown",
   "id": "efc37130",
   "metadata": {},
   "source": [
    "<a name=\"1-7\"></a>\n",
    "### • Looping Through Dictionary\n",
    "\n",
    "🔸 **By default** you can iterate over a dictionary <span style='font-size:2rem;color:blue;'>key</span> \n",
    "\n",
    "🔸 But later on in the course **we will learn how to loop through a dictionary values**! "
   ]
  },
  {
   "cell_type": "code",
   "execution_count": 38,
   "id": "146f57f1",
   "metadata": {},
   "outputs": [
    {
     "name": "stdout",
     "output_type": "stream",
     "text": [
      "key: belt -> value: 8.0\n",
      "key: shirt -> value: 13.0\n",
      "key: pants -> value: 18.0\n",
      "key: dress -> value: [99.99, 80.99]\n"
     ]
    }
   ],
   "source": [
    "# 12. Loop through 'items_prices'\n",
    "# 12.1 Show its key and values\n",
    "for key in items_prices:\n",
    "    print(f\"key: {key} -> value: {items_prices[key]}\")"
   ]
  },
  {
   "cell_type": "markdown",
   "id": "8752b597",
   "metadata": {},
   "source": [
    "<a name=\"1-8\"></a>\n",
    "### • Modifying Dictionaries\n",
    "\n",
    "🔸 **Adding an Item** : use a **new key** and assign it a **new value**\n",
    "\n",
    "🔸 **Updating a Value** : use an **existing key** and assign it a **new value**\n",
    "\n",
    "🔸 **Removing an Item** : use a <span style='font-family:consolas;color:darkgreen;font-weight:bold;'>del</span> keyword to delete key-value pairs"
   ]
  },
  {
   "cell_type": "markdown",
   "id": "c9a36595",
   "metadata": {},
   "source": [
    "#### • Adding a New Item\n",
    "\n",
    "🔸 Add <span style=\"font-family:consolas;color:#BA2121;font-weight:bold;font-size:2rem;\">boots</span> with the value of <span style=\"font-family:consolas;color:darkgreen;font-weight:bold;font-size:2rem;\">30</span> to `items_prices`"
   ]
  },
  {
   "cell_type": "code",
   "execution_count": 40,
   "id": "5d4f3e9a",
   "metadata": {},
   "outputs": [],
   "source": [
    "# 13. Add 'boots' to the dictionary\n",
    "items_prices['boots'] = 30"
   ]
  },
  {
   "cell_type": "code",
   "execution_count": 41,
   "id": "672cd939",
   "metadata": {},
   "outputs": [
    {
     "data": {
      "text/plain": [
       "{'belt': 8.0,\n",
       " 'shirt': 13.0,\n",
       " 'pants': 18.0,\n",
       " 'dress': [99.99, 80.99],\n",
       " 'boots': 30}"
      ]
     },
     "execution_count": 41,
     "metadata": {},
     "output_type": "execute_result"
    }
   ],
   "source": [
    "items_prices"
   ]
  },
  {
   "cell_type": "code",
   "execution_count": 42,
   "id": "b75a63f9",
   "metadata": {},
   "outputs": [
    {
     "data": {
      "text/plain": [
       "True"
      ]
     },
     "execution_count": 42,
     "metadata": {},
     "output_type": "execute_result"
    }
   ],
   "source": [
    "# 14. Check if 'boots' exists!\n",
    "'boots' in items_prices"
   ]
  },
  {
   "cell_type": "markdown",
   "id": "399561ab",
   "metadata": {},
   "source": [
    "#### • Updating a Value\n",
    "\n",
    "🔸 Apply **15%** discount to the price of <span style=\"font-family:consolas;color:#BA2121;font-weight:bold;font-size:2rem;\">boots</span> in `items_prices` and <u>round the result to two decimals</u>."
   ]
  },
  {
   "cell_type": "code",
   "execution_count": 44,
   "id": "3ef4292f",
   "metadata": {},
   "outputs": [],
   "source": [
    "# 14. Update 'boots' price → Apply 15% discount\n",
    "items_prices['boots'] = round(items_prices['boots'] * 0.85, 2)"
   ]
  },
  {
   "cell_type": "code",
   "execution_count": 45,
   "id": "90d847a6",
   "metadata": {},
   "outputs": [
    {
     "data": {
      "text/plain": [
       "{'belt': 8.0,\n",
       " 'shirt': 13.0,\n",
       " 'pants': 18.0,\n",
       " 'dress': [99.99, 80.99],\n",
       " 'boots': 25.5}"
      ]
     },
     "execution_count": 45,
     "metadata": {},
     "output_type": "execute_result"
    }
   ],
   "source": [
    "items_prices"
   ]
  },
  {
   "cell_type": "markdown",
   "id": "397009e3",
   "metadata": {},
   "source": [
    "#### •Adding New Items Using a For Loop\n",
    "\n",
    "🔸 Using a **for** loop we can add items from other iterables like **lists** to our dictionary."
   ]
  },
  {
   "cell_type": "code",
   "execution_count": 48,
   "id": "79054ebd",
   "metadata": {},
   "outputs": [
    {
     "name": "stdout",
     "output_type": "stream",
     "text": [
      "backpack added!\n",
      "cap added!\n",
      "Done!\n"
     ]
    }
   ],
   "source": [
    "items = ['backpack', 'cap']\n",
    "prices = [50.99, 9.99]\n",
    "\n",
    "# Start here:\n",
    "for index, item in enumerate(items):\n",
    "    items_prices[item] = prices[index]\n",
    "    print(f\"{item} added!\")\n",
    "    \n",
    "print('Done!')"
   ]
  },
  {
   "cell_type": "code",
   "execution_count": 49,
   "id": "9f34b226",
   "metadata": {},
   "outputs": [
    {
     "data": {
      "text/plain": [
       "{'belt': 8.0,\n",
       " 'shirt': 13.0,\n",
       " 'pants': 18.0,\n",
       " 'dress': [99.99, 80.99],\n",
       " 'boots': 25.5,\n",
       " 'backpack': 50.99,\n",
       " 'cap': 9.99}"
      ]
     },
     "execution_count": 49,
     "metadata": {},
     "output_type": "execute_result"
    }
   ],
   "source": [
    "items_prices"
   ]
  },
  {
   "cell_type": "markdown",
   "id": "fc727575",
   "metadata": {},
   "source": [
    "#### • Removing Key-Value Pairs"
   ]
  },
  {
   "cell_type": "code",
   "execution_count": 50,
   "id": "5cde88ef",
   "metadata": {},
   "outputs": [],
   "source": [
    "# 15. Remove 'dress' and its value\n",
    "del items_prices['dress']"
   ]
  },
  {
   "cell_type": "code",
   "execution_count": 51,
   "id": "94d5f4fd",
   "metadata": {},
   "outputs": [
    {
     "data": {
      "text/plain": [
       "{'belt': 8.0,\n",
       " 'shirt': 13.0,\n",
       " 'pants': 18.0,\n",
       " 'boots': 25.5,\n",
       " 'backpack': 50.99,\n",
       " 'cap': 9.99}"
      ]
     },
     "execution_count": 51,
     "metadata": {},
     "output_type": "execute_result"
    }
   ],
   "source": [
    "items_prices"
   ]
  },
  {
   "cell_type": "markdown",
   "id": "0ac08615",
   "metadata": {},
   "source": [
    "---\n",
    "<a name=\"end\"></a>\n",
    "### Congrats! \n",
    "\n",
    "🔥 Let's go to the next session.\n",
    "\n",
    "📝 This Jupyter notebook has been created by [Ahmad Ahmadi](https://www.linkedin.com/in/ahmad-ahmadi95/).Please follow me and [izlearn](https://www.linkedin.com/company/izlearn) on the LinkedIn social media.  \n",
    "\n",
    "🌐 Visit your website for more courses [izlearn.ir](https://izlearn.ir)\n"
   ]
  }
 ],
 "metadata": {
  "kernelspec": {
   "display_name": "Python 3 (ipykernel)",
   "language": "python",
   "name": "python3"
  },
  "language_info": {
   "codemirror_mode": {
    "name": "ipython",
    "version": 3
   },
   "file_extension": ".py",
   "mimetype": "text/x-python",
   "name": "python",
   "nbconvert_exporter": "python",
   "pygments_lexer": "ipython3",
   "version": "3.9.5"
  }
 },
 "nbformat": 4,
 "nbformat_minor": 5
}
