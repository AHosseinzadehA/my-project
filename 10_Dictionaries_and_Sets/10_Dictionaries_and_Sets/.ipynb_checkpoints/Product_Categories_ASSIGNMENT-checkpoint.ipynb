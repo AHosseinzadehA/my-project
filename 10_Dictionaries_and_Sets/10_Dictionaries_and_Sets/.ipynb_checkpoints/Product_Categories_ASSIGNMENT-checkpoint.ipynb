{
 "cells": [
  {
   "cell_type": "markdown",
   "id": "971e7b9c",
   "metadata": {},
   "source": [
    "## Prodcut Category Analysis\n",
    "\n",
    "Hi there! 🙋🏽‍♂️\n",
    "\n",
    "🔸 I've supplied the code to create our **USA item dictionary** again!\n",
    "\n",
    "🔸 **Run the top cell** first to create the data."
   ]
  },
  {
   "cell_type": "code",
   "execution_count": 1,
   "id": "be0f99ae",
   "metadata": {},
   "outputs": [],
   "source": [
    "item_ids = [10001, 10002, 10003, 10004,\n",
    "            10005, 10006, 10007, 10008,\n",
    "            10009, 10010]\n",
    "\n",
    "item_names = [\n",
    "    'Shirt',\n",
    "    'Beanie',\n",
    "    'Socks',\n",
    "    'Pants',\n",
    "    'Belt',\n",
    "    'Boots',\n",
    "    'Coat',\n",
    "    'Dress',\n",
    "    'Sunglasses',\n",
    "    'diaper'\n",
    "]\n",
    "\n",
    "usd_prices = [14.04, 4.31, 1.08, 22.67,\n",
    "              4.31, 32.4, 98.27, 43.2,\n",
    "              13.5, 0.7]\n",
    "\n",
    "item_categories = [\n",
    "    'clothing',\n",
    "    'accessory',\n",
    "    'accessory',\n",
    "    'clothing',\n",
    "    'accessory',\n",
    "    'clothing',\n",
    "    'clothing',\n",
    "    'clothing',\n",
    "    'accessory',\n",
    "    'baby clothing'\n",
    "]\n",
    "\n",
    "sizes = [\n",
    "    ['s', 'm', 'l', 'xl'],\n",
    "    ['child', 'adult'],\n",
    "    ['child', 'adult'],\n",
    "    ['s', 'm', 'l', 'xl'],\n",
    "    ['child', 'adult'],\n",
    "    [5, 6, 7, 8, 9, 10],\n",
    "    ['s', 'm', 'l'],\n",
    "    ['s', 'm', 'l'],\n",
    "    ['child', 'adult'],\n",
    "    [1, 2, 3, 4, 5, 6]\n",
    "]"
   ]
  },
  {
   "cell_type": "code",
   "execution_count": 2,
   "id": "2345d71f",
   "metadata": {},
   "outputs": [],
   "source": [
    "usa_data = dict(zip(item_ids, zip(item_names, usd_prices, item_categories, sizes)))"
   ]
  },
  {
   "cell_type": "code",
   "execution_count": 3,
   "id": "6477cd23",
   "metadata": {},
   "outputs": [
    {
     "data": {
      "text/plain": [
       "{10001: ('Shirt', 14.04, 'clothing', ['s', 'm', 'l', 'xl']),\n",
       " 10002: ('Beanie', 4.31, 'accessory', ['child', 'adult']),\n",
       " 10003: ('Socks', 1.08, 'accessory', ['child', 'adult']),\n",
       " 10004: ('Pants', 22.67, 'clothing', ['s', 'm', 'l', 'xl']),\n",
       " 10005: ('Belt', 4.31, 'accessory', ['child', 'adult']),\n",
       " 10006: ('Boots', 32.4, 'clothing', [5, 6, 7, 8, 9, 10]),\n",
       " 10007: ('Coat', 98.27, 'clothing', ['s', 'm', 'l']),\n",
       " 10008: ('Dress', 43.2, 'clothing', ['s', 'm', 'l']),\n",
       " 10009: ('Sunglasses', 13.5, 'accessory', ['child', 'adult']),\n",
       " 10010: ('diaper', 0.7, 'baby clothing', [1, 2, 3, 4, 5, 6])}"
      ]
     },
     "execution_count": 3,
     "metadata": {},
     "output_type": "execute_result"
    }
   ],
   "source": [
    "usa_data"
   ]
  },
  {
   "cell_type": "markdown",
   "id": "a326bc56",
   "metadata": {},
   "source": [
    "### Unique Categories\n",
    "\n",
    "🔸 Can you collect the **unique item categorie**s from `usa_data` dictionary and store them into a list called `item_cateogries`? "
   ]
  },
  {
   "cell_type": "code",
   "execution_count": 4,
   "id": "6a6ff380",
   "metadata": {},
   "outputs": [],
   "source": [
    "# Write your code here\n",
    "item_category = set(usa_data)"
   ]
  },
  {
   "cell_type": "code",
   "execution_count": 5,
   "id": "47ee1a48",
   "metadata": {},
   "outputs": [
    {
     "data": {
      "text/plain": [
       "{10001, 10002, 10003, 10004, 10005, 10006, 10007, 10008, 10009, 10010}"
      ]
     },
     "execution_count": 5,
     "metadata": {},
     "output_type": "execute_result"
    }
   ],
   "source": [
    "item_category"
   ]
  },
  {
   "cell_type": "code",
   "execution_count": 6,
   "id": "864ac266",
   "metadata": {},
   "outputs": [],
   "source": [
    "# Write your code here\n",
    "unique_categories = set(item_categories)"
   ]
  },
  {
   "cell_type": "code",
   "execution_count": 7,
   "id": "fa32baa3",
   "metadata": {},
   "outputs": [
    {
     "data": {
      "text/plain": [
       "{'accessory', 'baby clothing', 'clothing'}"
      ]
     },
     "execution_count": 7,
     "metadata": {},
     "output_type": "execute_result"
    }
   ],
   "source": [
    "unique_categories"
   ]
  },
  {
   "cell_type": "markdown",
   "id": "c41344b2",
   "metadata": {},
   "source": [
    "---\n",
    "👀 **Ow! I've forgot to remind you** that there was *another update* to our current data! (baby clothing category)\n",
    "\n",
    "🙂 But you could find it **by your Python's skill**! \n",
    "\n",
    "---"
   ]
  },
  {
   "cell_type": "markdown",
   "id": "0b4ecf3c",
   "metadata": {},
   "source": [
    "### • Another Way : Add Method\n",
    "\n",
    "🔸 Well we didn't cover this method at this moment. So I didn't expect you to solve this problem using **get( )** method. \n",
    "\n",
    "\n",
    "🔸 **But this was a friendly hint** to remind you beside your Python's skill, always **search & Google** about what you're doing. Maybe there is an easier way out there!\n",
    "\n",
    "💡 How to [add new element in set](https://www.google.com/search?q=how+to+add+new+element+in+set+python) in Python"
   ]
  },
  {
   "cell_type": "code",
   "execution_count": 8,
   "id": "2280ac94",
   "metadata": {},
   "outputs": [],
   "source": [
    "# Using add() method\n",
    "unique_categories.add('baby clothing')"
   ]
  },
  {
   "cell_type": "code",
   "execution_count": 9,
   "id": "c473f811",
   "metadata": {},
   "outputs": [
    {
     "data": {
      "text/plain": [
       "{'accessory', 'baby clothing', 'clothing'}"
      ]
     },
     "execution_count": 9,
     "metadata": {},
     "output_type": "execute_result"
    }
   ],
   "source": [
    "unique_categories"
   ]
  },
  {
   "cell_type": "markdown",
   "id": "2d21392f",
   "metadata": {},
   "source": [
    "### Number of Unique Categories\n",
    "\n",
    "🔸 Now that we have that, **how many categories are there**?"
   ]
  },
  {
   "cell_type": "code",
   "execution_count": 11,
   "id": "ca3c88c0",
   "metadata": {},
   "outputs": [
    {
     "name": "stdout",
     "output_type": "stream",
     "text": [
      "There are 3 categories in the USA dictionary items.\n"
     ]
    }
   ],
   "source": [
    "print(f'There are {len(unique_categories)} categories in the USA dictionary items.')"
   ]
  },
  {
   "cell_type": "markdown",
   "id": "757e834a",
   "metadata": {},
   "source": [
    "### Double Check!\n",
    "\n",
    "🔸 We inserted a new category, **baby clothing**, It has just one product right now!\n",
    "\n",
    "🔸 Can you check if **baby clothing** exists? "
   ]
  },
  {
   "cell_type": "code",
   "execution_count": null,
   "id": "3de0a938",
   "metadata": {},
   "outputs": [],
   "source": [
    "\"baby clothing\" in set(unique_categories)"
   ]
  },
  {
   "cell_type": "markdown",
   "id": "06821be7",
   "metadata": {},
   "source": [
    "---\n",
    "<a name=\"end\"></a>\n",
    "### Congrats! \n",
    "\n",
    "🔥 Let's go to the next session.\n",
    "\n",
    "📝 This Jupyter notebook has been created by [Ahmad Ahmadi](https://www.linkedin.com/in/ahmad-ahmadi95/). Please follow me and [izlearn](https://www.linkedin.com/company/izlearn) on LinkedIn social media.  \n",
    "\n",
    "🌐 Visit your website for more courses [izlearn.ir](https://izlearn.ir)\n"
   ]
  }
 ],
 "metadata": {
  "kernelspec": {
   "display_name": "Python 3 (ipykernel)",
   "language": "python",
   "name": "python3"
  },
  "language_info": {
   "codemirror_mode": {
    "name": "ipython",
    "version": 3
   },
   "file_extension": ".py",
   "mimetype": "text/x-python",
   "name": "python",
   "nbconvert_exporter": "python",
   "pygments_lexer": "ipython3",
   "version": "3.9.5"
  }
 },
 "nbformat": 4,
 "nbformat_minor": 5
}
