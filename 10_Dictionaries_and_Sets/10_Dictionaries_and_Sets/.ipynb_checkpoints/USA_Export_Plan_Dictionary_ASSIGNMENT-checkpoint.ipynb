{
 "cells": [
  {
   "cell_type": "markdown",
   "id": "971e7b9c",
   "metadata": {},
   "source": [
    "## • USA Items Dictionary\n",
    "\n",
    "🙋🏼‍♂️ Hi there, we need to create a **USA price dictionary**.\n",
    "\n",
    "👇🏼 The data is stored in the lists below. "
   ]
  },
  {
   "cell_type": "code",
   "execution_count": 1,
   "id": "be0f99ae",
   "metadata": {},
   "outputs": [],
   "source": [
    "item_ids = [10001, 10002, 10003, 10004,\n",
    "            10005, 10006, 10007, 10008,\n",
    "            10009]\n",
    "\n",
    "item_names = [\n",
    "    'Shirt',\n",
    "    'Beanie',\n",
    "    'Socks',\n",
    "    'Pants',\n",
    "    'Belt',\n",
    "    'Boots',\n",
    "    'Coat',\n",
    "    'Dress',\n",
    "    'Sunglasses'\n",
    "]\n",
    "\n",
    "usd_prices = [14.04, 4.31, 1.08, 22.67,\n",
    "              4.31, 32.4, 98.27, 43.2,\n",
    "              13.5]\n",
    "\n",
    "item_categories = [\n",
    "    'clothing',\n",
    "    'accessory',\n",
    "    'accessory',\n",
    "    'clothing',\n",
    "    'accessory',\n",
    "    'clothing',\n",
    "    'clothing',\n",
    "    'clothing',\n",
    "    'accessory'\n",
    "]\n",
    "\n",
    "sizes = [\n",
    "    ['s', 'm', 'l'],\n",
    "    ['child', 'adult'],\n",
    "    ['child', 'adult'],\n",
    "    ['s', 'm', 'l', 'xl'],\n",
    "    ['child', 'adult'],\n",
    "    [5, 6, 7, 8, 9, 10],\n",
    "    ['s', 'm', 'l'],\n",
    "    ['s', 'm', 'l'],\n",
    "    ['child', 'adult']\n",
    "\n",
    "]"
   ]
  },
  {
   "cell_type": "markdown",
   "id": "a326bc56",
   "metadata": {},
   "source": [
    "🔸 Create a dictionary with the **`item_ids`** as **keys** and the **rest of the data** as the **values**.\n",
    "\n",
    "🔸 We want the values to be in the order of `item_names`, `usd_prices`, `item_categories`, and `sizes`. "
   ]
  },
  {
   "cell_type": "code",
   "execution_count": 2,
   "id": "6a6ff380",
   "metadata": {},
   "outputs": [],
   "source": [
    "# Write your code here\n",
    "usd_dict = dict(zip(item_ids, zip(item_names, usd_prices, item_categories, sizes)))"
   ]
  },
  {
   "cell_type": "code",
   "execution_count": 3,
   "id": "be36d6c5",
   "metadata": {},
   "outputs": [
    {
     "data": {
      "text/plain": [
       "{10001: ('Shirt', 14.04, 'clothing', ['s', 'm', 'l']),\n",
       " 10002: ('Beanie', 4.31, 'accessory', ['child', 'adult']),\n",
       " 10003: ('Socks', 1.08, 'accessory', ['child', 'adult']),\n",
       " 10004: ('Pants', 22.67, 'clothing', ['s', 'm', 'l', 'xl']),\n",
       " 10005: ('Belt', 4.31, 'accessory', ['child', 'adult']),\n",
       " 10006: ('Boots', 32.4, 'clothing', [5, 6, 7, 8, 9, 10]),\n",
       " 10007: ('Coat', 98.27, 'clothing', ['s', 'm', 'l']),\n",
       " 10008: ('Dress', 43.2, 'clothing', ['s', 'm', 'l']),\n",
       " 10009: ('Sunglasses', 13.5, 'accessory', ['child', 'adult'])}"
      ]
     },
     "execution_count": 3,
     "metadata": {},
     "output_type": "execute_result"
    }
   ],
   "source": [
    "usd_dict"
   ]
  },
  {
   "cell_type": "markdown",
   "id": "a3d1da09",
   "metadata": {},
   "source": [
    "🙋🏼‍♂️ **Good job** \n",
    "\n",
    "🔸 While we were working on this assignment, our **delivery truck** (🚚) just arrived and `xl` is available for **Shirt**.\n",
    "\n",
    "🔸 So we need to **update its sizes list**."
   ]
  },
  {
   "cell_type": "code",
   "execution_count": 5,
   "id": "6e14addd",
   "metadata": {},
   "outputs": [],
   "source": [
    "# Write your code here\n",
    "new_dict = {10001: ('Shirt', 14.04, 'clothing', ['s', 'm', 'l', 'xl'])}\n",
    "usd_dict.update(new_dict)"
   ]
  },
  {
   "cell_type": "code",
   "execution_count": 6,
   "id": "ff22a512",
   "metadata": {},
   "outputs": [
    {
     "data": {
      "text/plain": [
       "{10001: ('Shirt', 14.04, 'clothing', ['s', 'm', 'l', 'xl']),\n",
       " 10002: ('Beanie', 4.31, 'accessory', ['child', 'adult']),\n",
       " 10003: ('Socks', 1.08, 'accessory', ['child', 'adult']),\n",
       " 10004: ('Pants', 22.67, 'clothing', ['s', 'm', 'l', 'xl']),\n",
       " 10005: ('Belt', 4.31, 'accessory', ['child', 'adult']),\n",
       " 10006: ('Boots', 32.4, 'clothing', [5, 6, 7, 8, 9, 10]),\n",
       " 10007: ('Coat', 98.27, 'clothing', ['s', 'm', 'l']),\n",
       " 10008: ('Dress', 43.2, 'clothing', ['s', 'm', 'l']),\n",
       " 10009: ('Sunglasses', 13.5, 'accessory', ['child', 'adult'])}"
      ]
     },
     "execution_count": 6,
     "metadata": {},
     "output_type": "execute_result"
    }
   ],
   "source": [
    "usd_dict"
   ]
  },
  {
   "cell_type": "markdown",
   "id": "ac047441",
   "metadata": {},
   "source": [
    "**Very BIG Thanks 😎**\n",
    "\n",
    "🔸 We proud of you and really happy having you in our company."
   ]
  },
  {
   "cell_type": "markdown",
   "id": "06821be7",
   "metadata": {},
   "source": [
    "---\n",
    "<a name=\"end\"></a>\n",
    "### Congrats! \n",
    "\n",
    "🔥 Let's go to the next session.\n",
    "\n",
    "📝 This Jupyter notebook has been created by [Ahmad Ahmadi](https://www.linkedin.com/in/ahmad-ahmadi95/). Please follow me and [izlearn](https://www.linkedin.com/company/izlearn) on LinkedIn social media.  \n",
    "\n",
    "🌐 Visit your website for more courses [izlearn.ir](https://izlearn.ir)\n"
   ]
  }
 ],
 "metadata": {
  "kernelspec": {
   "display_name": "Python 3 (ipykernel)",
   "language": "python",
   "name": "python3"
  },
  "language_info": {
   "codemirror_mode": {
    "name": "ipython",
    "version": 3
   },
   "file_extension": ".py",
   "mimetype": "text/x-python",
   "name": "python",
   "nbconvert_exporter": "python",
   "pygments_lexer": "ipython3",
   "version": "3.9.5"
  }
 },
 "nbformat": 4,
 "nbformat_minor": 5
}
