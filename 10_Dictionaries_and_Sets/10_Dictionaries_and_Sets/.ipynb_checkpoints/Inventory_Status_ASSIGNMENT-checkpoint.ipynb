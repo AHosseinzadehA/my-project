{
 "cells": [
  {
   "cell_type": "markdown",
   "id": "837fef61",
   "metadata": {},
   "source": [
    "## • Inventory Status\n",
    "\n",
    "🔸 Our products and inventory levels are in the lists below!"
   ]
  },
  {
   "cell_type": "code",
   "execution_count": 1,
   "id": "2b103bea",
   "metadata": {},
   "outputs": [],
   "source": [
    "items = ['belt', 'shirt', 'pants', 'dress', 'backpack']\n",
    "inventory = [30, 15, 0, 12, 0]"
   ]
  },
  {
   "cell_type": "markdown",
   "id": "8c41bf60",
   "metadata": {},
   "source": [
    "---\n",
    "### • Inventory Status Dictionary\n",
    "\n",
    "🔸 Can you create a dictionary that:\n",
    "\n",
    "* Stores item name as key\n",
    "* Values are <span style=\"font-family:consolas;color:darkred;font-weight:bold;\">\"sold out\"</span> if inventory is <span style=\"font-family:consolas;color:darkgreen;font-weight:bold;\">0</span>, and <span style=\"font-family:consolas;color:darkred;font-weight:bold;\">\"in stock\"</span> if not?\n",
    "\n",
    "⭕ **Don't create this by writing out all the key value pairs!**\n"
   ]
  },
  {
   "cell_type": "code",
   "execution_count": 26,
   "id": "feefc0aa",
   "metadata": {},
   "outputs": [
    {
     "ename": "SyntaxError",
     "evalue": "invalid syntax (3282859149.py, line 2)",
     "output_type": "error",
     "traceback": [
      "\u001b[1;36m  Cell \u001b[1;32mIn[26], line 2\u001b[1;36m\u001b[0m\n\u001b[1;33m    empty_dict =\u001b[0m\n\u001b[1;37m                 ^\u001b[0m\n\u001b[1;31mSyntaxError\u001b[0m\u001b[1;31m:\u001b[0m invalid syntax\n"
     ]
    }
   ],
   "source": [
    "# Create your empty dictionary here:\n",
    "empty_dict = {}"
   ]
  },
  {
   "cell_type": "code",
   "execution_count": 23,
   "id": "d41acd89",
   "metadata": {},
   "outputs": [],
   "source": [
    "for i, item  in  enumerate(items):\n",
    "    if inventory[i] == 0:\n",
    "        empty_dict[item] = 'sold out'\n",
    "    else:\n",
    "        empty_dict[item] = 'in stock'"
   ]
  },
  {
   "cell_type": "code",
   "execution_count": 24,
   "id": "926a0725",
   "metadata": {},
   "outputs": [
    {
     "data": {
      "text/plain": [
       "{'belt': 'in stock',\n",
       " 'shirt': 'in stock',\n",
       " 'pants': 'sold out',\n",
       " 'dress': 'in stock',\n",
       " 'backpack': 'sold out'}"
      ]
     },
     "execution_count": 24,
     "metadata": {},
     "output_type": "execute_result"
    }
   ],
   "source": [
    "empty_dict"
   ]
  },
  {
   "cell_type": "markdown",
   "id": "41aa218f",
   "metadata": {},
   "source": [
    "---\n",
    "<a name=\"end\"></a>\n",
    "### Congrats! \n",
    "\n",
    "🔥 Let's go to the next session.\n",
    "\n",
    "📝 This Jupyter notebook has been created by [Ahmad Ahmadi](https://www.linkedin.com/in/ahmad-ahmadi95/). Please follow me and [izlearn](https://www.linkedin.com/company/izlearn) on LinkedIn social media.  \n",
    "\n",
    "🌐 Visit your website for more courses [izlearn.ir](https://izlearn.ir)"
   ]
  },
  {
   "cell_type": "code",
   "execution_count": null,
   "id": "f7d091bb",
   "metadata": {},
   "outputs": [],
   "source": []
  },
  {
   "cell_type": "code",
   "execution_count": null,
   "id": "85ab425d",
   "metadata": {},
   "outputs": [],
   "source": []
  }
 ],
 "metadata": {
  "kernelspec": {
   "display_name": "Python 3 (ipykernel)",
   "language": "python",
   "name": "python3"
  },
  "language_info": {
   "codemirror_mode": {
    "name": "ipython",
    "version": 3
   },
   "file_extension": ".py",
   "mimetype": "text/x-python",
   "name": "python",
   "nbconvert_exporter": "python",
   "pygments_lexer": "ipython3",
   "version": "3.9.5"
  }
 },
 "nbformat": 4,
 "nbformat_minor": 5
}
