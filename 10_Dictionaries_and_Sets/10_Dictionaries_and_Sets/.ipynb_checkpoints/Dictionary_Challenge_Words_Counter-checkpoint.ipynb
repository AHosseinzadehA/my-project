{
 "cells": [
  {
   "cell_type": "markdown",
   "id": "416bee4e",
   "metadata": {},
   "source": [
    "## Dictionary Challenge | Words Counter\n",
    "\n",
    "🔸 Use <code style=\"font-weight:bold;\">%%writefile</code> to create a **text file** called `my_text.txt` and **write** the text below in it:\n",
    "```\n",
    "This course is about Python\n",
    "Python is a programming language\n",
    "Python is powerful\n",
    "```\n",
    "\n",
    "🔸 In the next step, open `my_text.txt` then write code to **create a dictionary** called `words_count` whose **keys** are the **words** in that text file, the **corresponding value** is the **number of times** a word appeares in the created text file.\n",
    "\n",
    "**Example Ouput:**\n",
    "\n",
    "```\n",
    "{'This': 1,\n",
    " 'course': 1,\n",
    " 'is': 3,\n",
    " 'about': 1,\n",
    " 'Python': 3,\n",
    " 'a': 1,\n",
    " 'programming': 1,\n",
    " 'language': 1,\n",
    " 'powerful': 1}\n",
    "```\n",
    "---\n",
    "**Search Skill**\n",
    "\n",
    "🔦 `writefile jupyter magic command` [search result](https://www.google.com/search?q=writefile+jupyter+magic+command)\n",
    "\n",
    "🔦 `open( ) function in python` [search result](https://www.google.com/search?q=open+function+in+python)\n",
    "\n",
    "🔦 `with keyword in python` [search result](https://www.google.com/search?q=with+keyword+in+python)\n",
    "\n",
    "---\n",
    "🔸 In the cell below I've used two third-party libraries; [Pandas](https://pandas.pydata.org/docs/) and [Matplotlib](https://matplotlib.org/) that are **powerful libraries** for data analysis and visualizations.\n",
    "\n",
    "🔸 I created [this course](https://izlearn.ir) and teach you how to use these powerful tools!"
   ]
  },
  {
   "cell_type": "code",
   "execution_count": 1,
   "id": "2d236972",
   "metadata": {},
   "outputs": [],
   "source": [
    "# Just 'RUN' the cell\n",
    "# If you got error just ignore and continue!\n",
    "import pandas as pd\n",
    "import matplotlib.pyplot as plt"
   ]
  },
  {
   "cell_type": "code",
   "execution_count": 7,
   "id": "3c5f706a",
   "metadata": {},
   "outputs": [
    {
     "name": "stdout",
     "output_type": "stream",
     "text": [
      "Overwriting my_text.txt\n"
     ]
    }
   ],
   "source": [
    "%%writefile my_text.txt\n",
    "This course is about Python\n",
    "Python is a programming language\n",
    "Python is powerful"
   ]
  },
  {
   "cell_type": "code",
   "execution_count": 10,
   "id": "8e4b70f8",
   "metadata": {},
   "outputs": [],
   "source": [
    "try:\n",
    "    with open(\"my_text.txt\", \"r\") as file:\n",
    "        text = file.read().lower()  # متن را به حروف کوچک تبدیل می کنیم\n",
    "except FileNotFoundError:\n",
    "    print(\"فایل پیدا نشد\")\n",
    "    exit()"
   ]
  },
  {
   "cell_type": "markdown",
   "id": "8e497d39",
   "metadata": {},
   "source": [
    "### Method One (Without Using Get Method)"
   ]
  },
  {
   "cell_type": "code",
   "execution_count": 11,
   "id": "d34dda90",
   "metadata": {},
   "outputs": [],
   "source": [
    "# Write your code here\n",
    "words_count = {}\n",
    "words = text.split()\n",
    "for word in words:\n",
    "    if word in words_count:\n",
    "        words_count[word] += 1\n",
    "    else:\n",
    "        words_count[word] = 1\n"
   ]
  },
  {
   "cell_type": "code",
   "execution_count": 12,
   "id": "4713c5be",
   "metadata": {},
   "outputs": [
    {
     "data": {
      "text/plain": [
       "{'this': 1,\n",
       " 'course': 1,\n",
       " 'is': 3,\n",
       " 'about': 1,\n",
       " 'python': 3,\n",
       " 'a': 1,\n",
       " 'programming': 1,\n",
       " 'language': 1,\n",
       " 'powerful': 1}"
      ]
     },
     "execution_count": 12,
     "metadata": {},
     "output_type": "execute_result"
    }
   ],
   "source": [
    "words_count"
   ]
  },
  {
   "cell_type": "markdown",
   "id": "437d3268",
   "metadata": {},
   "source": [
    "### Method Two (Using Get Method)"
   ]
  },
  {
   "cell_type": "code",
   "execution_count": 13,
   "id": "6dd5e34f",
   "metadata": {},
   "outputs": [],
   "source": [
    "# Write your code here\n",
    "words_count = {}\n",
    "words = text.split()\n",
    "for word in words:\n",
    "    words_count[word] = words_count.get(word, 0) + 1\n"
   ]
  },
  {
   "cell_type": "code",
   "execution_count": 6,
   "id": "3394c425",
   "metadata": {},
   "outputs": [
    {
     "data": {
      "text/plain": [
       "{'this': 1,\n",
       " 'course': 1,\n",
       " 'is': 3,\n",
       " 'about': 1,\n",
       " 'python': 3,\n",
       " 'a': 1,\n",
       " 'programming': 1,\n",
       " 'language': 1,\n",
       " 'powerful': 1}"
      ]
     },
     "execution_count": 6,
     "metadata": {},
     "output_type": "execute_result"
    }
   ],
   "source": [
    "words_count"
   ]
  },
  {
   "cell_type": "markdown",
   "id": "39f81617",
   "metadata": {},
   "source": [
    "---\n",
    "🔰 In the following cells I used **Pandas** and **Matplotlib** to create [DataFrame](https://pandas.pydata.org/docs/reference/api/pandas.DataFrame.html) and bar [plot](https://matplotlib.org/stable/api/_as_gen/matplotlib.pyplot.bar.html). \n",
    "\n",
    "🔰 I will explain these two libraries in a **separate course** (Zero to Hero Course!) "
   ]
  },
  {
   "cell_type": "code",
   "execution_count": 14,
   "id": "99ffc9c9",
   "metadata": {},
   "outputs": [
    {
     "ename": "NameError",
     "evalue": "name 'pd' is not defined",
     "output_type": "error",
     "traceback": [
      "\u001b[1;31m---------------------------------------------------------------------------\u001b[0m",
      "\u001b[1;31mNameError\u001b[0m                                 Traceback (most recent call last)",
      "Cell \u001b[1;32mIn[14], line 4\u001b[0m\n\u001b[0;32m      2\u001b[0m data \u001b[38;5;241m=\u001b[39m words_count\u001b[38;5;241m.\u001b[39mvalues()\n\u001b[0;32m      3\u001b[0m labels \u001b[38;5;241m=\u001b[39m words_count\u001b[38;5;241m.\u001b[39mkeys()\n\u001b[1;32m----> 4\u001b[0m \u001b[43mpd\u001b[49m\u001b[38;5;241m.\u001b[39mDataFrame(data, index\u001b[38;5;241m=\u001b[39mlabels, columns\u001b[38;5;241m=\u001b[39m[\u001b[38;5;124m'\u001b[39m\u001b[38;5;124mcounts\u001b[39m\u001b[38;5;124m'\u001b[39m])\n",
      "\u001b[1;31mNameError\u001b[0m: name 'pd' is not defined"
     ]
    }
   ],
   "source": [
    "# Just Run! (Don't Worry!)\n",
    "data = words_count.values()\n",
    "labels = words_count.keys()\n",
    "pd.DataFrame(data, index=labels, columns=['counts'])"
   ]
  },
  {
   "cell_type": "code",
   "execution_count": 15,
   "id": "7a658069",
   "metadata": {},
   "outputs": [
    {
     "ename": "NameError",
     "evalue": "name 'plt' is not defined",
     "output_type": "error",
     "traceback": [
      "\u001b[1;31m---------------------------------------------------------------------------\u001b[0m",
      "\u001b[1;31mNameError\u001b[0m                                 Traceback (most recent call last)",
      "Cell \u001b[1;32mIn[15], line 2\u001b[0m\n\u001b[0;32m      1\u001b[0m \u001b[38;5;66;03m# Just Run! (Don't Worry!)\u001b[39;00m\n\u001b[1;32m----> 2\u001b[0m fig, ax \u001b[38;5;241m=\u001b[39m \u001b[43mplt\u001b[49m\u001b[38;5;241m.\u001b[39msubplots(figsize\u001b[38;5;241m=\u001b[39m(\u001b[38;5;241m10\u001b[39m, \u001b[38;5;241m7\u001b[39m), dpi\u001b[38;5;241m=\u001b[39m\u001b[38;5;241m200\u001b[39m)\n\u001b[0;32m      3\u001b[0m ax\u001b[38;5;241m.\u001b[39mbar(words_count\u001b[38;5;241m.\u001b[39mkeys(), words_count\u001b[38;5;241m.\u001b[39mvalues(), width\u001b[38;5;241m=\u001b[39m\u001b[38;5;241m0.5\u001b[39m, color\u001b[38;5;241m=\u001b[39m\u001b[38;5;124m'\u001b[39m\u001b[38;5;124m#D76D77\u001b[39m\u001b[38;5;124m'\u001b[39m)\n\u001b[0;32m      5\u001b[0m plt\u001b[38;5;241m.\u001b[39mshow()\n",
      "\u001b[1;31mNameError\u001b[0m: name 'plt' is not defined"
     ]
    }
   ],
   "source": [
    "# Just Run! (Don't Worry!)\n",
    "fig, ax = plt.subplots(figsize=(10, 7), dpi=200)\n",
    "ax.bar(words_count.keys(), words_count.values(), width=0.5, color='#D76D77')\n",
    "\n",
    "plt.show()"
   ]
  },
  {
   "cell_type": "markdown",
   "id": "ec420f68",
   "metadata": {},
   "source": [
    "---\n",
    "<a name=\"end\"></a>\n",
    "### Congrats! \n",
    "\n",
    "🔥 Let's go to the next session.\n",
    "\n",
    "📝 This Jupyter notebook has been created by [Ahmad Ahmadi](https://www.linkedin.com/in/ahmad-ahmadi95/).Please follow me and [izlearn](https://www.linkedin.com/company/izlearn) on the LinkedIn social media.  \n",
    "\n",
    "🌐 Visit your website for more courses [izlearn.ir](https://izlearn.ir)\n"
   ]
  }
 ],
 "metadata": {
  "kernelspec": {
   "display_name": "Python 3 (ipykernel)",
   "language": "python",
   "name": "python3"
  },
  "language_info": {
   "codemirror_mode": {
    "name": "ipython",
    "version": 3
   },
   "file_extension": ".py",
   "mimetype": "text/x-python",
   "name": "python",
   "nbconvert_exporter": "python",
   "pygments_lexer": "ipython3",
   "version": "3.9.5"
  }
 },
 "nbformat": 4,
 "nbformat_minor": 5
}
