{
 "cells": [
  {
   "cell_type": "markdown",
   "id": "4c064df9",
   "metadata": {},
   "source": [
    "## • Help with U.S Export Planning\n",
    "\n",
    "🔸 Below is our product dictionary; **`items_dict`**.\n",
    "\n",
    "🔸 We need to use it to get some data for our U.S. exporting team. "
   ]
  },
  {
   "cell_type": "code",
   "execution_count": 1,
   "id": "812d348b",
   "metadata": {},
   "outputs": [],
   "source": [
    "items_dict = {\n",
    "    10001: ('Shirt', 13.0, 'clothing', ['s', 'm', 'l']),\n",
    "    10002: ('Beanie', 3.99, 'accessory', ['child', 'adult']),\n",
    "    10003: ('Socks', 1.0, 'clothing', ['child', 'adult']),\n",
    "    10004: ('Pants', 20.99, 'clothing', ['s', 'm', 'l', 'xl']),\n",
    "    10005: ('Belt', 3.99, 'accessory', ['child', 'adult']),\n",
    "    10006: ('Boots ', 30.0, 'clothing', [5, 6, 7, 8, 9, 10]),\n",
    "    10007: ('Coat', 90.99, 'clothing', ['s', 'm', 'l']),\n",
    "    10008: ('Dress', 40.0, 'clothing', ['s', 'm', 'l']),\n",
    "    10009: ('Sunglasses', 12.5, 'accessory', ['child', 'adult'])\n",
    "}"
   ]
  },
  {
   "cell_type": "code",
   "execution_count": 2,
   "id": "7e015abe",
   "metadata": {},
   "outputs": [
    {
     "data": {
      "text/plain": [
       "{10001: ('Shirt', 13.0, 'clothing', ['s', 'm', 'l']),\n",
       " 10002: ('Beanie', 3.99, 'accessory', ['child', 'adult']),\n",
       " 10003: ('Socks', 1.0, 'clothing', ['child', 'adult']),\n",
       " 10004: ('Pants', 20.99, 'clothing', ['s', 'm', 'l', 'xl']),\n",
       " 10005: ('Belt', 3.99, 'accessory', ['child', 'adult']),\n",
       " 10006: ('Boots ', 30.0, 'clothing', [5, 6, 7, 8, 9, 10]),\n",
       " 10007: ('Coat', 90.99, 'clothing', ['s', 'm', 'l']),\n",
       " 10008: ('Dress', 40.0, 'clothing', ['s', 'm', 'l']),\n",
       " 10009: ('Sunglasses', 12.5, 'accessory', ['child', 'adult'])}"
      ]
     },
     "execution_count": 2,
     "metadata": {},
     "output_type": "execute_result"
    }
   ],
   "source": [
    "items_dict"
   ]
  },
  {
   "cell_type": "markdown",
   "id": "53d5577e",
   "metadata": {},
   "source": [
    "### • Size Counts\n",
    "\n",
    "🔸 First I need **a dictionary** with the **item ids** in `items_dict` as **keys**, and **the number of sizes available for each item as values**.\n",
    "\n",
    "🔸 Sizes are stored as a Python list. "
   ]
  },
  {
   "cell_type": "code",
   "execution_count": 3,
   "id": "f35bea36",
   "metadata": {},
   "outputs": [],
   "source": [
    "sizes_count = {}            #یک دیکشنری برای ذخیره تعداد سایزها ایجاد کنید"
   ]
  },
  {
   "cell_type": "code",
   "execution_count": 4,
   "id": "aeb67df6",
   "metadata": {},
   "outputs": [],
   "source": [
    "# Write your code here\n",
    "# ساخت دیکشنری جدید برای شمارش تعداد آیتم‌های هر سایت\n",
    "\n",
    "for key, value in items_dict.items():      #برای هر آیتم در دیکشنری\n",
    "     \n",
    "    count_size = len(value[3])           #تعداد سایزهای موجود برای آیتم فعلی را حساب کنید/مقدار اندیس 3 از آیتم چهارم که لیست سایزها است را نگه میدارد\n",
    "    \n",
    "    sizes_count[key] = count_size          #تعداد سایزها را در کلید دیکشنری 'سایزز کانت' ذخیره کنید.آیتم آن کلید است  "
   ]
  },
  {
   "cell_type": "code",
   "execution_count": 5,
   "id": "5e57c74e",
   "metadata": {},
   "outputs": [
    {
     "data": {
      "text/plain": [
       "{10001: 3,\n",
       " 10002: 2,\n",
       " 10003: 2,\n",
       " 10004: 4,\n",
       " 10005: 2,\n",
       " 10006: 6,\n",
       " 10007: 3,\n",
       " 10008: 3,\n",
       " 10009: 2}"
      ]
     },
     "execution_count": 5,
     "metadata": {},
     "output_type": "execute_result"
    }
   ],
   "source": [
    "sizes_count"
   ]
  },
  {
   "cell_type": "code",
   "execution_count": 6,
   "id": "a14c6c0b",
   "metadata": {},
   "outputs": [
    {
     "data": {
      "text/plain": [
       "{10001: ('Shirt', 13.0, 'clothing', ['s', 'm', 'l']),\n",
       " 10002: ('Beanie', 3.99, 'accessory', ['child', 'adult']),\n",
       " 10003: ('Socks', 1.0, 'clothing', ['child', 'adult']),\n",
       " 10004: ('Pants', 20.99, 'clothing', ['s', 'm', 'l', 'xl']),\n",
       " 10005: ('Belt', 3.99, 'accessory', ['child', 'adult']),\n",
       " 10006: ('Boots ', 30.0, 'clothing', [5, 6, 7, 8, 9, 10]),\n",
       " 10007: ('Coat', 90.99, 'clothing', ['s', 'm', 'l']),\n",
       " 10008: ('Dress', 40.0, 'clothing', ['s', 'm', 'l']),\n",
       " 10009: ('Sunglasses', 12.5, 'accessory', ['child', 'adult'])}"
      ]
     },
     "execution_count": 6,
     "metadata": {},
     "output_type": "execute_result"
    }
   ],
   "source": [
    "items_dict"
   ]
  },
  {
   "cell_type": "markdown",
   "id": "23f834f3",
   "metadata": {},
   "source": [
    "### • New Size Options\n",
    "\n",
    "🔸 Now that you've done that, we need to **add** two products to **`sizes_count`**.\n",
    "\n",
    "* Item `10010` has `4` sizes.\n",
    "* Item `10011` has `5` sizes."
   ]
  },
  {
   "cell_type": "code",
   "execution_count": 7,
   "id": "054d120c",
   "metadata": {},
   "outputs": [
    {
     "data": {
      "text/plain": [
       "{10001: 3,\n",
       " 10002: 2,\n",
       " 10003: 2,\n",
       " 10004: 4,\n",
       " 10005: 2,\n",
       " 10006: 6,\n",
       " 10007: 3,\n",
       " 10008: 3,\n",
       " 10009: 2}"
      ]
     },
     "execution_count": 7,
     "metadata": {},
     "output_type": "execute_result"
    }
   ],
   "source": [
    "sizes_count"
   ]
  },
  {
   "cell_type": "code",
   "execution_count": 8,
   "id": "75ad2964",
   "metadata": {},
   "outputs": [],
   "source": [
    "# Write your code here\n",
    "new_sizes_count = {\n",
    "    10010: 4, \n",
    "    10011: 5\n",
    "}\n",
    "sizes_count.update(new_sizes_count)"
   ]
  },
  {
   "cell_type": "code",
   "execution_count": 9,
   "id": "cca9598d",
   "metadata": {},
   "outputs": [
    {
     "data": {
      "text/plain": [
       "{10001: 3,\n",
       " 10002: 2,\n",
       " 10003: 2,\n",
       " 10004: 4,\n",
       " 10005: 2,\n",
       " 10006: 6,\n",
       " 10007: 3,\n",
       " 10008: 3,\n",
       " 10009: 2,\n",
       " 10010: 4,\n",
       " 10011: 5}"
      ]
     },
     "execution_count": 9,
     "metadata": {},
     "output_type": "execute_result"
    }
   ],
   "source": [
    "sizes_count"
   ]
  },
  {
   "cell_type": "markdown",
   "id": "8c9d6033",
   "metadata": {},
   "source": [
    "### • U.S. Converted List\n",
    "\n",
    "🔸 Finally, pull the **price** out of `items_dict` and **create a list (`usd_prices`)** with converted U.S. pricing.\n",
    "\n",
    "🔸 Use an exchange rate of **1.08**."
   ]
  },
  {
   "cell_type": "code",
   "execution_count": 10,
   "id": "02014e4b",
   "metadata": {},
   "outputs": [
    {
     "data": {
      "text/plain": [
       "{10001: ('Shirt', 13.0, 'clothing', ['s', 'm', 'l']),\n",
       " 10002: ('Beanie', 3.99, 'accessory', ['child', 'adult']),\n",
       " 10003: ('Socks', 1.0, 'clothing', ['child', 'adult']),\n",
       " 10004: ('Pants', 20.99, 'clothing', ['s', 'm', 'l', 'xl']),\n",
       " 10005: ('Belt', 3.99, 'accessory', ['child', 'adult']),\n",
       " 10006: ('Boots ', 30.0, 'clothing', [5, 6, 7, 8, 9, 10]),\n",
       " 10007: ('Coat', 90.99, 'clothing', ['s', 'm', 'l']),\n",
       " 10008: ('Dress', 40.0, 'clothing', ['s', 'm', 'l']),\n",
       " 10009: ('Sunglasses', 12.5, 'accessory', ['child', 'adult'])}"
      ]
     },
     "execution_count": 10,
     "metadata": {},
     "output_type": "execute_result"
    }
   ],
   "source": [
    "items_dict"
   ]
  },
  {
   "cell_type": "code",
   "execution_count": 11,
   "id": "86ad28f5",
   "metadata": {},
   "outputs": [],
   "source": [
    "usd_prices = []"
   ]
  },
  {
   "cell_type": "code",
   "execution_count": 12,
   "id": "06ebcfcf",
   "metadata": {},
   "outputs": [],
   "source": [
    "# Write your code here\n",
    "Conversion_per = 1.08\n",
    "for key, value in items_dict.items():   \n",
    "    price = value[1] \n",
    "    usd_price = round((price * Conversion_per) , 2)\n",
    "    usd_prices.append(usd_price)\n",
    "    "
   ]
  },
  {
   "cell_type": "code",
   "execution_count": 13,
   "id": "c3b74373",
   "metadata": {},
   "outputs": [
    {
     "data": {
      "text/plain": [
       "[14.04, 4.31, 1.08, 22.67, 4.31, 32.4, 98.27, 43.2, 13.5]"
      ]
     },
     "execution_count": 13,
     "metadata": {},
     "output_type": "execute_result"
    }
   ],
   "source": [
    "usd_prices"
   ]
  },
  {
   "cell_type": "markdown",
   "id": "0345ff7a",
   "metadata": {},
   "source": [
    "---\n",
    "<a name=\"end\"></a>\n",
    "### Congrats! \n",
    "\n",
    "🔥 Let's go to the next session.\n",
    "\n",
    "📝 This Jupyter notebook has been created by [Ahmad Ahmadi](https://www.linkedin.com/in/ahmad-ahmadi95/). Please follow me and [izlearn](https://www.linkedin.com/company/izlearn) on LinkedIn social media.  \n",
    "\n",
    "🌐 Visit your website for more courses [izlearn.ir](https://izlearn.ir)\n"
   ]
  }
 ],
 "metadata": {
  "kernelspec": {
   "display_name": "Python 3 (ipykernel)",
   "language": "python",
   "name": "python3"
  },
  "language_info": {
   "codemirror_mode": {
    "name": "ipython",
    "version": 3
   },
   "file_extension": ".py",
   "mimetype": "text/x-python",
   "name": "python",
   "nbconvert_exporter": "python",
   "pygments_lexer": "ipython3",
   "version": "3.9.5"
  }
 },
 "nbformat": 4,
 "nbformat_minor": 5
}
