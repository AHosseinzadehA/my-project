{
 "cells": [
  {
   "cell_type": "markdown",
   "id": "27e543cd",
   "metadata": {},
   "source": [
    "#### • Table of the content\n",
    "\n",
    "1. [Nested Dictionary](#1)\n",
    "2. [Use pprint() to Have Pretty Output](#1-1)\n",
    "3. [Access the Information of 2022](#1-2)\n",
    "4. [Access the Information of Clothing Categoory](#1-3)\n",
    "5. [Access the Information of Men's Sales Details](#1-4)\n",
    "6. [Total Sales in 2023](#1-5)\n",
    "6. [More Info (Follow Me on LinkedIn)](#end)\n",
    "---"
   ]
  },
  {
   "cell_type": "markdown",
   "id": "cd53d11b",
   "metadata": {},
   "source": [
    "<a name=\"1\"></a>\n",
    "## • Nested Dictionary\n",
    "🔸 You can **nest** <u>dictionaries</u> as **values** of **another** dictionary (nested dicitonary)\n",
    "\n",
    "🔸 **Nested dictionaries** are like **JSON** file format which stands for **JavaScript Object Notaion**.\n",
    "\n",
    "🔸 If you interesed in [Web Scraping](https://blog.faradars.org/what-is-web-scraping/), working with [API](https://www.google.com/search?q=api+meaning)s **you may encounter this type of data a lot**. \n",
    "\n",
    "🔸 **JSON** is `self-describing` and easy to understand. "
   ]
  },
  {
   "cell_type": "code",
   "execution_count": 4,
   "id": "d523157a",
   "metadata": {},
   "outputs": [],
   "source": [
    "from pprint import pprint"
   ]
  },
  {
   "cell_type": "code",
   "execution_count": 1,
   "id": "dbac5d5d",
   "metadata": {},
   "outputs": [],
   "source": [
    "items_history = {\n",
    "    2023: {\n",
    "        \"clothing\": {\n",
    "            \"men\": {\"sales\": 300, \"bestseller\": \"boots\"},\n",
    "            \"women\": {\"sales\": 900, \"bestseller\": \"dress\"}\n",
    "        },\n",
    "        \"accessory\": {\n",
    "            \"men\": {\"sales\":50, \"bestseller\": \"analogue watch\"},\n",
    "            \"women\": {\"sales\": 100, \"bestseller\": \"miniature ring\"}\n",
    "        }\n",
    "    },\n",
    "    2022: {\n",
    "        \"clothing\": {\n",
    "            \"men\": {\"sales\": 200, \"bestseller\": \"shirt\"},\n",
    "            \"women\": {\"sales\": 550, \"bestseller\": \"high heel shoes\"}\n",
    "        },\n",
    "        \"accessory\": {\n",
    "            \"men\":{\"sales\": 30, \"bestseller\": \"belt\"},\n",
    "            \"women\": {\"sales\":80, \"bestseller\": \"locket\" }\n",
    "        }\n",
    "    }\n",
    "}"
   ]
  },
  {
   "cell_type": "code",
   "execution_count": 2,
   "id": "4815f182",
   "metadata": {},
   "outputs": [
    {
     "data": {
      "text/plain": [
       "{2023: {'clothing': {'men': {'sales': 300, 'bestseller': 'boots'},\n",
       "   'women': {'sales': 900, 'bestseller': 'dress'}},\n",
       "  'accessory': {'men': {'sales': 50, 'bestseller': 'analogue watch'},\n",
       "   'women': {'sales': 100, 'bestseller': 'miniature ring'}}},\n",
       " 2022: {'clothing': {'men': {'sales': 200, 'bestseller': 'shirt'},\n",
       "   'women': {'sales': 550, 'bestseller': 'high heel shoes'}},\n",
       "  'accessory': {'men': {'sales': 30, 'bestseller': 'belt'},\n",
       "   'women': {'sales': 80, 'bestseller': 'locket'}}}}"
      ]
     },
     "execution_count": 2,
     "metadata": {},
     "output_type": "execute_result"
    }
   ],
   "source": [
    "items_history"
   ]
  },
  {
   "cell_type": "markdown",
   "id": "8cc79c2c",
   "metadata": {},
   "source": [
    "<a name=\"1-1\"></a>\n",
    "### 🔥 Use pprint to Have Pretty Output"
   ]
  },
  {
   "cell_type": "code",
   "execution_count": 5,
   "id": "acddb9e2",
   "metadata": {},
   "outputs": [
    {
     "name": "stdout",
     "output_type": "stream",
     "text": [
      "{2022: {'accessory': {'men': {'bestseller': 'belt', 'sales': 30},\n",
      "                      'women': {'bestseller': 'locket', 'sales': 80}},\n",
      "        'clothing': {'men': {'bestseller': 'shirt', 'sales': 200},\n",
      "                     'women': {'bestseller': 'high heel shoes', 'sales': 550}}},\n",
      " 2023: {'accessory': {'men': {'bestseller': 'analogue watch', 'sales': 50},\n",
      "                      'women': {'bestseller': 'miniature ring', 'sales': 100}},\n",
      "        'clothing': {'men': {'bestseller': 'boots', 'sales': 300},\n",
      "                     'women': {'bestseller': 'dress', 'sales': 900}}}}\n"
     ]
    }
   ],
   "source": [
    "pprint(items_history)"
   ]
  },
  {
   "cell_type": "markdown",
   "id": "844bc217",
   "metadata": {},
   "source": [
    "<a name=\"1-2\"></a>\n",
    "### • Access the Information of 2022"
   ]
  },
  {
   "cell_type": "code",
   "execution_count": 7,
   "id": "11bbafbb",
   "metadata": {},
   "outputs": [
    {
     "data": {
      "text/plain": [
       "{'clothing': {'men': {'sales': 200, 'bestseller': 'shirt'}, 'women': {'sales': 550, 'bestseller': 'high heel shoes'}}, 'accessory': {'men': {'sales': 30, 'bestseller': 'belt'}, 'women': {'sales': 80, 'bestseller': 'locket'}}}"
      ]
     },
     "execution_count": 7,
     "metadata": {},
     "output_type": "execute_result"
    }
   ],
   "source": [
    "items_history[2022]"
   ]
  },
  {
   "cell_type": "code",
   "execution_count": 8,
   "id": "a7022429",
   "metadata": {},
   "outputs": [
    {
     "name": "stdout",
     "output_type": "stream",
     "text": [
      "{'accessory': {'men': {'bestseller': 'belt', 'sales': 30},\n",
      "               'women': {'bestseller': 'locket', 'sales': 80}},\n",
      " 'clothing': {'men': {'bestseller': 'shirt', 'sales': 200},\n",
      "              'women': {'bestseller': 'high heel shoes', 'sales': 550}}}\n"
     ]
    }
   ],
   "source": [
    "# Use pprint() to have pretty output\n",
    "pprint(items_history[2022])"
   ]
  },
  {
   "cell_type": "markdown",
   "id": "27635bd9",
   "metadata": {},
   "source": [
    "<a name=\"1-3\"></a>\n",
    "### • Access the Information of \"Clothing\" Category\n",
    "\n",
    "🔸 The interested year is **2023**"
   ]
  },
  {
   "cell_type": "code",
   "execution_count": 12,
   "id": "d368d5c5",
   "metadata": {},
   "outputs": [
    {
     "data": {
      "text/plain": [
       "{'men': {'sales': 300, 'bestseller': 'boots'}, 'women': {'sales': 900, 'bestseller': 'dress'}}"
      ]
     },
     "execution_count": 12,
     "metadata": {},
     "output_type": "execute_result"
    }
   ],
   "source": [
    "items_history[2023]['clothing']"
   ]
  },
  {
   "cell_type": "markdown",
   "id": "52301477",
   "metadata": {},
   "source": [
    "<a name=\"1-4\"></a>\n",
    "### • Access the Information of Men's Sales Details\n",
    "\n",
    "🔸 The interested year is **2023**\n",
    "\n",
    "🔸 Look up in **accessory** category"
   ]
  },
  {
   "cell_type": "code",
   "execution_count": 17,
   "id": "615ec011",
   "metadata": {},
   "outputs": [
    {
     "data": {
      "text/plain": [
       "50"
      ]
     },
     "execution_count": 17,
     "metadata": {},
     "output_type": "execute_result"
    }
   ],
   "source": [
    "items_history[2023][\"accessory\"][\"men\"][\"sales\"]"
   ]
  },
  {
   "cell_type": "markdown",
   "id": "6bb460ea",
   "metadata": {},
   "source": [
    "<a name=\"1-5\"></a>\n",
    "### • Total Sales in 2023\n",
    "\n",
    "🔸 Create a list called `sales_2023`. \n",
    "\n",
    "🔸 Then grab **sales** amount from `items_history` in **2023** and update the **sales_2023**\n",
    "\n",
    "🔸 Finally calculate the **total sales** in **2023**"
   ]
  },
  {
   "cell_type": "code",
   "execution_count": 25,
   "id": "fcc24cbe",
   "metadata": {},
   "outputs": [
    {
     "name": "stdout",
     "output_type": "stream",
     "text": [
      "Done!\n"
     ]
    }
   ],
   "source": [
    "sales_2023= []\n",
    "genders = [\"men\", \"women\"]\n",
    "for item in items_history[2023].values():\n",
    "    for gender in genders:\n",
    "        sales_2023.append(item[gender][\"sales\"])\n",
    "        \n",
    "print('Done!')"
   ]
  },
  {
   "cell_type": "code",
   "execution_count": 26,
   "id": "a52c3f3a",
   "metadata": {},
   "outputs": [
    {
     "data": {
      "text/plain": [
       "[300, 900, 50, 100]"
      ]
     },
     "execution_count": 26,
     "metadata": {},
     "output_type": "execute_result"
    }
   ],
   "source": [
    "sales_2023"
   ]
  },
  {
   "cell_type": "code",
   "execution_count": 27,
   "id": "f9989cfd",
   "metadata": {},
   "outputs": [
    {
     "data": {
      "text/plain": [
       "1350"
      ]
     },
     "execution_count": 27,
     "metadata": {},
     "output_type": "execute_result"
    }
   ],
   "source": [
    "sum(sales_2023)"
   ]
  },
  {
   "cell_type": "markdown",
   "id": "80778168",
   "metadata": {},
   "source": [
    "---\n",
    "<a name=\"end\"></a>\n",
    "### Congrats! \n",
    "\n",
    "🔥 Let's go to the next session.\n",
    "\n",
    "📝 This Jupyter notebook has been created by [Ahmad Ahmadi](https://www.linkedin.com/in/ahmad-ahmadi95/). Please follow me and [izlearn](https://www.linkedin.com/company/izlearn) on LinkedIn social media.  \n",
    "\n",
    "🌐 Visit your website for more courses [izlearn.ir](https://izlearn.ir)"
   ]
  }
 ],
 "metadata": {
  "kernelspec": {
   "display_name": "Python 3 (ipykernel)",
   "language": "python",
   "name": "python3"
  },
  "language_info": {
   "codemirror_mode": {
    "name": "ipython",
    "version": 3
   },
   "file_extension": ".py",
   "mimetype": "text/x-python",
   "name": "python",
   "nbconvert_exporter": "python",
   "pygments_lexer": "ipython3",
   "version": "3.9.5"
  }
 },
 "nbformat": 4,
 "nbformat_minor": 5
}
