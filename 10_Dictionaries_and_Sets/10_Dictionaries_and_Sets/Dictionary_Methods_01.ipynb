{
 "cells": [
  {
   "cell_type": "markdown",
   "id": "d1564bd7",
   "metadata": {},
   "source": [
    "#### • Table of the content\n",
    "\n",
    "1. [Dictionary Methods](#1)\n",
    "2. [Keys Method](#1-1)\n",
    "3. [Values Method](#1-2)\n",
    "4. [Items Method](#1-3)\n",
    "5. [Get Method](#1-4)\n",
    "6. [Update Method](#1-5)\n",
    "7. [Pop Method](#1-6)   \n",
    "2. [More Info](#end)\n",
    "---"
   ]
  },
  {
   "cell_type": "markdown",
   "id": "a9e1c452",
   "metadata": {},
   "source": [
    "<a name=\"1\"></a>\n",
    "## Dictionary Methods \n",
    "\n",
    "🔸 During this jupyter file we're going to work with [**dictionary methods**](https://www.w3schools.com/python/python_ref_dictionary.asp) in practice.\n",
    "\n",
    "🔸 The followings are **the most used** dictionary methods.\n",
    "\n",
    "- keys() method\n",
    "- values() method\n",
    "- items() method\n",
    "- get() method\n",
    "- update() method\n",
    "- pop() method"
   ]
  },
  {
   "cell_type": "code",
   "execution_count": 1,
   "id": "ac4ec666",
   "metadata": {},
   "outputs": [],
   "source": [
    "customers_purchase = {\n",
    "    'c00001': [25.99, 30.0],\n",
    "    'c00005': [22.0, 33.0],\n",
    "    'c00007': [12.0, 63.0, 44.0],\n",
    "    'c00012': [83.0, 25.0],\n",
    "    'c00019': [29.5, 30.0],\n",
    "    'c00777': [40.0, 22.0, 35.0, 62.5]\n",
    "}"
   ]
  },
  {
   "cell_type": "code",
   "execution_count": 2,
   "id": "7a40db53",
   "metadata": {},
   "outputs": [
    {
     "data": {
      "text/plain": [
       "{'c00001': [25.99, 30.0],\n",
       " 'c00005': [22.0, 33.0],\n",
       " 'c00007': [12.0, 63.0, 44.0],\n",
       " 'c00012': [83.0, 25.0],\n",
       " 'c00019': [29.5, 30.0],\n",
       " 'c00777': [40.0, 22.0, 35.0, 62.5]}"
      ]
     },
     "execution_count": 2,
     "metadata": {},
     "output_type": "execute_result"
    }
   ],
   "source": [
    "customers_purchase"
   ]
  },
  {
   "cell_type": "markdown",
   "id": "ccd3be18",
   "metadata": {},
   "source": [
    "<a name=\"1-1\"></a>\n",
    "### Keys Method\n",
    "\n",
    "🔸 The **.keys()** method returns the **keys** from a dictionary\n",
    "\n",
    "💡 **A very common mistake** in beginners is using **key()** instead of **keys()**"
   ]
  },
  {
   "cell_type": "code",
   "execution_count": 7,
   "id": "8c069dba",
   "metadata": {},
   "outputs": [],
   "source": [
    "# 1.Return 'customers_purchase' keys as a list\n",
    "customers_id = list(customers_purchase.keys())"
   ]
  },
  {
   "cell_type": "code",
   "execution_count": 8,
   "id": "a8662ba2",
   "metadata": {},
   "outputs": [
    {
     "data": {
      "text/plain": [
       "['c00001', 'c00005', 'c00007', 'c00012', 'c00019', 'c00777']"
      ]
     },
     "execution_count": 8,
     "metadata": {},
     "output_type": "execute_result"
    }
   ],
   "source": [
    "customers_id"
   ]
  },
  {
   "cell_type": "markdown",
   "id": "66fb6e18",
   "metadata": {},
   "source": [
    "<a name=\"1-2\"></a>\n",
    "### Values Method\n",
    "\n",
    "🔸 The **.values()** method return the **values** in a dictionary"
   ]
  },
  {
   "cell_type": "code",
   "execution_count": 9,
   "id": "272da34f",
   "metadata": {},
   "outputs": [
    {
     "data": {
      "text/plain": [
       "{'c00001': [25.99, 30.0],\n",
       " 'c00005': [22.0, 33.0],\n",
       " 'c00007': [12.0, 63.0, 44.0],\n",
       " 'c00012': [83.0, 25.0],\n",
       " 'c00019': [29.5, 30.0],\n",
       " 'c00777': [40.0, 22.0, 35.0, 62.5]}"
      ]
     },
     "execution_count": 9,
     "metadata": {},
     "output_type": "execute_result"
    }
   ],
   "source": [
    "customers_purchase"
   ]
  },
  {
   "cell_type": "code",
   "execution_count": 13,
   "id": "c6dcb1a3",
   "metadata": {},
   "outputs": [],
   "source": [
    "# 2.Return 'customers_purchase' values as a list\n",
    "purchases = list(customers_purchase.values())"
   ]
  },
  {
   "cell_type": "code",
   "execution_count": 14,
   "id": "b497ec2e",
   "metadata": {},
   "outputs": [
    {
     "data": {
      "text/plain": [
       "[[25.99, 30.0],\n",
       " [22.0, 33.0],\n",
       " [12.0, 63.0, 44.0],\n",
       " [83.0, 25.0],\n",
       " [29.5, 30.0],\n",
       " [40.0, 22.0, 35.0, 62.5]]"
      ]
     },
     "execution_count": 14,
     "metadata": {},
     "output_type": "execute_result"
    }
   ],
   "source": [
    "purchases"
   ]
  },
  {
   "cell_type": "code",
   "execution_count": 17,
   "id": "db516ebc",
   "metadata": {},
   "outputs": [
    {
     "name": "stdout",
     "output_type": "stream",
     "text": [
      "The total purchase is €55.99\n",
      "The total purchase is €55.0\n",
      "The total purchase is €119.0\n",
      "The total purchase is €108.0\n",
      "The total purchase is €59.5\n",
      "The total purchase is €159.5\n"
     ]
    }
   ],
   "source": [
    "# 3.Calculate total purchase for each customer\n",
    "for purchase in purchases:\n",
    "    print(f\"The total purchase is €{round(sum(purchase), 2)}\")"
   ]
  },
  {
   "cell_type": "markdown",
   "id": "ef6b9dc6",
   "metadata": {},
   "source": [
    "<a name=\"1-3\"></a>\n",
    "### Items Method\n",
    "\n",
    "🔸 The **items()** method returns **key-value** pairs from a dictionary as a <u>list of tuples</u>"
   ]
  },
  {
   "cell_type": "code",
   "execution_count": 18,
   "id": "9f1b0b69",
   "metadata": {},
   "outputs": [
    {
     "data": {
      "text/plain": [
       "{'c00001': [25.99, 30.0],\n",
       " 'c00005': [22.0, 33.0],\n",
       " 'c00007': [12.0, 63.0, 44.0],\n",
       " 'c00012': [83.0, 25.0],\n",
       " 'c00019': [29.5, 30.0],\n",
       " 'c00777': [40.0, 22.0, 35.0, 62.5]}"
      ]
     },
     "execution_count": 18,
     "metadata": {},
     "output_type": "execute_result"
    }
   ],
   "source": [
    "customers_purchase"
   ]
  },
  {
   "cell_type": "code",
   "execution_count": 21,
   "id": "db4a297e",
   "metadata": {},
   "outputs": [
    {
     "name": "stdout",
     "output_type": "stream",
     "text": [
      "c00001 [25.99, 30.0]\n",
      "c00005 [22.0, 33.0]\n",
      "c00007 [12.0, 63.0, 44.0]\n",
      "c00012 [83.0, 25.0]\n",
      "c00019 [29.5, 30.0]\n",
      "c00777 [40.0, 22.0, 35.0, 62.5]\n"
     ]
    }
   ],
   "source": [
    "# 4.Show 'customers_purchase' key-value pairs\n",
    "# 4.1.METHOD ONE: (longer form)\n",
    "for item in customers_purchase.items():\n",
    "    customer = item[0]\n",
    "    purchase = item[1]\n",
    "    print(customer, purchase)"
   ]
  },
  {
   "cell_type": "code",
   "execution_count": 23,
   "id": "d9a53c75",
   "metadata": {},
   "outputs": [
    {
     "name": "stdout",
     "output_type": "stream",
     "text": [
      "c00001 [25.99, 30.0]\n",
      "c00005 [22.0, 33.0]\n",
      "c00007 [12.0, 63.0, 44.0]\n",
      "c00012 [83.0, 25.0]\n",
      "c00019 [29.5, 30.0]\n",
      "c00777 [40.0, 22.0, 35.0, 62.5]\n"
     ]
    }
   ],
   "source": [
    "# 5.Show 'customers_purchase' key-value pairs\n",
    "# 5.1.METHOD TWO: (short form)\n",
    "for customer, purchase in customers_purchase.items():\n",
    "    print(customer, purchase)"
   ]
  },
  {
   "cell_type": "markdown",
   "id": "5d793065",
   "metadata": {},
   "source": [
    "<a name=\"1-4\"></a>\n",
    "### Get Method\n",
    "\n",
    "🔸 The **.get()** method returns the **value** <u>associated with a dictionary key</u>\n",
    "\n",
    "🔰 It **won't** return a <span>KeyError</span> if the key isn't find\n",
    "\n",
    "🔰 You can specify **optioal** value to return <u>if the key doesn't exist</u>"
   ]
  },
  {
   "cell_type": "code",
   "execution_count": 24,
   "id": "786af5ec",
   "metadata": {},
   "outputs": [
    {
     "data": {
      "text/plain": [
       "{'c00001': [25.99, 30.0],\n",
       " 'c00005': [22.0, 33.0],\n",
       " 'c00007': [12.0, 63.0, 44.0],\n",
       " 'c00012': [83.0, 25.0],\n",
       " 'c00019': [29.5, 30.0],\n",
       " 'c00777': [40.0, 22.0, 35.0, 62.5]}"
      ]
     },
     "execution_count": 24,
     "metadata": {},
     "output_type": "execute_result"
    }
   ],
   "source": [
    "customers_purchase"
   ]
  },
  {
   "cell_type": "code",
   "execution_count": 25,
   "id": "87dc2163",
   "metadata": {},
   "outputs": [
    {
     "data": {
      "text/plain": [
       "['c00007', 'c00077', 'c00777']"
      ]
     },
     "execution_count": 25,
     "metadata": {},
     "output_type": "execute_result"
    }
   ],
   "source": [
    "vip_customers = ['c00007', 'c00077', 'c00777']\n",
    "vip_customers"
   ]
  },
  {
   "cell_type": "code",
   "execution_count": 26,
   "id": "906d5a12",
   "metadata": {},
   "outputs": [
    {
     "name": "stdout",
     "output_type": "stream",
     "text": [
      "c00007 -> [12.0, 63.0, 44.0]\n"
     ]
    },
    {
     "ename": "KeyError",
     "evalue": "'c00077'",
     "output_type": "error",
     "traceback": [
      "\u001b[1;31m---------------------------------------------------------------------------\u001b[0m",
      "\u001b[1;31mKeyError\u001b[0m                                  Traceback (most recent call last)",
      "Cell \u001b[1;32mIn[26], line 3\u001b[0m\n\u001b[0;32m      1\u001b[0m \u001b[38;5;66;03m# 6.Show purchase for the above customers (don't use get() method)\u001b[39;00m\n\u001b[0;32m      2\u001b[0m \u001b[38;5;28;01mfor\u001b[39;00m customer \u001b[38;5;129;01min\u001b[39;00m vip_customers:\n\u001b[1;32m----> 3\u001b[0m     \u001b[38;5;28mprint\u001b[39m(customer, \u001b[38;5;124m'\u001b[39m\u001b[38;5;124m->\u001b[39m\u001b[38;5;124m'\u001b[39m, \u001b[43mcustomers_purchase\u001b[49m\u001b[43m[\u001b[49m\u001b[43mcustomer\u001b[49m\u001b[43m]\u001b[49m)\n",
      "\u001b[1;31mKeyError\u001b[0m: 'c00077'"
     ]
    }
   ],
   "source": [
    "# 6.Show purchase for the above customers (don't use get() method)\n",
    "for customer in vip_customers:\n",
    "    print(customer, '->', customers_purchase[customer])"
   ]
  },
  {
   "cell_type": "markdown",
   "id": "81764808",
   "metadata": {},
   "source": [
    "🔰 <span style=\"font-size:1.8rem;font-weiht:bolder;\">Use</span> optional value of **get()** method"
   ]
  },
  {
   "cell_type": "code",
   "execution_count": 27,
   "id": "0b934f27",
   "metadata": {},
   "outputs": [],
   "source": [
    "vip_customers = ['c00007', 'c00077', 'c00777']"
   ]
  },
  {
   "cell_type": "code",
   "execution_count": 29,
   "id": "f03dc285",
   "metadata": {},
   "outputs": [
    {
     "name": "stdout",
     "output_type": "stream",
     "text": [
      "c00007 -> [12.0, 63.0, 44.0]\n",
      "c00077 -> c00077 isn't in the list!\n",
      "c00777 -> [40.0, 22.0, 35.0, 62.5]\n"
     ]
    }
   ],
   "source": [
    "# 7.Show purchase for the above customers (use get() method)\n",
    "for customer in vip_customers:\n",
    "    print(customer, '->', customers_purchase.get(customer, f\"{customer} isn't in the list!\"))"
   ]
  },
  {
   "cell_type": "markdown",
   "id": "8df2be26",
   "metadata": {},
   "source": [
    "<a name=\"1-5\"></a>\n",
    "### Update Method\n",
    "\n",
    "🔸 The **.update()** method **appends** key-value pairs to a dictionary"
   ]
  },
  {
   "cell_type": "code",
   "execution_count": 30,
   "id": "53a302ca",
   "metadata": {},
   "outputs": [],
   "source": [
    "new_customers = {'c00006': [33.33],\n",
    "                 'c00022': [45.3, 22.5],\n",
    "                 'c00030': ['nan', 'nan']}"
   ]
  },
  {
   "cell_type": "code",
   "execution_count": 32,
   "id": "a9c5839c",
   "metadata": {},
   "outputs": [],
   "source": [
    "# 8.Append the 'new_customers' to 'customers_purchase'\n",
    "customers_purchase.update(new_customers)"
   ]
  },
  {
   "cell_type": "code",
   "execution_count": 33,
   "id": "75627c32",
   "metadata": {},
   "outputs": [
    {
     "data": {
      "text/plain": [
       "{'c00001': [25.99, 30.0],\n",
       " 'c00005': [22.0, 33.0],\n",
       " 'c00007': [12.0, 63.0, 44.0],\n",
       " 'c00012': [83.0, 25.0],\n",
       " 'c00019': [29.5, 30.0],\n",
       " 'c00777': [40.0, 22.0, 35.0, 62.5],\n",
       " 'c00006': [33.33],\n",
       " 'c00022': [45.3, 22.5],\n",
       " 'c00030': ['nan', 'nan']}"
      ]
     },
     "execution_count": 33,
     "metadata": {},
     "output_type": "execute_result"
    }
   ],
   "source": [
    "customers_purchase"
   ]
  },
  {
   "cell_type": "markdown",
   "id": "7abf1992",
   "metadata": {},
   "source": [
    "<a name=\"1-6\"></a>\n",
    "### Pop Method\n",
    "\n",
    "🔸 The **pop()** method **removes** specified key and its value and **returns** the <u>associated removed value</u>\n",
    "\n",
    "🔰 Still you can use **del** keyword to **remove key-value pairs** from your dictionary\n",
    "\n",
    "🔰 You can specify an **optional value** to return if the key is not found → **preventing** from <span style=\"font-family:consolas;font-weight:bold;color:darkred;\">KeyError</span>"
   ]
  },
  {
   "cell_type": "code",
   "execution_count": 34,
   "id": "52abe4e4",
   "metadata": {},
   "outputs": [
    {
     "data": {
      "text/plain": [
       "{'c00001': [25.99, 30.0],\n",
       " 'c00005': [22.0, 33.0],\n",
       " 'c00007': [12.0, 63.0, 44.0],\n",
       " 'c00012': [83.0, 25.0],\n",
       " 'c00019': [29.5, 30.0],\n",
       " 'c00777': [40.0, 22.0, 35.0, 62.5],\n",
       " 'c00006': [33.33],\n",
       " 'c00022': [45.3, 22.5],\n",
       " 'c00030': ['nan', 'nan']}"
      ]
     },
     "execution_count": 34,
     "metadata": {},
     "output_type": "execute_result"
    }
   ],
   "source": [
    "customers_purchase"
   ]
  },
  {
   "cell_type": "code",
   "execution_count": 35,
   "id": "5ae67307",
   "metadata": {},
   "outputs": [
    {
     "data": {
      "text/plain": [
       "['nan', 'nan']"
      ]
     },
     "execution_count": 35,
     "metadata": {},
     "output_type": "execute_result"
    }
   ],
   "source": [
    "# 9.Remove 'c00030' from our dictionary\n",
    "customers_purchase.pop('c00030')"
   ]
  },
  {
   "cell_type": "code",
   "execution_count": 36,
   "id": "4a1f8e00",
   "metadata": {},
   "outputs": [
    {
     "data": {
      "text/plain": [
       "{'c00001': [25.99, 30.0],\n",
       " 'c00005': [22.0, 33.0],\n",
       " 'c00007': [12.0, 63.0, 44.0],\n",
       " 'c00012': [83.0, 25.0],\n",
       " 'c00019': [29.5, 30.0],\n",
       " 'c00777': [40.0, 22.0, 35.0, 62.5],\n",
       " 'c00006': [33.33],\n",
       " 'c00022': [45.3, 22.5]}"
      ]
     },
     "execution_count": 36,
     "metadata": {},
     "output_type": "execute_result"
    }
   ],
   "source": [
    "customers_purchase"
   ]
  },
  {
   "cell_type": "code",
   "execution_count": 39,
   "id": "1b289197",
   "metadata": {},
   "outputs": [
    {
     "data": {
      "text/plain": [
       "'the customer did not find!'"
      ]
     },
     "execution_count": 39,
     "metadata": {},
     "output_type": "execute_result"
    }
   ],
   "source": [
    "# 10.Remove 'c00013' from 'customers_purchase'\n",
    "customers_purchase.pop('c00013', 'the customer did not find!')"
   ]
  },
  {
   "cell_type": "markdown",
   "id": "16f54ffb",
   "metadata": {},
   "source": [
    "---\n",
    "<a name=\"end\"></a>\n",
    "### Congrats! \n",
    "\n",
    "🔥 Let's go to the next session.\n",
    "\n",
    "📝 This Jupyter notebook has been created by [Ahmad Ahmadi](https://www.linkedin.com/in/ahmad-ahmadi95/).Please follow me and [izlearn](https://www.linkedin.com/company/izlearn) on the LinkedIn social media.  \n",
    "\n",
    "🌐 Visit your website for more courses [izlearn.ir](https://izlearn.ir)\n"
   ]
  }
 ],
 "metadata": {
  "kernelspec": {
   "display_name": "Python 3 (ipykernel)",
   "language": "python",
   "name": "python3"
  },
  "language_info": {
   "codemirror_mode": {
    "name": "ipython",
    "version": 3
   },
   "file_extension": ".py",
   "mimetype": "text/x-python",
   "name": "python",
   "nbconvert_exporter": "python",
   "pygments_lexer": "ipython3",
   "version": "3.9.5"
  }
 },
 "nbformat": 4,
 "nbformat_minor": 5
}
