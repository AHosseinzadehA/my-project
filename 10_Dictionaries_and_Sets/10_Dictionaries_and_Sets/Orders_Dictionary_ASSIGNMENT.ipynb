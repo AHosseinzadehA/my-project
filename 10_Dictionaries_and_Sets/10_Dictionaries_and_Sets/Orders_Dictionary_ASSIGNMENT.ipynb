{
 "cells": [
  {
   "cell_type": "markdown",
   "id": "f3486642",
   "metadata": {},
   "source": [
    "## • Orders Dictionary \n",
    "\n",
    "🔸 This is our **current dictionary** for the `colleagues' orders`. Thanks for your help 🧡"
   ]
  },
  {
   "cell_type": "code",
   "execution_count": 1,
   "id": "131e6c6f",
   "metadata": {},
   "outputs": [],
   "source": [
    "orders = {\n",
    "    'Salar': 'Sea Breeze',\n",
    "    'Hana': 'Chocolate Ice Cream',\n",
    "    'Erfan': 'Black Tea',\n",
    "    'Saeede': 'Ice Latte',\n",
    "    'Navid': 'Hot Chocolate'\n",
    "}"
   ]
  },
  {
   "cell_type": "code",
   "execution_count": 2,
   "id": "cc74ef0c",
   "metadata": {},
   "outputs": [
    {
     "data": {
      "text/plain": [
       "{'Salar': 'Sea Breeze',\n",
       " 'Hana': 'Chocolate Ice Cream',\n",
       " 'Erfan': 'Black Tea',\n",
       " 'Saeede': 'Ice Latte',\n",
       " 'Navid': 'Hot Chocolate'}"
      ]
     },
     "execution_count": 2,
     "metadata": {},
     "output_type": "execute_result"
    }
   ],
   "source": [
    "orders"
   ]
  },
  {
   "cell_type": "markdown",
   "id": "6e70d175",
   "metadata": {},
   "source": [
    "🔸 **Can you tell what is `Erfan's Order`?**"
   ]
  },
  {
   "cell_type": "code",
   "execution_count": 3,
   "id": "6c130b12",
   "metadata": {},
   "outputs": [
    {
     "data": {
      "text/plain": [
       "'Black Tea'"
      ]
     },
     "execution_count": 3,
     "metadata": {},
     "output_type": "execute_result"
    }
   ],
   "source": [
    "orders['Erfan']"
   ]
  },
  {
   "cell_type": "markdown",
   "id": "66f60a30",
   "metadata": {},
   "source": [
    "🔸 **Add me `(Ali)` and my order is `Americano`**"
   ]
  },
  {
   "cell_type": "code",
   "execution_count": 4,
   "id": "7a131071",
   "metadata": {},
   "outputs": [],
   "source": [
    "orders['Ali'] = 'Americano'"
   ]
  },
  {
   "cell_type": "code",
   "execution_count": 5,
   "id": "5d95e6e0",
   "metadata": {},
   "outputs": [
    {
     "data": {
      "text/plain": [
       "{'Salar': 'Sea Breeze',\n",
       " 'Hana': 'Chocolate Ice Cream',\n",
       " 'Erfan': 'Black Tea',\n",
       " 'Saeede': 'Ice Latte',\n",
       " 'Navid': 'Hot Chocolate',\n",
       " 'Ali': 'Americano'}"
      ]
     },
     "execution_count": 5,
     "metadata": {},
     "output_type": "execute_result"
    }
   ],
   "source": [
    "orders"
   ]
  },
  {
   "cell_type": "markdown",
   "id": "e03b43d8",
   "metadata": {},
   "source": [
    "🔸 **Change `Navid's order` to `Milk Tea`**"
   ]
  },
  {
   "cell_type": "code",
   "execution_count": 6,
   "id": "496b5a7c",
   "metadata": {},
   "outputs": [],
   "source": [
    "orders['Navid'] = 'Milk Tea'"
   ]
  },
  {
   "cell_type": "code",
   "execution_count": 7,
   "id": "00117fb6",
   "metadata": {},
   "outputs": [
    {
     "data": {
      "text/plain": [
       "{'Salar': 'Sea Breeze',\n",
       " 'Hana': 'Chocolate Ice Cream',\n",
       " 'Erfan': 'Black Tea',\n",
       " 'Saeede': 'Ice Latte',\n",
       " 'Navid': 'Milk Tea',\n",
       " 'Ali': 'Americano'}"
      ]
     },
     "execution_count": 7,
     "metadata": {},
     "output_type": "execute_result"
    }
   ],
   "source": [
    "orders"
   ]
  },
  {
   "cell_type": "markdown",
   "id": "eaad6ac1",
   "metadata": {},
   "source": [
    "🔸 **Remove `Saeede` - She doesn't work here anymore!**"
   ]
  },
  {
   "cell_type": "code",
   "execution_count": 8,
   "id": "8e944b7c",
   "metadata": {},
   "outputs": [],
   "source": [
    "del orders['Saeede']"
   ]
  },
  {
   "cell_type": "code",
   "execution_count": 9,
   "id": "0e70f3e4",
   "metadata": {},
   "outputs": [
    {
     "data": {
      "text/plain": [
       "{'Salar': 'Sea Breeze',\n",
       " 'Hana': 'Chocolate Ice Cream',\n",
       " 'Erfan': 'Black Tea',\n",
       " 'Navid': 'Milk Tea',\n",
       " 'Ali': 'Americano'}"
      ]
     },
     "execution_count": 9,
     "metadata": {},
     "output_type": "execute_result"
    }
   ],
   "source": [
    "orders"
   ]
  },
  {
   "cell_type": "markdown",
   "id": "0ee8fbab",
   "metadata": {},
   "source": [
    "---\n",
    "<a name=\"end\"></a>\n",
    "### Congrats! \n",
    "\n",
    "🔥 Let's go to the next session.\n",
    "\n",
    "📝 This Jupyter notebook has been created by [Ahmad Ahmadi](https://www.linkedin.com/in/ahmad-ahmadi95/).Please follow me and [izlearn](https://www.linkedin.com/company/izlearn) on the LinkedIn social media.  \n",
    "\n",
    "🌐 Visit your website for more courses [izlearn.ir](https://izlearn.ir)\n"
   ]
  }
 ],
 "metadata": {
  "kernelspec": {
   "display_name": "Python 3 (ipykernel)",
   "language": "python",
   "name": "python3"
  },
  "language_info": {
   "codemirror_mode": {
    "name": "ipython",
    "version": 3
   },
   "file_extension": ".py",
   "mimetype": "text/x-python",
   "name": "python",
   "nbconvert_exporter": "python",
   "pygments_lexer": "ipython3",
   "version": "3.9.5"
  }
 },
 "nbformat": 4,
 "nbformat_minor": 5
}
