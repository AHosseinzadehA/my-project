{
 "cells": [
  {
   "cell_type": "markdown",
   "id": "b6d2ace8",
   "metadata": {},
   "source": [
    "<a name=\"1\"></a>\n",
    "### Set Use Cases\n",
    "\n",
    "🔸 **Sets** are **more efficient than lists** for performing **membership tests**.\n",
    "\n",
    "🔸 **Sets** can **gather unique values** efficiently **withou looping**.\n",
    "\n",
    "🔸 **Sets** operations can find **data shared**, **not shared** and **between items** efficiently without looping.\n",
    "\n",
    "---"
   ]
  },
  {
   "cell_type": "markdown",
   "id": "5942af51",
   "metadata": {},
   "source": [
    "### Line Magics & Cell Magics in Jupyter\n",
    "\n",
    "🔸 We have **two** types of **magic command** in **IPYNB** environment. [source](https://stackoverflow.com/questions/58607854/difference-between-and-in-ipython-magic-commands)\n",
    "\n",
    "- **Line magics** : that have single **`%`** and operates on **single line**\n",
    "\n",
    "- **Cell magics** : that have two **`%%`** and operates on **multiple lines** (cell)"
   ]
  },
  {
   "cell_type": "code",
   "execution_count": 1,
   "id": "e4dd7471",
   "metadata": {},
   "outputs": [
    {
     "data": {
      "application/json": {
       "cell": {
        "!": "OSMagics",
        "HTML": "Other",
        "SVG": "Other",
        "bash": "Other",
        "capture": "ExecutionMagics",
        "cmd": "Other",
        "code_wrap": "ExecutionMagics",
        "debug": "ExecutionMagics",
        "file": "Other",
        "html": "DisplayMagics",
        "javascript": "DisplayMagics",
        "js": "DisplayMagics",
        "latex": "DisplayMagics",
        "markdown": "DisplayMagics",
        "perl": "Other",
        "prun": "ExecutionMagics",
        "pypy": "Other",
        "python": "Other",
        "python2": "Other",
        "python3": "Other",
        "ruby": "Other",
        "script": "ScriptMagics",
        "sh": "Other",
        "svg": "DisplayMagics",
        "sx": "OSMagics",
        "system": "OSMagics",
        "time": "ExecutionMagics",
        "timeit": "ExecutionMagics",
        "writefile": "OSMagics"
       },
       "line": {
        "alias": "OSMagics",
        "alias_magic": "BasicMagics",
        "autoawait": "AsyncMagics",
        "autocall": "AutoMagics",
        "automagic": "AutoMagics",
        "autosave": "KernelMagics",
        "bookmark": "OSMagics",
        "cd": "OSMagics",
        "clear": "KernelMagics",
        "cls": "KernelMagics",
        "code_wrap": "ExecutionMagics",
        "colors": "BasicMagics",
        "conda": "PackagingMagics",
        "config": "ConfigMagics",
        "connect_info": "KernelMagics",
        "copy": "Other",
        "ddir": "Other",
        "debug": "ExecutionMagics",
        "dhist": "OSMagics",
        "dirs": "OSMagics",
        "doctest_mode": "BasicMagics",
        "echo": "Other",
        "ed": "Other",
        "edit": "KernelMagics",
        "env": "OSMagics",
        "gui": "BasicMagics",
        "hist": "Other",
        "history": "HistoryMagics",
        "killbgscripts": "ScriptMagics",
        "ldir": "Other",
        "less": "KernelMagics",
        "load": "CodeMagics",
        "load_ext": "ExtensionMagics",
        "loadpy": "CodeMagics",
        "logoff": "LoggingMagics",
        "logon": "LoggingMagics",
        "logstart": "LoggingMagics",
        "logstate": "LoggingMagics",
        "logstop": "LoggingMagics",
        "ls": "Other",
        "lsmagic": "BasicMagics",
        "macro": "ExecutionMagics",
        "magic": "BasicMagics",
        "matplotlib": "PylabMagics",
        "mkdir": "Other",
        "more": "KernelMagics",
        "notebook": "BasicMagics",
        "page": "BasicMagics",
        "pastebin": "CodeMagics",
        "pdb": "ExecutionMagics",
        "pdef": "NamespaceMagics",
        "pdoc": "NamespaceMagics",
        "pfile": "NamespaceMagics",
        "pinfo": "NamespaceMagics",
        "pinfo2": "NamespaceMagics",
        "pip": "PackagingMagics",
        "popd": "OSMagics",
        "pprint": "BasicMagics",
        "precision": "BasicMagics",
        "prun": "ExecutionMagics",
        "psearch": "NamespaceMagics",
        "psource": "NamespaceMagics",
        "pushd": "OSMagics",
        "pwd": "OSMagics",
        "pycat": "OSMagics",
        "pylab": "PylabMagics",
        "qtconsole": "KernelMagics",
        "quickref": "BasicMagics",
        "recall": "HistoryMagics",
        "rehashx": "OSMagics",
        "reload_ext": "ExtensionMagics",
        "ren": "Other",
        "rep": "Other",
        "rerun": "HistoryMagics",
        "reset": "NamespaceMagics",
        "reset_selective": "NamespaceMagics",
        "rmdir": "Other",
        "run": "ExecutionMagics",
        "save": "CodeMagics",
        "sc": "OSMagics",
        "set_env": "OSMagics",
        "store": "StoreMagics",
        "sx": "OSMagics",
        "system": "OSMagics",
        "tb": "ExecutionMagics",
        "time": "ExecutionMagics",
        "timeit": "ExecutionMagics",
        "unalias": "OSMagics",
        "unload_ext": "ExtensionMagics",
        "who": "NamespaceMagics",
        "who_ls": "NamespaceMagics",
        "whos": "NamespaceMagics",
        "xdel": "NamespaceMagics",
        "xmode": "BasicMagics"
       }
      },
      "text/plain": [
       "Available line magics:\n",
       "%alias  %alias_magic  %autoawait  %autocall  %automagic  %autosave  %bookmark  %cd  %clear  %cls  %code_wrap  %colors  %conda  %config  %connect_info  %copy  %ddir  %debug  %dhist  %dirs  %doctest_mode  %echo  %ed  %edit  %env  %gui  %hist  %history  %killbgscripts  %ldir  %less  %load  %load_ext  %loadpy  %logoff  %logon  %logstart  %logstate  %logstop  %ls  %lsmagic  %macro  %magic  %matplotlib  %mkdir  %more  %notebook  %page  %pastebin  %pdb  %pdef  %pdoc  %pfile  %pinfo  %pinfo2  %pip  %popd  %pprint  %precision  %prun  %psearch  %psource  %pushd  %pwd  %pycat  %pylab  %qtconsole  %quickref  %recall  %rehashx  %reload_ext  %ren  %rep  %rerun  %reset  %reset_selective  %rmdir  %run  %save  %sc  %set_env  %store  %sx  %system  %tb  %time  %timeit  %unalias  %unload_ext  %who  %who_ls  %whos  %xdel  %xmode\n",
       "\n",
       "Available cell magics:\n",
       "%%!  %%HTML  %%SVG  %%bash  %%capture  %%cmd  %%code_wrap  %%debug  %%file  %%html  %%javascript  %%js  %%latex  %%markdown  %%perl  %%prun  %%pypy  %%python  %%python2  %%python3  %%ruby  %%script  %%sh  %%svg  %%sx  %%system  %%time  %%timeit  %%writefile\n",
       "\n",
       "Automagic is ON, % prefix IS NOT needed for line magics."
      ]
     },
     "execution_count": 1,
     "metadata": {},
     "output_type": "execute_result"
    }
   ],
   "source": [
    "%lsmagic"
   ]
  },
  {
   "cell_type": "code",
   "execution_count": 2,
   "id": "7258819f",
   "metadata": {},
   "outputs": [
    {
     "name": "stdout",
     "output_type": "stream",
     "text": [
      "CPU times: total: 0 ns\n",
      "Wall time: 0 ns\n"
     ]
    },
    {
     "data": {
      "text/plain": [
       "False"
      ]
     },
     "execution_count": 2,
     "metadata": {},
     "output_type": "execute_result"
    }
   ],
   "source": [
    "%time 100 > 50 and 60 < 40"
   ]
  },
  {
   "cell_type": "code",
   "execution_count": 4,
   "id": "4a58c945",
   "metadata": {},
   "outputs": [
    {
     "name": "stdout",
     "output_type": "stream",
     "text": [
      "done!\n",
      "CPU times: total: 266 ms\n",
      "Wall time: 276 ms\n"
     ]
    }
   ],
   "source": [
    "%%time\n",
    "for i in range(10000000):\n",
    "    pass\n",
    "print(\"done!\")"
   ]
  },
  {
   "cell_type": "markdown",
   "id": "b1083fc2",
   "metadata": {},
   "source": [
    "💡 Probably you will ask what is the *difference* between **CPU times** and **Wall time**? [answer](https://www.google.com/search?q=difference+between+cpu+time+and+wall+time)"
   ]
  },
  {
   "cell_type": "markdown",
   "id": "cf9a524f",
   "metadata": {},
   "source": [
    "### • Membership Check\n",
    "\n",
    "🔸 **Sets** are **more efficient than lists** for performing **membership tests**."
   ]
  },
  {
   "cell_type": "code",
   "execution_count": 5,
   "id": "e7db4cf7",
   "metadata": {},
   "outputs": [],
   "source": [
    "time_list = list(range(10000001))\n",
    "time_set = set(range(10000001))"
   ]
  },
  {
   "cell_type": "code",
   "execution_count": 6,
   "id": "c91b25cc",
   "metadata": {},
   "outputs": [
    {
     "name": "stdout",
     "output_type": "stream",
     "text": [
      "CPU times: total: 109 ms\n",
      "Wall time: 103 ms\n"
     ]
    },
    {
     "data": {
      "text/plain": [
       "True"
      ]
     },
     "execution_count": 6,
     "metadata": {},
     "output_type": "execute_result"
    }
   ],
   "source": [
    "%%time\n",
    "10_000_000 in time_list"
   ]
  },
  {
   "cell_type": "code",
   "execution_count": 8,
   "id": "1dac7c78",
   "metadata": {},
   "outputs": [
    {
     "name": "stdout",
     "output_type": "stream",
     "text": [
      "CPU times: total: 0 ns\n",
      "Wall time: 0 ns\n"
     ]
    },
    {
     "data": {
      "text/plain": [
       "True"
      ]
     },
     "execution_count": 8,
     "metadata": {},
     "output_type": "execute_result"
    }
   ],
   "source": [
    "%%time\n",
    "10_000_000 in time_set"
   ]
  },
  {
   "cell_type": "markdown",
   "id": "8344847b",
   "metadata": {},
   "source": [
    "### • Gathering Unique Values\n",
    "\n",
    "🔸 **Sets** can **gather unique values** efficiently **without looping**."
   ]
  },
  {
   "cell_type": "code",
   "execution_count": 10,
   "id": "4ec5135b",
   "metadata": {},
   "outputs": [],
   "source": [
    "items_sold = [\n",
    "    \"pants\", \"dress\", \"shirt\", \"coat\", \"coat\", \"shirt\", \"dress\", \"jacket\", \"socks\", \"hat\", \"hat\", \"belt\",\n",
    "    \"coat\", \"jacket\", \"jacket\", \"dress\", \"jacket\", \"socks\", \"top\", \"crop top\", \"shirt\", \"belt\", \"boots\", \"boots\",\n",
    "    \"boots\", \"boots\", \"jacket\", \"dress\", \"jacket\", \"socks\", \"top\", \"top\", \"shirt\", \"boots\", \"hat\", \"coat\", \"pants\",\n",
    "    \"skirt\", \"shorts\", \"jeans\", \"shorts\", \"skirt\", \"jumper\", \"hat\", \"leggings\", \"cap\", \"coat\", \"shirt\", \"coat\", \n",
    "    \"shorts\", \"jumper\", \"boots\", \"boots\", \"jumper\", \"jacket\", \"crop top\", \"belt\", \"belt\", \"jumper\", \"coat\", \"boots\",\n",
    "    \"boots\", \"coat\", \"shirt\", \"dress\", \"jacket\", \"hat\", \"belt\", \"crop\", \"jumper\", \"coat\", \"boots\", \"boots\", \"belt\",\n",
    "    \"dress\", \"sweater\", \"boots\", \"hat\", \"belt\", \"top\", \"top\", \"belt\", \"shirt\", \"boots\", \"belt\", \"belt\", \"belt\",\n",
    "    \"pants\", \"dress\", \"shirt\", \"coat\", \"coat\", \"shirt\", \"dress\", \"jacket\", \"socks\", \"hat\", \"hat\", \"belt\",\n",
    "    \"coat\", \"jacket\", \"jacket\", \"dress\", \"jacket\", \"socks\", \"top\", \"crop top\", \"shirt\", \"belt\", \"boots\", \"boots\",\n",
    "    \"boots\", \"boots\", \"jacket\", \"dress\", \"jacket\", \"socks\", \"top\", \"top\", \"shirt\", \"boots\", \"hat\", \"coat\", \"pants\",\n",
    "    \"skirt\", \"shorts\", \"jeans\", \"shorts\", \"skirt\", \"jumper\", \"hat\", \"leggings\", \"cap\", \"coat\", \"shirt\", \"coat\",\n",
    "    \"shorts\", \"jumper\", \"boots\", \"boots\", \"jumper\", \"jacket\", \"crop top\", \"belt\", \"belt\", \"jumper\", \"coat\", \"boots\",\n",
    "    \"boots\", \"coat\", \"shirt\", \"dress\", \"jacket\", \"hat\", \"belt\", \"crop\", \"jumper\", \"coat\", \"boots\", \"boots\", \"belt\",\n",
    "    \"dress\", \"sweater\", \"boots\", \"hat\", \"belt\", \"top\", \"top\", \"belt\", \"shirt\", \"boots\", \"belt\", \"belt\", \"belt\",\n",
    "    \"pants\", \"dress\", \"shirt\", \"coat\", \"coat\", \"shirt\", \"dress\", \"jacket\", \"socks\", \"hat\", \"hat\", \"belt\",\n",
    "    \"coat\", \"jacket\", \"jacket\", \"dress\", \"jacket\", \"socks\", \"top\", \"crop top\", \"shirt\", \"belt\", \"boots\", \"boots\",\n",
    "    \"boots\", \"boots\", \"jacket\", \"dress\", \"jacket\", \"socks\", \"top\", \"top\", \"shirt\", \"boots\", \"hat\", \"coat\", \"pants\",\n",
    "    \"skirt\", \"shorts\", \"jeans\", \"shorts\", \"skirt\", \"jumper\", \"hat\", \"leggings\", \"cap\", \"coat\", \"shirt\", \"coat\",\n",
    "    \"shorts\", \"jumper\", \"boots\", \"boots\", \"jumper\", \"jacket\", \"crop top\", \"belt\", \"belt\", \"jumper\", \"coat\", \"boots\",\n",
    "    \"boots\", \"coat\", \"shirt\", \"dress\", \"jacket\", \"hat\", \"belt\", \"crop\", \"jumper\", \"coat\", \"boots\", \"boots\", \"belt\",\n",
    "    \"dress\", \"sweater\", \"boots\", \"hat\", \"belt\", \"top\", \"top\", \"belt\", \"shirt\", \"boots\", \"belt\", \"belt\", \"belt\",\n",
    "    \"pants\", \"dress\", \"shirt\", \"coat\", \"coat\", \"shirt\", \"dress\", \"jacket\", \"socks\", \"hat\", \"hat\", \"belt\",\n",
    "    \"coat\", \"jacket\", \"jacket\", \"dress\", \"jacket\", \"socks\", \"top\", \"crop top\", \"shirt\", \"belt\", \"boots\", \"boots\",\n",
    "    \"boots\", \"boots\", \"jacket\", \"dress\", \"jacket\", \"socks\", \"top\", \"top\", \"shirt\", \"boots\", \"hat\", \"coat\", \"pants\",\n",
    "    \"skirt\", \"shorts\", \"jeans\", \"shorts\", \"skirt\", \"jumper\", \"hat\", \"leggings\", \"cap\", \"coat\", \"shirt\", \"coat\",\n",
    "    \"shorts\", \"jumper\", \"boots\", \"boots\", \"jumper\", \"jacket\", \"crop top\", \"belt\", \"belt\", \"jumper\", \"coat\", \"boots\",\n",
    "    \"boots\", \"coat\", \"shirt\", \"dress\", \"jacket\", \"hat\", \"belt\", \"crop\", \"jumper\", \"coat\", \"boots\", \"boots\", \"belt\",\n",
    "    \"dress\", \"sweater\", \"boots\", \"hat\", \"belt\", \"top\", \"top\", \"belt\", \"shirt\", \"boots\", \"belt\", \"belt\", \"belt\",\n",
    "    \"pants\", \"dress\", \"shirt\", \"coat\", \"coat\", \"shirt\", \"dress\", \"jacket\", \"socks\", \"hat\", \"hat\", \"belt\",\n",
    "    \"coat\", \"jacket\", \"jacket\", \"dress\", \"jacket\", \"socks\", \"top\", \"crop top\", \"shirt\", \"belt\", \"boots\", \"boots\",\n",
    "    \"boots\", \"boots\", \"jacket\", \"dress\", \"jacket\", \"socks\", \"top\", \"top\", \"shirt\", \"boots\", \"hat\", \"coat\", \"pants\",\n",
    "    \"skirt\", \"shorts\", \"jeans\", \"shorts\", \"skirt\", \"jumper\", \"hat\", \"leggings\", \"cap\", \"coat\", \"shirt\", \"coat\",\n",
    "    \"shorts\", \"jumper\", \"boots\", \"boots\", \"jumper\", \"jacket\", \"crop top\", \"belt\", \"belt\", \"jumper\", \"coat\", \"boots\",\n",
    "    \"boots\", \"coat\", \"shirt\", \"dress\", \"jacket\", \"hat\", \"belt\", \"crop\", \"jumper\", \"coat\", \"boots\", \"boots\", \"belt\",\n",
    "    \"dress\", \"sweater\", \"boots\", \"hat\", \"belt\", \"top\", \"top\", \"belt\", \"shirt\", \"boots\", \"belt\", \"belt\", \"belt\",\n",
    "    \"pants\", \"dress\", \"shirt\", \"coat\", \"coat\", \"shirt\", \"dress\", \"jacket\", \"socks\", \"hat\", \"hat\", \"belt\",\n",
    "    \"coat\", \"jacket\", \"jacket\", \"dress\", \"jacket\", \"socks\", \"top\", \"crop top\", \"shirt\", \"belt\", \"boots\", \"boots\",\n",
    "    \"boots\", \"boots\", \"jacket\", \"dress\", \"jacket\", \"socks\", \"top\", \"top\", \"shirt\", \"boots\", \"hat\", \"coat\", \"pants\",\n",
    "    \"skirt\", \"shorts\", \"jeans\", \"shorts\", \"skirt\", \"jumper\", \"hat\", \"leggings\", \"cap\", \"coat\", \"shirt\", \"coat\", \n",
    "    \"shorts\", \"jumper\", \"boots\", \"boots\", \"jumper\", \"jacket\", \"crop top\", \"belt\", \"belt\", \"jumper\", \"coat\", \"boots\",\n",
    "    \"boots\", \"coat\", \"shirt\", \"dress\", \"jacket\", \"hat\", \"belt\", \"crop\", \"jumper\", \"coat\", \"boots\", \"boots\", \"belt\",\n",
    "    \"dress\", \"sweater\", \"boots\", \"hat\", \"belt\", \"top\", \"top\", \"belt\", \"shirt\", \"boots\", \"belt\", \"belt\", \"belt\",\n",
    "    \"pants\", \"dress\", \"shirt\", \"coat\", \"coat\", \"shirt\", \"dress\", \"jacket\", \"socks\", \"hat\", \"hat\", \"belt\",\n",
    "    \"coat\", \"jacket\", \"jacket\", \"dress\", \"jacket\", \"socks\", \"top\", \"crop top\", \"shirt\", \"belt\", \"boots\", \"boots\",\n",
    "    \"boots\", \"boots\", \"jacket\", \"dress\", \"jacket\", \"socks\", \"top\", \"top\", \"shirt\", \"boots\", \"hat\", \"coat\", \"pants\",\n",
    "    \"skirt\", \"shorts\", \"jeans\", \"shorts\", \"skirt\", \"jumper\", \"hat\", \"leggings\", \"cap\", \"coat\", \"shirt\", \"coat\", \n",
    "    \"shorts\", \"jumper\", \"boots\", \"boots\", \"jumper\", \"jacket\", \"crop top\", \"belt\", \"belt\", \"jumper\", \"coat\", \"boots\",\n",
    "    \"boots\", \"coat\", \"shirt\", \"dress\", \"jacket\", \"hat\", \"belt\", \"crop\", \"jumper\", \"coat\", \"boots\", \"boots\", \"belt\",\n",
    "    \"dress\", \"sweater\", \"boots\", \"hat\", \"belt\", \"top\", \"top\", \"belt\", \"shirt\", \"boots\", \"belt\", \"belt\", \"belt\",\n",
    "    \"pants\", \"dress\", \"shirt\", \"coat\", \"coat\", \"shirt\", \"dress\", \"jacket\", \"socks\", \"hat\", \"hat\", \"belt\",\n",
    "    \"coat\", \"jacket\", \"jacket\", \"dress\", \"jacket\", \"socks\", \"top\", \"crop top\", \"shirt\", \"belt\", \"boots\", \"boots\",\n",
    "    \"boots\", \"boots\", \"jacket\", \"dress\", \"jacket\", \"socks\", \"top\", \"top\", \"shirt\", \"boots\", \"hat\", \"coat\", \"pants\",\n",
    "    \"skirt\", \"shorts\", \"jeans\", \"shorts\", \"skirt\", \"jumper\", \"hat\", \"leggings\", \"cap\", \"coat\", \"shirt\", \"coat\", \n",
    "    \"shorts\", \"jumper\", \"boots\", \"boots\", \"jumper\", \"jacket\", \"crop top\", \"belt\", \"belt\", \"jumper\", \"coat\", \"boots\",\n",
    "    \"boots\", \"coat\", \"shirt\", \"dress\", \"jacket\", \"hat\", \"belt\", \"crop\", \"jumper\", \"coat\", \"boots\", \"boots\", \"belt\",\n",
    "    \"dress\", \"sweater\", \"boots\", \"hat\", \"belt\", \"top\", \"top\", \"belt\", \"shirt\", \"boots\", \"belt\", \"belt\", \"belt\",\n",
    "    \"pants\", \"dress\", \"shirt\", \"coat\", \"coat\", \"shirt\", \"dress\", \"jacket\", \"socks\", \"hat\", \"hat\", \"belt\",\n",
    "    \"coat\", \"jacket\", \"jacket\", \"dress\", \"jacket\", \"socks\", \"top\", \"crop top\", \"shirt\", \"belt\", \"boots\", \"boots\",\n",
    "    \"boots\", \"boots\", \"jacket\", \"dress\", \"jacket\", \"socks\", \"top\", \"top\", \"shirt\", \"boots\", \"hat\", \"coat\", \"pants\",\n",
    "    \"skirt\", \"shorts\", \"jeans\", \"shorts\", \"skirt\", \"jumper\", \"hat\", \"leggings\", \"cap\", \"coat\", \"shirt\", \"coat\", \n",
    "    \"shorts\", \"jumper\", \"boots\", \"boots\", \"jumper\", \"jacket\", \"crop top\", \"belt\", \"belt\", \"jumper\", \"coat\", \"boots\",\n",
    "    \"boots\", \"coat\", \"shirt\", \"dress\", \"jacket\", \"hat\", \"belt\", \"crop\", \"jumper\", \"coat\", \"boots\", \"boots\", \"belt\",\n",
    "    \"dress\", \"sweater\", \"boots\", \"hat\", \"belt\", \"top\", \"top\", \"belt\", \"shirt\", \"boots\", \"belt\", \"belt\", \"belt\",\n",
    "    \"pants\", \"dress\", \"shirt\", \"coat\", \"coat\", \"shirt\", \"dress\", \"jacket\", \"socks\", \"hat\", \"hat\", \"belt\",\n",
    "    \"coat\", \"jacket\", \"jacket\", \"dress\", \"jacket\", \"socks\", \"top\", \"crop top\", \"shirt\", \"belt\", \"boots\", \"boots\",\n",
    "    \"boots\", \"boots\", \"jacket\", \"dress\", \"jacket\", \"socks\", \"top\", \"top\", \"shirt\", \"boots\", \"hat\", \"coat\", \"pants\",\n",
    "    \"skirt\", \"shorts\", \"jeans\", \"shorts\", \"skirt\", \"jumper\", \"hat\", \"leggings\", \"cap\", \"coat\", \"shirt\", \"coat\", \n",
    "    \"shorts\", \"jumper\", \"boots\", \"boots\", \"jumper\", \"jacket\", \"crop top\", \"belt\", \"belt\", \"jumper\", \"coat\", \"boots\",\n",
    "    \"boots\", \"coat\", \"shirt\", \"dress\", \"jacket\", \"hat\", \"belt\", \"crop\", \"jumper\", \"coat\", \"boots\", \"boots\", \"belt\",\n",
    "    \"dress\", \"sweater\", \"boots\", \"hat\", \"belt\", \"top\", \"top\", \"belt\", \"shirt\", \"boots\", \"belt\", \"belt\", \"belt\",\n",
    "    \"pants\", \"dress\", \"shirt\", \"coat\", \"coat\", \"shirt\", \"dress\", \"jacket\", \"socks\", \"hat\", \"hat\", \"belt\",\n",
    "    \"coat\", \"jacket\", \"jacket\", \"dress\", \"jacket\", \"socks\", \"top\", \"crop top\", \"shirt\", \"belt\", \"boots\", \"boots\",\n",
    "    \"boots\", \"boots\", \"jacket\", \"dress\", \"jacket\", \"socks\", \"top\", \"top\", \"shirt\", \"boots\", \"hat\", \"coat\", \"pants\",\n",
    "    \"skirt\", \"shorts\", \"jeans\", \"shorts\", \"skirt\", \"jumper\", \"hat\", \"leggings\", \"cap\", \"coat\", \"shirt\", \"coat\", \n",
    "    \"shorts\", \"jumper\", \"boots\", \"boots\", \"jumper\", \"jacket\", \"crop top\", \"belt\", \"belt\", \"jumper\", \"coat\", \"boots\",\n",
    "    \"boots\", \"coat\", \"shirt\", \"dress\", \"jacket\", \"hat\", \"belt\", \"crop\", \"jumper\", \"coat\", \"boots\", \"boots\", \"belt\",\n",
    "    \"dress\", \"sweater\", \"boots\", \"hat\", \"belt\", \"top\", \"top\", \"belt\", \"shirt\", \"boots\", \"belt\", \"belt\", \"belt\",\n",
    "    \"pants\", \"dress\", \"shirt\", \"coat\", \"coat\", \"shirt\", \"dress\", \"jacket\", \"socks\", \"hat\", \"hat\", \"belt\",\n",
    "    \"coat\", \"jacket\", \"jacket\", \"dress\", \"jacket\", \"socks\", \"top\", \"crop top\", \"shirt\", \"belt\", \"boots\", \"boots\",\n",
    "    \"boots\", \"boots\", \"jacket\", \"dress\", \"jacket\", \"socks\", \"top\", \"top\", \"shirt\", \"boots\", \"hat\", \"coat\", \"pants\",\n",
    "    \"skirt\", \"shorts\", \"jeans\", \"shorts\", \"skirt\", \"jumper\", \"hat\", \"leggings\", \"cap\", \"coat\", \"shirt\", \"coat\", \n",
    "    \"shorts\", \"jumper\", \"boots\", \"boots\", \"jumper\", \"jacket\", \"crop top\", \"belt\", \"belt\", \"jumper\", \"coat\", \"boots\",\n",
    "    \"boots\", \"coat\", \"shirt\", \"dress\", \"jacket\", \"hat\", \"belt\", \"crop\", \"jumper\", \"coat\", \"boots\", \"boots\", \"belt\",\n",
    "    \"dress\", \"sweater\", \"boots\", \"hat\", \"belt\", \"top\", \"top\", \"belt\", \"shirt\", \"boots\", \"belt\", \"belt\", \"belt\",\n",
    "    \"pants\", \"dress\", \"shirt\", \"coat\", \"coat\", \"shirt\", \"dress\", \"jacket\", \"socks\", \"hat\", \"hat\", \"belt\",\n",
    "    \"coat\", \"jacket\", \"jacket\", \"dress\", \"jacket\", \"socks\", \"top\", \"crop top\", \"shirt\", \"belt\", \"boots\", \"boots\",\n",
    "    \"boots\", \"boots\", \"jacket\", \"dress\", \"jacket\", \"socks\", \"top\", \"top\", \"shirt\", \"boots\", \"hat\", \"coat\", \"pants\",\n",
    "    \"skirt\", \"shorts\", \"jeans\", \"shorts\", \"skirt\", \"jumper\", \"hat\", \"leggings\", \"cap\", \"coat\", \"shirt\", \"coat\", \n",
    "    \"shorts\", \"jumper\", \"boots\", \"boots\", \"jumper\", \"jacket\", \"crop top\", \"belt\", \"belt\", \"jumper\", \"coat\", \"boots\",\n",
    "    \"boots\", \"coat\", \"shirt\", \"dress\", \"jacket\", \"hat\", \"belt\", \"crop\", \"jumper\", \"coat\", \"boots\", \"boots\", \"belt\",\n",
    "    \"dress\", \"sweater\", \"boots\", \"hat\", \"belt\", \"top\", \"top\", \"belt\", \"shirt\", \"boots\", \"belt\", \"belt\", \"belt\",\n",
    "    \"pants\", \"dress\", \"shirt\", \"coat\", \"coat\", \"shirt\", \"dress\", \"jacket\", \"socks\", \"hat\", \"hat\", \"belt\",\n",
    "    \"coat\", \"jacket\", \"jacket\", \"dress\", \"jacket\", \"socks\", \"top\", \"crop top\", \"shirt\", \"belt\", \"boots\", \"boots\",\n",
    "    \"boots\", \"boots\", \"jacket\", \"dress\", \"jacket\", \"socks\", \"top\", \"top\", \"shirt\", \"boots\", \"hat\", \"coat\", \"pants\",\n",
    "    \"skirt\", \"shorts\", \"jeans\", \"shorts\", \"skirt\", \"jumper\", \"hat\", \"leggings\", \"cap\", \"coat\", \"shirt\", \"coat\", \n",
    "    \"shorts\", \"jumper\", \"boots\", \"boots\", \"jumper\", \"jacket\", \"crop top\", \"belt\", \"belt\", \"jumper\", \"coat\", \"boots\",\n",
    "    \"boots\", \"coat\", \"shirt\", \"dress\", \"jacket\", \"hat\", \"belt\", \"crop\", \"jumper\", \"coat\", \"boots\", \"boots\", \"belt\",\n",
    "    \"dress\", \"sweater\", \"boots\", \"hat\", \"belt\", \"top\", \"top\", \"belt\", \"shirt\", \"boots\", \"belt\", \"belt\", \"belt\",\n",
    "    \"pants\", \"dress\", \"shirt\", \"coat\", \"coat\", \"shirt\", \"dress\", \"jacket\", \"socks\", \"hat\", \"hat\", \"belt\",\n",
    "    \"coat\", \"jacket\", \"jacket\", \"dress\", \"jacket\", \"socks\", \"top\", \"crop top\", \"shirt\", \"belt\", \"boots\", \"boots\",\n",
    "    \"boots\", \"boots\", \"jacket\", \"dress\", \"jacket\", \"socks\", \"top\", \"top\", \"shirt\", \"boots\", \"hat\", \"coat\", \"pants\",\n",
    "    \"skirt\", \"shorts\", \"jeans\", \"shorts\", \"skirt\", \"jumper\", \"hat\", \"leggings\", \"cap\", \"coat\", \"shirt\", \"coat\", \n",
    "    \"shorts\", \"jumper\", \"boots\", \"boots\", \"jumper\", \"jacket\", \"crop top\", \"belt\", \"belt\", \"jumper\", \"coat\", \"boots\",\n",
    "    \"boots\", \"coat\", \"shirt\", \"dress\", \"jacket\", \"hat\", \"belt\", \"crop\", \"jumper\", \"coat\", \"boots\", \"boots\", \"belt\",\n",
    "    \"dress\", \"sweater\", \"boots\", \"hat\", \"belt\", \"top\", \"top\", \"belt\", \"shirt\", \"boots\", \"belt\", \"belt\", \"belt\",\n",
    "    \"pants\", \"dress\", \"shirt\", \"coat\", \"coat\", \"shirt\", \"dress\", \"jacket\", \"socks\", \"hat\", \"hat\", \"belt\",\n",
    "    \"coat\", \"jacket\", \"jacket\", \"dress\", \"jacket\", \"socks\", \"top\", \"crop top\", \"shirt\", \"belt\", \"boots\", \"boots\",\n",
    "    \"boots\", \"boots\", \"jacket\", \"dress\", \"jacket\", \"socks\", \"top\", \"top\", \"shirt\", \"boots\", \"hat\", \"coat\", \"pants\",\n",
    "    \"skirt\", \"shorts\", \"jeans\", \"shorts\", \"skirt\", \"jumper\", \"hat\", \"leggings\", \"cap\", \"coat\", \"shirt\", \"coat\", \n",
    "    \"shorts\", \"jumper\", \"boots\", \"boots\", \"jumper\", \"jacket\", \"crop top\", \"belt\", \"belt\", \"jumper\", \"coat\", \"boots\",\n",
    "    \"boots\", \"coat\", \"shirt\", \"dress\", \"jacket\", \"hat\", \"belt\", \"crop\", \"jumper\", \"coat\", \"boots\", \"boots\", \"belt\",\n",
    "    \"dress\", \"sweater\", \"boots\", \"hat\", \"belt\", \"top\", \"top\", \"belt\", \"shirt\", \"boots\", \"belt\", \"belt\", \"belt\",\n",
    "    \"pants\", \"dress\", \"shirt\", \"coat\", \"coat\", \"shirt\", \"dress\", \"jacket\", \"socks\", \"hat\", \"hat\", \"belt\",\n",
    "    \"coat\", \"jacket\", \"jacket\", \"dress\", \"jacket\", \"socks\", \"top\", \"crop top\", \"shirt\", \"belt\", \"boots\", \"boots\",\n",
    "    \"boots\", \"boots\", \"jacket\", \"dress\", \"jacket\", \"socks\", \"top\", \"top\", \"shirt\", \"boots\", \"hat\", \"coat\", \"pants\",\n",
    "    \"skirt\", \"shorts\", \"jeans\", \"shorts\", \"skirt\", \"jumper\", \"hat\", \"leggings\", \"cap\", \"coat\", \"shirt\", \"coat\", \n",
    "    \"shorts\", \"jumper\", \"boots\", \"boots\", \"jumper\", \"jacket\", \"crop top\", \"belt\", \"belt\", \"jumper\", \"coat\", \"boots\",\n",
    "    \"boots\", \"coat\", \"shirt\", \"dress\", \"jacket\", \"hat\", \"belt\", \"crop\", \"jumper\", \"coat\", \"boots\", \"boots\", \"belt\",\n",
    "    \"dress\", \"sweater\", \"boots\", \"hat\", \"belt\", \"top\", \"top\", \"belt\", \"shirt\", \"boots\", \"belt\", \"belt\", \"belt\",\n",
    "    \"pants\", \"dress\", \"shirt\", \"coat\", \"coat\", \"shirt\", \"dress\", \"jacket\", \"socks\", \"hat\", \"hat\", \"belt\",\n",
    "    \"coat\", \"jacket\", \"jacket\", \"dress\", \"jacket\", \"socks\", \"top\", \"crop top\", \"shirt\", \"belt\", \"boots\", \"boots\",\n",
    "    \"boots\", \"boots\", \"jacket\", \"dress\", \"jacket\", \"socks\", \"top\", \"top\", \"shirt\", \"boots\", \"hat\", \"coat\", \"pants\",\n",
    "    \"skirt\", \"shorts\", \"jeans\", \"shorts\", \"skirt\", \"jumper\", \"hat\", \"leggings\", \"cap\", \"coat\", \"shirt\", \"coat\", \n",
    "    \"shorts\", \"jumper\", \"boots\", \"boots\", \"jumper\", \"jacket\", \"crop top\", \"belt\", \"belt\", \"jumper\", \"coat\", \"boots\",\n",
    "    \"boots\", \"coat\", \"shirt\", \"dress\", \"jacket\", \"hat\", \"belt\", \"crop\", \"jumper\", \"coat\", \"boots\", \"boots\", \"belt\",\n",
    "    \"dress\", \"sweater\", \"boots\", \"hat\", \"belt\", \"top\", \"top\", \"belt\", \"shirt\", \"boots\", \"belt\", \"belt\", \"belt\",\n",
    "    \"pants\", \"dress\", \"shirt\", \"coat\", \"coat\", \"shirt\", \"dress\", \"jacket\", \"socks\", \"hat\", \"hat\", \"belt\",\n",
    "    \"coat\", \"jacket\", \"jacket\", \"dress\", \"jacket\", \"socks\", \"top\", \"crop top\", \"shirt\", \"belt\", \"boots\", \"boots\",\n",
    "    \"boots\", \"boots\", \"jacket\", \"dress\", \"jacket\", \"socks\", \"top\", \"top\", \"shirt\", \"boots\", \"hat\", \"coat\", \"pants\",\n",
    "    \"skirt\", \"shorts\", \"jeans\", \"shorts\", \"skirt\", \"jumper\", \"hat\", \"leggings\", \"cap\", \"coat\", \"shirt\", \"coat\", \n",
    "    \"shorts\", \"jumper\", \"boots\", \"boots\", \"jumper\", \"jacket\", \"crop top\", \"belt\", \"belt\", \"jumper\", \"coat\", \"boots\",\n",
    "    \"boots\", \"coat\", \"shirt\", \"dress\", \"jacket\", \"hat\", \"belt\", \"crop\", \"jumper\", \"coat\", \"boots\", \"boots\", \"belt\",\n",
    "    \"dress\", \"sweater\", \"boots\", \"hat\", \"belt\", \"top\", \"top\", \"belt\", \"shirt\", \"boots\", \"belt\", \"belt\", \"belt\",\n",
    "    \"pants\", \"dress\", \"shirt\", \"coat\", \"coat\", \"shirt\", \"dress\", \"jacket\", \"socks\", \"hat\", \"hat\", \"belt\",\n",
    "    \"coat\", \"jacket\", \"jacket\", \"dress\", \"jacket\", \"socks\", \"top\", \"crop top\", \"shirt\", \"belt\", \"boots\", \"boots\",\n",
    "    \"boots\", \"boots\", \"jacket\", \"dress\", \"jacket\", \"socks\", \"top\", \"top\", \"shirt\", \"boots\", \"hat\", \"coat\", \"pants\",\n",
    "    \"skirt\", \"shorts\", \"jeans\", \"shorts\", \"skirt\", \"jumper\", \"hat\", \"leggings\", \"cap\", \"coat\", \"shirt\", \"coat\", \n",
    "    \"shorts\", \"jumper\", \"boots\", \"boots\", \"jumper\", \"jacket\", \"crop top\", \"belt\", \"belt\", \"jumper\", \"coat\", \"boots\",\n",
    "    \"boots\", \"coat\", \"shirt\", \"dress\", \"jacket\", \"hat\", \"belt\", \"crop\", \"jumper\", \"coat\", \"boots\", \"boots\", \"belt\",\n",
    "    \"dress\", \"sweater\", \"boots\", \"hat\", \"belt\", \"top\", \"top\", \"belt\", \"shirt\", \"boots\", \"belt\", \"belt\", \"belt\",\n",
    "    \"pants\", \"dress\", \"shirt\", \"coat\", \"coat\", \"shirt\", \"dress\", \"jacket\", \"socks\", \"hat\", \"hat\", \"belt\",\n",
    "    \"coat\", \"jacket\", \"jacket\", \"dress\", \"jacket\", \"socks\", \"top\", \"crop top\", \"shirt\", \"belt\", \"boots\", \"boots\",\n",
    "    \"boots\", \"boots\", \"jacket\", \"dress\", \"jacket\", \"socks\", \"top\", \"top\", \"shirt\", \"boots\", \"hat\", \"coat\", \"pants\",\n",
    "    \"skirt\", \"shorts\", \"jeans\", \"shorts\", \"skirt\", \"jumper\", \"hat\", \"leggings\", \"cap\", \"coat\", \"shirt\", \"coat\", \n",
    "    \"shorts\", \"jumper\", \"boots\", \"boots\", \"jumper\", \"jacket\", \"crop top\", \"belt\", \"belt\", \"jumper\", \"coat\", \"boots\",\n",
    "    \"boots\", \"coat\", \"shirt\", \"dress\", \"jacket\", \"hat\", \"belt\", \"crop\", \"jumper\", \"coat\", \"boots\", \"boots\", \"belt\",\n",
    "    \"dress\", \"sweater\", \"boots\", \"hat\", \"belt\", \"top\", \"top\", \"belt\", \"shirt\", \"boots\", \"belt\", \"belt\", \"belt\",\n",
    "    \"pants\", \"dress\", \"shirt\", \"coat\", \"coat\", \"shirt\", \"dress\", \"jacket\", \"socks\", \"hat\", \"hat\", \"belt\",\n",
    "    \"coat\", \"jacket\", \"jacket\", \"dress\", \"jacket\", \"socks\", \"top\", \"crop top\", \"shirt\", \"belt\", \"boots\", \"boots\",\n",
    "    \"boots\", \"boots\", \"jacket\", \"dress\", \"jacket\", \"socks\", \"top\", \"top\", \"shirt\", \"boots\", \"hat\", \"coat\", \"pants\",\n",
    "    \"skirt\", \"shorts\", \"jeans\", \"shorts\", \"skirt\", \"jumper\", \"hat\", \"leggings\", \"cap\", \"coat\", \"shirt\", \"coat\", \n",
    "    \"shorts\", \"jumper\", \"boots\", \"boots\", \"jumper\", \"jacket\", \"crop top\", \"belt\", \"belt\", \"jumper\", \"coat\", \"boots\",\n",
    "    \"boots\", \"coat\", \"shirt\", \"dress\", \"jacket\", \"hat\", \"belt\", \"crop\", \"jumper\", \"coat\", \"boots\", \"boots\", \"belt\",\n",
    "    \"dress\", \"sweater\", \"boots\", \"hat\", \"belt\", \"top\", \"top\", \"belt\", \"shirt\", \"boots\", \"belt\", \"belt\", \"belt\",\n",
    "    \"pants\", \"dress\", \"shirt\", \"coat\", \"coat\", \"shirt\", \"dress\", \"jacket\", \"socks\", \"hat\", \"hat\", \"belt\",\n",
    "    \"coat\", \"jacket\", \"jacket\", \"dress\", \"jacket\", \"socks\", \"top\", \"crop top\", \"shirt\", \"belt\", \"boots\", \"boots\",\n",
    "    \"boots\", \"boots\", \"jacket\", \"dress\", \"jacket\", \"socks\", \"top\", \"top\", \"shirt\", \"boots\", \"hat\", \"coat\", \"pants\",\n",
    "    \"skirt\", \"shorts\", \"jeans\", \"shorts\", \"skirt\", \"jumper\", \"hat\", \"leggings\", \"cap\", \"coat\", \"shirt\", \"coat\", \n",
    "    \"shorts\", \"jumper\", \"boots\", \"boots\", \"jumper\", \"jacket\", \"crop top\", \"belt\", \"belt\", \"jumper\", \"coat\", \"boots\",\n",
    "    \"boots\", \"coat\", \"shirt\", \"dress\", \"jacket\", \"hat\", \"belt\", \"crop\", \"jumper\", \"coat\", \"boots\", \"boots\", \"belt\",\n",
    "    \"dress\", \"sweater\", \"boots\", \"hat\", \"belt\", \"top\", \"top\", \"belt\", \"shirt\", \"boots\", \"belt\", \"belt\", \"belt\",\n",
    "    \"pants\", \"dress\", \"shirt\", \"coat\", \"coat\", \"shirt\", \"dress\", \"jacket\", \"socks\", \"hat\", \"hat\", \"belt\",\n",
    "    \"coat\", \"jacket\", \"jacket\", \"dress\", \"jacket\", \"socks\", \"top\", \"crop top\", \"shirt\", \"belt\", \"boots\", \"boots\",\n",
    "    \"boots\", \"boots\", \"jacket\", \"dress\", \"jacket\", \"socks\", \"top\", \"top\", \"shirt\", \"boots\", \"hat\", \"coat\", \"pants\",\n",
    "    \"skirt\", \"shorts\", \"jeans\", \"shorts\", \"skirt\", \"jumper\", \"hat\", \"leggings\", \"cap\", \"coat\", \"shirt\", \"coat\", \n",
    "    \"shorts\", \"jumper\", \"boots\", \"boots\", \"jumper\", \"jacket\", \"crop top\", \"belt\", \"belt\", \"jumper\", \"coat\", \"boots\",\n",
    "    \"boots\", \"coat\", \"shirt\", \"dress\", \"jacket\", \"hat\", \"belt\", \"crop\", \"jumper\", \"coat\", \"boots\", \"boots\", \"belt\",\n",
    "    \"dress\", \"sweater\", \"boots\", \"hat\", \"belt\", \"top\", \"top\", \"belt\", \"shirt\", \"boots\", \"belt\", \"belt\", \"belt\",\n",
    "    \"pants\", \"dress\", \"shirt\", \"coat\", \"coat\", \"shirt\", \"dress\", \"jacket\", \"socks\", \"hat\", \"hat\", \"belt\",\n",
    "    \"coat\", \"jacket\", \"jacket\", \"dress\", \"jacket\", \"socks\", \"top\", \"crop top\", \"shirt\", \"belt\", \"boots\", \"boots\",\n",
    "    \"boots\", \"boots\", \"jacket\", \"dress\", \"jacket\", \"socks\", \"top\", \"top\", \"shirt\", \"boots\", \"hat\", \"coat\", \"pants\",\n",
    "    \"skirt\", \"shorts\", \"jeans\", \"shorts\", \"skirt\", \"jumper\", \"hat\", \"leggings\", \"cap\", \"coat\", \"shirt\", \"coat\", \n",
    "    \"shorts\", \"jumper\", \"boots\", \"boots\", \"jumper\", \"jacket\", \"crop top\", \"belt\", \"belt\", \"jumper\", \"coat\", \"boots\",\n",
    "    \"boots\", \"coat\", \"shirt\", \"dress\", \"jacket\", \"hat\", \"belt\", \"crop\", \"jumper\", \"coat\", \"boots\", \"boots\", \"belt\",\n",
    "    \"dress\", \"sweater\", \"boots\", \"hat\", \"belt\", \"top\", \"top\", \"belt\", \"shirt\", \"boots\", \"belt\", \"belt\", \"belt\",\n",
    "    \"pants\", \"dress\", \"shirt\", \"coat\", \"coat\", \"shirt\", \"dress\", \"jacket\", \"socks\", \"hat\", \"hat\", \"belt\",\n",
    "    \"coat\", \"jacket\", \"jacket\", \"dress\", \"jacket\", \"socks\", \"top\", \"crop top\", \"shirt\", \"belt\", \"boots\", \"boots\",\n",
    "    \"boots\", \"boots\", \"jacket\", \"dress\", \"jacket\", \"socks\", \"top\", \"top\", \"shirt\", \"boots\", \"hat\", \"coat\", \"pants\",\n",
    "    \"skirt\", \"shorts\", \"jeans\", \"shorts\", \"skirt\", \"jumper\", \"hat\", \"leggings\", \"cap\", \"coat\", \"shirt\", \"coat\", \n",
    "    \"shorts\", \"jumper\", \"boots\", \"boots\", \"jumper\", \"jacket\", \"crop top\", \"belt\", \"belt\", \"jumper\", \"coat\", \"boots\",\n",
    "    \"boots\", \"coat\", \"shirt\", \"dress\", \"jacket\", \"hat\", \"belt\", \"crop\", \"jumper\", \"coat\", \"boots\", \"boots\", \"belt\",\n",
    "    \"dress\", \"sweater\", \"boots\", \"hat\", \"belt\", \"top\", \"top\", \"belt\", \"shirt\", \"boots\", \"belt\", \"belt\", \"belt\",\n",
    "    \"pants\", \"dress\", \"shirt\", \"coat\", \"coat\", \"shirt\", \"dress\", \"jacket\", \"socks\", \"hat\", \"hat\", \"belt\",\n",
    "    \"coat\", \"jacket\", \"jacket\", \"dress\", \"jacket\", \"socks\", \"top\", \"crop top\", \"shirt\", \"belt\", \"boots\", \"boots\",\n",
    "    \"boots\", \"boots\", \"jacket\", \"dress\", \"jacket\", \"socks\", \"top\", \"top\", \"shirt\", \"boots\", \"hat\", \"coat\", \"pants\",\n",
    "    \"skirt\", \"shorts\", \"jeans\", \"shorts\", \"skirt\", \"jumper\", \"hat\", \"leggings\", \"cap\", \"coat\", \"shirt\", \"coat\", \n",
    "    \"shorts\", \"jumper\", \"boots\", \"boots\", \"jumper\", \"jacket\", \"crop top\", \"belt\", \"belt\", \"jumper\", \"coat\", \"boots\",\n",
    "    \"boots\", \"coat\", \"shirt\", \"dress\", \"jacket\", \"hat\", \"belt\", \"crop\", \"jumper\", \"coat\", \"boots\", \"boots\", \"belt\",\n",
    "    \"dress\", \"sweater\", \"boots\", \"hat\", \"belt\", \"top\", \"top\", \"belt\", \"shirt\", \"boots\", \"belt\", \"belt\", \"belt\",\n",
    "    \"pants\", \"dress\", \"shirt\", \"coat\", \"coat\", \"shirt\", \"dress\", \"jacket\", \"socks\", \"hat\", \"hat\", \"belt\",\n",
    "    \"coat\", \"jacket\", \"jacket\", \"dress\", \"jacket\", \"socks\", \"top\", \"crop top\", \"shirt\", \"belt\", \"boots\", \"boots\",\n",
    "    \"boots\", \"boots\", \"jacket\", \"dress\", \"jacket\", \"socks\", \"top\", \"top\", \"shirt\", \"boots\", \"hat\", \"coat\", \"pants\",\n",
    "    \"skirt\", \"shorts\", \"jeans\", \"shorts\", \"skirt\", \"jumper\", \"hat\", \"leggings\", \"cap\", \"coat\", \"shirt\", \"coat\", \n",
    "    \"shorts\", \"jumper\", \"boots\", \"boots\", \"jumper\", \"jacket\", \"crop top\", \"belt\", \"belt\", \"jumper\", \"coat\", \"boots\",\n",
    "    \"boots\", \"coat\", \"shirt\", \"dress\", \"jacket\", \"hat\", \"belt\", \"crop\", \"jumper\", \"coat\", \"boots\", \"boots\", \"belt\",\n",
    "    \"dress\", \"sweater\", \"boots\", \"hat\", \"belt\", \"top\", \"top\", \"belt\", \"shirt\", \"boots\", \"belt\", \"belt\", \"belt\",\n",
    "    \"pants\", \"dress\", \"shirt\", \"coat\", \"coat\", \"shirt\", \"dress\", \"jacket\", \"socks\", \"hat\", \"hat\", \"belt\",\n",
    "    \"coat\", \"jacket\", \"jacket\", \"dress\", \"jacket\", \"socks\", \"top\", \"crop top\", \"shirt\", \"belt\", \"boots\", \"boots\",\n",
    "    \"boots\", \"boots\", \"jacket\", \"dress\", \"jacket\", \"socks\", \"top\", \"top\", \"shirt\", \"boots\", \"hat\", \"coat\", \"pants\",\n",
    "    \"skirt\", \"shorts\", \"jeans\", \"shorts\", \"skirt\", \"jumper\", \"hat\", \"leggings\", \"cap\", \"coat\", \"shirt\", \"coat\", \n",
    "    \"shorts\", \"jumper\", \"boots\", \"boots\", \"jumper\", \"jacket\", \"crop top\", \"belt\", \"belt\", \"jumper\", \"coat\", \"boots\",\n",
    "    \"boots\", \"coat\", \"shirt\", \"dress\", \"jacket\", \"hat\", \"belt\", \"crop\", \"jumper\", \"coat\", \"boots\", \"boots\", \"belt\",\n",
    "    \"dress\", \"sweater\", \"boots\", \"hat\", \"belt\", \"top\", \"top\", \"belt\", \"shirt\", \"boots\", \"belt\", \"belt\", \"belt\",\n",
    "    \"pants\", \"dress\", \"shirt\", \"coat\", \"coat\", \"shirt\", \"dress\", \"jacket\", \"socks\", \"hat\", \"hat\", \"belt\",\n",
    "    \"coat\", \"jacket\", \"jacket\", \"dress\", \"jacket\", \"socks\", \"top\", \"crop top\", \"shirt\", \"belt\", \"boots\", \"boots\",\n",
    "    \"boots\", \"boots\", \"jacket\", \"dress\", \"jacket\", \"socks\", \"top\", \"top\", \"shirt\", \"boots\", \"hat\", \"coat\", \"pants\",\n",
    "    \"skirt\", \"shorts\", \"jeans\", \"shorts\", \"skirt\", \"jumper\", \"hat\", \"leggings\", \"cap\", \"coat\", \"shirt\", \"coat\", \n",
    "    \"shorts\", \"jumper\", \"boots\", \"boots\", \"jumper\", \"jacket\", \"crop top\", \"belt\", \"belt\", \"jumper\", \"coat\", \"boots\",\n",
    "    \"boots\", \"coat\", \"shirt\", \"dress\", \"jacket\", \"hat\", \"belt\", \"crop\", \"jumper\", \"coat\", \"boots\", \"boots\", \"belt\",\n",
    "    \"dress\", \"sweater\", \"boots\", \"hat\", \"belt\", \"top\", \"top\", \"belt\", \"shirt\", \"boots\", \"belt\", \"belt\", \"belt\",\n",
    "    \"pants\", \"dress\", \"shirt\", \"coat\", \"coat\", \"shirt\", \"dress\", \"jacket\", \"socks\", \"hat\", \"hat\", \"belt\",\n",
    "    \"coat\", \"jacket\", \"jacket\", \"dress\", \"jacket\", \"socks\", \"top\", \"crop top\", \"shirt\", \"belt\", \"boots\", \"boots\",\n",
    "    \"boots\", \"boots\", \"jacket\", \"dress\", \"jacket\", \"socks\", \"top\", \"top\", \"shirt\", \"boots\", \"hat\", \"coat\", \"pants\",\n",
    "    \"skirt\", \"shorts\", \"jeans\", \"shorts\", \"skirt\", \"jumper\", \"hat\", \"leggings\", \"cap\", \"coat\", \"shirt\", \"coat\", \n",
    "    \"shorts\", \"jumper\", \"boots\", \"boots\", \"jumper\", \"jacket\", \"crop top\", \"belt\", \"belt\", \"jumper\", \"coat\", \"boots\",\n",
    "    \"boots\", \"coat\", \"shirt\", \"dress\", \"jacket\", \"hat\", \"belt\", \"crop\", \"jumper\", \"coat\", \"boots\", \"boots\", \"belt\",\n",
    "    \"dress\", \"sweater\", \"boots\", \"hat\", \"belt\", \"top\", \"top\", \"belt\", \"shirt\", \"boots\", \"belt\", \"belt\", \"belt\",\n",
    "    \"pants\", \"dress\", \"shirt\", \"coat\", \"coat\", \"shirt\", \"dress\", \"jacket\", \"socks\", \"hat\", \"hat\", \"belt\",\n",
    "    \"coat\", \"jacket\", \"jacket\", \"dress\", \"jacket\", \"socks\", \"top\", \"crop top\", \"shirt\", \"belt\", \"boots\", \"boots\",\n",
    "    \"boots\", \"boots\", \"jacket\", \"dress\", \"jacket\", \"socks\", \"top\", \"top\", \"shirt\", \"boots\", \"hat\", \"coat\", \"pants\",\n",
    "    \"skirt\", \"shorts\", \"jeans\", \"shorts\", \"skirt\", \"jumper\", \"hat\", \"leggings\", \"cap\", \"coat\", \"shirt\", \"coat\", \n",
    "    \"shorts\", \"jumper\", \"boots\", \"boots\", \"jumper\", \"jacket\", \"crop top\", \"belt\", \"belt\", \"jumper\", \"coat\", \"boots\",\n",
    "    \"boots\", \"coat\", \"shirt\", \"dress\", \"jacket\", \"hat\", \"belt\", \"crop\", \"jumper\", \"coat\", \"boots\", \"boots\", \"belt\",\n",
    "    \"dress\", \"sweater\", \"boots\", \"hat\", \"belt\", \"top\", \"top\", \"belt\", \"shirt\", \"boots\", \"belt\", \"belt\", \"belt\",\n",
    "    \"pants\", \"dress\", \"shirt\", \"coat\", \"coat\", \"shirt\", \"dress\", \"jacket\", \"socks\", \"hat\", \"hat\", \"belt\",\n",
    "    \"coat\", \"jacket\", \"jacket\", \"dress\", \"jacket\", \"socks\", \"top\", \"crop top\", \"shirt\", \"belt\", \"boots\", \"boots\",\n",
    "    \"boots\", \"boots\", \"jacket\", \"dress\", \"jacket\", \"socks\", \"top\", \"top\", \"shirt\", \"boots\", \"hat\", \"coat\", \"pants\",\n",
    "    \"skirt\", \"shorts\", \"jeans\", \"shorts\", \"skirt\", \"jumper\", \"hat\", \"leggings\", \"cap\", \"coat\", \"shirt\", \"coat\", \n",
    "    \"shorts\", \"jumper\", \"boots\", \"boots\", \"jumper\", \"jacket\", \"crop top\", \"belt\", \"belt\", \"jumper\", \"coat\", \"boots\",\n",
    "    \"boots\", \"coat\", \"shirt\", \"dress\", \"jacket\", \"hat\", \"belt\", \"crop\", \"jumper\", \"coat\", \"boots\", \"boots\", \"belt\",\n",
    "    \"dress\", \"sweater\", \"boots\", \"hat\", \"belt\", \"top\", \"top\", \"belt\", \"shirt\", \"boots\", \"belt\", \"belt\", \"belt\",\n",
    "    \"pants\", \"dress\", \"shirt\", \"coat\", \"coat\", \"shirt\", \"dress\", \"jacket\", \"socks\", \"hat\", \"hat\", \"belt\",\n",
    "    \"coat\", \"jacket\", \"jacket\", \"dress\", \"jacket\", \"socks\", \"top\", \"crop top\", \"shirt\", \"belt\", \"boots\", \"boots\",\n",
    "    \"boots\", \"boots\", \"jacket\", \"dress\", \"jacket\", \"socks\", \"top\", \"top\", \"shirt\", \"boots\", \"hat\", \"coat\", \"pants\",\n",
    "    \"skirt\", \"shorts\", \"jeans\", \"shorts\", \"skirt\", \"jumper\", \"hat\", \"leggings\", \"cap\", \"coat\", \"shirt\", \"coat\", \n",
    "    \"shorts\", \"jumper\", \"boots\", \"boots\", \"jumper\", \"jacket\", \"crop top\", \"belt\", \"belt\", \"jumper\", \"coat\", \"boots\",\n",
    "    \"boots\", \"coat\", \"shirt\", \"dress\", \"jacket\", \"hat\", \"belt\", \"crop\", \"jumper\", \"coat\", \"boots\", \"boots\", \"belt\",\n",
    "    \"dress\", \"sweater\", \"boots\", \"hat\", \"belt\", \"top\", \"top\", \"belt\", \"shirt\", \"boots\", \"belt\", \"belt\", \"belt\",\n",
    "    \"pants\", \"dress\", \"shirt\", \"coat\", \"coat\", \"shirt\", \"dress\", \"jacket\", \"socks\", \"hat\", \"hat\", \"belt\",\n",
    "    \"coat\", \"jacket\", \"jacket\", \"dress\", \"jacket\", \"socks\", \"top\", \"crop top\", \"shirt\", \"belt\", \"boots\", \"boots\",\n",
    "    \"boots\", \"boots\", \"jacket\", \"dress\", \"jacket\", \"socks\", \"top\", \"top\", \"shirt\", \"boots\", \"hat\", \"coat\", \"pants\",\n",
    "    \"skirt\", \"shorts\", \"jeans\", \"shorts\", \"skirt\", \"jumper\", \"hat\", \"leggings\", \"cap\", \"coat\", \"shirt\", \"coat\", \n",
    "    \"shorts\", \"jumper\", \"boots\", \"boots\", \"jumper\", \"jacket\", \"crop top\", \"belt\", \"belt\", \"jumper\", \"coat\", \"boots\",\n",
    "    \"boots\", \"coat\", \"shirt\", \"dress\", \"jacket\", \"hat\", \"belt\", \"crop\", \"jumper\", \"coat\", \"boots\", \"boots\", \"belt\",\n",
    "    \"dress\", \"sweater\", \"boots\", \"hat\", \"belt\", \"top\", \"top\", \"belt\", \"shirt\", \"boots\", \"belt\", \"belt\", \"belt\",\n",
    "    \"pants\", \"dress\", \"shirt\", \"coat\", \"coat\", \"shirt\", \"dress\", \"jacket\", \"socks\", \"hat\", \"hat\", \"belt\",\n",
    "    \"coat\", \"jacket\", \"jacket\", \"dress\", \"jacket\", \"socks\", \"top\", \"crop top\", \"shirt\", \"belt\", \"boots\", \"boots\",\n",
    "    \"boots\", \"boots\", \"jacket\", \"dress\", \"jacket\", \"socks\", \"top\", \"top\", \"shirt\", \"boots\", \"hat\", \"coat\", \"pants\",\n",
    "    \"skirt\", \"shorts\", \"jeans\", \"shorts\", \"skirt\", \"jumper\", \"hat\", \"leggings\", \"cap\", \"coat\", \"shirt\", \"coat\", \n",
    "    \"shorts\", \"jumper\", \"boots\", \"boots\", \"jumper\", \"jacket\", \"crop top\", \"belt\", \"belt\", \"jumper\", \"coat\", \"boots\",\n",
    "    \"boots\", \"coat\", \"shirt\", \"dress\", \"jacket\", \"hat\", \"belt\", \"crop\", \"jumper\", \"coat\", \"boots\", \"boots\", \"belt\",\n",
    "    \"dress\", \"sweater\", \"boots\", \"hat\", \"belt\", \"top\", \"top\", \"belt\", \"shirt\", \"boots\", \"belt\", \"belt\", \"belt\",\n",
    "    \"pants\", \"dress\", \"shirt\", \"coat\", \"coat\", \"shirt\", \"dress\", \"jacket\", \"socks\", \"hat\", \"hat\", \"belt\",\n",
    "    \"coat\", \"jacket\", \"jacket\", \"dress\", \"jacket\", \"socks\", \"top\", \"crop top\", \"shirt\", \"belt\", \"boots\", \"boots\",\n",
    "    \"boots\", \"boots\", \"jacket\", \"dress\", \"jacket\", \"socks\", \"top\", \"top\", \"shirt\", \"boots\", \"hat\", \"coat\", \"pants\",\n",
    "    \"skirt\", \"shorts\", \"jeans\", \"shorts\", \"skirt\", \"jumper\", \"hat\", \"leggings\", \"cap\", \"coat\", \"shirt\", \"coat\", \n",
    "    \"shorts\", \"jumper\", \"boots\", \"boots\", \"jumper\", \"jacket\", \"crop top\", \"belt\", \"belt\", \"jumper\", \"coat\", \"boots\",\n",
    "    \"boots\", \"coat\", \"shirt\", \"dress\", \"jacket\", \"hat\", \"belt\", \"crop\", \"jumper\", \"coat\", \"boots\", \"boots\", \"belt\",\n",
    "    \"dress\", \"sweater\", \"boots\", \"hat\", \"belt\", \"top\", \"top\", \"belt\", \"shirt\", \"boots\", \"belt\", \"belt\", \"belt\",\n",
    "    \"pants\", \"dress\", \"shirt\", \"coat\", \"coat\", \"shirt\", \"dress\", \"jacket\", \"socks\", \"hat\", \"hat\", \"belt\",\n",
    "    \"coat\", \"jacket\", \"jacket\", \"dress\", \"jacket\", \"socks\", \"top\", \"crop top\", \"shirt\", \"belt\", \"boots\", \"boots\",\n",
    "    \"boots\", \"boots\", \"jacket\", \"dress\", \"jacket\", \"socks\", \"top\", \"top\", \"shirt\", \"boots\", \"hat\", \"coat\", \"pants\",\n",
    "    \"skirt\", \"shorts\", \"jeans\", \"shorts\", \"skirt\", \"jumper\", \"hat\", \"leggings\", \"cap\", \"coat\", \"shirt\", \"coat\", \n",
    "    \"shorts\", \"jumper\", \"boots\", \"boots\", \"jumper\", \"jacket\", \"crop top\", \"belt\", \"belt\", \"jumper\", \"coat\", \"boots\",\n",
    "    \"boots\", \"coat\", \"shirt\", \"dress\", \"jacket\", \"hat\", \"belt\", \"crop\", \"jumper\", \"coat\", \"boots\", \"boots\", \"belt\",\n",
    "    \"dress\", \"sweater\", \"boots\", \"hat\", \"belt\", \"top\", \"top\", \"belt\", \"shirt\", \"boots\", \"belt\", \"belt\", \"belt\",\n",
    "    \"pants\", \"dress\", \"shirt\", \"coat\", \"coat\", \"shirt\", \"dress\", \"jacket\", \"socks\", \"hat\", \"hat\", \"belt\",\n",
    "    \"coat\", \"jacket\", \"jacket\", \"dress\", \"jacket\", \"socks\", \"top\", \"crop top\", \"shirt\", \"belt\", \"boots\", \"boots\",\n",
    "    \"boots\", \"boots\", \"jacket\", \"dress\", \"jacket\", \"socks\", \"top\", \"top\", \"shirt\", \"boots\", \"hat\", \"coat\", \"pants\",\n",
    "    \"skirt\", \"shorts\", \"jeans\", \"shorts\", \"skirt\", \"jumper\", \"hat\", \"leggings\", \"cap\", \"coat\", \"shirt\", \"coat\", \n",
    "    \"shorts\", \"jumper\", \"boots\", \"boots\", \"jumper\", \"jacket\", \"crop top\", \"belt\", \"belt\", \"jumper\", \"coat\", \"boots\",\n",
    "    \"boots\", \"coat\", \"shirt\", \"dress\", \"jacket\", \"hat\", \"belt\", \"crop\", \"jumper\", \"coat\", \"boots\", \"boots\", \"belt\",\n",
    "    \"dress\", \"sweater\", \"boots\", \"hat\", \"belt\", \"top\", \"top\", \"belt\", \"shirt\", \"boots\", \"belt\", \"belt\", \"belt\",\n",
    "    \"pants\", \"dress\", \"shirt\", \"coat\", \"coat\", \"shirt\", \"dress\", \"jacket\", \"socks\", \"hat\", \"hat\", \"belt\",\n",
    "    \"coat\", \"jacket\", \"jacket\", \"dress\", \"jacket\", \"socks\", \"top\", \"crop top\", \"shirt\", \"belt\", \"boots\", \"boots\",\n",
    "    \"boots\", \"boots\", \"jacket\", \"dress\", \"jacket\", \"socks\", \"top\", \"top\", \"shirt\", \"boots\", \"hat\", \"coat\", \"pants\",\n",
    "    \"skirt\", \"shorts\", \"jeans\", \"shorts\", \"skirt\", \"jumper\", \"hat\", \"leggings\", \"cap\", \"coat\", \"shirt\", \"coat\", \n",
    "    \"shorts\", \"jumper\", \"boots\", \"boots\", \"jumper\", \"jacket\", \"crop top\", \"belt\", \"belt\", \"jumper\", \"coat\", \"boots\",\n",
    "    \"boots\", \"coat\", \"shirt\", \"dress\", \"jacket\", \"hat\", \"belt\", \"crop\", \"jumper\", \"coat\", \"boots\", \"boots\", \"belt\",\n",
    "    \"dress\", \"sweater\", \"boots\", \"hat\", \"belt\", \"top\", \"top\", \"belt\", \"shirt\", \"boots\", \"belt\", \"belt\", \"belt\",\n",
    "    \"pants\", \"dress\", \"shirt\", \"coat\", \"coat\", \"shirt\", \"dress\", \"jacket\", \"socks\", \"hat\", \"hat\", \"belt\",\n",
    "    \"coat\", \"jacket\", \"jacket\", \"dress\", \"jacket\", \"socks\", \"top\", \"crop top\", \"shirt\", \"belt\", \"boots\", \"boots\",\n",
    "    \"boots\", \"boots\", \"jacket\", \"dress\", \"jacket\", \"socks\", \"top\", \"top\", \"shirt\", \"boots\", \"hat\", \"coat\", \"pants\",\n",
    "    \"skirt\", \"shorts\", \"jeans\", \"shorts\", \"skirt\", \"jumper\", \"hat\", \"leggings\", \"cap\", \"coat\", \"shirt\", \"coat\", \n",
    "    \"shorts\", \"jumper\", \"boots\", \"boots\", \"jumper\", \"jacket\", \"crop top\", \"belt\", \"belt\", \"jumper\", \"coat\", \"boots\",\n",
    "    \"boots\", \"coat\", \"shirt\", \"dress\", \"jacket\", \"hat\", \"belt\", \"crop\", \"jumper\", \"coat\", \"boots\", \"boots\", \"belt\",\n",
    "    \"dress\", \"sweater\", \"boots\", \"hat\", \"belt\", \"top\", \"top\", \"belt\", \"shirt\", \"boots\", \"belt\", \"belt\", \"belt\",\n",
    "    \"pants\", \"dress\", \"shirt\", \"coat\", \"coat\", \"shirt\", \"dress\", \"jacket\", \"socks\", \"hat\", \"hat\", \"belt\",\n",
    "    \"coat\", \"jacket\", \"jacket\", \"dress\", \"jacket\", \"socks\", \"top\", \"crop top\", \"shirt\", \"belt\", \"boots\", \"boots\",\n",
    "    \"boots\", \"boots\", \"jacket\", \"dress\", \"jacket\", \"socks\", \"top\", \"top\", \"shirt\", \"boots\", \"hat\", \"coat\", \"pants\",\n",
    "    \"skirt\", \"shorts\", \"jeans\", \"shorts\", \"skirt\", \"jumper\", \"hat\", \"leggings\", \"cap\", \"coat\", \"shirt\", \"coat\", \n",
    "    \"shorts\", \"jumper\", \"boots\", \"boots\", \"jumper\", \"jacket\", \"crop top\", \"belt\", \"belt\", \"jumper\", \"coat\", \"boots\",\n",
    "    \"boots\", \"coat\", \"shirt\", \"dress\", \"jacket\", \"hat\", \"belt\", \"crop\", \"jumper\", \"coat\", \"boots\", \"boots\", \"belt\",\n",
    "    \"dress\", \"sweater\", \"boots\", \"hat\", \"belt\", \"top\", \"top\", \"belt\", \"shirt\"\n",
    "]"
   ]
  },
  {
   "cell_type": "code",
   "execution_count": 11,
   "id": "fe00a260",
   "metadata": {},
   "outputs": [
    {
     "name": "stdout",
     "output_type": "stream",
     "text": [
      "There 3650 items in items_sold list.\n"
     ]
    }
   ],
   "source": [
    "print(f\"There {len(items_sold)} items in items_sold list.\")"
   ]
  },
  {
   "cell_type": "code",
   "execution_count": 14,
   "id": "4eaf3a3d",
   "metadata": {},
   "outputs": [
    {
     "name": "stdout",
     "output_type": "stream",
     "text": [
      "Done!\n",
      "CPU times: total: 15.6 ms\n",
      "Wall time: 1.03 ms\n"
     ]
    }
   ],
   "source": [
    "%%time\n",
    "unique_items = []\n",
    "for item in items_sold:\n",
    "    if item not in unique_items:\n",
    "        unique_items.append(item)\n",
    "print(\"Done!\")"
   ]
  },
  {
   "cell_type": "code",
   "execution_count": 13,
   "id": "4a5c08c3",
   "metadata": {},
   "outputs": [
    {
     "data": {
      "text/plain": [
       "['pants',\n",
       " 'dress',\n",
       " 'shirt',\n",
       " 'coat',\n",
       " 'jacket',\n",
       " 'socks',\n",
       " 'hat',\n",
       " 'belt',\n",
       " 'top',\n",
       " 'crop top',\n",
       " 'boots',\n",
       " 'skirt',\n",
       " 'shorts',\n",
       " 'jeans',\n",
       " 'jumper',\n",
       " 'leggings',\n",
       " 'cap',\n",
       " 'crop',\n",
       " 'sweater']"
      ]
     },
     "execution_count": 13,
     "metadata": {},
     "output_type": "execute_result"
    }
   ],
   "source": [
    "unique_items"
   ]
  },
  {
   "cell_type": "code",
   "execution_count": 17,
   "id": "861bd616",
   "metadata": {},
   "outputs": [
    {
     "name": "stdout",
     "output_type": "stream",
     "text": [
      "CPU times: total: 0 ns\n",
      "Wall time: 0 ns\n"
     ]
    },
    {
     "data": {
      "text/plain": [
       "['boots',\n",
       " 'coat',\n",
       " 'hat',\n",
       " 'top',\n",
       " 'cap',\n",
       " 'jacket',\n",
       " 'crop top',\n",
       " 'socks',\n",
       " 'shirt',\n",
       " 'belt',\n",
       " 'sweater',\n",
       " 'skirt',\n",
       " 'crop',\n",
       " 'shorts',\n",
       " 'pants',\n",
       " 'jeans',\n",
       " 'jumper',\n",
       " 'dress',\n",
       " 'leggings']"
      ]
     },
     "execution_count": 17,
     "metadata": {},
     "output_type": "execute_result"
    }
   ],
   "source": [
    "%%time\n",
    "list(set(items_sold))"
   ]
  },
  {
   "cell_type": "markdown",
   "id": "e42f24b6",
   "metadata": {},
   "source": [
    "### • Finding Not Shared Items \n",
    "\n",
    "🔸 **Sets** operations can find **data shared**, **not shared** and **between items** efficiently without looping."
   ]
  },
  {
   "cell_type": "code",
   "execution_count": 18,
   "id": "a17e0bff",
   "metadata": {},
   "outputs": [],
   "source": [
    "items_today = [\"belt\", \"top\", \"leggings\", \"shirt\", \"belt\", \"top\", \"shirt\"]\n",
    "items_yesterday = [\"shirt\", \"jacket\", \"boots\", \"top\"]"
   ]
  },
  {
   "cell_type": "code",
   "execution_count": 22,
   "id": "c5889d6d",
   "metadata": {},
   "outputs": [
    {
     "name": "stdout",
     "output_type": "stream",
     "text": [
      "Done!\n"
     ]
    }
   ],
   "source": [
    "# Use lists and for loop\n",
    "uniques_today = []\n",
    "for item in items_today:\n",
    "    if item not in items_yesterday:\n",
    "        if item not in uniques_today:\n",
    "            uniques_today.append(item)\n",
    "print(\"Done!\")"
   ]
  },
  {
   "cell_type": "code",
   "execution_count": 23,
   "id": "79f6c222",
   "metadata": {},
   "outputs": [
    {
     "data": {
      "text/plain": [
       "['belt', 'leggings']"
      ]
     },
     "execution_count": 23,
     "metadata": {},
     "output_type": "execute_result"
    }
   ],
   "source": [
    "uniques_today"
   ]
  },
  {
   "cell_type": "code",
   "execution_count": 25,
   "id": "b7988c07",
   "metadata": {},
   "outputs": [
    {
     "data": {
      "text/plain": [
       "{'belt', 'leggings'}"
      ]
     },
     "execution_count": 25,
     "metadata": {},
     "output_type": "execute_result"
    }
   ],
   "source": [
    "# Use sets (without for loop)\n",
    "set(items_today).difference(set(items_yesterday))"
   ]
  },
  {
   "cell_type": "markdown",
   "id": "a659e201",
   "metadata": {},
   "source": [
    "---\n",
    "<a name=\"end\"></a>\n",
    "### Congrats! \n",
    "\n",
    "🔥 Let's go to the next session.\n",
    "\n",
    "📝 This Jupyter notebook has been created by [Ahmad Ahmadi](https://www.linkedin.com/in/ahmad-ahmadi95/). Please follow me and [izlearn](https://www.linkedin.com/company/izlearn) on LinkedIn social media.  \n",
    "\n",
    "🌐 Visit your website for more courses [izlearn.ir](https://izlearn.ir)"
   ]
  }
 ],
 "metadata": {
  "kernelspec": {
   "display_name": "Python 3 (ipykernel)",
   "language": "python",
   "name": "python3"
  },
  "language_info": {
   "codemirror_mode": {
    "name": "ipython",
    "version": 3
   },
   "file_extension": ".py",
   "mimetype": "text/x-python",
   "name": "python",
   "nbconvert_exporter": "python",
   "pygments_lexer": "ipython3",
   "version": "3.9.5"
  }
 },
 "nbformat": 4,
 "nbformat_minor": 5
}
