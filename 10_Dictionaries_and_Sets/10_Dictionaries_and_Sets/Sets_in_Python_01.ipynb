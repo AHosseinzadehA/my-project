{
 "cells": [
  {
   "cell_type": "markdown",
   "id": "871356a3",
   "metadata": {},
   "source": [
    "#### • Table of the content\n",
    "\n",
    "1. [Sets in Python](#1)\n",
    "    \n",
    "2. [More Info (Follow Me on LinkedIn)](#end)\n",
    "---"
   ]
  },
  {
   "cell_type": "markdown",
   "id": "b6d2ace8",
   "metadata": {},
   "source": [
    "<a name=\"1\"></a>\n",
    "## Sets in Python\n",
    "\n",
    "\n",
    "🔸 A **set** is collection of **unique** values. \n",
    "\n",
    "🔸 **Sets** are **unordered** meaning that **items** *CAN NOT* be accessed by **index** or **key**.\n",
    "\n",
    "🔸 **Sets** are **mutable** \n",
    "\n",
    "🔸 There is another type of sets called [frozenset](https://www.google.com/search?q=frozenset+in+python) (we'll not covert it in this course)\n",
    "\n",
    "---"
   ]
  },
  {
   "cell_type": "markdown",
   "id": "8d860197",
   "metadata": {},
   "source": [
    "👀 We use **`{key1:value1, key2:value2, ...}`** to create a **dictionary** in Python.\n",
    "\n",
    "👀 We use **`{item1, item2, ...}`** to create a **set** in Python.\n",
    "\n",
    "\n",
    "👇🏼 **Example** \n",
    "```python\n",
    "my_dict = {\"name\":\"Ahmad\", \"lastname\":\"Ahmadi\"}\n",
    "\n",
    "my_set = {\"Ahmad\", \"Ahmadi\"}\n",
    "```"
   ]
  },
  {
   "cell_type": "code",
   "execution_count": 1,
   "id": "e4dd7471",
   "metadata": {},
   "outputs": [],
   "source": [
    "transaction1 = ['boots', 'scarf', 'scarf', 'hat', 'sweater', 'sweater']\n",
    "transaction2 = ['boots', 'boots', 'shirt', 't-shirt', 't-shirt', 't-shirt']\n",
    "transaction3 = ['dress', 'scarf', 'scarf', 'crop top']"
   ]
  },
  {
   "cell_type": "markdown",
   "id": "b71ba959",
   "metadata": {},
   "source": [
    "### Set Basics\n",
    "\n",
    "🔸 Show the number of **unique items** for each transaction."
   ]
  },
  {
   "cell_type": "code",
   "execution_count": 2,
   "id": "ba1da6c1",
   "metadata": {},
   "outputs": [
    {
     "data": {
      "text/plain": [
       "{'boots', 'hat', 'scarf', 'sweater'}"
      ]
     },
     "execution_count": 2,
     "metadata": {},
     "output_type": "execute_result"
    }
   ],
   "source": [
    "# For transaction1:\n",
    "set(transaction1)"
   ]
  },
  {
   "cell_type": "code",
   "execution_count": 3,
   "id": "3ab7d49d",
   "metadata": {},
   "outputs": [
    {
     "data": {
      "text/plain": [
       "{'boots', 'shirt', 't-shirt'}"
      ]
     },
     "execution_count": 3,
     "metadata": {},
     "output_type": "execute_result"
    }
   ],
   "source": [
    "# For transaction2:\n",
    "set(transaction2)"
   ]
  },
  {
   "cell_type": "code",
   "execution_count": 4,
   "id": "930c1241",
   "metadata": {},
   "outputs": [
    {
     "data": {
      "text/plain": [
       "{'crop top', 'dress', 'scarf'}"
      ]
     },
     "execution_count": 4,
     "metadata": {},
     "output_type": "execute_result"
    }
   ],
   "source": [
    "# For transaction3: \n",
    "set(transaction3)"
   ]
  },
  {
   "cell_type": "markdown",
   "id": "6ef8ac7a",
   "metadata": {},
   "source": [
    "🔸 Use **len** function with **sets** to see how many items we have within it."
   ]
  },
  {
   "cell_type": "code",
   "execution_count": 5,
   "id": "23759c8a",
   "metadata": {},
   "outputs": [
    {
     "data": {
      "text/plain": [
       "3"
      ]
     },
     "execution_count": 5,
     "metadata": {},
     "output_type": "execute_result"
    }
   ],
   "source": [
    "# How many unique items in transaction2? \n",
    "len(set(transaction2))"
   ]
  },
  {
   "cell_type": "markdown",
   "id": "48e35054",
   "metadata": {},
   "source": [
    "🔸 Use **in** or **not in** to check if an item exists in a **set**."
   ]
  },
  {
   "cell_type": "code",
   "execution_count": 6,
   "id": "a8a6819a",
   "metadata": {},
   "outputs": [
    {
     "data": {
      "text/plain": [
       "False"
      ]
     },
     "execution_count": 6,
     "metadata": {},
     "output_type": "execute_result"
    }
   ],
   "source": [
    "# Check if we have 'hat' in transaction3? \n",
    "\"hat\" in set(transaction3)"
   ]
  },
  {
   "cell_type": "markdown",
   "id": "51809d7a",
   "metadata": {},
   "source": [
    "🧠 **How many** *unique items* are in total **(transaction1, transaction2 and 3)** "
   ]
  },
  {
   "cell_type": "code",
   "execution_count": 9,
   "id": "d57595c0",
   "metadata": {},
   "outputs": [],
   "source": [
    "all_items = set(transaction1 + transaction2 + transaction3)"
   ]
  },
  {
   "cell_type": "code",
   "execution_count": 10,
   "id": "b33faa2f",
   "metadata": {},
   "outputs": [
    {
     "data": {
      "text/plain": [
       "{'boots', 'crop top', 'dress', 'hat', 'scarf', 'shirt', 'sweater', 't-shirt'}"
      ]
     },
     "execution_count": 10,
     "metadata": {},
     "output_type": "execute_result"
    }
   ],
   "source": [
    "all_items"
   ]
  },
  {
   "cell_type": "code",
   "execution_count": 11,
   "id": "8441032d",
   "metadata": {},
   "outputs": [
    {
     "data": {
      "text/plain": [
       "8"
      ]
     },
     "execution_count": 11,
     "metadata": {},
     "output_type": "execute_result"
    }
   ],
   "source": [
    "len(all_items)"
   ]
  },
  {
   "cell_type": "markdown",
   "id": "a659e201",
   "metadata": {},
   "source": [
    "---\n",
    "<a name=\"end\"></a>\n",
    "### Congrats! \n",
    "\n",
    "🔥 Let's go to the next session.\n",
    "\n",
    "📝 This Jupyter notebook has been created by [Ahmad Ahmadi](https://www.linkedin.com/in/ahmad-ahmadi95/). Please follow me and [izlearn](https://www.linkedin.com/company/izlearn) on LinkedIn social media.  \n",
    "\n",
    "🌐 Visit your website for more courses [izlearn.ir](https://izlearn.ir)"
   ]
  }
 ],
 "metadata": {
  "kernelspec": {
   "display_name": "Python 3 (ipykernel)",
   "language": "python",
   "name": "python3"
  },
  "language_info": {
   "codemirror_mode": {
    "name": "ipython",
    "version": 3
   },
   "file_extension": ".py",
   "mimetype": "text/x-python",
   "name": "python",
   "nbconvert_exporter": "python",
   "pygments_lexer": "ipython3",
   "version": "3.9.5"
  }
 },
 "nbformat": 4,
 "nbformat_minor": 5
}
